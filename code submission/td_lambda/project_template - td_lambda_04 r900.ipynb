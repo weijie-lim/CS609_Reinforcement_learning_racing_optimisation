{
 "cells": [
  {
   "cell_type": "code",
   "execution_count": 1,
   "id": "66f2318e",
   "metadata": {},
   "outputs": [],
   "source": [
    "# !pip install swifter\n",
    "# !pip install ipywidgets\n",
    "# !jupyter nbextension enable --py widgetsnbextension"
   ]
  },
  {
   "cell_type": "code",
   "execution_count": 2,
   "id": "312ce7b4",
   "metadata": {},
   "outputs": [],
   "source": [
    "import numpy as np\n",
    "from copy import deepcopy\n",
    "import matplotlib.pyplot as plt\n",
    "from tqdm import tqdm\n",
    "from itertools import product\n",
    "import pickle\n",
    "import random\n",
    "import sqlite3\n",
    "import itertools\n",
    "import os\n",
    "import pandas as pd\n",
    "from collections import defaultdict\n",
    "\n",
    "np.set_printoptions(precision=3)"
   ]
  },
  {
   "cell_type": "code",
   "execution_count": 3,
   "id": "bb5f3d6a",
   "metadata": {},
   "outputs": [],
   "source": [
    "class Agent:\n",
    "    def __init__(self):\n",
    "        pass\n",
    "\n",
    "    def actRules(self, state):\n",
    "        return 1\n",
    "    \n",
    "    def actNaively(self):\n",
    "        return 4\n"
   ]
  },
  {
   "cell_type": "code",
   "execution_count": 4,
   "id": "8dc3d1f9",
   "metadata": {},
   "outputs": [],
   "source": [
    "#KEY PARAMETERS\n",
    "\n",
    "lambda_value = 0.4\n",
    "table_name = f\"gs_results_td_lambda_{lambda_value}\".replace(\".\", \"\")\n",
    "directory = \"e-greedy/agents\" #dir to create\n",
    "gs_db_name = 'e-greedy/grid_search_greedy_r900.db'"
   ]
  },
  {
   "cell_type": "markdown",
   "id": "655a9f54",
   "metadata": {},
   "source": [
    "### RADIUS SET TO 900"
   ]
  },
  {
   "cell_type": "code",
   "execution_count": 5,
   "id": "341de44c",
   "metadata": {},
   "outputs": [],
   "source": [
    "class Car:\n",
    "    def __init__(self, tyre=\"Intermediate\"):\n",
    "        self.default_tyre = tyre\n",
    "        self.possible_tyres = [\"Ultrasoft\", \"Soft\", \"Intermediate\", \"Fullwet\"]\n",
    "        self.pitstop_time = 23\n",
    "        self.reset()\n",
    "    \n",
    "    \n",
    "    def reset(self):\n",
    "        self.change_tyre(self.default_tyre)\n",
    "    \n",
    "    \n",
    "    def degrade(self, w, r):\n",
    "        if self.tyre == \"Ultrasoft\":\n",
    "            self.condition *= (1 - 0.0050*w - (2500-r)/90000)\n",
    "        elif self.tyre == \"Soft\":\n",
    "            self.condition *= (1 - 0.0051*w - (2500-r)/93000)\n",
    "        elif self.tyre == \"Intermediate\":\n",
    "            self.condition *= (1 - 0.0052*abs(0.5-w) - (2500-r)/95000)\n",
    "        elif self.tyre == \"Fullwet\":\n",
    "            self.condition *= (1 - 0.0053*(1-w) - (2500-r)/97000)\n",
    "        \n",
    "        \n",
    "    def change_tyre(self, new_tyre):\n",
    "        assert new_tyre in self.possible_tyres\n",
    "        self.tyre = new_tyre\n",
    "        self.condition = 1.00\n",
    "    \n",
    "    \n",
    "    def get_velocity(self):\n",
    "        if self.tyre == \"Ultrasoft\":\n",
    "            vel = 80.7*(0.2 + 0.8*self.condition**1.5)\n",
    "        elif self.tyre == \"Soft\":\n",
    "            vel = 80.1*(0.2 + 0.8*self.condition**1.5)\n",
    "        elif self.tyre == \"Intermediate\":\n",
    "            vel = 79.5*(0.2 + 0.8*self.condition**1.5)\n",
    "        elif self.tyre == \"Fullwet\":\n",
    "            vel = 79.0*(0.2 + 0.8*self.condition**1.5)\n",
    "        return vel\n",
    "\n",
    "    \n",
    "class Track:\n",
    "    def __init__(self, car=Car()):\n",
    "        # self.radius and self.cur_weather are defined in self.reset()\n",
    "        self.total_laps = 162\n",
    "        self.car = car\n",
    "        self.possible_weather = [\"Dry\", \"20% Wet\", \"40% Wet\", \"60% Wet\", \"80% Wet\", \"100% Wet\"]\n",
    "        self.wetness = {\n",
    "            \"Dry\": 0.00, \"20% Wet\": 0.20, \"40% Wet\": 0.40, \"60% Wet\": 0.60, \"80% Wet\": 0.80, \"100% Wet\": 1.00\n",
    "        }\n",
    "        self.p_transition = {\n",
    "            \"Dry\": {\n",
    "                \"Dry\": 0.987, \"20% Wet\": 0.013, \"40% Wet\": 0.000, \"60% Wet\": 0.000, \"80% Wet\": 0.000, \"100% Wet\": 0.000\n",
    "            },\n",
    "            \"20% Wet\": {\n",
    "                \"Dry\": 0.012, \"20% Wet\": 0.975, \"40% Wet\": 0.013, \"60% Wet\": 0.000, \"80% Wet\": 0.000, \"100% Wet\": 0.000\n",
    "            },\n",
    "            \"40% Wet\": {\n",
    "                \"Dry\": 0.000, \"20% Wet\": 0.012, \"40% Wet\": 0.975, \"60% Wet\": 0.013, \"80% Wet\": 0.000, \"100% Wet\": 0.000\n",
    "            },\n",
    "            \"60% Wet\": {\n",
    "                \"Dry\": 0.000, \"20% Wet\": 0.000, \"40% Wet\": 0.012, \"60% Wet\": 0.975, \"80% Wet\": 0.013, \"100% Wet\": 0.000\n",
    "            },\n",
    "            \"80% Wet\": {\n",
    "                \"Dry\": 0.000, \"20% Wet\": 0.000, \"40% Wet\": 0.000, \"60% Wet\": 0.012, \"80% Wet\": 0.975, \"100% Wet\": 0.013\n",
    "            },\n",
    "            \"100% Wet\": {\n",
    "                \"Dry\": 0.000, \"20% Wet\": 0.000, \"40% Wet\": 0.000, \"60% Wet\": 0.000, \"80% Wet\": 0.012, \"100% Wet\": 0.988\n",
    "            }\n",
    "        }\n",
    "        self.reset()\n",
    "    \n",
    "    \n",
    "    def reset(self):\n",
    "        # self.radius = np.random.randint(600,1201)\n",
    "        self.radius = 900\n",
    "        self.cur_weather = np.random.choice(self.possible_weather)\n",
    "        self.is_done = False\n",
    "        self.pitstop = False\n",
    "        self.laps_cleared = 0\n",
    "        self.car.reset()\n",
    "        return self._get_state()\n",
    "    \n",
    "    \n",
    "    def _get_state(self):\n",
    "        return [self.car.tyre, self.car.condition, self.cur_weather, self.radius, self.laps_cleared]\n",
    "        \n",
    "    \n",
    "    def transition(self, action=0):\n",
    "        \"\"\"\n",
    "        Args:\n",
    "            action (int):\n",
    "                0. Make a pitstop and fit new ‘Ultrasoft’ tyres\n",
    "                1. Make a pitstop and fit new ‘Soft’ tyres\n",
    "                2. Make a pitstop and fit new ‘Intermediate’ tyres\n",
    "                3. Make a pitstop and fit new ‘Fullwet’ tyres\n",
    "                4. Continue the next lap without changing tyres\n",
    "        \"\"\"\n",
    "        ## Pitstop time will be added on the first eight of the subsequent lap\n",
    "        time_taken = 0\n",
    "        if self.laps_cleared == int(self.laps_cleared):\n",
    "            if self.pitstop:\n",
    "                self.car.change_tyre(self.committed_tyre)\n",
    "                time_taken += self.car.pitstop_time\n",
    "                self.pitstop = False\n",
    "        \n",
    "        ## The environment is coded such that only an action taken at the start of the three-quarters mark of each lap matters\n",
    "        if self.laps_cleared - int(self.laps_cleared) == 0.75:\n",
    "            if action < 4:\n",
    "                self.pitstop = True\n",
    "                self.committed_tyre = self.car.possible_tyres[action]\n",
    "            else:\n",
    "                self.pitstop = False\n",
    "        \n",
    "        self.cur_weather = np.random.choice(\n",
    "            self.possible_weather, p=list(self.p_transition[self.cur_weather].values())\n",
    "        )\n",
    "        # we assume that degration happens only after a car has travelled the one-eighth lap\n",
    "        velocity = self.car.get_velocity()\n",
    "        time_taken += (2*np.pi*self.radius/8) / velocity\n",
    "        reward = 0 - time_taken\n",
    "        self.car.degrade(\n",
    "            w=self.wetness[self.cur_weather], r=self.radius\n",
    "        )\n",
    "        self.laps_cleared += 0.125\n",
    "        \n",
    "        if self.laps_cleared == self.total_laps:\n",
    "            self.is_done = True\n",
    "        \n",
    "        next_state = self._get_state()\n",
    "        return reward, next_state, self.is_done, velocity\n",
    "    \n",
    "    def step(self, action):\n",
    "        return self.transition(action)"
   ]
  },
  {
   "cell_type": "code",
   "execution_count": 6,
   "id": "e9bc5180",
   "metadata": {},
   "outputs": [],
   "source": [
    "new_car = Car()\n",
    "env = Track(new_car)\n",
    "\n",
    "agent = Agent()"
   ]
  },
  {
   "cell_type": "code",
   "execution_count": 7,
   "id": "ddc6d6a9",
   "metadata": {
    "scrolled": true
   },
   "outputs": [
    {
     "name": "stdout",
     "output_type": "stream",
     "text": [
      "G: -54962\n"
     ]
    }
   ],
   "source": [
    "#Sanity check..\n",
    "\n",
    "state = env.reset()    \n",
    "done = False\n",
    "G = 0\n",
    "while not done:\n",
    "    action = agent.actNaively()\n",
    "    reward, next_state, done, velocity = env.transition(action)\n",
    "    # added velocity for sanity check\n",
    "    # state = deepcopy(next_state)\n",
    "    state = next_state\n",
    "    G += reward\n",
    "\n",
    "print(\"G: %d\" % G)"
   ]
  },
  {
   "cell_type": "markdown",
   "id": "81524f23",
   "metadata": {},
   "source": [
    "## TDLambda Agent"
   ]
  },
  {
   "cell_type": "markdown",
   "id": "38ebdc93",
   "metadata": {},
   "source": [
    "Discretizing States:\n",
    "\n",
    "Both the current state and the next_state are discretized using the _discretize_state method. This helps in managing the Q-values in a table format for states that are continuous or too granular.\n",
    "Initialization of Q-values and Eligibility Traces:\n",
    "\n",
    "If the current state or next_state is not in the Q-table (Q), it's added with an initial Q-value of zero for all actions.\n",
    "Similarly, if the current state is not in the eligibility traces table (E), it's added with an initial eligibility trace of zero for all actions.\n",
    "Temporal Difference (TD) Error Calculation:\n",
    "\n",
    "The agent calculates the best action for the next_state based on the current Q-values.\n",
    "The TD error is then computed. It's the difference between the expected Q-value (based on the received reward and the estimated future reward for next_state) and the current Q-value for the taken action at state.\n",
    "Eligibility Trace Update:\n",
    "\n",
    "The eligibility trace for the current state-action pair (state, action) is incremented by 1.\n",
    "This helps in assigning \"credit\" or \"blame\" for this state-action pair for any future reward or punishment. SARSA(λ) updates not just the current state-action pair but also the recent ones based on their eligibility traces.\n",
    "Ensure All States in Q have an Eligibility Trace:\n",
    "\n",
    "The agent makes sure that for all states in the Q-table, there's a corresponding entry in the eligibility traces table. If not, it adds them with a value of zero.\n",
    "Update Q-values Using TD Error and Eligibility Traces:\n",
    "\n",
    "The Q-values for all state-action pairs are updated based on the TD error and their respective eligibility traces. The greater the eligibility trace for a state-action pair, the more it gets updated.\n",
    "This is the heart of the SARSA(λ) algorithm, allowing the Q-value updates to be spread out not just to the current state-action pair but also to the previous ones based on their eligibility.\n",
    "Decay All Eligibility Traces:\n",
    "\n",
    "After updating the Q-values, the eligibility traces for all state-action pairs are decayed by a factor of gamma * td_lambda. This ensures that the traces for older state-action pairs decrease over time, giving more importance to recent state-action pairs for future Q-value updates.\n",
    "In essence, the update method blends the strengths of both SARSA and eligibility traces, providing a more sophisticated update mechanism that takes into account both immediate and more distant state-action pairs when adjusting Q-values."
   ]
  },
  {
   "cell_type": "code",
   "execution_count": 8,
   "id": "6bd5a956",
   "metadata": {},
   "outputs": [
    {
     "name": "stderr",
     "output_type": "stream",
     "text": [
      "  0%|          | 0/10 [00:00<?, ?it/s]"
     ]
    },
    {
     "name": "stderr",
     "output_type": "stream",
     "text": [
      "100%|██████████| 10/10 [09:45<00:00, 58.59s/it]\n",
      "100%|██████████| 5/5 [00:00<00:00, 13.71it/s]"
     ]
    },
    {
     "name": "stdout",
     "output_type": "stream",
     "text": [
      "Average reward over 5 episodes: -17070.160654665553\n"
     ]
    },
    {
     "name": "stderr",
     "output_type": "stream",
     "text": [
      "\n"
     ]
    }
   ],
   "source": [
    "class TDLambdaAgent:\n",
    "    def __init__(self, epsilon=0.1, epsilon_decay=0.995, alpha=0.1,\n",
    "                  gamma=0.99, td_lambda=lambda_value, n_actions=5,\n",
    "                    no_change_after_lap=150, state_space_discretization=100):\n",
    "        self.epsilon = epsilon\n",
    "        self.alpha = alpha\n",
    "        self.gamma = gamma\n",
    "        self.Q = defaultdict(lambda: np.zeros(self.n_actions))\n",
    "        self.E = defaultdict(lambda: np.zeros(self.n_actions))  # Eligibility traces\n",
    "        self.n_actions = n_actions\n",
    "        self.state_space_discretization = state_space_discretization\n",
    "        self.epsilon_decay = epsilon_decay\n",
    "        self.no_change_after_lap = no_change_after_lap\n",
    "        self.td_lambda = td_lambda\n",
    "        \n",
    "    def _discretize_state(self, state):\n",
    "        tyre, condition, weather, radius, laps_cleared = state\n",
    "        condition = int(condition * self.state_space_discretization)\n",
    "        \n",
    "        # Discretizing the radius as well by rounding to nearest hundred\n",
    "        radius = round(radius, -2)\n",
    "        return (tyre, condition, weather, radius, laps_cleared)\n",
    "    \n",
    "    def act(self, state):\n",
    "        state = self._discretize_state(state)\n",
    "        _, _, _, _, laps_cleared = state\n",
    "        \n",
    "        if np.random.rand() < self.epsilon:\n",
    "            if laps_cleared >= self.no_change_after_lap:\n",
    "                return 4  # Don't change tires\n",
    "            return np.random.choice(self.n_actions)\n",
    "        else:\n",
    "            action = np.argmax(self.Q.get(state, np.zeros(self.n_actions)))\n",
    "            if laps_cleared >= self.no_change_after_lap and action < 4:\n",
    "                return 4  # Don't change tires\n",
    "            return action\n",
    "        \n",
    "    def update(self, state, action, reward, next_state):\n",
    "        state = self._discretize_state(state)\n",
    "        next_state = self._discretize_state(next_state)\n",
    "        \n",
    "        best_next_action = np.argmax(self.Q[next_state])\n",
    "        td_error = reward + self.gamma * self.Q[next_state][best_next_action] - self.Q[state][action]\n",
    "        \n",
    "        # Increment the eligibility trace for the current state-action pair\n",
    "        self.E[state][action] += 1  \n",
    "        \n",
    "        # Update Q-values for all state-action pairs using TD error and the eligibility traces\n",
    "        for s, actions in self.Q.items():\n",
    "            for a in range(self.n_actions):\n",
    "                self.Q[s][a] += self.alpha * td_error * self.E[s][a]\n",
    "                \n",
    "                # Decay the eligibility trace for the state-action pair\n",
    "                self.E[s][a] *= self.gamma * self.td_lambda\n",
    "\n",
    "# Training the agent\n",
    "agent = TDLambdaAgent()\n",
    "\n",
    "num_episodes = 10\n",
    "eval_episodes = 5\n",
    "\n",
    "episode_rewards = []\n",
    "for episode in tqdm(range(num_episodes)):\n",
    "    state = env.reset()\n",
    "    done = False\n",
    "    episode_reward = 0\n",
    "    while not done:\n",
    "        action = agent.act(state)\n",
    "        reward, next_state, done, _ = env.step(action)\n",
    "        agent.update(state, action, reward, next_state)\n",
    "        # state = deepcopy(next_state)\n",
    "        state = next_state\n",
    "        episode_reward += reward\n",
    "    episode_rewards.append(episode_reward)\n",
    "    agent.epsilon *= agent.epsilon_decay\n",
    "    \n",
    "# Evaluating the agent\n",
    "total_rewards = []\n",
    "for _ in tqdm(range(eval_episodes)):\n",
    "    state = env.reset()\n",
    "    done = False\n",
    "    episode_reward = 0\n",
    "    while not done:\n",
    "        action = agent.act(state)\n",
    "        reward, next_state, done, _ = env.step(action)\n",
    "        # state = deepcopy(next_state)\n",
    "        state = next_state\n",
    "        episode_reward += reward\n",
    "    total_rewards.append(episode_reward)\n",
    "\n",
    "print(f\"Average reward over {eval_episodes} episodes: {np.mean(total_rewards)}\")\n"
   ]
  },
  {
   "cell_type": "code",
   "execution_count": 9,
   "id": "8b0c99ed",
   "metadata": {},
   "outputs": [],
   "source": [
    "num_episodes = 5\n",
    "eval_episodes = 1\n",
    "\n",
    "# Grid Search\n",
    "\"\"\"\n",
    "param_grid: dict\n",
    "    A dictionary containing hyperparameters and their possible values to be explored during grid search. Each key represents a hyperparameter, and its corresponding value is a list of values that will be tested for that hyperparameter.\n",
    "\n",
    "    Parameters:\n",
    "    - epsilon: list of floats\n",
    "        The initial exploration rate for the epsilon-greedy policy. Values represent the probability at which the agent will explore, i.e., take random actions. Higher values mean more exploration and less exploitation.\n",
    "\n",
    "    - epsilon_decay: list of floats\n",
    "        The rate at which epsilon will be reduced after each episode. Values are in the range (0, 1) with values closer to 1 meaning a slower decay of epsilon over time.\n",
    "\n",
    "    - alpha: list of floats\n",
    "        The learning rate for the Q-learning algorithm. Determines to what extent newly acquired information overrides old information. A value of 0 would make the agent not learn anything, while a value of 1 would make the agent consider only the most recent information.\n",
    "\n",
    "    - gamma: list of floats\n",
    "        The discount factor for the Q-learning algorithm. Represents the agent's consideration for future rewards. A value of 0 makes the agent short-sighted by only considering current rewards, while a value close to 1 will make it aim for a long-term high reward.\n",
    "\n",
    "    - no_change_after_lap: list of integers\n",
    "        Specifies the lap number after which the agent will not change tires. If the current lap exceeds this number, actions to change tires will not be taken.\n",
    "\"\"\"\n",
    "param_grid = {\n",
    "    'epsilon': [0.0, 0.025, 0.05, 0.1, 0.2],\n",
    "    'epsilon_decay': [0.990, 0.995, 0.999],\n",
    "    'alpha': [0.0, 0.2, 0.4, 0.6, 0.8, 0.9, 1.0],\n",
    "    'gamma': [0.0, 0.2, 0.4, 0.6, 0.8, 0.9, 1.0],\n",
    "    'no_change_after_lap': [x for x in range(100, 161, 5)]\n",
    "}"
   ]
  },
  {
   "cell_type": "code",
   "execution_count": 10,
   "id": "a9ce3eca",
   "metadata": {},
   "outputs": [],
   "source": [
    "def setup_database():\n",
    "    conn = sqlite3.connect(gs_db_name)\n",
    "    c = conn.cursor()\n",
    "    c.execute(f'''CREATE TABLE IF NOT EXISTS {table_name}\n",
    "                 (epsilon real, epsilon_decay real, alpha real, gamma real, no_change_after_lap integer, \n",
    "                  avg_last_50 real, min_last_50 real, max_last_50 real, \n",
    "                  eval_avg real, overall_avg real)''')\n",
    "    conn.commit()\n",
    "    conn.close()\n",
    "\n",
    "setup_database()"
   ]
  },
  {
   "cell_type": "code",
   "execution_count": 11,
   "id": "3661e739",
   "metadata": {},
   "outputs": [
    {
     "name": "stdout",
     "output_type": "stream",
     "text": [
      "Total combinations: 9555\n"
     ]
    },
    {
     "name": "stderr",
     "output_type": "stream",
     "text": [
      "0it [00:00, ?it/s]"
     ]
    },
    {
     "name": "stdout",
     "output_type": "stream",
     "text": [
      "5\n",
      "\n",
      "Running combination 1/9555 with parameters: {'epsilon': 0.0, 'epsilon_decay': 0.999, 'alpha': 0.9, 'gamma': 0.2, 'no_change_after_lap': 100}\n",
      "    Training Episode 0/5\n"
     ]
    },
    {
     "name": "stderr",
     "output_type": "stream",
     "text": [
      "1it [02:35, 155.77s/it]"
     ]
    },
    {
     "name": "stdout",
     "output_type": "stream",
     "text": [
      "    Evaluation Episode 0/1\n",
      "    Average Reward over last 50 episodes: -29373.54\n",
      "    Min Reward over last 50 episodes: -29579.03\n",
      "    Max Reward over last 50 episodes: -29222.13\n",
      "    Evaluation Average Reward: -29556.56\n",
      "\n",
      "Running combination 2/9555 with parameters: {'epsilon': 0.0, 'epsilon_decay': 0.995, 'alpha': 0.9, 'gamma': 0.4, 'no_change_after_lap': 100}\n",
      "    Training Episode 0/5\n"
     ]
    },
    {
     "name": "stderr",
     "output_type": "stream",
     "text": [
      "2it [05:25, 164.05s/it]"
     ]
    },
    {
     "name": "stdout",
     "output_type": "stream",
     "text": [
      "    Evaluation Episode 0/1\n",
      "    Average Reward over last 50 episodes: -29386.18\n",
      "    Min Reward over last 50 episodes: -29756.13\n",
      "    Max Reward over last 50 episodes: -29063.06\n",
      "    Evaluation Average Reward: -29588.14\n",
      "\n",
      "Running combination 3/9555 with parameters: {'epsilon': 0.05, 'epsilon_decay': 0.999, 'alpha': 0.9, 'gamma': 0.2, 'no_change_after_lap': 160}\n",
      "    Training Episode 0/5\n"
     ]
    },
    {
     "name": "stderr",
     "output_type": "stream",
     "text": [
      "3it [08:47, 181.24s/it]"
     ]
    },
    {
     "name": "stdout",
     "output_type": "stream",
     "text": [
      "    Evaluation Episode 0/1\n",
      "    Average Reward over last 50 episodes: -16029.95\n",
      "    Min Reward over last 50 episodes: -16096.48\n",
      "    Max Reward over last 50 episodes: -15971.01\n",
      "    Evaluation Average Reward: -16118.74\n",
      "\n",
      "Running combination 4/9555 with parameters: {'epsilon': 0.0, 'epsilon_decay': 0.995, 'alpha': 0.0, 'gamma': 0.8, 'no_change_after_lap': 150}\n",
      "    Training Episode 0/5\n"
     ]
    },
    {
     "name": "stderr",
     "output_type": "stream",
     "text": [
      "4it [11:34, 175.79s/it]"
     ]
    },
    {
     "name": "stdout",
     "output_type": "stream",
     "text": [
      "    Evaluation Episode 0/1\n",
      "    Average Reward over last 50 episodes: -17063.42\n",
      "    Min Reward over last 50 episodes: -17322.82\n",
      "    Max Reward over last 50 episodes: -16839.96\n",
      "    Evaluation Average Reward: -17198.61\n",
      "\n",
      "Running combination 5/9555 with parameters: {'epsilon': 0.1, 'epsilon_decay': 0.999, 'alpha': 0.9, 'gamma': 0.0, 'no_change_after_lap': 125}\n",
      "    Training Episode 0/5\n"
     ]
    },
    {
     "name": "stderr",
     "output_type": "stream",
     "text": [
      "5it [13:59, 164.77s/it]"
     ]
    },
    {
     "name": "stdout",
     "output_type": "stream",
     "text": [
      "    Evaluation Episode 0/1\n",
      "    Average Reward over last 50 episodes: -23036.05\n",
      "    Min Reward over last 50 episodes: -23263.44\n",
      "    Max Reward over last 50 episodes: -22749.25\n",
      "    Evaluation Average Reward: -23697.25\n",
      "\n",
      "Running combination 6/9555 with parameters: {'epsilon': 0.0, 'epsilon_decay': 0.999, 'alpha': 0.4, 'gamma': 0.6, 'no_change_after_lap': 135}\n",
      "    Training Episode 0/5\n"
     ]
    },
    {
     "name": "stderr",
     "output_type": "stream",
     "text": [
      "6it [16:11, 153.50s/it]"
     ]
    },
    {
     "name": "stdout",
     "output_type": "stream",
     "text": [
      "    Evaluation Episode 0/1\n",
      "    Average Reward over last 50 episodes: -20490.77\n",
      "    Min Reward over last 50 episodes: -20875.32\n",
      "    Max Reward over last 50 episodes: -20232.12\n",
      "    Evaluation Average Reward: -20637.24\n",
      "\n",
      "Running combination 7/9555 with parameters: {'epsilon': 0.025, 'epsilon_decay': 0.99, 'alpha': 0.4, 'gamma': 0.8, 'no_change_after_lap': 140}\n",
      "    Training Episode 0/5\n"
     ]
    },
    {
     "name": "stderr",
     "output_type": "stream",
     "text": [
      "7it [18:26, 147.48s/it]"
     ]
    },
    {
     "name": "stdout",
     "output_type": "stream",
     "text": [
      "    Evaluation Episode 0/1\n",
      "    Average Reward over last 50 episodes: -19344.26\n",
      "    Min Reward over last 50 episodes: -19554.81\n",
      "    Max Reward over last 50 episodes: -19067.34\n",
      "    Evaluation Average Reward: -19161.66\n",
      "\n",
      "Running combination 8/9555 with parameters: {'epsilon': 0.05, 'epsilon_decay': 0.99, 'alpha': 0.0, 'gamma': 0.2, 'no_change_after_lap': 135}\n",
      "    Training Episode 0/5\n"
     ]
    },
    {
     "name": "stderr",
     "output_type": "stream",
     "text": [
      "8it [20:29, 139.77s/it]"
     ]
    },
    {
     "name": "stdout",
     "output_type": "stream",
     "text": [
      "    Evaluation Episode 0/1\n",
      "    Average Reward over last 50 episodes: -20526.43\n",
      "    Min Reward over last 50 episodes: -20830.36\n",
      "    Max Reward over last 50 episodes: -20284.14\n",
      "    Evaluation Average Reward: -20854.99\n",
      "\n",
      "Running combination 9/9555 with parameters: {'epsilon': 0.05, 'epsilon_decay': 0.99, 'alpha': 0.9, 'gamma': 0.9, 'no_change_after_lap': 145}\n",
      "    Training Episode 0/5\n"
     ]
    },
    {
     "name": "stderr",
     "output_type": "stream",
     "text": [
      "9it [22:44, 138.23s/it]"
     ]
    },
    {
     "name": "stdout",
     "output_type": "stream",
     "text": [
      "    Evaluation Episode 0/1\n",
      "    Average Reward over last 50 episodes: -18078.46\n",
      "    Min Reward over last 50 episodes: -18276.77\n",
      "    Max Reward over last 50 episodes: -17889.44\n",
      "    Evaluation Average Reward: -18394.32\n",
      "SKIPPING\n",
      "\n",
      "Running combination 10/9555 with parameters: {'epsilon': 0.025, 'epsilon_decay': 0.999, 'alpha': 0.6, 'gamma': 0.4, 'no_change_after_lap': 150}\n",
      "    Training Episode 0/5\n"
     ]
    },
    {
     "name": "stderr",
     "output_type": "stream",
     "text": [
      "10it [24:58, 136.73s/it]"
     ]
    },
    {
     "name": "stdout",
     "output_type": "stream",
     "text": [
      "    Evaluation Episode 0/1\n",
      "    Average Reward over last 50 episodes: -17088.70\n",
      "    Min Reward over last 50 episodes: -17325.06\n",
      "    Max Reward over last 50 episodes: -16903.56\n",
      "    Evaluation Average Reward: -17091.80\n",
      "\n",
      "Running combination 11/9555 with parameters: {'epsilon': 0.025, 'epsilon_decay': 0.995, 'alpha': 0.6, 'gamma': 0.6, 'no_change_after_lap': 135}\n",
      "    Training Episode 0/5\n"
     ]
    },
    {
     "name": "stderr",
     "output_type": "stream",
     "text": [
      "11it [27:06, 134.25s/it]"
     ]
    },
    {
     "name": "stdout",
     "output_type": "stream",
     "text": [
      "    Evaluation Episode 0/1\n",
      "    Average Reward over last 50 episodes: -20691.61\n",
      "    Min Reward over last 50 episodes: -20869.30\n",
      "    Max Reward over last 50 episodes: -20290.04\n",
      "    Evaluation Average Reward: -20650.46\n",
      "\n",
      "Running combination 12/9555 with parameters: {'epsilon': 0.1, 'epsilon_decay': 0.995, 'alpha': 0.6, 'gamma': 0.4, 'no_change_after_lap': 140}\n",
      "    Training Episode 0/5\n"
     ]
    },
    {
     "name": "stderr",
     "output_type": "stream",
     "text": [
      "12it [29:19, 133.74s/it]"
     ]
    },
    {
     "name": "stdout",
     "output_type": "stream",
     "text": [
      "    Evaluation Episode 0/1\n",
      "    Average Reward over last 50 episodes: -19290.08\n",
      "    Min Reward over last 50 episodes: -19493.11\n",
      "    Max Reward over last 50 episodes: -19118.50\n",
      "    Evaluation Average Reward: -19236.41\n",
      "\n",
      "Running combination 13/9555 with parameters: {'epsilon': 0.025, 'epsilon_decay': 0.995, 'alpha': 0.2, 'gamma': 0.2, 'no_change_after_lap': 115}\n",
      "    Training Episode 0/5\n"
     ]
    },
    {
     "name": "stderr",
     "output_type": "stream",
     "text": [
      "13it [31:31, 133.34s/it]"
     ]
    },
    {
     "name": "stdout",
     "output_type": "stream",
     "text": [
      "    Evaluation Episode 0/1\n",
      "    Average Reward over last 50 episodes: -25608.70\n",
      "    Min Reward over last 50 episodes: -25868.51\n",
      "    Max Reward over last 50 episodes: -25395.81\n",
      "    Evaluation Average Reward: -25625.58\n",
      "\n",
      "Running combination 14/9555 with parameters: {'epsilon': 0.05, 'epsilon_decay': 0.99, 'alpha': 0.4, 'gamma': 0.2, 'no_change_after_lap': 145}\n",
      "    Training Episode 0/5\n"
     ]
    },
    {
     "name": "stderr",
     "output_type": "stream",
     "text": [
      "14it [33:41, 132.18s/it]"
     ]
    },
    {
     "name": "stdout",
     "output_type": "stream",
     "text": [
      "    Evaluation Episode 0/1\n",
      "    Average Reward over last 50 episodes: -18120.08\n",
      "    Min Reward over last 50 episodes: -18290.81\n",
      "    Max Reward over last 50 episodes: -17974.24\n",
      "    Evaluation Average Reward: -18278.50\n",
      "\n",
      "Running combination 15/9555 with parameters: {'epsilon': 0.0, 'epsilon_decay': 0.999, 'alpha': 0.4, 'gamma': 0.0, 'no_change_after_lap': 115}\n",
      "    Training Episode 0/5\n"
     ]
    },
    {
     "name": "stderr",
     "output_type": "stream",
     "text": [
      "15it [35:50, 131.16s/it]"
     ]
    },
    {
     "name": "stdout",
     "output_type": "stream",
     "text": [
      "    Evaluation Episode 0/1\n",
      "    Average Reward over last 50 episodes: -25580.59\n",
      "    Min Reward over last 50 episodes: -25879.27\n",
      "    Max Reward over last 50 episodes: -25217.65\n",
      "    Evaluation Average Reward: -25481.00\n",
      "\n",
      "Running combination 16/9555 with parameters: {'epsilon': 0.1, 'epsilon_decay': 0.99, 'alpha': 0.6, 'gamma': 0.6, 'no_change_after_lap': 130}\n",
      "    Training Episode 0/5\n"
     ]
    },
    {
     "name": "stderr",
     "output_type": "stream",
     "text": [
      "16it [38:02, 131.42s/it]"
     ]
    },
    {
     "name": "stdout",
     "output_type": "stream",
     "text": [
      "    Evaluation Episode 0/1\n",
      "    Average Reward over last 50 episodes: -21606.16\n",
      "    Min Reward over last 50 episodes: -21734.91\n",
      "    Max Reward over last 50 episodes: -21486.29\n",
      "    Evaluation Average Reward: -22123.46\n",
      "\n",
      "Running combination 17/9555 with parameters: {'epsilon': 0.025, 'epsilon_decay': 0.999, 'alpha': 1.0, 'gamma': 0.2, 'no_change_after_lap': 125}\n",
      "    Training Episode 0/5\n"
     ]
    },
    {
     "name": "stderr",
     "output_type": "stream",
     "text": [
      "17it [40:16, 132.23s/it]"
     ]
    },
    {
     "name": "stdout",
     "output_type": "stream",
     "text": [
      "    Evaluation Episode 0/1\n",
      "    Average Reward over last 50 episodes: -22977.73\n",
      "    Min Reward over last 50 episodes: -23064.62\n",
      "    Max Reward over last 50 episodes: -22910.50\n",
      "    Evaluation Average Reward: -23059.65\n",
      "\n",
      "Running combination 18/9555 with parameters: {'epsilon': 0.0, 'epsilon_decay': 0.999, 'alpha': 0.6, 'gamma': 0.6, 'no_change_after_lap': 115}\n",
      "    Training Episode 0/5\n"
     ]
    },
    {
     "name": "stderr",
     "output_type": "stream",
     "text": [
      "18it [42:27, 131.96s/it]"
     ]
    },
    {
     "name": "stdout",
     "output_type": "stream",
     "text": [
      "    Evaluation Episode 0/1\n",
      "    Average Reward over last 50 episodes: -25571.45\n",
      "    Min Reward over last 50 episodes: -25800.85\n",
      "    Max Reward over last 50 episodes: -25304.22\n",
      "    Evaluation Average Reward: -25508.44\n",
      "\n",
      "Running combination 19/9555 with parameters: {'epsilon': 0.1, 'epsilon_decay': 0.999, 'alpha': 0.4, 'gamma': 0.8, 'no_change_after_lap': 115}\n",
      "    Training Episode 0/5\n"
     ]
    },
    {
     "name": "stderr",
     "output_type": "stream",
     "text": [
      "19it [44:38, 131.66s/it]"
     ]
    },
    {
     "name": "stdout",
     "output_type": "stream",
     "text": [
      "    Evaluation Episode 0/1\n",
      "    Average Reward over last 50 episodes: -25672.79\n",
      "    Min Reward over last 50 episodes: -25906.91\n",
      "    Max Reward over last 50 episodes: -25323.98\n",
      "    Evaluation Average Reward: -25741.53\n",
      "\n",
      "Running combination 20/9555 with parameters: {'epsilon': 0.1, 'epsilon_decay': 0.999, 'alpha': 0.8, 'gamma': 0.6, 'no_change_after_lap': 155}\n",
      "    Training Episode 0/5\n"
     ]
    },
    {
     "name": "stderr",
     "output_type": "stream",
     "text": [
      "20it [46:48, 131.09s/it]"
     ]
    },
    {
     "name": "stdout",
     "output_type": "stream",
     "text": [
      "    Evaluation Episode 0/1\n",
      "    Average Reward over last 50 episodes: -16323.97\n",
      "    Min Reward over last 50 episodes: -16435.90\n",
      "    Max Reward over last 50 episodes: -16231.03\n",
      "    Evaluation Average Reward: -16395.41\n",
      "\n",
      "Running combination 21/9555 with parameters: {'epsilon': 0.025, 'epsilon_decay': 0.999, 'alpha': 0.6, 'gamma': 0.2, 'no_change_after_lap': 105}\n",
      "    Training Episode 0/5\n"
     ]
    },
    {
     "name": "stderr",
     "output_type": "stream",
     "text": [
      "21it [48:50, 128.32s/it]"
     ]
    },
    {
     "name": "stdout",
     "output_type": "stream",
     "text": [
      "    Evaluation Episode 0/1\n",
      "    Average Reward over last 50 episodes: -27933.60\n",
      "    Min Reward over last 50 episodes: -28172.21\n",
      "    Max Reward over last 50 episodes: -27719.56\n",
      "    Evaluation Average Reward: -27991.34\n",
      "\n",
      "Running combination 22/9555 with parameters: {'epsilon': 0.0, 'epsilon_decay': 0.99, 'alpha': 0.8, 'gamma': 0.4, 'no_change_after_lap': 145}\n",
      "    Training Episode 0/5\n"
     ]
    },
    {
     "name": "stderr",
     "output_type": "stream",
     "text": [
      "22it [51:01, 129.23s/it]"
     ]
    },
    {
     "name": "stdout",
     "output_type": "stream",
     "text": [
      "    Evaluation Episode 0/1\n",
      "    Average Reward over last 50 episodes: -18188.38\n",
      "    Min Reward over last 50 episodes: -18317.62\n",
      "    Max Reward over last 50 episodes: -17971.05\n",
      "    Evaluation Average Reward: -18355.93\n",
      "\n",
      "Running combination 23/9555 with parameters: {'epsilon': 0.05, 'epsilon_decay': 0.99, 'alpha': 0.6, 'gamma': 0.9, 'no_change_after_lap': 100}\n",
      "    Training Episode 0/5\n"
     ]
    },
    {
     "name": "stderr",
     "output_type": "stream",
     "text": [
      "23it [53:12, 129.86s/it]"
     ]
    },
    {
     "name": "stdout",
     "output_type": "stream",
     "text": [
      "    Evaluation Episode 0/1\n",
      "    Average Reward over last 50 episodes: -29378.97\n",
      "    Min Reward over last 50 episodes: -29642.11\n",
      "    Max Reward over last 50 episodes: -29035.57\n",
      "    Evaluation Average Reward: -29378.16\n",
      "\n",
      "Running combination 24/9555 with parameters: {'epsilon': 0.025, 'epsilon_decay': 0.99, 'alpha': 0.8, 'gamma': 0.8, 'no_change_after_lap': 120}\n",
      "    Training Episode 0/5\n"
     ]
    },
    {
     "name": "stderr",
     "output_type": "stream",
     "text": [
      "24it [55:23, 130.07s/it]"
     ]
    },
    {
     "name": "stdout",
     "output_type": "stream",
     "text": [
      "    Evaluation Episode 0/1\n",
      "    Average Reward over last 50 episodes: -24329.64\n",
      "    Min Reward over last 50 episodes: -24433.62\n",
      "    Max Reward over last 50 episodes: -24182.85\n",
      "    Evaluation Average Reward: -24598.90\n",
      "\n",
      "Running combination 25/9555 with parameters: {'epsilon': 0.0, 'epsilon_decay': 0.999, 'alpha': 0.6, 'gamma': 0.8, 'no_change_after_lap': 135}\n",
      "    Training Episode 0/5\n"
     ]
    },
    {
     "name": "stderr",
     "output_type": "stream",
     "text": [
      "25it [57:30, 129.12s/it]"
     ]
    },
    {
     "name": "stdout",
     "output_type": "stream",
     "text": [
      "    Evaluation Episode 0/1\n",
      "    Average Reward over last 50 episodes: -20755.51\n",
      "    Min Reward over last 50 episodes: -20920.96\n",
      "    Max Reward over last 50 episodes: -20367.97\n",
      "    Evaluation Average Reward: -20690.65\n",
      "\n",
      "Running combination 26/9555 with parameters: {'epsilon': 0.2, 'epsilon_decay': 0.995, 'alpha': 0.0, 'gamma': 0.6, 'no_change_after_lap': 135}\n",
      "    Training Episode 0/5\n"
     ]
    },
    {
     "name": "stderr",
     "output_type": "stream",
     "text": [
      "26it [59:32, 127.13s/it]"
     ]
    },
    {
     "name": "stdout",
     "output_type": "stream",
     "text": [
      "    Evaluation Episode 0/1\n",
      "    Average Reward over last 50 episodes: -20529.26\n",
      "    Min Reward over last 50 episodes: -20883.36\n",
      "    Max Reward over last 50 episodes: -20226.15\n",
      "    Evaluation Average Reward: -20780.42\n",
      "\n",
      "Running combination 27/9555 with parameters: {'epsilon': 0.05, 'epsilon_decay': 0.99, 'alpha': 0.6, 'gamma': 0.4, 'no_change_after_lap': 105}\n",
      "    Training Episode 0/5\n"
     ]
    },
    {
     "name": "stderr",
     "output_type": "stream",
     "text": [
      "27it [1:01:36, 126.12s/it]"
     ]
    },
    {
     "name": "stdout",
     "output_type": "stream",
     "text": [
      "    Evaluation Episode 0/1\n",
      "    Average Reward over last 50 episodes: -28363.12\n",
      "    Min Reward over last 50 episodes: -28603.69\n",
      "    Max Reward over last 50 episodes: -28140.80\n",
      "    Evaluation Average Reward: -27723.94\n",
      "\n",
      "Running combination 28/9555 with parameters: {'epsilon': 0.025, 'epsilon_decay': 0.99, 'alpha': 0.6, 'gamma': 0.9, 'no_change_after_lap': 115}\n",
      "    Training Episode 0/5\n"
     ]
    },
    {
     "name": "stderr",
     "output_type": "stream",
     "text": [
      "28it [1:03:47, 127.46s/it]"
     ]
    },
    {
     "name": "stdout",
     "output_type": "stream",
     "text": [
      "    Evaluation Episode 0/1\n",
      "    Average Reward over last 50 episodes: -25515.66\n",
      "    Min Reward over last 50 episodes: -25867.89\n",
      "    Max Reward over last 50 episodes: -25280.29\n",
      "    Evaluation Average Reward: -25276.44\n",
      "\n",
      "Running combination 29/9555 with parameters: {'epsilon': 0.025, 'epsilon_decay': 0.99, 'alpha': 0.0, 'gamma': 0.6, 'no_change_after_lap': 115}\n",
      "    Training Episode 0/5\n"
     ]
    },
    {
     "name": "stderr",
     "output_type": "stream",
     "text": [
      "29it [1:05:45, 124.86s/it]"
     ]
    },
    {
     "name": "stdout",
     "output_type": "stream",
     "text": [
      "    Evaluation Episode 0/1\n",
      "    Average Reward over last 50 episodes: -25593.16\n",
      "    Min Reward over last 50 episodes: -25864.20\n",
      "    Max Reward over last 50 episodes: -25338.97\n",
      "    Evaluation Average Reward: -25525.31\n",
      "\n",
      "Running combination 30/9555 with parameters: {'epsilon': 0.1, 'epsilon_decay': 0.99, 'alpha': 0.0, 'gamma': 0.4, 'no_change_after_lap': 100}\n",
      "    Training Episode 0/5\n"
     ]
    },
    {
     "name": "stderr",
     "output_type": "stream",
     "text": [
      "30it [1:07:47, 123.81s/it]"
     ]
    },
    {
     "name": "stdout",
     "output_type": "stream",
     "text": [
      "    Evaluation Episode 0/1\n",
      "    Average Reward over last 50 episodes: -29376.22\n",
      "    Min Reward over last 50 episodes: -29583.24\n",
      "    Max Reward over last 50 episodes: -29027.49\n",
      "    Evaluation Average Reward: -28961.56\n",
      "\n",
      "Running combination 31/9555 with parameters: {'epsilon': 0.1, 'epsilon_decay': 0.995, 'alpha': 0.0, 'gamma': 0.8, 'no_change_after_lap': 110}\n",
      "    Training Episode 0/5\n"
     ]
    },
    {
     "name": "stderr",
     "output_type": "stream",
     "text": [
      "31it [1:09:52, 124.24s/it]"
     ]
    },
    {
     "name": "stdout",
     "output_type": "stream",
     "text": [
      "    Evaluation Episode 0/1\n",
      "    Average Reward over last 50 episodes: -26915.18\n",
      "    Min Reward over last 50 episodes: -27030.40\n",
      "    Max Reward over last 50 episodes: -26720.23\n",
      "    Evaluation Average Reward: -26774.31\n",
      "\n",
      "Running combination 32/9555 with parameters: {'epsilon': 0.025, 'epsilon_decay': 0.99, 'alpha': 0.4, 'gamma': 0.9, 'no_change_after_lap': 160}\n",
      "    Training Episode 0/5\n"
     ]
    },
    {
     "name": "stderr",
     "output_type": "stream",
     "text": [
      "32it [1:12:04, 126.44s/it]"
     ]
    },
    {
     "name": "stdout",
     "output_type": "stream",
     "text": [
      "    Evaluation Episode 0/1\n",
      "    Average Reward over last 50 episodes: -16080.32\n",
      "    Min Reward over last 50 episodes: -16110.35\n",
      "    Max Reward over last 50 episodes: -16036.46\n",
      "    Evaluation Average Reward: -16046.58\n",
      "\n",
      "Running combination 33/9555 with parameters: {'epsilon': 0.1, 'epsilon_decay': 0.995, 'alpha': 0.8, 'gamma': 0.8, 'no_change_after_lap': 115}\n",
      "    Training Episode 0/5\n"
     ]
    },
    {
     "name": "stderr",
     "output_type": "stream",
     "text": [
      "33it [1:14:13, 127.36s/it]"
     ]
    },
    {
     "name": "stdout",
     "output_type": "stream",
     "text": [
      "    Evaluation Episode 0/1\n",
      "    Average Reward over last 50 episodes: -25640.75\n",
      "    Min Reward over last 50 episodes: -25841.92\n",
      "    Max Reward over last 50 episodes: -25428.15\n",
      "    Evaluation Average Reward: -25302.59\n",
      "\n",
      "Running combination 34/9555 with parameters: {'epsilon': 0.0, 'epsilon_decay': 0.999, 'alpha': 0.0, 'gamma': 0.0, 'no_change_after_lap': 110}\n",
      "    Training Episode 0/5\n"
     ]
    },
    {
     "name": "stderr",
     "output_type": "stream",
     "text": [
      "34it [1:16:04, 122.28s/it]"
     ]
    },
    {
     "name": "stdout",
     "output_type": "stream",
     "text": [
      "    Evaluation Episode 0/1\n",
      "    Average Reward over last 50 episodes: -26635.91\n",
      "    Min Reward over last 50 episodes: -26834.96\n",
      "    Max Reward over last 50 episodes: -26554.23\n",
      "    Evaluation Average Reward: -26734.89\n",
      "\n",
      "Running combination 35/9555 with parameters: {'epsilon': 0.1, 'epsilon_decay': 0.99, 'alpha': 0.0, 'gamma': 0.9, 'no_change_after_lap': 145}\n",
      "    Training Episode 0/5\n"
     ]
    },
    {
     "name": "stderr",
     "output_type": "stream",
     "text": [
      "35it [1:18:05, 122.00s/it]"
     ]
    },
    {
     "name": "stdout",
     "output_type": "stream",
     "text": [
      "    Evaluation Episode 0/1\n",
      "    Average Reward over last 50 episodes: -18174.33\n",
      "    Min Reward over last 50 episodes: -18308.16\n",
      "    Max Reward over last 50 episodes: -18062.69\n",
      "    Evaluation Average Reward: -18266.10\n",
      "\n",
      "Running combination 36/9555 with parameters: {'epsilon': 0.0, 'epsilon_decay': 0.999, 'alpha': 0.9, 'gamma': 0.0, 'no_change_after_lap': 150}\n",
      "    Training Episode 0/5\n"
     ]
    },
    {
     "name": "stderr",
     "output_type": "stream",
     "text": [
      "36it [1:20:14, 124.14s/it]"
     ]
    },
    {
     "name": "stdout",
     "output_type": "stream",
     "text": [
      "    Evaluation Episode 0/1\n",
      "    Average Reward over last 50 episodes: -17116.22\n",
      "    Min Reward over last 50 episodes: -17198.73\n",
      "    Max Reward over last 50 episodes: -17040.34\n",
      "    Evaluation Average Reward: -17215.51\n",
      "\n",
      "Running combination 37/9555 with parameters: {'epsilon': 0.025, 'epsilon_decay': 0.995, 'alpha': 0.2, 'gamma': 0.6, 'no_change_after_lap': 150}\n",
      "    Training Episode 0/5\n"
     ]
    },
    {
     "name": "stderr",
     "output_type": "stream",
     "text": [
      "37it [1:22:25, 126.26s/it]"
     ]
    },
    {
     "name": "stdout",
     "output_type": "stream",
     "text": [
      "    Evaluation Episode 0/1\n",
      "    Average Reward over last 50 episodes: -17091.91\n",
      "    Min Reward over last 50 episodes: -17277.95\n",
      "    Max Reward over last 50 episodes: -16951.69\n",
      "    Evaluation Average Reward: -17036.43\n",
      "\n",
      "Running combination 38/9555 with parameters: {'epsilon': 0.2, 'epsilon_decay': 0.995, 'alpha': 0.2, 'gamma': 0.4, 'no_change_after_lap': 120}\n",
      "    Training Episode 0/5\n"
     ]
    },
    {
     "name": "stderr",
     "output_type": "stream",
     "text": [
      "38it [1:24:42, 129.32s/it]"
     ]
    },
    {
     "name": "stdout",
     "output_type": "stream",
     "text": [
      "    Evaluation Episode 0/1\n",
      "    Average Reward over last 50 episodes: -24280.75\n",
      "    Min Reward over last 50 episodes: -24456.09\n",
      "    Max Reward over last 50 episodes: -24052.43\n",
      "    Evaluation Average Reward: -24002.91\n",
      "\n",
      "Running combination 39/9555 with parameters: {'epsilon': 0.2, 'epsilon_decay': 0.999, 'alpha': 0.6, 'gamma': 0.9, 'no_change_after_lap': 120}\n",
      "    Training Episode 0/5\n"
     ]
    },
    {
     "name": "stderr",
     "output_type": "stream",
     "text": [
      "39it [1:26:52, 129.71s/it]"
     ]
    },
    {
     "name": "stdout",
     "output_type": "stream",
     "text": [
      "    Evaluation Episode 0/1\n",
      "    Average Reward over last 50 episodes: -24394.63\n",
      "    Min Reward over last 50 episodes: -24598.97\n",
      "    Max Reward over last 50 episodes: -24227.93\n",
      "    Evaluation Average Reward: -24451.96\n",
      "\n",
      "Running combination 40/9555 with parameters: {'epsilon': 0.0, 'epsilon_decay': 0.999, 'alpha': 0.4, 'gamma': 0.0, 'no_change_after_lap': 100}\n",
      "    Training Episode 0/5\n"
     ]
    },
    {
     "name": "stderr",
     "output_type": "stream",
     "text": [
      "40it [1:29:04, 130.32s/it]"
     ]
    },
    {
     "name": "stdout",
     "output_type": "stream",
     "text": [
      "    Evaluation Episode 0/1\n",
      "    Average Reward over last 50 episodes: -29331.32\n",
      "    Min Reward over last 50 episodes: -29610.40\n",
      "    Max Reward over last 50 episodes: -28967.98\n",
      "    Evaluation Average Reward: -29235.19\n",
      "\n",
      "Running combination 41/9555 with parameters: {'epsilon': 0.025, 'epsilon_decay': 0.99, 'alpha': 1.0, 'gamma': 0.9, 'no_change_after_lap': 135}\n",
      "    Training Episode 0/5\n"
     ]
    },
    {
     "name": "stderr",
     "output_type": "stream",
     "text": [
      "41it [1:31:10, 128.92s/it]"
     ]
    },
    {
     "name": "stdout",
     "output_type": "stream",
     "text": [
      "    Evaluation Episode 0/1\n",
      "    Average Reward over last 50 episodes: -20670.78\n",
      "    Min Reward over last 50 episodes: -20851.34\n",
      "    Max Reward over last 50 episodes: -20435.46\n",
      "    Evaluation Average Reward: -20233.58\n",
      "\n",
      "Running combination 42/9555 with parameters: {'epsilon': 0.1, 'epsilon_decay': 0.999, 'alpha': 0.2, 'gamma': 0.9, 'no_change_after_lap': 120}\n",
      "    Training Episode 0/5\n"
     ]
    },
    {
     "name": "stderr",
     "output_type": "stream",
     "text": [
      "42it [1:33:14, 127.58s/it]"
     ]
    },
    {
     "name": "stdout",
     "output_type": "stream",
     "text": [
      "    Evaluation Episode 0/1\n",
      "    Average Reward over last 50 episodes: -24317.67\n",
      "    Min Reward over last 50 episodes: -24568.47\n",
      "    Max Reward over last 50 episodes: -24100.32\n",
      "    Evaluation Average Reward: -23970.72\n",
      "\n",
      "Running combination 43/9555 with parameters: {'epsilon': 0.2, 'epsilon_decay': 0.999, 'alpha': 0.9, 'gamma': 0.8, 'no_change_after_lap': 145}\n",
      "    Training Episode 0/5\n"
     ]
    },
    {
     "name": "stderr",
     "output_type": "stream",
     "text": [
      "43it [1:35:27, 129.20s/it]"
     ]
    },
    {
     "name": "stdout",
     "output_type": "stream",
     "text": [
      "    Evaluation Episode 0/1\n",
      "    Average Reward over last 50 episodes: -18234.58\n",
      "    Min Reward over last 50 episodes: -18405.81\n",
      "    Max Reward over last 50 episodes: -17958.83\n",
      "    Evaluation Average Reward: -18216.35\n",
      "\n",
      "Running combination 44/9555 with parameters: {'epsilon': 0.2, 'epsilon_decay': 0.99, 'alpha': 1.0, 'gamma': 0.2, 'no_change_after_lap': 105}\n",
      "    Training Episode 0/5\n"
     ]
    },
    {
     "name": "stderr",
     "output_type": "stream",
     "text": [
      "44it [1:37:40, 130.44s/it]"
     ]
    },
    {
     "name": "stdout",
     "output_type": "stream",
     "text": [
      "    Evaluation Episode 0/1\n",
      "    Average Reward over last 50 episodes: -28099.08\n",
      "    Min Reward over last 50 episodes: -28347.29\n",
      "    Max Reward over last 50 episodes: -27957.16\n",
      "    Evaluation Average Reward: -28195.75\n",
      "SKIPPING\n",
      "\n",
      "Running combination 45/9555 with parameters: {'epsilon': 0.1, 'epsilon_decay': 0.999, 'alpha': 0.9, 'gamma': 0.6, 'no_change_after_lap': 160}\n",
      "    Training Episode 0/5\n"
     ]
    },
    {
     "name": "stderr",
     "output_type": "stream",
     "text": [
      "45it [1:39:53, 130.97s/it]"
     ]
    },
    {
     "name": "stdout",
     "output_type": "stream",
     "text": [
      "    Evaluation Episode 0/1\n",
      "    Average Reward over last 50 episodes: -16066.32\n",
      "    Min Reward over last 50 episodes: -16163.79\n",
      "    Max Reward over last 50 episodes: -15970.00\n",
      "    Evaluation Average Reward: -16107.97\n",
      "\n",
      "Running combination 46/9555 with parameters: {'epsilon': 0.2, 'epsilon_decay': 0.995, 'alpha': 0.8, 'gamma': 1.0, 'no_change_after_lap': 140}\n",
      "    Training Episode 0/5\n"
     ]
    },
    {
     "name": "stderr",
     "output_type": "stream",
     "text": [
      "46it [1:42:00, 129.74s/it]"
     ]
    },
    {
     "name": "stdout",
     "output_type": "stream",
     "text": [
      "    Evaluation Episode 0/1\n",
      "    Average Reward over last 50 episodes: -19419.88\n",
      "    Min Reward over last 50 episodes: -19637.90\n",
      "    Max Reward over last 50 episodes: -19277.71\n",
      "    Evaluation Average Reward: -19628.42\n",
      "\n",
      "Running combination 47/9555 with parameters: {'epsilon': 0.1, 'epsilon_decay': 0.995, 'alpha': 0.9, 'gamma': 0.6, 'no_change_after_lap': 100}\n",
      "    Training Episode 0/5\n"
     ]
    },
    {
     "name": "stderr",
     "output_type": "stream",
     "text": [
      "47it [1:44:15, 131.35s/it]"
     ]
    },
    {
     "name": "stdout",
     "output_type": "stream",
     "text": [
      "    Evaluation Episode 0/1\n",
      "    Average Reward over last 50 episodes: -29289.09\n",
      "    Min Reward over last 50 episodes: -29771.51\n",
      "    Max Reward over last 50 episodes: -28956.12\n",
      "    Evaluation Average Reward: -29452.12\n",
      "\n",
      "Running combination 48/9555 with parameters: {'epsilon': 0.2, 'epsilon_decay': 0.999, 'alpha': 1.0, 'gamma': 0.0, 'no_change_after_lap': 120}\n",
      "    Training Episode 0/5\n"
     ]
    },
    {
     "name": "stderr",
     "output_type": "stream",
     "text": [
      "48it [1:46:22, 130.14s/it]"
     ]
    },
    {
     "name": "stdout",
     "output_type": "stream",
     "text": [
      "    Evaluation Episode 0/1\n",
      "    Average Reward over last 50 episodes: -24374.47\n",
      "    Min Reward over last 50 episodes: -24524.50\n",
      "    Max Reward over last 50 episodes: -24210.97\n",
      "    Evaluation Average Reward: -24304.12\n",
      "\n",
      "Running combination 49/9555 with parameters: {'epsilon': 0.05, 'epsilon_decay': 0.99, 'alpha': 0.0, 'gamma': 0.2, 'no_change_after_lap': 120}\n",
      "    Training Episode 0/5\n"
     ]
    },
    {
     "name": "stderr",
     "output_type": "stream",
     "text": [
      "49it [1:48:24, 127.66s/it]"
     ]
    },
    {
     "name": "stdout",
     "output_type": "stream",
     "text": [
      "    Evaluation Episode 0/1\n",
      "    Average Reward over last 50 episodes: -24128.18\n",
      "    Min Reward over last 50 episodes: -24405.35\n",
      "    Max Reward over last 50 episodes: -23949.57\n",
      "    Evaluation Average Reward: -24634.79\n",
      "\n",
      "Running combination 50/9555 with parameters: {'epsilon': 0.025, 'epsilon_decay': 0.995, 'alpha': 0.0, 'gamma': 0.9, 'no_change_after_lap': 110}\n",
      "    Training Episode 0/5\n"
     ]
    },
    {
     "name": "stderr",
     "output_type": "stream",
     "text": [
      "50it [1:50:16, 123.08s/it]"
     ]
    },
    {
     "name": "stdout",
     "output_type": "stream",
     "text": [
      "    Evaluation Episode 0/1\n",
      "    Average Reward over last 50 episodes: -26745.97\n",
      "    Min Reward over last 50 episodes: -27102.20\n",
      "    Max Reward over last 50 episodes: -26600.44\n",
      "    Evaluation Average Reward: -26842.31\n",
      "\n",
      "Running combination 51/9555 with parameters: {'epsilon': 0.2, 'epsilon_decay': 0.99, 'alpha': 0.4, 'gamma': 1.0, 'no_change_after_lap': 120}\n",
      "    Training Episode 0/5\n"
     ]
    },
    {
     "name": "stderr",
     "output_type": "stream",
     "text": [
      "51it [1:52:28, 125.58s/it]"
     ]
    },
    {
     "name": "stdout",
     "output_type": "stream",
     "text": [
      "    Evaluation Episode 0/1\n",
      "    Average Reward over last 50 episodes: -24317.30\n",
      "    Min Reward over last 50 episodes: -24613.89\n",
      "    Max Reward over last 50 episodes: -24084.28\n",
      "    Evaluation Average Reward: -24001.14\n",
      "\n",
      "Running combination 52/9555 with parameters: {'epsilon': 0.2, 'epsilon_decay': 0.999, 'alpha': 0.8, 'gamma': 1.0, 'no_change_after_lap': 105}\n",
      "    Training Episode 0/5\n"
     ]
    },
    {
     "name": "stderr",
     "output_type": "stream",
     "text": [
      "52it [1:54:42, 128.11s/it]"
     ]
    },
    {
     "name": "stdout",
     "output_type": "stream",
     "text": [
      "    Evaluation Episode 0/1\n",
      "    Average Reward over last 50 episodes: -28087.53\n",
      "    Min Reward over last 50 episodes: -28313.64\n",
      "    Max Reward over last 50 episodes: -27830.99\n",
      "    Evaluation Average Reward: -28227.32\n",
      "\n",
      "Running combination 53/9555 with parameters: {'epsilon': 0.0, 'epsilon_decay': 0.99, 'alpha': 1.0, 'gamma': 0.8, 'no_change_after_lap': 105}\n",
      "    Training Episode 0/5\n"
     ]
    },
    {
     "name": "stderr",
     "output_type": "stream",
     "text": [
      "53it [1:56:52, 128.81s/it]"
     ]
    },
    {
     "name": "stdout",
     "output_type": "stream",
     "text": [
      "    Evaluation Episode 0/1\n",
      "    Average Reward over last 50 episodes: -28077.53\n",
      "    Min Reward over last 50 episodes: -28371.66\n",
      "    Max Reward over last 50 episodes: -27793.74\n",
      "    Evaluation Average Reward: -28339.15\n",
      "\n",
      "Running combination 54/9555 with parameters: {'epsilon': 0.1, 'epsilon_decay': 0.99, 'alpha': 0.9, 'gamma': 0.6, 'no_change_after_lap': 145}\n",
      "    Training Episode 0/5\n"
     ]
    },
    {
     "name": "stderr",
     "output_type": "stream",
     "text": [
      "54it [1:59:04, 129.74s/it]"
     ]
    },
    {
     "name": "stdout",
     "output_type": "stream",
     "text": [
      "    Evaluation Episode 0/1\n",
      "    Average Reward over last 50 episodes: -18038.50\n",
      "    Min Reward over last 50 episodes: -18351.44\n",
      "    Max Reward over last 50 episodes: -17848.46\n",
      "    Evaluation Average Reward: -18160.45\n",
      "\n",
      "Running combination 55/9555 with parameters: {'epsilon': 0.025, 'epsilon_decay': 0.999, 'alpha': 0.4, 'gamma': 0.9, 'no_change_after_lap': 140}\n",
      "    Training Episode 0/5\n"
     ]
    },
    {
     "name": "stderr",
     "output_type": "stream",
     "text": [
      "55it [2:01:11, 128.92s/it]"
     ]
    },
    {
     "name": "stdout",
     "output_type": "stream",
     "text": [
      "    Evaluation Episode 0/1\n",
      "    Average Reward over last 50 episodes: -19468.50\n",
      "    Min Reward over last 50 episodes: -19523.06\n",
      "    Max Reward over last 50 episodes: -19372.57\n",
      "    Evaluation Average Reward: -19043.85\n",
      "\n",
      "Running combination 56/9555 with parameters: {'epsilon': 0.025, 'epsilon_decay': 0.999, 'alpha': 1.0, 'gamma': 1.0, 'no_change_after_lap': 120}\n",
      "    Training Episode 0/5\n"
     ]
    },
    {
     "name": "stderr",
     "output_type": "stream",
     "text": [
      "56it [2:03:20, 129.03s/it]"
     ]
    },
    {
     "name": "stdout",
     "output_type": "stream",
     "text": [
      "    Evaluation Episode 0/1\n",
      "    Average Reward over last 50 episodes: -24286.75\n",
      "    Min Reward over last 50 episodes: -24538.34\n",
      "    Max Reward over last 50 episodes: -23956.98\n",
      "    Evaluation Average Reward: -24464.92\n",
      "\n",
      "Running combination 57/9555 with parameters: {'epsilon': 0.2, 'epsilon_decay': 0.999, 'alpha': 0.8, 'gamma': 0.4, 'no_change_after_lap': 105}\n",
      "    Training Episode 0/5\n"
     ]
    },
    {
     "name": "stderr",
     "output_type": "stream",
     "text": [
      "57it [2:05:34, 130.39s/it]"
     ]
    },
    {
     "name": "stdout",
     "output_type": "stream",
     "text": [
      "    Evaluation Episode 0/1\n",
      "    Average Reward over last 50 episodes: -28009.87\n",
      "    Min Reward over last 50 episodes: -28242.07\n",
      "    Max Reward over last 50 episodes: -27664.88\n",
      "    Evaluation Average Reward: -28458.56\n",
      "\n",
      "Running combination 58/9555 with parameters: {'epsilon': 0.025, 'epsilon_decay': 0.995, 'alpha': 1.0, 'gamma': 0.0, 'no_change_after_lap': 130}\n",
      "    Training Episode 0/5\n"
     ]
    },
    {
     "name": "stderr",
     "output_type": "stream",
     "text": [
      "58it [2:07:43, 130.00s/it]"
     ]
    },
    {
     "name": "stdout",
     "output_type": "stream",
     "text": [
      "    Evaluation Episode 0/1\n",
      "    Average Reward over last 50 episodes: -21722.20\n",
      "    Min Reward over last 50 episodes: -21866.94\n",
      "    Max Reward over last 50 episodes: -21539.00\n",
      "    Evaluation Average Reward: -21729.66\n",
      "\n",
      "Running combination 59/9555 with parameters: {'epsilon': 0.1, 'epsilon_decay': 0.999, 'alpha': 0.9, 'gamma': 0.6, 'no_change_after_lap': 105}\n",
      "    Training Episode 0/5\n"
     ]
    },
    {
     "name": "stderr",
     "output_type": "stream",
     "text": [
      "59it [2:09:52, 129.61s/it]"
     ]
    },
    {
     "name": "stdout",
     "output_type": "stream",
     "text": [
      "    Evaluation Episode 0/1\n",
      "    Average Reward over last 50 episodes: -28093.15\n",
      "    Min Reward over last 50 episodes: -28360.06\n",
      "    Max Reward over last 50 episodes: -27775.69\n",
      "    Evaluation Average Reward: -28350.55\n",
      "\n",
      "Running combination 60/9555 with parameters: {'epsilon': 0.2, 'epsilon_decay': 0.999, 'alpha': 0.2, 'gamma': 0.6, 'no_change_after_lap': 130}\n",
      "    Training Episode 0/5\n"
     ]
    },
    {
     "name": "stderr",
     "output_type": "stream",
     "text": [
      "60it [2:12:03, 130.05s/it]"
     ]
    },
    {
     "name": "stdout",
     "output_type": "stream",
     "text": [
      "    Evaluation Episode 0/1\n",
      "    Average Reward over last 50 episodes: -21773.05\n",
      "    Min Reward over last 50 episodes: -22117.63\n",
      "    Max Reward over last 50 episodes: -21525.11\n",
      "    Evaluation Average Reward: -21867.76\n",
      "\n",
      "Running combination 61/9555 with parameters: {'epsilon': 0.05, 'epsilon_decay': 0.99, 'alpha': 1.0, 'gamma': 0.0, 'no_change_after_lap': 100}\n",
      "    Training Episode 0/5\n"
     ]
    },
    {
     "name": "stderr",
     "output_type": "stream",
     "text": [
      "61it [2:14:16, 130.93s/it]"
     ]
    },
    {
     "name": "stdout",
     "output_type": "stream",
     "text": [
      "    Evaluation Episode 0/1\n",
      "    Average Reward over last 50 episodes: -29361.48\n",
      "    Min Reward over last 50 episodes: -29681.45\n",
      "    Max Reward over last 50 episodes: -29070.83\n",
      "    Evaluation Average Reward: -29339.46\n",
      "\n",
      "Running combination 62/9555 with parameters: {'epsilon': 0.025, 'epsilon_decay': 0.995, 'alpha': 0.8, 'gamma': 0.8, 'no_change_after_lap': 145}\n",
      "    Training Episode 0/5\n"
     ]
    },
    {
     "name": "stderr",
     "output_type": "stream",
     "text": [
      "62it [2:16:25, 130.30s/it]"
     ]
    },
    {
     "name": "stdout",
     "output_type": "stream",
     "text": [
      "    Evaluation Episode 0/1\n",
      "    Average Reward over last 50 episodes: -18143.70\n",
      "    Min Reward over last 50 episodes: -18359.92\n",
      "    Max Reward over last 50 episodes: -17933.51\n",
      "    Evaluation Average Reward: -17991.45\n",
      "\n",
      "Running combination 63/9555 with parameters: {'epsilon': 0.0, 'epsilon_decay': 0.995, 'alpha': 1.0, 'gamma': 0.2, 'no_change_after_lap': 105}\n",
      "    Training Episode 0/5\n"
     ]
    },
    {
     "name": "stderr",
     "output_type": "stream",
     "text": [
      "63it [2:18:35, 130.38s/it]"
     ]
    },
    {
     "name": "stdout",
     "output_type": "stream",
     "text": [
      "    Evaluation Episode 0/1\n",
      "    Average Reward over last 50 episodes: -27967.85\n",
      "    Min Reward over last 50 episodes: -28271.77\n",
      "    Max Reward over last 50 episodes: -27787.29\n",
      "    Evaluation Average Reward: -28124.39\n",
      "\n",
      "Running combination 64/9555 with parameters: {'epsilon': 0.025, 'epsilon_decay': 0.995, 'alpha': 0.9, 'gamma': 0.0, 'no_change_after_lap': 110}\n",
      "    Training Episode 0/5\n"
     ]
    },
    {
     "name": "stderr",
     "output_type": "stream",
     "text": [
      "64it [2:20:47, 130.73s/it]"
     ]
    },
    {
     "name": "stdout",
     "output_type": "stream",
     "text": [
      "    Evaluation Episode 0/1\n",
      "    Average Reward over last 50 episodes: -26833.12\n",
      "    Min Reward over last 50 episodes: -27115.71\n",
      "    Max Reward over last 50 episodes: -26549.86\n",
      "    Evaluation Average Reward: -26784.66\n",
      "\n",
      "Running combination 65/9555 with parameters: {'epsilon': 0.0, 'epsilon_decay': 0.995, 'alpha': 0.4, 'gamma': 0.0, 'no_change_after_lap': 120}\n",
      "    Training Episode 0/5\n"
     ]
    },
    {
     "name": "stderr",
     "output_type": "stream",
     "text": [
      "65it [2:22:51, 128.84s/it]"
     ]
    },
    {
     "name": "stdout",
     "output_type": "stream",
     "text": [
      "    Evaluation Episode 0/1\n",
      "    Average Reward over last 50 episodes: -24555.72\n",
      "    Min Reward over last 50 episodes: -24668.50\n",
      "    Max Reward over last 50 episodes: -24422.58\n",
      "    Evaluation Average Reward: -24182.73\n",
      "\n",
      "Running combination 66/9555 with parameters: {'epsilon': 0.1, 'epsilon_decay': 0.99, 'alpha': 0.2, 'gamma': 0.8, 'no_change_after_lap': 150}\n",
      "    Training Episode 0/5\n"
     ]
    },
    {
     "name": "stderr",
     "output_type": "stream",
     "text": [
      "66it [2:25:00, 128.73s/it]"
     ]
    },
    {
     "name": "stdout",
     "output_type": "stream",
     "text": [
      "    Evaluation Episode 0/1\n",
      "    Average Reward over last 50 episodes: -17156.32\n",
      "    Min Reward over last 50 episodes: -17305.70\n",
      "    Max Reward over last 50 episodes: -17005.94\n",
      "    Evaluation Average Reward: -17231.24\n",
      "\n",
      "Running combination 67/9555 with parameters: {'epsilon': 0.025, 'epsilon_decay': 0.995, 'alpha': 0.8, 'gamma': 0.8, 'no_change_after_lap': 120}\n",
      "    Training Episode 0/5\n"
     ]
    },
    {
     "name": "stderr",
     "output_type": "stream",
     "text": [
      "67it [2:27:11, 129.45s/it]"
     ]
    },
    {
     "name": "stdout",
     "output_type": "stream",
     "text": [
      "    Evaluation Episode 0/1\n",
      "    Average Reward over last 50 episodes: -24274.12\n",
      "    Min Reward over last 50 episodes: -24538.43\n",
      "    Max Reward over last 50 episodes: -23952.54\n",
      "    Evaluation Average Reward: -24562.23\n",
      "\n",
      "Running combination 68/9555 with parameters: {'epsilon': 0.05, 'epsilon_decay': 0.999, 'alpha': 0.9, 'gamma': 0.0, 'no_change_after_lap': 125}\n",
      "    Training Episode 0/5\n"
     ]
    },
    {
     "name": "stderr",
     "output_type": "stream",
     "text": [
      "68it [2:29:24, 130.48s/it]"
     ]
    },
    {
     "name": "stdout",
     "output_type": "stream",
     "text": [
      "    Evaluation Episode 0/1\n",
      "    Average Reward over last 50 episodes: -23046.18\n",
      "    Min Reward over last 50 episodes: -23303.72\n",
      "    Max Reward over last 50 episodes: -22892.12\n",
      "    Evaluation Average Reward: -22858.31\n",
      "\n",
      "Running combination 69/9555 with parameters: {'epsilon': 0.025, 'epsilon_decay': 0.99, 'alpha': 0.2, 'gamma': 0.6, 'no_change_after_lap': 130}\n",
      "    Training Episode 0/5\n"
     ]
    },
    {
     "name": "stderr",
     "output_type": "stream",
     "text": [
      "69it [2:31:30, 129.12s/it]"
     ]
    },
    {
     "name": "stdout",
     "output_type": "stream",
     "text": [
      "    Evaluation Episode 0/1\n",
      "    Average Reward over last 50 episodes: -21819.75\n",
      "    Min Reward over last 50 episodes: -22001.39\n",
      "    Max Reward over last 50 episodes: -21595.56\n",
      "    Evaluation Average Reward: -21816.30\n",
      "\n",
      "Running combination 70/9555 with parameters: {'epsilon': 0.025, 'epsilon_decay': 0.999, 'alpha': 0.0, 'gamma': 0.2, 'no_change_after_lap': 150}\n",
      "    Training Episode 0/5\n"
     ]
    },
    {
     "name": "stderr",
     "output_type": "stream",
     "text": [
      "70it [2:33:28, 125.92s/it]"
     ]
    },
    {
     "name": "stdout",
     "output_type": "stream",
     "text": [
      "    Evaluation Episode 0/1\n",
      "    Average Reward over last 50 episodes: -17063.68\n",
      "    Min Reward over last 50 episodes: -17281.00\n",
      "    Max Reward over last 50 episodes: -16857.49\n",
      "    Evaluation Average Reward: -17208.85\n",
      "\n",
      "Running combination 71/9555 with parameters: {'epsilon': 0.2, 'epsilon_decay': 0.995, 'alpha': 0.4, 'gamma': 0.2, 'no_change_after_lap': 125}\n",
      "    Training Episode 0/5\n"
     ]
    },
    {
     "name": "stderr",
     "output_type": "stream",
     "text": [
      "71it [2:35:39, 127.59s/it]"
     ]
    },
    {
     "name": "stdout",
     "output_type": "stream",
     "text": [
      "    Evaluation Episode 0/1\n",
      "    Average Reward over last 50 episodes: -23142.38\n",
      "    Min Reward over last 50 episodes: -23385.52\n",
      "    Max Reward over last 50 episodes: -22838.81\n",
      "    Evaluation Average Reward: -23388.11\n",
      "\n",
      "Running combination 72/9555 with parameters: {'epsilon': 0.025, 'epsilon_decay': 0.995, 'alpha': 0.9, 'gamma': 0.8, 'no_change_after_lap': 155}\n",
      "    Training Episode 0/5\n"
     ]
    },
    {
     "name": "stderr",
     "output_type": "stream",
     "text": [
      "72it [2:37:46, 127.35s/it]"
     ]
    },
    {
     "name": "stdout",
     "output_type": "stream",
     "text": [
      "    Evaluation Episode 0/1\n",
      "    Average Reward over last 50 episodes: -16308.91\n",
      "    Min Reward over last 50 episodes: -16390.23\n",
      "    Max Reward over last 50 episodes: -16197.49\n",
      "    Evaluation Average Reward: -16423.22\n",
      "\n",
      "Running combination 73/9555 with parameters: {'epsilon': 0.2, 'epsilon_decay': 0.999, 'alpha': 0.9, 'gamma': 0.8, 'no_change_after_lap': 160}\n",
      "    Training Episode 0/5\n"
     ]
    },
    {
     "name": "stderr",
     "output_type": "stream",
     "text": [
      "73it [2:39:55, 127.90s/it]"
     ]
    },
    {
     "name": "stdout",
     "output_type": "stream",
     "text": [
      "    Evaluation Episode 0/1\n",
      "    Average Reward over last 50 episodes: -16069.53\n",
      "    Min Reward over last 50 episodes: -16110.53\n",
      "    Max Reward over last 50 episodes: -16014.55\n",
      "    Evaluation Average Reward: -16094.70\n",
      "\n",
      "Running combination 74/9555 with parameters: {'epsilon': 0.2, 'epsilon_decay': 0.995, 'alpha': 0.4, 'gamma': 0.9, 'no_change_after_lap': 125}\n",
      "    Training Episode 0/5\n"
     ]
    },
    {
     "name": "stderr",
     "output_type": "stream",
     "text": [
      "74it [2:42:07, 129.11s/it]"
     ]
    },
    {
     "name": "stdout",
     "output_type": "stream",
     "text": [
      "    Evaluation Episode 0/1\n",
      "    Average Reward over last 50 episodes: -23043.15\n",
      "    Min Reward over last 50 episodes: -23292.89\n",
      "    Max Reward over last 50 episodes: -22711.64\n",
      "    Evaluation Average Reward: -23326.36\n",
      "\n",
      "Running combination 75/9555 with parameters: {'epsilon': 0.1, 'epsilon_decay': 0.995, 'alpha': 0.2, 'gamma': 0.8, 'no_change_after_lap': 120}\n",
      "    Training Episode 0/5\n"
     ]
    },
    {
     "name": "stderr",
     "output_type": "stream",
     "text": [
      "75it [2:44:15, 128.60s/it]"
     ]
    },
    {
     "name": "stdout",
     "output_type": "stream",
     "text": [
      "    Evaluation Episode 0/1\n",
      "    Average Reward over last 50 episodes: -24406.93\n",
      "    Min Reward over last 50 episodes: -24650.23\n",
      "    Max Reward over last 50 episodes: -24004.49\n",
      "    Evaluation Average Reward: -24255.69\n",
      "\n",
      "Running combination 76/9555 with parameters: {'epsilon': 0.025, 'epsilon_decay': 0.999, 'alpha': 1.0, 'gamma': 0.2, 'no_change_after_lap': 145}\n",
      "    Training Episode 0/5\n"
     ]
    },
    {
     "name": "stderr",
     "output_type": "stream",
     "text": [
      "76it [2:46:20, 127.72s/it]"
     ]
    },
    {
     "name": "stdout",
     "output_type": "stream",
     "text": [
      "    Evaluation Episode 0/1\n",
      "    Average Reward over last 50 episodes: -18310.54\n",
      "    Min Reward over last 50 episodes: -18444.50\n",
      "    Max Reward over last 50 episodes: -18183.89\n",
      "    Evaluation Average Reward: -17916.95\n",
      "\n",
      "Running combination 77/9555 with parameters: {'epsilon': 0.0, 'epsilon_decay': 0.999, 'alpha': 0.4, 'gamma': 0.8, 'no_change_after_lap': 135}\n",
      "    Training Episode 0/5\n"
     ]
    },
    {
     "name": "stderr",
     "output_type": "stream",
     "text": [
      "77it [2:48:27, 127.31s/it]"
     ]
    },
    {
     "name": "stdout",
     "output_type": "stream",
     "text": [
      "    Evaluation Episode 0/1\n",
      "    Average Reward over last 50 episodes: -20446.88\n",
      "    Min Reward over last 50 episodes: -20634.64\n",
      "    Max Reward over last 50 episodes: -20272.28\n",
      "    Evaluation Average Reward: -20755.54\n",
      "\n",
      "Running combination 78/9555 with parameters: {'epsilon': 0.1, 'epsilon_decay': 0.999, 'alpha': 0.6, 'gamma': 0.9, 'no_change_after_lap': 140}\n",
      "    Training Episode 0/5\n"
     ]
    },
    {
     "name": "stderr",
     "output_type": "stream",
     "text": [
      "78it [2:50:38, 128.54s/it]"
     ]
    },
    {
     "name": "stdout",
     "output_type": "stream",
     "text": [
      "    Evaluation Episode 0/1\n",
      "    Average Reward over last 50 episodes: -19293.82\n",
      "    Min Reward over last 50 episodes: -19541.09\n",
      "    Max Reward over last 50 episodes: -18946.01\n",
      "    Evaluation Average Reward: -19585.52\n",
      "\n",
      "Running combination 79/9555 with parameters: {'epsilon': 0.2, 'epsilon_decay': 0.99, 'alpha': 1.0, 'gamma': 0.6, 'no_change_after_lap': 150}\n",
      "    Training Episode 0/5\n"
     ]
    },
    {
     "name": "stderr",
     "output_type": "stream",
     "text": [
      "79it [2:52:52, 130.10s/it]"
     ]
    },
    {
     "name": "stdout",
     "output_type": "stream",
     "text": [
      "    Evaluation Episode 0/1\n",
      "    Average Reward over last 50 episodes: -17084.04\n",
      "    Min Reward over last 50 episodes: -17200.18\n",
      "    Max Reward over last 50 episodes: -16912.43\n",
      "    Evaluation Average Reward: -16958.35\n",
      "\n",
      "Running combination 80/9555 with parameters: {'epsilon': 0.0, 'epsilon_decay': 0.999, 'alpha': 0.2, 'gamma': 0.9, 'no_change_after_lap': 105}\n",
      "    Training Episode 0/5\n"
     ]
    },
    {
     "name": "stderr",
     "output_type": "stream",
     "text": [
      "80it [2:54:47, 125.49s/it]"
     ]
    },
    {
     "name": "stdout",
     "output_type": "stream",
     "text": [
      "    Evaluation Episode 0/1\n",
      "    Average Reward over last 50 episodes: -28288.33\n",
      "    Min Reward over last 50 episodes: -28444.98\n",
      "    Max Reward over last 50 episodes: -27923.98\n",
      "    Evaluation Average Reward: -27933.21\n",
      "\n",
      "Running combination 81/9555 with parameters: {'epsilon': 0.1, 'epsilon_decay': 0.99, 'alpha': 0.0, 'gamma': 0.2, 'no_change_after_lap': 115}\n",
      "    Training Episode 0/5\n"
     ]
    },
    {
     "name": "stderr",
     "output_type": "stream",
     "text": [
      "81it [2:56:43, 122.65s/it]"
     ]
    },
    {
     "name": "stdout",
     "output_type": "stream",
     "text": [
      "    Evaluation Episode 0/1\n",
      "    Average Reward over last 50 episodes: -25620.24\n",
      "    Min Reward over last 50 episodes: -25884.25\n",
      "    Max Reward over last 50 episodes: -25221.48\n",
      "    Evaluation Average Reward: -25563.14\n",
      "\n",
      "Running combination 82/9555 with parameters: {'epsilon': 0.025, 'epsilon_decay': 0.995, 'alpha': 1.0, 'gamma': 0.6, 'no_change_after_lap': 115}\n",
      "    Training Episode 0/5\n"
     ]
    },
    {
     "name": "stderr",
     "output_type": "stream",
     "text": [
      "82it [2:58:39, 120.82s/it]"
     ]
    },
    {
     "name": "stdout",
     "output_type": "stream",
     "text": [
      "    Evaluation Episode 0/1\n",
      "    Average Reward over last 50 episodes: -25642.59\n",
      "    Min Reward over last 50 episodes: -25839.86\n",
      "    Max Reward over last 50 episodes: -25372.69\n",
      "    Evaluation Average Reward: -25267.62\n",
      "\n",
      "Running combination 83/9555 with parameters: {'epsilon': 0.025, 'epsilon_decay': 0.99, 'alpha': 0.6, 'gamma': 0.8, 'no_change_after_lap': 105}\n",
      "    Training Episode 0/5\n"
     ]
    },
    {
     "name": "stderr",
     "output_type": "stream",
     "text": [
      "83it [3:00:40, 120.73s/it]"
     ]
    },
    {
     "name": "stdout",
     "output_type": "stream",
     "text": [
      "    Evaluation Episode 0/1\n",
      "    Average Reward over last 50 episodes: -28128.45\n",
      "    Min Reward over last 50 episodes: -28392.99\n",
      "    Max Reward over last 50 episodes: -27868.48\n",
      "    Evaluation Average Reward: -28017.10\n",
      "\n",
      "Running combination 84/9555 with parameters: {'epsilon': 0.025, 'epsilon_decay': 0.999, 'alpha': 0.2, 'gamma': 0.4, 'no_change_after_lap': 105}\n",
      "    Training Episode 0/5\n"
     ]
    },
    {
     "name": "stderr",
     "output_type": "stream",
     "text": [
      "84it [3:02:36, 119.27s/it]"
     ]
    },
    {
     "name": "stdout",
     "output_type": "stream",
     "text": [
      "    Evaluation Episode 0/1\n",
      "    Average Reward over last 50 episodes: -28326.89\n",
      "    Min Reward over last 50 episodes: -28461.38\n",
      "    Max Reward over last 50 episodes: -28177.62\n",
      "    Evaluation Average Reward: -28026.37\n",
      "\n",
      "Running combination 85/9555 with parameters: {'epsilon': 0.05, 'epsilon_decay': 0.99, 'alpha': 0.6, 'gamma': 0.9, 'no_change_after_lap': 145}\n",
      "    Training Episode 0/5\n"
     ]
    },
    {
     "name": "stderr",
     "output_type": "stream",
     "text": [
      "85it [3:04:33, 118.64s/it]"
     ]
    },
    {
     "name": "stdout",
     "output_type": "stream",
     "text": [
      "    Evaluation Episode 0/1\n",
      "    Average Reward over last 50 episodes: -18214.62\n",
      "    Min Reward over last 50 episodes: -18365.13\n",
      "    Max Reward over last 50 episodes: -18079.48\n",
      "    Evaluation Average Reward: -18192.13\n",
      "\n",
      "Running combination 86/9555 with parameters: {'epsilon': 0.05, 'epsilon_decay': 0.999, 'alpha': 0.8, 'gamma': 1.0, 'no_change_after_lap': 140}\n",
      "    Training Episode 0/5\n"
     ]
    },
    {
     "name": "stderr",
     "output_type": "stream",
     "text": [
      "86it [3:06:29, 117.77s/it]"
     ]
    },
    {
     "name": "stdout",
     "output_type": "stream",
     "text": [
      "    Evaluation Episode 0/1\n",
      "    Average Reward over last 50 episodes: -19335.79\n",
      "    Min Reward over last 50 episodes: -19602.54\n",
      "    Max Reward over last 50 episodes: -19044.26\n",
      "    Evaluation Average Reward: -19425.27\n",
      "\n",
      "Running combination 87/9555 with parameters: {'epsilon': 0.0, 'epsilon_decay': 0.99, 'alpha': 0.4, 'gamma': 0.6, 'no_change_after_lap': 150}\n",
      "    Training Episode 0/5\n"
     ]
    },
    {
     "name": "stderr",
     "output_type": "stream",
     "text": [
      "87it [3:08:25, 117.41s/it]"
     ]
    },
    {
     "name": "stdout",
     "output_type": "stream",
     "text": [
      "    Evaluation Episode 0/1\n",
      "    Average Reward over last 50 episodes: -17096.20\n",
      "    Min Reward over last 50 episodes: -17224.56\n",
      "    Max Reward over last 50 episodes: -16929.56\n",
      "    Evaluation Average Reward: -17120.50\n",
      "\n",
      "Running combination 88/9555 with parameters: {'epsilon': 0.025, 'epsilon_decay': 0.99, 'alpha': 0.9, 'gamma': 1.0, 'no_change_after_lap': 155}\n",
      "    Training Episode 0/5\n"
     ]
    },
    {
     "name": "stderr",
     "output_type": "stream",
     "text": [
      "88it [3:10:24, 117.96s/it]"
     ]
    },
    {
     "name": "stdout",
     "output_type": "stream",
     "text": [
      "    Evaluation Episode 0/1\n",
      "    Average Reward over last 50 episodes: -16380.24\n",
      "    Min Reward over last 50 episodes: -16464.36\n",
      "    Max Reward over last 50 episodes: -16248.84\n",
      "    Evaluation Average Reward: -16370.65\n",
      "\n",
      "Running combination 89/9555 with parameters: {'epsilon': 0.2, 'epsilon_decay': 0.995, 'alpha': 0.6, 'gamma': 0.9, 'no_change_after_lap': 105}\n",
      "    Training Episode 0/5\n"
     ]
    },
    {
     "name": "stderr",
     "output_type": "stream",
     "text": [
      "89it [3:12:20, 117.22s/it]"
     ]
    },
    {
     "name": "stdout",
     "output_type": "stream",
     "text": [
      "    Evaluation Episode 0/1\n",
      "    Average Reward over last 50 episodes: -28175.36\n",
      "    Min Reward over last 50 episodes: -28375.24\n",
      "    Max Reward over last 50 episodes: -27977.22\n",
      "    Evaluation Average Reward: -27883.62\n",
      "\n",
      "Running combination 90/9555 with parameters: {'epsilon': 0.2, 'epsilon_decay': 0.995, 'alpha': 0.6, 'gamma': 0.6, 'no_change_after_lap': 105}\n",
      "    Training Episode 0/5\n"
     ]
    },
    {
     "name": "stderr",
     "output_type": "stream",
     "text": [
      "90it [3:14:22, 118.58s/it]"
     ]
    },
    {
     "name": "stdout",
     "output_type": "stream",
     "text": [
      "    Evaluation Episode 0/1\n",
      "    Average Reward over last 50 episodes: -28132.04\n",
      "    Min Reward over last 50 episodes: -28403.52\n",
      "    Max Reward over last 50 episodes: -27816.26\n",
      "    Evaluation Average Reward: -28089.02\n",
      "\n",
      "Running combination 91/9555 with parameters: {'epsilon': 0.0, 'epsilon_decay': 0.99, 'alpha': 0.0, 'gamma': 0.6, 'no_change_after_lap': 155}\n",
      "    Training Episode 0/5\n"
     ]
    },
    {
     "name": "stderr",
     "output_type": "stream",
     "text": [
      "91it [3:16:11, 115.83s/it]"
     ]
    },
    {
     "name": "stdout",
     "output_type": "stream",
     "text": [
      "    Evaluation Episode 0/1\n",
      "    Average Reward over last 50 episodes: -16346.77\n",
      "    Min Reward over last 50 episodes: -16446.30\n",
      "    Max Reward over last 50 episodes: -16216.12\n",
      "    Evaluation Average Reward: -16345.13\n",
      "\n",
      "Running combination 92/9555 with parameters: {'epsilon': 0.025, 'epsilon_decay': 0.995, 'alpha': 1.0, 'gamma': 1.0, 'no_change_after_lap': 150}\n",
      "    Training Episode 0/5\n"
     ]
    },
    {
     "name": "stderr",
     "output_type": "stream",
     "text": [
      "92it [3:18:08, 116.21s/it]"
     ]
    },
    {
     "name": "stdout",
     "output_type": "stream",
     "text": [
      "    Evaluation Episode 0/1\n",
      "    Average Reward over last 50 episodes: -17011.41\n",
      "    Min Reward over last 50 episodes: -17225.03\n",
      "    Max Reward over last 50 episodes: -16823.41\n",
      "    Evaluation Average Reward: -17152.17\n",
      "\n",
      "Running combination 93/9555 with parameters: {'epsilon': 0.05, 'epsilon_decay': 0.999, 'alpha': 0.0, 'gamma': 0.4, 'no_change_after_lap': 115}\n",
      "    Training Episode 0/5\n"
     ]
    },
    {
     "name": "stderr",
     "output_type": "stream",
     "text": [
      "93it [3:19:56, 113.66s/it]"
     ]
    },
    {
     "name": "stdout",
     "output_type": "stream",
     "text": [
      "    Evaluation Episode 0/1\n",
      "    Average Reward over last 50 episodes: -25769.36\n",
      "    Min Reward over last 50 episodes: -26094.49\n",
      "    Max Reward over last 50 episodes: -25432.31\n",
      "    Evaluation Average Reward: -25828.41\n",
      "\n",
      "Running combination 94/9555 with parameters: {'epsilon': 0.05, 'epsilon_decay': 0.99, 'alpha': 1.0, 'gamma': 1.0, 'no_change_after_lap': 125}\n",
      "    Training Episode 0/5\n"
     ]
    },
    {
     "name": "stderr",
     "output_type": "stream",
     "text": [
      "94it [3:21:51, 114.13s/it]"
     ]
    },
    {
     "name": "stdout",
     "output_type": "stream",
     "text": [
      "    Evaluation Episode 0/1\n",
      "    Average Reward over last 50 episodes: -23266.70\n",
      "    Min Reward over last 50 episodes: -23405.30\n",
      "    Max Reward over last 50 episodes: -23041.05\n",
      "    Evaluation Average Reward: -23005.72\n",
      "\n",
      "Running combination 95/9555 with parameters: {'epsilon': 0.025, 'epsilon_decay': 0.99, 'alpha': 0.9, 'gamma': 0.6, 'no_change_after_lap': 130}\n",
      "    Training Episode 0/5\n"
     ]
    },
    {
     "name": "stderr",
     "output_type": "stream",
     "text": [
      "95it [3:23:51, 115.90s/it]"
     ]
    },
    {
     "name": "stdout",
     "output_type": "stream",
     "text": [
      "    Evaluation Episode 0/1\n",
      "    Average Reward over last 50 episodes: -21924.44\n",
      "    Min Reward over last 50 episodes: -22143.91\n",
      "    Max Reward over last 50 episodes: -21754.69\n",
      "    Evaluation Average Reward: -21898.32\n",
      "\n",
      "Running combination 96/9555 with parameters: {'epsilon': 0.05, 'epsilon_decay': 0.995, 'alpha': 0.4, 'gamma': 1.0, 'no_change_after_lap': 115}\n",
      "    Training Episode 0/5\n"
     ]
    },
    {
     "name": "stderr",
     "output_type": "stream",
     "text": [
      "96it [3:25:49, 116.58s/it]"
     ]
    },
    {
     "name": "stdout",
     "output_type": "stream",
     "text": [
      "    Evaluation Episode 0/1\n",
      "    Average Reward over last 50 episodes: -25451.30\n",
      "    Min Reward over last 50 episodes: -25697.28\n",
      "    Max Reward over last 50 episodes: -25225.55\n",
      "    Evaluation Average Reward: -25525.82\n",
      "SKIPPING\n",
      "\n",
      "Running combination 97/9555 with parameters: {'epsilon': 0.1, 'epsilon_decay': 0.995, 'alpha': 0.9, 'gamma': 1.0, 'no_change_after_lap': 155}\n",
      "    Training Episode 0/5\n"
     ]
    },
    {
     "name": "stderr",
     "output_type": "stream",
     "text": [
      "97it [3:27:45, 116.46s/it]"
     ]
    },
    {
     "name": "stdout",
     "output_type": "stream",
     "text": [
      "    Evaluation Episode 0/1\n",
      "    Average Reward over last 50 episodes: -16349.84\n",
      "    Min Reward over last 50 episodes: -16418.70\n",
      "    Max Reward over last 50 episodes: -16277.20\n",
      "    Evaluation Average Reward: -16291.24\n",
      "\n",
      "Running combination 98/9555 with parameters: {'epsilon': 0.2, 'epsilon_decay': 0.99, 'alpha': 0.0, 'gamma': 0.4, 'no_change_after_lap': 150}\n",
      "    Training Episode 0/5\n"
     ]
    },
    {
     "name": "stderr",
     "output_type": "stream",
     "text": [
      "98it [3:29:40, 115.91s/it]"
     ]
    },
    {
     "name": "stdout",
     "output_type": "stream",
     "text": [
      "    Evaluation Episode 0/1\n",
      "    Average Reward over last 50 episodes: -17067.24\n",
      "    Min Reward over last 50 episodes: -17219.81\n",
      "    Max Reward over last 50 episodes: -16919.76\n",
      "    Evaluation Average Reward: -16815.80\n",
      "\n",
      "Running combination 99/9555 with parameters: {'epsilon': 0.1, 'epsilon_decay': 0.999, 'alpha': 0.0, 'gamma': 0.6, 'no_change_after_lap': 115}\n",
      "    Training Episode 0/5\n"
     ]
    },
    {
     "name": "stderr",
     "output_type": "stream",
     "text": [
      "99it [3:31:29, 113.87s/it]"
     ]
    },
    {
     "name": "stdout",
     "output_type": "stream",
     "text": [
      "    Evaluation Episode 0/1\n",
      "    Average Reward over last 50 episodes: -25557.07\n",
      "    Min Reward over last 50 episodes: -25823.37\n",
      "    Max Reward over last 50 episodes: -25214.40\n",
      "    Evaluation Average Reward: -25523.71\n",
      "\n",
      "Running combination 100/9555 with parameters: {'epsilon': 0.025, 'epsilon_decay': 0.995, 'alpha': 0.4, 'gamma': 0.9, 'no_change_after_lap': 160}\n",
      "    Training Episode 0/5\n"
     ]
    },
    {
     "name": "stderr",
     "output_type": "stream",
     "text": [
      "100it [3:33:27, 115.15s/it]"
     ]
    },
    {
     "name": "stdout",
     "output_type": "stream",
     "text": [
      "    Evaluation Episode 0/1\n",
      "    Average Reward over last 50 episodes: -16060.85\n",
      "    Min Reward over last 50 episodes: -16117.90\n",
      "    Max Reward over last 50 episodes: -15994.38\n",
      "    Evaluation Average Reward: -16113.80\n",
      "\n",
      "Running combination 101/9555 with parameters: {'epsilon': 0.0, 'epsilon_decay': 0.999, 'alpha': 1.0, 'gamma': 0.0, 'no_change_after_lap': 120}\n",
      "    Training Episode 0/5\n"
     ]
    },
    {
     "name": "stderr",
     "output_type": "stream",
     "text": [
      "101it [3:35:27, 116.65s/it]"
     ]
    },
    {
     "name": "stdout",
     "output_type": "stream",
     "text": [
      "    Evaluation Episode 0/1\n",
      "    Average Reward over last 50 episodes: -24518.11\n",
      "    Min Reward over last 50 episodes: -24659.10\n",
      "    Max Reward over last 50 episodes: -24334.03\n",
      "    Evaluation Average Reward: -24184.66\n",
      "\n",
      "Running combination 102/9555 with parameters: {'epsilon': 0.025, 'epsilon_decay': 0.99, 'alpha': 0.8, 'gamma': 0.2, 'no_change_after_lap': 120}\n",
      "    Training Episode 0/5\n"
     ]
    },
    {
     "name": "stderr",
     "output_type": "stream",
     "text": [
      "102it [3:37:23, 116.29s/it]"
     ]
    },
    {
     "name": "stdout",
     "output_type": "stream",
     "text": [
      "    Evaluation Episode 0/1\n",
      "    Average Reward over last 50 episodes: -24405.25\n",
      "    Min Reward over last 50 episodes: -24580.76\n",
      "    Max Reward over last 50 episodes: -24258.61\n",
      "    Evaluation Average Reward: -24434.70\n",
      "\n",
      "Running combination 103/9555 with parameters: {'epsilon': 0.05, 'epsilon_decay': 0.99, 'alpha': 0.0, 'gamma': 0.8, 'no_change_after_lap': 145}\n",
      "    Training Episode 0/5\n"
     ]
    },
    {
     "name": "stderr",
     "output_type": "stream",
     "text": [
      "103it [3:39:11, 113.79s/it]"
     ]
    },
    {
     "name": "stdout",
     "output_type": "stream",
     "text": [
      "    Evaluation Episode 0/1\n",
      "    Average Reward over last 50 episodes: -18226.83\n",
      "    Min Reward over last 50 episodes: -18368.81\n",
      "    Max Reward over last 50 episodes: -17918.20\n",
      "    Evaluation Average Reward: -18212.10\n",
      "\n",
      "Running combination 104/9555 with parameters: {'epsilon': 0.025, 'epsilon_decay': 0.995, 'alpha': 0.2, 'gamma': 0.4, 'no_change_after_lap': 125}\n",
      "    Training Episode 0/5\n"
     ]
    },
    {
     "name": "stderr",
     "output_type": "stream",
     "text": [
      "104it [3:41:09, 115.05s/it]"
     ]
    },
    {
     "name": "stdout",
     "output_type": "stream",
     "text": [
      "    Evaluation Episode 0/1\n",
      "    Average Reward over last 50 episodes: -23172.91\n",
      "    Min Reward over last 50 episodes: -23361.48\n",
      "    Max Reward over last 50 episodes: -22908.35\n",
      "    Evaluation Average Reward: -23223.22\n",
      "\n",
      "Running combination 105/9555 with parameters: {'epsilon': 0.1, 'epsilon_decay': 0.99, 'alpha': 1.0, 'gamma': 0.6, 'no_change_after_lap': 155}\n",
      "    Training Episode 0/5\n"
     ]
    },
    {
     "name": "stderr",
     "output_type": "stream",
     "text": [
      "105it [3:43:10, 116.90s/it]"
     ]
    },
    {
     "name": "stdout",
     "output_type": "stream",
     "text": [
      "    Evaluation Episode 0/1\n",
      "    Average Reward over last 50 episodes: -16328.64\n",
      "    Min Reward over last 50 episodes: -16429.85\n",
      "    Max Reward over last 50 episodes: -16209.68\n",
      "    Evaluation Average Reward: -16252.86\n",
      "\n",
      "Running combination 106/9555 with parameters: {'epsilon': 0.025, 'epsilon_decay': 0.999, 'alpha': 0.6, 'gamma': 1.0, 'no_change_after_lap': 140}\n",
      "    Training Episode 0/5\n"
     ]
    },
    {
     "name": "stderr",
     "output_type": "stream",
     "text": [
      "106it [3:45:05, 116.25s/it]"
     ]
    },
    {
     "name": "stdout",
     "output_type": "stream",
     "text": [
      "    Evaluation Episode 0/1\n",
      "    Average Reward over last 50 episodes: -19327.01\n",
      "    Min Reward over last 50 episodes: -19456.40\n",
      "    Max Reward over last 50 episodes: -19221.36\n",
      "    Evaluation Average Reward: -19692.95\n",
      "\n",
      "Running combination 107/9555 with parameters: {'epsilon': 0.1, 'epsilon_decay': 0.99, 'alpha': 0.9, 'gamma': 0.2, 'no_change_after_lap': 120}\n",
      "    Training Episode 0/5\n"
     ]
    },
    {
     "name": "stderr",
     "output_type": "stream",
     "text": [
      "107it [3:47:01, 116.37s/it]"
     ]
    },
    {
     "name": "stdout",
     "output_type": "stream",
     "text": [
      "    Evaluation Episode 0/1\n",
      "    Average Reward over last 50 episodes: -24392.39\n",
      "    Min Reward over last 50 episodes: -24651.71\n",
      "    Max Reward over last 50 episodes: -23969.69\n",
      "    Evaluation Average Reward: -24551.96\n",
      "\n",
      "Running combination 108/9555 with parameters: {'epsilon': 0.1, 'epsilon_decay': 0.99, 'alpha': 0.9, 'gamma': 0.4, 'no_change_after_lap': 140}\n",
      "    Training Episode 0/5\n"
     ]
    },
    {
     "name": "stderr",
     "output_type": "stream",
     "text": [
      "108it [3:49:00, 117.00s/it]"
     ]
    },
    {
     "name": "stdout",
     "output_type": "stream",
     "text": [
      "    Evaluation Episode 0/1\n",
      "    Average Reward over last 50 episodes: -19280.79\n",
      "    Min Reward over last 50 episodes: -19630.10\n",
      "    Max Reward over last 50 episodes: -19034.65\n",
      "    Evaluation Average Reward: -19521.32\n",
      "\n",
      "Running combination 109/9555 with parameters: {'epsilon': 0.1, 'epsilon_decay': 0.995, 'alpha': 1.0, 'gamma': 0.4, 'no_change_after_lap': 145}\n",
      "    Training Episode 0/5\n"
     ]
    },
    {
     "name": "stderr",
     "output_type": "stream",
     "text": [
      "109it [3:51:00, 117.80s/it]"
     ]
    },
    {
     "name": "stdout",
     "output_type": "stream",
     "text": [
      "    Evaluation Episode 0/1\n",
      "    Average Reward over last 50 episodes: -18201.03\n",
      "    Min Reward over last 50 episodes: -18422.84\n",
      "    Max Reward over last 50 episodes: -18065.31\n",
      "    Evaluation Average Reward: -18303.54\n",
      "SKIPPING\n",
      "\n",
      "Running combination 110/9555 with parameters: {'epsilon': 0.05, 'epsilon_decay': 0.99, 'alpha': 0.2, 'gamma': 0.0, 'no_change_after_lap': 130}\n",
      "    Training Episode 0/5\n"
     ]
    },
    {
     "name": "stderr",
     "output_type": "stream",
     "text": [
      "110it [3:52:58, 117.96s/it]"
     ]
    },
    {
     "name": "stdout",
     "output_type": "stream",
     "text": [
      "    Evaluation Episode 0/1\n",
      "    Average Reward over last 50 episodes: -21889.55\n",
      "    Min Reward over last 50 episodes: -22054.49\n",
      "    Max Reward over last 50 episodes: -21715.32\n",
      "    Evaluation Average Reward: -22161.25\n",
      "\n",
      "Running combination 111/9555 with parameters: {'epsilon': 0.0, 'epsilon_decay': 0.999, 'alpha': 0.8, 'gamma': 0.6, 'no_change_after_lap': 150}\n",
      "    Training Episode 0/5\n"
     ]
    },
    {
     "name": "stderr",
     "output_type": "stream",
     "text": [
      "111it [3:54:53, 117.24s/it]"
     ]
    },
    {
     "name": "stdout",
     "output_type": "stream",
     "text": [
      "    Evaluation Episode 0/1\n",
      "    Average Reward over last 50 episodes: -17015.41\n",
      "    Min Reward over last 50 episodes: -17262.85\n",
      "    Max Reward over last 50 episodes: -16836.69\n",
      "    Evaluation Average Reward: -17171.75\n",
      "\n",
      "Running combination 112/9555 with parameters: {'epsilon': 0.1, 'epsilon_decay': 0.99, 'alpha': 0.4, 'gamma': 0.4, 'no_change_after_lap': 140}\n",
      "    Training Episode 0/5\n"
     ]
    },
    {
     "name": "stderr",
     "output_type": "stream",
     "text": [
      "112it [3:56:53, 117.81s/it]"
     ]
    },
    {
     "name": "stdout",
     "output_type": "stream",
     "text": [
      "    Evaluation Episode 0/1\n",
      "    Average Reward over last 50 episodes: -19420.25\n",
      "    Min Reward over last 50 episodes: -19642.41\n",
      "    Max Reward over last 50 episodes: -18994.00\n",
      "    Evaluation Average Reward: -19434.38\n",
      "\n",
      "Running combination 113/9555 with parameters: {'epsilon': 0.025, 'epsilon_decay': 0.999, 'alpha': 0.6, 'gamma': 0.6, 'no_change_after_lap': 110}\n",
      "    Training Episode 0/5\n"
     ]
    },
    {
     "name": "stderr",
     "output_type": "stream",
     "text": [
      "113it [3:58:46, 116.34s/it]"
     ]
    },
    {
     "name": "stdout",
     "output_type": "stream",
     "text": [
      "    Evaluation Episode 0/1\n",
      "    Average Reward over last 50 episodes: -26906.08\n",
      "    Min Reward over last 50 episodes: -27188.39\n",
      "    Max Reward over last 50 episodes: -26571.66\n",
      "    Evaluation Average Reward: -26701.63\n",
      "\n",
      "Running combination 114/9555 with parameters: {'epsilon': 0.2, 'epsilon_decay': 0.99, 'alpha': 0.0, 'gamma': 0.0, 'no_change_after_lap': 145}\n",
      "    Training Episode 0/5\n"
     ]
    },
    {
     "name": "stderr",
     "output_type": "stream",
     "text": [
      "114it [4:00:36, 114.61s/it]"
     ]
    },
    {
     "name": "stdout",
     "output_type": "stream",
     "text": [
      "    Evaluation Episode 0/1\n",
      "    Average Reward over last 50 episodes: -18157.69\n",
      "    Min Reward over last 50 episodes: -18342.17\n",
      "    Max Reward over last 50 episodes: -17888.48\n",
      "    Evaluation Average Reward: -18320.15\n",
      "\n",
      "Running combination 115/9555 with parameters: {'epsilon': 0.0, 'epsilon_decay': 0.999, 'alpha': 0.0, 'gamma': 0.9, 'no_change_after_lap': 110}\n",
      "    Training Episode 0/5\n"
     ]
    },
    {
     "name": "stderr",
     "output_type": "stream",
     "text": [
      "115it [4:02:25, 112.88s/it]"
     ]
    },
    {
     "name": "stdout",
     "output_type": "stream",
     "text": [
      "    Evaluation Episode 0/1\n",
      "    Average Reward over last 50 episodes: -26746.63\n",
      "    Min Reward over last 50 episodes: -26999.50\n",
      "    Max Reward over last 50 episodes: -26531.32\n",
      "    Evaluation Average Reward: -26784.38\n",
      "\n",
      "Running combination 116/9555 with parameters: {'epsilon': 0.0, 'epsilon_decay': 0.999, 'alpha': 0.2, 'gamma': 0.4, 'no_change_after_lap': 150}\n",
      "    Training Episode 0/5\n"
     ]
    },
    {
     "name": "stderr",
     "output_type": "stream",
     "text": [
      "116it [4:04:22, 114.09s/it]"
     ]
    },
    {
     "name": "stdout",
     "output_type": "stream",
     "text": [
      "    Evaluation Episode 0/1\n",
      "    Average Reward over last 50 episodes: -17139.95\n",
      "    Min Reward over last 50 episodes: -17306.42\n",
      "    Max Reward over last 50 episodes: -16904.48\n",
      "    Evaluation Average Reward: -16909.46\n",
      "\n",
      "Running combination 117/9555 with parameters: {'epsilon': 0.1, 'epsilon_decay': 0.999, 'alpha': 0.6, 'gamma': 1.0, 'no_change_after_lap': 115}\n",
      "    Training Episode 0/5\n"
     ]
    },
    {
     "name": "stderr",
     "output_type": "stream",
     "text": [
      "117it [4:06:21, 115.55s/it]"
     ]
    },
    {
     "name": "stdout",
     "output_type": "stream",
     "text": [
      "    Evaluation Episode 0/1\n",
      "    Average Reward over last 50 episodes: -25702.76\n",
      "    Min Reward over last 50 episodes: -25903.50\n",
      "    Max Reward over last 50 episodes: -25450.67\n",
      "    Evaluation Average Reward: -25241.93\n",
      "\n",
      "Running combination 118/9555 with parameters: {'epsilon': 0.0, 'epsilon_decay': 0.995, 'alpha': 0.2, 'gamma': 0.8, 'no_change_after_lap': 135}\n",
      "    Training Episode 0/5\n"
     ]
    },
    {
     "name": "stderr",
     "output_type": "stream",
     "text": [
      "118it [4:08:14, 114.93s/it]"
     ]
    },
    {
     "name": "stdout",
     "output_type": "stream",
     "text": [
      "    Evaluation Episode 0/1\n",
      "    Average Reward over last 50 episodes: -20676.27\n",
      "    Min Reward over last 50 episodes: -20825.04\n",
      "    Max Reward over last 50 episodes: -20469.22\n",
      "    Evaluation Average Reward: -20465.13\n",
      "\n",
      "Running combination 119/9555 with parameters: {'epsilon': 0.025, 'epsilon_decay': 0.999, 'alpha': 0.2, 'gamma': 0.0, 'no_change_after_lap': 105}\n",
      "    Training Episode 0/5\n"
     ]
    },
    {
     "name": "stderr",
     "output_type": "stream",
     "text": [
      "119it [4:10:07, 114.24s/it]"
     ]
    },
    {
     "name": "stdout",
     "output_type": "stream",
     "text": [
      "    Evaluation Episode 0/1\n",
      "    Average Reward over last 50 episodes: -28092.34\n",
      "    Min Reward over last 50 episodes: -28399.50\n",
      "    Max Reward over last 50 episodes: -27783.63\n",
      "    Evaluation Average Reward: -28371.93\n",
      "\n",
      "Running combination 120/9555 with parameters: {'epsilon': 0.2, 'epsilon_decay': 0.995, 'alpha': 0.2, 'gamma': 0.9, 'no_change_after_lap': 155}\n",
      "    Training Episode 0/5\n"
     ]
    },
    {
     "name": "stderr",
     "output_type": "stream",
     "text": [
      "120it [4:12:08, 116.40s/it]"
     ]
    },
    {
     "name": "stdout",
     "output_type": "stream",
     "text": [
      "    Evaluation Episode 0/1\n",
      "    Average Reward over last 50 episodes: -16322.09\n",
      "    Min Reward over last 50 episodes: -16415.86\n",
      "    Max Reward over last 50 episodes: -16250.91\n",
      "    Evaluation Average Reward: -16371.51\n",
      "\n",
      "Running combination 121/9555 with parameters: {'epsilon': 0.0, 'epsilon_decay': 0.999, 'alpha': 0.9, 'gamma': 0.0, 'no_change_after_lap': 105}\n",
      "    Training Episode 0/5\n"
     ]
    },
    {
     "name": "stderr",
     "output_type": "stream",
     "text": [
      "121it [4:13:59, 114.73s/it]"
     ]
    },
    {
     "name": "stdout",
     "output_type": "stream",
     "text": [
      "    Evaluation Episode 0/1\n",
      "    Average Reward over last 50 episodes: -28180.37\n",
      "    Min Reward over last 50 episodes: -28398.66\n",
      "    Max Reward over last 50 episodes: -27847.86\n",
      "    Evaluation Average Reward: -27715.23\n",
      "\n",
      "Running combination 122/9555 with parameters: {'epsilon': 0.025, 'epsilon_decay': 0.995, 'alpha': 1.0, 'gamma': 0.9, 'no_change_after_lap': 150}\n",
      "    Training Episode 0/5\n"
     ]
    },
    {
     "name": "stderr",
     "output_type": "stream",
     "text": [
      "122it [4:15:54, 114.73s/it]"
     ]
    },
    {
     "name": "stdout",
     "output_type": "stream",
     "text": [
      "    Evaluation Episode 0/1\n",
      "    Average Reward over last 50 episodes: -17069.84\n",
      "    Min Reward over last 50 episodes: -17269.36\n",
      "    Max Reward over last 50 episodes: -16866.68\n",
      "    Evaluation Average Reward: -17082.37\n",
      "\n",
      "Running combination 123/9555 with parameters: {'epsilon': 0.025, 'epsilon_decay': 0.999, 'alpha': 0.6, 'gamma': 0.8, 'no_change_after_lap': 145}\n",
      "    Training Episode 0/5\n"
     ]
    },
    {
     "name": "stderr",
     "output_type": "stream",
     "text": [
      "123it [4:17:54, 116.25s/it]"
     ]
    },
    {
     "name": "stdout",
     "output_type": "stream",
     "text": [
      "    Evaluation Episode 0/1\n",
      "    Average Reward over last 50 episodes: -18103.88\n",
      "    Min Reward over last 50 episodes: -18243.85\n",
      "    Max Reward over last 50 episodes: -17874.10\n",
      "    Evaluation Average Reward: -18339.31\n",
      "\n",
      "Running combination 124/9555 with parameters: {'epsilon': 0.025, 'epsilon_decay': 0.99, 'alpha': 1.0, 'gamma': 0.9, 'no_change_after_lap': 150}\n",
      "    Training Episode 0/5\n"
     ]
    },
    {
     "name": "stderr",
     "output_type": "stream",
     "text": [
      "124it [4:19:51, 116.42s/it]"
     ]
    },
    {
     "name": "stdout",
     "output_type": "stream",
     "text": [
      "    Evaluation Episode 0/1\n",
      "    Average Reward over last 50 episodes: -17095.98\n",
      "    Min Reward over last 50 episodes: -17211.23\n",
      "    Max Reward over last 50 episodes: -16817.73\n",
      "    Evaluation Average Reward: -17211.78\n",
      "\n",
      "Running combination 125/9555 with parameters: {'epsilon': 0.1, 'epsilon_decay': 0.999, 'alpha': 0.8, 'gamma': 0.9, 'no_change_after_lap': 110}\n",
      "    Training Episode 0/5\n"
     ]
    },
    {
     "name": "stderr",
     "output_type": "stream",
     "text": [
      "125it [4:21:50, 117.38s/it]"
     ]
    },
    {
     "name": "stdout",
     "output_type": "stream",
     "text": [
      "    Evaluation Episode 0/1\n",
      "    Average Reward over last 50 episodes: -26898.81\n",
      "    Min Reward over last 50 episodes: -27101.56\n",
      "    Max Reward over last 50 episodes: -26540.30\n",
      "    Evaluation Average Reward: -26670.93\n",
      "\n",
      "Running combination 126/9555 with parameters: {'epsilon': 0.025, 'epsilon_decay': 0.999, 'alpha': 0.4, 'gamma': 1.0, 'no_change_after_lap': 140}\n",
      "    Training Episode 0/5\n"
     ]
    },
    {
     "name": "stderr",
     "output_type": "stream",
     "text": [
      "126it [4:23:48, 117.38s/it]"
     ]
    },
    {
     "name": "stdout",
     "output_type": "stream",
     "text": [
      "    Evaluation Episode 0/1\n",
      "    Average Reward over last 50 episodes: -19411.20\n",
      "    Min Reward over last 50 episodes: -19563.15\n",
      "    Max Reward over last 50 episodes: -19121.50\n",
      "    Evaluation Average Reward: -19227.59\n",
      "\n",
      "Running combination 127/9555 with parameters: {'epsilon': 0.2, 'epsilon_decay': 0.995, 'alpha': 1.0, 'gamma': 0.9, 'no_change_after_lap': 155}\n",
      "    Training Episode 0/5\n"
     ]
    },
    {
     "name": "stderr",
     "output_type": "stream",
     "text": [
      "127it [4:25:48, 118.22s/it]"
     ]
    },
    {
     "name": "stdout",
     "output_type": "stream",
     "text": [
      "    Evaluation Episode 0/1\n",
      "    Average Reward over last 50 episodes: -16324.28\n",
      "    Min Reward over last 50 episodes: -16388.47\n",
      "    Max Reward over last 50 episodes: -16260.50\n",
      "    Evaluation Average Reward: -16407.24\n",
      "\n",
      "Running combination 128/9555 with parameters: {'epsilon': 0.05, 'epsilon_decay': 0.999, 'alpha': 1.0, 'gamma': 0.9, 'no_change_after_lap': 140}\n",
      "    Training Episode 0/5\n"
     ]
    },
    {
     "name": "stderr",
     "output_type": "stream",
     "text": [
      "128it [4:27:45, 117.91s/it]"
     ]
    },
    {
     "name": "stdout",
     "output_type": "stream",
     "text": [
      "    Evaluation Episode 0/1\n",
      "    Average Reward over last 50 episodes: -19296.03\n",
      "    Min Reward over last 50 episodes: -19487.70\n",
      "    Max Reward over last 50 episodes: -18954.72\n",
      "    Evaluation Average Reward: -19355.76\n",
      "\n",
      "Running combination 129/9555 with parameters: {'epsilon': 0.1, 'epsilon_decay': 0.999, 'alpha': 0.9, 'gamma': 1.0, 'no_change_after_lap': 150}\n",
      "    Training Episode 0/5\n"
     ]
    },
    {
     "name": "stderr",
     "output_type": "stream",
     "text": [
      "129it [4:29:42, 117.57s/it]"
     ]
    },
    {
     "name": "stdout",
     "output_type": "stream",
     "text": [
      "    Evaluation Episode 0/1\n",
      "    Average Reward over last 50 episodes: -17010.81\n",
      "    Min Reward over last 50 episodes: -17230.47\n",
      "    Max Reward over last 50 episodes: -16846.21\n",
      "    Evaluation Average Reward: -17058.35\n",
      "\n",
      "Running combination 130/9555 with parameters: {'epsilon': 0.1, 'epsilon_decay': 0.99, 'alpha': 0.2, 'gamma': 0.4, 'no_change_after_lap': 100}\n",
      "    Training Episode 0/5\n"
     ]
    },
    {
     "name": "stderr",
     "output_type": "stream",
     "text": [
      "130it [4:31:43, 118.62s/it]"
     ]
    },
    {
     "name": "stdout",
     "output_type": "stream",
     "text": [
      "    Evaluation Episode 0/1\n",
      "    Average Reward over last 50 episodes: -29261.17\n",
      "    Min Reward over last 50 episodes: -29458.81\n",
      "    Max Reward over last 50 episodes: -29079.67\n",
      "    Evaluation Average Reward: -29004.72\n",
      "\n",
      "Running combination 131/9555 with parameters: {'epsilon': 0.2, 'epsilon_decay': 0.999, 'alpha': 0.0, 'gamma': 0.6, 'no_change_after_lap': 130}\n",
      "    Training Episode 0/5\n"
     ]
    },
    {
     "name": "stderr",
     "output_type": "stream",
     "text": [
      "131it [4:33:35, 116.67s/it]"
     ]
    },
    {
     "name": "stdout",
     "output_type": "stream",
     "text": [
      "    Evaluation Episode 0/1\n",
      "    Average Reward over last 50 episodes: -21867.75\n",
      "    Min Reward over last 50 episodes: -22101.34\n",
      "    Max Reward over last 50 episodes: -21535.27\n",
      "    Evaluation Average Reward: -21896.98\n",
      "\n",
      "Running combination 132/9555 with parameters: {'epsilon': 0.0, 'epsilon_decay': 0.99, 'alpha': 0.2, 'gamma': 0.8, 'no_change_after_lap': 130}\n",
      "    Training Episode 0/5\n"
     ]
    },
    {
     "name": "stderr",
     "output_type": "stream",
     "text": [
      "132it [4:35:31, 116.58s/it]"
     ]
    },
    {
     "name": "stdout",
     "output_type": "stream",
     "text": [
      "    Evaluation Episode 0/1\n",
      "    Average Reward over last 50 episodes: -21947.73\n",
      "    Min Reward over last 50 episodes: -22071.11\n",
      "    Max Reward over last 50 episodes: -21727.63\n",
      "    Evaluation Average Reward: -21494.89\n",
      "\n",
      "Running combination 133/9555 with parameters: {'epsilon': 0.1, 'epsilon_decay': 0.999, 'alpha': 1.0, 'gamma': 1.0, 'no_change_after_lap': 150}\n",
      "    Training Episode 0/5\n"
     ]
    },
    {
     "name": "stderr",
     "output_type": "stream",
     "text": [
      "133it [4:37:26, 116.13s/it]"
     ]
    },
    {
     "name": "stdout",
     "output_type": "stream",
     "text": [
      "    Evaluation Episode 0/1\n",
      "    Average Reward over last 50 episodes: -17139.80\n",
      "    Min Reward over last 50 episodes: -17289.02\n",
      "    Max Reward over last 50 episodes: -17046.32\n",
      "    Evaluation Average Reward: -16974.74\n",
      "\n",
      "Running combination 134/9555 with parameters: {'epsilon': 0.025, 'epsilon_decay': 0.999, 'alpha': 1.0, 'gamma': 0.8, 'no_change_after_lap': 160}\n",
      "    Training Episode 0/5\n"
     ]
    },
    {
     "name": "stderr",
     "output_type": "stream",
     "text": [
      "134it [4:39:20, 115.35s/it]"
     ]
    },
    {
     "name": "stdout",
     "output_type": "stream",
     "text": [
      "    Evaluation Episode 0/1\n",
      "    Average Reward over last 50 episodes: -16123.76\n",
      "    Min Reward over last 50 episodes: -16173.84\n",
      "    Max Reward over last 50 episodes: -16023.18\n",
      "    Evaluation Average Reward: -16066.31\n",
      "\n",
      "Running combination 135/9555 with parameters: {'epsilon': 0.0, 'epsilon_decay': 0.995, 'alpha': 0.2, 'gamma': 1.0, 'no_change_after_lap': 130}\n",
      "    Training Episode 0/5\n"
     ]
    },
    {
     "name": "stderr",
     "output_type": "stream",
     "text": [
      "135it [4:41:15, 115.36s/it]"
     ]
    },
    {
     "name": "stdout",
     "output_type": "stream",
     "text": [
      "    Evaluation Episode 0/1\n",
      "    Average Reward over last 50 episodes: -21831.54\n",
      "    Min Reward over last 50 episodes: -22129.47\n",
      "    Max Reward over last 50 episodes: -21532.04\n",
      "    Evaluation Average Reward: -21912.59\n",
      "\n",
      "Running combination 136/9555 with parameters: {'epsilon': 0.05, 'epsilon_decay': 0.99, 'alpha': 0.0, 'gamma': 0.4, 'no_change_after_lap': 140}\n",
      "    Training Episode 0/5\n"
     ]
    },
    {
     "name": "stderr",
     "output_type": "stream",
     "text": [
      "136it [4:43:03, 113.17s/it]"
     ]
    },
    {
     "name": "stdout",
     "output_type": "stream",
     "text": [
      "    Evaluation Episode 0/1\n",
      "    Average Reward over last 50 episodes: -19377.02\n",
      "    Min Reward over last 50 episodes: -19607.57\n",
      "    Max Reward over last 50 episodes: -19091.42\n",
      "    Evaluation Average Reward: -19500.01\n",
      "\n",
      "Running combination 137/9555 with parameters: {'epsilon': 0.025, 'epsilon_decay': 0.995, 'alpha': 0.0, 'gamma': 0.4, 'no_change_after_lap': 145}\n",
      "    Training Episode 0/5\n"
     ]
    },
    {
     "name": "stderr",
     "output_type": "stream",
     "text": [
      "137it [4:44:56, 113.09s/it]"
     ]
    },
    {
     "name": "stdout",
     "output_type": "stream",
     "text": [
      "    Evaluation Episode 0/1\n",
      "    Average Reward over last 50 episodes: -18090.27\n",
      "    Min Reward over last 50 episodes: -18371.68\n",
      "    Max Reward over last 50 episodes: -17938.64\n",
      "    Evaluation Average Reward: -17878.88\n",
      "\n",
      "Running combination 138/9555 with parameters: {'epsilon': 0.0, 'epsilon_decay': 0.99, 'alpha': 0.9, 'gamma': 0.9, 'no_change_after_lap': 140}\n",
      "    Training Episode 0/5\n"
     ]
    },
    {
     "name": "stderr",
     "output_type": "stream",
     "text": [
      "138it [4:46:58, 115.68s/it]"
     ]
    },
    {
     "name": "stdout",
     "output_type": "stream",
     "text": [
      "    Evaluation Episode 0/1\n",
      "    Average Reward over last 50 episodes: -19448.01\n",
      "    Min Reward over last 50 episodes: -19655.32\n",
      "    Max Reward over last 50 episodes: -18991.08\n",
      "    Evaluation Average Reward: -19336.96\n",
      "\n",
      "Running combination 139/9555 with parameters: {'epsilon': 0.2, 'epsilon_decay': 0.99, 'alpha': 0.6, 'gamma': 0.9, 'no_change_after_lap': 130}\n",
      "    Training Episode 0/5\n"
     ]
    },
    {
     "name": "stderr",
     "output_type": "stream",
     "text": [
      "139it [4:48:57, 116.63s/it]"
     ]
    },
    {
     "name": "stdout",
     "output_type": "stream",
     "text": [
      "    Evaluation Episode 0/1\n",
      "    Average Reward over last 50 episodes: -21729.04\n",
      "    Min Reward over last 50 episodes: -22108.80\n",
      "    Max Reward over last 50 episodes: -21571.07\n",
      "    Evaluation Average Reward: -21636.58\n",
      "\n",
      "Running combination 140/9555 with parameters: {'epsilon': 0.0, 'epsilon_decay': 0.999, 'alpha': 0.9, 'gamma': 0.8, 'no_change_after_lap': 105}\n",
      "    Training Episode 0/5\n"
     ]
    },
    {
     "name": "stderr",
     "output_type": "stream",
     "text": [
      "140it [4:50:55, 117.09s/it]"
     ]
    },
    {
     "name": "stdout",
     "output_type": "stream",
     "text": [
      "    Evaluation Episode 0/1\n",
      "    Average Reward over last 50 episodes: -28133.29\n",
      "    Min Reward over last 50 episodes: -28372.30\n",
      "    Max Reward over last 50 episodes: -27715.01\n",
      "    Evaluation Average Reward: -28360.43\n",
      "\n",
      "Running combination 141/9555 with parameters: {'epsilon': 0.025, 'epsilon_decay': 0.995, 'alpha': 0.4, 'gamma': 0.2, 'no_change_after_lap': 100}\n",
      "    Training Episode 0/5\n"
     ]
    },
    {
     "name": "stderr",
     "output_type": "stream",
     "text": [
      "141it [4:52:54, 117.56s/it]"
     ]
    },
    {
     "name": "stdout",
     "output_type": "stream",
     "text": [
      "    Evaluation Episode 0/1\n",
      "    Average Reward over last 50 episodes: -29333.96\n",
      "    Min Reward over last 50 episodes: -29666.60\n",
      "    Max Reward over last 50 episodes: -29009.56\n",
      "    Evaluation Average Reward: -29338.26\n",
      "\n",
      "Running combination 142/9555 with parameters: {'epsilon': 0.0, 'epsilon_decay': 0.995, 'alpha': 0.9, 'gamma': 1.0, 'no_change_after_lap': 110}\n",
      "    Training Episode 0/5\n"
     ]
    },
    {
     "name": "stderr",
     "output_type": "stream",
     "text": [
      "142it [4:54:51, 117.51s/it]"
     ]
    },
    {
     "name": "stdout",
     "output_type": "stream",
     "text": [
      "    Evaluation Episode 0/1\n",
      "    Average Reward over last 50 episodes: -26823.56\n",
      "    Min Reward over last 50 episodes: -27157.04\n",
      "    Max Reward over last 50 episodes: -26471.75\n",
      "    Evaluation Average Reward: -26755.05\n",
      "\n",
      "Running combination 143/9555 with parameters: {'epsilon': 0.1, 'epsilon_decay': 0.995, 'alpha': 0.4, 'gamma': 1.0, 'no_change_after_lap': 140}\n",
      "    Training Episode 0/5\n"
     ]
    },
    {
     "name": "stderr",
     "output_type": "stream",
     "text": [
      "143it [4:56:52, 118.54s/it]"
     ]
    },
    {
     "name": "stdout",
     "output_type": "stream",
     "text": [
      "    Evaluation Episode 0/1\n",
      "    Average Reward over last 50 episodes: -19311.87\n",
      "    Min Reward over last 50 episodes: -19504.62\n",
      "    Max Reward over last 50 episodes: -19107.41\n",
      "    Evaluation Average Reward: -19345.27\n",
      "\n",
      "Running combination 144/9555 with parameters: {'epsilon': 0.2, 'epsilon_decay': 0.99, 'alpha': 0.6, 'gamma': 0.4, 'no_change_after_lap': 125}\n",
      "    Training Episode 0/5\n"
     ]
    },
    {
     "name": "stderr",
     "output_type": "stream",
     "text": [
      "144it [4:58:50, 118.44s/it]"
     ]
    },
    {
     "name": "stdout",
     "output_type": "stream",
     "text": [
      "    Evaluation Episode 0/1\n",
      "    Average Reward over last 50 episodes: -23090.92\n",
      "    Min Reward over last 50 episodes: -23210.24\n",
      "    Max Reward over last 50 episodes: -22792.93\n",
      "    Evaluation Average Reward: -22744.87\n",
      "\n",
      "Running combination 145/9555 with parameters: {'epsilon': 0.0, 'epsilon_decay': 0.995, 'alpha': 0.6, 'gamma': 0.9, 'no_change_after_lap': 155}\n",
      "    Training Episode 0/5\n"
     ]
    },
    {
     "name": "stderr",
     "output_type": "stream",
     "text": [
      "145it [5:00:46, 117.69s/it]"
     ]
    },
    {
     "name": "stdout",
     "output_type": "stream",
     "text": [
      "    Evaluation Episode 0/1\n",
      "    Average Reward over last 50 episodes: -16332.67\n",
      "    Min Reward over last 50 episodes: -16420.46\n",
      "    Max Reward over last 50 episodes: -16231.11\n",
      "    Evaluation Average Reward: -16379.15\n",
      "\n",
      "Running combination 146/9555 with parameters: {'epsilon': 0.05, 'epsilon_decay': 0.995, 'alpha': 0.0, 'gamma': 0.2, 'no_change_after_lap': 130}\n",
      "    Training Episode 0/5\n"
     ]
    },
    {
     "name": "stderr",
     "output_type": "stream",
     "text": [
      "146it [5:02:36, 115.30s/it]"
     ]
    },
    {
     "name": "stdout",
     "output_type": "stream",
     "text": [
      "    Evaluation Episode 0/1\n",
      "    Average Reward over last 50 episodes: -21849.86\n",
      "    Min Reward over last 50 episodes: -21932.36\n",
      "    Max Reward over last 50 episodes: -21669.70\n",
      "    Evaluation Average Reward: -21630.69\n",
      "\n",
      "Running combination 147/9555 with parameters: {'epsilon': 0.1, 'epsilon_decay': 0.99, 'alpha': 0.6, 'gamma': 0.6, 'no_change_after_lap': 135}\n",
      "    Training Episode 0/5\n"
     ]
    },
    {
     "name": "stderr",
     "output_type": "stream",
     "text": [
      "147it [5:04:35, 116.47s/it]"
     ]
    },
    {
     "name": "stdout",
     "output_type": "stream",
     "text": [
      "    Evaluation Episode 0/1\n",
      "    Average Reward over last 50 episodes: -20625.42\n",
      "    Min Reward over last 50 episodes: -20819.58\n",
      "    Max Reward over last 50 episodes: -20313.54\n",
      "    Evaluation Average Reward: -20833.40\n",
      "\n",
      "Running combination 148/9555 with parameters: {'epsilon': 0.1, 'epsilon_decay': 0.995, 'alpha': 0.6, 'gamma': 0.0, 'no_change_after_lap': 135}\n",
      "    Training Episode 0/5\n"
     ]
    },
    {
     "name": "stderr",
     "output_type": "stream",
     "text": [
      "148it [5:06:35, 117.58s/it]"
     ]
    },
    {
     "name": "stdout",
     "output_type": "stream",
     "text": [
      "    Evaluation Episode 0/1\n",
      "    Average Reward over last 50 episodes: -20634.98\n",
      "    Min Reward over last 50 episodes: -20900.59\n",
      "    Max Reward over last 50 episodes: -20224.95\n",
      "    Evaluation Average Reward: -20805.12\n",
      "\n",
      "Running combination 149/9555 with parameters: {'epsilon': 0.0, 'epsilon_decay': 0.99, 'alpha': 0.9, 'gamma': 0.4, 'no_change_after_lap': 140}\n",
      "    Training Episode 0/5\n"
     ]
    },
    {
     "name": "stderr",
     "output_type": "stream",
     "text": [
      "149it [5:08:35, 118.30s/it]"
     ]
    },
    {
     "name": "stdout",
     "output_type": "stream",
     "text": [
      "    Evaluation Episode 0/1\n",
      "    Average Reward over last 50 episodes: -19417.89\n",
      "    Min Reward over last 50 episodes: -19567.12\n",
      "    Max Reward over last 50 episodes: -19063.91\n",
      "    Evaluation Average Reward: -19150.26\n",
      "\n",
      "Running combination 150/9555 with parameters: {'epsilon': 0.05, 'epsilon_decay': 0.995, 'alpha': 0.8, 'gamma': 0.6, 'no_change_after_lap': 130}\n",
      "    Training Episode 0/5\n"
     ]
    },
    {
     "name": "stderr",
     "output_type": "stream",
     "text": [
      "150it [5:10:29, 117.02s/it]"
     ]
    },
    {
     "name": "stdout",
     "output_type": "stream",
     "text": [
      "    Evaluation Episode 0/1\n",
      "    Average Reward over last 50 episodes: -21788.25\n",
      "    Min Reward over last 50 episodes: -22094.13\n",
      "    Max Reward over last 50 episodes: -21450.19\n",
      "    Evaluation Average Reward: -21754.91\n",
      "SKIPPING\n",
      "\n",
      "Running combination 151/9555 with parameters: {'epsilon': 0.0, 'epsilon_decay': 0.999, 'alpha': 0.0, 'gamma': 1.0, 'no_change_after_lap': 115}\n",
      "    Training Episode 0/5\n"
     ]
    },
    {
     "name": "stderr",
     "output_type": "stream",
     "text": [
      "151it [5:12:18, 114.65s/it]"
     ]
    },
    {
     "name": "stdout",
     "output_type": "stream",
     "text": [
      "    Evaluation Episode 0/1\n",
      "    Average Reward over last 50 episodes: -25656.62\n",
      "    Min Reward over last 50 episodes: -25903.93\n",
      "    Max Reward over last 50 episodes: -25413.33\n",
      "    Evaluation Average Reward: -25409.41\n",
      "\n",
      "Running combination 152/9555 with parameters: {'epsilon': 0.0, 'epsilon_decay': 0.999, 'alpha': 0.6, 'gamma': 0.0, 'no_change_after_lap': 120}\n",
      "    Training Episode 0/5\n"
     ]
    },
    {
     "name": "stderr",
     "output_type": "stream",
     "text": [
      "152it [5:14:13, 114.80s/it]"
     ]
    },
    {
     "name": "stdout",
     "output_type": "stream",
     "text": [
      "    Evaluation Episode 0/1\n",
      "    Average Reward over last 50 episodes: -24348.15\n",
      "    Min Reward over last 50 episodes: -24602.09\n",
      "    Max Reward over last 50 episodes: -24077.06\n",
      "    Evaluation Average Reward: -24604.31\n",
      "\n",
      "Running combination 153/9555 with parameters: {'epsilon': 0.0, 'epsilon_decay': 0.995, 'alpha': 0.8, 'gamma': 0.4, 'no_change_after_lap': 105}\n",
      "    Training Episode 0/5\n"
     ]
    },
    {
     "name": "stderr",
     "output_type": "stream",
     "text": [
      "153it [5:16:15, 116.77s/it]"
     ]
    },
    {
     "name": "stdout",
     "output_type": "stream",
     "text": [
      "    Evaluation Episode 0/1\n",
      "    Average Reward over last 50 episodes: -28133.29\n",
      "    Min Reward over last 50 episodes: -28438.21\n",
      "    Max Reward over last 50 episodes: -27837.66\n",
      "    Evaluation Average Reward: -28352.82\n",
      "\n",
      "Running combination 154/9555 with parameters: {'epsilon': 0.0, 'epsilon_decay': 0.995, 'alpha': 0.8, 'gamma': 0.0, 'no_change_after_lap': 115}\n",
      "    Training Episode 0/5\n"
     ]
    },
    {
     "name": "stderr",
     "output_type": "stream",
     "text": [
      "154it [5:18:13, 117.10s/it]"
     ]
    },
    {
     "name": "stdout",
     "output_type": "stream",
     "text": [
      "    Evaluation Episode 0/1\n",
      "    Average Reward over last 50 episodes: -25454.10\n",
      "    Min Reward over last 50 episodes: -25674.81\n",
      "    Max Reward over last 50 episodes: -25215.47\n",
      "    Evaluation Average Reward: -25859.17\n",
      "\n",
      "Running combination 155/9555 with parameters: {'epsilon': 0.1, 'epsilon_decay': 0.999, 'alpha': 0.8, 'gamma': 0.6, 'no_change_after_lap': 115}\n",
      "    Training Episode 0/5\n"
     ]
    },
    {
     "name": "stderr",
     "output_type": "stream",
     "text": [
      "155it [5:20:07, 116.30s/it]"
     ]
    },
    {
     "name": "stdout",
     "output_type": "stream",
     "text": [
      "    Evaluation Episode 0/1\n",
      "    Average Reward over last 50 episodes: -25701.49\n",
      "    Min Reward over last 50 episodes: -25910.50\n",
      "    Max Reward over last 50 episodes: -25498.80\n",
      "    Evaluation Average Reward: -25476.33\n",
      "\n",
      "Running combination 156/9555 with parameters: {'epsilon': 0.1, 'epsilon_decay': 0.999, 'alpha': 0.0, 'gamma': 0.8, 'no_change_after_lap': 110}\n",
      "    Training Episode 0/5\n"
     ]
    },
    {
     "name": "stderr",
     "output_type": "stream",
     "text": [
      "156it [5:22:03, 116.21s/it]"
     ]
    },
    {
     "name": "stdout",
     "output_type": "stream",
     "text": [
      "    Evaluation Episode 0/1\n",
      "    Average Reward over last 50 episodes: -26786.11\n",
      "    Min Reward over last 50 episodes: -27158.51\n",
      "    Max Reward over last 50 episodes: -26582.34\n",
      "    Evaluation Average Reward: -26629.30\n",
      "\n",
      "Running combination 157/9555 with parameters: {'epsilon': 0.1, 'epsilon_decay': 0.999, 'alpha': 0.8, 'gamma': 1.0, 'no_change_after_lap': 145}\n",
      "    Training Episode 0/5\n"
     ]
    },
    {
     "name": "stderr",
     "output_type": "stream",
     "text": [
      "157it [5:24:00, 116.55s/it]"
     ]
    },
    {
     "name": "stdout",
     "output_type": "stream",
     "text": [
      "    Evaluation Episode 0/1\n",
      "    Average Reward over last 50 episodes: -18135.25\n",
      "    Min Reward over last 50 episodes: -18600.92\n",
      "    Max Reward over last 50 episodes: -17784.75\n",
      "    Evaluation Average Reward: -18126.96\n",
      "\n",
      "Running combination 158/9555 with parameters: {'epsilon': 0.2, 'epsilon_decay': 0.999, 'alpha': 0.9, 'gamma': 0.4, 'no_change_after_lap': 110}\n",
      "    Training Episode 0/5\n"
     ]
    },
    {
     "name": "stderr",
     "output_type": "stream",
     "text": [
      "158it [5:25:55, 115.97s/it]"
     ]
    },
    {
     "name": "stdout",
     "output_type": "stream",
     "text": [
      "    Evaluation Episode 0/1\n",
      "    Average Reward over last 50 episodes: -26932.04\n",
      "    Min Reward over last 50 episodes: -27108.22\n",
      "    Max Reward over last 50 episodes: -26573.91\n",
      "    Evaluation Average Reward: -27031.91\n",
      "\n",
      "Running combination 159/9555 with parameters: {'epsilon': 0.0, 'epsilon_decay': 0.995, 'alpha': 0.2, 'gamma': 0.8, 'no_change_after_lap': 115}\n",
      "    Training Episode 0/5\n"
     ]
    },
    {
     "name": "stderr",
     "output_type": "stream",
     "text": [
      "159it [5:27:47, 114.73s/it]"
     ]
    },
    {
     "name": "stdout",
     "output_type": "stream",
     "text": [
      "    Evaluation Episode 0/1\n",
      "    Average Reward over last 50 episodes: -25783.57\n",
      "    Min Reward over last 50 episodes: -25832.32\n",
      "    Max Reward over last 50 episodes: -25719.14\n",
      "    Evaluation Average Reward: -25639.41\n",
      "\n",
      "Running combination 160/9555 with parameters: {'epsilon': 0.0, 'epsilon_decay': 0.995, 'alpha': 0.9, 'gamma': 0.9, 'no_change_after_lap': 125}\n",
      "    Training Episode 0/5\n"
     ]
    },
    {
     "name": "stderr",
     "output_type": "stream",
     "text": [
      "160it [5:29:42, 114.95s/it]"
     ]
    },
    {
     "name": "stdout",
     "output_type": "stream",
     "text": [
      "    Evaluation Episode 0/1\n",
      "    Average Reward over last 50 episodes: -23004.79\n",
      "    Min Reward over last 50 episodes: -23328.49\n",
      "    Max Reward over last 50 episodes: -22758.69\n",
      "    Evaluation Average Reward: -22863.41\n",
      "\n",
      "Running combination 161/9555 with parameters: {'epsilon': 0.1, 'epsilon_decay': 0.999, 'alpha': 0.4, 'gamma': 0.4, 'no_change_after_lap': 110}\n",
      "    Training Episode 0/5\n"
     ]
    },
    {
     "name": "stderr",
     "output_type": "stream",
     "text": [
      "161it [5:31:38, 115.21s/it]"
     ]
    },
    {
     "name": "stdout",
     "output_type": "stream",
     "text": [
      "    Evaluation Episode 0/1\n",
      "    Average Reward over last 50 episodes: -26857.07\n",
      "    Min Reward over last 50 episodes: -27135.03\n",
      "    Max Reward over last 50 episodes: -26500.12\n",
      "    Evaluation Average Reward: -26783.64\n",
      "\n",
      "Running combination 162/9555 with parameters: {'epsilon': 0.2, 'epsilon_decay': 0.99, 'alpha': 0.6, 'gamma': 0.6, 'no_change_after_lap': 100}\n",
      "    Training Episode 0/5\n"
     ]
    },
    {
     "name": "stderr",
     "output_type": "stream",
     "text": [
      "162it [5:33:42, 117.75s/it]"
     ]
    },
    {
     "name": "stdout",
     "output_type": "stream",
     "text": [
      "    Evaluation Episode 0/1\n",
      "    Average Reward over last 50 episodes: -29503.16\n",
      "    Min Reward over last 50 episodes: -29947.57\n",
      "    Max Reward over last 50 episodes: -29007.37\n",
      "    Evaluation Average Reward: -29608.30\n",
      "\n",
      "Running combination 163/9555 with parameters: {'epsilon': 0.025, 'epsilon_decay': 0.999, 'alpha': 0.6, 'gamma': 0.2, 'no_change_after_lap': 155}\n",
      "    Training Episode 0/5\n"
     ]
    },
    {
     "name": "stderr",
     "output_type": "stream",
     "text": [
      "163it [5:35:39, 117.47s/it]"
     ]
    },
    {
     "name": "stdout",
     "output_type": "stream",
     "text": [
      "    Evaluation Episode 0/1\n",
      "    Average Reward over last 50 episodes: -16402.50\n",
      "    Min Reward over last 50 episodes: -16462.38\n",
      "    Max Reward over last 50 episodes: -16288.02\n",
      "    Evaluation Average Reward: -16218.25\n",
      "\n",
      "Running combination 164/9555 with parameters: {'epsilon': 0.05, 'epsilon_decay': 0.995, 'alpha': 0.4, 'gamma': 0.6, 'no_change_after_lap': 120}\n",
      "    Training Episode 0/5\n"
     ]
    },
    {
     "name": "stderr",
     "output_type": "stream",
     "text": [
      "164it [5:37:35, 117.01s/it]"
     ]
    },
    {
     "name": "stdout",
     "output_type": "stream",
     "text": [
      "    Evaluation Episode 0/1\n",
      "    Average Reward over last 50 episodes: -24231.27\n",
      "    Min Reward over last 50 episodes: -24555.65\n",
      "    Max Reward over last 50 episodes: -23972.43\n",
      "    Evaluation Average Reward: -24271.61\n",
      "\n",
      "Running combination 165/9555 with parameters: {'epsilon': 0.05, 'epsilon_decay': 0.999, 'alpha': 0.9, 'gamma': 0.8, 'no_change_after_lap': 130}\n",
      "    Training Episode 0/5\n"
     ]
    },
    {
     "name": "stderr",
     "output_type": "stream",
     "text": [
      "165it [5:39:34, 117.71s/it]"
     ]
    },
    {
     "name": "stdout",
     "output_type": "stream",
     "text": [
      "    Evaluation Episode 0/1\n",
      "    Average Reward over last 50 episodes: -21915.61\n",
      "    Min Reward over last 50 episodes: -22132.23\n",
      "    Max Reward over last 50 episodes: -21743.88\n",
      "    Evaluation Average Reward: -21923.61\n",
      "\n",
      "Running combination 166/9555 with parameters: {'epsilon': 0.0, 'epsilon_decay': 0.999, 'alpha': 0.0, 'gamma': 1.0, 'no_change_after_lap': 125}\n",
      "    Training Episode 0/5\n"
     ]
    },
    {
     "name": "stderr",
     "output_type": "stream",
     "text": [
      "166it [5:41:27, 116.39s/it]"
     ]
    },
    {
     "name": "stdout",
     "output_type": "stream",
     "text": [
      "    Evaluation Episode 0/1\n",
      "    Average Reward over last 50 episodes: -23040.74\n",
      "    Min Reward over last 50 episodes: -23361.79\n",
      "    Max Reward over last 50 episodes: -22840.82\n",
      "    Evaluation Average Reward: -23109.42\n",
      "\n",
      "Running combination 167/9555 with parameters: {'epsilon': 0.1, 'epsilon_decay': 0.995, 'alpha': 0.4, 'gamma': 0.4, 'no_change_after_lap': 135}\n",
      "    Training Episode 0/5\n"
     ]
    },
    {
     "name": "stderr",
     "output_type": "stream",
     "text": [
      "167it [5:43:31, 118.68s/it]"
     ]
    },
    {
     "name": "stdout",
     "output_type": "stream",
     "text": [
      "    Evaluation Episode 0/1\n",
      "    Average Reward over last 50 episodes: -20564.51\n",
      "    Min Reward over last 50 episodes: -20886.46\n",
      "    Max Reward over last 50 episodes: -20227.88\n",
      "    Evaluation Average Reward: -20543.22\n",
      "\n",
      "Running combination 168/9555 with parameters: {'epsilon': 0.025, 'epsilon_decay': 0.999, 'alpha': 0.9, 'gamma': 0.8, 'no_change_after_lap': 105}\n",
      "    Training Episode 0/5\n"
     ]
    },
    {
     "name": "stderr",
     "output_type": "stream",
     "text": [
      "168it [5:45:30, 118.58s/it]"
     ]
    },
    {
     "name": "stdout",
     "output_type": "stream",
     "text": [
      "    Evaluation Episode 0/1\n",
      "    Average Reward over last 50 episodes: -28204.88\n",
      "    Min Reward over last 50 episodes: -28417.22\n",
      "    Max Reward over last 50 episodes: -27795.22\n",
      "    Evaluation Average Reward: -27801.40\n",
      "\n",
      "Running combination 169/9555 with parameters: {'epsilon': 0.05, 'epsilon_decay': 0.999, 'alpha': 0.2, 'gamma': 0.0, 'no_change_after_lap': 160}\n",
      "    Training Episode 0/5\n"
     ]
    },
    {
     "name": "stderr",
     "output_type": "stream",
     "text": [
      "169it [5:47:27, 118.13s/it]"
     ]
    },
    {
     "name": "stdout",
     "output_type": "stream",
     "text": [
      "    Evaluation Episode 0/1\n",
      "    Average Reward over last 50 episodes: -16110.19\n",
      "    Min Reward over last 50 episodes: -16181.52\n",
      "    Max Reward over last 50 episodes: -16018.06\n",
      "    Evaluation Average Reward: -15983.42\n",
      "SKIPPING\n",
      "\n",
      "Running combination 170/9555 with parameters: {'epsilon': 0.1, 'epsilon_decay': 0.999, 'alpha': 0.8, 'gamma': 0.0, 'no_change_after_lap': 140}\n",
      "    Training Episode 0/5\n"
     ]
    },
    {
     "name": "stderr",
     "output_type": "stream",
     "text": [
      "170it [5:49:23, 117.71s/it]"
     ]
    },
    {
     "name": "stdout",
     "output_type": "stream",
     "text": [
      "    Evaluation Episode 0/1\n",
      "    Average Reward over last 50 episodes: -19424.74\n",
      "    Min Reward over last 50 episodes: -19640.20\n",
      "    Max Reward over last 50 episodes: -19134.51\n",
      "    Evaluation Average Reward: -19363.61\n",
      "\n",
      "Running combination 171/9555 with parameters: {'epsilon': 0.2, 'epsilon_decay': 0.99, 'alpha': 0.9, 'gamma': 0.2, 'no_change_after_lap': 155}\n",
      "    Training Episode 0/5\n"
     ]
    },
    {
     "name": "stderr",
     "output_type": "stream",
     "text": [
      "171it [5:51:19, 117.14s/it]"
     ]
    },
    {
     "name": "stdout",
     "output_type": "stream",
     "text": [
      "    Evaluation Episode 0/1\n",
      "    Average Reward over last 50 episodes: -16234.55\n",
      "    Min Reward over last 50 episodes: -16304.34\n",
      "    Max Reward over last 50 episodes: -16166.40\n",
      "    Evaluation Average Reward: -16339.05\n",
      "\n",
      "Running combination 172/9555 with parameters: {'epsilon': 0.05, 'epsilon_decay': 0.995, 'alpha': 0.0, 'gamma': 0.8, 'no_change_after_lap': 155}\n",
      "    Training Episode 0/5\n"
     ]
    },
    {
     "name": "stderr",
     "output_type": "stream",
     "text": [
      "172it [5:53:07, 114.43s/it]"
     ]
    },
    {
     "name": "stdout",
     "output_type": "stream",
     "text": [
      "    Evaluation Episode 0/1\n",
      "    Average Reward over last 50 episodes: -16374.70\n",
      "    Min Reward over last 50 episodes: -16472.52\n",
      "    Max Reward over last 50 episodes: -16294.53\n",
      "    Evaluation Average Reward: -16221.17\n",
      "\n",
      "Running combination 173/9555 with parameters: {'epsilon': 0.05, 'epsilon_decay': 0.99, 'alpha': 0.6, 'gamma': 0.9, 'no_change_after_lap': 115}\n",
      "    Training Episode 0/5\n"
     ]
    },
    {
     "name": "stderr",
     "output_type": "stream",
     "text": [
      "173it [5:55:09, 116.62s/it]"
     ]
    },
    {
     "name": "stdout",
     "output_type": "stream",
     "text": [
      "    Evaluation Episode 0/1\n",
      "    Average Reward over last 50 episodes: -25529.87\n",
      "    Min Reward over last 50 episodes: -25702.06\n",
      "    Max Reward over last 50 episodes: -25328.86\n",
      "    Evaluation Average Reward: -25761.93\n",
      "\n",
      "Running combination 174/9555 with parameters: {'epsilon': 0.025, 'epsilon_decay': 0.995, 'alpha': 0.9, 'gamma': 0.4, 'no_change_after_lap': 125}\n",
      "    Training Episode 0/5\n"
     ]
    },
    {
     "name": "stderr",
     "output_type": "stream",
     "text": [
      "174it [5:57:08, 117.27s/it]"
     ]
    },
    {
     "name": "stdout",
     "output_type": "stream",
     "text": [
      "    Evaluation Episode 0/1\n",
      "    Average Reward over last 50 episodes: -23008.44\n",
      "    Min Reward over last 50 episodes: -23306.08\n",
      "    Max Reward over last 50 episodes: -22779.69\n",
      "    Evaluation Average Reward: -23306.69\n",
      "\n",
      "Running combination 175/9555 with parameters: {'epsilon': 0.1, 'epsilon_decay': 0.999, 'alpha': 0.0, 'gamma': 0.2, 'no_change_after_lap': 105}\n",
      "    Training Episode 0/5\n"
     ]
    },
    {
     "name": "stderr",
     "output_type": "stream",
     "text": [
      "175it [5:59:00, 115.65s/it]"
     ]
    },
    {
     "name": "stdout",
     "output_type": "stream",
     "text": [
      "    Evaluation Episode 0/1\n",
      "    Average Reward over last 50 episodes: -28037.32\n",
      "    Min Reward over last 50 episodes: -28354.61\n",
      "    Max Reward over last 50 episodes: -27700.64\n",
      "    Evaluation Average Reward: -28032.38\n",
      "\n",
      "Running combination 176/9555 with parameters: {'epsilon': 0.025, 'epsilon_decay': 0.995, 'alpha': 0.6, 'gamma': 0.8, 'no_change_after_lap': 105}\n",
      "    Training Episode 0/5\n"
     ]
    },
    {
     "name": "stderr",
     "output_type": "stream",
     "text": [
      "176it [6:01:01, 117.45s/it]"
     ]
    },
    {
     "name": "stdout",
     "output_type": "stream",
     "text": [
      "    Evaluation Episode 0/1\n",
      "    Average Reward over last 50 episodes: -28110.96\n",
      "    Min Reward over last 50 episodes: -28359.99\n",
      "    Max Reward over last 50 episodes: -27862.30\n",
      "    Evaluation Average Reward: -28053.62\n",
      "\n",
      "Running combination 177/9555 with parameters: {'epsilon': 0.0, 'epsilon_decay': 0.99, 'alpha': 1.0, 'gamma': 0.6, 'no_change_after_lap': 150}\n",
      "    Training Episode 0/5\n"
     ]
    },
    {
     "name": "stderr",
     "output_type": "stream",
     "text": [
      "177it [6:03:00, 117.85s/it]"
     ]
    },
    {
     "name": "stdout",
     "output_type": "stream",
     "text": [
      "    Evaluation Episode 0/1\n",
      "    Average Reward over last 50 episodes: -17108.41\n",
      "    Min Reward over last 50 episodes: -17232.74\n",
      "    Max Reward over last 50 episodes: -17024.83\n",
      "    Evaluation Average Reward: -17031.05\n",
      "\n",
      "Running combination 178/9555 with parameters: {'epsilon': 0.1, 'epsilon_decay': 0.999, 'alpha': 0.4, 'gamma': 0.8, 'no_change_after_lap': 135}\n",
      "    Training Episode 0/5\n"
     ]
    },
    {
     "name": "stderr",
     "output_type": "stream",
     "text": [
      "178it [6:05:04, 119.50s/it]"
     ]
    },
    {
     "name": "stdout",
     "output_type": "stream",
     "text": [
      "    Evaluation Episode 0/1\n",
      "    Average Reward over last 50 episodes: -20548.45\n",
      "    Min Reward over last 50 episodes: -20845.37\n",
      "    Max Reward over last 50 episodes: -20204.02\n",
      "    Evaluation Average Reward: -20199.47\n",
      "\n",
      "Running combination 179/9555 with parameters: {'epsilon': 0.05, 'epsilon_decay': 0.99, 'alpha': 0.2, 'gamma': 0.2, 'no_change_after_lap': 115}\n",
      "    Training Episode 0/5\n"
     ]
    },
    {
     "name": "stderr",
     "output_type": "stream",
     "text": [
      "179it [6:07:02, 119.21s/it]"
     ]
    },
    {
     "name": "stdout",
     "output_type": "stream",
     "text": [
      "    Evaluation Episode 0/1\n",
      "    Average Reward over last 50 episodes: -25501.63\n",
      "    Min Reward over last 50 episodes: -25753.02\n",
      "    Max Reward over last 50 episodes: -25272.88\n",
      "    Evaluation Average Reward: -25300.14\n",
      "\n",
      "Running combination 180/9555 with parameters: {'epsilon': 0.0, 'epsilon_decay': 0.995, 'alpha': 0.8, 'gamma': 0.6, 'no_change_after_lap': 145}\n",
      "    Training Episode 0/5\n"
     ]
    },
    {
     "name": "stderr",
     "output_type": "stream",
     "text": [
      "180it [6:08:56, 117.71s/it]"
     ]
    },
    {
     "name": "stdout",
     "output_type": "stream",
     "text": [
      "    Evaluation Episode 0/1\n",
      "    Average Reward over last 50 episodes: -18184.20\n",
      "    Min Reward over last 50 episodes: -18398.28\n",
      "    Max Reward over last 50 episodes: -17921.37\n",
      "    Evaluation Average Reward: -18001.99\n",
      "\n",
      "Running combination 181/9555 with parameters: {'epsilon': 0.0, 'epsilon_decay': 0.995, 'alpha': 0.6, 'gamma': 0.8, 'no_change_after_lap': 125}\n",
      "    Training Episode 0/5\n"
     ]
    },
    {
     "name": "stderr",
     "output_type": "stream",
     "text": [
      "181it [6:10:55, 118.04s/it]"
     ]
    },
    {
     "name": "stdout",
     "output_type": "stream",
     "text": [
      "    Evaluation Episode 0/1\n",
      "    Average Reward over last 50 episodes: -23092.64\n",
      "    Min Reward over last 50 episodes: -23413.87\n",
      "    Max Reward over last 50 episodes: -22711.45\n",
      "    Evaluation Average Reward: -23133.42\n",
      "\n",
      "Running combination 182/9555 with parameters: {'epsilon': 0.05, 'epsilon_decay': 0.999, 'alpha': 0.2, 'gamma': 0.8, 'no_change_after_lap': 140}\n",
      "    Training Episode 0/5\n"
     ]
    },
    {
     "name": "stderr",
     "output_type": "stream",
     "text": [
      "182it [6:12:52, 117.70s/it]"
     ]
    },
    {
     "name": "stdout",
     "output_type": "stream",
     "text": [
      "    Evaluation Episode 0/1\n",
      "    Average Reward over last 50 episodes: -19325.39\n",
      "    Min Reward over last 50 episodes: -19475.14\n",
      "    Max Reward over last 50 episodes: -19159.67\n",
      "    Evaluation Average Reward: -19474.06\n",
      "\n",
      "Running combination 183/9555 with parameters: {'epsilon': 0.0, 'epsilon_decay': 0.995, 'alpha': 0.0, 'gamma': 0.2, 'no_change_after_lap': 160}\n",
      "    Training Episode 0/5\n"
     ]
    },
    {
     "name": "stderr",
     "output_type": "stream",
     "text": [
      "183it [6:14:42, 115.29s/it]"
     ]
    },
    {
     "name": "stdout",
     "output_type": "stream",
     "text": [
      "    Evaluation Episode 0/1\n",
      "    Average Reward over last 50 episodes: -16068.14\n",
      "    Min Reward over last 50 episodes: -16137.77\n",
      "    Max Reward over last 50 episodes: -15993.80\n",
      "    Evaluation Average Reward: -16155.23\n",
      "\n",
      "Running combination 184/9555 with parameters: {'epsilon': 0.0, 'epsilon_decay': 0.99, 'alpha': 0.9, 'gamma': 0.9, 'no_change_after_lap': 145}\n",
      "    Training Episode 0/5\n"
     ]
    },
    {
     "name": "stderr",
     "output_type": "stream",
     "text": [
      "184it [6:16:42, 116.81s/it]"
     ]
    },
    {
     "name": "stdout",
     "output_type": "stream",
     "text": [
      "    Evaluation Episode 0/1\n",
      "    Average Reward over last 50 episodes: -18243.31\n",
      "    Min Reward over last 50 episodes: -18409.18\n",
      "    Max Reward over last 50 episodes: -17857.66\n",
      "    Evaluation Average Reward: -18251.94\n",
      "\n",
      "Running combination 185/9555 with parameters: {'epsilon': 0.025, 'epsilon_decay': 0.995, 'alpha': 0.9, 'gamma': 0.9, 'no_change_after_lap': 115}\n",
      "    Training Episode 0/5\n"
     ]
    },
    {
     "name": "stderr",
     "output_type": "stream",
     "text": [
      "185it [6:18:48, 119.64s/it]"
     ]
    },
    {
     "name": "stdout",
     "output_type": "stream",
     "text": [
      "    Evaluation Episode 0/1\n",
      "    Average Reward over last 50 episodes: -25658.07\n",
      "    Min Reward over last 50 episodes: -25901.72\n",
      "    Max Reward over last 50 episodes: -25296.69\n",
      "    Evaluation Average Reward: -25385.23\n",
      "\n",
      "Running combination 186/9555 with parameters: {'epsilon': 0.025, 'epsilon_decay': 0.999, 'alpha': 0.6, 'gamma': 0.0, 'no_change_after_lap': 110}\n",
      "    Training Episode 0/5\n"
     ]
    },
    {
     "name": "stderr",
     "output_type": "stream",
     "text": [
      "186it [6:20:46, 119.04s/it]"
     ]
    },
    {
     "name": "stdout",
     "output_type": "stream",
     "text": [
      "    Evaluation Episode 0/1\n",
      "    Average Reward over last 50 episodes: -26876.17\n",
      "    Min Reward over last 50 episodes: -27009.30\n",
      "    Max Reward over last 50 episodes: -26619.31\n",
      "    Evaluation Average Reward: -27046.09\n",
      "\n",
      "Running combination 187/9555 with parameters: {'epsilon': 0.1, 'epsilon_decay': 0.99, 'alpha': 0.4, 'gamma': 0.8, 'no_change_after_lap': 115}\n",
      "    Training Episode 0/5\n"
     ]
    },
    {
     "name": "stderr",
     "output_type": "stream",
     "text": [
      "187it [6:22:45, 118.92s/it]"
     ]
    },
    {
     "name": "stdout",
     "output_type": "stream",
     "text": [
      "    Evaluation Episode 0/1\n",
      "    Average Reward over last 50 episodes: -25608.23\n",
      "    Min Reward over last 50 episodes: -25848.19\n",
      "    Max Reward over last 50 episodes: -25316.23\n",
      "    Evaluation Average Reward: -25897.22\n",
      "\n",
      "Running combination 188/9555 with parameters: {'epsilon': 0.0, 'epsilon_decay': 0.999, 'alpha': 0.0, 'gamma': 0.0, 'no_change_after_lap': 135}\n",
      "    Training Episode 0/5\n"
     ]
    },
    {
     "name": "stderr",
     "output_type": "stream",
     "text": [
      "188it [6:24:30, 114.99s/it]"
     ]
    },
    {
     "name": "stdout",
     "output_type": "stream",
     "text": [
      "    Evaluation Episode 0/1\n",
      "    Average Reward over last 50 episodes: -20702.99\n",
      "    Min Reward over last 50 episodes: -20857.08\n",
      "    Max Reward over last 50 episodes: -20603.27\n",
      "    Evaluation Average Reward: -20664.50\n",
      "\n",
      "Running combination 189/9555 with parameters: {'epsilon': 0.1, 'epsilon_decay': 0.995, 'alpha': 0.6, 'gamma': 0.8, 'no_change_after_lap': 115}\n",
      "    Training Episode 0/5\n"
     ]
    },
    {
     "name": "stderr",
     "output_type": "stream",
     "text": [
      "189it [6:26:29, 116.16s/it]"
     ]
    },
    {
     "name": "stdout",
     "output_type": "stream",
     "text": [
      "    Evaluation Episode 0/1\n",
      "    Average Reward over last 50 episodes: -25579.49\n",
      "    Min Reward over last 50 episodes: -25753.23\n",
      "    Max Reward over last 50 episodes: -25373.73\n",
      "    Evaluation Average Reward: -25556.75\n",
      "\n",
      "Running combination 190/9555 with parameters: {'epsilon': 0.025, 'epsilon_decay': 0.99, 'alpha': 0.4, 'gamma': 1.0, 'no_change_after_lap': 125}\n",
      "    Training Episode 0/5\n"
     ]
    },
    {
     "name": "stderr",
     "output_type": "stream",
     "text": [
      "190it [6:28:26, 116.43s/it]"
     ]
    },
    {
     "name": "stdout",
     "output_type": "stream",
     "text": [
      "    Evaluation Episode 0/1\n",
      "    Average Reward over last 50 episodes: -23203.32\n",
      "    Min Reward over last 50 episodes: -23611.28\n",
      "    Max Reward over last 50 episodes: -22818.78\n",
      "    Evaluation Average Reward: -23234.38\n",
      "\n",
      "Running combination 191/9555 with parameters: {'epsilon': 0.025, 'epsilon_decay': 0.995, 'alpha': 0.9, 'gamma': 0.8, 'no_change_after_lap': 105}\n",
      "    Training Episode 0/5\n"
     ]
    },
    {
     "name": "stderr",
     "output_type": "stream",
     "text": [
      "191it [6:30:20, 115.63s/it]"
     ]
    },
    {
     "name": "stdout",
     "output_type": "stream",
     "text": [
      "    Evaluation Episode 0/1\n",
      "    Average Reward over last 50 episodes: -28138.86\n",
      "    Min Reward over last 50 episodes: -28322.59\n",
      "    Max Reward over last 50 episodes: -27725.72\n",
      "    Evaluation Average Reward: -28412.20\n",
      "\n",
      "Running combination 192/9555 with parameters: {'epsilon': 0.1, 'epsilon_decay': 0.999, 'alpha': 1.0, 'gamma': 0.8, 'no_change_after_lap': 120}\n",
      "    Training Episode 0/5\n"
     ]
    },
    {
     "name": "stderr",
     "output_type": "stream",
     "text": [
      "192it [6:32:16, 115.72s/it]"
     ]
    },
    {
     "name": "stdout",
     "output_type": "stream",
     "text": [
      "    Evaluation Episode 0/1\n",
      "    Average Reward over last 50 episodes: -24210.54\n",
      "    Min Reward over last 50 episodes: -24596.81\n",
      "    Max Reward over last 50 episodes: -23907.13\n",
      "    Evaluation Average Reward: -24169.79\n",
      "\n",
      "Running combination 193/9555 with parameters: {'epsilon': 0.1, 'epsilon_decay': 0.995, 'alpha': 0.4, 'gamma': 0.8, 'no_change_after_lap': 140}\n",
      "    Training Episode 0/5\n"
     ]
    },
    {
     "name": "stderr",
     "output_type": "stream",
     "text": [
      "193it [6:34:17, 117.37s/it]"
     ]
    },
    {
     "name": "stdout",
     "output_type": "stream",
     "text": [
      "    Evaluation Episode 0/1\n",
      "    Average Reward over last 50 episodes: -19389.53\n",
      "    Min Reward over last 50 episodes: -19624.73\n",
      "    Max Reward over last 50 episodes: -19102.94\n",
      "    Evaluation Average Reward: -19525.06\n",
      "\n",
      "Running combination 194/9555 with parameters: {'epsilon': 0.2, 'epsilon_decay': 0.999, 'alpha': 1.0, 'gamma': 0.2, 'no_change_after_lap': 155}\n",
      "    Training Episode 0/5\n"
     ]
    },
    {
     "name": "stderr",
     "output_type": "stream",
     "text": [
      "194it [6:36:16, 117.91s/it]"
     ]
    },
    {
     "name": "stdout",
     "output_type": "stream",
     "text": [
      "    Evaluation Episode 0/1\n",
      "    Average Reward over last 50 episodes: -16280.50\n",
      "    Min Reward over last 50 episodes: -16331.30\n",
      "    Max Reward over last 50 episodes: -16210.26\n",
      "    Evaluation Average Reward: -16325.57\n",
      "SKIPPING\n",
      "\n",
      "Running combination 195/9555 with parameters: {'epsilon': 0.0, 'epsilon_decay': 0.99, 'alpha': 0.2, 'gamma': 0.6, 'no_change_after_lap': 155}\n",
      "    Training Episode 0/5\n"
     ]
    },
    {
     "name": "stderr",
     "output_type": "stream",
     "text": [
      "195it [6:38:10, 116.68s/it]"
     ]
    },
    {
     "name": "stdout",
     "output_type": "stream",
     "text": [
      "    Evaluation Episode 0/1\n",
      "    Average Reward over last 50 episodes: -16296.67\n",
      "    Min Reward over last 50 episodes: -16416.82\n",
      "    Max Reward over last 50 episodes: -16214.82\n",
      "    Evaluation Average Reward: -16455.70\n",
      "\n",
      "Running combination 196/9555 with parameters: {'epsilon': 0.1, 'epsilon_decay': 0.99, 'alpha': 1.0, 'gamma': 1.0, 'no_change_after_lap': 135}\n",
      "    Training Episode 0/5\n"
     ]
    },
    {
     "name": "stderr",
     "output_type": "stream",
     "text": [
      "196it [6:40:10, 117.73s/it]"
     ]
    },
    {
     "name": "stdout",
     "output_type": "stream",
     "text": [
      "    Evaluation Episode 0/1\n",
      "    Average Reward over last 50 episodes: -20632.89\n",
      "    Min Reward over last 50 episodes: -21131.83\n",
      "    Max Reward over last 50 episodes: -20241.87\n",
      "    Evaluation Average Reward: -20632.30\n",
      "\n",
      "Running combination 197/9555 with parameters: {'epsilon': 0.2, 'epsilon_decay': 0.995, 'alpha': 0.8, 'gamma': 1.0, 'no_change_after_lap': 145}\n",
      "    Training Episode 0/5\n"
     ]
    },
    {
     "name": "stderr",
     "output_type": "stream",
     "text": [
      "197it [6:42:10, 118.37s/it]"
     ]
    },
    {
     "name": "stdout",
     "output_type": "stream",
     "text": [
      "    Evaluation Episode 0/1\n",
      "    Average Reward over last 50 episodes: -18067.71\n",
      "    Min Reward over last 50 episodes: -18367.31\n",
      "    Max Reward over last 50 episodes: -17817.65\n",
      "    Evaluation Average Reward: -18000.79\n",
      "\n",
      "Running combination 198/9555 with parameters: {'epsilon': 0.0, 'epsilon_decay': 0.995, 'alpha': 0.2, 'gamma': 0.9, 'no_change_after_lap': 100}\n",
      "    Training Episode 0/5\n"
     ]
    },
    {
     "name": "stderr",
     "output_type": "stream",
     "text": [
      "198it [6:44:10, 118.80s/it]"
     ]
    },
    {
     "name": "stdout",
     "output_type": "stream",
     "text": [
      "    Evaluation Episode 0/1\n",
      "    Average Reward over last 50 episodes: -29380.92\n",
      "    Min Reward over last 50 episodes: -29634.14\n",
      "    Max Reward over last 50 episodes: -29064.09\n",
      "    Evaluation Average Reward: -29605.72\n",
      "\n",
      "Running combination 199/9555 with parameters: {'epsilon': 0.025, 'epsilon_decay': 0.99, 'alpha': 0.4, 'gamma': 0.8, 'no_change_after_lap': 115}\n",
      "    Training Episode 0/5\n"
     ]
    },
    {
     "name": "stderr",
     "output_type": "stream",
     "text": [
      "199it [6:46:07, 118.29s/it]"
     ]
    },
    {
     "name": "stdout",
     "output_type": "stream",
     "text": [
      "    Evaluation Episode 0/1\n",
      "    Average Reward over last 50 episodes: -25634.16\n",
      "    Min Reward over last 50 episodes: -25895.28\n",
      "    Max Reward over last 50 episodes: -25376.93\n",
      "    Evaluation Average Reward: -25924.65\n",
      "\n",
      "Running combination 200/9555 with parameters: {'epsilon': 0.0, 'epsilon_decay': 0.995, 'alpha': 0.4, 'gamma': 0.0, 'no_change_after_lap': 115}\n",
      "    Training Episode 0/5\n"
     ]
    },
    {
     "name": "stderr",
     "output_type": "stream",
     "text": [
      "200it [6:48:06, 118.49s/it]"
     ]
    },
    {
     "name": "stdout",
     "output_type": "stream",
     "text": [
      "    Evaluation Episode 0/1\n",
      "    Average Reward over last 50 episodes: -25625.22\n",
      "    Min Reward over last 50 episodes: -25881.95\n",
      "    Max Reward over last 50 episodes: -25365.90\n",
      "    Evaluation Average Reward: -25528.49\n",
      "\n",
      "Running combination 201/9555 with parameters: {'epsilon': 0.1, 'epsilon_decay': 0.99, 'alpha': 0.6, 'gamma': 0.2, 'no_change_after_lap': 150}\n",
      "    Training Episode 0/5\n"
     ]
    },
    {
     "name": "stderr",
     "output_type": "stream",
     "text": [
      "201it [6:50:04, 118.45s/it]"
     ]
    },
    {
     "name": "stdout",
     "output_type": "stream",
     "text": [
      "    Evaluation Episode 0/1\n",
      "    Average Reward over last 50 episodes: -17049.90\n",
      "    Min Reward over last 50 episodes: -17257.04\n",
      "    Max Reward over last 50 episodes: -16897.08\n",
      "    Evaluation Average Reward: -17274.95\n",
      "\n",
      "Running combination 202/9555 with parameters: {'epsilon': 0.0, 'epsilon_decay': 0.999, 'alpha': 0.0, 'gamma': 0.4, 'no_change_after_lap': 145}\n",
      "    Training Episode 0/5\n"
     ]
    },
    {
     "name": "stderr",
     "output_type": "stream",
     "text": [
      "202it [6:51:50, 114.54s/it]"
     ]
    },
    {
     "name": "stdout",
     "output_type": "stream",
     "text": [
      "    Evaluation Episode 0/1\n",
      "    Average Reward over last 50 episodes: -18254.78\n",
      "    Min Reward over last 50 episodes: -18427.35\n",
      "    Max Reward over last 50 episodes: -17987.07\n",
      "    Evaluation Average Reward: -18145.00\n",
      "\n",
      "Running combination 203/9555 with parameters: {'epsilon': 0.1, 'epsilon_decay': 0.999, 'alpha': 0.9, 'gamma': 0.4, 'no_change_after_lap': 110}\n",
      "    Training Episode 0/5\n"
     ]
    },
    {
     "name": "stderr",
     "output_type": "stream",
     "text": [
      "203it [6:53:47, 115.45s/it]"
     ]
    },
    {
     "name": "stdout",
     "output_type": "stream",
     "text": [
      "    Evaluation Episode 0/1\n",
      "    Average Reward over last 50 episodes: -26718.09\n",
      "    Min Reward over last 50 episodes: -27012.46\n",
      "    Max Reward over last 50 episodes: -26451.15\n",
      "    Evaluation Average Reward: -26691.80\n",
      "\n",
      "Running combination 204/9555 with parameters: {'epsilon': 0.0, 'epsilon_decay': 0.995, 'alpha': 0.4, 'gamma': 0.8, 'no_change_after_lap': 130}\n",
      "    Training Episode 0/5\n"
     ]
    },
    {
     "name": "stderr",
     "output_type": "stream",
     "text": [
      "204it [6:55:42, 115.30s/it]"
     ]
    },
    {
     "name": "stdout",
     "output_type": "stream",
     "text": [
      "    Evaluation Episode 0/1\n",
      "    Average Reward over last 50 episodes: -21770.69\n",
      "    Min Reward over last 50 episodes: -21972.27\n",
      "    Max Reward over last 50 episodes: -21539.78\n",
      "    Evaluation Average Reward: -22091.46\n",
      "\n",
      "Running combination 205/9555 with parameters: {'epsilon': 0.025, 'epsilon_decay': 0.999, 'alpha': 0.0, 'gamma': 0.0, 'no_change_after_lap': 160}\n",
      "    Training Episode 0/5\n"
     ]
    },
    {
     "name": "stderr",
     "output_type": "stream",
     "text": [
      "205it [6:57:30, 112.91s/it]"
     ]
    },
    {
     "name": "stdout",
     "output_type": "stream",
     "text": [
      "    Evaluation Episode 0/1\n",
      "    Average Reward over last 50 episodes: -16056.94\n",
      "    Min Reward over last 50 episodes: -16178.48\n",
      "    Max Reward over last 50 episodes: -15951.27\n",
      "    Evaluation Average Reward: -16055.04\n",
      "\n",
      "Running combination 206/9555 with parameters: {'epsilon': 0.05, 'epsilon_decay': 0.995, 'alpha': 0.8, 'gamma': 0.6, 'no_change_after_lap': 115}\n",
      "    Training Episode 0/5\n"
     ]
    },
    {
     "name": "stderr",
     "output_type": "stream",
     "text": [
      "206it [6:59:27, 114.32s/it]"
     ]
    },
    {
     "name": "stdout",
     "output_type": "stream",
     "text": [
      "    Evaluation Episode 0/1\n",
      "    Average Reward over last 50 episodes: -25410.73\n",
      "    Min Reward over last 50 episodes: -25782.60\n",
      "    Max Reward over last 50 episodes: -25217.80\n",
      "    Evaluation Average Reward: -25388.08\n",
      "\n",
      "Running combination 207/9555 with parameters: {'epsilon': 0.1, 'epsilon_decay': 0.995, 'alpha': 0.6, 'gamma': 0.8, 'no_change_after_lap': 105}\n",
      "    Training Episode 0/5\n"
     ]
    },
    {
     "name": "stderr",
     "output_type": "stream",
     "text": [
      "207it [7:01:23, 114.83s/it]"
     ]
    },
    {
     "name": "stdout",
     "output_type": "stream",
     "text": [
      "    Evaluation Episode 0/1\n",
      "    Average Reward over last 50 episodes: -28076.27\n",
      "    Min Reward over last 50 episodes: -28322.69\n",
      "    Max Reward over last 50 episodes: -27723.25\n",
      "    Evaluation Average Reward: -28087.23\n",
      "\n",
      "Running combination 208/9555 with parameters: {'epsilon': 0.05, 'epsilon_decay': 0.99, 'alpha': 0.4, 'gamma': 0.9, 'no_change_after_lap': 130}\n",
      "    Training Episode 0/5\n"
     ]
    },
    {
     "name": "stderr",
     "output_type": "stream",
     "text": [
      "208it [7:03:23, 116.12s/it]"
     ]
    },
    {
     "name": "stdout",
     "output_type": "stream",
     "text": [
      "    Evaluation Episode 0/1\n",
      "    Average Reward over last 50 episodes: -21929.73\n",
      "    Min Reward over last 50 episodes: -22114.34\n",
      "    Max Reward over last 50 episodes: -21639.12\n",
      "    Evaluation Average Reward: -21832.46\n",
      "\n",
      "Running combination 209/9555 with parameters: {'epsilon': 0.2, 'epsilon_decay': 0.995, 'alpha': 0.9, 'gamma': 0.8, 'no_change_after_lap': 115}\n",
      "    Training Episode 0/5\n"
     ]
    },
    {
     "name": "stderr",
     "output_type": "stream",
     "text": [
      "209it [7:05:24, 117.71s/it]"
     ]
    },
    {
     "name": "stdout",
     "output_type": "stream",
     "text": [
      "    Evaluation Episode 0/1\n",
      "    Average Reward over last 50 episodes: -25528.95\n",
      "    Min Reward over last 50 episodes: -25720.79\n",
      "    Max Reward over last 50 episodes: -25354.08\n",
      "    Evaluation Average Reward: -25751.66\n",
      "\n",
      "Running combination 210/9555 with parameters: {'epsilon': 0.025, 'epsilon_decay': 0.99, 'alpha': 1.0, 'gamma': 0.9, 'no_change_after_lap': 140}\n",
      "    Training Episode 0/5\n"
     ]
    },
    {
     "name": "stderr",
     "output_type": "stream",
     "text": [
      "210it [7:07:23, 118.19s/it]"
     ]
    },
    {
     "name": "stdout",
     "output_type": "stream",
     "text": [
      "    Evaluation Episode 0/1\n",
      "    Average Reward over last 50 episodes: -19466.89\n",
      "    Min Reward over last 50 episodes: -19619.06\n",
      "    Max Reward over last 50 episodes: -19016.84\n",
      "    Evaluation Average Reward: -19146.13\n",
      "\n",
      "Running combination 211/9555 with parameters: {'epsilon': 0.2, 'epsilon_decay': 0.999, 'alpha': 0.6, 'gamma': 0.2, 'no_change_after_lap': 125}\n",
      "    Training Episode 0/5\n"
     ]
    },
    {
     "name": "stderr",
     "output_type": "stream",
     "text": [
      "211it [7:09:26, 119.55s/it]"
     ]
    },
    {
     "name": "stdout",
     "output_type": "stream",
     "text": [
      "    Evaluation Episode 0/1\n",
      "    Average Reward over last 50 episodes: -23047.51\n",
      "    Min Reward over last 50 episodes: -23286.10\n",
      "    Max Reward over last 50 episodes: -22836.10\n",
      "    Evaluation Average Reward: -23212.91\n",
      "SKIPPING\n",
      "\n",
      "Running combination 212/9555 with parameters: {'epsilon': 0.1, 'epsilon_decay': 0.995, 'alpha': 0.9, 'gamma': 0.0, 'no_change_after_lap': 105}\n",
      "    Training Episode 0/5\n"
     ]
    },
    {
     "name": "stderr",
     "output_type": "stream",
     "text": [
      "212it [7:11:17, 117.01s/it]"
     ]
    },
    {
     "name": "stdout",
     "output_type": "stream",
     "text": [
      "    Evaluation Episode 0/1\n",
      "    Average Reward over last 50 episodes: -28181.42\n",
      "    Min Reward over last 50 episodes: -28373.96\n",
      "    Max Reward over last 50 episodes: -27930.22\n",
      "    Evaluation Average Reward: -28092.08\n",
      "\n",
      "Running combination 213/9555 with parameters: {'epsilon': 0.05, 'epsilon_decay': 0.999, 'alpha': 0.9, 'gamma': 0.9, 'no_change_after_lap': 125}\n",
      "    Training Episode 0/5\n"
     ]
    },
    {
     "name": "stderr",
     "output_type": "stream",
     "text": [
      "213it [7:13:17, 117.89s/it]"
     ]
    },
    {
     "name": "stdout",
     "output_type": "stream",
     "text": [
      "    Evaluation Episode 0/1\n",
      "    Average Reward over last 50 episodes: -23113.17\n",
      "    Min Reward over last 50 episodes: -23357.52\n",
      "    Max Reward over last 50 episodes: -22778.34\n",
      "    Evaluation Average Reward: -22805.05\n",
      "\n",
      "Running combination 214/9555 with parameters: {'epsilon': 0.1, 'epsilon_decay': 0.999, 'alpha': 1.0, 'gamma': 0.6, 'no_change_after_lap': 160}\n",
      "    Training Episode 0/5\n"
     ]
    },
    {
     "name": "stderr",
     "output_type": "stream",
     "text": [
      "214it [7:15:17, 118.54s/it]"
     ]
    },
    {
     "name": "stdout",
     "output_type": "stream",
     "text": [
      "    Evaluation Episode 0/1\n",
      "    Average Reward over last 50 episodes: -16068.44\n",
      "    Min Reward over last 50 episodes: -16138.46\n",
      "    Max Reward over last 50 episodes: -15993.26\n",
      "    Evaluation Average Reward: -16021.82\n",
      "\n",
      "Running combination 215/9555 with parameters: {'epsilon': 0.2, 'epsilon_decay': 0.99, 'alpha': 0.8, 'gamma': 1.0, 'no_change_after_lap': 125}\n",
      "    Training Episode 0/5\n"
     ]
    },
    {
     "name": "stderr",
     "output_type": "stream",
     "text": [
      "215it [7:17:17, 118.89s/it]"
     ]
    },
    {
     "name": "stdout",
     "output_type": "stream",
     "text": [
      "    Evaluation Episode 0/1\n",
      "    Average Reward over last 50 episodes: -23073.32\n",
      "    Min Reward over last 50 episodes: -23278.04\n",
      "    Max Reward over last 50 episodes: -22763.40\n",
      "    Evaluation Average Reward: -23199.59\n",
      "\n",
      "Running combination 216/9555 with parameters: {'epsilon': 0.0, 'epsilon_decay': 0.995, 'alpha': 0.6, 'gamma': 0.8, 'no_change_after_lap': 130}\n",
      "    Training Episode 0/5\n"
     ]
    },
    {
     "name": "stderr",
     "output_type": "stream",
     "text": [
      "216it [7:19:12, 117.70s/it]"
     ]
    },
    {
     "name": "stdout",
     "output_type": "stream",
     "text": [
      "    Evaluation Episode 0/1\n",
      "    Average Reward over last 50 episodes: -22009.76\n",
      "    Min Reward over last 50 episodes: -22153.29\n",
      "    Max Reward over last 50 episodes: -21865.21\n",
      "    Evaluation Average Reward: -21536.90\n",
      "\n",
      "Running combination 217/9555 with parameters: {'epsilon': 0.05, 'epsilon_decay': 0.995, 'alpha': 0.9, 'gamma': 0.4, 'no_change_after_lap': 160}\n",
      "    Training Episode 0/5\n"
     ]
    },
    {
     "name": "stderr",
     "output_type": "stream",
     "text": [
      "217it [7:21:04, 115.94s/it]"
     ]
    },
    {
     "name": "stdout",
     "output_type": "stream",
     "text": [
      "    Evaluation Episode 0/1\n",
      "    Average Reward over last 50 episodes: -16108.95\n",
      "    Min Reward over last 50 episodes: -16165.72\n",
      "    Max Reward over last 50 episodes: -16044.53\n",
      "    Evaluation Average Reward: -16088.49\n",
      "\n",
      "Running combination 218/9555 with parameters: {'epsilon': 0.0, 'epsilon_decay': 0.99, 'alpha': 0.8, 'gamma': 0.4, 'no_change_after_lap': 155}\n",
      "    Training Episode 0/5\n"
     ]
    },
    {
     "name": "stderr",
     "output_type": "stream",
     "text": [
      "218it [7:23:01, 116.50s/it]"
     ]
    },
    {
     "name": "stdout",
     "output_type": "stream",
     "text": [
      "    Evaluation Episode 0/1\n",
      "    Average Reward over last 50 episodes: -16408.87\n",
      "    Min Reward over last 50 episodes: -16469.62\n",
      "    Max Reward over last 50 episodes: -16285.72\n",
      "    Evaluation Average Reward: -16402.66\n",
      "\n",
      "Running combination 219/9555 with parameters: {'epsilon': 0.025, 'epsilon_decay': 0.99, 'alpha': 0.4, 'gamma': 0.6, 'no_change_after_lap': 105}\n",
      "    Training Episode 0/5\n"
     ]
    },
    {
     "name": "stderr",
     "output_type": "stream",
     "text": [
      "219it [7:24:54, 115.41s/it]"
     ]
    },
    {
     "name": "stdout",
     "output_type": "stream",
     "text": [
      "    Evaluation Episode 0/1\n",
      "    Average Reward over last 50 episodes: -28285.56\n",
      "    Min Reward over last 50 episodes: -28400.79\n",
      "    Max Reward over last 50 episodes: -28073.28\n",
      "    Evaluation Average Reward: -28135.95\n",
      "\n",
      "Running combination 220/9555 with parameters: {'epsilon': 0.2, 'epsilon_decay': 0.99, 'alpha': 0.6, 'gamma': 0.4, 'no_change_after_lap': 105}\n",
      "    Training Episode 0/5\n"
     ]
    },
    {
     "name": "stderr",
     "output_type": "stream",
     "text": [
      "220it [7:26:54, 116.80s/it]"
     ]
    },
    {
     "name": "stdout",
     "output_type": "stream",
     "text": [
      "    Evaluation Episode 0/1\n",
      "    Average Reward over last 50 episodes: -28196.66\n",
      "    Min Reward over last 50 episodes: -28441.05\n",
      "    Max Reward over last 50 episodes: -27841.09\n",
      "    Evaluation Average Reward: -28188.07\n",
      "\n",
      "Running combination 221/9555 with parameters: {'epsilon': 0.025, 'epsilon_decay': 0.99, 'alpha': 0.0, 'gamma': 0.6, 'no_change_after_lap': 130}\n",
      "    Training Episode 0/5\n"
     ]
    },
    {
     "name": "stderr",
     "output_type": "stream",
     "text": [
      "221it [7:28:41, 113.67s/it]"
     ]
    },
    {
     "name": "stdout",
     "output_type": "stream",
     "text": [
      "    Evaluation Episode 0/1\n",
      "    Average Reward over last 50 episodes: -21831.82\n",
      "    Min Reward over last 50 episodes: -22043.95\n",
      "    Max Reward over last 50 episodes: -21451.59\n",
      "    Evaluation Average Reward: -22074.33\n",
      "\n",
      "Running combination 222/9555 with parameters: {'epsilon': 0.2, 'epsilon_decay': 0.995, 'alpha': 0.6, 'gamma': 0.8, 'no_change_after_lap': 120}\n",
      "    Training Episode 0/5\n"
     ]
    },
    {
     "name": "stderr",
     "output_type": "stream",
     "text": [
      "222it [7:30:43, 116.28s/it]"
     ]
    },
    {
     "name": "stdout",
     "output_type": "stream",
     "text": [
      "    Evaluation Episode 0/1\n",
      "    Average Reward over last 50 episodes: -24499.04\n",
      "    Min Reward over last 50 episodes: -24655.39\n",
      "    Max Reward over last 50 episodes: -24239.26\n",
      "    Evaluation Average Reward: -24307.45\n",
      "\n",
      "Running combination 223/9555 with parameters: {'epsilon': 0.05, 'epsilon_decay': 0.99, 'alpha': 1.0, 'gamma': 0.8, 'no_change_after_lap': 145}\n",
      "    Training Episode 0/5\n"
     ]
    },
    {
     "name": "stderr",
     "output_type": "stream",
     "text": [
      "223it [7:32:42, 117.14s/it]"
     ]
    },
    {
     "name": "stdout",
     "output_type": "stream",
     "text": [
      "    Evaluation Episode 0/1\n",
      "    Average Reward over last 50 episodes: -18289.61\n",
      "    Min Reward over last 50 episodes: -18405.31\n",
      "    Max Reward over last 50 episodes: -18087.98\n",
      "    Evaluation Average Reward: -17974.88\n",
      "\n",
      "Running combination 224/9555 with parameters: {'epsilon': 0.05, 'epsilon_decay': 0.999, 'alpha': 0.2, 'gamma': 0.2, 'no_change_after_lap': 110}\n",
      "    Training Episode 0/5\n"
     ]
    },
    {
     "name": "stderr",
     "output_type": "stream",
     "text": [
      "224it [7:34:42, 117.84s/it]"
     ]
    },
    {
     "name": "stdout",
     "output_type": "stream",
     "text": [
      "    Evaluation Episode 0/1\n",
      "    Average Reward over last 50 episodes: -26655.95\n",
      "    Min Reward over last 50 episodes: -26814.17\n",
      "    Max Reward over last 50 episodes: -26524.20\n",
      "    Evaluation Average Reward: -27074.60\n",
      "\n",
      "Running combination 225/9555 with parameters: {'epsilon': 0.1, 'epsilon_decay': 0.99, 'alpha': 0.6, 'gamma': 0.0, 'no_change_after_lap': 145}\n",
      "    Training Episode 0/5\n"
     ]
    },
    {
     "name": "stderr",
     "output_type": "stream",
     "text": [
      "225it [7:36:40, 118.11s/it]"
     ]
    },
    {
     "name": "stdout",
     "output_type": "stream",
     "text": [
      "    Evaluation Episode 0/1\n",
      "    Average Reward over last 50 episodes: -18053.60\n",
      "    Min Reward over last 50 episodes: -18366.32\n",
      "    Max Reward over last 50 episodes: -17848.31\n",
      "    Evaluation Average Reward: -18047.71\n",
      "\n",
      "Running combination 226/9555 with parameters: {'epsilon': 0.025, 'epsilon_decay': 0.999, 'alpha': 0.4, 'gamma': 0.2, 'no_change_after_lap': 130}\n",
      "    Training Episode 0/5\n"
     ]
    },
    {
     "name": "stderr",
     "output_type": "stream",
     "text": [
      "226it [7:38:42, 119.13s/it]"
     ]
    },
    {
     "name": "stdout",
     "output_type": "stream",
     "text": [
      "    Evaluation Episode 0/1\n",
      "    Average Reward over last 50 episodes: -21821.64\n",
      "    Min Reward over last 50 episodes: -22043.57\n",
      "    Max Reward over last 50 episodes: -21430.04\n",
      "    Evaluation Average Reward: -21932.40\n",
      "SKIPPING\n",
      "\n",
      "Running combination 227/9555 with parameters: {'epsilon': 0.1, 'epsilon_decay': 0.999, 'alpha': 0.0, 'gamma': 0.4, 'no_change_after_lap': 115}\n",
      "    Training Episode 0/5\n"
     ]
    },
    {
     "name": "stderr",
     "output_type": "stream",
     "text": [
      "227it [7:40:33, 116.76s/it]"
     ]
    },
    {
     "name": "stdout",
     "output_type": "stream",
     "text": [
      "    Evaluation Episode 0/1\n",
      "    Average Reward over last 50 episodes: -25742.77\n",
      "    Min Reward over last 50 episodes: -25878.01\n",
      "    Max Reward over last 50 episodes: -25623.86\n",
      "    Evaluation Average Reward: -25649.14\n",
      "SKIPPING\n",
      "\n",
      "Running combination 228/9555 with parameters: {'epsilon': 0.1, 'epsilon_decay': 0.99, 'alpha': 1.0, 'gamma': 0.2, 'no_change_after_lap': 140}\n",
      "    Training Episode 0/5\n"
     ]
    },
    {
     "name": "stderr",
     "output_type": "stream",
     "text": [
      "228it [7:42:35, 118.35s/it]"
     ]
    },
    {
     "name": "stdout",
     "output_type": "stream",
     "text": [
      "    Evaluation Episode 0/1\n",
      "    Average Reward over last 50 episodes: -19311.55\n",
      "    Min Reward over last 50 episodes: -19561.22\n",
      "    Max Reward over last 50 episodes: -19140.62\n",
      "    Evaluation Average Reward: -19095.21\n",
      "\n",
      "Running combination 229/9555 with parameters: {'epsilon': 0.0, 'epsilon_decay': 0.995, 'alpha': 0.0, 'gamma': 0.2, 'no_change_after_lap': 130}\n",
      "    Training Episode 0/5\n"
     ]
    },
    {
     "name": "stderr",
     "output_type": "stream",
     "text": [
      "229it [7:44:28, 116.70s/it]"
     ]
    },
    {
     "name": "stdout",
     "output_type": "stream",
     "text": [
      "    Evaluation Episode 0/1\n",
      "    Average Reward over last 50 episodes: -21792.56\n",
      "    Min Reward over last 50 episodes: -22114.63\n",
      "    Max Reward over last 50 episodes: -21455.17\n",
      "    Evaluation Average Reward: -21528.98\n",
      "\n",
      "Running combination 230/9555 with parameters: {'epsilon': 0.05, 'epsilon_decay': 0.99, 'alpha': 0.4, 'gamma': 0.0, 'no_change_after_lap': 110}\n",
      "    Training Episode 0/5\n"
     ]
    },
    {
     "name": "stderr",
     "output_type": "stream",
     "text": [
      "230it [7:46:24, 116.62s/it]"
     ]
    },
    {
     "name": "stdout",
     "output_type": "stream",
     "text": [
      "    Evaluation Episode 0/1\n",
      "    Average Reward over last 50 episodes: -27067.76\n",
      "    Min Reward over last 50 episodes: -27457.55\n",
      "    Max Reward over last 50 episodes: -26815.24\n",
      "    Evaluation Average Reward: -26952.44\n",
      "\n",
      "Running combination 231/9555 with parameters: {'epsilon': 0.05, 'epsilon_decay': 0.999, 'alpha': 0.4, 'gamma': 0.6, 'no_change_after_lap': 155}\n",
      "    Training Episode 0/5\n"
     ]
    },
    {
     "name": "stderr",
     "output_type": "stream",
     "text": [
      "231it [7:48:20, 116.37s/it]"
     ]
    },
    {
     "name": "stdout",
     "output_type": "stream",
     "text": [
      "    Evaluation Episode 0/1\n",
      "    Average Reward over last 50 episodes: -16344.01\n",
      "    Min Reward over last 50 episodes: -16419.25\n",
      "    Max Reward over last 50 episodes: -16268.71\n",
      "    Evaluation Average Reward: -16253.79\n",
      "\n",
      "Running combination 232/9555 with parameters: {'epsilon': 0.025, 'epsilon_decay': 0.999, 'alpha': 0.0, 'gamma': 0.8, 'no_change_after_lap': 105}\n",
      "    Training Episode 0/5\n"
     ]
    },
    {
     "name": "stderr",
     "output_type": "stream",
     "text": [
      "232it [7:50:07, 113.59s/it]"
     ]
    },
    {
     "name": "stdout",
     "output_type": "stream",
     "text": [
      "    Evaluation Episode 0/1\n",
      "    Average Reward over last 50 episodes: -27930.45\n",
      "    Min Reward over last 50 episodes: -28343.35\n",
      "    Max Reward over last 50 episodes: -27708.87\n",
      "    Evaluation Average Reward: -27765.39\n",
      "\n",
      "Running combination 233/9555 with parameters: {'epsilon': 0.0, 'epsilon_decay': 0.99, 'alpha': 1.0, 'gamma': 0.6, 'no_change_after_lap': 115}\n",
      "    Training Episode 0/5\n"
     ]
    },
    {
     "name": "stderr",
     "output_type": "stream",
     "text": [
      "233it [7:52:03, 114.30s/it]"
     ]
    },
    {
     "name": "stdout",
     "output_type": "stream",
     "text": [
      "    Evaluation Episode 0/1\n",
      "    Average Reward over last 50 episodes: -25629.63\n",
      "    Min Reward over last 50 episodes: -25883.08\n",
      "    Max Reward over last 50 episodes: -25291.07\n",
      "    Evaluation Average Reward: -25750.97\n",
      "\n",
      "Running combination 234/9555 with parameters: {'epsilon': 0.1, 'epsilon_decay': 0.99, 'alpha': 0.0, 'gamma': 0.9, 'no_change_after_lap': 160}\n",
      "    Training Episode 0/5\n"
     ]
    },
    {
     "name": "stderr",
     "output_type": "stream",
     "text": [
      "234it [7:53:57, 113.98s/it]"
     ]
    },
    {
     "name": "stdout",
     "output_type": "stream",
     "text": [
      "    Evaluation Episode 0/1\n",
      "    Average Reward over last 50 episodes: -16046.23\n",
      "    Min Reward over last 50 episodes: -16138.49\n",
      "    Max Reward over last 50 episodes: -15955.08\n",
      "    Evaluation Average Reward: -16031.91\n",
      "\n",
      "Running combination 235/9555 with parameters: {'epsilon': 0.2, 'epsilon_decay': 0.99, 'alpha': 0.9, 'gamma': 0.0, 'no_change_after_lap': 135}\n",
      "    Training Episode 0/5\n"
     ]
    },
    {
     "name": "stderr",
     "output_type": "stream",
     "text": [
      "235it [7:55:58, 116.23s/it]"
     ]
    },
    {
     "name": "stdout",
     "output_type": "stream",
     "text": [
      "    Evaluation Episode 0/1\n",
      "    Average Reward over last 50 episodes: -20636.73\n",
      "    Min Reward over last 50 episodes: -20874.16\n",
      "    Max Reward over last 50 episodes: -20299.40\n",
      "    Evaluation Average Reward: -20345.65\n",
      "\n",
      "Running combination 236/9555 with parameters: {'epsilon': 0.05, 'epsilon_decay': 0.99, 'alpha': 0.8, 'gamma': 1.0, 'no_change_after_lap': 150}\n",
      "    Training Episode 0/5\n"
     ]
    },
    {
     "name": "stderr",
     "output_type": "stream",
     "text": [
      "236it [7:57:55, 116.45s/it]"
     ]
    },
    {
     "name": "stdout",
     "output_type": "stream",
     "text": [
      "    Evaluation Episode 0/1\n",
      "    Average Reward over last 50 episodes: -17083.81\n",
      "    Min Reward over last 50 episodes: -17215.32\n",
      "    Max Reward over last 50 episodes: -16941.49\n",
      "    Evaluation Average Reward: -16956.92\n",
      "\n",
      "Running combination 237/9555 with parameters: {'epsilon': 0.025, 'epsilon_decay': 0.999, 'alpha': 0.9, 'gamma': 0.0, 'no_change_after_lap': 120}\n",
      "    Training Episode 0/5\n"
     ]
    },
    {
     "name": "stderr",
     "output_type": "stream",
     "text": [
      "237it [7:59:54, 117.31s/it]"
     ]
    },
    {
     "name": "stdout",
     "output_type": "stream",
     "text": [
      "    Evaluation Episode 0/1\n",
      "    Average Reward over last 50 episodes: -24245.65\n",
      "    Min Reward over last 50 episodes: -24416.13\n",
      "    Max Reward over last 50 episodes: -24015.79\n",
      "    Evaluation Average Reward: -24574.00\n",
      "\n",
      "Running combination 238/9555 with parameters: {'epsilon': 0.0, 'epsilon_decay': 0.995, 'alpha': 0.8, 'gamma': 1.0, 'no_change_after_lap': 160}\n",
      "    Training Episode 0/5\n"
     ]
    },
    {
     "name": "stderr",
     "output_type": "stream",
     "text": [
      "238it [8:01:48, 116.09s/it]"
     ]
    },
    {
     "name": "stdout",
     "output_type": "stream",
     "text": [
      "    Evaluation Episode 0/1\n",
      "    Average Reward over last 50 episodes: -16062.00\n",
      "    Min Reward over last 50 episodes: -16121.66\n",
      "    Max Reward over last 50 episodes: -16010.61\n",
      "    Evaluation Average Reward: -16103.63\n",
      "\n",
      "Running combination 239/9555 with parameters: {'epsilon': 0.0, 'epsilon_decay': 0.99, 'alpha': 0.8, 'gamma': 0.6, 'no_change_after_lap': 135}\n",
      "    Training Episode 0/5\n"
     ]
    },
    {
     "name": "stderr",
     "output_type": "stream",
     "text": [
      "239it [8:03:50, 117.93s/it]"
     ]
    },
    {
     "name": "stdout",
     "output_type": "stream",
     "text": [
      "    Evaluation Episode 0/1\n",
      "    Average Reward over last 50 episodes: -20540.47\n",
      "    Min Reward over last 50 episodes: -20792.85\n",
      "    Max Reward over last 50 episodes: -20276.67\n",
      "    Evaluation Average Reward: -20542.47\n",
      "\n",
      "Running combination 240/9555 with parameters: {'epsilon': 0.1, 'epsilon_decay': 0.995, 'alpha': 0.9, 'gamma': 1.0, 'no_change_after_lap': 160}\n",
      "    Training Episode 0/5\n"
     ]
    },
    {
     "name": "stderr",
     "output_type": "stream",
     "text": [
      "240it [8:05:50, 118.72s/it]"
     ]
    },
    {
     "name": "stdout",
     "output_type": "stream",
     "text": [
      "    Evaluation Episode 0/1\n",
      "    Average Reward over last 50 episodes: -16090.82\n",
      "    Min Reward over last 50 episodes: -16133.13\n",
      "    Max Reward over last 50 episodes: -16054.79\n",
      "    Evaluation Average Reward: -16002.59\n",
      "\n",
      "Running combination 241/9555 with parameters: {'epsilon': 0.0, 'epsilon_decay': 0.999, 'alpha': 1.0, 'gamma': 0.6, 'no_change_after_lap': 135}\n",
      "    Training Episode 0/5\n"
     ]
    },
    {
     "name": "stderr",
     "output_type": "stream",
     "text": [
      "241it [8:07:47, 118.15s/it]"
     ]
    },
    {
     "name": "stdout",
     "output_type": "stream",
     "text": [
      "    Evaluation Episode 0/1\n",
      "    Average Reward over last 50 episodes: -20572.87\n",
      "    Min Reward over last 50 episodes: -20866.07\n",
      "    Max Reward over last 50 episodes: -20267.06\n",
      "    Evaluation Average Reward: -20349.89\n",
      "\n",
      "Running combination 242/9555 with parameters: {'epsilon': 0.1, 'epsilon_decay': 0.999, 'alpha': 0.4, 'gamma': 0.0, 'no_change_after_lap': 145}\n",
      "    Training Episode 0/5\n"
     ]
    },
    {
     "name": "stderr",
     "output_type": "stream",
     "text": [
      "242it [8:09:47, 118.72s/it]"
     ]
    },
    {
     "name": "stdout",
     "output_type": "stream",
     "text": [
      "    Evaluation Episode 0/1\n",
      "    Average Reward over last 50 episodes: -18183.62\n",
      "    Min Reward over last 50 episodes: -18414.51\n",
      "    Max Reward over last 50 episodes: -17915.95\n",
      "    Evaluation Average Reward: -18015.31\n",
      "\n",
      "Running combination 243/9555 with parameters: {'epsilon': 0.1, 'epsilon_decay': 0.995, 'alpha': 0.0, 'gamma': 0.8, 'no_change_after_lap': 130}\n",
      "    Training Episode 0/5\n"
     ]
    },
    {
     "name": "stderr",
     "output_type": "stream",
     "text": [
      "243it [8:11:43, 117.99s/it]"
     ]
    },
    {
     "name": "stdout",
     "output_type": "stream",
     "text": [
      "    Evaluation Episode 0/1\n",
      "    Average Reward over last 50 episodes: -21895.24\n",
      "    Min Reward over last 50 episodes: -22014.68\n",
      "    Max Reward over last 50 episodes: -21700.98\n",
      "    Evaluation Average Reward: -22063.44\n",
      "\n",
      "Running combination 244/9555 with parameters: {'epsilon': 0.1, 'epsilon_decay': 0.999, 'alpha': 0.2, 'gamma': 0.6, 'no_change_after_lap': 150}\n",
      "    Training Episode 0/5\n"
     ]
    },
    {
     "name": "stderr",
     "output_type": "stream",
     "text": [
      "244it [8:13:47, 119.72s/it]"
     ]
    },
    {
     "name": "stdout",
     "output_type": "stream",
     "text": [
      "    Evaluation Episode 0/1\n",
      "    Average Reward over last 50 episodes: -17098.56\n",
      "    Min Reward over last 50 episodes: -17270.72\n",
      "    Max Reward over last 50 episodes: -16810.04\n",
      "    Evaluation Average Reward: -17259.18\n",
      "\n",
      "Running combination 245/9555 with parameters: {'epsilon': 0.2, 'epsilon_decay': 0.999, 'alpha': 0.9, 'gamma': 1.0, 'no_change_after_lap': 130}\n",
      "    Training Episode 0/5\n"
     ]
    },
    {
     "name": "stderr",
     "output_type": "stream",
     "text": [
      "245it [8:15:48, 120.04s/it]"
     ]
    },
    {
     "name": "stdout",
     "output_type": "stream",
     "text": [
      "    Evaluation Episode 0/1\n",
      "    Average Reward over last 50 episodes: -21812.65\n",
      "    Min Reward over last 50 episodes: -22101.86\n",
      "    Max Reward over last 50 episodes: -21439.19\n",
      "    Evaluation Average Reward: -21581.35\n",
      "\n",
      "Running combination 246/9555 with parameters: {'epsilon': 0.1, 'epsilon_decay': 0.995, 'alpha': 0.8, 'gamma': 0.6, 'no_change_after_lap': 140}\n",
      "    Training Episode 0/5\n"
     ]
    },
    {
     "name": "stderr",
     "output_type": "stream",
     "text": [
      "246it [8:17:50, 120.74s/it]"
     ]
    },
    {
     "name": "stdout",
     "output_type": "stream",
     "text": [
      "    Evaluation Episode 0/1\n",
      "    Average Reward over last 50 episodes: -19408.69\n",
      "    Min Reward over last 50 episodes: -19663.38\n",
      "    Max Reward over last 50 episodes: -19099.81\n",
      "    Evaluation Average Reward: -19461.71\n",
      "\n",
      "Running combination 247/9555 with parameters: {'epsilon': 0.025, 'epsilon_decay': 0.999, 'alpha': 0.6, 'gamma': 0.2, 'no_change_after_lap': 140}\n",
      "    Training Episode 0/5\n"
     ]
    },
    {
     "name": "stderr",
     "output_type": "stream",
     "text": [
      "247it [8:19:53, 121.32s/it]"
     ]
    },
    {
     "name": "stdout",
     "output_type": "stream",
     "text": [
      "    Evaluation Episode 0/1\n",
      "    Average Reward over last 50 episodes: -19425.93\n",
      "    Min Reward over last 50 episodes: -19565.53\n",
      "    Max Reward over last 50 episodes: -19135.02\n",
      "    Evaluation Average Reward: -19457.86\n",
      "\n",
      "Running combination 248/9555 with parameters: {'epsilon': 0.0, 'epsilon_decay': 0.99, 'alpha': 0.8, 'gamma': 0.2, 'no_change_after_lap': 125}\n",
      "    Training Episode 0/5\n"
     ]
    },
    {
     "name": "stderr",
     "output_type": "stream",
     "text": [
      "248it [8:21:49, 119.72s/it]"
     ]
    },
    {
     "name": "stdout",
     "output_type": "stream",
     "text": [
      "    Evaluation Episode 0/1\n",
      "    Average Reward over last 50 episodes: -23165.85\n",
      "    Min Reward over last 50 episodes: -23293.15\n",
      "    Max Reward over last 50 episodes: -23025.89\n",
      "    Evaluation Average Reward: -23178.00\n",
      "\n",
      "Running combination 249/9555 with parameters: {'epsilon': 0.025, 'epsilon_decay': 0.99, 'alpha': 1.0, 'gamma': 0.6, 'no_change_after_lap': 120}\n",
      "    Training Episode 0/5\n"
     ]
    },
    {
     "name": "stderr",
     "output_type": "stream",
     "text": [
      "249it [8:23:46, 118.89s/it]"
     ]
    },
    {
     "name": "stdout",
     "output_type": "stream",
     "text": [
      "    Evaluation Episode 0/1\n",
      "    Average Reward over last 50 episodes: -24170.08\n",
      "    Min Reward over last 50 episodes: -24314.82\n",
      "    Max Reward over last 50 episodes: -24031.78\n",
      "    Evaluation Average Reward: -24455.58\n",
      "SKIPPING\n",
      "\n",
      "Running combination 250/9555 with parameters: {'epsilon': 0.025, 'epsilon_decay': 0.999, 'alpha': 0.4, 'gamma': 0.4, 'no_change_after_lap': 140}\n",
      "    Training Episode 0/5\n"
     ]
    },
    {
     "name": "stderr",
     "output_type": "stream",
     "text": [
      "250it [8:25:45, 118.96s/it]"
     ]
    },
    {
     "name": "stdout",
     "output_type": "stream",
     "text": [
      "    Evaluation Episode 0/1\n",
      "    Average Reward over last 50 episodes: -19211.03\n",
      "    Min Reward over last 50 episodes: -19549.60\n",
      "    Max Reward over last 50 episodes: -19088.26\n",
      "    Evaluation Average Reward: -19546.66\n",
      "\n",
      "Running combination 251/9555 with parameters: {'epsilon': 0.0, 'epsilon_decay': 0.995, 'alpha': 0.0, 'gamma': 1.0, 'no_change_after_lap': 130}\n",
      "    Training Episode 0/5\n"
     ]
    },
    {
     "name": "stderr",
     "output_type": "stream",
     "text": [
      "251it [8:27:35, 116.16s/it]"
     ]
    },
    {
     "name": "stdout",
     "output_type": "stream",
     "text": [
      "    Evaluation Episode 0/1\n",
      "    Average Reward over last 50 episodes: -21897.95\n",
      "    Min Reward over last 50 episodes: -22092.05\n",
      "    Max Reward over last 50 episodes: -21567.01\n",
      "    Evaluation Average Reward: -22119.87\n",
      "\n",
      "Running combination 252/9555 with parameters: {'epsilon': 0.0, 'epsilon_decay': 0.999, 'alpha': 0.0, 'gamma': 1.0, 'no_change_after_lap': 120}\n",
      "    Training Episode 0/5\n"
     ]
    },
    {
     "name": "stderr",
     "output_type": "stream",
     "text": [
      "252it [8:29:25, 114.50s/it]"
     ]
    },
    {
     "name": "stdout",
     "output_type": "stream",
     "text": [
      "    Evaluation Episode 0/1\n",
      "    Average Reward over last 50 episodes: -24400.58\n",
      "    Min Reward over last 50 episodes: -24624.72\n",
      "    Max Reward over last 50 episodes: -24092.32\n",
      "    Evaluation Average Reward: -24269.38\n",
      "\n",
      "Running combination 253/9555 with parameters: {'epsilon': 0.025, 'epsilon_decay': 0.999, 'alpha': 0.6, 'gamma': 0.4, 'no_change_after_lap': 155}\n",
      "    Training Episode 0/5\n"
     ]
    },
    {
     "name": "stderr",
     "output_type": "stream",
     "text": [
      "253it [8:31:24, 115.60s/it]"
     ]
    },
    {
     "name": "stdout",
     "output_type": "stream",
     "text": [
      "    Evaluation Episode 0/1\n",
      "    Average Reward over last 50 episodes: -16296.99\n",
      "    Min Reward over last 50 episodes: -16371.96\n",
      "    Max Reward over last 50 episodes: -16254.27\n",
      "    Evaluation Average Reward: -16363.63\n",
      "\n",
      "Running combination 254/9555 with parameters: {'epsilon': 0.025, 'epsilon_decay': 0.995, 'alpha': 0.4, 'gamma': 0.6, 'no_change_after_lap': 115}\n",
      "    Training Episode 0/5\n"
     ]
    },
    {
     "name": "stderr",
     "output_type": "stream",
     "text": [
      "254it [8:33:23, 116.89s/it]"
     ]
    },
    {
     "name": "stdout",
     "output_type": "stream",
     "text": [
      "    Evaluation Episode 0/1\n",
      "    Average Reward over last 50 episodes: -25700.15\n",
      "    Min Reward over last 50 episodes: -25960.16\n",
      "    Max Reward over last 50 episodes: -25400.06\n",
      "    Evaluation Average Reward: -25898.46\n",
      "\n",
      "Running combination 255/9555 with parameters: {'epsilon': 0.2, 'epsilon_decay': 0.995, 'alpha': 1.0, 'gamma': 0.2, 'no_change_after_lap': 115}\n",
      "    Training Episode 0/5\n"
     ]
    },
    {
     "name": "stderr",
     "output_type": "stream",
     "text": [
      "255it [8:35:24, 117.88s/it]"
     ]
    },
    {
     "name": "stdout",
     "output_type": "stream",
     "text": [
      "    Evaluation Episode 0/1\n",
      "    Average Reward over last 50 episodes: -25576.99\n",
      "    Min Reward over last 50 episodes: -25727.66\n",
      "    Max Reward over last 50 episodes: -25432.89\n",
      "    Evaluation Average Reward: -25893.91\n",
      "\n",
      "Running combination 256/9555 with parameters: {'epsilon': 0.2, 'epsilon_decay': 0.995, 'alpha': 0.0, 'gamma': 0.6, 'no_change_after_lap': 155}\n",
      "    Training Episode 0/5\n"
     ]
    },
    {
     "name": "stderr",
     "output_type": "stream",
     "text": [
      "256it [8:37:16, 116.19s/it]"
     ]
    },
    {
     "name": "stdout",
     "output_type": "stream",
     "text": [
      "    Evaluation Episode 0/1\n",
      "    Average Reward over last 50 episodes: -16359.61\n",
      "    Min Reward over last 50 episodes: -16432.56\n",
      "    Max Reward over last 50 episodes: -16290.04\n",
      "    Evaluation Average Reward: -16402.52\n",
      "\n",
      "Running combination 257/9555 with parameters: {'epsilon': 0.1, 'epsilon_decay': 0.99, 'alpha': 0.4, 'gamma': 0.9, 'no_change_after_lap': 150}\n",
      "    Training Episode 0/5\n"
     ]
    },
    {
     "name": "stderr",
     "output_type": "stream",
     "text": [
      "257it [8:39:18, 117.84s/it]"
     ]
    },
    {
     "name": "stdout",
     "output_type": "stream",
     "text": [
      "    Evaluation Episode 0/1\n",
      "    Average Reward over last 50 episodes: -17087.96\n",
      "    Min Reward over last 50 episodes: -17285.64\n",
      "    Max Reward over last 50 episodes: -16881.90\n",
      "    Evaluation Average Reward: -17261.66\n",
      "\n",
      "Running combination 258/9555 with parameters: {'epsilon': 0.0, 'epsilon_decay': 0.99, 'alpha': 0.6, 'gamma': 0.8, 'no_change_after_lap': 105}\n",
      "    Training Episode 0/5\n"
     ]
    },
    {
     "name": "stderr",
     "output_type": "stream",
     "text": [
      "258it [8:41:17, 118.25s/it]"
     ]
    },
    {
     "name": "stdout",
     "output_type": "stream",
     "text": [
      "    Evaluation Episode 0/1\n",
      "    Average Reward over last 50 episodes: -28137.33\n",
      "    Min Reward over last 50 episodes: -28405.91\n",
      "    Max Reward over last 50 episodes: -27801.12\n",
      "    Evaluation Average Reward: -28021.63\n",
      "\n",
      "Running combination 259/9555 with parameters: {'epsilon': 0.05, 'epsilon_decay': 0.995, 'alpha': 0.0, 'gamma': 0.4, 'no_change_after_lap': 120}\n",
      "    Training Episode 0/5\n"
     ]
    },
    {
     "name": "stderr",
     "output_type": "stream",
     "text": [
      "259it [8:43:09, 116.30s/it]"
     ]
    },
    {
     "name": "stdout",
     "output_type": "stream",
     "text": [
      "    Evaluation Episode 0/1\n",
      "    Average Reward over last 50 episodes: -24229.12\n",
      "    Min Reward over last 50 episodes: -24549.06\n",
      "    Max Reward over last 50 episodes: -23963.99\n",
      "    Evaluation Average Reward: -24352.57\n",
      "\n",
      "Running combination 260/9555 with parameters: {'epsilon': 0.05, 'epsilon_decay': 0.99, 'alpha': 0.6, 'gamma': 0.8, 'no_change_after_lap': 105}\n",
      "    Training Episode 0/5\n"
     ]
    },
    {
     "name": "stderr",
     "output_type": "stream",
     "text": [
      "260it [8:45:09, 117.63s/it]"
     ]
    },
    {
     "name": "stdout",
     "output_type": "stream",
     "text": [
      "    Evaluation Episode 0/1\n",
      "    Average Reward over last 50 episodes: -28235.12\n",
      "    Min Reward over last 50 episodes: -28409.35\n",
      "    Max Reward over last 50 episodes: -28121.04\n",
      "    Evaluation Average Reward: -28243.25\n",
      "\n",
      "Running combination 261/9555 with parameters: {'epsilon': 0.05, 'epsilon_decay': 0.99, 'alpha': 0.2, 'gamma': 0.6, 'no_change_after_lap': 145}\n",
      "    Training Episode 0/5\n"
     ]
    },
    {
     "name": "stderr",
     "output_type": "stream",
     "text": [
      "261it [8:47:09, 118.24s/it]"
     ]
    },
    {
     "name": "stdout",
     "output_type": "stream",
     "text": [
      "    Evaluation Episode 0/1\n",
      "    Average Reward over last 50 episodes: -18232.89\n",
      "    Min Reward over last 50 episodes: -18395.84\n",
      "    Max Reward over last 50 episodes: -17892.98\n",
      "    Evaluation Average Reward: -18165.44\n",
      "\n",
      "Running combination 262/9555 with parameters: {'epsilon': 0.0, 'epsilon_decay': 0.99, 'alpha': 0.4, 'gamma': 1.0, 'no_change_after_lap': 120}\n",
      "    Training Episode 0/5\n"
     ]
    },
    {
     "name": "stderr",
     "output_type": "stream",
     "text": [
      "262it [8:49:14, 120.31s/it]"
     ]
    },
    {
     "name": "stdout",
     "output_type": "stream",
     "text": [
      "    Evaluation Episode 0/1\n",
      "    Average Reward over last 50 episodes: -24466.52\n",
      "    Min Reward over last 50 episodes: -24671.91\n",
      "    Max Reward over last 50 episodes: -24212.34\n",
      "    Evaluation Average Reward: -24214.76\n",
      "\n",
      "Running combination 263/9555 with parameters: {'epsilon': 0.1, 'epsilon_decay': 0.995, 'alpha': 1.0, 'gamma': 0.6, 'no_change_after_lap': 105}\n",
      "    Training Episode 0/5\n"
     ]
    },
    {
     "name": "stderr",
     "output_type": "stream",
     "text": [
      "263it [8:51:14, 120.24s/it]"
     ]
    },
    {
     "name": "stdout",
     "output_type": "stream",
     "text": [
      "    Evaluation Episode 0/1\n",
      "    Average Reward over last 50 episodes: -28190.71\n",
      "    Min Reward over last 50 episodes: -28410.19\n",
      "    Max Reward over last 50 episodes: -27891.28\n",
      "    Evaluation Average Reward: -28392.31\n",
      "\n",
      "Running combination 264/9555 with parameters: {'epsilon': 0.2, 'epsilon_decay': 0.995, 'alpha': 0.2, 'gamma': 0.9, 'no_change_after_lap': 120}\n",
      "    Training Episode 0/5\n"
     ]
    },
    {
     "name": "stderr",
     "output_type": "stream",
     "text": [
      "264it [8:53:17, 120.94s/it]"
     ]
    },
    {
     "name": "stdout",
     "output_type": "stream",
     "text": [
      "    Evaluation Episode 0/1\n",
      "    Average Reward over last 50 episodes: -24388.91\n",
      "    Min Reward over last 50 episodes: -24625.78\n",
      "    Max Reward over last 50 episodes: -24031.67\n",
      "    Evaluation Average Reward: -24070.86\n",
      "\n",
      "Running combination 265/9555 with parameters: {'epsilon': 0.0, 'epsilon_decay': 0.999, 'alpha': 0.2, 'gamma': 0.6, 'no_change_after_lap': 110}\n",
      "    Training Episode 0/5\n"
     ]
    },
    {
     "name": "stderr",
     "output_type": "stream",
     "text": [
      "265it [8:55:07, 117.86s/it]"
     ]
    },
    {
     "name": "stdout",
     "output_type": "stream",
     "text": [
      "    Evaluation Episode 0/1\n",
      "    Average Reward over last 50 episodes: -26999.20\n",
      "    Min Reward over last 50 episodes: -27153.66\n",
      "    Max Reward over last 50 episodes: -26619.91\n",
      "    Evaluation Average Reward: -26553.99\n",
      "\n",
      "Running combination 266/9555 with parameters: {'epsilon': 0.0, 'epsilon_decay': 0.995, 'alpha': 0.4, 'gamma': 0.6, 'no_change_after_lap': 105}\n",
      "    Training Episode 0/5\n"
     ]
    },
    {
     "name": "stderr",
     "output_type": "stream",
     "text": [
      "266it [8:57:08, 118.70s/it]"
     ]
    },
    {
     "name": "stdout",
     "output_type": "stream",
     "text": [
      "    Evaluation Episode 0/1\n",
      "    Average Reward over last 50 episodes: -28159.76\n",
      "    Min Reward over last 50 episodes: -28347.77\n",
      "    Max Reward over last 50 episodes: -27823.81\n",
      "    Evaluation Average Reward: -27909.30\n",
      "\n",
      "Running combination 267/9555 with parameters: {'epsilon': 0.1, 'epsilon_decay': 0.999, 'alpha': 0.6, 'gamma': 0.6, 'no_change_after_lap': 120}\n",
      "    Training Episode 0/5\n"
     ]
    },
    {
     "name": "stderr",
     "output_type": "stream",
     "text": [
      "267it [8:59:10, 119.75s/it]"
     ]
    },
    {
     "name": "stdout",
     "output_type": "stream",
     "text": [
      "    Evaluation Episode 0/1\n",
      "    Average Reward over last 50 episodes: -24474.21\n",
      "    Min Reward over last 50 episodes: -24642.14\n",
      "    Max Reward over last 50 episodes: -24230.97\n",
      "    Evaluation Average Reward: -24319.69\n",
      "\n",
      "Running combination 268/9555 with parameters: {'epsilon': 0.05, 'epsilon_decay': 0.99, 'alpha': 0.2, 'gamma': 0.4, 'no_change_after_lap': 140}\n",
      "    Training Episode 0/5\n"
     ]
    },
    {
     "name": "stderr",
     "output_type": "stream",
     "text": [
      "268it [9:01:11, 120.05s/it]"
     ]
    },
    {
     "name": "stdout",
     "output_type": "stream",
     "text": [
      "    Evaluation Episode 0/1\n",
      "    Average Reward over last 50 episodes: -19216.01\n",
      "    Min Reward over last 50 episodes: -19594.73\n",
      "    Max Reward over last 50 episodes: -18985.59\n",
      "    Evaluation Average Reward: -19387.12\n",
      "\n",
      "Running combination 269/9555 with parameters: {'epsilon': 0.05, 'epsilon_decay': 0.99, 'alpha': 0.9, 'gamma': 0.0, 'no_change_after_lap': 120}\n",
      "    Training Episode 0/5\n"
     ]
    },
    {
     "name": "stderr",
     "output_type": "stream",
     "text": [
      "269it [9:03:13, 120.55s/it]"
     ]
    },
    {
     "name": "stdout",
     "output_type": "stream",
     "text": [
      "    Evaluation Episode 0/1\n",
      "    Average Reward over last 50 episodes: -24383.49\n",
      "    Min Reward over last 50 episodes: -24597.73\n",
      "    Max Reward over last 50 episodes: -24131.91\n",
      "    Evaluation Average Reward: -24433.24\n",
      "\n",
      "Running combination 270/9555 with parameters: {'epsilon': 0.1, 'epsilon_decay': 0.995, 'alpha': 0.8, 'gamma': 0.4, 'no_change_after_lap': 155}\n",
      "    Training Episode 0/5\n"
     ]
    },
    {
     "name": "stderr",
     "output_type": "stream",
     "text": [
      "270it [9:05:12, 120.26s/it]"
     ]
    },
    {
     "name": "stdout",
     "output_type": "stream",
     "text": [
      "    Evaluation Episode 0/1\n",
      "    Average Reward over last 50 episodes: -16353.39\n",
      "    Min Reward over last 50 episodes: -16430.79\n",
      "    Max Reward over last 50 episodes: -16260.95\n",
      "    Evaluation Average Reward: -16312.45\n",
      "\n",
      "Running combination 271/9555 with parameters: {'epsilon': 0.0, 'epsilon_decay': 0.995, 'alpha': 0.4, 'gamma': 0.4, 'no_change_after_lap': 100}\n",
      "    Training Episode 0/5\n"
     ]
    },
    {
     "name": "stderr",
     "output_type": "stream",
     "text": [
      "271it [9:07:08, 118.80s/it]"
     ]
    },
    {
     "name": "stdout",
     "output_type": "stream",
     "text": [
      "    Evaluation Episode 0/1\n",
      "    Average Reward over last 50 episodes: -29235.96\n",
      "    Min Reward over last 50 episodes: -29391.26\n",
      "    Max Reward over last 50 episodes: -28997.24\n",
      "    Evaluation Average Reward: -29479.67\n",
      "\n",
      "Running combination 272/9555 with parameters: {'epsilon': 0.025, 'epsilon_decay': 0.999, 'alpha': 0.2, 'gamma': 0.2, 'no_change_after_lap': 140}\n",
      "    Training Episode 0/5\n"
     ]
    },
    {
     "name": "stderr",
     "output_type": "stream",
     "text": [
      "272it [9:09:10, 119.83s/it]"
     ]
    },
    {
     "name": "stdout",
     "output_type": "stream",
     "text": [
      "    Evaluation Episode 0/1\n",
      "    Average Reward over last 50 episodes: -19300.02\n",
      "    Min Reward over last 50 episodes: -19599.15\n",
      "    Max Reward over last 50 episodes: -19108.88\n",
      "    Evaluation Average Reward: -18951.91\n",
      "\n",
      "Running combination 273/9555 with parameters: {'epsilon': 0.05, 'epsilon_decay': 0.999, 'alpha': 0.2, 'gamma': 0.8, 'no_change_after_lap': 110}\n",
      "    Training Episode 0/5\n"
     ]
    },
    {
     "name": "stderr",
     "output_type": "stream",
     "text": [
      "273it [9:11:11, 120.33s/it]"
     ]
    },
    {
     "name": "stdout",
     "output_type": "stream",
     "text": [
      "    Evaluation Episode 0/1\n",
      "    Average Reward over last 50 episodes: -26861.29\n",
      "    Min Reward over last 50 episodes: -27212.63\n",
      "    Max Reward over last 50 episodes: -26576.88\n",
      "    Evaluation Average Reward: -27114.08\n",
      "\n",
      "Running combination 274/9555 with parameters: {'epsilon': 0.05, 'epsilon_decay': 0.995, 'alpha': 0.6, 'gamma': 0.9, 'no_change_after_lap': 150}\n",
      "    Training Episode 0/5\n"
     ]
    },
    {
     "name": "stderr",
     "output_type": "stream",
     "text": [
      "274it [9:13:12, 120.50s/it]"
     ]
    },
    {
     "name": "stdout",
     "output_type": "stream",
     "text": [
      "    Evaluation Episode 0/1\n",
      "    Average Reward over last 50 episodes: -17050.09\n",
      "    Min Reward over last 50 episodes: -17175.37\n",
      "    Max Reward over last 50 episodes: -16881.87\n",
      "    Evaluation Average Reward: -16906.64\n",
      "\n",
      "Running combination 275/9555 with parameters: {'epsilon': 0.2, 'epsilon_decay': 0.99, 'alpha': 1.0, 'gamma': 0.9, 'no_change_after_lap': 125}\n",
      "    Training Episode 0/5\n"
     ]
    },
    {
     "name": "stderr",
     "output_type": "stream",
     "text": [
      "275it [9:15:18, 122.20s/it]"
     ]
    },
    {
     "name": "stdout",
     "output_type": "stream",
     "text": [
      "    Evaluation Episode 0/1\n",
      "    Average Reward over last 50 episodes: -23148.52\n",
      "    Min Reward over last 50 episodes: -23440.41\n",
      "    Max Reward over last 50 episodes: -22749.75\n",
      "    Evaluation Average Reward: -23047.54\n",
      "\n",
      "Running combination 276/9555 with parameters: {'epsilon': 0.1, 'epsilon_decay': 0.999, 'alpha': 0.2, 'gamma': 0.4, 'no_change_after_lap': 160}\n",
      "    Training Episode 0/5\n"
     ]
    },
    {
     "name": "stderr",
     "output_type": "stream",
     "text": [
      "276it [9:17:17, 121.02s/it]"
     ]
    },
    {
     "name": "stdout",
     "output_type": "stream",
     "text": [
      "    Evaluation Episode 0/1\n",
      "    Average Reward over last 50 episodes: -16102.90\n",
      "    Min Reward over last 50 episodes: -16160.73\n",
      "    Max Reward over last 50 episodes: -16060.47\n",
      "    Evaluation Average Reward: -16034.13\n",
      "\n",
      "Running combination 277/9555 with parameters: {'epsilon': 0.05, 'epsilon_decay': 0.999, 'alpha': 0.4, 'gamma': 0.4, 'no_change_after_lap': 100}\n",
      "    Training Episode 0/5\n"
     ]
    },
    {
     "name": "stderr",
     "output_type": "stream",
     "text": [
      "277it [9:19:17, 120.84s/it]"
     ]
    },
    {
     "name": "stdout",
     "output_type": "stream",
     "text": [
      "    Evaluation Episode 0/1\n",
      "    Average Reward over last 50 episodes: -29348.76\n",
      "    Min Reward over last 50 episodes: -29579.05\n",
      "    Max Reward over last 50 episodes: -29059.91\n",
      "    Evaluation Average Reward: -29254.01\n",
      "\n",
      "Running combination 278/9555 with parameters: {'epsilon': 0.1, 'epsilon_decay': 0.999, 'alpha': 0.6, 'gamma': 1.0, 'no_change_after_lap': 150}\n",
      "    Training Episode 0/5\n"
     ]
    },
    {
     "name": "stderr",
     "output_type": "stream",
     "text": [
      "278it [9:21:18, 120.97s/it]"
     ]
    },
    {
     "name": "stdout",
     "output_type": "stream",
     "text": [
      "    Evaluation Episode 0/1\n",
      "    Average Reward over last 50 episodes: -17065.44\n",
      "    Min Reward over last 50 episodes: -17186.71\n",
      "    Max Reward over last 50 episodes: -16845.48\n",
      "    Evaluation Average Reward: -17017.01\n",
      "\n",
      "Running combination 279/9555 with parameters: {'epsilon': 0.1, 'epsilon_decay': 0.999, 'alpha': 0.2, 'gamma': 1.0, 'no_change_after_lap': 105}\n",
      "    Training Episode 0/5\n"
     ]
    },
    {
     "name": "stderr",
     "output_type": "stream",
     "text": [
      "279it [9:23:23, 121.97s/it]"
     ]
    },
    {
     "name": "stdout",
     "output_type": "stream",
     "text": [
      "    Evaluation Episode 0/1\n",
      "    Average Reward over last 50 episodes: -28021.28\n",
      "    Min Reward over last 50 episodes: -28400.55\n",
      "    Max Reward over last 50 episodes: -27777.43\n",
      "    Evaluation Average Reward: -27971.37\n",
      "\n",
      "Running combination 280/9555 with parameters: {'epsilon': 0.05, 'epsilon_decay': 0.99, 'alpha': 0.8, 'gamma': 0.6, 'no_change_after_lap': 160}\n",
      "    Training Episode 0/5\n"
     ]
    },
    {
     "name": "stderr",
     "output_type": "stream",
     "text": [
      "280it [9:25:17, 119.68s/it]"
     ]
    },
    {
     "name": "stdout",
     "output_type": "stream",
     "text": [
      "    Evaluation Episode 0/1\n",
      "    Average Reward over last 50 episodes: -16039.59\n",
      "    Min Reward over last 50 episodes: -16064.26\n",
      "    Max Reward over last 50 episodes: -16018.65\n",
      "    Evaluation Average Reward: -16076.14\n",
      "\n",
      "Running combination 281/9555 with parameters: {'epsilon': 0.1, 'epsilon_decay': 0.995, 'alpha': 0.2, 'gamma': 1.0, 'no_change_after_lap': 115}\n",
      "    Training Episode 0/5\n"
     ]
    },
    {
     "name": "stderr",
     "output_type": "stream",
     "text": [
      "281it [9:27:18, 119.98s/it]"
     ]
    },
    {
     "name": "stdout",
     "output_type": "stream",
     "text": [
      "    Evaluation Episode 0/1\n",
      "    Average Reward over last 50 episodes: -25429.39\n",
      "    Min Reward over last 50 episodes: -25844.23\n",
      "    Max Reward over last 50 episodes: -25168.94\n",
      "    Evaluation Average Reward: -25737.63\n",
      "\n",
      "Running combination 282/9555 with parameters: {'epsilon': 0.025, 'epsilon_decay': 0.999, 'alpha': 0.8, 'gamma': 0.8, 'no_change_after_lap': 120}\n",
      "    Training Episode 0/5\n"
     ]
    },
    {
     "name": "stderr",
     "output_type": "stream",
     "text": [
      "282it [9:29:15, 119.18s/it]"
     ]
    },
    {
     "name": "stdout",
     "output_type": "stream",
     "text": [
      "    Evaluation Episode 0/1\n",
      "    Average Reward over last 50 episodes: -24224.96\n",
      "    Min Reward over last 50 episodes: -24352.99\n",
      "    Max Reward over last 50 episodes: -24026.32\n",
      "    Evaluation Average Reward: -24665.80\n",
      "\n",
      "Running combination 283/9555 with parameters: {'epsilon': 0.025, 'epsilon_decay': 0.995, 'alpha': 0.8, 'gamma': 0.4, 'no_change_after_lap': 145}\n",
      "    Training Episode 0/5\n"
     ]
    },
    {
     "name": "stderr",
     "output_type": "stream",
     "text": [
      "283it [9:31:20, 120.94s/it]"
     ]
    },
    {
     "name": "stdout",
     "output_type": "stream",
     "text": [
      "    Evaluation Episode 0/1\n",
      "    Average Reward over last 50 episodes: -18167.33\n",
      "    Min Reward over last 50 episodes: -18398.94\n",
      "    Max Reward over last 50 episodes: -17963.33\n",
      "    Evaluation Average Reward: -18368.31\n",
      "\n",
      "Running combination 284/9555 with parameters: {'epsilon': 0.025, 'epsilon_decay': 0.999, 'alpha': 0.6, 'gamma': 0.8, 'no_change_after_lap': 100}\n",
      "    Training Episode 0/5\n"
     ]
    },
    {
     "name": "stderr",
     "output_type": "stream",
     "text": [
      "284it [9:33:23, 121.56s/it]"
     ]
    },
    {
     "name": "stdout",
     "output_type": "stream",
     "text": [
      "    Evaluation Episode 0/1\n",
      "    Average Reward over last 50 episodes: -29300.85\n",
      "    Min Reward over last 50 episodes: -29505.35\n",
      "    Max Reward over last 50 episodes: -29012.32\n",
      "    Evaluation Average Reward: -29576.19\n",
      "\n",
      "Running combination 285/9555 with parameters: {'epsilon': 0.2, 'epsilon_decay': 0.995, 'alpha': 0.2, 'gamma': 0.4, 'no_change_after_lap': 135}\n",
      "    Training Episode 0/5\n"
     ]
    },
    {
     "name": "stderr",
     "output_type": "stream",
     "text": [
      "285it [9:35:22, 120.71s/it]"
     ]
    },
    {
     "name": "stdout",
     "output_type": "stream",
     "text": [
      "    Evaluation Episode 0/1\n",
      "    Average Reward over last 50 episodes: -20671.21\n",
      "    Min Reward over last 50 episodes: -20838.66\n",
      "    Max Reward over last 50 episodes: -20414.31\n",
      "    Evaluation Average Reward: -20794.53\n",
      "\n",
      "Running combination 286/9555 with parameters: {'epsilon': 0.1, 'epsilon_decay': 0.999, 'alpha': 0.2, 'gamma': 0.4, 'no_change_after_lap': 100}\n",
      "    Training Episode 0/5\n"
     ]
    },
    {
     "name": "stderr",
     "output_type": "stream",
     "text": [
      "286it [9:37:23, 120.91s/it]"
     ]
    },
    {
     "name": "stdout",
     "output_type": "stream",
     "text": [
      "    Evaluation Episode 0/1\n",
      "    Average Reward over last 50 episodes: -29352.25\n",
      "    Min Reward over last 50 episodes: -29494.26\n",
      "    Max Reward over last 50 episodes: -29002.71\n",
      "    Evaluation Average Reward: -29203.34\n",
      "\n",
      "Running combination 287/9555 with parameters: {'epsilon': 0.05, 'epsilon_decay': 0.995, 'alpha': 0.0, 'gamma': 0.4, 'no_change_after_lap': 135}\n",
      "    Training Episode 0/5\n"
     ]
    },
    {
     "name": "stderr",
     "output_type": "stream",
     "text": [
      "287it [9:39:16, 118.50s/it]"
     ]
    },
    {
     "name": "stdout",
     "output_type": "stream",
     "text": [
      "    Evaluation Episode 0/1\n",
      "    Average Reward over last 50 episodes: -20608.68\n",
      "    Min Reward over last 50 episodes: -20840.49\n",
      "    Max Reward over last 50 episodes: -20333.16\n",
      "    Evaluation Average Reward: -20697.00\n",
      "\n",
      "Running combination 288/9555 with parameters: {'epsilon': 0.2, 'epsilon_decay': 0.999, 'alpha': 0.9, 'gamma': 0.4, 'no_change_after_lap': 145}\n",
      "    Training Episode 0/5\n"
     ]
    },
    {
     "name": "stderr",
     "output_type": "stream",
     "text": [
      "288it [9:41:17, 119.35s/it]"
     ]
    },
    {
     "name": "stdout",
     "output_type": "stream",
     "text": [
      "    Evaluation Episode 0/1\n",
      "    Average Reward over last 50 episodes: -18008.78\n",
      "    Min Reward over last 50 episodes: -18176.93\n",
      "    Max Reward over last 50 episodes: -17813.75\n",
      "    Evaluation Average Reward: -18046.43\n",
      "\n",
      "Running combination 289/9555 with parameters: {'epsilon': 0.05, 'epsilon_decay': 0.999, 'alpha': 0.9, 'gamma': 0.8, 'no_change_after_lap': 150}\n",
      "    Training Episode 0/5\n"
     ]
    },
    {
     "name": "stderr",
     "output_type": "stream",
     "text": [
      "289it [9:43:18, 119.74s/it]"
     ]
    },
    {
     "name": "stdout",
     "output_type": "stream",
     "text": [
      "    Evaluation Episode 0/1\n",
      "    Average Reward over last 50 episodes: -17102.20\n",
      "    Min Reward over last 50 episodes: -17293.87\n",
      "    Max Reward over last 50 episodes: -16884.38\n",
      "    Evaluation Average Reward: -17158.45\n",
      "\n",
      "Running combination 290/9555 with parameters: {'epsilon': 0.0, 'epsilon_decay': 0.995, 'alpha': 0.9, 'gamma': 0.0, 'no_change_after_lap': 150}\n",
      "    Training Episode 0/5\n"
     ]
    },
    {
     "name": "stderr",
     "output_type": "stream",
     "text": [
      "290it [9:45:16, 119.08s/it]"
     ]
    },
    {
     "name": "stdout",
     "output_type": "stream",
     "text": [
      "    Evaluation Episode 0/1\n",
      "    Average Reward over last 50 episodes: -17197.34\n",
      "    Min Reward over last 50 episodes: -17302.38\n",
      "    Max Reward over last 50 episodes: -16908.67\n",
      "    Evaluation Average Reward: -16888.38\n",
      "SKIPPING\n",
      "\n",
      "Running combination 291/9555 with parameters: {'epsilon': 0.025, 'epsilon_decay': 0.999, 'alpha': 0.0, 'gamma': 0.4, 'no_change_after_lap': 150}\n",
      "    Training Episode 0/5\n"
     ]
    },
    {
     "name": "stderr",
     "output_type": "stream",
     "text": [
      "291it [9:47:11, 117.83s/it]"
     ]
    },
    {
     "name": "stdout",
     "output_type": "stream",
     "text": [
      "    Evaluation Episode 0/1\n",
      "    Average Reward over last 50 episodes: -17028.27\n",
      "    Min Reward over last 50 episodes: -17130.59\n",
      "    Max Reward over last 50 episodes: -16952.46\n",
      "    Evaluation Average Reward: -17107.44\n",
      "\n",
      "Running combination 292/9555 with parameters: {'epsilon': 0.2, 'epsilon_decay': 0.99, 'alpha': 0.2, 'gamma': 0.4, 'no_change_after_lap': 125}\n",
      "    Training Episode 0/5\n"
     ]
    },
    {
     "name": "stderr",
     "output_type": "stream",
     "text": [
      "292it [9:49:15, 119.72s/it]"
     ]
    },
    {
     "name": "stdout",
     "output_type": "stream",
     "text": [
      "    Evaluation Episode 0/1\n",
      "    Average Reward over last 50 episodes: -23161.59\n",
      "    Min Reward over last 50 episodes: -23565.04\n",
      "    Max Reward over last 50 episodes: -22779.93\n",
      "    Evaluation Average Reward: -23242.75\n",
      "\n",
      "Running combination 293/9555 with parameters: {'epsilon': 0.0, 'epsilon_decay': 0.999, 'alpha': 1.0, 'gamma': 0.9, 'no_change_after_lap': 135}\n",
      "    Training Episode 0/5\n"
     ]
    },
    {
     "name": "stderr",
     "output_type": "stream",
     "text": [
      "293it [9:51:14, 119.67s/it]"
     ]
    },
    {
     "name": "stdout",
     "output_type": "stream",
     "text": [
      "    Evaluation Episode 0/1\n",
      "    Average Reward over last 50 episodes: -20661.43\n",
      "    Min Reward over last 50 episodes: -20816.22\n",
      "    Max Reward over last 50 episodes: -20236.25\n",
      "    Evaluation Average Reward: -20482.41\n",
      "\n",
      "Running combination 294/9555 with parameters: {'epsilon': 0.2, 'epsilon_decay': 0.99, 'alpha': 0.4, 'gamma': 1.0, 'no_change_after_lap': 105}\n",
      "    Training Episode 0/5\n"
     ]
    },
    {
     "name": "stderr",
     "output_type": "stream",
     "text": [
      "294it [9:53:14, 119.68s/it]"
     ]
    },
    {
     "name": "stdout",
     "output_type": "stream",
     "text": [
      "    Evaluation Episode 0/1\n",
      "    Average Reward over last 50 episodes: -28116.34\n",
      "    Min Reward over last 50 episodes: -28340.41\n",
      "    Max Reward over last 50 episodes: -27772.75\n",
      "    Evaluation Average Reward: -27725.66\n",
      "\n",
      "Running combination 295/9555 with parameters: {'epsilon': 0.05, 'epsilon_decay': 0.999, 'alpha': 0.0, 'gamma': 1.0, 'no_change_after_lap': 135}\n",
      "    Training Episode 0/5\n"
     ]
    },
    {
     "name": "stderr",
     "output_type": "stream",
     "text": [
      "295it [9:55:02, 116.07s/it]"
     ]
    },
    {
     "name": "stdout",
     "output_type": "stream",
     "text": [
      "    Evaluation Episode 0/1\n",
      "    Average Reward over last 50 episodes: -20542.31\n",
      "    Min Reward over last 50 episodes: -20723.84\n",
      "    Max Reward over last 50 episodes: -20289.43\n",
      "    Evaluation Average Reward: -20787.73\n",
      "SKIPPING\n",
      "\n",
      "Running combination 296/9555 with parameters: {'epsilon': 0.0, 'epsilon_decay': 0.99, 'alpha': 0.0, 'gamma': 0.2, 'no_change_after_lap': 155}\n",
      "    Training Episode 0/5\n"
     ]
    },
    {
     "name": "stderr",
     "output_type": "stream",
     "text": [
      "296it [9:56:48, 113.29s/it]"
     ]
    },
    {
     "name": "stdout",
     "output_type": "stream",
     "text": [
      "    Evaluation Episode 0/1\n",
      "    Average Reward over last 50 episodes: -16349.30\n",
      "    Min Reward over last 50 episodes: -16399.63\n",
      "    Max Reward over last 50 episodes: -16225.37\n",
      "    Evaluation Average Reward: -16469.34\n",
      "\n",
      "Running combination 297/9555 with parameters: {'epsilon': 0.1, 'epsilon_decay': 0.99, 'alpha': 1.0, 'gamma': 0.0, 'no_change_after_lap': 160}\n",
      "    Training Episode 0/5\n"
     ]
    },
    {
     "name": "stderr",
     "output_type": "stream",
     "text": [
      "297it [9:58:49, 115.54s/it]"
     ]
    },
    {
     "name": "stdout",
     "output_type": "stream",
     "text": [
      "    Evaluation Episode 0/1\n",
      "    Average Reward over last 50 episodes: -16051.21\n",
      "    Min Reward over last 50 episodes: -16128.58\n",
      "    Max Reward over last 50 episodes: -15974.16\n",
      "    Evaluation Average Reward: -16054.80\n",
      "\n",
      "Running combination 298/9555 with parameters: {'epsilon': 0.05, 'epsilon_decay': 0.99, 'alpha': 0.4, 'gamma': 0.8, 'no_change_after_lap': 110}\n",
      "    Training Episode 0/5\n"
     ]
    },
    {
     "name": "stderr",
     "output_type": "stream",
     "text": [
      "298it [10:00:48, 116.57s/it]"
     ]
    },
    {
     "name": "stdout",
     "output_type": "stream",
     "text": [
      "    Evaluation Episode 0/1\n",
      "    Average Reward over last 50 episodes: -26941.66\n",
      "    Min Reward over last 50 episodes: -27086.18\n",
      "    Max Reward over last 50 episodes: -26796.23\n",
      "    Evaluation Average Reward: -26707.66\n",
      "\n",
      "Running combination 299/9555 with parameters: {'epsilon': 0.1, 'epsilon_decay': 0.999, 'alpha': 0.0, 'gamma': 0.4, 'no_change_after_lap': 145}\n",
      "    Training Episode 0/5\n"
     ]
    },
    {
     "name": "stderr",
     "output_type": "stream",
     "text": [
      "299it [10:02:39, 114.97s/it]"
     ]
    },
    {
     "name": "stdout",
     "output_type": "stream",
     "text": [
      "    Evaluation Episode 0/1\n",
      "    Average Reward over last 50 episodes: -18094.67\n",
      "    Min Reward over last 50 episodes: -18398.44\n",
      "    Max Reward over last 50 episodes: -17864.22\n",
      "    Evaluation Average Reward: -17854.55\n",
      "\n",
      "Running combination 300/9555 with parameters: {'epsilon': 0.0, 'epsilon_decay': 0.999, 'alpha': 0.6, 'gamma': 0.8, 'no_change_after_lap': 105}\n",
      "    Training Episode 0/5\n"
     ]
    },
    {
     "name": "stderr",
     "output_type": "stream",
     "text": [
      "300it [10:04:41, 117.10s/it]"
     ]
    },
    {
     "name": "stdout",
     "output_type": "stream",
     "text": [
      "    Evaluation Episode 0/1\n",
      "    Average Reward over last 50 episodes: -27992.40\n",
      "    Min Reward over last 50 episodes: -28231.62\n",
      "    Max Reward over last 50 episodes: -27784.03\n",
      "    Evaluation Average Reward: -28229.79\n",
      "\n",
      "Running combination 301/9555 with parameters: {'epsilon': 0.2, 'epsilon_decay': 0.99, 'alpha': 0.2, 'gamma': 0.9, 'no_change_after_lap': 140}\n",
      "    Training Episode 0/5\n"
     ]
    },
    {
     "name": "stderr",
     "output_type": "stream",
     "text": [
      "301it [10:06:41, 117.79s/it]"
     ]
    },
    {
     "name": "stdout",
     "output_type": "stream",
     "text": [
      "    Evaluation Episode 0/1\n",
      "    Average Reward over last 50 episodes: -19385.14\n",
      "    Min Reward over last 50 episodes: -19645.26\n",
      "    Max Reward over last 50 episodes: -19230.95\n",
      "    Evaluation Average Reward: -19113.27\n",
      "\n",
      "Running combination 302/9555 with parameters: {'epsilon': 0.05, 'epsilon_decay': 0.99, 'alpha': 0.2, 'gamma': 0.6, 'no_change_after_lap': 135}\n",
      "    Training Episode 0/5\n"
     ]
    },
    {
     "name": "stderr",
     "output_type": "stream",
     "text": [
      "302it [10:08:40, 118.26s/it]"
     ]
    },
    {
     "name": "stdout",
     "output_type": "stream",
     "text": [
      "    Evaluation Episode 0/1\n",
      "    Average Reward over last 50 episodes: -20651.39\n",
      "    Min Reward over last 50 episodes: -20900.31\n",
      "    Max Reward over last 50 episodes: -20450.19\n",
      "    Evaluation Average Reward: -20496.31\n",
      "\n",
      "Running combination 303/9555 with parameters: {'epsilon': 0.2, 'epsilon_decay': 0.995, 'alpha': 0.0, 'gamma': 0.9, 'no_change_after_lap': 125}\n",
      "    Training Episode 0/5\n"
     ]
    },
    {
     "name": "stderr",
     "output_type": "stream",
     "text": [
      "303it [10:10:36, 117.66s/it]"
     ]
    },
    {
     "name": "stdout",
     "output_type": "stream",
     "text": [
      "    Evaluation Episode 0/1\n",
      "    Average Reward over last 50 episodes: -23024.04\n",
      "    Min Reward over last 50 episodes: -23293.45\n",
      "    Max Reward over last 50 episodes: -22838.46\n",
      "    Evaluation Average Reward: -23308.13\n",
      "\n",
      "Running combination 304/9555 with parameters: {'epsilon': 0.2, 'epsilon_decay': 0.99, 'alpha': 1.0, 'gamma': 0.6, 'no_change_after_lap': 100}\n",
      "    Training Episode 0/5\n"
     ]
    },
    {
     "name": "stderr",
     "output_type": "stream",
     "text": [
      "304it [10:12:40, 119.33s/it]"
     ]
    },
    {
     "name": "stdout",
     "output_type": "stream",
     "text": [
      "    Evaluation Episode 0/1\n",
      "    Average Reward over last 50 episodes: -29546.40\n",
      "    Min Reward over last 50 episodes: -30113.97\n",
      "    Max Reward over last 50 episodes: -29006.16\n",
      "    Evaluation Average Reward: -29548.27\n",
      "\n",
      "Running combination 305/9555 with parameters: {'epsilon': 0.0, 'epsilon_decay': 0.999, 'alpha': 0.4, 'gamma': 0.6, 'no_change_after_lap': 100}\n",
      "    Training Episode 0/5\n"
     ]
    },
    {
     "name": "stderr",
     "output_type": "stream",
     "text": [
      "305it [10:14:40, 119.76s/it]"
     ]
    },
    {
     "name": "stdout",
     "output_type": "stream",
     "text": [
      "    Evaluation Episode 0/1\n",
      "    Average Reward over last 50 episodes: -29185.84\n",
      "    Min Reward over last 50 episodes: -29378.10\n",
      "    Max Reward over last 50 episodes: -29085.21\n",
      "    Evaluation Average Reward: -29281.66\n",
      "\n",
      "Running combination 306/9555 with parameters: {'epsilon': 0.2, 'epsilon_decay': 0.995, 'alpha': 0.0, 'gamma': 0.6, 'no_change_after_lap': 130}\n",
      "    Training Episode 0/5\n"
     ]
    },
    {
     "name": "stderr",
     "output_type": "stream",
     "text": [
      "306it [10:16:42, 120.17s/it]"
     ]
    },
    {
     "name": "stdout",
     "output_type": "stream",
     "text": [
      "    Evaluation Episode 0/1\n",
      "    Average Reward over last 50 episodes: -21872.55\n",
      "    Min Reward over last 50 episodes: -22301.42\n",
      "    Max Reward over last 50 episodes: -21470.63\n",
      "    Evaluation Average Reward: -21942.79\n",
      "\n",
      "Running combination 307/9555 with parameters: {'epsilon': 0.05, 'epsilon_decay': 0.999, 'alpha': 0.6, 'gamma': 0.6, 'no_change_after_lap': 135}\n",
      "    Training Episode 0/5\n"
     ]
    },
    {
     "name": "stderr",
     "output_type": "stream",
     "text": [
      "307it [10:18:44, 120.95s/it]"
     ]
    },
    {
     "name": "stdout",
     "output_type": "stream",
     "text": [
      "    Evaluation Episode 0/1\n",
      "    Average Reward over last 50 episodes: -20392.63\n",
      "    Min Reward over last 50 episodes: -20565.87\n",
      "    Max Reward over last 50 episodes: -20233.90\n",
      "    Evaluation Average Reward: -20837.20\n",
      "\n",
      "Running combination 308/9555 with parameters: {'epsilon': 0.2, 'epsilon_decay': 0.99, 'alpha': 0.8, 'gamma': 0.0, 'no_change_after_lap': 135}\n",
      "    Training Episode 0/5\n"
     ]
    },
    {
     "name": "stderr",
     "output_type": "stream",
     "text": [
      "308it [10:20:44, 120.51s/it]"
     ]
    },
    {
     "name": "stdout",
     "output_type": "stream",
     "text": [
      "    Evaluation Episode 0/1\n",
      "    Average Reward over last 50 episodes: -20585.93\n",
      "    Min Reward over last 50 episodes: -20892.99\n",
      "    Max Reward over last 50 episodes: -20256.09\n",
      "    Evaluation Average Reward: -20452.41\n",
      "\n",
      "Running combination 309/9555 with parameters: {'epsilon': 0.1, 'epsilon_decay': 0.999, 'alpha': 0.4, 'gamma': 0.0, 'no_change_after_lap': 110}\n",
      "    Training Episode 0/5\n"
     ]
    },
    {
     "name": "stderr",
     "output_type": "stream",
     "text": [
      "309it [10:22:48, 121.56s/it]"
     ]
    },
    {
     "name": "stdout",
     "output_type": "stream",
     "text": [
      "    Evaluation Episode 0/1\n",
      "    Average Reward over last 50 episodes: -26737.36\n",
      "    Min Reward over last 50 episodes: -27013.71\n",
      "    Max Reward over last 50 episodes: -26623.23\n",
      "    Evaluation Average Reward: -26619.06\n",
      "\n",
      "Running combination 310/9555 with parameters: {'epsilon': 0.0, 'epsilon_decay': 0.995, 'alpha': 0.2, 'gamma': 0.0, 'no_change_after_lap': 125}\n",
      "    Training Episode 0/5\n"
     ]
    },
    {
     "name": "stderr",
     "output_type": "stream",
     "text": [
      "310it [10:24:45, 120.20s/it]"
     ]
    },
    {
     "name": "stdout",
     "output_type": "stream",
     "text": [
      "    Evaluation Episode 0/1\n",
      "    Average Reward over last 50 episodes: -22957.48\n",
      "    Min Reward over last 50 episodes: -23234.09\n",
      "    Max Reward over last 50 episodes: -22740.82\n",
      "    Evaluation Average Reward: -23243.15\n",
      "\n",
      "Running combination 311/9555 with parameters: {'epsilon': 0.1, 'epsilon_decay': 0.99, 'alpha': 0.6, 'gamma': 0.2, 'no_change_after_lap': 105}\n",
      "    Training Episode 0/5\n"
     ]
    },
    {
     "name": "stderr",
     "output_type": "stream",
     "text": [
      "311it [10:26:43, 119.57s/it]"
     ]
    },
    {
     "name": "stdout",
     "output_type": "stream",
     "text": [
      "    Evaluation Episode 0/1\n",
      "    Average Reward over last 50 episodes: -28060.24\n",
      "    Min Reward over last 50 episodes: -28351.35\n",
      "    Max Reward over last 50 episodes: -27781.58\n",
      "    Evaluation Average Reward: -28244.81\n",
      "\n",
      "Running combination 312/9555 with parameters: {'epsilon': 0.0, 'epsilon_decay': 0.995, 'alpha': 0.8, 'gamma': 0.4, 'no_change_after_lap': 125}\n",
      "    Training Episode 0/5\n"
     ]
    },
    {
     "name": "stderr",
     "output_type": "stream",
     "text": [
      "312it [10:28:41, 119.12s/it]"
     ]
    },
    {
     "name": "stdout",
     "output_type": "stream",
     "text": [
      "    Evaluation Episode 0/1\n",
      "    Average Reward over last 50 episodes: -23164.82\n",
      "    Min Reward over last 50 episodes: -23404.40\n",
      "    Max Reward over last 50 episodes: -22936.84\n",
      "    Evaluation Average Reward: -22784.40\n",
      "\n",
      "Running combination 313/9555 with parameters: {'epsilon': 0.025, 'epsilon_decay': 0.99, 'alpha': 0.0, 'gamma': 0.4, 'no_change_after_lap': 105}\n",
      "    Training Episode 0/5\n"
     ]
    },
    {
     "name": "stderr",
     "output_type": "stream",
     "text": [
      "313it [10:30:28, 115.46s/it]"
     ]
    },
    {
     "name": "stdout",
     "output_type": "stream",
     "text": [
      "    Evaluation Episode 0/1\n",
      "    Average Reward over last 50 episodes: -28067.28\n",
      "    Min Reward over last 50 episodes: -28339.21\n",
      "    Max Reward over last 50 episodes: -27777.92\n",
      "    Evaluation Average Reward: -28290.96\n",
      "\n",
      "Running combination 314/9555 with parameters: {'epsilon': 0.0, 'epsilon_decay': 0.999, 'alpha': 0.2, 'gamma': 0.4, 'no_change_after_lap': 140}\n",
      "    Training Episode 0/5\n"
     ]
    },
    {
     "name": "stderr",
     "output_type": "stream",
     "text": [
      "314it [10:32:29, 117.14s/it]"
     ]
    },
    {
     "name": "stdout",
     "output_type": "stream",
     "text": [
      "    Evaluation Episode 0/1\n",
      "    Average Reward over last 50 episodes: -19186.82\n",
      "    Min Reward over last 50 episodes: -19373.23\n",
      "    Max Reward over last 50 episodes: -19029.29\n",
      "    Evaluation Average Reward: -19513.84\n",
      "\n",
      "Running combination 315/9555 with parameters: {'epsilon': 0.0, 'epsilon_decay': 0.99, 'alpha': 0.6, 'gamma': 1.0, 'no_change_after_lap': 130}\n",
      "    Training Episode 0/5\n"
     ]
    },
    {
     "name": "stderr",
     "output_type": "stream",
     "text": [
      "315it [10:34:30, 118.30s/it]"
     ]
    },
    {
     "name": "stdout",
     "output_type": "stream",
     "text": [
      "    Evaluation Episode 0/1\n",
      "    Average Reward over last 50 episodes: -21910.66\n",
      "    Min Reward over last 50 episodes: -22109.72\n",
      "    Max Reward over last 50 episodes: -21526.70\n",
      "    Evaluation Average Reward: -21810.52\n",
      "\n",
      "Running combination 316/9555 with parameters: {'epsilon': 0.05, 'epsilon_decay': 0.995, 'alpha': 0.6, 'gamma': 0.9, 'no_change_after_lap': 120}\n",
      "    Training Episode 0/5\n"
     ]
    },
    {
     "name": "stderr",
     "output_type": "stream",
     "text": [
      "316it [10:36:32, 119.53s/it]"
     ]
    },
    {
     "name": "stdout",
     "output_type": "stream",
     "text": [
      "    Evaluation Episode 0/1\n",
      "    Average Reward over last 50 episodes: -24432.52\n",
      "    Min Reward over last 50 episodes: -24717.20\n",
      "    Max Reward over last 50 episodes: -24058.52\n",
      "    Evaluation Average Reward: -24074.12\n",
      "\n",
      "Running combination 317/9555 with parameters: {'epsilon': 0.025, 'epsilon_decay': 0.999, 'alpha': 1.0, 'gamma': 0.6, 'no_change_after_lap': 110}\n",
      "    Training Episode 0/5\n"
     ]
    },
    {
     "name": "stderr",
     "output_type": "stream",
     "text": [
      "317it [10:38:47, 124.02s/it]"
     ]
    },
    {
     "name": "stdout",
     "output_type": "stream",
     "text": [
      "    Evaluation Episode 0/1\n",
      "    Average Reward over last 50 episodes: -26861.72\n",
      "    Min Reward over last 50 episodes: -27106.58\n",
      "    Max Reward over last 50 episodes: -26517.26\n",
      "    Evaluation Average Reward: -26913.70\n",
      "\n",
      "Running combination 318/9555 with parameters: {'epsilon': 0.025, 'epsilon_decay': 0.999, 'alpha': 0.6, 'gamma': 0.6, 'no_change_after_lap': 140}\n",
      "    Training Episode 0/5\n"
     ]
    },
    {
     "name": "stderr",
     "output_type": "stream",
     "text": [
      "318it [10:40:58, 126.00s/it]"
     ]
    },
    {
     "name": "stdout",
     "output_type": "stream",
     "text": [
      "    Evaluation Episode 0/1\n",
      "    Average Reward over last 50 episodes: -19351.41\n",
      "    Min Reward over last 50 episodes: -19518.00\n",
      "    Max Reward over last 50 episodes: -19058.31\n",
      "    Evaluation Average Reward: -19350.31\n",
      "\n",
      "Running combination 319/9555 with parameters: {'epsilon': 0.1, 'epsilon_decay': 0.999, 'alpha': 0.6, 'gamma': 0.8, 'no_change_after_lap': 120}\n",
      "    Training Episode 0/5\n"
     ]
    }
   ],
   "source": [
    "# if not os.path.exists(directory):\n",
    "#     os.makedirs(directory)\n",
    "\n",
    "def parameter_combinations(param_grid):\n",
    "    \"\"\"\n",
    "    Generate random combinations of parameters from the given parameter grid.\n",
    "    \n",
    "    Args:\n",
    "    - param_grid (dict): Dictionary containing hyperparameters and their possible values.\n",
    "\n",
    "    Yields:\n",
    "    - dict: Random combination of hyperparameters.\n",
    "    \"\"\"\n",
    "    # Connect to the SQLite database and fetch existing combinations\n",
    "    conn = sqlite3.connect(gs_db_name)\n",
    "    c = conn.cursor()\n",
    "\n",
    "    # Check if the table exists. If not, create an empty DataFrame.\n",
    "    c.execute(f\"SELECT name FROM sqlite_master WHERE type='table' AND name='{table_name}';\")\n",
    "    if c.fetchone():\n",
    "        existing_combinations_df = pd.read_sql_query(f\"SELECT epsilon, epsilon_decay, alpha, gamma, no_change_after_lap FROM {table_name}\", conn)\n",
    "    else:\n",
    "        existing_combinations_df = pd.DataFrame()\n",
    "\n",
    "    conn.close()\n",
    "\n",
    "    # Generate and check combinations\n",
    "    keys, values = zip(*param_grid.items())\n",
    "    print(len(keys))\n",
    "    all_combinations = list(itertools.product(*values))\n",
    "    random.shuffle(all_combinations)\n",
    "\n",
    "    for combination in all_combinations:\n",
    "        param_dict = dict(zip(keys, combination))\n",
    "\n",
    "        # Check if this combination is already in the database\n",
    "        conditions = np.logical_and.reduce([existing_combinations_df[k] == v for k, v in param_dict.items()])\n",
    "        if not existing_combinations_df[conditions].empty:\n",
    "            print('SKIPPING')\n",
    "            continue  # Skip this combination if it's already in the database\n",
    "\n",
    "        yield param_dict\n",
    "\n",
    "# 1. Plot Episode Rewards\n",
    "def plot_rewards(rewards):\n",
    "    plt.plot(rewards)\n",
    "    plt.title('Episode Rewards Over Time')\n",
    "    plt.xlabel('Episode')\n",
    "    plt.ylabel('Total Reward')\n",
    "    plt.show()\n",
    "\n",
    "# 2. Plot Average Episode Rewards\n",
    "def plot_avg_rewards(rewards, window=5):\n",
    "    averages = [np.mean(rewards[max(0, i-window+1):i+1]) for i in range(len(rewards))]\n",
    "    plt.plot(averages)\n",
    "    plt.title(f'Average Episode Rewards Over Last {window} Episodes')\n",
    "    plt.xlabel('Episode')\n",
    "    plt.ylabel('Average Reward')\n",
    "    plt.show()\n",
    "\n",
    "# 3. Implement Grid Search\n",
    "def grid_search(param_grid, num_episodes, eval_episodes):\n",
    "    conn = sqlite3.connect(gs_db_name)\n",
    "    c = conn.cursor()\n",
    "\n",
    "    total_combinations = np.prod([len(v) for v in param_grid.values()])\n",
    "    print(f\"Total combinations: {total_combinations}\")\n",
    "    count = 0\n",
    "\n",
    "    for params in tqdm(parameter_combinations(param_grid)):\n",
    "        count += 1\n",
    "        print(f\"\\nRunning combination {count}/{total_combinations} with parameters: {params}\")\n",
    "\n",
    "        agent = TDLambdaAgent(epsilon=params['epsilon'], epsilon_decay=params['epsilon_decay'], alpha=params['alpha'], gamma=params['gamma'], no_change_after_lap=params['no_change_after_lap'])\n",
    "        \n",
    "        # Training phase\n",
    "        training_rewards = []  # List to store rewards from each episode\n",
    "        for episode in range(num_episodes):\n",
    "            if episode % 100 == 0:  # Print update every 100 episodes\n",
    "                print(f\"    Training Episode {episode}/{num_episodes}\")\n",
    "            state = env.reset()\n",
    "            done = False\n",
    "            episode_reward = 0 \n",
    "            while not done:\n",
    "                action = agent.act(state)\n",
    "                reward, next_state, done, _ = env.step(action)\n",
    "                episode_reward += reward\n",
    "                agent.update(state, action, reward, next_state)\n",
    "                # state = deepcopy(next_state)\n",
    "                state = next_state\n",
    "            training_rewards.append(episode_reward)  # Add the total reward for this episode to the list\n",
    "\n",
    "\n",
    "        # Evaluation phase\n",
    "        eval_rewards = []\n",
    "        for episode in range(eval_episodes):\n",
    "            if episode % 5 == 0:  # Print update every 100 episodes\n",
    "                print(f\"    Evaluation Episode {episode}/{eval_episodes}\")\n",
    "            state = env.reset()\n",
    "            done = False\n",
    "            episode_reward = 0\n",
    "            while not done:\n",
    "                action = agent.act(state)\n",
    "                reward, next_state, done, _ = env.step(action)\n",
    "                episode_reward += reward\n",
    "                # state = deepcopy(next_state)\n",
    "                state = next_state\n",
    "            eval_rewards.append(episode_reward)\n",
    "\n",
    "        # Compute metrics based on training rewards\n",
    "        avg_last_50 = np.mean(training_rewards[-50:])\n",
    "        min_last_50 = np.min(training_rewards[-50:])\n",
    "        max_last_50 = np.max(training_rewards[-50:])\n",
    "        eval_avg = np.mean(eval_rewards)\n",
    "        \n",
    "\n",
    "        # Print evaluation metrics\n",
    "        print(f\"    Average Reward over last 50 episodes: {avg_last_50:.2f}\")\n",
    "        print(f\"    Min Reward over last 50 episodes: {min_last_50:.2f}\")\n",
    "        print(f\"    Max Reward over last 50 episodes: {max_last_50:.2f}\")\n",
    "        print(f\"    Evaluation Average Reward: {eval_avg:.2f}\")\n",
    "\n",
    "        # Save metrics to database\n",
    "        c.execute(f\"\"\"INSERT INTO {table_name} (epsilon, epsilon_decay, alpha, gamma, no_change_after_lap, \n",
    "                                               avg_last_50, min_last_50, max_last_50, \n",
    "                                               eval_avg, overall_avg) \n",
    "                    VALUES (?, ?, ?, ?, ?, ?, ?, ?, ?, ?)\"\"\", \n",
    "                  (params['epsilon'], params['epsilon_decay'], params['alpha'], params['gamma'], \n",
    "                   params['no_change_after_lap'], avg_last_50, min_last_50, max_last_50, \n",
    "                   eval_avg, np.mean(training_rewards)))\n",
    "\n",
    "        conn.commit()\n",
    "        \n",
    "    conn.close()\n",
    "\n",
    "grid_search(param_grid, num_episodes, eval_episodes)"
   ]
  },
  {
   "cell_type": "code",
   "execution_count": null,
   "id": "6be65329",
   "metadata": {},
   "outputs": [],
   "source": [
    "conn = sqlite3.connect(gs_db_name)\n",
    "df = pd.read_sql_query(f\"SELECT COUNT(*) from {table_name}\", conn)\n",
    "print(df.shape)\n",
    "print(df)\n",
    "conn.close()"
   ]
  },
  {
   "cell_type": "code",
   "execution_count": null,
   "id": "eb325730",
   "metadata": {},
   "outputs": [],
   "source": [
    "# !pip install nbformat --upgrade"
   ]
  },
  {
   "cell_type": "code",
   "execution_count": null,
   "id": "95dea73e",
   "metadata": {},
   "outputs": [],
   "source": [
    "def radar_plot_top_combinations(db_name=gs_db_name, top_n=5):\n",
    "    # Connect to the database and fetch data\n",
    "    conn = sqlite3.connect(db_name)\n",
    "    df = pd.read_sql_query(f\"SELECT * from {table_name}\", conn)\n",
    "    conn.close()\n",
    "    \n",
    "    print(df.columns)\n",
    "    # Columns you want to include in the radar plot (i.e., your hyperparameters)\n",
    "    hyperparameter_columns = ['epsilon', 'epsilon_decay', 'alpha', 'gamma', 'no_change_after_lap', 'eval_avg']\n",
    "\n",
    "    # Normalize the hyperparameters based on all rows\n",
    "    normalized_df = (df[hyperparameter_columns] - df[hyperparameter_columns].min()) / (df[hyperparameter_columns].max() - df[hyperparameter_columns].min())\n",
    "    \n",
    "    # Sort by eval_reward (if it exists) and take top N\n",
    "    sort_column = 'eval_avg' if 'eval_avg' in df.columns else hyperparameter_columns[0]\n",
    "    top_rows_df = df.nlargest(top_n, sort_column)\n",
    "    top_normalized_df = normalized_df.loc[top_rows_df.index]\n",
    "\n",
    "\n",
    "    # Radar plot\n",
    "    from math import pi\n",
    "    labels = hyperparameter_columns\n",
    "    num_vars = len(labels)\n",
    "\n",
    "    angles = [n / float(num_vars) * 2 * pi for n in range(num_vars)]\n",
    "    angles += angles[:1]  # Adding the first angle at the end to close the circle\n",
    "\n",
    "    plt.figure(figsize=(10, 10), dpi=80)\n",
    "    ax = plt.subplot(111, polar=True)\n",
    "    ax.set_theta_offset(pi / 2)\n",
    "    ax.set_theta_direction(-1)\n",
    "    ax.set_rlabel_position(0)\n",
    "    ax.set_xticks(angles[:-1])  # Removing the last angle for the labels\n",
    "    ax.set_xticklabels(labels, fontsize=12)\n",
    "    ax.set_yticklabels([])\n",
    "\n",
    "    for i in range(top_n):\n",
    "        norm_values = top_normalized_df.iloc[i].values.flatten().tolist()\n",
    "        norm_values += norm_values[:1]  # Add the first value to the end to close the circle\n",
    "\n",
    "        true_values_list = top_rows_df.iloc[i][hyperparameter_columns].values.flatten().tolist()\n",
    "\n",
    "        param_string = ', '.join([f\"{col}={val:.2f}\" for col, val in zip(labels, true_values_list)])\n",
    "        line = ax.plot(angles, norm_values, linewidth=2, linestyle='solid', label=param_string)\n",
    "        ax.fill(angles, norm_values, alpha=0.1)\n",
    "\n",
    "        # Annotate with the true values\n",
    "        for angle, value, true_value in zip(angles, norm_values, true_values_list):\n",
    "            ax.annotate(f\"{true_value:.2f}\", \n",
    "                        xy=(angle, value), \n",
    "                        color=line[0].get_color(),\n",
    "                        ha='center', va='bottom')\n",
    "\n",
    "    plt.title(f'Top {top_n} Parameter Combinations', size=20, color='blue', y=1.1)\n",
    "    plt.legend(loc='upper right', bbox_to_anchor=(1.3, 1.1))\n",
    "    plt.show()\n",
    "\n",
    "    print(top_rows_df)\n",
    "\n",
    "radar_plot_top_combinations(top_n=5)\n"
   ]
  },
  {
   "cell_type": "code",
   "execution_count": null,
   "id": "55eb6419",
   "metadata": {},
   "outputs": [],
   "source": []
  }
 ],
 "metadata": {
  "kernelspec": {
   "display_name": "Python 3 (ipykernel)",
   "language": "python",
   "name": "python3"
  },
  "language_info": {
   "codemirror_mode": {
    "name": "ipython",
    "version": 3
   },
   "file_extension": ".py",
   "mimetype": "text/x-python",
   "name": "python",
   "nbconvert_exporter": "python",
   "pygments_lexer": "ipython3",
   "version": "3.8.18"
  }
 },
 "nbformat": 4,
 "nbformat_minor": 5
}
