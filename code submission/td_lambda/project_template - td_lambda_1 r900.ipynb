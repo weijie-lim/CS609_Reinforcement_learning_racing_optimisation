{
 "cells": [
  {
   "cell_type": "code",
   "execution_count": 1,
   "id": "66f2318e",
   "metadata": {},
   "outputs": [],
   "source": [
    "# !pip install swifter\n",
    "# !pip install ipywidgets\n",
    "# !jupyter nbextension enable --py widgetsnbextension"
   ]
  },
  {
   "cell_type": "code",
   "execution_count": 2,
   "id": "312ce7b4",
   "metadata": {},
   "outputs": [],
   "source": [
    "import numpy as np\n",
    "from copy import deepcopy\n",
    "import matplotlib.pyplot as plt\n",
    "from tqdm import tqdm\n",
    "from itertools import product\n",
    "import pickle\n",
    "import random\n",
    "import sqlite3\n",
    "import itertools\n",
    "import os\n",
    "import pandas as pd\n",
    "from collections import defaultdict\n",
    "\n",
    "np.set_printoptions(precision=3)"
   ]
  },
  {
   "cell_type": "code",
   "execution_count": 3,
   "id": "bb5f3d6a",
   "metadata": {},
   "outputs": [],
   "source": [
    "class Agent:\n",
    "    def __init__(self):\n",
    "        pass\n",
    "\n",
    "    def actRules(self, state):\n",
    "        return 1\n",
    "    \n",
    "    def actNaively(self):\n",
    "        return 4\n"
   ]
  },
  {
   "cell_type": "code",
   "execution_count": 4,
   "id": "8dc3d1f9",
   "metadata": {},
   "outputs": [],
   "source": [
    "#KEY PARAMETERS\n",
    "\n",
    "lambda_value = 1\n",
    "table_name = f\"gs_results_td_lambda_{lambda_value}\".replace(\".\", \"\")\n",
    "directory = \"e-greedy/agents\" #dir to create\n",
    "gs_db_name = 'e-greedy/grid_search_greedy_r900.db'"
   ]
  },
  {
   "cell_type": "markdown",
   "id": "655a9f54",
   "metadata": {},
   "source": [
    "### RADIUS SET TO 900"
   ]
  },
  {
   "cell_type": "code",
   "execution_count": 5,
   "id": "341de44c",
   "metadata": {},
   "outputs": [],
   "source": [
    "class Car:\n",
    "    def __init__(self, tyre=\"Intermediate\"):\n",
    "        self.default_tyre = tyre\n",
    "        self.possible_tyres = [\"Ultrasoft\", \"Soft\", \"Intermediate\", \"Fullwet\"]\n",
    "        self.pitstop_time = 23\n",
    "        self.reset()\n",
    "    \n",
    "    \n",
    "    def reset(self):\n",
    "        self.change_tyre(self.default_tyre)\n",
    "    \n",
    "    \n",
    "    def degrade(self, w, r):\n",
    "        if self.tyre == \"Ultrasoft\":\n",
    "            self.condition *= (1 - 0.0050*w - (2500-r)/90000)\n",
    "        elif self.tyre == \"Soft\":\n",
    "            self.condition *= (1 - 0.0051*w - (2500-r)/93000)\n",
    "        elif self.tyre == \"Intermediate\":\n",
    "            self.condition *= (1 - 0.0052*abs(0.5-w) - (2500-r)/95000)\n",
    "        elif self.tyre == \"Fullwet\":\n",
    "            self.condition *= (1 - 0.0053*(1-w) - (2500-r)/97000)\n",
    "        \n",
    "        \n",
    "    def change_tyre(self, new_tyre):\n",
    "        assert new_tyre in self.possible_tyres\n",
    "        self.tyre = new_tyre\n",
    "        self.condition = 1.00\n",
    "    \n",
    "    \n",
    "    def get_velocity(self):\n",
    "        if self.tyre == \"Ultrasoft\":\n",
    "            vel = 80.7*(0.2 + 0.8*self.condition**1.5)\n",
    "        elif self.tyre == \"Soft\":\n",
    "            vel = 80.1*(0.2 + 0.8*self.condition**1.5)\n",
    "        elif self.tyre == \"Intermediate\":\n",
    "            vel = 79.5*(0.2 + 0.8*self.condition**1.5)\n",
    "        elif self.tyre == \"Fullwet\":\n",
    "            vel = 79.0*(0.2 + 0.8*self.condition**1.5)\n",
    "        return vel\n",
    "\n",
    "    \n",
    "class Track:\n",
    "    def __init__(self, car=Car()):\n",
    "        # self.radius and self.cur_weather are defined in self.reset()\n",
    "        self.total_laps = 162\n",
    "        self.car = car\n",
    "        self.possible_weather = [\"Dry\", \"20% Wet\", \"40% Wet\", \"60% Wet\", \"80% Wet\", \"100% Wet\"]\n",
    "        self.wetness = {\n",
    "            \"Dry\": 0.00, \"20% Wet\": 0.20, \"40% Wet\": 0.40, \"60% Wet\": 0.60, \"80% Wet\": 0.80, \"100% Wet\": 1.00\n",
    "        }\n",
    "        self.p_transition = {\n",
    "            \"Dry\": {\n",
    "                \"Dry\": 0.987, \"20% Wet\": 0.013, \"40% Wet\": 0.000, \"60% Wet\": 0.000, \"80% Wet\": 0.000, \"100% Wet\": 0.000\n",
    "            },\n",
    "            \"20% Wet\": {\n",
    "                \"Dry\": 0.012, \"20% Wet\": 0.975, \"40% Wet\": 0.013, \"60% Wet\": 0.000, \"80% Wet\": 0.000, \"100% Wet\": 0.000\n",
    "            },\n",
    "            \"40% Wet\": {\n",
    "                \"Dry\": 0.000, \"20% Wet\": 0.012, \"40% Wet\": 0.975, \"60% Wet\": 0.013, \"80% Wet\": 0.000, \"100% Wet\": 0.000\n",
    "            },\n",
    "            \"60% Wet\": {\n",
    "                \"Dry\": 0.000, \"20% Wet\": 0.000, \"40% Wet\": 0.012, \"60% Wet\": 0.975, \"80% Wet\": 0.013, \"100% Wet\": 0.000\n",
    "            },\n",
    "            \"80% Wet\": {\n",
    "                \"Dry\": 0.000, \"20% Wet\": 0.000, \"40% Wet\": 0.000, \"60% Wet\": 0.012, \"80% Wet\": 0.975, \"100% Wet\": 0.013\n",
    "            },\n",
    "            \"100% Wet\": {\n",
    "                \"Dry\": 0.000, \"20% Wet\": 0.000, \"40% Wet\": 0.000, \"60% Wet\": 0.000, \"80% Wet\": 0.012, \"100% Wet\": 0.988\n",
    "            }\n",
    "        }\n",
    "        self.reset()\n",
    "    \n",
    "    \n",
    "    def reset(self):\n",
    "        # self.radius = np.random.randint(600,1201)\n",
    "        self.radius = 900\n",
    "        self.cur_weather = np.random.choice(self.possible_weather)\n",
    "        self.is_done = False\n",
    "        self.pitstop = False\n",
    "        self.laps_cleared = 0\n",
    "        self.car.reset()\n",
    "        return self._get_state()\n",
    "    \n",
    "    \n",
    "    def _get_state(self):\n",
    "        return [self.car.tyre, self.car.condition, self.cur_weather, self.radius, self.laps_cleared]\n",
    "        \n",
    "    \n",
    "    def transition(self, action=0):\n",
    "        \"\"\"\n",
    "        Args:\n",
    "            action (int):\n",
    "                0. Make a pitstop and fit new ‘Ultrasoft’ tyres\n",
    "                1. Make a pitstop and fit new ‘Soft’ tyres\n",
    "                2. Make a pitstop and fit new ‘Intermediate’ tyres\n",
    "                3. Make a pitstop and fit new ‘Fullwet’ tyres\n",
    "                4. Continue the next lap without changing tyres\n",
    "        \"\"\"\n",
    "        ## Pitstop time will be added on the first eight of the subsequent lap\n",
    "        time_taken = 0\n",
    "        if self.laps_cleared == int(self.laps_cleared):\n",
    "            if self.pitstop:\n",
    "                self.car.change_tyre(self.committed_tyre)\n",
    "                time_taken += self.car.pitstop_time\n",
    "                self.pitstop = False\n",
    "        \n",
    "        ## The environment is coded such that only an action taken at the start of the three-quarters mark of each lap matters\n",
    "        if self.laps_cleared - int(self.laps_cleared) == 0.75:\n",
    "            if action < 4:\n",
    "                self.pitstop = True\n",
    "                self.committed_tyre = self.car.possible_tyres[action]\n",
    "            else:\n",
    "                self.pitstop = False\n",
    "        \n",
    "        self.cur_weather = np.random.choice(\n",
    "            self.possible_weather, p=list(self.p_transition[self.cur_weather].values())\n",
    "        )\n",
    "        # we assume that degration happens only after a car has travelled the one-eighth lap\n",
    "        velocity = self.car.get_velocity()\n",
    "        time_taken += (2*np.pi*self.radius/8) / velocity\n",
    "        reward = 0 - time_taken\n",
    "        self.car.degrade(\n",
    "            w=self.wetness[self.cur_weather], r=self.radius\n",
    "        )\n",
    "        self.laps_cleared += 0.125\n",
    "        \n",
    "        if self.laps_cleared == self.total_laps:\n",
    "            self.is_done = True\n",
    "        \n",
    "        next_state = self._get_state()\n",
    "        return reward, next_state, self.is_done, velocity\n",
    "    \n",
    "    def step(self, action):\n",
    "        return self.transition(action)"
   ]
  },
  {
   "cell_type": "code",
   "execution_count": 6,
   "id": "e9bc5180",
   "metadata": {},
   "outputs": [],
   "source": [
    "new_car = Car()\n",
    "env = Track(new_car)\n",
    "\n",
    "agent = Agent()"
   ]
  },
  {
   "cell_type": "code",
   "execution_count": 7,
   "id": "ddc6d6a9",
   "metadata": {
    "scrolled": true
   },
   "outputs": [
    {
     "name": "stdout",
     "output_type": "stream",
     "text": [
      "G: -54901\n"
     ]
    }
   ],
   "source": [
    "#Sanity check..\n",
    "\n",
    "state = env.reset()    \n",
    "done = False\n",
    "G = 0\n",
    "while not done:\n",
    "    action = agent.actNaively()\n",
    "    reward, next_state, done, velocity = env.transition(action)\n",
    "    # added velocity for sanity check\n",
    "    # state = deepcopy(next_state)\n",
    "    state = next_state\n",
    "    G += reward\n",
    "\n",
    "print(\"G: %d\" % G)"
   ]
  },
  {
   "cell_type": "markdown",
   "id": "81524f23",
   "metadata": {},
   "source": [
    "## TDLambda Agent"
   ]
  },
  {
   "cell_type": "markdown",
   "id": "38ebdc93",
   "metadata": {},
   "source": [
    "Discretizing States:\n",
    "\n",
    "Both the current state and the next_state are discretized using the _discretize_state method. This helps in managing the Q-values in a table format for states that are continuous or too granular.\n",
    "Initialization of Q-values and Eligibility Traces:\n",
    "\n",
    "If the current state or next_state is not in the Q-table (Q), it's added with an initial Q-value of zero for all actions.\n",
    "Similarly, if the current state is not in the eligibility traces table (E), it's added with an initial eligibility trace of zero for all actions.\n",
    "Temporal Difference (TD) Error Calculation:\n",
    "\n",
    "The agent calculates the best action for the next_state based on the current Q-values.\n",
    "The TD error is then computed. It's the difference between the expected Q-value (based on the received reward and the estimated future reward for next_state) and the current Q-value for the taken action at state.\n",
    "Eligibility Trace Update:\n",
    "\n",
    "The eligibility trace for the current state-action pair (state, action) is incremented by 1.\n",
    "This helps in assigning \"credit\" or \"blame\" for this state-action pair for any future reward or punishment. SARSA(λ) updates not just the current state-action pair but also the recent ones based on their eligibility traces.\n",
    "Ensure All States in Q have an Eligibility Trace:\n",
    "\n",
    "The agent makes sure that for all states in the Q-table, there's a corresponding entry in the eligibility traces table. If not, it adds them with a value of zero.\n",
    "Update Q-values Using TD Error and Eligibility Traces:\n",
    "\n",
    "The Q-values for all state-action pairs are updated based on the TD error and their respective eligibility traces. The greater the eligibility trace for a state-action pair, the more it gets updated.\n",
    "This is the heart of the SARSA(λ) algorithm, allowing the Q-value updates to be spread out not just to the current state-action pair but also to the previous ones based on their eligibility.\n",
    "Decay All Eligibility Traces:\n",
    "\n",
    "After updating the Q-values, the eligibility traces for all state-action pairs are decayed by a factor of gamma * td_lambda. This ensures that the traces for older state-action pairs decrease over time, giving more importance to recent state-action pairs for future Q-value updates.\n",
    "In essence, the update method blends the strengths of both SARSA and eligibility traces, providing a more sophisticated update mechanism that takes into account both immediate and more distant state-action pairs when adjusting Q-values."
   ]
  },
  {
   "cell_type": "code",
   "execution_count": 8,
   "id": "6bd5a956",
   "metadata": {},
   "outputs": [],
   "source": [
    "class TDLambdaAgent:\n",
    "    def __init__(self, epsilon=0.1, epsilon_decay=0.995, alpha=0.1,\n",
    "                  gamma=0.99, td_lambda=lambda_value, n_actions=5,\n",
    "                    no_change_after_lap=150, state_space_discretization=100):\n",
    "        self.epsilon = epsilon\n",
    "        self.alpha = alpha\n",
    "        self.gamma = gamma\n",
    "        self.Q = defaultdict(lambda: np.zeros(self.n_actions))\n",
    "        self.E = defaultdict(lambda: np.zeros(self.n_actions))  # Eligibility traces\n",
    "        self.n_actions = n_actions\n",
    "        self.state_space_discretization = state_space_discretization\n",
    "        self.epsilon_decay = epsilon_decay\n",
    "        self.no_change_after_lap = no_change_after_lap\n",
    "        self.td_lambda = td_lambda\n",
    "        \n",
    "    def _discretize_state(self, state):\n",
    "        tyre, condition, weather, radius, laps_cleared = state\n",
    "        condition = int(condition * self.state_space_discretization)\n",
    "        \n",
    "        # Discretizing the radius as well by rounding to nearest hundred\n",
    "        radius = round(radius, -2)\n",
    "        return (tyre, condition, weather, radius, laps_cleared)\n",
    "    \n",
    "    def act(self, state):\n",
    "        state = self._discretize_state(state)\n",
    "        _, _, _, _, laps_cleared = state\n",
    "        \n",
    "        if np.random.rand() < self.epsilon:\n",
    "            if laps_cleared >= self.no_change_after_lap:\n",
    "                return 4  # Don't change tires\n",
    "            return np.random.choice(self.n_actions)\n",
    "        else:\n",
    "            action = np.argmax(self.Q.get(state, np.zeros(self.n_actions)))\n",
    "            if laps_cleared >= self.no_change_after_lap and action < 4:\n",
    "                return 4  # Don't change tires\n",
    "            return action\n",
    "        \n",
    "    def update(self, state, action, reward, next_state):\n",
    "        state = self._discretize_state(state)\n",
    "        next_state = self._discretize_state(next_state)\n",
    "        \n",
    "        best_next_action = np.argmax(self.Q[next_state])\n",
    "        td_error = reward + self.gamma * self.Q[next_state][best_next_action] - self.Q[state][action]\n",
    "        \n",
    "        # Increment the eligibility trace for the current state-action pair\n",
    "        self.E[state][action] += 1  \n",
    "        \n",
    "        # Update Q-values for all state-action pairs using TD error and the eligibility traces\n",
    "        for s, actions in self.Q.items():\n",
    "            for a in range(self.n_actions):\n",
    "                self.Q[s][a] += self.alpha * td_error * self.E[s][a]\n",
    "                \n",
    "                # Decay the eligibility trace for the state-action pair\n",
    "                self.E[s][a] *= self.gamma * self.td_lambda\n",
    "\n",
    "# # Training the agent\n",
    "# agent = TDLambdaAgent()\n",
    "\n",
    "# num_episodes = 10\n",
    "# eval_episodes = 5\n",
    "\n",
    "# episode_rewards = []\n",
    "# for episode in tqdm(range(num_episodes)):\n",
    "#     state = env.reset()\n",
    "#     done = False\n",
    "#     episode_reward = 0\n",
    "#     while not done:\n",
    "#         action = agent.act(state)\n",
    "#         reward, next_state, done, _ = env.step(action)\n",
    "#         agent.update(state, action, reward, next_state)\n",
    "#         # state = deepcopy(next_state)\n",
    "#         state = next_state\n",
    "#         episode_reward += reward\n",
    "#     episode_rewards.append(episode_reward)\n",
    "#     agent.epsilon *= agent.epsilon_decay\n",
    "    \n",
    "# # Evaluating the agent\n",
    "# total_rewards = []\n",
    "# for _ in tqdm(range(eval_episodes)):\n",
    "#     state = env.reset()\n",
    "#     done = False\n",
    "#     episode_reward = 0\n",
    "#     while not done:\n",
    "#         action = agent.act(state)\n",
    "#         reward, next_state, done, _ = env.step(action)\n",
    "#         # state = deepcopy(next_state)\n",
    "#         state = next_state\n",
    "#         episode_reward += reward\n",
    "#     total_rewards.append(episode_reward)\n",
    "\n",
    "# print(f\"Average reward over {eval_episodes} episodes: {np.mean(total_rewards)}\")\n"
   ]
  },
  {
   "cell_type": "code",
   "execution_count": 9,
   "id": "8b0c99ed",
   "metadata": {},
   "outputs": [],
   "source": [
    "num_episodes = 5\n",
    "eval_episodes = 1\n",
    "\n",
    "# Grid Search\n",
    "\"\"\"\n",
    "param_grid: dict\n",
    "    A dictionary containing hyperparameters and their possible values to be explored during grid search. Each key represents a hyperparameter, and its corresponding value is a list of values that will be tested for that hyperparameter.\n",
    "\n",
    "    Parameters:\n",
    "    - epsilon: list of floats\n",
    "        The initial exploration rate for the epsilon-greedy policy. Values represent the probability at which the agent will explore, i.e., take random actions. Higher values mean more exploration and less exploitation.\n",
    "\n",
    "    - epsilon_decay: list of floats\n",
    "        The rate at which epsilon will be reduced after each episode. Values are in the range (0, 1) with values closer to 1 meaning a slower decay of epsilon over time.\n",
    "\n",
    "    - alpha: list of floats\n",
    "        The learning rate for the Q-learning algorithm. Determines to what extent newly acquired information overrides old information. A value of 0 would make the agent not learn anything, while a value of 1 would make the agent consider only the most recent information.\n",
    "\n",
    "    - gamma: list of floats\n",
    "        The discount factor for the Q-learning algorithm. Represents the agent's consideration for future rewards. A value of 0 makes the agent short-sighted by only considering current rewards, while a value close to 1 will make it aim for a long-term high reward.\n",
    "\n",
    "    - no_change_after_lap: list of integers\n",
    "        Specifies the lap number after which the agent will not change tires. If the current lap exceeds this number, actions to change tires will not be taken.\n",
    "\"\"\"\n",
    "param_grid = {\n",
    "    'epsilon': [0.0, 0.025, 0.05, 0.1, 0.2],\n",
    "    'epsilon_decay': [0.990, 0.995, 0.999],\n",
    "    'alpha': [0.0, 0.2, 0.4, 0.6, 0.8, 0.9, 1.0],\n",
    "    'gamma': [0.0, 0.2, 0.4, 0.6, 0.8, 0.9, 1.0],\n",
    "    'no_change_after_lap': [x for x in range(100, 161, 5)]\n",
    "}"
   ]
  },
  {
   "cell_type": "code",
   "execution_count": 10,
   "id": "a9ce3eca",
   "metadata": {},
   "outputs": [],
   "source": [
    "def setup_database():\n",
    "    conn = sqlite3.connect(gs_db_name)\n",
    "    c = conn.cursor()\n",
    "    c.execute(f'''CREATE TABLE IF NOT EXISTS {table_name}\n",
    "                 (epsilon real, epsilon_decay real, alpha real, gamma real, no_change_after_lap integer, \n",
    "                  avg_last_50 real, min_last_50 real, max_last_50 real, \n",
    "                  eval_avg real, overall_avg real)''')\n",
    "    conn.commit()\n",
    "    conn.close()\n",
    "\n",
    "setup_database()"
   ]
  },
  {
   "cell_type": "code",
   "execution_count": 11,
   "id": "3661e739",
   "metadata": {},
   "outputs": [
    {
     "name": "stdout",
     "output_type": "stream",
     "text": [
      "Total combinations: 9555\n"
     ]
    },
    {
     "name": "stderr",
     "output_type": "stream",
     "text": [
      "0it [00:00, ?it/s]"
     ]
    },
    {
     "name": "stdout",
     "output_type": "stream",
     "text": [
      "5\n",
      "\n",
      "Running combination 1/9555 with parameters: {'epsilon': 0.025, 'epsilon_decay': 0.999, 'alpha': 0.9, 'gamma': 0.4, 'no_change_after_lap': 130}\n"
     ]
    },
    {
     "name": "stderr",
     "output_type": "stream",
     "text": []
    },
    {
     "name": "stdout",
     "output_type": "stream",
     "text": [
      "    Training Episode 0/5\n"
     ]
    },
    {
     "name": "stderr",
     "output_type": "stream",
     "text": [
      "100%|██████████| 5/5 [02:21<00:00, 28.27s/it]\n",
      "100%|██████████| 1/1 [00:00<00:00, 15.97it/s]\n",
      "1it [02:21, 141.44s/it]"
     ]
    },
    {
     "name": "stdout",
     "output_type": "stream",
     "text": [
      "    Evaluation Episode 0/1\n",
      "    Average Reward over last 50 episodes: -21826.16\n",
      "    Min Reward over last 50 episodes: -22066.12\n",
      "    Max Reward over last 50 episodes: -21584.66\n",
      "    Evaluation Average Reward: -21783.06\n",
      "SKIPPING\n",
      "\n",
      "Running combination 2/9555 with parameters: {'epsilon': 0.2, 'epsilon_decay': 0.999, 'alpha': 0.2, 'gamma': 0.9, 'no_change_after_lap': 150}\n"
     ]
    },
    {
     "name": "stderr",
     "output_type": "stream",
     "text": []
    },
    {
     "name": "stdout",
     "output_type": "stream",
     "text": [
      "    Training Episode 0/5\n"
     ]
    },
    {
     "name": "stderr",
     "output_type": "stream",
     "text": [
      "100%|██████████| 5/5 [02:35<00:00, 31.14s/it]\n",
      "100%|██████████| 1/1 [00:00<00:00, 12.14it/s]\n",
      "2it [04:57, 149.88s/it]"
     ]
    },
    {
     "name": "stdout",
     "output_type": "stream",
     "text": [
      "    Evaluation Episode 0/1\n",
      "    Average Reward over last 50 episodes: -17170.79\n",
      "    Min Reward over last 50 episodes: -17268.40\n",
      "    Max Reward over last 50 episodes: -16956.39\n",
      "    Evaluation Average Reward: -17112.35\n",
      "\n",
      "Running combination 3/9555 with parameters: {'epsilon': 0.2, 'epsilon_decay': 0.995, 'alpha': 1.0, 'gamma': 0.8, 'no_change_after_lap': 110}\n"
     ]
    },
    {
     "name": "stderr",
     "output_type": "stream",
     "text": []
    },
    {
     "name": "stdout",
     "output_type": "stream",
     "text": [
      "    Training Episode 0/5\n"
     ]
    },
    {
     "name": "stderr",
     "output_type": "stream",
     "text": [
      "100%|██████████| 5/5 [03:06<00:00, 37.37s/it]\n",
      "100%|██████████| 1/1 [00:00<00:00, 12.66it/s]\n",
      "3it [08:04, 166.79s/it]"
     ]
    },
    {
     "name": "stdout",
     "output_type": "stream",
     "text": [
      "    Evaluation Episode 0/1\n",
      "    Average Reward over last 50 episodes: -26800.40\n",
      "    Min Reward over last 50 episodes: -27011.08\n",
      "    Max Reward over last 50 episodes: -26533.62\n",
      "    Evaluation Average Reward: -26537.56\n",
      "\n",
      "Running combination 4/9555 with parameters: {'epsilon': 0.2, 'epsilon_decay': 0.99, 'alpha': 0.2, 'gamma': 0.8, 'no_change_after_lap': 130}\n"
     ]
    },
    {
     "name": "stderr",
     "output_type": "stream",
     "text": []
    },
    {
     "name": "stdout",
     "output_type": "stream",
     "text": [
      "    Training Episode 0/5\n"
     ]
    },
    {
     "name": "stderr",
     "output_type": "stream",
     "text": [
      "100%|██████████| 5/5 [02:47<00:00, 33.56s/it]\n",
      "100%|██████████| 1/1 [00:00<00:00, 18.18it/s]\n",
      "4it [10:52, 167.22s/it]"
     ]
    },
    {
     "name": "stdout",
     "output_type": "stream",
     "text": [
      "    Evaluation Episode 0/1\n",
      "    Average Reward over last 50 episodes: -21800.84\n",
      "    Min Reward over last 50 episodes: -22022.72\n",
      "    Max Reward over last 50 episodes: -21491.97\n",
      "    Evaluation Average Reward: -21553.51\n",
      "\n",
      "Running combination 5/9555 with parameters: {'epsilon': 0.1, 'epsilon_decay': 0.99, 'alpha': 0.8, 'gamma': 1.0, 'no_change_after_lap': 125}\n"
     ]
    },
    {
     "name": "stderr",
     "output_type": "stream",
     "text": []
    },
    {
     "name": "stdout",
     "output_type": "stream",
     "text": [
      "    Training Episode 0/5\n"
     ]
    },
    {
     "name": "stderr",
     "output_type": "stream",
     "text": [
      "100%|██████████| 5/5 [03:06<00:00, 37.33s/it]\n",
      "100%|██████████| 1/1 [00:00<00:00, 11.40it/s]\n",
      "5it [13:58, 174.27s/it]"
     ]
    },
    {
     "name": "stdout",
     "output_type": "stream",
     "text": [
      "    Evaluation Episode 0/1\n",
      "    Average Reward over last 50 episodes: -23219.83\n",
      "    Min Reward over last 50 episodes: -23358.47\n",
      "    Max Reward over last 50 episodes: -22983.16\n",
      "    Evaluation Average Reward: -23241.57\n",
      "\n",
      "Running combination 6/9555 with parameters: {'epsilon': 0.0, 'epsilon_decay': 0.999, 'alpha': 0.4, 'gamma': 0.8, 'no_change_after_lap': 105}\n"
     ]
    },
    {
     "name": "stderr",
     "output_type": "stream",
     "text": []
    },
    {
     "name": "stdout",
     "output_type": "stream",
     "text": [
      "    Training Episode 0/5\n"
     ]
    },
    {
     "name": "stderr",
     "output_type": "stream",
     "text": [
      "100%|██████████| 5/5 [03:05<00:00, 37.02s/it]\n",
      "100%|██████████| 1/1 [00:00<00:00, 11.01it/s]\n",
      "6it [17:04, 177.99s/it]"
     ]
    },
    {
     "name": "stdout",
     "output_type": "stream",
     "text": [
      "    Evaluation Episode 0/1\n",
      "    Average Reward over last 50 episodes: -28100.82\n",
      "    Min Reward over last 50 episodes: -28352.45\n",
      "    Max Reward over last 50 episodes: -27891.56\n",
      "    Evaluation Average Reward: -28136.91\n",
      "\n",
      "Running combination 7/9555 with parameters: {'epsilon': 0.0, 'epsilon_decay': 0.995, 'alpha': 1.0, 'gamma': 0.2, 'no_change_after_lap': 135}\n"
     ]
    },
    {
     "name": "stderr",
     "output_type": "stream",
     "text": []
    },
    {
     "name": "stdout",
     "output_type": "stream",
     "text": [
      "    Training Episode 0/5\n"
     ]
    },
    {
     "name": "stderr",
     "output_type": "stream",
     "text": [
      "100%|██████████| 5/5 [03:16<00:00, 39.21s/it]\n",
      "100%|██████████| 1/1 [00:00<00:00, 11.49it/s]\n",
      "7it [20:20, 183.92s/it]"
     ]
    },
    {
     "name": "stdout",
     "output_type": "stream",
     "text": [
      "    Evaluation Episode 0/1\n",
      "    Average Reward over last 50 episodes: -20635.62\n",
      "    Min Reward over last 50 episodes: -20778.82\n",
      "    Max Reward over last 50 episodes: -20464.00\n",
      "    Evaluation Average Reward: -20636.85\n",
      "\n",
      "Running combination 8/9555 with parameters: {'epsilon': 0.2, 'epsilon_decay': 0.999, 'alpha': 1.0, 'gamma': 1.0, 'no_change_after_lap': 130}\n"
     ]
    },
    {
     "name": "stderr",
     "output_type": "stream",
     "text": []
    },
    {
     "name": "stdout",
     "output_type": "stream",
     "text": [
      "    Training Episode 0/5\n"
     ]
    },
    {
     "name": "stderr",
     "output_type": "stream",
     "text": [
      "100%|██████████| 5/5 [02:36<00:00, 31.27s/it]\n",
      "100%|██████████| 1/1 [00:00<00:00, 12.90it/s]\n",
      "8it [22:56, 175.17s/it]"
     ]
    },
    {
     "name": "stdout",
     "output_type": "stream",
     "text": [
      "    Evaluation Episode 0/1\n",
      "    Average Reward over last 50 episodes: -21838.56\n",
      "    Min Reward over last 50 episodes: -22081.59\n",
      "    Max Reward over last 50 episodes: -21620.39\n",
      "    Evaluation Average Reward: -21897.91\n",
      "\n",
      "Running combination 9/9555 with parameters: {'epsilon': 0.025, 'epsilon_decay': 0.999, 'alpha': 1.0, 'gamma': 0.6, 'no_change_after_lap': 160}\n"
     ]
    },
    {
     "name": "stderr",
     "output_type": "stream",
     "text": []
    },
    {
     "name": "stdout",
     "output_type": "stream",
     "text": [
      "    Training Episode 0/5\n"
     ]
    },
    {
     "name": "stderr",
     "output_type": "stream",
     "text": [
      "100%|██████████| 5/5 [02:17<00:00, 27.42s/it]\n",
      "100%|██████████| 1/1 [00:00<00:00, 14.92it/s]\n",
      "9it [25:13, 163.30s/it]"
     ]
    },
    {
     "name": "stdout",
     "output_type": "stream",
     "text": [
      "    Evaluation Episode 0/1\n",
      "    Average Reward over last 50 episodes: -16042.99\n",
      "    Min Reward over last 50 episodes: -16096.25\n",
      "    Max Reward over last 50 episodes: -16001.51\n",
      "    Evaluation Average Reward: -16062.56\n",
      "\n",
      "Running combination 10/9555 with parameters: {'epsilon': 0.1, 'epsilon_decay': 0.995, 'alpha': 0.8, 'gamma': 0.6, 'no_change_after_lap': 110}\n"
     ]
    },
    {
     "name": "stderr",
     "output_type": "stream",
     "text": []
    },
    {
     "name": "stdout",
     "output_type": "stream",
     "text": [
      "    Training Episode 0/5\n"
     ]
    },
    {
     "name": "stderr",
     "output_type": "stream",
     "text": [
      "100%|██████████| 5/5 [02:25<00:00, 29.07s/it]\n",
      "100%|██████████| 1/1 [00:00<00:00, 16.53it/s]\n",
      "10it [27:39, 157.78s/it]"
     ]
    },
    {
     "name": "stdout",
     "output_type": "stream",
     "text": [
      "    Evaluation Episode 0/1\n",
      "    Average Reward over last 50 episodes: -26839.48\n",
      "    Min Reward over last 50 episodes: -26992.92\n",
      "    Max Reward over last 50 episodes: -26611.38\n",
      "    Evaluation Average Reward: -27138.42\n",
      "\n",
      "Running combination 11/9555 with parameters: {'epsilon': 0.05, 'epsilon_decay': 0.99, 'alpha': 0.0, 'gamma': 0.0, 'no_change_after_lap': 135}\n"
     ]
    },
    {
     "name": "stderr",
     "output_type": "stream",
     "text": []
    },
    {
     "name": "stdout",
     "output_type": "stream",
     "text": [
      "    Training Episode 0/5\n"
     ]
    },
    {
     "name": "stderr",
     "output_type": "stream",
     "text": [
      "100%|██████████| 5/5 [02:08<00:00, 25.69s/it]\n",
      "100%|██████████| 1/1 [00:00<00:00, 15.63it/s]\n",
      "11it [29:47, 148.82s/it]"
     ]
    },
    {
     "name": "stdout",
     "output_type": "stream",
     "text": [
      "    Evaluation Episode 0/1\n",
      "    Average Reward over last 50 episodes: -20462.72\n",
      "    Min Reward over last 50 episodes: -20673.74\n",
      "    Max Reward over last 50 episodes: -20291.10\n",
      "    Evaluation Average Reward: -20665.31\n",
      "\n",
      "Running combination 12/9555 with parameters: {'epsilon': 0.025, 'epsilon_decay': 0.99, 'alpha': 0.0, 'gamma': 1.0, 'no_change_after_lap': 125}\n"
     ]
    },
    {
     "name": "stderr",
     "output_type": "stream",
     "text": []
    },
    {
     "name": "stdout",
     "output_type": "stream",
     "text": [
      "    Training Episode 0/5\n"
     ]
    },
    {
     "name": "stderr",
     "output_type": "stream",
     "text": [
      "100%|██████████| 5/5 [02:04<00:00, 24.95s/it]\n",
      "100%|██████████| 1/1 [00:00<00:00, 16.95it/s]\n",
      "12it [31:52, 141.52s/it]"
     ]
    },
    {
     "name": "stdout",
     "output_type": "stream",
     "text": [
      "    Evaluation Episode 0/1\n",
      "    Average Reward over last 50 episodes: -22878.37\n",
      "    Min Reward over last 50 episodes: -23150.55\n",
      "    Max Reward over last 50 episodes: -22699.39\n",
      "    Evaluation Average Reward: -23326.12\n",
      "\n",
      "Running combination 13/9555 with parameters: {'epsilon': 0.2, 'epsilon_decay': 0.99, 'alpha': 0.6, 'gamma': 0.4, 'no_change_after_lap': 145}\n"
     ]
    },
    {
     "name": "stderr",
     "output_type": "stream",
     "text": []
    },
    {
     "name": "stdout",
     "output_type": "stream",
     "text": [
      "    Training Episode 0/5\n"
     ]
    },
    {
     "name": "stderr",
     "output_type": "stream",
     "text": [
      "100%|██████████| 5/5 [02:09<00:00, 25.98s/it]\n",
      "100%|██████████| 1/1 [00:00<00:00, 13.98it/s]\n",
      "13it [34:02, 138.04s/it]"
     ]
    },
    {
     "name": "stdout",
     "output_type": "stream",
     "text": [
      "    Evaluation Episode 0/1\n",
      "    Average Reward over last 50 episodes: -18117.49\n",
      "    Min Reward over last 50 episodes: -18319.19\n",
      "    Max Reward over last 50 episodes: -17896.32\n",
      "    Evaluation Average Reward: -17960.38\n",
      "\n",
      "Running combination 14/9555 with parameters: {'epsilon': 0.2, 'epsilon_decay': 0.995, 'alpha': 0.9, 'gamma': 0.9, 'no_change_after_lap': 135}\n"
     ]
    },
    {
     "name": "stderr",
     "output_type": "stream",
     "text": []
    },
    {
     "name": "stdout",
     "output_type": "stream",
     "text": [
      "    Training Episode 0/5\n"
     ]
    },
    {
     "name": "stderr",
     "output_type": "stream",
     "text": [
      "100%|██████████| 5/5 [02:17<00:00, 27.60s/it]\n",
      "100%|██████████| 1/1 [00:00<00:00, 14.93it/s]\n",
      "14it [36:20, 138.05s/it]"
     ]
    },
    {
     "name": "stdout",
     "output_type": "stream",
     "text": [
      "    Evaluation Episode 0/1\n",
      "    Average Reward over last 50 episodes: -20570.22\n",
      "    Min Reward over last 50 episodes: -20769.58\n",
      "    Max Reward over last 50 episodes: -20257.23\n",
      "    Evaluation Average Reward: -20760.63\n",
      "\n",
      "Running combination 15/9555 with parameters: {'epsilon': 0.0, 'epsilon_decay': 0.995, 'alpha': 0.6, 'gamma': 0.9, 'no_change_after_lap': 125}\n"
     ]
    },
    {
     "name": "stderr",
     "output_type": "stream",
     "text": []
    },
    {
     "name": "stdout",
     "output_type": "stream",
     "text": [
      "    Training Episode 0/5\n"
     ]
    },
    {
     "name": "stderr",
     "output_type": "stream",
     "text": [
      "100%|██████████| 5/5 [02:12<00:00, 26.47s/it]\n",
      "100%|██████████| 1/1 [00:00<00:00, 14.70it/s]\n",
      "15it [38:33, 136.35s/it]"
     ]
    },
    {
     "name": "stdout",
     "output_type": "stream",
     "text": [
      "    Evaluation Episode 0/1\n",
      "    Average Reward over last 50 episodes: -23158.91\n",
      "    Min Reward over last 50 episodes: -23386.70\n",
      "    Max Reward over last 50 episodes: -22841.25\n",
      "    Evaluation Average Reward: -22751.21\n",
      "\n",
      "Running combination 16/9555 with parameters: {'epsilon': 0.1, 'epsilon_decay': 0.999, 'alpha': 0.9, 'gamma': 1.0, 'no_change_after_lap': 115}\n"
     ]
    },
    {
     "name": "stderr",
     "output_type": "stream",
     "text": []
    },
    {
     "name": "stdout",
     "output_type": "stream",
     "text": [
      "    Training Episode 0/5\n"
     ]
    },
    {
     "name": "stderr",
     "output_type": "stream",
     "text": [
      "100%|██████████| 5/5 [02:10<00:00, 26.12s/it]\n",
      "100%|██████████| 1/1 [00:00<00:00, 14.60it/s]\n",
      "16it [40:43, 134.64s/it]"
     ]
    },
    {
     "name": "stdout",
     "output_type": "stream",
     "text": [
      "    Evaluation Episode 0/1\n",
      "    Average Reward over last 50 episodes: -25492.43\n",
      "    Min Reward over last 50 episodes: -25819.12\n",
      "    Max Reward over last 50 episodes: -25303.63\n",
      "    Evaluation Average Reward: -25575.89\n",
      "\n",
      "Running combination 17/9555 with parameters: {'epsilon': 0.1, 'epsilon_decay': 0.99, 'alpha': 0.2, 'gamma': 1.0, 'no_change_after_lap': 105}\n"
     ]
    },
    {
     "name": "stderr",
     "output_type": "stream",
     "text": []
    },
    {
     "name": "stdout",
     "output_type": "stream",
     "text": [
      "    Training Episode 0/5\n"
     ]
    },
    {
     "name": "stderr",
     "output_type": "stream",
     "text": [
      "100%|██████████| 5/5 [02:03<00:00, 24.74s/it]\n",
      "100%|██████████| 1/1 [00:00<00:00, 15.99it/s]\n",
      "17it [42:47, 131.38s/it]"
     ]
    },
    {
     "name": "stdout",
     "output_type": "stream",
     "text": [
      "    Evaluation Episode 0/1\n",
      "    Average Reward over last 50 episodes: -28074.48\n",
      "    Min Reward over last 50 episodes: -28361.29\n",
      "    Max Reward over last 50 episodes: -27741.21\n",
      "    Evaluation Average Reward: -27999.59\n",
      "SKIPPING\n",
      "\n",
      "Running combination 18/9555 with parameters: {'epsilon': 0.0, 'epsilon_decay': 0.99, 'alpha': 0.0, 'gamma': 0.8, 'no_change_after_lap': 120}\n"
     ]
    },
    {
     "name": "stderr",
     "output_type": "stream",
     "text": []
    },
    {
     "name": "stdout",
     "output_type": "stream",
     "text": [
      "    Training Episode 0/5\n"
     ]
    },
    {
     "name": "stderr",
     "output_type": "stream",
     "text": [
      "100%|██████████| 5/5 [01:46<00:00, 21.33s/it]\n",
      "100%|██████████| 1/1 [00:00<00:00, 15.87it/s]\n",
      "18it [44:34, 123.98s/it]"
     ]
    },
    {
     "name": "stdout",
     "output_type": "stream",
     "text": [
      "    Evaluation Episode 0/1\n",
      "    Average Reward over last 50 episodes: -24466.51\n",
      "    Min Reward over last 50 episodes: -24654.58\n",
      "    Max Reward over last 50 episodes: -24104.11\n",
      "    Evaluation Average Reward: -24386.81\n",
      "\n",
      "Running combination 19/9555 with parameters: {'epsilon': 0.0, 'epsilon_decay': 0.999, 'alpha': 0.8, 'gamma': 0.0, 'no_change_after_lap': 130}\n"
     ]
    },
    {
     "name": "stderr",
     "output_type": "stream",
     "text": []
    },
    {
     "name": "stdout",
     "output_type": "stream",
     "text": [
      "    Training Episode 0/5\n"
     ]
    },
    {
     "name": "stderr",
     "output_type": "stream",
     "text": [
      "100%|██████████| 5/5 [02:14<00:00, 26.84s/it]\n",
      "100%|██████████| 1/1 [00:00<00:00, 15.38it/s]\n",
      "19it [46:48, 127.07s/it]"
     ]
    },
    {
     "name": "stdout",
     "output_type": "stream",
     "text": [
      "    Evaluation Episode 0/1\n",
      "    Average Reward over last 50 episodes: -21793.57\n",
      "    Min Reward over last 50 episodes: -22081.26\n",
      "    Max Reward over last 50 episodes: -21527.15\n",
      "    Evaluation Average Reward: -22169.56\n",
      "\n",
      "Running combination 20/9555 with parameters: {'epsilon': 0.025, 'epsilon_decay': 0.999, 'alpha': 1.0, 'gamma': 0.9, 'no_change_after_lap': 120}\n"
     ]
    },
    {
     "name": "stderr",
     "output_type": "stream",
     "text": []
    },
    {
     "name": "stdout",
     "output_type": "stream",
     "text": [
      "    Training Episode 0/5\n"
     ]
    },
    {
     "name": "stderr",
     "output_type": "stream",
     "text": [
      "100%|██████████| 5/5 [02:15<00:00, 27.16s/it]\n",
      "100%|██████████| 1/1 [00:00<00:00, 14.49it/s]\n",
      "20it [49:04, 129.72s/it]"
     ]
    },
    {
     "name": "stdout",
     "output_type": "stream",
     "text": [
      "    Evaluation Episode 0/1\n",
      "    Average Reward over last 50 episodes: -24293.48\n",
      "    Min Reward over last 50 episodes: -24432.38\n",
      "    Max Reward over last 50 episodes: -24221.37\n",
      "    Evaluation Average Reward: -24424.08\n",
      "\n",
      "Running combination 21/9555 with parameters: {'epsilon': 0.025, 'epsilon_decay': 0.999, 'alpha': 1.0, 'gamma': 1.0, 'no_change_after_lap': 155}\n"
     ]
    },
    {
     "name": "stderr",
     "output_type": "stream",
     "text": []
    },
    {
     "name": "stdout",
     "output_type": "stream",
     "text": [
      "    Training Episode 0/5\n"
     ]
    },
    {
     "name": "stderr",
     "output_type": "stream",
     "text": [
      "100%|██████████| 5/5 [02:10<00:00, 26.04s/it]\n",
      "100%|██████████| 1/1 [00:00<00:00, 16.67it/s]\n",
      "21it [51:14, 129.89s/it]"
     ]
    },
    {
     "name": "stdout",
     "output_type": "stream",
     "text": [
      "    Evaluation Episode 0/1\n",
      "    Average Reward over last 50 episodes: -16317.57\n",
      "    Min Reward over last 50 episodes: -16407.67\n",
      "    Max Reward over last 50 episodes: -16230.51\n",
      "    Evaluation Average Reward: -16327.70\n",
      "\n",
      "Running combination 22/9555 with parameters: {'epsilon': 0.1, 'epsilon_decay': 0.995, 'alpha': 0.9, 'gamma': 0.4, 'no_change_after_lap': 125}\n"
     ]
    },
    {
     "name": "stderr",
     "output_type": "stream",
     "text": []
    },
    {
     "name": "stdout",
     "output_type": "stream",
     "text": [
      "    Training Episode 0/5\n"
     ]
    },
    {
     "name": "stderr",
     "output_type": "stream",
     "text": [
      "100%|██████████| 5/5 [02:13<00:00, 26.75s/it]\n",
      "100%|██████████| 1/1 [00:00<00:00, 17.09it/s]\n",
      "22it [53:28, 131.08s/it]"
     ]
    },
    {
     "name": "stdout",
     "output_type": "stream",
     "text": [
      "    Evaluation Episode 0/1\n",
      "    Average Reward over last 50 episodes: -23031.06\n",
      "    Min Reward over last 50 episodes: -23522.06\n",
      "    Max Reward over last 50 episodes: -22719.06\n",
      "    Evaluation Average Reward: -23275.51\n",
      "\n",
      "Running combination 23/9555 with parameters: {'epsilon': 0.05, 'epsilon_decay': 0.995, 'alpha': 0.0, 'gamma': 0.9, 'no_change_after_lap': 105}\n"
     ]
    },
    {
     "name": "stderr",
     "output_type": "stream",
     "text": []
    },
    {
     "name": "stdout",
     "output_type": "stream",
     "text": [
      "    Training Episode 0/5\n"
     ]
    },
    {
     "name": "stderr",
     "output_type": "stream",
     "text": [
      "100%|██████████| 5/5 [01:55<00:00, 23.17s/it]\n",
      "100%|██████████| 1/1 [00:00<00:00, 21.97it/s]\n",
      "23it [55:24, 126.52s/it]"
     ]
    },
    {
     "name": "stdout",
     "output_type": "stream",
     "text": [
      "    Evaluation Episode 0/1\n",
      "    Average Reward over last 50 episodes: -28263.60\n",
      "    Min Reward over last 50 episodes: -28622.01\n",
      "    Max Reward over last 50 episodes: -28040.99\n",
      "    Evaluation Average Reward: -27801.32\n",
      "\n",
      "Running combination 24/9555 with parameters: {'epsilon': 0.025, 'epsilon_decay': 0.995, 'alpha': 0.8, 'gamma': 0.6, 'no_change_after_lap': 120}\n"
     ]
    },
    {
     "name": "stderr",
     "output_type": "stream",
     "text": []
    },
    {
     "name": "stdout",
     "output_type": "stream",
     "text": [
      "    Training Episode 0/5\n"
     ]
    },
    {
     "name": "stderr",
     "output_type": "stream",
     "text": [
      "100%|██████████| 5/5 [02:20<00:00, 28.05s/it]\n",
      "100%|██████████| 1/1 [00:00<00:00, 13.79it/s]\n",
      "24it [57:44, 130.67s/it]"
     ]
    },
    {
     "name": "stdout",
     "output_type": "stream",
     "text": [
      "    Evaluation Episode 0/1\n",
      "    Average Reward over last 50 episodes: -24280.44\n",
      "    Min Reward over last 50 episodes: -24571.71\n",
      "    Max Reward over last 50 episodes: -24048.25\n",
      "    Evaluation Average Reward: -24652.16\n",
      "\n",
      "Running combination 25/9555 with parameters: {'epsilon': 0.0, 'epsilon_decay': 0.99, 'alpha': 0.9, 'gamma': 0.0, 'no_change_after_lap': 130}\n"
     ]
    },
    {
     "name": "stderr",
     "output_type": "stream",
     "text": []
    },
    {
     "name": "stdout",
     "output_type": "stream",
     "text": [
      "    Training Episode 0/5\n"
     ]
    },
    {
     "name": "stderr",
     "output_type": "stream",
     "text": [
      "100%|██████████| 5/5 [02:15<00:00, 27.18s/it]\n",
      "100%|██████████| 1/1 [00:00<00:00, 20.00it/s]\n",
      "25it [1:00:00, 132.26s/it]"
     ]
    },
    {
     "name": "stdout",
     "output_type": "stream",
     "text": [
      "    Evaluation Episode 0/1\n",
      "    Average Reward over last 50 episodes: -21920.54\n",
      "    Min Reward over last 50 episodes: -22108.17\n",
      "    Max Reward over last 50 episodes: -21612.23\n",
      "    Evaluation Average Reward: -21824.27\n",
      "\n",
      "Running combination 26/9555 with parameters: {'epsilon': 0.025, 'epsilon_decay': 0.995, 'alpha': 0.4, 'gamma': 1.0, 'no_change_after_lap': 125}\n"
     ]
    },
    {
     "name": "stderr",
     "output_type": "stream",
     "text": []
    },
    {
     "name": "stdout",
     "output_type": "stream",
     "text": [
      "    Training Episode 0/5\n"
     ]
    },
    {
     "name": "stderr",
     "output_type": "stream",
     "text": [
      "100%|██████████| 5/5 [02:08<00:00, 25.64s/it]\n",
      "100%|██████████| 1/1 [00:00<00:00, 16.00it/s]\n",
      "26it [1:02:09, 131.06s/it]"
     ]
    },
    {
     "name": "stdout",
     "output_type": "stream",
     "text": [
      "    Evaluation Episode 0/1\n",
      "    Average Reward over last 50 episodes: -23087.59\n",
      "    Min Reward over last 50 episodes: -23335.00\n",
      "    Max Reward over last 50 episodes: -22875.18\n",
      "    Evaluation Average Reward: -23212.09\n",
      "\n",
      "Running combination 27/9555 with parameters: {'epsilon': 0.1, 'epsilon_decay': 0.999, 'alpha': 0.2, 'gamma': 1.0, 'no_change_after_lap': 125}\n"
     ]
    },
    {
     "name": "stderr",
     "output_type": "stream",
     "text": []
    },
    {
     "name": "stdout",
     "output_type": "stream",
     "text": [
      "    Training Episode 0/5\n"
     ]
    },
    {
     "name": "stderr",
     "output_type": "stream",
     "text": [
      "100%|██████████| 5/5 [02:07<00:00, 25.48s/it]\n",
      "100%|██████████| 1/1 [00:00<00:00, 15.03it/s]\n",
      "27it [1:04:16, 129.99s/it]"
     ]
    },
    {
     "name": "stdout",
     "output_type": "stream",
     "text": [
      "    Evaluation Episode 0/1\n",
      "    Average Reward over last 50 episodes: -22914.27\n",
      "    Min Reward over last 50 episodes: -23084.51\n",
      "    Max Reward over last 50 episodes: -22728.04\n",
      "    Evaluation Average Reward: -23366.35\n",
      "\n",
      "Running combination 28/9555 with parameters: {'epsilon': 0.05, 'epsilon_decay': 0.995, 'alpha': 0.2, 'gamma': 0.8, 'no_change_after_lap': 125}\n"
     ]
    },
    {
     "name": "stderr",
     "output_type": "stream",
     "text": []
    },
    {
     "name": "stdout",
     "output_type": "stream",
     "text": [
      "    Training Episode 0/5\n"
     ]
    },
    {
     "name": "stderr",
     "output_type": "stream",
     "text": [
      "100%|██████████| 5/5 [02:14<00:00, 26.95s/it]\n",
      "100%|██████████| 1/1 [00:00<00:00, 21.73it/s]\n",
      "28it [1:06:31, 131.44s/it]"
     ]
    },
    {
     "name": "stdout",
     "output_type": "stream",
     "text": [
      "    Evaluation Episode 0/1\n",
      "    Average Reward over last 50 episodes: -23227.17\n",
      "    Min Reward over last 50 episodes: -23327.67\n",
      "    Max Reward over last 50 episodes: -23114.52\n",
      "    Evaluation Average Reward: -23120.14\n",
      "\n",
      "Running combination 29/9555 with parameters: {'epsilon': 0.05, 'epsilon_decay': 0.999, 'alpha': 0.4, 'gamma': 0.0, 'no_change_after_lap': 135}\n"
     ]
    },
    {
     "name": "stderr",
     "output_type": "stream",
     "text": []
    },
    {
     "name": "stdout",
     "output_type": "stream",
     "text": [
      "    Training Episode 0/5\n"
     ]
    },
    {
     "name": "stderr",
     "output_type": "stream",
     "text": [
      "100%|██████████| 5/5 [02:14<00:00, 26.82s/it]\n",
      "100%|██████████| 1/1 [00:00<00:00, 16.00it/s]\n",
      "29it [1:08:45, 132.25s/it]"
     ]
    },
    {
     "name": "stdout",
     "output_type": "stream",
     "text": [
      "    Evaluation Episode 0/1\n",
      "    Average Reward over last 50 episodes: -20581.94\n",
      "    Min Reward over last 50 episodes: -20713.74\n",
      "    Max Reward over last 50 episodes: -20410.89\n",
      "    Evaluation Average Reward: -20619.94\n",
      "\n",
      "Running combination 30/9555 with parameters: {'epsilon': 0.0, 'epsilon_decay': 0.999, 'alpha': 0.4, 'gamma': 0.2, 'no_change_after_lap': 145}\n"
     ]
    },
    {
     "name": "stderr",
     "output_type": "stream",
     "text": []
    },
    {
     "name": "stdout",
     "output_type": "stream",
     "text": [
      "    Training Episode 0/5\n"
     ]
    },
    {
     "name": "stderr",
     "output_type": "stream",
     "text": [
      "100%|██████████| 5/5 [02:08<00:00, 25.78s/it]\n",
      "100%|██████████| 1/1 [00:00<00:00, 14.49it/s]\n",
      "30it [1:10:54, 131.28s/it]"
     ]
    },
    {
     "name": "stdout",
     "output_type": "stream",
     "text": [
      "    Evaluation Episode 0/1\n",
      "    Average Reward over last 50 episodes: -18300.77\n",
      "    Min Reward over last 50 episodes: -18405.89\n",
      "    Max Reward over last 50 episodes: -18207.98\n",
      "    Evaluation Average Reward: -18165.82\n",
      "SKIPPING\n",
      "\n",
      "Running combination 31/9555 with parameters: {'epsilon': 0.1, 'epsilon_decay': 0.99, 'alpha': 1.0, 'gamma': 0.0, 'no_change_after_lap': 130}\n"
     ]
    },
    {
     "name": "stderr",
     "output_type": "stream",
     "text": []
    },
    {
     "name": "stdout",
     "output_type": "stream",
     "text": [
      "    Training Episode 0/5\n"
     ]
    },
    {
     "name": "stderr",
     "output_type": "stream",
     "text": [
      "100%|██████████| 5/5 [02:13<00:00, 26.63s/it]\n",
      "100%|██████████| 1/1 [00:00<00:00, 15.87it/s]\n",
      "31it [1:13:07, 131.86s/it]"
     ]
    },
    {
     "name": "stdout",
     "output_type": "stream",
     "text": [
      "    Evaluation Episode 0/1\n",
      "    Average Reward over last 50 episodes: -21836.99\n",
      "    Min Reward over last 50 episodes: -22001.81\n",
      "    Max Reward over last 50 episodes: -21677.33\n",
      "    Evaluation Average Reward: -21756.41\n",
      "\n",
      "Running combination 32/9555 with parameters: {'epsilon': 0.0, 'epsilon_decay': 0.999, 'alpha': 0.6, 'gamma': 0.6, 'no_change_after_lap': 110}\n"
     ]
    },
    {
     "name": "stderr",
     "output_type": "stream",
     "text": []
    },
    {
     "name": "stdout",
     "output_type": "stream",
     "text": [
      "    Training Episode 0/5\n"
     ]
    },
    {
     "name": "stderr",
     "output_type": "stream",
     "text": [
      "100%|██████████| 5/5 [02:13<00:00, 26.61s/it]\n",
      "100%|██████████| 1/1 [00:00<00:00, 15.74it/s]\n",
      "32it [1:15:20, 132.25s/it]"
     ]
    },
    {
     "name": "stdout",
     "output_type": "stream",
     "text": [
      "    Evaluation Episode 0/1\n",
      "    Average Reward over last 50 episodes: -26862.26\n",
      "    Min Reward over last 50 episodes: -27116.78\n",
      "    Max Reward over last 50 episodes: -26630.39\n",
      "    Evaluation Average Reward: -27047.83\n",
      "\n",
      "Running combination 33/9555 with parameters: {'epsilon': 0.2, 'epsilon_decay': 0.995, 'alpha': 0.2, 'gamma': 0.0, 'no_change_after_lap': 110}\n"
     ]
    },
    {
     "name": "stderr",
     "output_type": "stream",
     "text": []
    },
    {
     "name": "stdout",
     "output_type": "stream",
     "text": [
      "    Training Episode 0/5\n"
     ]
    },
    {
     "name": "stderr",
     "output_type": "stream",
     "text": [
      "100%|██████████| 5/5 [02:10<00:00, 26.17s/it]\n",
      "100%|██████████| 1/1 [00:00<00:00, 15.50it/s]\n",
      "33it [1:17:31, 131.85s/it]"
     ]
    },
    {
     "name": "stdout",
     "output_type": "stream",
     "text": [
      "    Evaluation Episode 0/1\n",
      "    Average Reward over last 50 episodes: -26931.03\n",
      "    Min Reward over last 50 episodes: -27161.69\n",
      "    Max Reward over last 50 episodes: -26643.52\n",
      "    Evaluation Average Reward: -26801.95\n",
      "\n",
      "Running combination 34/9555 with parameters: {'epsilon': 0.2, 'epsilon_decay': 0.995, 'alpha': 0.4, 'gamma': 0.0, 'no_change_after_lap': 105}\n"
     ]
    },
    {
     "name": "stderr",
     "output_type": "stream",
     "text": []
    },
    {
     "name": "stdout",
     "output_type": "stream",
     "text": [
      "    Training Episode 0/5\n"
     ]
    },
    {
     "name": "stderr",
     "output_type": "stream",
     "text": [
      "100%|██████████| 5/5 [02:16<00:00, 27.36s/it]\n",
      "100%|██████████| 1/1 [00:00<00:00, 16.13it/s]\n",
      "34it [1:19:48, 133.36s/it]"
     ]
    },
    {
     "name": "stdout",
     "output_type": "stream",
     "text": [
      "    Evaluation Episode 0/1\n",
      "    Average Reward over last 50 episodes: -28076.66\n",
      "    Min Reward over last 50 episodes: -28279.00\n",
      "    Max Reward over last 50 episodes: -27820.23\n",
      "    Evaluation Average Reward: -28564.99\n",
      "\n",
      "Running combination 35/9555 with parameters: {'epsilon': 0.2, 'epsilon_decay': 0.995, 'alpha': 0.2, 'gamma': 0.8, 'no_change_after_lap': 155}\n"
     ]
    },
    {
     "name": "stderr",
     "output_type": "stream",
     "text": []
    },
    {
     "name": "stdout",
     "output_type": "stream",
     "text": [
      "    Training Episode 0/5\n"
     ]
    },
    {
     "name": "stderr",
     "output_type": "stream",
     "text": [
      "100%|██████████| 5/5 [02:16<00:00, 27.21s/it]\n",
      "100%|██████████| 1/1 [00:00<00:00, 19.99it/s]\n",
      "35it [1:22:04, 134.19s/it]"
     ]
    },
    {
     "name": "stdout",
     "output_type": "stream",
     "text": [
      "    Evaluation Episode 0/1\n",
      "    Average Reward over last 50 episodes: -16348.53\n",
      "    Min Reward over last 50 episodes: -16421.97\n",
      "    Max Reward over last 50 episodes: -16272.93\n",
      "    Evaluation Average Reward: -16220.75\n",
      "\n",
      "Running combination 36/9555 with parameters: {'epsilon': 0.2, 'epsilon_decay': 0.999, 'alpha': 0.6, 'gamma': 0.2, 'no_change_after_lap': 100}\n"
     ]
    },
    {
     "name": "stderr",
     "output_type": "stream",
     "text": []
    },
    {
     "name": "stdout",
     "output_type": "stream",
     "text": [
      "    Training Episode 0/5\n"
     ]
    },
    {
     "name": "stderr",
     "output_type": "stream",
     "text": [
      "100%|██████████| 5/5 [02:15<00:00, 27.04s/it]\n",
      "100%|██████████| 1/1 [00:00<00:00, 14.92it/s]\n",
      "36it [1:24:20, 134.51s/it]"
     ]
    },
    {
     "name": "stdout",
     "output_type": "stream",
     "text": [
      "    Evaluation Episode 0/1\n",
      "    Average Reward over last 50 episodes: -29203.96\n",
      "    Min Reward over last 50 episodes: -29501.44\n",
      "    Max Reward over last 50 episodes: -28988.05\n",
      "    Evaluation Average Reward: -29474.03\n",
      "\n",
      "Running combination 37/9555 with parameters: {'epsilon': 0.05, 'epsilon_decay': 0.995, 'alpha': 0.9, 'gamma': 0.4, 'no_change_after_lap': 120}\n"
     ]
    },
    {
     "name": "stderr",
     "output_type": "stream",
     "text": []
    },
    {
     "name": "stdout",
     "output_type": "stream",
     "text": [
      "    Training Episode 0/5\n"
     ]
    },
    {
     "name": "stderr",
     "output_type": "stream",
     "text": [
      "100%|██████████| 5/5 [02:13<00:00, 26.62s/it]\n",
      "100%|██████████| 1/1 [00:00<00:00, 15.50it/s]\n",
      "37it [1:26:33, 134.11s/it]"
     ]
    },
    {
     "name": "stdout",
     "output_type": "stream",
     "text": [
      "    Evaluation Episode 0/1\n",
      "    Average Reward over last 50 episodes: -24411.94\n",
      "    Min Reward over last 50 episodes: -24612.60\n",
      "    Max Reward over last 50 episodes: -23978.22\n",
      "    Evaluation Average Reward: -24629.46\n",
      "SKIPPING\n",
      "\n",
      "Running combination 38/9555 with parameters: {'epsilon': 0.2, 'epsilon_decay': 0.995, 'alpha': 0.9, 'gamma': 0.8, 'no_change_after_lap': 110}\n"
     ]
    },
    {
     "name": "stderr",
     "output_type": "stream",
     "text": []
    },
    {
     "name": "stdout",
     "output_type": "stream",
     "text": [
      "    Training Episode 0/5\n"
     ]
    },
    {
     "name": "stderr",
     "output_type": "stream",
     "text": [
      "100%|██████████| 5/5 [02:14<00:00, 26.95s/it]\n",
      "100%|██████████| 1/1 [00:00<00:00, 14.60it/s]\n",
      "38it [1:28:48, 134.32s/it]"
     ]
    },
    {
     "name": "stdout",
     "output_type": "stream",
     "text": [
      "    Evaluation Episode 0/1\n",
      "    Average Reward over last 50 episodes: -26753.16\n",
      "    Min Reward over last 50 episodes: -27255.30\n",
      "    Max Reward over last 50 episodes: -26482.21\n",
      "    Evaluation Average Reward: -26619.39\n",
      "\n",
      "Running combination 39/9555 with parameters: {'epsilon': 0.1, 'epsilon_decay': 0.99, 'alpha': 0.6, 'gamma': 0.2, 'no_change_after_lap': 100}\n"
     ]
    },
    {
     "name": "stderr",
     "output_type": "stream",
     "text": []
    },
    {
     "name": "stdout",
     "output_type": "stream",
     "text": [
      "    Training Episode 0/5\n"
     ]
    },
    {
     "name": "stderr",
     "output_type": "stream",
     "text": [
      "100%|██████████| 5/5 [02:16<00:00, 27.38s/it]\n",
      "100%|██████████| 1/1 [00:00<00:00, 10.74it/s]\n",
      "39it [1:31:05, 135.13s/it]"
     ]
    },
    {
     "name": "stdout",
     "output_type": "stream",
     "text": [
      "    Evaluation Episode 0/1\n",
      "    Average Reward over last 50 episodes: -29352.78\n",
      "    Min Reward over last 50 episodes: -29711.35\n",
      "    Max Reward over last 50 episodes: -28958.48\n",
      "    Evaluation Average Reward: -29826.98\n",
      "\n",
      "Running combination 40/9555 with parameters: {'epsilon': 0.05, 'epsilon_decay': 0.995, 'alpha': 0.0, 'gamma': 0.6, 'no_change_after_lap': 115}\n"
     ]
    },
    {
     "name": "stderr",
     "output_type": "stream",
     "text": []
    },
    {
     "name": "stdout",
     "output_type": "stream",
     "text": [
      "    Training Episode 0/5\n"
     ]
    },
    {
     "name": "stderr",
     "output_type": "stream",
     "text": [
      "100%|██████████| 5/5 [02:05<00:00, 25.09s/it]\n",
      "100%|██████████| 1/1 [00:00<00:00, 14.38it/s]\n",
      "40it [1:33:10, 132.26s/it]"
     ]
    },
    {
     "name": "stdout",
     "output_type": "stream",
     "text": [
      "    Evaluation Episode 0/1\n",
      "    Average Reward over last 50 episodes: -25657.46\n",
      "    Min Reward over last 50 episodes: -25840.89\n",
      "    Max Reward over last 50 episodes: -25296.70\n",
      "    Evaluation Average Reward: -25202.35\n",
      "\n",
      "Running combination 41/9555 with parameters: {'epsilon': 0.1, 'epsilon_decay': 0.995, 'alpha': 0.0, 'gamma': 1.0, 'no_change_after_lap': 125}\n"
     ]
    },
    {
     "name": "stderr",
     "output_type": "stream",
     "text": []
    },
    {
     "name": "stdout",
     "output_type": "stream",
     "text": [
      "    Training Episode 0/5\n"
     ]
    },
    {
     "name": "stderr",
     "output_type": "stream",
     "text": [
      "100%|██████████| 5/5 [01:59<00:00, 23.85s/it]\n",
      "100%|██████████| 1/1 [00:00<00:00, 14.92it/s]\n",
      "41it [1:35:09, 128.38s/it]"
     ]
    },
    {
     "name": "stdout",
     "output_type": "stream",
     "text": [
      "    Evaluation Episode 0/1\n",
      "    Average Reward over last 50 episodes: -23058.19\n",
      "    Min Reward over last 50 episodes: -23375.81\n",
      "    Max Reward over last 50 episodes: -22862.85\n",
      "    Evaluation Average Reward: -23384.13\n",
      "\n",
      "Running combination 42/9555 with parameters: {'epsilon': 0.1, 'epsilon_decay': 0.99, 'alpha': 0.0, 'gamma': 0.0, 'no_change_after_lap': 125}\n"
     ]
    },
    {
     "name": "stderr",
     "output_type": "stream",
     "text": []
    },
    {
     "name": "stdout",
     "output_type": "stream",
     "text": [
      "    Training Episode 0/5\n"
     ]
    },
    {
     "name": "stderr",
     "output_type": "stream",
     "text": [
      "100%|██████████| 5/5 [02:07<00:00, 25.56s/it]\n",
      "100%|██████████| 1/1 [00:00<00:00, 14.59it/s]\n",
      "42it [1:37:17, 128.24s/it]"
     ]
    },
    {
     "name": "stdout",
     "output_type": "stream",
     "text": [
      "    Evaluation Episode 0/1\n",
      "    Average Reward over last 50 episodes: -23115.70\n",
      "    Min Reward over last 50 episodes: -23472.41\n",
      "    Max Reward over last 50 episodes: -22825.13\n",
      "    Evaluation Average Reward: -23373.11\n",
      "\n",
      "Running combination 43/9555 with parameters: {'epsilon': 0.025, 'epsilon_decay': 0.99, 'alpha': 0.0, 'gamma': 0.8, 'no_change_after_lap': 160}\n"
     ]
    },
    {
     "name": "stderr",
     "output_type": "stream",
     "text": []
    },
    {
     "name": "stdout",
     "output_type": "stream",
     "text": [
      "    Training Episode 0/5\n"
     ]
    },
    {
     "name": "stderr",
     "output_type": "stream",
     "text": [
      "100%|██████████| 5/5 [02:04<00:00, 25.00s/it]\n",
      "100%|██████████| 1/1 [00:00<00:00, 16.80it/s]\n",
      "43it [1:39:22, 127.29s/it]"
     ]
    },
    {
     "name": "stdout",
     "output_type": "stream",
     "text": [
      "    Evaluation Episode 0/1\n",
      "    Average Reward over last 50 episodes: -16056.77\n",
      "    Min Reward over last 50 episodes: -16116.76\n",
      "    Max Reward over last 50 episodes: -16006.31\n",
      "    Evaluation Average Reward: -16075.55\n",
      "\n",
      "Running combination 44/9555 with parameters: {'epsilon': 0.025, 'epsilon_decay': 0.999, 'alpha': 0.4, 'gamma': 1.0, 'no_change_after_lap': 120}\n"
     ]
    },
    {
     "name": "stderr",
     "output_type": "stream",
     "text": []
    },
    {
     "name": "stdout",
     "output_type": "stream",
     "text": [
      "    Training Episode 0/5\n"
     ]
    },
    {
     "name": "stderr",
     "output_type": "stream",
     "text": [
      "100%|██████████| 5/5 [02:13<00:00, 26.69s/it]\n",
      "100%|██████████| 1/1 [00:00<00:00, 14.59it/s]\n",
      "44it [1:41:36, 129.16s/it]"
     ]
    },
    {
     "name": "stdout",
     "output_type": "stream",
     "text": [
      "    Evaluation Episode 0/1\n",
      "    Average Reward over last 50 episodes: -24409.95\n",
      "    Min Reward over last 50 episodes: -24623.88\n",
      "    Max Reward over last 50 episodes: -24045.55\n",
      "    Evaluation Average Reward: -24567.12\n",
      "\n",
      "Running combination 45/9555 with parameters: {'epsilon': 0.1, 'epsilon_decay': 0.99, 'alpha': 1.0, 'gamma': 0.6, 'no_change_after_lap': 140}\n"
     ]
    },
    {
     "name": "stderr",
     "output_type": "stream",
     "text": []
    },
    {
     "name": "stdout",
     "output_type": "stream",
     "text": [
      "    Training Episode 0/5\n"
     ]
    },
    {
     "name": "stderr",
     "output_type": "stream",
     "text": [
      "100%|██████████| 5/5 [02:17<00:00, 27.48s/it]\n",
      "100%|██████████| 1/1 [00:00<00:00, 13.98it/s]\n",
      "45it [1:43:53, 131.65s/it]"
     ]
    },
    {
     "name": "stdout",
     "output_type": "stream",
     "text": [
      "    Evaluation Episode 0/1\n",
      "    Average Reward over last 50 episodes: -19403.79\n",
      "    Min Reward over last 50 episodes: -19608.95\n",
      "    Max Reward over last 50 episodes: -19261.33\n",
      "    Evaluation Average Reward: -19354.72\n",
      "\n",
      "Running combination 46/9555 with parameters: {'epsilon': 0.05, 'epsilon_decay': 0.999, 'alpha': 1.0, 'gamma': 0.8, 'no_change_after_lap': 100}\n"
     ]
    },
    {
     "name": "stderr",
     "output_type": "stream",
     "text": []
    },
    {
     "name": "stdout",
     "output_type": "stream",
     "text": [
      "    Training Episode 0/5\n"
     ]
    },
    {
     "name": "stderr",
     "output_type": "stream",
     "text": [
      "100%|██████████| 5/5 [02:14<00:00, 26.88s/it]\n",
      "100%|██████████| 1/1 [00:00<00:00, 13.70it/s]\n",
      "46it [1:46:08, 132.50s/it]"
     ]
    },
    {
     "name": "stdout",
     "output_type": "stream",
     "text": [
      "    Evaluation Episode 0/1\n",
      "    Average Reward over last 50 episodes: -29504.16\n",
      "    Min Reward over last 50 episodes: -29677.40\n",
      "    Max Reward over last 50 episodes: -29207.32\n",
      "    Evaluation Average Reward: -29335.95\n",
      "\n",
      "Running combination 47/9555 with parameters: {'epsilon': 0.05, 'epsilon_decay': 0.995, 'alpha': 0.2, 'gamma': 0.6, 'no_change_after_lap': 135}\n"
     ]
    },
    {
     "name": "stderr",
     "output_type": "stream",
     "text": []
    },
    {
     "name": "stdout",
     "output_type": "stream",
     "text": [
      "    Training Episode 0/5\n"
     ]
    },
    {
     "name": "stderr",
     "output_type": "stream",
     "text": [
      "100%|██████████| 5/5 [02:20<00:00, 28.18s/it]\n",
      "100%|██████████| 1/1 [00:00<00:00, 18.34it/s]\n",
      "47it [1:48:29, 135.03s/it]"
     ]
    },
    {
     "name": "stdout",
     "output_type": "stream",
     "text": [
      "    Evaluation Episode 0/1\n",
      "    Average Reward over last 50 episodes: -20561.03\n",
      "    Min Reward over last 50 episodes: -20832.45\n",
      "    Max Reward over last 50 episodes: -20226.58\n",
      "    Evaluation Average Reward: -20691.13\n",
      "\n",
      "Running combination 48/9555 with parameters: {'epsilon': 0.2, 'epsilon_decay': 0.995, 'alpha': 0.2, 'gamma': 0.2, 'no_change_after_lap': 125}\n"
     ]
    },
    {
     "name": "stderr",
     "output_type": "stream",
     "text": []
    },
    {
     "name": "stdout",
     "output_type": "stream",
     "text": [
      "    Training Episode 0/5\n"
     ]
    },
    {
     "name": "stderr",
     "output_type": "stream",
     "text": [
      "100%|██████████| 5/5 [02:15<00:00, 27.15s/it]\n",
      "100%|██████████| 1/1 [00:00<00:00, 14.81it/s]\n",
      "48it [1:50:45, 135.27s/it]"
     ]
    },
    {
     "name": "stdout",
     "output_type": "stream",
     "text": [
      "    Evaluation Episode 0/1\n",
      "    Average Reward over last 50 episodes: -23146.54\n",
      "    Min Reward over last 50 episodes: -23350.48\n",
      "    Max Reward over last 50 episodes: -22728.90\n",
      "    Evaluation Average Reward: -23404.61\n",
      "\n",
      "Running combination 49/9555 with parameters: {'epsilon': 0.2, 'epsilon_decay': 0.999, 'alpha': 0.9, 'gamma': 0.2, 'no_change_after_lap': 105}\n"
     ]
    },
    {
     "name": "stderr",
     "output_type": "stream",
     "text": []
    },
    {
     "name": "stdout",
     "output_type": "stream",
     "text": [
      "    Training Episode 0/5\n"
     ]
    },
    {
     "name": "stderr",
     "output_type": "stream",
     "text": [
      "100%|██████████| 5/5 [02:14<00:00, 26.88s/it]\n",
      "100%|██████████| 1/1 [00:00<00:00, 14.39it/s]\n",
      "49it [1:52:59, 135.03s/it]"
     ]
    },
    {
     "name": "stdout",
     "output_type": "stream",
     "text": [
      "    Evaluation Episode 0/1\n",
      "    Average Reward over last 50 episodes: -27988.85\n",
      "    Min Reward over last 50 episodes: -28507.44\n",
      "    Max Reward over last 50 episodes: -27721.79\n",
      "    Evaluation Average Reward: -28448.47\n",
      "\n",
      "Running combination 50/9555 with parameters: {'epsilon': 0.025, 'epsilon_decay': 0.995, 'alpha': 0.6, 'gamma': 0.0, 'no_change_after_lap': 105}\n"
     ]
    },
    {
     "name": "stderr",
     "output_type": "stream",
     "text": []
    },
    {
     "name": "stdout",
     "output_type": "stream",
     "text": [
      "    Training Episode 0/5\n"
     ]
    },
    {
     "name": "stderr",
     "output_type": "stream",
     "text": [
      "100%|██████████| 5/5 [02:13<00:00, 26.62s/it]\n",
      "100%|██████████| 1/1 [00:00<00:00, 13.24it/s]\n",
      "50it [1:55:12, 134.49s/it]"
     ]
    },
    {
     "name": "stdout",
     "output_type": "stream",
     "text": [
      "    Evaluation Episode 0/1\n",
      "    Average Reward over last 50 episodes: -28055.04\n",
      "    Min Reward over last 50 episodes: -28231.61\n",
      "    Max Reward over last 50 episodes: -27885.85\n",
      "    Evaluation Average Reward: -27983.87\n",
      "\n",
      "Running combination 51/9555 with parameters: {'epsilon': 0.2, 'epsilon_decay': 0.995, 'alpha': 0.0, 'gamma': 0.0, 'no_change_after_lap': 105}\n"
     ]
    },
    {
     "name": "stderr",
     "output_type": "stream",
     "text": []
    },
    {
     "name": "stdout",
     "output_type": "stream",
     "text": [
      "    Training Episode 0/5\n"
     ]
    },
    {
     "name": "stderr",
     "output_type": "stream",
     "text": [
      "100%|██████████| 5/5 [02:08<00:00, 25.77s/it]\n",
      "100%|██████████| 1/1 [00:00<00:00, 12.58it/s]\n",
      "51it [1:57:21, 132.83s/it]"
     ]
    },
    {
     "name": "stdout",
     "output_type": "stream",
     "text": [
      "    Evaluation Episode 0/1\n",
      "    Average Reward over last 50 episodes: -28186.52\n",
      "    Min Reward over last 50 episodes: -28410.56\n",
      "    Max Reward over last 50 episodes: -27858.51\n",
      "    Evaluation Average Reward: -28311.98\n",
      "\n",
      "Running combination 52/9555 with parameters: {'epsilon': 0.05, 'epsilon_decay': 0.995, 'alpha': 0.4, 'gamma': 0.6, 'no_change_after_lap': 110}\n"
     ]
    },
    {
     "name": "stderr",
     "output_type": "stream",
     "text": []
    },
    {
     "name": "stdout",
     "output_type": "stream",
     "text": [
      "    Training Episode 0/5\n"
     ]
    },
    {
     "name": "stderr",
     "output_type": "stream",
     "text": [
      "100%|██████████| 5/5 [02:16<00:00, 27.32s/it]\n",
      "100%|██████████| 1/1 [00:00<00:00, 14.18it/s]\n",
      "52it [1:59:38, 133.98s/it]"
     ]
    },
    {
     "name": "stdout",
     "output_type": "stream",
     "text": [
      "    Evaluation Episode 0/1\n",
      "    Average Reward over last 50 episodes: -26811.37\n",
      "    Min Reward over last 50 episodes: -27056.03\n",
      "    Max Reward over last 50 episodes: -26574.69\n",
      "    Evaluation Average Reward: -27205.75\n",
      "\n",
      "Running combination 53/9555 with parameters: {'epsilon': 0.0, 'epsilon_decay': 0.99, 'alpha': 0.6, 'gamma': 1.0, 'no_change_after_lap': 130}\n"
     ]
    },
    {
     "name": "stderr",
     "output_type": "stream",
     "text": []
    },
    {
     "name": "stdout",
     "output_type": "stream",
     "text": [
      "    Training Episode 0/5\n"
     ]
    },
    {
     "name": "stderr",
     "output_type": "stream",
     "text": [
      "100%|██████████| 5/5 [02:11<00:00, 26.37s/it]\n",
      "100%|██████████| 1/1 [00:00<00:00, 14.28it/s]\n",
      "53it [2:01:50, 133.37s/it]"
     ]
    },
    {
     "name": "stdout",
     "output_type": "stream",
     "text": [
      "    Evaluation Episode 0/1\n",
      "    Average Reward over last 50 episodes: -21789.44\n",
      "    Min Reward over last 50 episodes: -22095.26\n",
      "    Max Reward over last 50 episodes: -21498.68\n",
      "    Evaluation Average Reward: -22026.31\n",
      "\n",
      "Running combination 54/9555 with parameters: {'epsilon': 0.2, 'epsilon_decay': 0.99, 'alpha': 0.9, 'gamma': 0.0, 'no_change_after_lap': 150}\n"
     ]
    },
    {
     "name": "stderr",
     "output_type": "stream",
     "text": []
    },
    {
     "name": "stdout",
     "output_type": "stream",
     "text": [
      "    Training Episode 0/5\n"
     ]
    },
    {
     "name": "stderr",
     "output_type": "stream",
     "text": [
      "100%|██████████| 5/5 [02:16<00:00, 27.40s/it]\n",
      "100%|██████████| 1/1 [00:00<00:00, 14.38it/s]\n",
      "54it [2:04:07, 134.48s/it]"
     ]
    },
    {
     "name": "stdout",
     "output_type": "stream",
     "text": [
      "    Evaluation Episode 0/1\n",
      "    Average Reward over last 50 episodes: -17115.99\n",
      "    Min Reward over last 50 episodes: -17287.42\n",
      "    Max Reward over last 50 episodes: -16897.40\n",
      "    Evaluation Average Reward: -16966.70\n",
      "\n",
      "Running combination 55/9555 with parameters: {'epsilon': 0.025, 'epsilon_decay': 0.999, 'alpha': 0.9, 'gamma': 0.2, 'no_change_after_lap': 120}\n"
     ]
    },
    {
     "name": "stderr",
     "output_type": "stream",
     "text": []
    },
    {
     "name": "stdout",
     "output_type": "stream",
     "text": [
      "    Training Episode 0/5\n"
     ]
    },
    {
     "name": "stderr",
     "output_type": "stream",
     "text": [
      "100%|██████████| 5/5 [02:14<00:00, 26.90s/it]\n",
      "100%|██████████| 1/1 [00:00<00:00, 18.68it/s]\n",
      "55it [2:06:22, 134.50s/it]"
     ]
    },
    {
     "name": "stdout",
     "output_type": "stream",
     "text": [
      "    Evaluation Episode 0/1\n",
      "    Average Reward over last 50 episodes: -24390.21\n",
      "    Min Reward over last 50 episodes: -24596.73\n",
      "    Max Reward over last 50 episodes: -24004.76\n",
      "    Evaluation Average Reward: -24543.89\n",
      "\n",
      "Running combination 56/9555 with parameters: {'epsilon': 0.1, 'epsilon_decay': 0.995, 'alpha': 0.0, 'gamma': 0.0, 'no_change_after_lap': 100}\n"
     ]
    },
    {
     "name": "stderr",
     "output_type": "stream",
     "text": []
    },
    {
     "name": "stdout",
     "output_type": "stream",
     "text": [
      "    Training Episode 0/5\n"
     ]
    },
    {
     "name": "stderr",
     "output_type": "stream",
     "text": [
      "100%|██████████| 5/5 [01:59<00:00, 23.86s/it]\n",
      "100%|██████████| 1/1 [00:00<00:00, 14.39it/s]\n",
      "56it [2:08:21, 129.97s/it]"
     ]
    },
    {
     "name": "stdout",
     "output_type": "stream",
     "text": [
      "    Evaluation Episode 0/1\n",
      "    Average Reward over last 50 episodes: -29316.55\n",
      "    Min Reward over last 50 episodes: -29614.61\n",
      "    Max Reward over last 50 episodes: -29065.94\n",
      "    Evaluation Average Reward: -29246.29\n",
      "\n",
      "Running combination 57/9555 with parameters: {'epsilon': 0.1, 'epsilon_decay': 0.99, 'alpha': 0.4, 'gamma': 0.6, 'no_change_after_lap': 135}\n"
     ]
    },
    {
     "name": "stderr",
     "output_type": "stream",
     "text": []
    },
    {
     "name": "stdout",
     "output_type": "stream",
     "text": [
      "    Training Episode 0/5\n"
     ]
    },
    {
     "name": "stderr",
     "output_type": "stream",
     "text": [
      "100%|██████████| 5/5 [02:22<00:00, 28.59s/it]\n",
      "100%|██████████| 1/1 [00:00<00:00, 16.66it/s]\n",
      "57it [2:10:44, 133.89s/it]"
     ]
    },
    {
     "name": "stdout",
     "output_type": "stream",
     "text": [
      "    Evaluation Episode 0/1\n",
      "    Average Reward over last 50 episodes: -20620.17\n",
      "    Min Reward over last 50 episodes: -21123.30\n",
      "    Max Reward over last 50 episodes: -20179.75\n",
      "    Evaluation Average Reward: -20257.46\n",
      "\n",
      "Running combination 58/9555 with parameters: {'epsilon': 0.05, 'epsilon_decay': 0.999, 'alpha': 0.6, 'gamma': 0.2, 'no_change_after_lap': 100}\n"
     ]
    },
    {
     "name": "stderr",
     "output_type": "stream",
     "text": []
    },
    {
     "name": "stdout",
     "output_type": "stream",
     "text": [
      "    Training Episode 0/5\n"
     ]
    },
    {
     "name": "stderr",
     "output_type": "stream",
     "text": [
      "100%|██████████| 5/5 [02:12<00:00, 26.53s/it]\n",
      "100%|██████████| 1/1 [00:00<00:00, 16.25it/s]\n",
      "58it [2:12:57, 133.54s/it]"
     ]
    },
    {
     "name": "stdout",
     "output_type": "stream",
     "text": [
      "    Evaluation Episode 0/1\n",
      "    Average Reward over last 50 episodes: -29322.17\n",
      "    Min Reward over last 50 episodes: -29641.52\n",
      "    Max Reward over last 50 episodes: -28986.66\n",
      "    Evaluation Average Reward: -29157.32\n",
      "\n",
      "Running combination 59/9555 with parameters: {'epsilon': 0.1, 'epsilon_decay': 0.999, 'alpha': 0.6, 'gamma': 0.4, 'no_change_after_lap': 110}\n"
     ]
    },
    {
     "name": "stderr",
     "output_type": "stream",
     "text": []
    },
    {
     "name": "stdout",
     "output_type": "stream",
     "text": [
      "    Training Episode 0/5\n"
     ]
    },
    {
     "name": "stderr",
     "output_type": "stream",
     "text": [
      "100%|██████████| 5/5 [02:14<00:00, 26.84s/it]\n",
      "100%|██████████| 1/1 [00:00<00:00, 15.50it/s]\n",
      "59it [2:15:11, 133.76s/it]"
     ]
    },
    {
     "name": "stdout",
     "output_type": "stream",
     "text": [
      "    Evaluation Episode 0/1\n",
      "    Average Reward over last 50 episodes: -26959.32\n",
      "    Min Reward over last 50 episodes: -27310.46\n",
      "    Max Reward over last 50 episodes: -26726.42\n",
      "    Evaluation Average Reward: -26708.47\n",
      "\n",
      "Running combination 60/9555 with parameters: {'epsilon': 0.2, 'epsilon_decay': 0.995, 'alpha': 0.0, 'gamma': 0.6, 'no_change_after_lap': 155}\n"
     ]
    },
    {
     "name": "stderr",
     "output_type": "stream",
     "text": []
    },
    {
     "name": "stdout",
     "output_type": "stream",
     "text": [
      "    Training Episode 0/5\n"
     ]
    },
    {
     "name": "stderr",
     "output_type": "stream",
     "text": [
      "100%|██████████| 5/5 [02:04<00:00, 24.88s/it]\n",
      "100%|██████████| 1/1 [00:00<00:00, 15.15it/s]\n",
      "60it [2:17:15, 130.97s/it]"
     ]
    },
    {
     "name": "stdout",
     "output_type": "stream",
     "text": [
      "    Evaluation Episode 0/1\n",
      "    Average Reward over last 50 episodes: -16364.24\n",
      "    Min Reward over last 50 episodes: -16445.78\n",
      "    Max Reward over last 50 episodes: -16231.78\n",
      "    Evaluation Average Reward: -16283.00\n",
      "\n",
      "Running combination 61/9555 with parameters: {'epsilon': 0.0, 'epsilon_decay': 0.995, 'alpha': 1.0, 'gamma': 0.0, 'no_change_after_lap': 130}\n"
     ]
    },
    {
     "name": "stderr",
     "output_type": "stream",
     "text": []
    },
    {
     "name": "stdout",
     "output_type": "stream",
     "text": [
      "    Training Episode 0/5\n"
     ]
    },
    {
     "name": "stderr",
     "output_type": "stream",
     "text": [
      "100%|██████████| 5/5 [02:06<00:00, 25.22s/it]\n",
      "100%|██████████| 1/1 [00:00<00:00, 15.87it/s]\n",
      "61it [2:19:22, 129.54s/it]"
     ]
    },
    {
     "name": "stdout",
     "output_type": "stream",
     "text": [
      "    Evaluation Episode 0/1\n",
      "    Average Reward over last 50 episodes: -22029.43\n",
      "    Min Reward over last 50 episodes: -22090.79\n",
      "    Max Reward over last 50 episodes: -21970.41\n",
      "    Evaluation Average Reward: -21484.82\n",
      "\n",
      "Running combination 62/9555 with parameters: {'epsilon': 0.0, 'epsilon_decay': 0.999, 'alpha': 1.0, 'gamma': 0.9, 'no_change_after_lap': 145}\n"
     ]
    },
    {
     "name": "stderr",
     "output_type": "stream",
     "text": []
    },
    {
     "name": "stdout",
     "output_type": "stream",
     "text": [
      "    Training Episode 0/5\n"
     ]
    },
    {
     "name": "stderr",
     "output_type": "stream",
     "text": [
      "100%|██████████| 5/5 [02:13<00:00, 26.63s/it]\n",
      "100%|██████████| 1/1 [00:00<00:00, 13.99it/s]\n",
      "62it [2:21:35, 130.65s/it]"
     ]
    },
    {
     "name": "stdout",
     "output_type": "stream",
     "text": [
      "    Evaluation Episode 0/1\n",
      "    Average Reward over last 50 episodes: -18204.20\n",
      "    Min Reward over last 50 episodes: -18435.52\n",
      "    Max Reward over last 50 episodes: -17894.33\n",
      "    Evaluation Average Reward: -18416.15\n",
      "\n",
      "Running combination 63/9555 with parameters: {'epsilon': 0.2, 'epsilon_decay': 0.999, 'alpha': 0.4, 'gamma': 1.0, 'no_change_after_lap': 150}\n"
     ]
    },
    {
     "name": "stderr",
     "output_type": "stream",
     "text": []
    },
    {
     "name": "stdout",
     "output_type": "stream",
     "text": [
      "    Training Episode 0/5\n"
     ]
    },
    {
     "name": "stderr",
     "output_type": "stream",
     "text": [
      "100%|██████████| 5/5 [02:13<00:00, 26.73s/it]\n",
      "100%|██████████| 1/1 [00:00<00:00, 13.51it/s]\n",
      "63it [2:23:49, 131.59s/it]"
     ]
    },
    {
     "name": "stdout",
     "output_type": "stream",
     "text": [
      "    Evaluation Episode 0/1\n",
      "    Average Reward over last 50 episodes: -17033.34\n",
      "    Min Reward over last 50 episodes: -17170.64\n",
      "    Max Reward over last 50 episodes: -16945.37\n",
      "    Evaluation Average Reward: -17148.40\n",
      "\n",
      "Running combination 64/9555 with parameters: {'epsilon': 0.05, 'epsilon_decay': 0.999, 'alpha': 0.4, 'gamma': 0.8, 'no_change_after_lap': 115}\n"
     ]
    },
    {
     "name": "stderr",
     "output_type": "stream",
     "text": []
    },
    {
     "name": "stdout",
     "output_type": "stream",
     "text": [
      "    Training Episode 0/5\n"
     ]
    },
    {
     "name": "stderr",
     "output_type": "stream",
     "text": [
      "100%|██████████| 5/5 [02:19<00:00, 27.87s/it]\n",
      "100%|██████████| 1/1 [00:00<00:00, 16.39it/s]\n",
      "64it [2:26:08, 133.94s/it]"
     ]
    },
    {
     "name": "stdout",
     "output_type": "stream",
     "text": [
      "    Evaluation Episode 0/1\n",
      "    Average Reward over last 50 episodes: -25551.75\n",
      "    Min Reward over last 50 episodes: -25774.90\n",
      "    Max Reward over last 50 episodes: -25340.85\n",
      "    Evaluation Average Reward: -25556.01\n",
      "\n",
      "Running combination 65/9555 with parameters: {'epsilon': 0.0, 'epsilon_decay': 0.995, 'alpha': 0.9, 'gamma': 0.2, 'no_change_after_lap': 105}\n"
     ]
    },
    {
     "name": "stderr",
     "output_type": "stream",
     "text": []
    },
    {
     "name": "stdout",
     "output_type": "stream",
     "text": [
      "    Training Episode 0/5\n"
     ]
    },
    {
     "name": "stderr",
     "output_type": "stream",
     "text": [
      "100%|██████████| 5/5 [02:11<00:00, 26.39s/it]\n",
      "100%|██████████| 1/1 [00:00<00:00, 22.98it/s]\n",
      "65it [2:28:20, 133.35s/it]"
     ]
    },
    {
     "name": "stdout",
     "output_type": "stream",
     "text": [
      "    Evaluation Episode 0/1\n",
      "    Average Reward over last 50 episodes: -28118.67\n",
      "    Min Reward over last 50 episodes: -28386.07\n",
      "    Max Reward over last 50 episodes: -27810.70\n",
      "    Evaluation Average Reward: -28051.02\n",
      "\n",
      "Running combination 66/9555 with parameters: {'epsilon': 0.05, 'epsilon_decay': 0.995, 'alpha': 0.6, 'gamma': 0.0, 'no_change_after_lap': 140}\n"
     ]
    },
    {
     "name": "stderr",
     "output_type": "stream",
     "text": []
    },
    {
     "name": "stdout",
     "output_type": "stream",
     "text": [
      "    Training Episode 0/5\n"
     ]
    },
    {
     "name": "stderr",
     "output_type": "stream",
     "text": [
      "100%|██████████| 5/5 [02:11<00:00, 26.37s/it]\n",
      "100%|██████████| 1/1 [00:00<00:00, 13.89it/s]\n",
      "66it [2:30:32, 132.92s/it]"
     ]
    },
    {
     "name": "stdout",
     "output_type": "stream",
     "text": [
      "    Evaluation Episode 0/1\n",
      "    Average Reward over last 50 episodes: -19311.78\n",
      "    Min Reward over last 50 episodes: -19522.14\n",
      "    Max Reward over last 50 episodes: -19045.87\n",
      "    Evaluation Average Reward: -19539.72\n",
      "\n",
      "Running combination 67/9555 with parameters: {'epsilon': 0.2, 'epsilon_decay': 0.995, 'alpha': 1.0, 'gamma': 0.2, 'no_change_after_lap': 130}\n"
     ]
    },
    {
     "name": "stderr",
     "output_type": "stream",
     "text": []
    },
    {
     "name": "stdout",
     "output_type": "stream",
     "text": [
      "    Training Episode 0/5\n"
     ]
    },
    {
     "name": "stderr",
     "output_type": "stream",
     "text": [
      "100%|██████████| 5/5 [02:17<00:00, 27.41s/it]\n",
      "100%|██████████| 1/1 [00:00<00:00, 13.79it/s]\n",
      "67it [2:32:49, 134.19s/it]"
     ]
    },
    {
     "name": "stdout",
     "output_type": "stream",
     "text": [
      "    Evaluation Episode 0/1\n",
      "    Average Reward over last 50 episodes: -21824.84\n",
      "    Min Reward over last 50 episodes: -22068.52\n",
      "    Max Reward over last 50 episodes: -21478.95\n",
      "    Evaluation Average Reward: -21593.61\n",
      "\n",
      "Running combination 68/9555 with parameters: {'epsilon': 0.025, 'epsilon_decay': 0.999, 'alpha': 0.8, 'gamma': 0.2, 'no_change_after_lap': 110}\n"
     ]
    },
    {
     "name": "stderr",
     "output_type": "stream",
     "text": []
    },
    {
     "name": "stdout",
     "output_type": "stream",
     "text": [
      "    Training Episode 0/5\n"
     ]
    },
    {
     "name": "stderr",
     "output_type": "stream",
     "text": [
      "100%|██████████| 5/5 [02:09<00:00, 25.85s/it]\n",
      "100%|██████████| 1/1 [00:00<00:00, 14.59it/s]\n",
      "68it [2:34:58, 132.74s/it]"
     ]
    },
    {
     "name": "stdout",
     "output_type": "stream",
     "text": [
      "    Evaluation Episode 0/1\n",
      "    Average Reward over last 50 episodes: -26935.08\n",
      "    Min Reward over last 50 episodes: -27113.90\n",
      "    Max Reward over last 50 episodes: -26758.05\n",
      "    Evaluation Average Reward: -26997.50\n",
      "\n",
      "Running combination 69/9555 with parameters: {'epsilon': 0.2, 'epsilon_decay': 0.99, 'alpha': 0.4, 'gamma': 1.0, 'no_change_after_lap': 110}\n"
     ]
    },
    {
     "name": "stderr",
     "output_type": "stream",
     "text": []
    },
    {
     "name": "stdout",
     "output_type": "stream",
     "text": [
      "    Training Episode 0/5\n"
     ]
    },
    {
     "name": "stderr",
     "output_type": "stream",
     "text": [
      "100%|██████████| 5/5 [02:12<00:00, 26.43s/it]\n",
      "100%|██████████| 1/1 [00:00<00:00, 14.92it/s]\n",
      "69it [2:37:11, 132.59s/it]"
     ]
    },
    {
     "name": "stdout",
     "output_type": "stream",
     "text": [
      "    Evaluation Episode 0/1\n",
      "    Average Reward over last 50 episodes: -26845.00\n",
      "    Min Reward over last 50 episodes: -27117.85\n",
      "    Max Reward over last 50 episodes: -26510.06\n",
      "    Evaluation Average Reward: -26817.06\n",
      "\n",
      "Running combination 70/9555 with parameters: {'epsilon': 0.025, 'epsilon_decay': 0.999, 'alpha': 0.6, 'gamma': 0.4, 'no_change_after_lap': 115}\n"
     ]
    },
    {
     "name": "stderr",
     "output_type": "stream",
     "text": []
    },
    {
     "name": "stdout",
     "output_type": "stream",
     "text": [
      "    Training Episode 0/5\n"
     ]
    },
    {
     "name": "stderr",
     "output_type": "stream",
     "text": [
      "100%|██████████| 5/5 [02:11<00:00, 26.22s/it]\n",
      "100%|██████████| 1/1 [00:00<00:00, 14.92it/s]\n",
      "70it [2:39:22, 132.17s/it]"
     ]
    },
    {
     "name": "stdout",
     "output_type": "stream",
     "text": [
      "    Evaluation Episode 0/1\n",
      "    Average Reward over last 50 episodes: -25543.09\n",
      "    Min Reward over last 50 episodes: -25896.65\n",
      "    Max Reward over last 50 episodes: -25347.12\n",
      "    Evaluation Average Reward: -25251.21\n",
      "\n",
      "Running combination 71/9555 with parameters: {'epsilon': 0.025, 'epsilon_decay': 0.995, 'alpha': 0.4, 'gamma': 0.2, 'no_change_after_lap': 115}\n"
     ]
    },
    {
     "name": "stderr",
     "output_type": "stream",
     "text": []
    },
    {
     "name": "stdout",
     "output_type": "stream",
     "text": [
      "    Training Episode 0/5\n"
     ]
    },
    {
     "name": "stderr",
     "output_type": "stream",
     "text": [
      "100%|██████████| 5/5 [02:11<00:00, 26.32s/it]\n",
      "100%|██████████| 1/1 [00:00<00:00, 19.04it/s]\n",
      "71it [2:41:34, 132.02s/it]"
     ]
    },
    {
     "name": "stdout",
     "output_type": "stream",
     "text": [
      "    Evaluation Episode 0/1\n",
      "    Average Reward over last 50 episodes: -25646.94\n",
      "    Min Reward over last 50 episodes: -25769.83\n",
      "    Max Reward over last 50 episodes: -25436.54\n",
      "    Evaluation Average Reward: -25438.65\n",
      "\n",
      "Running combination 72/9555 with parameters: {'epsilon': 0.05, 'epsilon_decay': 0.995, 'alpha': 1.0, 'gamma': 1.0, 'no_change_after_lap': 125}\n"
     ]
    },
    {
     "name": "stderr",
     "output_type": "stream",
     "text": []
    },
    {
     "name": "stdout",
     "output_type": "stream",
     "text": [
      "    Training Episode 0/5\n"
     ]
    },
    {
     "name": "stderr",
     "output_type": "stream",
     "text": [
      "100%|██████████| 5/5 [02:07<00:00, 25.51s/it]\n",
      "100%|██████████| 1/1 [00:00<00:00, 18.34it/s]\n",
      "72it [2:43:41, 130.70s/it]"
     ]
    },
    {
     "name": "stdout",
     "output_type": "stream",
     "text": [
      "    Evaluation Episode 0/1\n",
      "    Average Reward over last 50 episodes: -23239.37\n",
      "    Min Reward over last 50 episodes: -23404.28\n",
      "    Max Reward over last 50 episodes: -22926.16\n",
      "    Evaluation Average Reward: -23213.60\n",
      "\n",
      "Running combination 73/9555 with parameters: {'epsilon': 0.0, 'epsilon_decay': 0.999, 'alpha': 0.8, 'gamma': 0.0, 'no_change_after_lap': 120}\n"
     ]
    },
    {
     "name": "stderr",
     "output_type": "stream",
     "text": []
    },
    {
     "name": "stdout",
     "output_type": "stream",
     "text": [
      "    Training Episode 0/5\n"
     ]
    },
    {
     "name": "stderr",
     "output_type": "stream",
     "text": [
      "100%|██████████| 5/5 [02:13<00:00, 26.60s/it]\n",
      "100%|██████████| 1/1 [00:00<00:00, 15.50it/s]\n",
      "73it [2:45:54, 131.42s/it]"
     ]
    },
    {
     "name": "stdout",
     "output_type": "stream",
     "text": [
      "    Evaluation Episode 0/1\n",
      "    Average Reward over last 50 episodes: -24320.39\n",
      "    Min Reward over last 50 episodes: -24468.04\n",
      "    Max Reward over last 50 episodes: -24117.09\n",
      "    Evaluation Average Reward: -24659.06\n",
      "\n",
      "Running combination 74/9555 with parameters: {'epsilon': 0.025, 'epsilon_decay': 0.995, 'alpha': 0.0, 'gamma': 0.4, 'no_change_after_lap': 150}\n"
     ]
    },
    {
     "name": "stderr",
     "output_type": "stream",
     "text": []
    },
    {
     "name": "stdout",
     "output_type": "stream",
     "text": [
      "    Training Episode 0/5\n"
     ]
    },
    {
     "name": "stderr",
     "output_type": "stream",
     "text": [
      "100%|██████████| 5/5 [01:58<00:00, 23.75s/it]\n",
      "100%|██████████| 1/1 [00:00<00:00, 17.85it/s]\n",
      "74it [2:47:53, 127.64s/it]"
     ]
    },
    {
     "name": "stdout",
     "output_type": "stream",
     "text": [
      "    Evaluation Episode 0/1\n",
      "    Average Reward over last 50 episodes: -17083.74\n",
      "    Min Reward over last 50 episodes: -17318.01\n",
      "    Max Reward over last 50 episodes: -16941.82\n",
      "    Evaluation Average Reward: -16851.57\n",
      "\n",
      "Running combination 75/9555 with parameters: {'epsilon': 0.05, 'epsilon_decay': 0.995, 'alpha': 0.8, 'gamma': 0.8, 'no_change_after_lap': 100}\n"
     ]
    },
    {
     "name": "stderr",
     "output_type": "stream",
     "text": []
    },
    {
     "name": "stdout",
     "output_type": "stream",
     "text": [
      "    Training Episode 0/5\n"
     ]
    },
    {
     "name": "stderr",
     "output_type": "stream",
     "text": [
      "100%|██████████| 5/5 [02:16<00:00, 27.27s/it]\n",
      "100%|██████████| 1/1 [00:00<00:00, 14.28it/s]\n",
      "75it [2:50:10, 130.27s/it]"
     ]
    },
    {
     "name": "stdout",
     "output_type": "stream",
     "text": [
      "    Evaluation Episode 0/1\n",
      "    Average Reward over last 50 episodes: -29400.04\n",
      "    Min Reward over last 50 episodes: -29593.39\n",
      "    Max Reward over last 50 episodes: -29134.31\n",
      "    Evaluation Average Reward: -29510.73\n",
      "\n",
      "Running combination 76/9555 with parameters: {'epsilon': 0.025, 'epsilon_decay': 0.99, 'alpha': 0.2, 'gamma': 0.2, 'no_change_after_lap': 150}\n"
     ]
    },
    {
     "name": "stderr",
     "output_type": "stream",
     "text": []
    },
    {
     "name": "stdout",
     "output_type": "stream",
     "text": [
      "    Training Episode 0/5\n"
     ]
    },
    {
     "name": "stderr",
     "output_type": "stream",
     "text": [
      "100%|██████████| 5/5 [02:13<00:00, 26.71s/it]\n",
      "100%|██████████| 1/1 [00:00<00:00, 16.26it/s]\n",
      "76it [2:52:23, 131.28s/it]"
     ]
    },
    {
     "name": "stdout",
     "output_type": "stream",
     "text": [
      "    Evaluation Episode 0/1\n",
      "    Average Reward over last 50 episodes: -16966.75\n",
      "    Min Reward over last 50 episodes: -17218.00\n",
      "    Max Reward over last 50 episodes: -16828.43\n",
      "    Evaluation Average Reward: -17022.79\n",
      "\n",
      "Running combination 77/9555 with parameters: {'epsilon': 0.2, 'epsilon_decay': 0.995, 'alpha': 0.6, 'gamma': 0.8, 'no_change_after_lap': 120}\n"
     ]
    },
    {
     "name": "stderr",
     "output_type": "stream",
     "text": []
    },
    {
     "name": "stdout",
     "output_type": "stream",
     "text": [
      "    Training Episode 0/5\n"
     ]
    },
    {
     "name": "stderr",
     "output_type": "stream",
     "text": [
      "100%|██████████| 5/5 [02:17<00:00, 27.42s/it]\n",
      "100%|██████████| 1/1 [00:00<00:00, 14.59it/s]\n",
      "77it [2:54:40, 133.05s/it]"
     ]
    },
    {
     "name": "stdout",
     "output_type": "stream",
     "text": [
      "    Evaluation Episode 0/1\n",
      "    Average Reward over last 50 episodes: -24380.00\n",
      "    Min Reward over last 50 episodes: -24682.13\n",
      "    Max Reward over last 50 episodes: -24104.67\n",
      "    Evaluation Average Reward: -24390.31\n",
      "\n",
      "Running combination 78/9555 with parameters: {'epsilon': 0.025, 'epsilon_decay': 0.999, 'alpha': 0.9, 'gamma': 0.4, 'no_change_after_lap': 105}\n"
     ]
    },
    {
     "name": "stderr",
     "output_type": "stream",
     "text": []
    },
    {
     "name": "stdout",
     "output_type": "stream",
     "text": [
      "    Training Episode 0/5\n"
     ]
    },
    {
     "name": "stderr",
     "output_type": "stream",
     "text": [
      "100%|██████████| 5/5 [02:13<00:00, 26.64s/it]\n",
      "100%|██████████| 1/1 [00:00<00:00, 20.40it/s]\n",
      "78it [2:56:54, 133.11s/it]"
     ]
    },
    {
     "name": "stdout",
     "output_type": "stream",
     "text": [
      "    Evaluation Episode 0/1\n",
      "    Average Reward over last 50 episodes: -28173.68\n",
      "    Min Reward over last 50 episodes: -28417.13\n",
      "    Max Reward over last 50 episodes: -28043.50\n",
      "    Evaluation Average Reward: -27937.34\n",
      "\n",
      "Running combination 79/9555 with parameters: {'epsilon': 0.025, 'epsilon_decay': 0.99, 'alpha': 0.9, 'gamma': 1.0, 'no_change_after_lap': 160}\n"
     ]
    },
    {
     "name": "stderr",
     "output_type": "stream",
     "text": []
    },
    {
     "name": "stdout",
     "output_type": "stream",
     "text": [
      "    Training Episode 0/5\n"
     ]
    },
    {
     "name": "stderr",
     "output_type": "stream",
     "text": [
      "100%|██████████| 5/5 [02:14<00:00, 26.86s/it]\n",
      "100%|██████████| 1/1 [00:00<00:00, 15.27it/s]\n",
      "79it [2:59:08, 133.49s/it]"
     ]
    },
    {
     "name": "stdout",
     "output_type": "stream",
     "text": [
      "    Evaluation Episode 0/1\n",
      "    Average Reward over last 50 episodes: -16078.36\n",
      "    Min Reward over last 50 episodes: -16117.53\n",
      "    Max Reward over last 50 episodes: -16016.52\n",
      "    Evaluation Average Reward: -16157.71\n",
      "\n",
      "Running combination 80/9555 with parameters: {'epsilon': 0.0, 'epsilon_decay': 0.99, 'alpha': 1.0, 'gamma': 1.0, 'no_change_after_lap': 100}\n"
     ]
    },
    {
     "name": "stderr",
     "output_type": "stream",
     "text": []
    },
    {
     "name": "stdout",
     "output_type": "stream",
     "text": [
      "    Training Episode 0/5\n"
     ]
    },
    {
     "name": "stderr",
     "output_type": "stream",
     "text": [
      "100%|██████████| 5/5 [02:12<00:00, 26.42s/it]\n",
      "100%|██████████| 1/1 [00:00<00:00, 15.75it/s]\n",
      "80it [3:01:20, 133.09s/it]"
     ]
    },
    {
     "name": "stdout",
     "output_type": "stream",
     "text": [
      "    Evaluation Episode 0/1\n",
      "    Average Reward over last 50 episodes: -29420.19\n",
      "    Min Reward over last 50 episodes: -29669.64\n",
      "    Max Reward over last 50 episodes: -29074.41\n",
      "    Evaluation Average Reward: -28997.61\n",
      "\n",
      "Running combination 81/9555 with parameters: {'epsilon': 0.0, 'epsilon_decay': 0.999, 'alpha': 0.0, 'gamma': 1.0, 'no_change_after_lap': 125}\n"
     ]
    },
    {
     "name": "stderr",
     "output_type": "stream",
     "text": []
    },
    {
     "name": "stdout",
     "output_type": "stream",
     "text": [
      "    Training Episode 0/5\n"
     ]
    },
    {
     "name": "stderr",
     "output_type": "stream",
     "text": [
      "100%|██████████| 5/5 [01:55<00:00, 23.00s/it]\n",
      "100%|██████████| 1/1 [00:00<00:00, 15.87it/s]\n",
      "81it [3:03:15, 127.69s/it]"
     ]
    },
    {
     "name": "stdout",
     "output_type": "stream",
     "text": [
      "    Evaluation Episode 0/1\n",
      "    Average Reward over last 50 episodes: -23170.50\n",
      "    Min Reward over last 50 episodes: -23368.80\n",
      "    Max Reward over last 50 episodes: -22884.37\n",
      "    Evaluation Average Reward: -22801.70\n",
      "\n",
      "Running combination 82/9555 with parameters: {'epsilon': 0.0, 'epsilon_decay': 0.99, 'alpha': 0.4, 'gamma': 0.2, 'no_change_after_lap': 125}\n"
     ]
    },
    {
     "name": "stderr",
     "output_type": "stream",
     "text": []
    },
    {
     "name": "stdout",
     "output_type": "stream",
     "text": [
      "    Training Episode 0/5\n"
     ]
    },
    {
     "name": "stderr",
     "output_type": "stream",
     "text": [
      "100%|██████████| 5/5 [01:59<00:00, 23.94s/it]\n",
      "100%|██████████| 1/1 [00:00<00:00, 16.39it/s]\n",
      "82it [3:05:15, 125.32s/it]"
     ]
    },
    {
     "name": "stdout",
     "output_type": "stream",
     "text": [
      "    Evaluation Episode 0/1\n",
      "    Average Reward over last 50 episodes: -23113.45\n",
      "    Min Reward over last 50 episodes: -23382.76\n",
      "    Max Reward over last 50 episodes: -22764.17\n",
      "    Evaluation Average Reward: -23079.49\n",
      "\n",
      "Running combination 83/9555 with parameters: {'epsilon': 0.1, 'epsilon_decay': 0.999, 'alpha': 0.6, 'gamma': 0.8, 'no_change_after_lap': 155}\n"
     ]
    },
    {
     "name": "stderr",
     "output_type": "stream",
     "text": []
    },
    {
     "name": "stdout",
     "output_type": "stream",
     "text": [
      "    Training Episode 0/5\n"
     ]
    },
    {
     "name": "stderr",
     "output_type": "stream",
     "text": [
      "100%|██████████| 5/5 [02:05<00:00, 25.14s/it]\n",
      "100%|██████████| 1/1 [00:00<00:00, 13.07it/s]\n",
      "83it [3:07:21, 125.46s/it]"
     ]
    },
    {
     "name": "stdout",
     "output_type": "stream",
     "text": [
      "    Evaluation Episode 0/1\n",
      "    Average Reward over last 50 episodes: -16333.12\n",
      "    Min Reward over last 50 episodes: -16418.53\n",
      "    Max Reward over last 50 episodes: -16181.68\n",
      "    Evaluation Average Reward: -16439.71\n",
      "\n",
      "Running combination 84/9555 with parameters: {'epsilon': 0.2, 'epsilon_decay': 0.99, 'alpha': 0.9, 'gamma': 0.6, 'no_change_after_lap': 155}\n"
     ]
    },
    {
     "name": "stderr",
     "output_type": "stream",
     "text": []
    },
    {
     "name": "stdout",
     "output_type": "stream",
     "text": [
      "    Training Episode 0/5\n"
     ]
    },
    {
     "name": "stderr",
     "output_type": "stream",
     "text": [
      "100%|██████████| 5/5 [02:05<00:00, 25.12s/it]\n",
      "100%|██████████| 1/1 [00:00<00:00, 16.39it/s]\n",
      "84it [3:09:26, 125.53s/it]"
     ]
    },
    {
     "name": "stdout",
     "output_type": "stream",
     "text": [
      "    Evaluation Episode 0/1\n",
      "    Average Reward over last 50 episodes: -16347.25\n",
      "    Min Reward over last 50 episodes: -16417.95\n",
      "    Max Reward over last 50 episodes: -16215.17\n",
      "    Evaluation Average Reward: -16306.34\n",
      "\n",
      "Running combination 85/9555 with parameters: {'epsilon': 0.025, 'epsilon_decay': 0.99, 'alpha': 1.0, 'gamma': 0.4, 'no_change_after_lap': 130}\n"
     ]
    },
    {
     "name": "stderr",
     "output_type": "stream",
     "text": []
    },
    {
     "name": "stdout",
     "output_type": "stream",
     "text": [
      "    Training Episode 0/5\n"
     ]
    },
    {
     "name": "stderr",
     "output_type": "stream",
     "text": [
      "100%|██████████| 5/5 [02:01<00:00, 24.27s/it]\n",
      "100%|██████████| 1/1 [00:00<00:00, 19.04it/s]\n",
      "85it [3:11:28, 124.29s/it]"
     ]
    },
    {
     "name": "stdout",
     "output_type": "stream",
     "text": [
      "    Evaluation Episode 0/1\n",
      "    Average Reward over last 50 episodes: -21844.19\n",
      "    Min Reward over last 50 episodes: -22035.33\n",
      "    Max Reward over last 50 episodes: -21491.83\n",
      "    Evaluation Average Reward: -22118.53\n",
      "\n",
      "Running combination 86/9555 with parameters: {'epsilon': 0.05, 'epsilon_decay': 0.999, 'alpha': 0.8, 'gamma': 1.0, 'no_change_after_lap': 130}\n"
     ]
    },
    {
     "name": "stderr",
     "output_type": "stream",
     "text": []
    },
    {
     "name": "stdout",
     "output_type": "stream",
     "text": [
      "    Training Episode 0/5\n"
     ]
    },
    {
     "name": "stderr",
     "output_type": "stream",
     "text": [
      "100%|██████████| 5/5 [02:00<00:00, 24.06s/it]\n",
      "100%|██████████| 1/1 [00:00<00:00, 16.94it/s]\n",
      "86it [3:13:28, 123.12s/it]"
     ]
    },
    {
     "name": "stdout",
     "output_type": "stream",
     "text": [
      "    Evaluation Episode 0/1\n",
      "    Average Reward over last 50 episodes: -21862.15\n",
      "    Min Reward over last 50 episodes: -22026.01\n",
      "    Max Reward over last 50 episodes: -21712.76\n",
      "    Evaluation Average Reward: -21444.53\n",
      "\n",
      "Running combination 87/9555 with parameters: {'epsilon': 0.1, 'epsilon_decay': 0.99, 'alpha': 0.4, 'gamma': 0.4, 'no_change_after_lap': 140}\n"
     ]
    },
    {
     "name": "stderr",
     "output_type": "stream",
     "text": []
    },
    {
     "name": "stdout",
     "output_type": "stream",
     "text": [
      "    Training Episode 0/5\n"
     ]
    },
    {
     "name": "stderr",
     "output_type": "stream",
     "text": [
      "100%|██████████| 5/5 [01:57<00:00, 23.56s/it]\n",
      "100%|██████████| 1/1 [00:00<00:00, 16.00it/s]\n",
      "87it [3:15:26, 121.55s/it]"
     ]
    },
    {
     "name": "stdout",
     "output_type": "stream",
     "text": [
      "    Evaluation Episode 0/1\n",
      "    Average Reward over last 50 episodes: -19283.56\n",
      "    Min Reward over last 50 episodes: -19588.19\n",
      "    Max Reward over last 50 episodes: -19070.08\n",
      "    Evaluation Average Reward: -19182.67\n",
      "\n",
      "Running combination 88/9555 with parameters: {'epsilon': 0.1, 'epsilon_decay': 0.99, 'alpha': 0.0, 'gamma': 0.9, 'no_change_after_lap': 105}\n"
     ]
    },
    {
     "name": "stderr",
     "output_type": "stream",
     "text": []
    },
    {
     "name": "stdout",
     "output_type": "stream",
     "text": [
      "    Training Episode 0/5\n"
     ]
    },
    {
     "name": "stderr",
     "output_type": "stream",
     "text": [
      "100%|██████████| 5/5 [01:56<00:00, 23.29s/it]\n",
      "100%|██████████| 1/1 [00:00<00:00, 16.12it/s]\n",
      "88it [3:17:23, 120.04s/it]"
     ]
    },
    {
     "name": "stdout",
     "output_type": "stream",
     "text": [
      "    Evaluation Episode 0/1\n",
      "    Average Reward over last 50 episodes: -28087.84\n",
      "    Min Reward over last 50 episodes: -28306.54\n",
      "    Max Reward over last 50 episodes: -27871.13\n",
      "    Evaluation Average Reward: -28213.11\n",
      "\n",
      "Running combination 89/9555 with parameters: {'epsilon': 0.025, 'epsilon_decay': 0.99, 'alpha': 0.6, 'gamma': 0.9, 'no_change_after_lap': 110}\n"
     ]
    },
    {
     "name": "stderr",
     "output_type": "stream",
     "text": []
    },
    {
     "name": "stdout",
     "output_type": "stream",
     "text": [
      "    Training Episode 0/5\n"
     ]
    },
    {
     "name": "stderr",
     "output_type": "stream",
     "text": [
      "100%|██████████| 5/5 [01:59<00:00, 23.98s/it]\n",
      "100%|██████████| 1/1 [00:00<00:00, 16.26it/s]\n",
      "89it [3:19:23, 120.03s/it]"
     ]
    },
    {
     "name": "stdout",
     "output_type": "stream",
     "text": [
      "    Evaluation Episode 0/1\n",
      "    Average Reward over last 50 episodes: -27048.24\n",
      "    Min Reward over last 50 episodes: -27203.46\n",
      "    Max Reward over last 50 episodes: -26787.84\n",
      "    Evaluation Average Reward: -26604.00\n",
      "\n",
      "Running combination 90/9555 with parameters: {'epsilon': 0.2, 'epsilon_decay': 0.999, 'alpha': 0.8, 'gamma': 0.0, 'no_change_after_lap': 125}\n"
     ]
    },
    {
     "name": "stderr",
     "output_type": "stream",
     "text": []
    },
    {
     "name": "stdout",
     "output_type": "stream",
     "text": [
      "    Training Episode 0/5\n"
     ]
    },
    {
     "name": "stderr",
     "output_type": "stream",
     "text": [
      "100%|██████████| 5/5 [02:05<00:00, 25.19s/it]\n",
      "100%|██████████| 1/1 [00:00<00:00, 15.62it/s]\n",
      "90it [3:21:29, 121.82s/it]"
     ]
    },
    {
     "name": "stdout",
     "output_type": "stream",
     "text": [
      "    Evaluation Episode 0/1\n",
      "    Average Reward over last 50 episodes: -23070.93\n",
      "    Min Reward over last 50 episodes: -23302.15\n",
      "    Max Reward over last 50 episodes: -22735.30\n",
      "    Evaluation Average Reward: -23350.89\n",
      "\n",
      "Running combination 91/9555 with parameters: {'epsilon': 0.0, 'epsilon_decay': 0.995, 'alpha': 0.0, 'gamma': 0.0, 'no_change_after_lap': 110}\n"
     ]
    },
    {
     "name": "stderr",
     "output_type": "stream",
     "text": []
    },
    {
     "name": "stdout",
     "output_type": "stream",
     "text": [
      "    Training Episode 0/5\n"
     ]
    },
    {
     "name": "stderr",
     "output_type": "stream",
     "text": [
      "100%|██████████| 5/5 [01:46<00:00, 21.35s/it]\n",
      "100%|██████████| 1/1 [00:00<00:00, 21.05it/s]\n",
      "91it [3:23:15, 117.31s/it]"
     ]
    },
    {
     "name": "stdout",
     "output_type": "stream",
     "text": [
      "    Evaluation Episode 0/1\n",
      "    Average Reward over last 50 episodes: -26899.27\n",
      "    Min Reward over last 50 episodes: -27120.01\n",
      "    Max Reward over last 50 episodes: -26535.20\n",
      "    Evaluation Average Reward: -26601.11\n",
      "\n",
      "Running combination 92/9555 with parameters: {'epsilon': 0.1, 'epsilon_decay': 0.995, 'alpha': 0.6, 'gamma': 0.6, 'no_change_after_lap': 130}\n"
     ]
    },
    {
     "name": "stderr",
     "output_type": "stream",
     "text": []
    },
    {
     "name": "stdout",
     "output_type": "stream",
     "text": [
      "    Training Episode 0/5\n"
     ]
    },
    {
     "name": "stderr",
     "output_type": "stream",
     "text": [
      "100%|██████████| 5/5 [02:07<00:00, 25.55s/it]\n",
      "100%|██████████| 1/1 [00:00<00:00, 17.09it/s]\n",
      "92it [3:25:23, 120.47s/it]"
     ]
    },
    {
     "name": "stdout",
     "output_type": "stream",
     "text": [
      "    Evaluation Episode 0/1\n",
      "    Average Reward over last 50 episodes: -21870.71\n",
      "    Min Reward over last 50 episodes: -22046.13\n",
      "    Max Reward over last 50 episodes: -21741.68\n",
      "    Evaluation Average Reward: -22005.22\n",
      "\n",
      "Running combination 93/9555 with parameters: {'epsilon': 0.05, 'epsilon_decay': 0.999, 'alpha': 0.2, 'gamma': 0.8, 'no_change_after_lap': 120}\n"
     ]
    },
    {
     "name": "stderr",
     "output_type": "stream",
     "text": []
    },
    {
     "name": "stdout",
     "output_type": "stream",
     "text": [
      "    Training Episode 0/5\n"
     ]
    },
    {
     "name": "stderr",
     "output_type": "stream",
     "text": [
      "100%|██████████| 5/5 [01:56<00:00, 23.36s/it]\n",
      "100%|██████████| 1/1 [00:00<00:00, 17.09it/s]\n",
      "93it [3:27:20, 119.39s/it]"
     ]
    },
    {
     "name": "stdout",
     "output_type": "stream",
     "text": [
      "    Evaluation Episode 0/1\n",
      "    Average Reward over last 50 episodes: -24177.99\n",
      "    Min Reward over last 50 episodes: -24499.96\n",
      "    Max Reward over last 50 episodes: -24008.56\n",
      "    Evaluation Average Reward: -24231.17\n",
      "\n",
      "Running combination 94/9555 with parameters: {'epsilon': 0.0, 'epsilon_decay': 0.995, 'alpha': 0.2, 'gamma': 0.2, 'no_change_after_lap': 105}\n"
     ]
    },
    {
     "name": "stderr",
     "output_type": "stream",
     "text": []
    },
    {
     "name": "stdout",
     "output_type": "stream",
     "text": [
      "    Training Episode 0/5\n"
     ]
    },
    {
     "name": "stderr",
     "output_type": "stream",
     "text": [
      "100%|██████████| 5/5 [02:01<00:00, 24.35s/it]\n",
      "100%|██████████| 1/1 [00:00<00:00, 17.54it/s]\n",
      "94it [3:29:22, 120.12s/it]"
     ]
    },
    {
     "name": "stdout",
     "output_type": "stream",
     "text": [
      "    Evaluation Episode 0/1\n",
      "    Average Reward over last 50 episodes: -28147.82\n",
      "    Min Reward over last 50 episodes: -28416.32\n",
      "    Max Reward over last 50 episodes: -27712.82\n",
      "    Evaluation Average Reward: -28125.60\n",
      "\n",
      "Running combination 95/9555 with parameters: {'epsilon': 0.0, 'epsilon_decay': 0.999, 'alpha': 0.9, 'gamma': 0.8, 'no_change_after_lap': 125}\n"
     ]
    },
    {
     "name": "stderr",
     "output_type": "stream",
     "text": []
    },
    {
     "name": "stdout",
     "output_type": "stream",
     "text": [
      "    Training Episode 0/5\n"
     ]
    },
    {
     "name": "stderr",
     "output_type": "stream",
     "text": [
      "100%|██████████| 5/5 [02:04<00:00, 24.88s/it]\n",
      "100%|██████████| 1/1 [00:00<00:00, 19.04it/s]\n",
      "95it [3:31:26, 121.42s/it]"
     ]
    },
    {
     "name": "stdout",
     "output_type": "stream",
     "text": [
      "    Evaluation Episode 0/1\n",
      "    Average Reward over last 50 episodes: -23140.93\n",
      "    Min Reward over last 50 episodes: -23314.16\n",
      "    Max Reward over last 50 episodes: -22958.27\n",
      "    Evaluation Average Reward: -22932.37\n",
      "\n",
      "Running combination 96/9555 with parameters: {'epsilon': 0.05, 'epsilon_decay': 0.995, 'alpha': 0.6, 'gamma': 1.0, 'no_change_after_lap': 100}\n"
     ]
    },
    {
     "name": "stderr",
     "output_type": "stream",
     "text": []
    },
    {
     "name": "stdout",
     "output_type": "stream",
     "text": [
      "    Training Episode 0/5\n"
     ]
    },
    {
     "name": "stderr",
     "output_type": "stream",
     "text": [
      "100%|██████████| 5/5 [01:57<00:00, 23.55s/it]\n",
      "100%|██████████| 1/1 [00:00<00:00, 17.39it/s]\n",
      "96it [3:33:24, 120.34s/it]"
     ]
    },
    {
     "name": "stdout",
     "output_type": "stream",
     "text": [
      "    Evaluation Episode 0/1\n",
      "    Average Reward over last 50 episodes: -29480.86\n",
      "    Min Reward over last 50 episodes: -29643.92\n",
      "    Max Reward over last 50 episodes: -29245.21\n",
      "    Evaluation Average Reward: -29125.36\n",
      "\n",
      "Running combination 97/9555 with parameters: {'epsilon': 0.2, 'epsilon_decay': 0.999, 'alpha': 0.2, 'gamma': 0.8, 'no_change_after_lap': 120}\n"
     ]
    },
    {
     "name": "stderr",
     "output_type": "stream",
     "text": []
    },
    {
     "name": "stdout",
     "output_type": "stream",
     "text": [
      "    Training Episode 0/5\n"
     ]
    },
    {
     "name": "stderr",
     "output_type": "stream",
     "text": [
      "100%|██████████| 5/5 [02:02<00:00, 24.57s/it]\n",
      "100%|██████████| 1/1 [00:00<00:00, 13.89it/s]\n",
      "97it [3:35:27, 121.12s/it]"
     ]
    },
    {
     "name": "stdout",
     "output_type": "stream",
     "text": [
      "    Evaluation Episode 0/1\n",
      "    Average Reward over last 50 episodes: -24367.49\n",
      "    Min Reward over last 50 episodes: -24615.95\n",
      "    Max Reward over last 50 episodes: -24011.36\n",
      "    Evaluation Average Reward: -24378.96\n",
      "\n",
      "Running combination 98/9555 with parameters: {'epsilon': 0.2, 'epsilon_decay': 0.999, 'alpha': 1.0, 'gamma': 0.9, 'no_change_after_lap': 155}\n"
     ]
    },
    {
     "name": "stderr",
     "output_type": "stream",
     "text": []
    },
    {
     "name": "stdout",
     "output_type": "stream",
     "text": [
      "    Training Episode 0/5\n"
     ]
    },
    {
     "name": "stderr",
     "output_type": "stream",
     "text": [
      "100%|██████████| 5/5 [02:00<00:00, 24.20s/it]\n",
      "100%|██████████| 1/1 [00:00<00:00, 14.92it/s]\n",
      "98it [3:37:28, 121.11s/it]"
     ]
    },
    {
     "name": "stdout",
     "output_type": "stream",
     "text": [
      "    Evaluation Episode 0/1\n",
      "    Average Reward over last 50 episodes: -16393.91\n",
      "    Min Reward over last 50 episodes: -16453.38\n",
      "    Max Reward over last 50 episodes: -16299.87\n",
      "    Evaluation Average Reward: -16279.54\n",
      "\n",
      "Running combination 99/9555 with parameters: {'epsilon': 0.0, 'epsilon_decay': 0.995, 'alpha': 0.6, 'gamma': 0.0, 'no_change_after_lap': 145}\n"
     ]
    },
    {
     "name": "stderr",
     "output_type": "stream",
     "text": []
    },
    {
     "name": "stdout",
     "output_type": "stream",
     "text": [
      "    Training Episode 0/5\n"
     ]
    },
    {
     "name": "stderr",
     "output_type": "stream",
     "text": [
      "100%|██████████| 5/5 [01:55<00:00, 23.06s/it]\n",
      "100%|██████████| 1/1 [00:00<00:00, 15.62it/s]\n",
      "99it [3:39:24, 119.39s/it]"
     ]
    },
    {
     "name": "stdout",
     "output_type": "stream",
     "text": [
      "    Evaluation Episode 0/1\n",
      "    Average Reward over last 50 episodes: -18018.37\n",
      "    Min Reward over last 50 episodes: -18308.96\n",
      "    Max Reward over last 50 episodes: -17830.24\n",
      "    Evaluation Average Reward: -18427.00\n",
      "\n",
      "Running combination 100/9555 with parameters: {'epsilon': 0.1, 'epsilon_decay': 0.995, 'alpha': 1.0, 'gamma': 0.0, 'no_change_after_lap': 110}\n"
     ]
    },
    {
     "name": "stderr",
     "output_type": "stream",
     "text": []
    },
    {
     "name": "stdout",
     "output_type": "stream",
     "text": [
      "    Training Episode 0/5\n"
     ]
    },
    {
     "name": "stderr",
     "output_type": "stream",
     "text": [
      "100%|██████████| 5/5 [01:55<00:00, 23.16s/it]\n",
      "100%|██████████| 1/1 [00:00<00:00, 17.69it/s]\n",
      "100it [3:41:20, 118.33s/it]"
     ]
    },
    {
     "name": "stdout",
     "output_type": "stream",
     "text": [
      "    Evaluation Episode 0/1\n",
      "    Average Reward over last 50 episodes: -26831.99\n",
      "    Min Reward over last 50 episodes: -27100.51\n",
      "    Max Reward over last 50 episodes: -26631.70\n",
      "    Evaluation Average Reward: -26764.89\n",
      "\n",
      "Running combination 101/9555 with parameters: {'epsilon': 0.1, 'epsilon_decay': 0.999, 'alpha': 0.4, 'gamma': 0.0, 'no_change_after_lap': 120}\n"
     ]
    },
    {
     "name": "stderr",
     "output_type": "stream",
     "text": []
    },
    {
     "name": "stdout",
     "output_type": "stream",
     "text": [
      "    Training Episode 0/5\n"
     ]
    },
    {
     "name": "stderr",
     "output_type": "stream",
     "text": [
      "100%|██████████| 5/5 [01:59<00:00, 24.00s/it]\n",
      "100%|██████████| 1/1 [00:00<00:00, 14.70it/s]\n",
      "101it [3:43:20, 118.85s/it]"
     ]
    },
    {
     "name": "stdout",
     "output_type": "stream",
     "text": [
      "    Evaluation Episode 0/1\n",
      "    Average Reward over last 50 episodes: -24365.65\n",
      "    Min Reward over last 50 episodes: -24629.72\n",
      "    Max Reward over last 50 episodes: -24184.66\n",
      "    Evaluation Average Reward: -24231.92\n",
      "\n",
      "Running combination 102/9555 with parameters: {'epsilon': 0.0, 'epsilon_decay': 0.99, 'alpha': 0.6, 'gamma': 0.6, 'no_change_after_lap': 145}\n"
     ]
    },
    {
     "name": "stderr",
     "output_type": "stream",
     "text": []
    },
    {
     "name": "stdout",
     "output_type": "stream",
     "text": [
      "    Training Episode 0/5\n"
     ]
    },
    {
     "name": "stderr",
     "output_type": "stream",
     "text": [
      "100%|██████████| 5/5 [02:01<00:00, 24.21s/it]\n",
      "100%|██████████| 1/1 [00:00<00:00, 17.69it/s]\n",
      "102it [3:45:21, 119.53s/it]"
     ]
    },
    {
     "name": "stdout",
     "output_type": "stream",
     "text": [
      "    Evaluation Episode 0/1\n",
      "    Average Reward over last 50 episodes: -18296.30\n",
      "    Min Reward over last 50 episodes: -18393.94\n",
      "    Max Reward over last 50 episodes: -18010.93\n",
      "    Evaluation Average Reward: -18151.81\n",
      "\n",
      "Running combination 103/9555 with parameters: {'epsilon': 0.1, 'epsilon_decay': 0.99, 'alpha': 0.6, 'gamma': 0.6, 'no_change_after_lap': 140}\n"
     ]
    },
    {
     "name": "stderr",
     "output_type": "stream",
     "text": []
    },
    {
     "name": "stdout",
     "output_type": "stream",
     "text": [
      "    Training Episode 0/5\n"
     ]
    },
    {
     "name": "stderr",
     "output_type": "stream",
     "text": [
      "100%|██████████| 5/5 [02:10<00:00, 26.01s/it]\n",
      "100%|██████████| 1/1 [00:00<00:00, 14.93it/s]\n",
      "103it [3:47:31, 122.71s/it]"
     ]
    },
    {
     "name": "stdout",
     "output_type": "stream",
     "text": [
      "    Evaluation Episode 0/1\n",
      "    Average Reward over last 50 episodes: -19384.80\n",
      "    Min Reward over last 50 episodes: -19639.61\n",
      "    Max Reward over last 50 episodes: -19097.77\n",
      "    Evaluation Average Reward: -19464.58\n",
      "\n",
      "Running combination 104/9555 with parameters: {'epsilon': 0.05, 'epsilon_decay': 0.999, 'alpha': 0.0, 'gamma': 0.9, 'no_change_after_lap': 145}\n"
     ]
    },
    {
     "name": "stderr",
     "output_type": "stream",
     "text": []
    },
    {
     "name": "stdout",
     "output_type": "stream",
     "text": [
      "    Training Episode 0/5\n"
     ]
    },
    {
     "name": "stderr",
     "output_type": "stream",
     "text": [
      "100%|██████████| 5/5 [01:51<00:00, 22.35s/it]\n",
      "100%|██████████| 1/1 [00:00<00:00, 18.35it/s]\n",
      "104it [3:49:23, 119.44s/it]"
     ]
    },
    {
     "name": "stdout",
     "output_type": "stream",
     "text": [
      "    Evaluation Episode 0/1\n",
      "    Average Reward over last 50 episodes: -18239.24\n",
      "    Min Reward over last 50 episodes: -18365.22\n",
      "    Max Reward over last 50 episodes: -17919.14\n",
      "    Evaluation Average Reward: -18067.62\n",
      "\n",
      "Running combination 105/9555 with parameters: {'epsilon': 0.2, 'epsilon_decay': 0.99, 'alpha': 0.2, 'gamma': 0.4, 'no_change_after_lap': 145}\n"
     ]
    },
    {
     "name": "stderr",
     "output_type": "stream",
     "text": []
    },
    {
     "name": "stdout",
     "output_type": "stream",
     "text": [
      "    Training Episode 0/5\n"
     ]
    },
    {
     "name": "stderr",
     "output_type": "stream",
     "text": [
      "100%|██████████| 5/5 [02:05<00:00, 25.01s/it]\n",
      "100%|██████████| 1/1 [00:00<00:00, 19.23it/s]\n",
      "105it [3:51:28, 121.15s/it]"
     ]
    },
    {
     "name": "stdout",
     "output_type": "stream",
     "text": [
      "    Evaluation Episode 0/1\n",
      "    Average Reward over last 50 episodes: -18073.11\n",
      "    Min Reward over last 50 episodes: -18330.48\n",
      "    Max Reward over last 50 episodes: -17838.26\n",
      "    Evaluation Average Reward: -17817.19\n",
      "\n",
      "Running combination 106/9555 with parameters: {'epsilon': 0.2, 'epsilon_decay': 0.999, 'alpha': 0.8, 'gamma': 0.9, 'no_change_after_lap': 130}\n"
     ]
    },
    {
     "name": "stderr",
     "output_type": "stream",
     "text": []
    },
    {
     "name": "stdout",
     "output_type": "stream",
     "text": [
      "    Training Episode 0/5\n"
     ]
    },
    {
     "name": "stderr",
     "output_type": "stream",
     "text": [
      "100%|██████████| 5/5 [02:05<00:00, 25.01s/it]\n",
      "100%|██████████| 1/1 [00:00<00:00, 15.75it/s]\n",
      "106it [3:53:33, 122.34s/it]"
     ]
    },
    {
     "name": "stdout",
     "output_type": "stream",
     "text": [
      "    Evaluation Episode 0/1\n",
      "    Average Reward over last 50 episodes: -21722.17\n",
      "    Min Reward over last 50 episodes: -22101.33\n",
      "    Max Reward over last 50 episodes: -21491.31\n",
      "    Evaluation Average Reward: -22101.26\n",
      "\n",
      "Running combination 107/9555 with parameters: {'epsilon': 0.1, 'epsilon_decay': 0.99, 'alpha': 0.2, 'gamma': 0.4, 'no_change_after_lap': 100}\n"
     ]
    },
    {
     "name": "stderr",
     "output_type": "stream",
     "text": []
    },
    {
     "name": "stdout",
     "output_type": "stream",
     "text": [
      "    Training Episode 0/5\n"
     ]
    },
    {
     "name": "stderr",
     "output_type": "stream",
     "text": [
      "100%|██████████| 5/5 [01:59<00:00, 23.93s/it]\n",
      "100%|██████████| 1/1 [00:00<00:00, 18.86it/s]\n",
      "107it [3:55:33, 121.56s/it]"
     ]
    },
    {
     "name": "stdout",
     "output_type": "stream",
     "text": [
      "    Evaluation Episode 0/1\n",
      "    Average Reward over last 50 episodes: -29383.02\n",
      "    Min Reward over last 50 episodes: -29703.01\n",
      "    Max Reward over last 50 episodes: -28954.89\n",
      "    Evaluation Average Reward: -29456.90\n",
      "\n",
      "Running combination 108/9555 with parameters: {'epsilon': 0.05, 'epsilon_decay': 0.995, 'alpha': 0.8, 'gamma': 0.9, 'no_change_after_lap': 110}\n"
     ]
    },
    {
     "name": "stderr",
     "output_type": "stream",
     "text": []
    },
    {
     "name": "stdout",
     "output_type": "stream",
     "text": [
      "    Training Episode 0/5\n"
     ]
    },
    {
     "name": "stderr",
     "output_type": "stream",
     "text": [
      "100%|██████████| 5/5 [02:03<00:00, 24.67s/it]\n",
      "100%|██████████| 1/1 [00:00<00:00, 16.80it/s]\n",
      "108it [3:57:36, 122.11s/it]"
     ]
    },
    {
     "name": "stdout",
     "output_type": "stream",
     "text": [
      "    Evaluation Episode 0/1\n",
      "    Average Reward over last 50 episodes: -26889.11\n",
      "    Min Reward over last 50 episodes: -27101.58\n",
      "    Max Reward over last 50 episodes: -26702.07\n",
      "    Evaluation Average Reward: -27000.51\n",
      "\n",
      "Running combination 109/9555 with parameters: {'epsilon': 0.025, 'epsilon_decay': 0.99, 'alpha': 1.0, 'gamma': 0.6, 'no_change_after_lap': 105}\n"
     ]
    },
    {
     "name": "stderr",
     "output_type": "stream",
     "text": []
    },
    {
     "name": "stdout",
     "output_type": "stream",
     "text": [
      "    Training Episode 0/5\n"
     ]
    },
    {
     "name": "stderr",
     "output_type": "stream",
     "text": [
      "100%|██████████| 5/5 [02:04<00:00, 24.80s/it]\n",
      "100%|██████████| 1/1 [00:00<00:00, 21.05it/s]\n",
      "109it [3:59:40, 122.70s/it]"
     ]
    },
    {
     "name": "stdout",
     "output_type": "stream",
     "text": [
      "    Evaluation Episode 0/1\n",
      "    Average Reward over last 50 episodes: -28221.18\n",
      "    Min Reward over last 50 episodes: -28386.44\n",
      "    Max Reward over last 50 episodes: -27888.38\n",
      "    Evaluation Average Reward: -27913.30\n",
      "SKIPPING\n",
      "\n",
      "Running combination 110/9555 with parameters: {'epsilon': 0.1, 'epsilon_decay': 0.995, 'alpha': 0.8, 'gamma': 0.2, 'no_change_after_lap': 115}\n"
     ]
    },
    {
     "name": "stderr",
     "output_type": "stream",
     "text": []
    },
    {
     "name": "stdout",
     "output_type": "stream",
     "text": [
      "    Training Episode 0/5\n"
     ]
    },
    {
     "name": "stderr",
     "output_type": "stream",
     "text": [
      "100%|██████████| 5/5 [02:01<00:00, 24.38s/it]\n",
      "100%|██████████| 1/1 [00:00<00:00, 15.27it/s]\n",
      "110it [4:01:42, 122.48s/it]"
     ]
    },
    {
     "name": "stdout",
     "output_type": "stream",
     "text": [
      "    Evaluation Episode 0/1\n",
      "    Average Reward over last 50 episodes: -25528.33\n",
      "    Min Reward over last 50 episodes: -25768.69\n",
      "    Max Reward over last 50 episodes: -25208.95\n",
      "    Evaluation Average Reward: -25738.78\n",
      "\n",
      "Running combination 111/9555 with parameters: {'epsilon': 0.05, 'epsilon_decay': 0.99, 'alpha': 0.6, 'gamma': 0.4, 'no_change_after_lap': 130}\n"
     ]
    },
    {
     "name": "stderr",
     "output_type": "stream",
     "text": []
    },
    {
     "name": "stdout",
     "output_type": "stream",
     "text": [
      "    Training Episode 0/5\n"
     ]
    },
    {
     "name": "stderr",
     "output_type": "stream",
     "text": [
      "100%|██████████| 5/5 [02:00<00:00, 24.03s/it]\n",
      "100%|██████████| 1/1 [00:00<00:00, 17.09it/s]\n",
      "111it [4:03:42, 121.81s/it]"
     ]
    },
    {
     "name": "stdout",
     "output_type": "stream",
     "text": [
      "    Evaluation Episode 0/1\n",
      "    Average Reward over last 50 episodes: -21686.42\n",
      "    Min Reward over last 50 episodes: -21891.79\n",
      "    Max Reward over last 50 episodes: -21532.56\n",
      "    Evaluation Average Reward: -22036.26\n",
      "\n",
      "Running combination 112/9555 with parameters: {'epsilon': 0.2, 'epsilon_decay': 0.999, 'alpha': 0.8, 'gamma': 0.6, 'no_change_after_lap': 115}\n"
     ]
    },
    {
     "name": "stderr",
     "output_type": "stream",
     "text": []
    },
    {
     "name": "stdout",
     "output_type": "stream",
     "text": [
      "    Training Episode 0/5\n"
     ]
    },
    {
     "name": "stderr",
     "output_type": "stream",
     "text": [
      "100%|██████████| 5/5 [02:06<00:00, 25.37s/it]\n",
      "100%|██████████| 1/1 [00:00<00:00, 14.81it/s]\n",
      "112it [4:05:49, 123.34s/it]"
     ]
    },
    {
     "name": "stdout",
     "output_type": "stream",
     "text": [
      "    Evaluation Episode 0/1\n",
      "    Average Reward over last 50 episodes: -25603.04\n",
      "    Min Reward over last 50 episodes: -25840.48\n",
      "    Max Reward over last 50 episodes: -25192.28\n",
      "    Evaluation Average Reward: -25690.96\n",
      "\n",
      "Running combination 113/9555 with parameters: {'epsilon': 0.1, 'epsilon_decay': 0.999, 'alpha': 0.0, 'gamma': 0.8, 'no_change_after_lap': 125}\n"
     ]
    },
    {
     "name": "stderr",
     "output_type": "stream",
     "text": []
    },
    {
     "name": "stdout",
     "output_type": "stream",
     "text": [
      "    Training Episode 0/5\n"
     ]
    },
    {
     "name": "stderr",
     "output_type": "stream",
     "text": [
      "100%|██████████| 5/5 [01:53<00:00, 22.66s/it]\n",
      "100%|██████████| 1/1 [00:00<00:00, 15.75it/s]\n",
      "113it [4:07:43, 120.35s/it]"
     ]
    },
    {
     "name": "stdout",
     "output_type": "stream",
     "text": [
      "    Evaluation Episode 0/1\n",
      "    Average Reward over last 50 episodes: -23102.92\n",
      "    Min Reward over last 50 episodes: -23296.79\n",
      "    Max Reward over last 50 episodes: -22843.93\n",
      "    Evaluation Average Reward: -23045.20\n",
      "\n",
      "Running combination 114/9555 with parameters: {'epsilon': 0.1, 'epsilon_decay': 0.99, 'alpha': 0.4, 'gamma': 0.4, 'no_change_after_lap': 155}\n"
     ]
    },
    {
     "name": "stderr",
     "output_type": "stream",
     "text": []
    },
    {
     "name": "stdout",
     "output_type": "stream",
     "text": [
      "    Training Episode 0/5\n"
     ]
    },
    {
     "name": "stderr",
     "output_type": "stream",
     "text": [
      "100%|██████████| 5/5 [01:58<00:00, 23.65s/it]\n",
      "100%|██████████| 1/1 [00:00<00:00, 15.38it/s]\n",
      "114it [4:09:41, 119.73s/it]"
     ]
    },
    {
     "name": "stdout",
     "output_type": "stream",
     "text": [
      "    Evaluation Episode 0/1\n",
      "    Average Reward over last 50 episodes: -16382.01\n",
      "    Min Reward over last 50 episodes: -16448.31\n",
      "    Max Reward over last 50 episodes: -16325.91\n",
      "    Evaluation Average Reward: -16364.70\n",
      "\n",
      "Running combination 115/9555 with parameters: {'epsilon': 0.05, 'epsilon_decay': 0.99, 'alpha': 0.0, 'gamma': 0.6, 'no_change_after_lap': 145}\n"
     ]
    },
    {
     "name": "stderr",
     "output_type": "stream",
     "text": []
    },
    {
     "name": "stdout",
     "output_type": "stream",
     "text": [
      "    Training Episode 0/5\n"
     ]
    },
    {
     "name": "stderr",
     "output_type": "stream",
     "text": [
      "100%|██████████| 5/5 [01:48<00:00, 21.62s/it]\n",
      "100%|██████████| 1/1 [00:00<00:00, 14.18it/s]\n",
      "115it [4:11:29, 116.27s/it]"
     ]
    },
    {
     "name": "stdout",
     "output_type": "stream",
     "text": [
      "    Evaluation Episode 0/1\n",
      "    Average Reward over last 50 episodes: -18307.61\n",
      "    Min Reward over last 50 episodes: -18394.44\n",
      "    Max Reward over last 50 episodes: -18250.40\n",
      "    Evaluation Average Reward: -18434.28\n",
      "\n",
      "Running combination 116/9555 with parameters: {'epsilon': 0.05, 'epsilon_decay': 0.99, 'alpha': 0.2, 'gamma': 0.2, 'no_change_after_lap': 135}\n"
     ]
    },
    {
     "name": "stderr",
     "output_type": "stream",
     "text": []
    },
    {
     "name": "stdout",
     "output_type": "stream",
     "text": [
      "    Training Episode 0/5\n"
     ]
    },
    {
     "name": "stderr",
     "output_type": "stream",
     "text": [
      "100%|██████████| 5/5 [02:03<00:00, 24.78s/it]\n",
      "100%|██████████| 1/1 [00:00<00:00, 17.09it/s]\n",
      "116it [4:13:33, 118.58s/it]"
     ]
    },
    {
     "name": "stdout",
     "output_type": "stream",
     "text": [
      "    Evaluation Episode 0/1\n",
      "    Average Reward over last 50 episodes: -20593.87\n",
      "    Min Reward over last 50 episodes: -20834.77\n",
      "    Max Reward over last 50 episodes: -20265.39\n",
      "    Evaluation Average Reward: -20660.49\n",
      "\n",
      "Running combination 117/9555 with parameters: {'epsilon': 0.2, 'epsilon_decay': 0.99, 'alpha': 0.4, 'gamma': 0.4, 'no_change_after_lap': 100}\n"
     ]
    },
    {
     "name": "stderr",
     "output_type": "stream",
     "text": []
    },
    {
     "name": "stdout",
     "output_type": "stream",
     "text": [
      "    Training Episode 0/5\n"
     ]
    },
    {
     "name": "stderr",
     "output_type": "stream",
     "text": [
      "100%|██████████| 5/5 [01:58<00:00, 23.71s/it]\n",
      "100%|██████████| 1/1 [00:00<00:00, 16.80it/s]\n",
      "117it [4:15:32, 118.60s/it]"
     ]
    },
    {
     "name": "stdout",
     "output_type": "stream",
     "text": [
      "    Evaluation Episode 0/1\n",
      "    Average Reward over last 50 episodes: -29454.88\n",
      "    Min Reward over last 50 episodes: -29631.02\n",
      "    Max Reward over last 50 episodes: -29099.98\n",
      "    Evaluation Average Reward: -29399.50\n",
      "\n",
      "Running combination 118/9555 with parameters: {'epsilon': 0.0, 'epsilon_decay': 0.995, 'alpha': 1.0, 'gamma': 0.9, 'no_change_after_lap': 145}\n"
     ]
    },
    {
     "name": "stderr",
     "output_type": "stream",
     "text": []
    },
    {
     "name": "stdout",
     "output_type": "stream",
     "text": [
      "    Training Episode 0/5\n"
     ]
    },
    {
     "name": "stderr",
     "output_type": "stream",
     "text": [
      "100%|██████████| 5/5 [02:00<00:00, 24.09s/it]\n",
      "100%|██████████| 1/1 [00:00<00:00, 18.01it/s]\n",
      "118it [4:17:32, 119.17s/it]"
     ]
    },
    {
     "name": "stdout",
     "output_type": "stream",
     "text": [
      "    Evaluation Episode 0/1\n",
      "    Average Reward over last 50 episodes: -18143.55\n",
      "    Min Reward over last 50 episodes: -18292.70\n",
      "    Max Reward over last 50 episodes: -17967.68\n",
      "    Evaluation Average Reward: -17950.54\n",
      "\n",
      "Running combination 119/9555 with parameters: {'epsilon': 0.025, 'epsilon_decay': 0.999, 'alpha': 0.4, 'gamma': 0.6, 'no_change_after_lap': 105}\n"
     ]
    },
    {
     "name": "stderr",
     "output_type": "stream",
     "text": []
    },
    {
     "name": "stdout",
     "output_type": "stream",
     "text": [
      "    Training Episode 0/5\n"
     ]
    },
    {
     "name": "stderr",
     "output_type": "stream",
     "text": [
      "100%|██████████| 5/5 [02:09<00:00, 25.93s/it]\n",
      "100%|██████████| 1/1 [00:00<00:00, 16.13it/s]\n",
      "119it [4:19:42, 122.34s/it]"
     ]
    },
    {
     "name": "stdout",
     "output_type": "stream",
     "text": [
      "    Evaluation Episode 0/1\n",
      "    Average Reward over last 50 episodes: -28106.19\n",
      "    Min Reward over last 50 episodes: -28425.68\n",
      "    Max Reward over last 50 episodes: -27853.40\n",
      "    Evaluation Average Reward: -28379.18\n",
      "SKIPPING\n",
      "\n",
      "Running combination 120/9555 with parameters: {'epsilon': 0.05, 'epsilon_decay': 0.99, 'alpha': 0.6, 'gamma': 0.9, 'no_change_after_lap': 105}\n"
     ]
    },
    {
     "name": "stderr",
     "output_type": "stream",
     "text": []
    },
    {
     "name": "stdout",
     "output_type": "stream",
     "text": [
      "    Training Episode 0/5\n"
     ]
    },
    {
     "name": "stderr",
     "output_type": "stream",
     "text": [
      "100%|██████████| 5/5 [01:56<00:00, 23.39s/it]\n",
      "100%|██████████| 1/1 [00:00<00:00, 19.42it/s]\n",
      "120it [4:21:39, 120.74s/it]"
     ]
    },
    {
     "name": "stdout",
     "output_type": "stream",
     "text": [
      "    Evaluation Episode 0/1\n",
      "    Average Reward over last 50 episodes: -28218.82\n",
      "    Min Reward over last 50 episodes: -28372.46\n",
      "    Max Reward over last 50 episodes: -28076.29\n",
      "    Evaluation Average Reward: -27735.15\n",
      "\n",
      "Running combination 121/9555 with parameters: {'epsilon': 0.0, 'epsilon_decay': 0.99, 'alpha': 0.2, 'gamma': 0.2, 'no_change_after_lap': 110}\n"
     ]
    },
    {
     "name": "stderr",
     "output_type": "stream",
     "text": []
    },
    {
     "name": "stdout",
     "output_type": "stream",
     "text": [
      "    Training Episode 0/5\n"
     ]
    },
    {
     "name": "stderr",
     "output_type": "stream",
     "text": [
      "100%|██████████| 5/5 [02:00<00:00, 24.07s/it]\n",
      "100%|██████████| 1/1 [00:00<00:00, 17.54it/s]\n",
      "121it [4:23:39, 120.64s/it]"
     ]
    },
    {
     "name": "stdout",
     "output_type": "stream",
     "text": [
      "    Evaluation Episode 0/1\n",
      "    Average Reward over last 50 episodes: -26985.23\n",
      "    Min Reward over last 50 episodes: -27159.14\n",
      "    Max Reward over last 50 episodes: -26766.49\n",
      "    Evaluation Average Reward: -27036.46\n",
      "\n",
      "Running combination 122/9555 with parameters: {'epsilon': 0.025, 'epsilon_decay': 0.995, 'alpha': 1.0, 'gamma': 0.2, 'no_change_after_lap': 115}\n"
     ]
    },
    {
     "name": "stderr",
     "output_type": "stream",
     "text": []
    },
    {
     "name": "stdout",
     "output_type": "stream",
     "text": [
      "    Training Episode 0/5\n"
     ]
    },
    {
     "name": "stderr",
     "output_type": "stream",
     "text": [
      "100%|██████████| 5/5 [01:55<00:00, 23.04s/it]\n",
      "100%|██████████| 1/1 [00:00<00:00, 19.42it/s]\n",
      "122it [4:25:35, 119.02s/it]"
     ]
    },
    {
     "name": "stdout",
     "output_type": "stream",
     "text": [
      "    Evaluation Episode 0/1\n",
      "    Average Reward over last 50 episodes: -25717.65\n",
      "    Min Reward over last 50 episodes: -25920.88\n",
      "    Max Reward over last 50 episodes: -25350.53\n",
      "    Evaluation Average Reward: -25797.19\n",
      "\n",
      "Running combination 123/9555 with parameters: {'epsilon': 0.05, 'epsilon_decay': 0.999, 'alpha': 0.6, 'gamma': 0.6, 'no_change_after_lap': 125}\n"
     ]
    },
    {
     "name": "stderr",
     "output_type": "stream",
     "text": []
    },
    {
     "name": "stdout",
     "output_type": "stream",
     "text": [
      "    Training Episode 0/5\n"
     ]
    },
    {
     "name": "stderr",
     "output_type": "stream",
     "text": [
      "100%|██████████| 5/5 [02:05<00:00, 25.07s/it]\n",
      "100%|██████████| 1/1 [00:00<00:00, 15.62it/s]\n",
      "123it [4:27:40, 120.95s/it]"
     ]
    },
    {
     "name": "stdout",
     "output_type": "stream",
     "text": [
      "    Evaluation Episode 0/1\n",
      "    Average Reward over last 50 episodes: -23102.58\n",
      "    Min Reward over last 50 episodes: -23407.58\n",
      "    Max Reward over last 50 episodes: -22850.91\n",
      "    Evaluation Average Reward: -22952.81\n",
      "\n",
      "Running combination 124/9555 with parameters: {'epsilon': 0.0, 'epsilon_decay': 0.99, 'alpha': 0.4, 'gamma': 1.0, 'no_change_after_lap': 110}\n"
     ]
    },
    {
     "name": "stderr",
     "output_type": "stream",
     "text": []
    },
    {
     "name": "stdout",
     "output_type": "stream",
     "text": [
      "    Training Episode 0/5\n"
     ]
    },
    {
     "name": "stderr",
     "output_type": "stream",
     "text": [
      "100%|██████████| 5/5 [02:02<00:00, 24.52s/it]\n",
      "100%|██████████| 1/1 [00:00<00:00, 16.95it/s]\n",
      "124it [4:29:43, 121.46s/it]"
     ]
    },
    {
     "name": "stdout",
     "output_type": "stream",
     "text": [
      "    Evaluation Episode 0/1\n",
      "    Average Reward over last 50 episodes: -26888.16\n",
      "    Min Reward over last 50 episodes: -27013.64\n",
      "    Max Reward over last 50 episodes: -26534.54\n",
      "    Evaluation Average Reward: -27124.06\n",
      "\n",
      "Running combination 125/9555 with parameters: {'epsilon': 0.05, 'epsilon_decay': 0.995, 'alpha': 0.9, 'gamma': 0.9, 'no_change_after_lap': 115}\n"
     ]
    },
    {
     "name": "stderr",
     "output_type": "stream",
     "text": []
    },
    {
     "name": "stdout",
     "output_type": "stream",
     "text": [
      "    Training Episode 0/5\n"
     ]
    },
    {
     "name": "stderr",
     "output_type": "stream",
     "text": [
      "100%|██████████| 5/5 [01:59<00:00, 23.96s/it]\n",
      "100%|██████████| 1/1 [00:00<00:00, 15.74it/s]\n",
      "125it [4:31:43, 120.98s/it]"
     ]
    },
    {
     "name": "stdout",
     "output_type": "stream",
     "text": [
      "    Evaluation Episode 0/1\n",
      "    Average Reward over last 50 episodes: -25830.82\n",
      "    Min Reward over last 50 episodes: -25931.57\n",
      "    Max Reward over last 50 episodes: -25603.29\n",
      "    Evaluation Average Reward: -25557.02\n",
      "\n",
      "Running combination 126/9555 with parameters: {'epsilon': 0.2, 'epsilon_decay': 0.999, 'alpha': 0.9, 'gamma': 0.6, 'no_change_after_lap': 140}\n"
     ]
    },
    {
     "name": "stderr",
     "output_type": "stream",
     "text": []
    },
    {
     "name": "stdout",
     "output_type": "stream",
     "text": [
      "    Training Episode 0/5\n"
     ]
    },
    {
     "name": "stderr",
     "output_type": "stream",
     "text": [
      "100%|██████████| 5/5 [02:08<00:00, 25.79s/it]\n",
      "100%|██████████| 1/1 [00:00<00:00, 18.69it/s]\n",
      "126it [4:33:52, 123.40s/it]"
     ]
    },
    {
     "name": "stdout",
     "output_type": "stream",
     "text": [
      "    Evaluation Episode 0/1\n",
      "    Average Reward over last 50 episodes: -19496.22\n",
      "    Min Reward over last 50 episodes: -19793.55\n",
      "    Max Reward over last 50 episodes: -19082.20\n",
      "    Evaluation Average Reward: -19524.64\n",
      "\n",
      "Running combination 127/9555 with parameters: {'epsilon': 0.1, 'epsilon_decay': 0.999, 'alpha': 0.0, 'gamma': 0.9, 'no_change_after_lap': 145}\n"
     ]
    },
    {
     "name": "stderr",
     "output_type": "stream",
     "text": []
    },
    {
     "name": "stdout",
     "output_type": "stream",
     "text": [
      "    Training Episode 0/5\n"
     ]
    },
    {
     "name": "stderr",
     "output_type": "stream",
     "text": [
      "100%|██████████| 5/5 [01:56<00:00, 23.34s/it]\n",
      "100%|██████████| 1/1 [00:00<00:00, 16.39it/s]\n",
      "127it [4:35:48, 121.42s/it]"
     ]
    },
    {
     "name": "stdout",
     "output_type": "stream",
     "text": [
      "    Evaluation Episode 0/1\n",
      "    Average Reward over last 50 episodes: -17989.52\n",
      "    Min Reward over last 50 episodes: -18368.29\n",
      "    Max Reward over last 50 episodes: -17771.98\n",
      "    Evaluation Average Reward: -18245.73\n",
      "SKIPPING\n",
      "\n",
      "Running combination 128/9555 with parameters: {'epsilon': 0.0, 'epsilon_decay': 0.999, 'alpha': 0.8, 'gamma': 0.6, 'no_change_after_lap': 105}\n"
     ]
    },
    {
     "name": "stderr",
     "output_type": "stream",
     "text": []
    },
    {
     "name": "stdout",
     "output_type": "stream",
     "text": [
      "    Training Episode 0/5\n"
     ]
    },
    {
     "name": "stderr",
     "output_type": "stream",
     "text": [
      "100%|██████████| 5/5 [02:00<00:00, 24.18s/it]\n",
      "100%|██████████| 1/1 [00:00<00:00, 17.38it/s]\n",
      "128it [4:37:49, 121.29s/it]"
     ]
    },
    {
     "name": "stdout",
     "output_type": "stream",
     "text": [
      "    Evaluation Episode 0/1\n",
      "    Average Reward over last 50 episodes: -27974.06\n",
      "    Min Reward over last 50 episodes: -28118.97\n",
      "    Max Reward over last 50 episodes: -27814.44\n",
      "    Evaluation Average Reward: -27818.62\n",
      "\n",
      "Running combination 129/9555 with parameters: {'epsilon': 0.05, 'epsilon_decay': 0.99, 'alpha': 0.0, 'gamma': 0.9, 'no_change_after_lap': 105}\n"
     ]
    },
    {
     "name": "stderr",
     "output_type": "stream",
     "text": []
    },
    {
     "name": "stdout",
     "output_type": "stream",
     "text": [
      "    Training Episode 0/5\n"
     ]
    },
    {
     "name": "stderr",
     "output_type": "stream",
     "text": [
      "100%|██████████| 5/5 [01:41<00:00, 20.40s/it]\n",
      "100%|██████████| 1/1 [00:00<00:00, 15.74it/s]\n",
      "129it [4:39:32, 115.52s/it]"
     ]
    },
    {
     "name": "stdout",
     "output_type": "stream",
     "text": [
      "    Evaluation Episode 0/1\n",
      "    Average Reward over last 50 episodes: -28264.52\n",
      "    Min Reward over last 50 episodes: -28380.65\n",
      "    Max Reward over last 50 episodes: -28157.92\n",
      "    Evaluation Average Reward: -28198.04\n",
      "\n",
      "Running combination 130/9555 with parameters: {'epsilon': 0.2, 'epsilon_decay': 0.999, 'alpha': 0.9, 'gamma': 0.4, 'no_change_after_lap': 100}\n"
     ]
    },
    {
     "name": "stderr",
     "output_type": "stream",
     "text": []
    },
    {
     "name": "stdout",
     "output_type": "stream",
     "text": [
      "    Training Episode 0/5\n"
     ]
    },
    {
     "name": "stderr",
     "output_type": "stream",
     "text": [
      "100%|██████████| 5/5 [02:08<00:00, 25.70s/it]\n",
      "100%|██████████| 1/1 [00:00<00:00, 15.75it/s]\n",
      "130it [4:41:40, 119.44s/it]"
     ]
    },
    {
     "name": "stdout",
     "output_type": "stream",
     "text": [
      "    Evaluation Episode 0/1\n",
      "    Average Reward over last 50 episodes: -29445.73\n",
      "    Min Reward over last 50 episodes: -29653.65\n",
      "    Max Reward over last 50 episodes: -29157.47\n",
      "    Evaluation Average Reward: -29564.23\n",
      "\n",
      "Running combination 131/9555 with parameters: {'epsilon': 0.0, 'epsilon_decay': 0.995, 'alpha': 0.9, 'gamma': 0.8, 'no_change_after_lap': 100}\n"
     ]
    },
    {
     "name": "stderr",
     "output_type": "stream",
     "text": []
    },
    {
     "name": "stdout",
     "output_type": "stream",
     "text": [
      "    Training Episode 0/5\n"
     ]
    },
    {
     "name": "stderr",
     "output_type": "stream",
     "text": [
      "100%|██████████| 5/5 [02:00<00:00, 24.03s/it]\n",
      "100%|██████████| 1/1 [00:00<00:00, 13.33it/s]\n",
      "131it [4:43:40, 119.67s/it]"
     ]
    },
    {
     "name": "stdout",
     "output_type": "stream",
     "text": [
      "    Evaluation Episode 0/1\n",
      "    Average Reward over last 50 episodes: -29368.67\n",
      "    Min Reward over last 50 episodes: -29525.61\n",
      "    Max Reward over last 50 episodes: -29153.93\n",
      "    Evaluation Average Reward: -29474.25\n",
      "\n",
      "Running combination 132/9555 with parameters: {'epsilon': 0.05, 'epsilon_decay': 0.995, 'alpha': 0.0, 'gamma': 0.0, 'no_change_after_lap': 130}\n"
     ]
    },
    {
     "name": "stderr",
     "output_type": "stream",
     "text": []
    },
    {
     "name": "stdout",
     "output_type": "stream",
     "text": [
      "    Training Episode 0/5\n"
     ]
    },
    {
     "name": "stderr",
     "output_type": "stream",
     "text": [
      "100%|██████████| 5/5 [01:54<00:00, 22.91s/it]\n",
      "100%|██████████| 1/1 [00:00<00:00, 15.62it/s]\n",
      "132it [4:45:35, 118.16s/it]"
     ]
    },
    {
     "name": "stdout",
     "output_type": "stream",
     "text": [
      "    Evaluation Episode 0/1\n",
      "    Average Reward over last 50 episodes: -21847.08\n",
      "    Min Reward over last 50 episodes: -22080.72\n",
      "    Max Reward over last 50 episodes: -21633.96\n",
      "    Evaluation Average Reward: -21569.18\n",
      "\n",
      "Running combination 133/9555 with parameters: {'epsilon': 0.05, 'epsilon_decay': 0.99, 'alpha': 0.8, 'gamma': 0.9, 'no_change_after_lap': 105}\n"
     ]
    },
    {
     "name": "stderr",
     "output_type": "stream",
     "text": []
    },
    {
     "name": "stdout",
     "output_type": "stream",
     "text": [
      "    Training Episode 0/5\n"
     ]
    },
    {
     "name": "stderr",
     "output_type": "stream",
     "text": [
      "100%|██████████| 5/5 [02:02<00:00, 24.57s/it]\n",
      "100%|██████████| 1/1 [00:00<00:00, 15.74it/s]\n",
      "133it [4:47:38, 119.59s/it]"
     ]
    },
    {
     "name": "stdout",
     "output_type": "stream",
     "text": [
      "    Evaluation Episode 0/1\n",
      "    Average Reward over last 50 episodes: -27953.45\n",
      "    Min Reward over last 50 episodes: -28287.33\n",
      "    Max Reward over last 50 episodes: -27788.09\n",
      "    Evaluation Average Reward: -27794.00\n",
      "\n",
      "Running combination 134/9555 with parameters: {'epsilon': 0.025, 'epsilon_decay': 0.99, 'alpha': 0.2, 'gamma': 0.9, 'no_change_after_lap': 145}\n"
     ]
    },
    {
     "name": "stderr",
     "output_type": "stream",
     "text": []
    },
    {
     "name": "stdout",
     "output_type": "stream",
     "text": [
      "    Training Episode 0/5\n"
     ]
    },
    {
     "name": "stderr",
     "output_type": "stream",
     "text": [
      "100%|██████████| 5/5 [01:58<00:00, 23.65s/it]\n",
      "100%|██████████| 1/1 [00:00<00:00, 16.52it/s]\n",
      "134it [4:49:36, 119.20s/it]"
     ]
    },
    {
     "name": "stdout",
     "output_type": "stream",
     "text": [
      "    Evaluation Episode 0/1\n",
      "    Average Reward over last 50 episodes: -18043.48\n",
      "    Min Reward over last 50 episodes: -18298.90\n",
      "    Max Reward over last 50 episodes: -17804.29\n",
      "    Evaluation Average Reward: -18400.26\n",
      "\n",
      "Running combination 135/9555 with parameters: {'epsilon': 0.025, 'epsilon_decay': 0.995, 'alpha': 0.9, 'gamma': 0.4, 'no_change_after_lap': 110}\n"
     ]
    },
    {
     "name": "stderr",
     "output_type": "stream",
     "text": []
    },
    {
     "name": "stdout",
     "output_type": "stream",
     "text": [
      "    Training Episode 0/5\n"
     ]
    },
    {
     "name": "stderr",
     "output_type": "stream",
     "text": [
      "100%|██████████| 5/5 [02:01<00:00, 24.25s/it]\n",
      "100%|██████████| 1/1 [00:00<00:00, 19.41it/s]\n",
      "135it [4:51:37, 119.83s/it]"
     ]
    },
    {
     "name": "stdout",
     "output_type": "stream",
     "text": [
      "    Evaluation Episode 0/1\n",
      "    Average Reward over last 50 episodes: -26766.95\n",
      "    Min Reward over last 50 episodes: -27102.90\n",
      "    Max Reward over last 50 episodes: -26550.09\n",
      "    Evaluation Average Reward: -27051.69\n",
      "\n",
      "Running combination 136/9555 with parameters: {'epsilon': 0.0, 'epsilon_decay': 0.995, 'alpha': 0.4, 'gamma': 0.4, 'no_change_after_lap': 130}\n"
     ]
    },
    {
     "name": "stderr",
     "output_type": "stream",
     "text": []
    },
    {
     "name": "stdout",
     "output_type": "stream",
     "text": [
      "    Training Episode 0/5\n"
     ]
    },
    {
     "name": "stderr",
     "output_type": "stream",
     "text": [
      "100%|██████████| 5/5 [02:01<00:00, 24.29s/it]\n",
      "100%|██████████| 1/1 [00:00<00:00, 16.66it/s]\n",
      "136it [4:53:39, 120.34s/it]"
     ]
    },
    {
     "name": "stdout",
     "output_type": "stream",
     "text": [
      "    Evaluation Episode 0/1\n",
      "    Average Reward over last 50 episodes: -21837.76\n",
      "    Min Reward over last 50 episodes: -22147.43\n",
      "    Max Reward over last 50 episodes: -21453.19\n",
      "    Evaluation Average Reward: -21463.59\n",
      "\n",
      "Running combination 137/9555 with parameters: {'epsilon': 0.2, 'epsilon_decay': 0.99, 'alpha': 0.9, 'gamma': 1.0, 'no_change_after_lap': 145}\n"
     ]
    },
    {
     "name": "stderr",
     "output_type": "stream",
     "text": []
    },
    {
     "name": "stdout",
     "output_type": "stream",
     "text": [
      "    Training Episode 0/5\n"
     ]
    },
    {
     "name": "stderr",
     "output_type": "stream",
     "text": [
      "100%|██████████| 5/5 [02:00<00:00, 24.15s/it]\n",
      "100%|██████████| 1/1 [00:00<00:00, 15.15it/s]\n",
      "137it [4:55:40, 120.49s/it]"
     ]
    },
    {
     "name": "stdout",
     "output_type": "stream",
     "text": [
      "    Evaluation Episode 0/1\n",
      "    Average Reward over last 50 episodes: -18099.31\n",
      "    Min Reward over last 50 episodes: -18380.90\n",
      "    Max Reward over last 50 episodes: -17926.61\n",
      "    Evaluation Average Reward: -18183.16\n",
      "\n",
      "Running combination 138/9555 with parameters: {'epsilon': 0.05, 'epsilon_decay': 0.995, 'alpha': 1.0, 'gamma': 0.9, 'no_change_after_lap': 130}\n"
     ]
    },
    {
     "name": "stderr",
     "output_type": "stream",
     "text": []
    },
    {
     "name": "stdout",
     "output_type": "stream",
     "text": [
      "    Training Episode 0/5\n"
     ]
    },
    {
     "name": "stderr",
     "output_type": "stream",
     "text": [
      "100%|██████████| 5/5 [02:02<00:00, 24.47s/it]\n",
      "100%|██████████| 1/1 [00:00<00:00, 16.66it/s]\n",
      "138it [4:57:42, 121.08s/it]"
     ]
    },
    {
     "name": "stdout",
     "output_type": "stream",
     "text": [
      "    Evaluation Episode 0/1\n",
      "    Average Reward over last 50 episodes: -21891.00\n",
      "    Min Reward over last 50 episodes: -22168.45\n",
      "    Max Reward over last 50 episodes: -21524.18\n",
      "    Evaluation Average Reward: -21977.68\n",
      "\n",
      "Running combination 139/9555 with parameters: {'epsilon': 0.025, 'epsilon_decay': 0.99, 'alpha': 0.9, 'gamma': 0.9, 'no_change_after_lap': 135}\n"
     ]
    },
    {
     "name": "stderr",
     "output_type": "stream",
     "text": []
    },
    {
     "name": "stdout",
     "output_type": "stream",
     "text": [
      "    Training Episode 0/5\n"
     ]
    },
    {
     "name": "stderr",
     "output_type": "stream",
     "text": [
      "100%|██████████| 5/5 [02:01<00:00, 24.21s/it]\n",
      "100%|██████████| 1/1 [00:00<00:00, 16.66it/s]\n",
      "139it [4:59:43, 121.10s/it]"
     ]
    },
    {
     "name": "stdout",
     "output_type": "stream",
     "text": [
      "    Evaluation Episode 0/1\n",
      "    Average Reward over last 50 episodes: -20631.81\n",
      "    Min Reward over last 50 episodes: -20821.96\n",
      "    Max Reward over last 50 episodes: -20409.14\n",
      "    Evaluation Average Reward: -20241.29\n",
      "\n",
      "Running combination 140/9555 with parameters: {'epsilon': 0.05, 'epsilon_decay': 0.995, 'alpha': 0.2, 'gamma': 1.0, 'no_change_after_lap': 110}\n"
     ]
    },
    {
     "name": "stderr",
     "output_type": "stream",
     "text": []
    },
    {
     "name": "stdout",
     "output_type": "stream",
     "text": [
      "    Training Episode 0/5\n"
     ]
    },
    {
     "name": "stderr",
     "output_type": "stream",
     "text": [
      "100%|██████████| 5/5 [01:57<00:00, 23.55s/it]\n",
      "100%|██████████| 1/1 [00:00<00:00, 22.21it/s]\n",
      "140it [5:01:41, 120.11s/it]"
     ]
    },
    {
     "name": "stdout",
     "output_type": "stream",
     "text": [
      "    Evaluation Episode 0/1\n",
      "    Average Reward over last 50 episodes: -26887.85\n",
      "    Min Reward over last 50 episodes: -27011.53\n",
      "    Max Reward over last 50 episodes: -26779.97\n",
      "    Evaluation Average Reward: -27009.99\n",
      "\n",
      "Running combination 141/9555 with parameters: {'epsilon': 0.0, 'epsilon_decay': 0.999, 'alpha': 0.2, 'gamma': 0.8, 'no_change_after_lap': 160}\n"
     ]
    },
    {
     "name": "stderr",
     "output_type": "stream",
     "text": []
    },
    {
     "name": "stdout",
     "output_type": "stream",
     "text": [
      "    Training Episode 0/5\n"
     ]
    },
    {
     "name": "stderr",
     "output_type": "stream",
     "text": [
      "100%|██████████| 5/5 [02:04<00:00, 24.95s/it]\n",
      "100%|██████████| 1/1 [00:00<00:00, 15.38it/s]\n",
      "141it [5:03:46, 121.53s/it]"
     ]
    },
    {
     "name": "stdout",
     "output_type": "stream",
     "text": [
      "    Evaluation Episode 0/1\n",
      "    Average Reward over last 50 episodes: -16076.25\n",
      "    Min Reward over last 50 episodes: -16173.92\n",
      "    Max Reward over last 50 episodes: -15991.44\n",
      "    Evaluation Average Reward: -16041.66\n",
      "\n",
      "Running combination 142/9555 with parameters: {'epsilon': 0.2, 'epsilon_decay': 0.995, 'alpha': 0.8, 'gamma': 1.0, 'no_change_after_lap': 160}\n"
     ]
    },
    {
     "name": "stderr",
     "output_type": "stream",
     "text": []
    },
    {
     "name": "stdout",
     "output_type": "stream",
     "text": [
      "    Training Episode 0/5\n"
     ]
    },
    {
     "name": "stderr",
     "output_type": "stream",
     "text": [
      "100%|██████████| 5/5 [01:58<00:00, 23.64s/it]\n",
      "100%|██████████| 1/1 [00:00<00:00, 13.16it/s]\n",
      "142it [5:05:44, 120.56s/it]"
     ]
    },
    {
     "name": "stdout",
     "output_type": "stream",
     "text": [
      "    Evaluation Episode 0/1\n",
      "    Average Reward over last 50 episodes: -16038.80\n",
      "    Min Reward over last 50 episodes: -16146.72\n",
      "    Max Reward over last 50 episodes: -15899.68\n",
      "    Evaluation Average Reward: -16056.45\n",
      "\n",
      "Running combination 143/9555 with parameters: {'epsilon': 0.05, 'epsilon_decay': 0.99, 'alpha': 0.2, 'gamma': 0.0, 'no_change_after_lap': 105}\n"
     ]
    },
    {
     "name": "stderr",
     "output_type": "stream",
     "text": []
    },
    {
     "name": "stdout",
     "output_type": "stream",
     "text": [
      "    Training Episode 0/5\n"
     ]
    },
    {
     "name": "stderr",
     "output_type": "stream",
     "text": [
      "100%|██████████| 5/5 [01:58<00:00, 23.67s/it]\n",
      "100%|██████████| 1/1 [00:00<00:00, 16.81it/s]\n",
      "143it [5:07:43, 119.92s/it]"
     ]
    },
    {
     "name": "stdout",
     "output_type": "stream",
     "text": [
      "    Evaluation Episode 0/1\n",
      "    Average Reward over last 50 episodes: -28171.99\n",
      "    Min Reward over last 50 episodes: -28392.34\n",
      "    Max Reward over last 50 episodes: -28005.29\n",
      "    Evaluation Average Reward: -28209.81\n",
      "\n",
      "Running combination 144/9555 with parameters: {'epsilon': 0.0, 'epsilon_decay': 0.99, 'alpha': 0.8, 'gamma': 1.0, 'no_change_after_lap': 150}\n"
     ]
    },
    {
     "name": "stderr",
     "output_type": "stream",
     "text": []
    },
    {
     "name": "stdout",
     "output_type": "stream",
     "text": [
      "    Training Episode 0/5\n"
     ]
    },
    {
     "name": "stderr",
     "output_type": "stream",
     "text": [
      "100%|██████████| 5/5 [01:56<00:00, 23.34s/it]\n",
      "100%|██████████| 1/1 [00:00<00:00, 16.26it/s]\n",
      "144it [5:09:40, 118.98s/it]"
     ]
    },
    {
     "name": "stdout",
     "output_type": "stream",
     "text": [
      "    Evaluation Episode 0/1\n",
      "    Average Reward over last 50 episodes: -17105.94\n",
      "    Min Reward over last 50 episodes: -17267.48\n",
      "    Max Reward over last 50 episodes: -16971.76\n",
      "    Evaluation Average Reward: -17062.70\n",
      "\n",
      "Running combination 145/9555 with parameters: {'epsilon': 0.2, 'epsilon_decay': 0.995, 'alpha': 0.9, 'gamma': 0.4, 'no_change_after_lap': 100}\n"
     ]
    },
    {
     "name": "stderr",
     "output_type": "stream",
     "text": []
    },
    {
     "name": "stdout",
     "output_type": "stream",
     "text": [
      "    Training Episode 0/5\n"
     ]
    },
    {
     "name": "stderr",
     "output_type": "stream",
     "text": [
      "100%|██████████| 5/5 [02:06<00:00, 25.24s/it]\n",
      "100%|██████████| 1/1 [00:00<00:00, 15.38it/s]\n",
      "145it [5:11:46, 121.17s/it]"
     ]
    },
    {
     "name": "stdout",
     "output_type": "stream",
     "text": [
      "    Evaluation Episode 0/1\n",
      "    Average Reward over last 50 episodes: -29496.67\n",
      "    Min Reward over last 50 episodes: -29760.47\n",
      "    Max Reward over last 50 episodes: -29249.82\n",
      "    Evaluation Average Reward: -29504.49\n",
      "\n",
      "Running combination 146/9555 with parameters: {'epsilon': 0.0, 'epsilon_decay': 0.999, 'alpha': 0.0, 'gamma': 1.0, 'no_change_after_lap': 120}\n"
     ]
    },
    {
     "name": "stderr",
     "output_type": "stream",
     "text": []
    },
    {
     "name": "stdout",
     "output_type": "stream",
     "text": [
      "    Training Episode 0/5\n"
     ]
    },
    {
     "name": "stderr",
     "output_type": "stream",
     "text": [
      "100%|██████████| 5/5 [01:56<00:00, 23.29s/it]\n",
      "100%|██████████| 1/1 [00:00<00:00, 16.94it/s]\n",
      "146it [5:13:42, 119.77s/it]"
     ]
    },
    {
     "name": "stdout",
     "output_type": "stream",
     "text": [
      "    Evaluation Episode 0/1\n",
      "    Average Reward over last 50 episodes: -24188.00\n",
      "    Min Reward over last 50 episodes: -24444.78\n",
      "    Max Reward over last 50 episodes: -23972.52\n",
      "    Evaluation Average Reward: -24317.48\n",
      "\n",
      "Running combination 147/9555 with parameters: {'epsilon': 0.0, 'epsilon_decay': 0.995, 'alpha': 0.0, 'gamma': 0.4, 'no_change_after_lap': 160}\n"
     ]
    },
    {
     "name": "stderr",
     "output_type": "stream",
     "text": []
    },
    {
     "name": "stdout",
     "output_type": "stream",
     "text": [
      "    Training Episode 0/5\n"
     ]
    },
    {
     "name": "stderr",
     "output_type": "stream",
     "text": [
      "100%|██████████| 5/5 [01:53<00:00, 22.79s/it]\n",
      "100%|██████████| 1/1 [00:00<00:00, 24.38it/s]\n",
      "147it [5:15:36, 118.04s/it]"
     ]
    },
    {
     "name": "stdout",
     "output_type": "stream",
     "text": [
      "    Evaluation Episode 0/1\n",
      "    Average Reward over last 50 episodes: -16064.45\n",
      "    Min Reward over last 50 episodes: -16105.26\n",
      "    Max Reward over last 50 episodes: -16036.30\n",
      "    Evaluation Average Reward: -16057.58\n",
      "\n",
      "Running combination 148/9555 with parameters: {'epsilon': 0.05, 'epsilon_decay': 0.99, 'alpha': 0.4, 'gamma': 0.0, 'no_change_after_lap': 150}\n"
     ]
    },
    {
     "name": "stderr",
     "output_type": "stream",
     "text": []
    },
    {
     "name": "stdout",
     "output_type": "stream",
     "text": [
      "    Training Episode 0/5\n"
     ]
    },
    {
     "name": "stderr",
     "output_type": "stream",
     "text": [
      "100%|██████████| 5/5 [02:05<00:00, 25.14s/it]\n",
      "100%|██████████| 1/1 [00:00<00:00, 14.59it/s]\n",
      "148it [5:17:42, 120.36s/it]"
     ]
    },
    {
     "name": "stdout",
     "output_type": "stream",
     "text": [
      "    Evaluation Episode 0/1\n",
      "    Average Reward over last 50 episodes: -17130.99\n",
      "    Min Reward over last 50 episodes: -17273.53\n",
      "    Max Reward over last 50 episodes: -16919.59\n",
      "    Evaluation Average Reward: -17097.62\n",
      "\n",
      "Running combination 149/9555 with parameters: {'epsilon': 0.05, 'epsilon_decay': 0.999, 'alpha': 0.8, 'gamma': 0.0, 'no_change_after_lap': 120}\n"
     ]
    },
    {
     "name": "stderr",
     "output_type": "stream",
     "text": []
    },
    {
     "name": "stdout",
     "output_type": "stream",
     "text": [
      "    Training Episode 0/5\n"
     ]
    },
    {
     "name": "stderr",
     "output_type": "stream",
     "text": [
      "100%|██████████| 5/5 [01:59<00:00, 23.91s/it]\n",
      "100%|██████████| 1/1 [00:00<00:00, 22.22it/s]\n",
      "149it [5:19:42, 120.13s/it]"
     ]
    },
    {
     "name": "stdout",
     "output_type": "stream",
     "text": [
      "    Evaluation Episode 0/1\n",
      "    Average Reward over last 50 episodes: -24281.38\n",
      "    Min Reward over last 50 episodes: -24561.89\n",
      "    Max Reward over last 50 episodes: -24136.59\n",
      "    Evaluation Average Reward: -24304.56\n",
      "\n",
      "Running combination 150/9555 with parameters: {'epsilon': 0.1, 'epsilon_decay': 0.999, 'alpha': 0.8, 'gamma': 1.0, 'no_change_after_lap': 130}\n"
     ]
    },
    {
     "name": "stderr",
     "output_type": "stream",
     "text": []
    },
    {
     "name": "stdout",
     "output_type": "stream",
     "text": [
      "    Training Episode 0/5\n"
     ]
    },
    {
     "name": "stderr",
     "output_type": "stream",
     "text": [
      "100%|██████████| 5/5 [02:01<00:00, 24.29s/it]\n",
      "100%|██████████| 1/1 [00:00<00:00, 15.15it/s]\n",
      "150it [5:21:43, 120.55s/it]"
     ]
    },
    {
     "name": "stdout",
     "output_type": "stream",
     "text": [
      "    Evaluation Episode 0/1\n",
      "    Average Reward over last 50 episodes: -21796.26\n",
      "    Min Reward over last 50 episodes: -21971.43\n",
      "    Max Reward over last 50 episodes: -21513.39\n",
      "    Evaluation Average Reward: -22033.30\n",
      "\n",
      "Running combination 151/9555 with parameters: {'epsilon': 0.1, 'epsilon_decay': 0.999, 'alpha': 0.0, 'gamma': 1.0, 'no_change_after_lap': 150}\n"
     ]
    },
    {
     "name": "stderr",
     "output_type": "stream",
     "text": []
    },
    {
     "name": "stdout",
     "output_type": "stream",
     "text": [
      "    Training Episode 0/5\n"
     ]
    },
    {
     "name": "stderr",
     "output_type": "stream",
     "text": [
      "100%|██████████| 5/5 [01:55<00:00, 23.15s/it]\n",
      "100%|██████████| 1/1 [00:00<00:00, 17.24it/s]\n",
      "151it [5:23:39, 119.13s/it]"
     ]
    },
    {
     "name": "stdout",
     "output_type": "stream",
     "text": [
      "    Evaluation Episode 0/1\n",
      "    Average Reward over last 50 episodes: -17180.87\n",
      "    Min Reward over last 50 episodes: -17320.26\n",
      "    Max Reward over last 50 episodes: -16972.94\n",
      "    Evaluation Average Reward: -17162.25\n",
      "\n",
      "Running combination 152/9555 with parameters: {'epsilon': 0.0, 'epsilon_decay': 0.99, 'alpha': 0.9, 'gamma': 0.2, 'no_change_after_lap': 150}\n"
     ]
    },
    {
     "name": "stderr",
     "output_type": "stream",
     "text": []
    },
    {
     "name": "stdout",
     "output_type": "stream",
     "text": [
      "    Training Episode 0/5\n"
     ]
    },
    {
     "name": "stderr",
     "output_type": "stream",
     "text": [
      "100%|██████████| 5/5 [01:58<00:00, 23.69s/it]\n",
      "100%|██████████| 1/1 [00:00<00:00, 15.15it/s]\n",
      "152it [5:25:38, 118.95s/it]"
     ]
    },
    {
     "name": "stdout",
     "output_type": "stream",
     "text": [
      "    Evaluation Episode 0/1\n",
      "    Average Reward over last 50 episodes: -17241.39\n",
      "    Min Reward over last 50 episodes: -17308.36\n",
      "    Max Reward over last 50 episodes: -17132.15\n",
      "    Evaluation Average Reward: -17003.98\n",
      "\n",
      "Running combination 153/9555 with parameters: {'epsilon': 0.2, 'epsilon_decay': 0.99, 'alpha': 0.8, 'gamma': 0.2, 'no_change_after_lap': 160}\n"
     ]
    },
    {
     "name": "stderr",
     "output_type": "stream",
     "text": []
    },
    {
     "name": "stdout",
     "output_type": "stream",
     "text": [
      "    Training Episode 0/5\n"
     ]
    },
    {
     "name": "stderr",
     "output_type": "stream",
     "text": [
      "100%|██████████| 5/5 [01:57<00:00, 23.57s/it]\n",
      "100%|██████████| 1/1 [00:00<00:00, 22.99it/s]\n",
      "153it [5:27:35, 118.63s/it]"
     ]
    },
    {
     "name": "stdout",
     "output_type": "stream",
     "text": [
      "    Evaluation Episode 0/1\n",
      "    Average Reward over last 50 episodes: -16086.77\n",
      "    Min Reward over last 50 episodes: -16139.19\n",
      "    Max Reward over last 50 episodes: -16028.57\n",
      "    Evaluation Average Reward: -16131.44\n",
      "\n",
      "Running combination 154/9555 with parameters: {'epsilon': 0.025, 'epsilon_decay': 0.99, 'alpha': 0.4, 'gamma': 0.0, 'no_change_after_lap': 125}\n"
     ]
    },
    {
     "name": "stderr",
     "output_type": "stream",
     "text": []
    },
    {
     "name": "stdout",
     "output_type": "stream",
     "text": [
      "    Training Episode 0/5\n"
     ]
    },
    {
     "name": "stderr",
     "output_type": "stream",
     "text": [
      "100%|██████████| 5/5 [02:01<00:00, 24.33s/it]\n",
      "100%|██████████| 1/1 [00:00<00:00, 12.90it/s]\n",
      "154it [5:29:37, 119.56s/it]"
     ]
    },
    {
     "name": "stdout",
     "output_type": "stream",
     "text": [
      "    Evaluation Episode 0/1\n",
      "    Average Reward over last 50 episodes: -23035.02\n",
      "    Min Reward over last 50 episodes: -23316.49\n",
      "    Max Reward over last 50 episodes: -22671.06\n",
      "    Evaluation Average Reward: -22800.35\n",
      "SKIPPING\n",
      "\n",
      "Running combination 155/9555 with parameters: {'epsilon': 0.025, 'epsilon_decay': 0.99, 'alpha': 0.9, 'gamma': 0.8, 'no_change_after_lap': 140}\n"
     ]
    },
    {
     "name": "stderr",
     "output_type": "stream",
     "text": []
    },
    {
     "name": "stdout",
     "output_type": "stream",
     "text": [
      "    Training Episode 0/5\n"
     ]
    },
    {
     "name": "stderr",
     "output_type": "stream",
     "text": [
      "100%|██████████| 5/5 [02:04<00:00, 24.80s/it]\n",
      "100%|██████████| 1/1 [00:00<00:00, 14.70it/s]\n",
      "155it [5:31:41, 120.92s/it]"
     ]
    },
    {
     "name": "stdout",
     "output_type": "stream",
     "text": [
      "    Evaluation Episode 0/1\n",
      "    Average Reward over last 50 episodes: -19325.16\n",
      "    Min Reward over last 50 episodes: -19561.37\n",
      "    Max Reward over last 50 episodes: -19083.74\n",
      "    Evaluation Average Reward: -19566.84\n",
      "\n",
      "Running combination 156/9555 with parameters: {'epsilon': 0.05, 'epsilon_decay': 0.999, 'alpha': 0.2, 'gamma': 0.0, 'no_change_after_lap': 140}\n"
     ]
    },
    {
     "name": "stderr",
     "output_type": "stream",
     "text": []
    },
    {
     "name": "stdout",
     "output_type": "stream",
     "text": [
      "    Training Episode 0/5\n"
     ]
    },
    {
     "name": "stderr",
     "output_type": "stream",
     "text": [
      "100%|██████████| 5/5 [02:02<00:00, 24.57s/it]\n",
      "100%|██████████| 1/1 [00:00<00:00, 16.53it/s]\n",
      "156it [5:33:44, 121.52s/it]"
     ]
    },
    {
     "name": "stdout",
     "output_type": "stream",
     "text": [
      "    Evaluation Episode 0/1\n",
      "    Average Reward over last 50 episodes: -19443.48\n",
      "    Min Reward over last 50 episodes: -19552.53\n",
      "    Max Reward over last 50 episodes: -19222.84\n",
      "    Evaluation Average Reward: -19261.27\n",
      "\n",
      "Running combination 157/9555 with parameters: {'epsilon': 0.1, 'epsilon_decay': 0.999, 'alpha': 1.0, 'gamma': 0.2, 'no_change_after_lap': 135}\n"
     ]
    },
    {
     "name": "stderr",
     "output_type": "stream",
     "text": []
    },
    {
     "name": "stdout",
     "output_type": "stream",
     "text": [
      "    Training Episode 0/5\n"
     ]
    },
    {
     "name": "stderr",
     "output_type": "stream",
     "text": [
      "100%|██████████| 5/5 [02:03<00:00, 24.74s/it]\n",
      "100%|██████████| 1/1 [00:00<00:00, 18.51it/s]\n",
      "157it [5:35:48, 122.19s/it]"
     ]
    },
    {
     "name": "stdout",
     "output_type": "stream",
     "text": [
      "    Evaluation Episode 0/1\n",
      "    Average Reward over last 50 episodes: -20658.67\n",
      "    Min Reward over last 50 episodes: -20846.17\n",
      "    Max Reward over last 50 episodes: -20280.71\n",
      "    Evaluation Average Reward: -20362.29\n",
      "\n",
      "Running combination 158/9555 with parameters: {'epsilon': 0.2, 'epsilon_decay': 0.995, 'alpha': 0.0, 'gamma': 0.8, 'no_change_after_lap': 155}\n"
     ]
    },
    {
     "name": "stderr",
     "output_type": "stream",
     "text": []
    },
    {
     "name": "stdout",
     "output_type": "stream",
     "text": [
      "    Training Episode 0/5\n"
     ]
    },
    {
     "name": "stderr",
     "output_type": "stream",
     "text": [
      "100%|██████████| 5/5 [01:53<00:00, 22.66s/it]\n",
      "100%|██████████| 1/1 [00:00<00:00, 16.00it/s]\n",
      "158it [5:37:41, 119.55s/it]"
     ]
    },
    {
     "name": "stdout",
     "output_type": "stream",
     "text": [
      "    Evaluation Episode 0/1\n",
      "    Average Reward over last 50 episodes: -16303.94\n",
      "    Min Reward over last 50 episodes: -16390.52\n",
      "    Max Reward over last 50 episodes: -16210.81\n",
      "    Evaluation Average Reward: -16383.82\n",
      "\n",
      "Running combination 159/9555 with parameters: {'epsilon': 0.025, 'epsilon_decay': 0.99, 'alpha': 0.4, 'gamma': 0.8, 'no_change_after_lap': 135}\n"
     ]
    },
    {
     "name": "stderr",
     "output_type": "stream",
     "text": []
    },
    {
     "name": "stdout",
     "output_type": "stream",
     "text": [
      "    Training Episode 0/5\n"
     ]
    },
    {
     "name": "stderr",
     "output_type": "stream",
     "text": [
      "100%|██████████| 5/5 [02:05<00:00, 25.15s/it]\n",
      "100%|██████████| 1/1 [00:00<00:00, 19.41it/s]\n",
      "159it [5:39:47, 121.43s/it]"
     ]
    },
    {
     "name": "stdout",
     "output_type": "stream",
     "text": [
      "    Evaluation Episode 0/1\n",
      "    Average Reward over last 50 episodes: -20525.01\n",
      "    Min Reward over last 50 episodes: -20800.22\n",
      "    Max Reward over last 50 episodes: -20250.86\n",
      "    Evaluation Average Reward: -20438.69\n",
      "\n",
      "Running combination 160/9555 with parameters: {'epsilon': 0.05, 'epsilon_decay': 0.999, 'alpha': 0.2, 'gamma': 1.0, 'no_change_after_lap': 145}\n"
     ]
    },
    {
     "name": "stderr",
     "output_type": "stream",
     "text": []
    },
    {
     "name": "stdout",
     "output_type": "stream",
     "text": [
      "    Training Episode 0/5\n"
     ]
    },
    {
     "name": "stderr",
     "output_type": "stream",
     "text": [
      "100%|██████████| 5/5 [02:01<00:00, 24.29s/it]\n",
      "100%|██████████| 1/1 [00:00<00:00, 16.66it/s]\n",
      "160it [5:41:49, 121.46s/it]"
     ]
    },
    {
     "name": "stdout",
     "output_type": "stream",
     "text": [
      "    Evaluation Episode 0/1\n",
      "    Average Reward over last 50 episodes: -18149.27\n",
      "    Min Reward over last 50 episodes: -18383.56\n",
      "    Max Reward over last 50 episodes: -17886.29\n",
      "    Evaluation Average Reward: -18329.71\n",
      "\n",
      "Running combination 161/9555 with parameters: {'epsilon': 0.1, 'epsilon_decay': 0.995, 'alpha': 0.4, 'gamma': 0.9, 'no_change_after_lap': 125}\n"
     ]
    },
    {
     "name": "stderr",
     "output_type": "stream",
     "text": []
    },
    {
     "name": "stdout",
     "output_type": "stream",
     "text": [
      "    Training Episode 0/5\n"
     ]
    },
    {
     "name": "stderr",
     "output_type": "stream",
     "text": [
      "100%|██████████| 5/5 [02:00<00:00, 24.04s/it]\n",
      "100%|██████████| 1/1 [00:00<00:00, 16.26it/s]\n",
      "161it [5:43:49, 121.11s/it]"
     ]
    },
    {
     "name": "stdout",
     "output_type": "stream",
     "text": [
      "    Evaluation Episode 0/1\n",
      "    Average Reward over last 50 episodes: -23217.48\n",
      "    Min Reward over last 50 episodes: -23532.73\n",
      "    Max Reward over last 50 episodes: -22988.91\n",
      "    Evaluation Average Reward: -22676.41\n",
      "\n",
      "Running combination 162/9555 with parameters: {'epsilon': 0.1, 'epsilon_decay': 0.99, 'alpha': 0.4, 'gamma': 0.0, 'no_change_after_lap': 160}\n"
     ]
    },
    {
     "name": "stderr",
     "output_type": "stream",
     "text": []
    },
    {
     "name": "stdout",
     "output_type": "stream",
     "text": [
      "    Training Episode 0/5\n"
     ]
    },
    {
     "name": "stderr",
     "output_type": "stream",
     "text": [
      "100%|██████████| 5/5 [02:04<00:00, 24.96s/it]\n",
      "100%|██████████| 1/1 [00:00<00:00, 17.70it/s]\n",
      "162it [5:45:54, 122.23s/it]"
     ]
    },
    {
     "name": "stdout",
     "output_type": "stream",
     "text": [
      "    Evaluation Episode 0/1\n",
      "    Average Reward over last 50 episodes: -16049.23\n",
      "    Min Reward over last 50 episodes: -16102.48\n",
      "    Max Reward over last 50 episodes: -15975.53\n",
      "    Evaluation Average Reward: -16137.68\n",
      "\n",
      "Running combination 163/9555 with parameters: {'epsilon': 0.1, 'epsilon_decay': 0.999, 'alpha': 0.4, 'gamma': 0.2, 'no_change_after_lap': 130}\n"
     ]
    },
    {
     "name": "stderr",
     "output_type": "stream",
     "text": []
    },
    {
     "name": "stdout",
     "output_type": "stream",
     "text": [
      "    Training Episode 0/5\n"
     ]
    },
    {
     "name": "stderr",
     "output_type": "stream",
     "text": [
      "100%|██████████| 5/5 [02:04<00:00, 24.84s/it]\n",
      "100%|██████████| 1/1 [00:00<00:00, 15.26it/s]\n",
      "163it [5:47:58, 122.85s/it]"
     ]
    },
    {
     "name": "stdout",
     "output_type": "stream",
     "text": [
      "    Evaluation Episode 0/1\n",
      "    Average Reward over last 50 episodes: -21612.07\n",
      "    Min Reward over last 50 episodes: -21781.85\n",
      "    Max Reward over last 50 episodes: -21432.46\n",
      "    Evaluation Average Reward: -21989.39\n",
      "\n",
      "Running combination 164/9555 with parameters: {'epsilon': 0.05, 'epsilon_decay': 0.999, 'alpha': 0.8, 'gamma': 0.2, 'no_change_after_lap': 120}\n"
     ]
    },
    {
     "name": "stderr",
     "output_type": "stream",
     "text": []
    },
    {
     "name": "stdout",
     "output_type": "stream",
     "text": [
      "    Training Episode 0/5\n"
     ]
    },
    {
     "name": "stderr",
     "output_type": "stream",
     "text": [
      "100%|██████████| 5/5 [02:03<00:00, 24.68s/it]\n",
      "100%|██████████| 1/1 [00:00<00:00, 16.95it/s]\n",
      "164it [5:50:02, 123.04s/it]"
     ]
    },
    {
     "name": "stdout",
     "output_type": "stream",
     "text": [
      "    Evaluation Episode 0/1\n",
      "    Average Reward over last 50 episodes: -24298.90\n",
      "    Min Reward over last 50 episodes: -24569.04\n",
      "    Max Reward over last 50 episodes: -24183.03\n",
      "    Evaluation Average Reward: -24563.20\n",
      "\n",
      "Running combination 165/9555 with parameters: {'epsilon': 0.1, 'epsilon_decay': 0.995, 'alpha': 0.9, 'gamma': 0.6, 'no_change_after_lap': 160}\n"
     ]
    },
    {
     "name": "stderr",
     "output_type": "stream",
     "text": []
    },
    {
     "name": "stdout",
     "output_type": "stream",
     "text": [
      "    Training Episode 0/5\n"
     ]
    },
    {
     "name": "stderr",
     "output_type": "stream",
     "text": [
      "100%|██████████| 5/5 [02:03<00:00, 24.71s/it]\n",
      "100%|██████████| 1/1 [00:00<00:00, 15.27it/s]\n",
      "165it [5:52:05, 123.22s/it]"
     ]
    },
    {
     "name": "stdout",
     "output_type": "stream",
     "text": [
      "    Evaluation Episode 0/1\n",
      "    Average Reward over last 50 episodes: -16046.00\n",
      "    Min Reward over last 50 episodes: -16159.87\n",
      "    Max Reward over last 50 episodes: -15949.12\n",
      "    Evaluation Average Reward: -16071.87\n",
      "\n",
      "Running combination 166/9555 with parameters: {'epsilon': 0.2, 'epsilon_decay': 0.995, 'alpha': 0.8, 'gamma': 0.9, 'no_change_after_lap': 130}\n"
     ]
    },
    {
     "name": "stderr",
     "output_type": "stream",
     "text": []
    },
    {
     "name": "stdout",
     "output_type": "stream",
     "text": [
      "    Training Episode 0/5\n"
     ]
    },
    {
     "name": "stderr",
     "output_type": "stream",
     "text": [
      "100%|██████████| 5/5 [02:03<00:00, 24.71s/it]\n",
      "100%|██████████| 1/1 [00:00<00:00, 19.41it/s]\n",
      "166it [5:54:09, 123.34s/it]"
     ]
    },
    {
     "name": "stdout",
     "output_type": "stream",
     "text": [
      "    Evaluation Episode 0/1\n",
      "    Average Reward over last 50 episodes: -21937.07\n",
      "    Min Reward over last 50 episodes: -22158.55\n",
      "    Max Reward over last 50 episodes: -21703.01\n",
      "    Evaluation Average Reward: -21665.54\n",
      "\n",
      "Running combination 167/9555 with parameters: {'epsilon': 0.1, 'epsilon_decay': 0.995, 'alpha': 1.0, 'gamma': 0.0, 'no_change_after_lap': 130}\n"
     ]
    },
    {
     "name": "stderr",
     "output_type": "stream",
     "text": []
    },
    {
     "name": "stdout",
     "output_type": "stream",
     "text": [
      "    Training Episode 0/5\n"
     ]
    },
    {
     "name": "stderr",
     "output_type": "stream",
     "text": [
      "100%|██████████| 5/5 [02:01<00:00, 24.33s/it]\n",
      "100%|██████████| 1/1 [00:00<00:00, 16.12it/s]\n",
      "167it [5:56:11, 122.85s/it]"
     ]
    },
    {
     "name": "stdout",
     "output_type": "stream",
     "text": [
      "    Evaluation Episode 0/1\n",
      "    Average Reward over last 50 episodes: -21955.57\n",
      "    Min Reward over last 50 episodes: -22163.71\n",
      "    Max Reward over last 50 episodes: -21680.10\n",
      "    Evaluation Average Reward: -22058.75\n",
      "SKIPPING\n",
      "\n",
      "Running combination 168/9555 with parameters: {'epsilon': 0.05, 'epsilon_decay': 0.995, 'alpha': 0.4, 'gamma': 0.2, 'no_change_after_lap': 150}\n"
     ]
    },
    {
     "name": "stderr",
     "output_type": "stream",
     "text": []
    },
    {
     "name": "stdout",
     "output_type": "stream",
     "text": [
      "    Training Episode 0/5\n"
     ]
    },
    {
     "name": "stderr",
     "output_type": "stream",
     "text": [
      "100%|██████████| 5/5 [01:58<00:00, 23.75s/it]\n",
      "100%|██████████| 1/1 [00:00<00:00, 17.85it/s]\n",
      "168it [5:58:09, 121.65s/it]"
     ]
    },
    {
     "name": "stdout",
     "output_type": "stream",
     "text": [
      "    Evaluation Episode 0/1\n",
      "    Average Reward over last 50 episodes: -17157.87\n",
      "    Min Reward over last 50 episodes: -17303.11\n",
      "    Max Reward over last 50 episodes: -16936.48\n",
      "    Evaluation Average Reward: -17028.50\n",
      "\n",
      "Running combination 169/9555 with parameters: {'epsilon': 0.0, 'epsilon_decay': 0.999, 'alpha': 0.2, 'gamma': 0.4, 'no_change_after_lap': 115}\n"
     ]
    },
    {
     "name": "stderr",
     "output_type": "stream",
     "text": []
    },
    {
     "name": "stdout",
     "output_type": "stream",
     "text": [
      "    Training Episode 0/5\n"
     ]
    },
    {
     "name": "stderr",
     "output_type": "stream",
     "text": [
      "100%|██████████| 5/5 [01:59<00:00, 23.88s/it]\n",
      "100%|██████████| 1/1 [00:00<00:00, 22.47it/s]\n",
      "169it [6:00:09, 120.99s/it]"
     ]
    },
    {
     "name": "stdout",
     "output_type": "stream",
     "text": [
      "    Evaluation Episode 0/1\n",
      "    Average Reward over last 50 episodes: -25703.37\n",
      "    Min Reward over last 50 episodes: -25925.16\n",
      "    Max Reward over last 50 episodes: -25395.82\n",
      "    Evaluation Average Reward: -25813.24\n",
      "\n",
      "Running combination 170/9555 with parameters: {'epsilon': 0.2, 'epsilon_decay': 0.999, 'alpha': 1.0, 'gamma': 0.0, 'no_change_after_lap': 135}\n"
     ]
    },
    {
     "name": "stderr",
     "output_type": "stream",
     "text": []
    },
    {
     "name": "stdout",
     "output_type": "stream",
     "text": [
      "    Training Episode 0/5\n"
     ]
    },
    {
     "name": "stderr",
     "output_type": "stream",
     "text": [
      "100%|██████████| 5/5 [02:05<00:00, 25.14s/it]\n",
      "100%|██████████| 1/1 [00:00<00:00, 14.92it/s]\n",
      "170it [6:02:15, 122.43s/it]"
     ]
    },
    {
     "name": "stdout",
     "output_type": "stream",
     "text": [
      "    Evaluation Episode 0/1\n",
      "    Average Reward over last 50 episodes: -20555.57\n",
      "    Min Reward over last 50 episodes: -20726.68\n",
      "    Max Reward over last 50 episodes: -20355.01\n",
      "    Evaluation Average Reward: -20377.77\n",
      "\n",
      "Running combination 171/9555 with parameters: {'epsilon': 0.2, 'epsilon_decay': 0.995, 'alpha': 0.0, 'gamma': 1.0, 'no_change_after_lap': 130}\n"
     ]
    },
    {
     "name": "stderr",
     "output_type": "stream",
     "text": []
    },
    {
     "name": "stdout",
     "output_type": "stream",
     "text": [
      "    Training Episode 0/5\n"
     ]
    },
    {
     "name": "stderr",
     "output_type": "stream",
     "text": [
      "100%|██████████| 5/5 [01:51<00:00, 22.31s/it]\n",
      "100%|██████████| 1/1 [00:00<00:00, 21.73it/s]\n",
      "171it [6:04:06, 119.18s/it]"
     ]
    },
    {
     "name": "stdout",
     "output_type": "stream",
     "text": [
      "    Evaluation Episode 0/1\n",
      "    Average Reward over last 50 episodes: -21650.95\n",
      "    Min Reward over last 50 episodes: -21910.49\n",
      "    Max Reward over last 50 episodes: -21434.54\n",
      "    Evaluation Average Reward: -22111.77\n",
      "\n",
      "Running combination 172/9555 with parameters: {'epsilon': 0.025, 'epsilon_decay': 0.999, 'alpha': 0.9, 'gamma': 1.0, 'no_change_after_lap': 140}\n"
     ]
    },
    {
     "name": "stderr",
     "output_type": "stream",
     "text": []
    },
    {
     "name": "stdout",
     "output_type": "stream",
     "text": [
      "    Training Episode 0/5\n"
     ]
    },
    {
     "name": "stderr",
     "output_type": "stream",
     "text": [
      "100%|██████████| 5/5 [02:01<00:00, 24.40s/it]\n",
      "100%|██████████| 1/1 [00:00<00:00, 15.75it/s]\n",
      "172it [6:06:08, 120.05s/it]"
     ]
    },
    {
     "name": "stdout",
     "output_type": "stream",
     "text": [
      "    Evaluation Episode 0/1\n",
      "    Average Reward over last 50 episodes: -19426.88\n",
      "    Min Reward over last 50 episodes: -19595.82\n",
      "    Max Reward over last 50 episodes: -19207.64\n",
      "    Evaluation Average Reward: -19519.43\n",
      "\n",
      "Running combination 173/9555 with parameters: {'epsilon': 0.05, 'epsilon_decay': 0.995, 'alpha': 0.9, 'gamma': 0.4, 'no_change_after_lap': 145}\n"
     ]
    },
    {
     "name": "stderr",
     "output_type": "stream",
     "text": []
    },
    {
     "name": "stdout",
     "output_type": "stream",
     "text": [
      "    Training Episode 0/5\n"
     ]
    },
    {
     "name": "stderr",
     "output_type": "stream",
     "text": [
      "100%|██████████| 5/5 [02:00<00:00, 24.14s/it]\n",
      "100%|██████████| 1/1 [00:00<00:00, 20.00it/s]\n",
      "173it [6:08:09, 120.26s/it]"
     ]
    },
    {
     "name": "stdout",
     "output_type": "stream",
     "text": [
      "    Evaluation Episode 0/1\n",
      "    Average Reward over last 50 episodes: -18102.48\n",
      "    Min Reward over last 50 episodes: -18380.02\n",
      "    Max Reward over last 50 episodes: -17931.59\n",
      "    Evaluation Average Reward: -18284.24\n",
      "\n",
      "Running combination 174/9555 with parameters: {'epsilon': 0.025, 'epsilon_decay': 0.99, 'alpha': 0.9, 'gamma': 0.8, 'no_change_after_lap': 150}\n"
     ]
    },
    {
     "name": "stderr",
     "output_type": "stream",
     "text": []
    },
    {
     "name": "stdout",
     "output_type": "stream",
     "text": [
      "    Training Episode 0/5\n"
     ]
    },
    {
     "name": "stderr",
     "output_type": "stream",
     "text": [
      "100%|██████████| 5/5 [02:05<00:00, 25.06s/it]\n",
      "100%|██████████| 1/1 [00:00<00:00, 15.87it/s]\n",
      "174it [6:10:14, 121.79s/it]"
     ]
    },
    {
     "name": "stdout",
     "output_type": "stream",
     "text": [
      "    Evaluation Episode 0/1\n",
      "    Average Reward over last 50 episodes: -17121.67\n",
      "    Min Reward over last 50 episodes: -17232.01\n",
      "    Max Reward over last 50 episodes: -17006.16\n",
      "    Evaluation Average Reward: -17166.49\n",
      "\n",
      "Running combination 175/9555 with parameters: {'epsilon': 0.1, 'epsilon_decay': 0.999, 'alpha': 0.0, 'gamma': 0.2, 'no_change_after_lap': 130}\n"
     ]
    },
    {
     "name": "stderr",
     "output_type": "stream",
     "text": []
    },
    {
     "name": "stdout",
     "output_type": "stream",
     "text": [
      "    Training Episode 0/5\n"
     ]
    },
    {
     "name": "stderr",
     "output_type": "stream",
     "text": [
      "100%|██████████| 5/5 [02:00<00:00, 24.04s/it]\n",
      "100%|██████████| 1/1 [00:00<00:00, 18.52it/s]\n",
      "175it [6:12:15, 121.34s/it]"
     ]
    },
    {
     "name": "stdout",
     "output_type": "stream",
     "text": [
      "    Evaluation Episode 0/1\n",
      "    Average Reward over last 50 episodes: -21858.10\n",
      "    Min Reward over last 50 episodes: -22085.50\n",
      "    Max Reward over last 50 episodes: -21552.28\n",
      "    Evaluation Average Reward: -21977.41\n",
      "\n",
      "Running combination 176/9555 with parameters: {'epsilon': 0.025, 'epsilon_decay': 0.99, 'alpha': 0.6, 'gamma': 0.9, 'no_change_after_lap': 140}\n"
     ]
    },
    {
     "name": "stderr",
     "output_type": "stream",
     "text": []
    },
    {
     "name": "stdout",
     "output_type": "stream",
     "text": [
      "    Training Episode 0/5\n"
     ]
    },
    {
     "name": "stderr",
     "output_type": "stream",
     "text": [
      "100%|██████████| 5/5 [02:03<00:00, 24.78s/it]\n",
      "100%|██████████| 1/1 [00:00<00:00, 15.50it/s]\n",
      "176it [6:14:19, 122.13s/it]"
     ]
    },
    {
     "name": "stdout",
     "output_type": "stream",
     "text": [
      "    Evaluation Episode 0/1\n",
      "    Average Reward over last 50 episodes: -19489.12\n",
      "    Min Reward over last 50 episodes: -19625.90\n",
      "    Max Reward over last 50 episodes: -19272.92\n",
      "    Evaluation Average Reward: -19489.33\n",
      "\n",
      "Running combination 177/9555 with parameters: {'epsilon': 0.025, 'epsilon_decay': 0.99, 'alpha': 0.8, 'gamma': 0.9, 'no_change_after_lap': 145}\n"
     ]
    },
    {
     "name": "stderr",
     "output_type": "stream",
     "text": []
    },
    {
     "name": "stdout",
     "output_type": "stream",
     "text": [
      "    Training Episode 0/5\n"
     ]
    },
    {
     "name": "stderr",
     "output_type": "stream",
     "text": [
      "100%|██████████| 5/5 [02:00<00:00, 24.15s/it]\n",
      "100%|██████████| 1/1 [00:00<00:00, 15.75it/s]\n",
      "177it [6:16:20, 121.74s/it]"
     ]
    },
    {
     "name": "stdout",
     "output_type": "stream",
     "text": [
      "    Evaluation Episode 0/1\n",
      "    Average Reward over last 50 episodes: -18167.36\n",
      "    Min Reward over last 50 episodes: -18339.37\n",
      "    Max Reward over last 50 episodes: -17843.48\n",
      "    Evaluation Average Reward: -18030.75\n",
      "\n",
      "Running combination 178/9555 with parameters: {'epsilon': 0.2, 'epsilon_decay': 0.99, 'alpha': 0.4, 'gamma': 0.4, 'no_change_after_lap': 150}\n"
     ]
    },
    {
     "name": "stderr",
     "output_type": "stream",
     "text": []
    },
    {
     "name": "stdout",
     "output_type": "stream",
     "text": [
      "    Training Episode 0/5\n"
     ]
    },
    {
     "name": "stderr",
     "output_type": "stream",
     "text": [
      "100%|██████████| 5/5 [02:02<00:00, 24.46s/it]\n",
      "100%|██████████| 1/1 [00:00<00:00, 16.80it/s]\n",
      "178it [6:18:22, 121.93s/it]"
     ]
    },
    {
     "name": "stdout",
     "output_type": "stream",
     "text": [
      "    Evaluation Episode 0/1\n",
      "    Average Reward over last 50 episodes: -17138.99\n",
      "    Min Reward over last 50 episodes: -17497.75\n",
      "    Max Reward over last 50 episodes: -16934.87\n",
      "    Evaluation Average Reward: -17225.66\n",
      "\n",
      "Running combination 179/9555 with parameters: {'epsilon': 0.1, 'epsilon_decay': 0.999, 'alpha': 0.9, 'gamma': 0.0, 'no_change_after_lap': 140}\n"
     ]
    },
    {
     "name": "stderr",
     "output_type": "stream",
     "text": []
    },
    {
     "name": "stdout",
     "output_type": "stream",
     "text": [
      "    Training Episode 0/5\n"
     ]
    },
    {
     "name": "stderr",
     "output_type": "stream",
     "text": [
      "100%|██████████| 5/5 [02:05<00:00, 25.00s/it]\n",
      "100%|██████████| 1/1 [00:00<00:00, 15.75it/s]\n",
      "179it [6:20:27, 122.88s/it]"
     ]
    },
    {
     "name": "stdout",
     "output_type": "stream",
     "text": [
      "    Evaluation Episode 0/1\n",
      "    Average Reward over last 50 episodes: -19421.20\n",
      "    Min Reward over last 50 episodes: -19524.49\n",
      "    Max Reward over last 50 episodes: -19028.27\n",
      "    Evaluation Average Reward: -19047.10\n",
      "\n",
      "Running combination 180/9555 with parameters: {'epsilon': 0.1, 'epsilon_decay': 0.995, 'alpha': 0.0, 'gamma': 0.8, 'no_change_after_lap': 145}\n"
     ]
    },
    {
     "name": "stderr",
     "output_type": "stream",
     "text": []
    },
    {
     "name": "stdout",
     "output_type": "stream",
     "text": [
      "    Training Episode 0/5\n"
     ]
    },
    {
     "name": "stderr",
     "output_type": "stream",
     "text": [
      "100%|██████████| 5/5 [01:55<00:00, 23.05s/it]\n",
      "100%|██████████| 1/1 [00:00<00:00, 15.15it/s]\n",
      "180it [6:22:22, 120.62s/it]"
     ]
    },
    {
     "name": "stdout",
     "output_type": "stream",
     "text": [
      "    Evaluation Episode 0/1\n",
      "    Average Reward over last 50 episodes: -18042.86\n",
      "    Min Reward over last 50 episodes: -18232.78\n",
      "    Max Reward over last 50 episodes: -17840.69\n",
      "    Evaluation Average Reward: -17989.54\n",
      "\n",
      "Running combination 181/9555 with parameters: {'epsilon': 0.1, 'epsilon_decay': 0.999, 'alpha': 0.8, 'gamma': 0.2, 'no_change_after_lap': 105}\n"
     ]
    },
    {
     "name": "stderr",
     "output_type": "stream",
     "text": []
    },
    {
     "name": "stdout",
     "output_type": "stream",
     "text": [
      "    Training Episode 0/5\n"
     ]
    },
    {
     "name": "stderr",
     "output_type": "stream",
     "text": [
      "100%|██████████| 5/5 [01:58<00:00, 23.62s/it]\n",
      "100%|██████████| 1/1 [00:00<00:00, 16.95it/s]\n",
      "181it [6:24:21, 119.89s/it]"
     ]
    },
    {
     "name": "stdout",
     "output_type": "stream",
     "text": [
      "    Evaluation Episode 0/1\n",
      "    Average Reward over last 50 episodes: -28143.36\n",
      "    Min Reward over last 50 episodes: -28298.51\n",
      "    Max Reward over last 50 episodes: -27771.85\n",
      "    Evaluation Average Reward: -27886.04\n",
      "\n",
      "Running combination 182/9555 with parameters: {'epsilon': 0.025, 'epsilon_decay': 0.999, 'alpha': 0.4, 'gamma': 0.4, 'no_change_after_lap': 160}\n"
     ]
    },
    {
     "name": "stderr",
     "output_type": "stream",
     "text": []
    },
    {
     "name": "stdout",
     "output_type": "stream",
     "text": [
      "    Training Episode 0/5\n"
     ]
    },
    {
     "name": "stderr",
     "output_type": "stream",
     "text": [
      "100%|██████████| 5/5 [02:02<00:00, 24.42s/it]\n",
      "100%|██████████| 1/1 [00:00<00:00, 19.23it/s]\n",
      "182it [6:26:23, 120.56s/it]"
     ]
    },
    {
     "name": "stdout",
     "output_type": "stream",
     "text": [
      "    Evaluation Episode 0/1\n",
      "    Average Reward over last 50 episodes: -16077.89\n",
      "    Min Reward over last 50 episodes: -16170.99\n",
      "    Max Reward over last 50 episodes: -16017.40\n",
      "    Evaluation Average Reward: -16082.28\n",
      "\n",
      "Running combination 183/9555 with parameters: {'epsilon': 0.0, 'epsilon_decay': 0.99, 'alpha': 0.8, 'gamma': 0.9, 'no_change_after_lap': 115}\n"
     ]
    },
    {
     "name": "stderr",
     "output_type": "stream",
     "text": []
    },
    {
     "name": "stdout",
     "output_type": "stream",
     "text": [
      "    Training Episode 0/5\n"
     ]
    },
    {
     "name": "stderr",
     "output_type": "stream",
     "text": [
      "100%|██████████| 5/5 [02:08<00:00, 25.60s/it]\n",
      "100%|██████████| 1/1 [00:00<00:00, 19.42it/s]\n",
      "183it [6:28:31, 122.82s/it]"
     ]
    },
    {
     "name": "stdout",
     "output_type": "stream",
     "text": [
      "    Evaluation Episode 0/1\n",
      "    Average Reward over last 50 episodes: -25555.39\n",
      "    Min Reward over last 50 episodes: -25821.08\n",
      "    Max Reward over last 50 episodes: -25244.04\n",
      "    Evaluation Average Reward: -25780.74\n",
      "\n",
      "Running combination 184/9555 with parameters: {'epsilon': 0.025, 'epsilon_decay': 0.999, 'alpha': 1.0, 'gamma': 0.8, 'no_change_after_lap': 155}\n"
     ]
    },
    {
     "name": "stderr",
     "output_type": "stream",
     "text": []
    },
    {
     "name": "stdout",
     "output_type": "stream",
     "text": [
      "    Training Episode 0/5\n"
     ]
    },
    {
     "name": "stderr",
     "output_type": "stream",
     "text": [
      "100%|██████████| 5/5 [02:02<00:00, 24.44s/it]\n",
      "100%|██████████| 1/1 [00:00<00:00, 20.40it/s]\n",
      "184it [6:30:33, 122.66s/it]"
     ]
    },
    {
     "name": "stdout",
     "output_type": "stream",
     "text": [
      "    Evaluation Episode 0/1\n",
      "    Average Reward over last 50 episodes: -16306.84\n",
      "    Min Reward over last 50 episodes: -16348.02\n",
      "    Max Reward over last 50 episodes: -16250.29\n",
      "    Evaluation Average Reward: -16315.76\n",
      "\n",
      "Running combination 185/9555 with parameters: {'epsilon': 0.2, 'epsilon_decay': 0.99, 'alpha': 0.0, 'gamma': 0.8, 'no_change_after_lap': 130}\n"
     ]
    },
    {
     "name": "stderr",
     "output_type": "stream",
     "text": []
    },
    {
     "name": "stdout",
     "output_type": "stream",
     "text": [
      "    Training Episode 0/5\n"
     ]
    },
    {
     "name": "stderr",
     "output_type": "stream",
     "text": [
      "100%|██████████| 5/5 [01:57<00:00, 23.49s/it]\n",
      "100%|██████████| 1/1 [00:00<00:00, 22.21it/s]\n",
      "185it [6:32:31, 121.12s/it]"
     ]
    },
    {
     "name": "stdout",
     "output_type": "stream",
     "text": [
      "    Evaluation Episode 0/1\n",
      "    Average Reward over last 50 episodes: -21713.87\n",
      "    Min Reward over last 50 episodes: -21994.89\n",
      "    Max Reward over last 50 episodes: -21486.91\n",
      "    Evaluation Average Reward: -21729.83\n",
      "\n",
      "Running combination 186/9555 with parameters: {'epsilon': 0.05, 'epsilon_decay': 0.99, 'alpha': 0.8, 'gamma': 0.8, 'no_change_after_lap': 120}\n"
     ]
    },
    {
     "name": "stderr",
     "output_type": "stream",
     "text": []
    },
    {
     "name": "stdout",
     "output_type": "stream",
     "text": [
      "    Training Episode 0/5\n"
     ]
    },
    {
     "name": "stderr",
     "output_type": "stream",
     "text": [
      "100%|██████████| 5/5 [02:06<00:00, 25.29s/it]\n",
      "100%|██████████| 1/1 [00:00<00:00, 15.50it/s]\n",
      "186it [6:34:37, 122.73s/it]"
     ]
    },
    {
     "name": "stdout",
     "output_type": "stream",
     "text": [
      "    Evaluation Episode 0/1\n",
      "    Average Reward over last 50 episodes: -24200.20\n",
      "    Min Reward over last 50 episodes: -24400.35\n",
      "    Max Reward over last 50 episodes: -23990.28\n",
      "    Evaluation Average Reward: -24202.72\n",
      "\n",
      "Running combination 187/9555 with parameters: {'epsilon': 0.2, 'epsilon_decay': 0.999, 'alpha': 1.0, 'gamma': 0.2, 'no_change_after_lap': 150}\n"
     ]
    },
    {
     "name": "stderr",
     "output_type": "stream",
     "text": []
    },
    {
     "name": "stdout",
     "output_type": "stream",
     "text": [
      "    Training Episode 0/5\n"
     ]
    },
    {
     "name": "stderr",
     "output_type": "stream",
     "text": [
      "100%|██████████| 5/5 [01:58<00:00, 23.63s/it]\n",
      "100%|██████████| 1/1 [00:00<00:00, 16.95it/s]\n",
      "187it [6:36:35, 121.38s/it]"
     ]
    },
    {
     "name": "stdout",
     "output_type": "stream",
     "text": [
      "    Evaluation Episode 0/1\n",
      "    Average Reward over last 50 episodes: -17148.25\n",
      "    Min Reward over last 50 episodes: -17261.09\n",
      "    Max Reward over last 50 episodes: -16871.42\n",
      "    Evaluation Average Reward: -16899.56\n",
      "\n",
      "Running combination 188/9555 with parameters: {'epsilon': 0.1, 'epsilon_decay': 0.999, 'alpha': 0.2, 'gamma': 0.4, 'no_change_after_lap': 135}\n"
     ]
    },
    {
     "name": "stderr",
     "output_type": "stream",
     "text": []
    },
    {
     "name": "stdout",
     "output_type": "stream",
     "text": [
      "    Training Episode 0/5\n"
     ]
    },
    {
     "name": "stderr",
     "output_type": "stream",
     "text": [
      "100%|██████████| 5/5 [02:03<00:00, 24.71s/it]\n",
      "100%|██████████| 1/1 [00:00<00:00, 15.50it/s]\n",
      "188it [6:38:39, 122.05s/it]"
     ]
    },
    {
     "name": "stdout",
     "output_type": "stream",
     "text": [
      "    Evaluation Episode 0/1\n",
      "    Average Reward over last 50 episodes: -20498.23\n",
      "    Min Reward over last 50 episodes: -20855.96\n",
      "    Max Reward over last 50 episodes: -20264.33\n",
      "    Evaluation Average Reward: -20458.35\n",
      "\n",
      "Running combination 189/9555 with parameters: {'epsilon': 0.05, 'epsilon_decay': 0.999, 'alpha': 0.0, 'gamma': 0.8, 'no_change_after_lap': 105}\n"
     ]
    },
    {
     "name": "stderr",
     "output_type": "stream",
     "text": []
    },
    {
     "name": "stdout",
     "output_type": "stream",
     "text": [
      "    Training Episode 0/5\n"
     ]
    },
    {
     "name": "stderr",
     "output_type": "stream",
     "text": [
      "100%|██████████| 5/5 [01:57<00:00, 23.43s/it]\n",
      "100%|██████████| 1/1 [00:00<00:00, 17.09it/s]\n",
      "189it [6:40:36, 120.61s/it]"
     ]
    },
    {
     "name": "stdout",
     "output_type": "stream",
     "text": [
      "    Evaluation Episode 0/1\n",
      "    Average Reward over last 50 episodes: -28133.85\n",
      "    Min Reward over last 50 episodes: -28279.47\n",
      "    Max Reward over last 50 episodes: -28032.02\n",
      "    Evaluation Average Reward: -27953.30\n",
      "\n",
      "Running combination 190/9555 with parameters: {'epsilon': 0.2, 'epsilon_decay': 0.999, 'alpha': 0.0, 'gamma': 0.4, 'no_change_after_lap': 130}\n"
     ]
    },
    {
     "name": "stderr",
     "output_type": "stream",
     "text": []
    },
    {
     "name": "stdout",
     "output_type": "stream",
     "text": [
      "    Training Episode 0/5\n"
     ]
    },
    {
     "name": "stderr",
     "output_type": "stream",
     "text": [
      "100%|██████████| 5/5 [01:56<00:00, 23.27s/it]\n",
      "100%|██████████| 1/1 [00:00<00:00, 14.70it/s]\n",
      "190it [6:42:33, 119.36s/it]"
     ]
    },
    {
     "name": "stdout",
     "output_type": "stream",
     "text": [
      "    Evaluation Episode 0/1\n",
      "    Average Reward over last 50 episodes: -21825.05\n",
      "    Min Reward over last 50 episodes: -22085.98\n",
      "    Max Reward over last 50 episodes: -21509.86\n",
      "    Evaluation Average Reward: -22108.43\n",
      "\n",
      "Running combination 191/9555 with parameters: {'epsilon': 0.025, 'epsilon_decay': 0.995, 'alpha': 0.0, 'gamma': 0.9, 'no_change_after_lap': 155}\n"
     ]
    },
    {
     "name": "stderr",
     "output_type": "stream",
     "text": []
    },
    {
     "name": "stdout",
     "output_type": "stream",
     "text": [
      "    Training Episode 0/5\n"
     ]
    },
    {
     "name": "stderr",
     "output_type": "stream",
     "text": [
      "100%|██████████| 5/5 [01:53<00:00, 22.79s/it]\n",
      "100%|██████████| 1/1 [00:00<00:00, 15.62it/s]\n",
      "191it [6:44:27, 117.76s/it]"
     ]
    },
    {
     "name": "stdout",
     "output_type": "stream",
     "text": [
      "    Evaluation Episode 0/1\n",
      "    Average Reward over last 50 episodes: -16344.10\n",
      "    Min Reward over last 50 episodes: -16384.58\n",
      "    Max Reward over last 50 episodes: -16258.20\n",
      "    Evaluation Average Reward: -16353.21\n",
      "\n",
      "Running combination 192/9555 with parameters: {'epsilon': 0.05, 'epsilon_decay': 0.999, 'alpha': 1.0, 'gamma': 0.9, 'no_change_after_lap': 145}\n"
     ]
    },
    {
     "name": "stderr",
     "output_type": "stream",
     "text": []
    },
    {
     "name": "stdout",
     "output_type": "stream",
     "text": [
      "    Training Episode 0/5\n"
     ]
    },
    {
     "name": "stderr",
     "output_type": "stream",
     "text": [
      "100%|██████████| 5/5 [02:01<00:00, 24.30s/it]\n",
      "100%|██████████| 1/1 [00:00<00:00, 14.39it/s]\n",
      "192it [6:46:28, 118.91s/it]"
     ]
    },
    {
     "name": "stdout",
     "output_type": "stream",
     "text": [
      "    Evaluation Episode 0/1\n",
      "    Average Reward over last 50 episodes: -18276.17\n",
      "    Min Reward over last 50 episodes: -18364.82\n",
      "    Max Reward over last 50 episodes: -18116.37\n",
      "    Evaluation Average Reward: -18348.90\n",
      "\n",
      "Running combination 193/9555 with parameters: {'epsilon': 0.1, 'epsilon_decay': 0.999, 'alpha': 1.0, 'gamma': 0.2, 'no_change_after_lap': 110}\n"
     ]
    },
    {
     "name": "stderr",
     "output_type": "stream",
     "text": []
    },
    {
     "name": "stdout",
     "output_type": "stream",
     "text": [
      "    Training Episode 0/5\n"
     ]
    },
    {
     "name": "stderr",
     "output_type": "stream",
     "text": [
      "100%|██████████| 5/5 [02:04<00:00, 24.96s/it]\n",
      "100%|██████████| 1/1 [00:00<00:00, 15.50it/s]\n",
      "193it [6:48:33, 120.69s/it]"
     ]
    },
    {
     "name": "stdout",
     "output_type": "stream",
     "text": [
      "    Evaluation Episode 0/1\n",
      "    Average Reward over last 50 episodes: -26762.35\n",
      "    Min Reward over last 50 episodes: -27039.08\n",
      "    Max Reward over last 50 episodes: -26577.70\n",
      "    Evaluation Average Reward: -26945.26\n",
      "\n",
      "Running combination 194/9555 with parameters: {'epsilon': 0.025, 'epsilon_decay': 0.999, 'alpha': 0.8, 'gamma': 0.8, 'no_change_after_lap': 130}\n"
     ]
    },
    {
     "name": "stderr",
     "output_type": "stream",
     "text": []
    },
    {
     "name": "stdout",
     "output_type": "stream",
     "text": [
      "    Training Episode 0/5\n"
     ]
    },
    {
     "name": "stderr",
     "output_type": "stream",
     "text": [
      "100%|██████████| 5/5 [02:01<00:00, 24.29s/it]\n",
      "100%|██████████| 1/1 [00:00<00:00, 16.66it/s]\n",
      "194it [6:50:35, 120.95s/it]"
     ]
    },
    {
     "name": "stdout",
     "output_type": "stream",
     "text": [
      "    Evaluation Episode 0/1\n",
      "    Average Reward over last 50 episodes: -21753.67\n",
      "    Min Reward over last 50 episodes: -22041.87\n",
      "    Max Reward over last 50 episodes: -21552.30\n",
      "    Evaluation Average Reward: -21736.69\n",
      "\n",
      "Running combination 195/9555 with parameters: {'epsilon': 0.1, 'epsilon_decay': 0.995, 'alpha': 0.4, 'gamma': 0.9, 'no_change_after_lap': 115}\n"
     ]
    },
    {
     "name": "stderr",
     "output_type": "stream",
     "text": []
    },
    {
     "name": "stdout",
     "output_type": "stream",
     "text": [
      "    Training Episode 0/5\n"
     ]
    },
    {
     "name": "stderr",
     "output_type": "stream",
     "text": [
      "100%|██████████| 5/5 [02:03<00:00, 24.64s/it]\n",
      "100%|██████████| 1/1 [00:00<00:00, 16.00it/s]\n",
      "195it [6:52:38, 121.64s/it]"
     ]
    },
    {
     "name": "stdout",
     "output_type": "stream",
     "text": [
      "    Evaluation Episode 0/1\n",
      "    Average Reward over last 50 episodes: -25696.98\n",
      "    Min Reward over last 50 episodes: -25877.17\n",
      "    Max Reward over last 50 episodes: -25472.32\n",
      "    Evaluation Average Reward: -25929.04\n",
      "\n",
      "Running combination 196/9555 with parameters: {'epsilon': 0.0, 'epsilon_decay': 0.999, 'alpha': 0.0, 'gamma': 0.2, 'no_change_after_lap': 160}\n"
     ]
    },
    {
     "name": "stderr",
     "output_type": "stream",
     "text": []
    },
    {
     "name": "stdout",
     "output_type": "stream",
     "text": [
      "    Training Episode 0/5\n"
     ]
    },
    {
     "name": "stderr",
     "output_type": "stream",
     "text": [
      "100%|██████████| 5/5 [01:47<00:00, 21.55s/it]\n",
      "100%|██████████| 1/1 [00:00<00:00, 21.74it/s]\n",
      "196it [6:54:26, 117.49s/it]"
     ]
    },
    {
     "name": "stdout",
     "output_type": "stream",
     "text": [
      "    Evaluation Episode 0/1\n",
      "    Average Reward over last 50 episodes: -16085.01\n",
      "    Min Reward over last 50 episodes: -16132.57\n",
      "    Max Reward over last 50 episodes: -16027.52\n",
      "    Evaluation Average Reward: -16110.53\n",
      "\n",
      "Running combination 197/9555 with parameters: {'epsilon': 0.05, 'epsilon_decay': 0.99, 'alpha': 1.0, 'gamma': 0.4, 'no_change_after_lap': 110}\n"
     ]
    },
    {
     "name": "stderr",
     "output_type": "stream",
     "text": []
    },
    {
     "name": "stdout",
     "output_type": "stream",
     "text": [
      "    Training Episode 0/5\n"
     ]
    },
    {
     "name": "stderr",
     "output_type": "stream",
     "text": [
      "100%|██████████| 5/5 [02:03<00:00, 24.79s/it]\n",
      "100%|██████████| 1/1 [00:00<00:00, 17.24it/s]\n",
      "197it [6:56:30, 119.45s/it]"
     ]
    },
    {
     "name": "stdout",
     "output_type": "stream",
     "text": [
      "    Evaluation Episode 0/1\n",
      "    Average Reward over last 50 episodes: -26808.92\n",
      "    Min Reward over last 50 episodes: -27060.26\n",
      "    Max Reward over last 50 episodes: -26491.00\n",
      "    Evaluation Average Reward: -26537.30\n",
      "\n",
      "Running combination 198/9555 with parameters: {'epsilon': 0.0, 'epsilon_decay': 0.99, 'alpha': 0.0, 'gamma': 1.0, 'no_change_after_lap': 110}\n"
     ]
    },
    {
     "name": "stderr",
     "output_type": "stream",
     "text": []
    },
    {
     "name": "stdout",
     "output_type": "stream",
     "text": [
      "    Training Episode 0/5\n"
     ]
    },
    {
     "name": "stderr",
     "output_type": "stream",
     "text": [
      "100%|██████████| 5/5 [01:51<00:00, 22.35s/it]\n",
      "100%|██████████| 1/1 [00:00<00:00, 16.66it/s]\n",
      "198it [6:58:22, 117.16s/it]"
     ]
    },
    {
     "name": "stdout",
     "output_type": "stream",
     "text": [
      "    Evaluation Episode 0/1\n",
      "    Average Reward over last 50 episodes: -26855.88\n",
      "    Min Reward over last 50 episodes: -27089.70\n",
      "    Max Reward over last 50 episodes: -26513.72\n",
      "    Evaluation Average Reward: -26842.48\n",
      "\n",
      "Running combination 199/9555 with parameters: {'epsilon': 0.025, 'epsilon_decay': 0.99, 'alpha': 0.0, 'gamma': 0.0, 'no_change_after_lap': 130}\n"
     ]
    },
    {
     "name": "stderr",
     "output_type": "stream",
     "text": []
    },
    {
     "name": "stdout",
     "output_type": "stream",
     "text": [
      "    Training Episode 0/5\n"
     ]
    },
    {
     "name": "stderr",
     "output_type": "stream",
     "text": [
      "100%|██████████| 5/5 [01:42<00:00, 20.51s/it]\n",
      "100%|██████████| 1/1 [00:00<00:00, 15.26it/s]\n",
      "199it [7:00:04, 112.80s/it]"
     ]
    },
    {
     "name": "stdout",
     "output_type": "stream",
     "text": [
      "    Evaluation Episode 0/1\n",
      "    Average Reward over last 50 episodes: -22043.68\n",
      "    Min Reward over last 50 episodes: -22106.87\n",
      "    Max Reward over last 50 episodes: -21912.07\n",
      "    Evaluation Average Reward: -21715.45\n",
      "\n",
      "Running combination 200/9555 with parameters: {'epsilon': 0.2, 'epsilon_decay': 0.995, 'alpha': 0.2, 'gamma': 1.0, 'no_change_after_lap': 110}\n"
     ]
    },
    {
     "name": "stderr",
     "output_type": "stream",
     "text": []
    },
    {
     "name": "stdout",
     "output_type": "stream",
     "text": [
      "    Training Episode 0/5\n"
     ]
    },
    {
     "name": "stderr",
     "output_type": "stream",
     "text": [
      "100%|██████████| 5/5 [02:03<00:00, 24.78s/it]\n",
      "100%|██████████| 1/1 [00:00<00:00, 14.49it/s]\n",
      "200it [7:02:08, 116.15s/it]"
     ]
    },
    {
     "name": "stdout",
     "output_type": "stream",
     "text": [
      "    Evaluation Episode 0/1\n",
      "    Average Reward over last 50 episodes: -26946.28\n",
      "    Min Reward over last 50 episodes: -27246.24\n",
      "    Max Reward over last 50 episodes: -26611.71\n",
      "    Evaluation Average Reward: -26897.63\n",
      "\n",
      "Running combination 201/9555 with parameters: {'epsilon': 0.1, 'epsilon_decay': 0.995, 'alpha': 0.0, 'gamma': 0.4, 'no_change_after_lap': 120}\n"
     ]
    },
    {
     "name": "stderr",
     "output_type": "stream",
     "text": []
    },
    {
     "name": "stdout",
     "output_type": "stream",
     "text": [
      "    Training Episode 0/5\n"
     ]
    },
    {
     "name": "stderr",
     "output_type": "stream",
     "text": [
      "100%|██████████| 5/5 [01:54<00:00, 22.80s/it]\n",
      "100%|██████████| 1/1 [00:00<00:00, 17.69it/s]\n",
      "201it [7:04:02, 115.53s/it]"
     ]
    },
    {
     "name": "stdout",
     "output_type": "stream",
     "text": [
      "    Evaluation Episode 0/1\n",
      "    Average Reward over last 50 episodes: -24285.63\n",
      "    Min Reward over last 50 episodes: -24638.31\n",
      "    Max Reward over last 50 episodes: -24003.82\n",
      "    Evaluation Average Reward: -24148.72\n",
      "\n",
      "Running combination 202/9555 with parameters: {'epsilon': 0.1, 'epsilon_decay': 0.995, 'alpha': 1.0, 'gamma': 0.4, 'no_change_after_lap': 150}\n"
     ]
    },
    {
     "name": "stderr",
     "output_type": "stream",
     "text": []
    },
    {
     "name": "stdout",
     "output_type": "stream",
     "text": [
      "    Training Episode 0/5\n"
     ]
    },
    {
     "name": "stderr",
     "output_type": "stream",
     "text": [
      "100%|██████████| 5/5 [01:59<00:00, 23.91s/it]\n",
      "100%|██████████| 1/1 [00:00<00:00, 15.87it/s]\n",
      "202it [7:06:02, 116.76s/it]"
     ]
    },
    {
     "name": "stdout",
     "output_type": "stream",
     "text": [
      "    Evaluation Episode 0/1\n",
      "    Average Reward over last 50 episodes: -17030.44\n",
      "    Min Reward over last 50 episodes: -17136.24\n",
      "    Max Reward over last 50 episodes: -16909.42\n",
      "    Evaluation Average Reward: -17193.71\n",
      "\n",
      "Running combination 203/9555 with parameters: {'epsilon': 0.05, 'epsilon_decay': 0.99, 'alpha': 0.8, 'gamma': 0.8, 'no_change_after_lap': 130}\n"
     ]
    },
    {
     "name": "stderr",
     "output_type": "stream",
     "text": []
    },
    {
     "name": "stdout",
     "output_type": "stream",
     "text": [
      "    Training Episode 0/5\n"
     ]
    },
    {
     "name": "stderr",
     "output_type": "stream",
     "text": [
      "100%|██████████| 5/5 [02:05<00:00, 25.20s/it]\n",
      "100%|██████████| 1/1 [00:00<00:00, 15.87it/s]\n",
      "203it [7:08:08, 119.55s/it]"
     ]
    },
    {
     "name": "stdout",
     "output_type": "stream",
     "text": [
      "    Evaluation Episode 0/1\n",
      "    Average Reward over last 50 episodes: -21825.62\n",
      "    Min Reward over last 50 episodes: -22005.19\n",
      "    Max Reward over last 50 episodes: -21481.61\n",
      "    Evaluation Average Reward: -21525.10\n",
      "\n",
      "Running combination 204/9555 with parameters: {'epsilon': 0.025, 'epsilon_decay': 0.99, 'alpha': 0.6, 'gamma': 0.9, 'no_change_after_lap': 130}\n"
     ]
    },
    {
     "name": "stderr",
     "output_type": "stream",
     "text": []
    },
    {
     "name": "stdout",
     "output_type": "stream",
     "text": [
      "    Training Episode 0/5\n"
     ]
    },
    {
     "name": "stderr",
     "output_type": "stream",
     "text": [
      "100%|██████████| 5/5 [01:57<00:00, 23.56s/it]\n",
      "100%|██████████| 1/1 [00:00<00:00, 17.86it/s]\n",
      "204it [7:10:06, 119.05s/it]"
     ]
    },
    {
     "name": "stdout",
     "output_type": "stream",
     "text": [
      "    Evaluation Episode 0/1\n",
      "    Average Reward over last 50 episodes: -21931.44\n",
      "    Min Reward over last 50 episodes: -22116.33\n",
      "    Max Reward over last 50 episodes: -21795.76\n",
      "    Evaluation Average Reward: -22015.30\n",
      "\n",
      "Running combination 205/9555 with parameters: {'epsilon': 0.2, 'epsilon_decay': 0.99, 'alpha': 0.4, 'gamma': 0.2, 'no_change_after_lap': 120}\n"
     ]
    },
    {
     "name": "stderr",
     "output_type": "stream",
     "text": []
    },
    {
     "name": "stdout",
     "output_type": "stream",
     "text": [
      "    Training Episode 0/5\n"
     ]
    },
    {
     "name": "stderr",
     "output_type": "stream",
     "text": [
      "100%|██████████| 5/5 [02:03<00:00, 24.75s/it]\n",
      "100%|██████████| 1/1 [00:00<00:00, 16.53it/s]\n",
      "205it [7:12:10, 120.48s/it]"
     ]
    },
    {
     "name": "stdout",
     "output_type": "stream",
     "text": [
      "    Evaluation Episode 0/1\n",
      "    Average Reward over last 50 episodes: -24539.01\n",
      "    Min Reward over last 50 episodes: -24743.00\n",
      "    Max Reward over last 50 episodes: -24211.83\n",
      "    Evaluation Average Reward: -24436.43\n",
      "\n",
      "Running combination 206/9555 with parameters: {'epsilon': 0.2, 'epsilon_decay': 0.999, 'alpha': 1.0, 'gamma': 0.9, 'no_change_after_lap': 160}\n"
     ]
    },
    {
     "name": "stderr",
     "output_type": "stream",
     "text": []
    },
    {
     "name": "stdout",
     "output_type": "stream",
     "text": [
      "    Training Episode 0/5\n"
     ]
    },
    {
     "name": "stderr",
     "output_type": "stream",
     "text": [
      "100%|██████████| 5/5 [02:05<00:00, 25.04s/it]\n",
      "100%|██████████| 1/1 [00:00<00:00, 16.26it/s]\n",
      "206it [7:14:15, 121.92s/it]"
     ]
    },
    {
     "name": "stdout",
     "output_type": "stream",
     "text": [
      "    Evaluation Episode 0/1\n",
      "    Average Reward over last 50 episodes: -16048.36\n",
      "    Min Reward over last 50 episodes: -16080.18\n",
      "    Max Reward over last 50 episodes: -16025.29\n",
      "    Evaluation Average Reward: -16139.53\n",
      "\n",
      "Running combination 207/9555 with parameters: {'epsilon': 0.05, 'epsilon_decay': 0.99, 'alpha': 0.2, 'gamma': 1.0, 'no_change_after_lap': 160}\n"
     ]
    },
    {
     "name": "stderr",
     "output_type": "stream",
     "text": []
    },
    {
     "name": "stdout",
     "output_type": "stream",
     "text": [
      "    Training Episode 0/5\n"
     ]
    },
    {
     "name": "stderr",
     "output_type": "stream",
     "text": [
      "100%|██████████| 5/5 [02:01<00:00, 24.37s/it]\n",
      "100%|██████████| 1/1 [00:00<00:00, 16.39it/s]\n",
      "207it [7:16:17, 121.93s/it]"
     ]
    },
    {
     "name": "stdout",
     "output_type": "stream",
     "text": [
      "    Evaluation Episode 0/1\n",
      "    Average Reward over last 50 episodes: -16081.47\n",
      "    Min Reward over last 50 episodes: -16146.49\n",
      "    Max Reward over last 50 episodes: -16006.86\n",
      "    Evaluation Average Reward: -16042.82\n",
      "\n",
      "Running combination 208/9555 with parameters: {'epsilon': 0.025, 'epsilon_decay': 0.999, 'alpha': 1.0, 'gamma': 0.2, 'no_change_after_lap': 115}\n"
     ]
    },
    {
     "name": "stderr",
     "output_type": "stream",
     "text": []
    },
    {
     "name": "stdout",
     "output_type": "stream",
     "text": [
      "    Training Episode 0/5\n"
     ]
    },
    {
     "name": "stderr",
     "output_type": "stream",
     "text": [
      "100%|██████████| 5/5 [01:59<00:00, 23.90s/it]\n",
      "100%|██████████| 1/1 [00:00<00:00, 18.02it/s]\n",
      "208it [7:18:16, 121.21s/it]"
     ]
    },
    {
     "name": "stdout",
     "output_type": "stream",
     "text": [
      "    Evaluation Episode 0/1\n",
      "    Average Reward over last 50 episodes: -25682.84\n",
      "    Min Reward over last 50 episodes: -25859.34\n",
      "    Max Reward over last 50 episodes: -25424.68\n",
      "    Evaluation Average Reward: -25266.47\n",
      "\n",
      "Running combination 209/9555 with parameters: {'epsilon': 0.025, 'epsilon_decay': 0.995, 'alpha': 0.9, 'gamma': 0.4, 'no_change_after_lap': 105}\n"
     ]
    },
    {
     "name": "stderr",
     "output_type": "stream",
     "text": []
    },
    {
     "name": "stdout",
     "output_type": "stream",
     "text": [
      "    Training Episode 0/5\n"
     ]
    },
    {
     "name": "stderr",
     "output_type": "stream",
     "text": [
      "100%|██████████| 5/5 [01:56<00:00, 23.39s/it]\n",
      "100%|██████████| 1/1 [00:00<00:00, 14.28it/s]\n",
      "209it [7:20:13, 119.96s/it]"
     ]
    },
    {
     "name": "stdout",
     "output_type": "stream",
     "text": [
      "    Evaluation Episode 0/1\n",
      "    Average Reward over last 50 episodes: -28209.89\n",
      "    Min Reward over last 50 episodes: -28389.54\n",
      "    Max Reward over last 50 episodes: -27904.02\n",
      "    Evaluation Average Reward: -28386.30\n",
      "\n",
      "Running combination 210/9555 with parameters: {'epsilon': 0.0, 'epsilon_decay': 0.99, 'alpha': 0.4, 'gamma': 0.9, 'no_change_after_lap': 135}\n"
     ]
    },
    {
     "name": "stderr",
     "output_type": "stream",
     "text": []
    },
    {
     "name": "stdout",
     "output_type": "stream",
     "text": [
      "    Training Episode 0/5\n"
     ]
    },
    {
     "name": "stderr",
     "output_type": "stream",
     "text": [
      "100%|██████████| 5/5 [02:04<00:00, 24.97s/it]\n",
      "100%|██████████| 1/1 [00:00<00:00, 16.80it/s]\n",
      "210it [7:22:18, 121.46s/it]"
     ]
    },
    {
     "name": "stdout",
     "output_type": "stream",
     "text": [
      "    Evaluation Episode 0/1\n",
      "    Average Reward over last 50 episodes: -20625.73\n",
      "    Min Reward over last 50 episodes: -20743.57\n",
      "    Max Reward over last 50 episodes: -20512.74\n",
      "    Evaluation Average Reward: -20840.06\n",
      "\n",
      "Running combination 211/9555 with parameters: {'epsilon': 0.05, 'epsilon_decay': 0.99, 'alpha': 0.4, 'gamma': 1.0, 'no_change_after_lap': 110}\n"
     ]
    },
    {
     "name": "stderr",
     "output_type": "stream",
     "text": []
    },
    {
     "name": "stdout",
     "output_type": "stream",
     "text": [
      "    Training Episode 0/5\n"
     ]
    },
    {
     "name": "stderr",
     "output_type": "stream",
     "text": [
      "100%|██████████| 5/5 [02:01<00:00, 24.22s/it]\n",
      "100%|██████████| 1/1 [00:00<00:00, 16.25it/s]\n",
      "211it [7:24:20, 121.38s/it]"
     ]
    },
    {
     "name": "stdout",
     "output_type": "stream",
     "text": [
      "    Evaluation Episode 0/1\n",
      "    Average Reward over last 50 episodes: -26892.78\n",
      "    Min Reward over last 50 episodes: -27109.71\n",
      "    Max Reward over last 50 episodes: -26505.37\n",
      "    Evaluation Average Reward: -26668.96\n",
      "SKIPPING\n",
      "\n",
      "Running combination 212/9555 with parameters: {'epsilon': 0.05, 'epsilon_decay': 0.999, 'alpha': 0.2, 'gamma': 0.0, 'no_change_after_lap': 125}\n"
     ]
    },
    {
     "name": "stderr",
     "output_type": "stream",
     "text": []
    },
    {
     "name": "stdout",
     "output_type": "stream",
     "text": [
      "    Training Episode 0/5\n"
     ]
    },
    {
     "name": "stderr",
     "output_type": "stream",
     "text": [
      "100%|██████████| 5/5 [02:06<00:00, 25.25s/it]\n",
      "100%|██████████| 1/1 [00:00<00:00, 15.74it/s]\n",
      "212it [7:26:26, 122.87s/it]"
     ]
    },
    {
     "name": "stdout",
     "output_type": "stream",
     "text": [
      "    Evaluation Episode 0/1\n",
      "    Average Reward over last 50 episodes: -23119.65\n",
      "    Min Reward over last 50 episodes: -23351.62\n",
      "    Max Reward over last 50 episodes: -22875.78\n",
      "    Evaluation Average Reward: -22917.56\n",
      "\n",
      "Running combination 213/9555 with parameters: {'epsilon': 0.2, 'epsilon_decay': 0.995, 'alpha': 1.0, 'gamma': 0.2, 'no_change_after_lap': 115}\n"
     ]
    },
    {
     "name": "stderr",
     "output_type": "stream",
     "text": []
    },
    {
     "name": "stdout",
     "output_type": "stream",
     "text": [
      "    Training Episode 0/5\n"
     ]
    },
    {
     "name": "stderr",
     "output_type": "stream",
     "text": [
      "100%|██████████| 5/5 [02:01<00:00, 24.40s/it]\n",
      "100%|██████████| 1/1 [00:00<00:00, 15.87it/s]\n",
      "213it [7:28:28, 122.62s/it]"
     ]
    },
    {
     "name": "stdout",
     "output_type": "stream",
     "text": [
      "    Evaluation Episode 0/1\n",
      "    Average Reward over last 50 episodes: -25645.80\n",
      "    Min Reward over last 50 episodes: -25845.74\n",
      "    Max Reward over last 50 episodes: -25266.39\n",
      "    Evaluation Average Reward: -25583.69\n",
      "\n",
      "Running combination 214/9555 with parameters: {'epsilon': 0.05, 'epsilon_decay': 0.99, 'alpha': 0.4, 'gamma': 0.4, 'no_change_after_lap': 115}\n"
     ]
    },
    {
     "name": "stderr",
     "output_type": "stream",
     "text": []
    },
    {
     "name": "stdout",
     "output_type": "stream",
     "text": [
      "    Training Episode 0/5\n"
     ]
    },
    {
     "name": "stderr",
     "output_type": "stream",
     "text": [
      "100%|██████████| 5/5 [02:03<00:00, 24.78s/it]\n",
      "100%|██████████| 1/1 [00:00<00:00, 16.81it/s]\n",
      "214it [7:30:32, 123.03s/it]"
     ]
    },
    {
     "name": "stdout",
     "output_type": "stream",
     "text": [
      "    Evaluation Episode 0/1\n",
      "    Average Reward over last 50 episodes: -25707.43\n",
      "    Min Reward over last 50 episodes: -25825.30\n",
      "    Max Reward over last 50 episodes: -25566.94\n",
      "    Evaluation Average Reward: -25197.37\n",
      "\n",
      "Running combination 215/9555 with parameters: {'epsilon': 0.05, 'epsilon_decay': 0.999, 'alpha': 1.0, 'gamma': 0.8, 'no_change_after_lap': 150}\n"
     ]
    },
    {
     "name": "stderr",
     "output_type": "stream",
     "text": []
    },
    {
     "name": "stdout",
     "output_type": "stream",
     "text": [
      "    Training Episode 0/5\n"
     ]
    },
    {
     "name": "stderr",
     "output_type": "stream",
     "text": [
      "100%|██████████| 5/5 [02:00<00:00, 24.18s/it]\n",
      "100%|██████████| 1/1 [00:00<00:00, 15.87it/s]\n",
      "215it [7:32:33, 122.41s/it]"
     ]
    },
    {
     "name": "stdout",
     "output_type": "stream",
     "text": [
      "    Evaluation Episode 0/1\n",
      "    Average Reward over last 50 episodes: -17125.82\n",
      "    Min Reward over last 50 episodes: -17297.07\n",
      "    Max Reward over last 50 episodes: -16893.66\n",
      "    Evaluation Average Reward: -17202.50\n",
      "\n",
      "Running combination 216/9555 with parameters: {'epsilon': 0.2, 'epsilon_decay': 0.995, 'alpha': 0.2, 'gamma': 1.0, 'no_change_after_lap': 125}\n"
     ]
    },
    {
     "name": "stderr",
     "output_type": "stream",
     "text": []
    },
    {
     "name": "stdout",
     "output_type": "stream",
     "text": [
      "    Training Episode 0/5\n"
     ]
    },
    {
     "name": "stderr",
     "output_type": "stream",
     "text": [
      "100%|██████████| 5/5 [01:56<00:00, 23.40s/it]\n",
      "100%|██████████| 1/1 [00:00<00:00, 16.13it/s]\n",
      "216it [7:34:30, 120.80s/it]"
     ]
    },
    {
     "name": "stdout",
     "output_type": "stream",
     "text": [
      "    Evaluation Episode 0/1\n",
      "    Average Reward over last 50 episodes: -23084.99\n",
      "    Min Reward over last 50 episodes: -23273.69\n",
      "    Max Reward over last 50 episodes: -22767.45\n",
      "    Evaluation Average Reward: -23349.86\n",
      "\n",
      "Running combination 217/9555 with parameters: {'epsilon': 0.025, 'epsilon_decay': 0.999, 'alpha': 0.6, 'gamma': 0.6, 'no_change_after_lap': 150}\n"
     ]
    },
    {
     "name": "stderr",
     "output_type": "stream",
     "text": []
    },
    {
     "name": "stdout",
     "output_type": "stream",
     "text": [
      "    Training Episode 0/5\n"
     ]
    },
    {
     "name": "stderr",
     "output_type": "stream",
     "text": [
      "100%|██████████| 5/5 [02:06<00:00, 25.33s/it]\n",
      "100%|██████████| 1/1 [00:00<00:00, 15.38it/s]\n",
      "217it [7:36:37, 122.58s/it]"
     ]
    },
    {
     "name": "stdout",
     "output_type": "stream",
     "text": [
      "    Evaluation Episode 0/1\n",
      "    Average Reward over last 50 episodes: -17096.79\n",
      "    Min Reward over last 50 episodes: -17268.43\n",
      "    Max Reward over last 50 episodes: -16922.32\n",
      "    Evaluation Average Reward: -16875.60\n",
      "SKIPPING\n",
      "\n",
      "Running combination 218/9555 with parameters: {'epsilon': 0.2, 'epsilon_decay': 0.995, 'alpha': 1.0, 'gamma': 0.6, 'no_change_after_lap': 120}\n"
     ]
    },
    {
     "name": "stderr",
     "output_type": "stream",
     "text": []
    },
    {
     "name": "stdout",
     "output_type": "stream",
     "text": [
      "    Training Episode 0/5\n"
     ]
    },
    {
     "name": "stderr",
     "output_type": "stream",
     "text": [
      "100%|██████████| 5/5 [02:09<00:00, 26.00s/it]\n",
      "100%|██████████| 1/1 [00:00<00:00, 15.87it/s]\n",
      "218it [7:38:47, 124.83s/it]"
     ]
    },
    {
     "name": "stdout",
     "output_type": "stream",
     "text": [
      "    Evaluation Episode 0/1\n",
      "    Average Reward over last 50 episodes: -24417.12\n",
      "    Min Reward over last 50 episodes: -24894.82\n",
      "    Max Reward over last 50 episodes: -24168.25\n",
      "    Evaluation Average Reward: -24441.00\n",
      "\n",
      "Running combination 219/9555 with parameters: {'epsilon': 0.0, 'epsilon_decay': 0.99, 'alpha': 0.4, 'gamma': 0.4, 'no_change_after_lap': 105}\n"
     ]
    },
    {
     "name": "stderr",
     "output_type": "stream",
     "text": []
    },
    {
     "name": "stdout",
     "output_type": "stream",
     "text": [
      "    Training Episode 0/5\n"
     ]
    },
    {
     "name": "stderr",
     "output_type": "stream",
     "text": [
      "100%|██████████| 5/5 [02:00<00:00, 24.00s/it]\n",
      "100%|██████████| 1/1 [00:00<00:00, 21.05it/s]\n",
      "219it [7:40:47, 123.40s/it]"
     ]
    },
    {
     "name": "stdout",
     "output_type": "stream",
     "text": [
      "    Evaluation Episode 0/1\n",
      "    Average Reward over last 50 episodes: -28187.47\n",
      "    Min Reward over last 50 episodes: -28356.47\n",
      "    Max Reward over last 50 episodes: -27843.89\n",
      "    Evaluation Average Reward: -28104.72\n",
      "\n",
      "Running combination 220/9555 with parameters: {'epsilon': 0.1, 'epsilon_decay': 0.995, 'alpha': 0.2, 'gamma': 0.0, 'no_change_after_lap': 125}\n"
     ]
    },
    {
     "name": "stderr",
     "output_type": "stream",
     "text": []
    },
    {
     "name": "stdout",
     "output_type": "stream",
     "text": [
      "    Training Episode 0/5\n"
     ]
    },
    {
     "name": "stderr",
     "output_type": "stream",
     "text": [
      "100%|██████████| 5/5 [02:04<00:00, 24.80s/it]\n",
      "100%|██████████| 1/1 [00:00<00:00, 14.28it/s]\n",
      "220it [7:42:51, 123.61s/it]"
     ]
    },
    {
     "name": "stdout",
     "output_type": "stream",
     "text": [
      "    Evaluation Episode 0/1\n",
      "    Average Reward over last 50 episodes: -23059.56\n",
      "    Min Reward over last 50 episodes: -23422.53\n",
      "    Max Reward over last 50 episodes: -22810.53\n",
      "    Evaluation Average Reward: -22899.81\n",
      "\n",
      "Running combination 221/9555 with parameters: {'epsilon': 0.025, 'epsilon_decay': 0.999, 'alpha': 0.9, 'gamma': 0.2, 'no_change_after_lap': 130}\n"
     ]
    },
    {
     "name": "stderr",
     "output_type": "stream",
     "text": []
    },
    {
     "name": "stdout",
     "output_type": "stream",
     "text": [
      "    Training Episode 0/5\n"
     ]
    },
    {
     "name": "stderr",
     "output_type": "stream",
     "text": [
      "100%|██████████| 5/5 [02:02<00:00, 24.44s/it]\n",
      "100%|██████████| 1/1 [00:00<00:00, 15.87it/s]\n",
      "221it [7:44:53, 123.21s/it]"
     ]
    },
    {
     "name": "stdout",
     "output_type": "stream",
     "text": [
      "    Evaluation Episode 0/1\n",
      "    Average Reward over last 50 episodes: -21864.16\n",
      "    Min Reward over last 50 episodes: -22125.16\n",
      "    Max Reward over last 50 episodes: -21625.36\n",
      "    Evaluation Average Reward: -22171.58\n",
      "\n",
      "Running combination 222/9555 with parameters: {'epsilon': 0.05, 'epsilon_decay': 0.99, 'alpha': 0.0, 'gamma': 0.9, 'no_change_after_lap': 130}\n"
     ]
    },
    {
     "name": "stderr",
     "output_type": "stream",
     "text": []
    },
    {
     "name": "stdout",
     "output_type": "stream",
     "text": [
      "    Training Episode 0/5\n"
     ]
    },
    {
     "name": "stderr",
     "output_type": "stream",
     "text": [
      "100%|██████████| 5/5 [01:54<00:00, 22.93s/it]\n",
      "100%|██████████| 1/1 [00:00<00:00, 16.52it/s]\n",
      "222it [7:46:48, 120.66s/it]"
     ]
    },
    {
     "name": "stdout",
     "output_type": "stream",
     "text": [
      "    Evaluation Episode 0/1\n",
      "    Average Reward over last 50 episodes: -21773.74\n",
      "    Min Reward over last 50 episodes: -21950.06\n",
      "    Max Reward over last 50 episodes: -21599.08\n",
      "    Evaluation Average Reward: -21547.27\n",
      "\n",
      "Running combination 223/9555 with parameters: {'epsilon': 0.05, 'epsilon_decay': 0.99, 'alpha': 0.8, 'gamma': 0.6, 'no_change_after_lap': 125}\n"
     ]
    },
    {
     "name": "stderr",
     "output_type": "stream",
     "text": []
    },
    {
     "name": "stdout",
     "output_type": "stream",
     "text": [
      "    Training Episode 0/5\n"
     ]
    },
    {
     "name": "stderr",
     "output_type": "stream",
     "text": [
      "100%|██████████| 5/5 [02:03<00:00, 24.62s/it]\n",
      "100%|██████████| 1/1 [00:00<00:00, 17.09it/s]\n",
      "223it [7:48:51, 121.42s/it]"
     ]
    },
    {
     "name": "stdout",
     "output_type": "stream",
     "text": [
      "    Evaluation Episode 0/1\n",
      "    Average Reward over last 50 episodes: -23248.40\n",
      "    Min Reward over last 50 episodes: -23339.55\n",
      "    Max Reward over last 50 episodes: -23066.23\n",
      "    Evaluation Average Reward: -22857.33\n",
      "\n",
      "Running combination 224/9555 with parameters: {'epsilon': 0.2, 'epsilon_decay': 0.995, 'alpha': 0.8, 'gamma': 0.2, 'no_change_after_lap': 120}\n"
     ]
    },
    {
     "name": "stderr",
     "output_type": "stream",
     "text": []
    },
    {
     "name": "stdout",
     "output_type": "stream",
     "text": [
      "    Training Episode 0/5\n"
     ]
    },
    {
     "name": "stderr",
     "output_type": "stream",
     "text": [
      "100%|██████████| 5/5 [02:05<00:00, 25.06s/it]\n",
      "100%|██████████| 1/1 [00:00<00:00, 17.38it/s]\n",
      "224it [7:50:56, 122.60s/it]"
     ]
    },
    {
     "name": "stdout",
     "output_type": "stream",
     "text": [
      "    Evaluation Episode 0/1\n",
      "    Average Reward over last 50 episodes: -24330.56\n",
      "    Min Reward over last 50 episodes: -24582.04\n",
      "    Max Reward over last 50 episodes: -24046.90\n",
      "    Evaluation Average Reward: -24052.72\n",
      "\n",
      "Running combination 225/9555 with parameters: {'epsilon': 0.2, 'epsilon_decay': 0.99, 'alpha': 0.2, 'gamma': 0.4, 'no_change_after_lap': 150}\n"
     ]
    },
    {
     "name": "stderr",
     "output_type": "stream",
     "text": []
    },
    {
     "name": "stdout",
     "output_type": "stream",
     "text": [
      "    Training Episode 0/5\n"
     ]
    },
    {
     "name": "stderr",
     "output_type": "stream",
     "text": [
      "100%|██████████| 5/5 [02:00<00:00, 24.16s/it]\n",
      "100%|██████████| 1/1 [00:00<00:00, 15.87it/s]\n",
      "225it [7:52:57, 122.09s/it]"
     ]
    },
    {
     "name": "stdout",
     "output_type": "stream",
     "text": [
      "    Evaluation Episode 0/1\n",
      "    Average Reward over last 50 episodes: -17254.31\n",
      "    Min Reward over last 50 episodes: -17405.43\n",
      "    Max Reward over last 50 episodes: -17111.47\n",
      "    Evaluation Average Reward: -17148.45\n",
      "\n",
      "Running combination 226/9555 with parameters: {'epsilon': 0.1, 'epsilon_decay': 0.995, 'alpha': 0.2, 'gamma': 0.8, 'no_change_after_lap': 135}\n"
     ]
    },
    {
     "name": "stderr",
     "output_type": "stream",
     "text": []
    },
    {
     "name": "stdout",
     "output_type": "stream",
     "text": [
      "    Training Episode 0/5\n"
     ]
    },
    {
     "name": "stderr",
     "output_type": "stream",
     "text": [
      "100%|██████████| 5/5 [02:05<00:00, 25.11s/it]\n",
      "100%|██████████| 1/1 [00:00<00:00, 15.50it/s]\n",
      "226it [7:55:03, 123.15s/it]"
     ]
    },
    {
     "name": "stdout",
     "output_type": "stream",
     "text": [
      "    Evaluation Episode 0/1\n",
      "    Average Reward over last 50 episodes: -20678.00\n",
      "    Min Reward over last 50 episodes: -20921.91\n",
      "    Max Reward over last 50 episodes: -20368.66\n",
      "    Evaluation Average Reward: -20562.92\n",
      "\n",
      "Running combination 227/9555 with parameters: {'epsilon': 0.0, 'epsilon_decay': 0.99, 'alpha': 0.6, 'gamma': 0.6, 'no_change_after_lap': 105}\n"
     ]
    },
    {
     "name": "stderr",
     "output_type": "stream",
     "text": []
    },
    {
     "name": "stdout",
     "output_type": "stream",
     "text": [
      "    Training Episode 0/5\n"
     ]
    },
    {
     "name": "stderr",
     "output_type": "stream",
     "text": [
      "100%|██████████| 5/5 [02:09<00:00, 25.87s/it]\n",
      "100%|██████████| 1/1 [00:00<00:00, 16.26it/s]\n",
      "227it [7:57:12, 125.04s/it]"
     ]
    },
    {
     "name": "stdout",
     "output_type": "stream",
     "text": [
      "    Evaluation Episode 0/1\n",
      "    Average Reward over last 50 episodes: -28058.16\n",
      "    Min Reward over last 50 episodes: -28372.43\n",
      "    Max Reward over last 50 episodes: -27763.67\n",
      "    Evaluation Average Reward: -28351.76\n",
      "\n",
      "Running combination 228/9555 with parameters: {'epsilon': 0.0, 'epsilon_decay': 0.999, 'alpha': 0.9, 'gamma': 0.8, 'no_change_after_lap': 155}\n"
     ]
    },
    {
     "name": "stderr",
     "output_type": "stream",
     "text": []
    },
    {
     "name": "stdout",
     "output_type": "stream",
     "text": [
      "    Training Episode 0/5\n"
     ]
    },
    {
     "name": "stderr",
     "output_type": "stream",
     "text": [
      "100%|██████████| 5/5 [02:03<00:00, 24.66s/it]\n",
      "100%|██████████| 1/1 [00:00<00:00, 15.74it/s]\n",
      "228it [7:59:16, 124.55s/it]"
     ]
    },
    {
     "name": "stdout",
     "output_type": "stream",
     "text": [
      "    Evaluation Episode 0/1\n",
      "    Average Reward over last 50 episodes: -16326.15\n",
      "    Min Reward over last 50 episodes: -16421.76\n",
      "    Max Reward over last 50 episodes: -16233.33\n",
      "    Evaluation Average Reward: -16450.89\n",
      "\n",
      "Running combination 229/9555 with parameters: {'epsilon': 0.1, 'epsilon_decay': 0.99, 'alpha': 0.6, 'gamma': 1.0, 'no_change_after_lap': 130}\n"
     ]
    },
    {
     "name": "stderr",
     "output_type": "stream",
     "text": []
    },
    {
     "name": "stdout",
     "output_type": "stream",
     "text": [
      "    Training Episode 0/5\n"
     ]
    },
    {
     "name": "stderr",
     "output_type": "stream",
     "text": [
      "100%|██████████| 5/5 [02:00<00:00, 24.18s/it]\n",
      "100%|██████████| 1/1 [00:00<00:00, 14.92it/s]\n",
      "229it [8:01:17, 123.47s/it]"
     ]
    },
    {
     "name": "stdout",
     "output_type": "stream",
     "text": [
      "    Evaluation Episode 0/1\n",
      "    Average Reward over last 50 episodes: -21674.82\n",
      "    Min Reward over last 50 episodes: -22020.30\n",
      "    Max Reward over last 50 episodes: -21464.71\n",
      "    Evaluation Average Reward: -21816.44\n",
      "\n",
      "Running combination 230/9555 with parameters: {'epsilon': 0.1, 'epsilon_decay': 0.999, 'alpha': 1.0, 'gamma': 0.0, 'no_change_after_lap': 105}\n"
     ]
    },
    {
     "name": "stderr",
     "output_type": "stream",
     "text": []
    },
    {
     "name": "stdout",
     "output_type": "stream",
     "text": [
      "    Training Episode 0/5\n"
     ]
    },
    {
     "name": "stderr",
     "output_type": "stream",
     "text": [
      "100%|██████████| 5/5 [02:04<00:00, 24.86s/it]\n",
      "100%|██████████| 1/1 [00:00<00:00, 16.26it/s]\n",
      "230it [8:03:21, 123.75s/it]"
     ]
    },
    {
     "name": "stdout",
     "output_type": "stream",
     "text": [
      "    Evaluation Episode 0/1\n",
      "    Average Reward over last 50 episodes: -28267.90\n",
      "    Min Reward over last 50 episodes: -28543.23\n",
      "    Max Reward over last 50 episodes: -27879.66\n",
      "    Evaluation Average Reward: -28297.24\n",
      "\n",
      "Running combination 231/9555 with parameters: {'epsilon': 0.025, 'epsilon_decay': 0.999, 'alpha': 0.4, 'gamma': 0.8, 'no_change_after_lap': 155}\n"
     ]
    },
    {
     "name": "stderr",
     "output_type": "stream",
     "text": []
    },
    {
     "name": "stdout",
     "output_type": "stream",
     "text": [
      "    Training Episode 0/5\n"
     ]
    },
    {
     "name": "stderr",
     "output_type": "stream",
     "text": [
      "100%|██████████| 5/5 [02:06<00:00, 25.33s/it]\n",
      "100%|██████████| 1/1 [00:00<00:00, 16.12it/s]\n",
      "231it [8:05:28, 124.65s/it]"
     ]
    },
    {
     "name": "stdout",
     "output_type": "stream",
     "text": [
      "    Evaluation Episode 0/1\n",
      "    Average Reward over last 50 episodes: -16307.87\n",
      "    Min Reward over last 50 episodes: -16493.94\n",
      "    Max Reward over last 50 episodes: -16210.64\n",
      "    Evaluation Average Reward: -16268.22\n",
      "\n",
      "Running combination 232/9555 with parameters: {'epsilon': 0.025, 'epsilon_decay': 0.995, 'alpha': 0.4, 'gamma': 0.0, 'no_change_after_lap': 155}\n"
     ]
    },
    {
     "name": "stderr",
     "output_type": "stream",
     "text": []
    },
    {
     "name": "stdout",
     "output_type": "stream",
     "text": [
      "    Training Episode 0/5\n"
     ]
    },
    {
     "name": "stderr",
     "output_type": "stream",
     "text": [
      "100%|██████████| 5/5 [01:58<00:00, 23.61s/it]\n",
      "100%|██████████| 1/1 [00:00<00:00, 15.74it/s]\n",
      "232it [8:07:26, 122.69s/it]"
     ]
    },
    {
     "name": "stdout",
     "output_type": "stream",
     "text": [
      "    Evaluation Episode 0/1\n",
      "    Average Reward over last 50 episodes: -16366.63\n",
      "    Min Reward over last 50 episodes: -16468.33\n",
      "    Max Reward over last 50 episodes: -16265.19\n",
      "    Evaluation Average Reward: -16196.43\n",
      "\n",
      "Running combination 233/9555 with parameters: {'epsilon': 0.0, 'epsilon_decay': 0.99, 'alpha': 0.0, 'gamma': 0.9, 'no_change_after_lap': 155}\n"
     ]
    },
    {
     "name": "stderr",
     "output_type": "stream",
     "text": []
    },
    {
     "name": "stdout",
     "output_type": "stream",
     "text": [
      "    Training Episode 0/5\n"
     ]
    },
    {
     "name": "stderr",
     "output_type": "stream",
     "text": [
      "100%|██████████| 5/5 [01:46<00:00, 21.26s/it]\n",
      "100%|██████████| 1/1 [00:00<00:00, 15.50it/s]\n",
      "233it [8:09:12, 117.79s/it]"
     ]
    },
    {
     "name": "stdout",
     "output_type": "stream",
     "text": [
      "    Evaluation Episode 0/1\n",
      "    Average Reward over last 50 episodes: -16245.39\n",
      "    Min Reward over last 50 episodes: -16325.64\n",
      "    Max Reward over last 50 episodes: -16167.98\n",
      "    Evaluation Average Reward: -16261.83\n",
      "\n",
      "Running combination 234/9555 with parameters: {'epsilon': 0.2, 'epsilon_decay': 0.99, 'alpha': 0.8, 'gamma': 0.6, 'no_change_after_lap': 145}\n"
     ]
    },
    {
     "name": "stderr",
     "output_type": "stream",
     "text": []
    },
    {
     "name": "stdout",
     "output_type": "stream",
     "text": [
      "    Training Episode 0/5\n"
     ]
    },
    {
     "name": "stderr",
     "output_type": "stream",
     "text": [
      "100%|██████████| 5/5 [02:13<00:00, 26.65s/it]\n",
      "100%|██████████| 1/1 [00:00<00:00, 14.60it/s]\n",
      "234it [8:11:26, 122.45s/it]"
     ]
    },
    {
     "name": "stdout",
     "output_type": "stream",
     "text": [
      "    Evaluation Episode 0/1\n",
      "    Average Reward over last 50 episodes: -18204.79\n",
      "    Min Reward over last 50 episodes: -18360.71\n",
      "    Max Reward over last 50 episodes: -18033.72\n",
      "    Evaluation Average Reward: -18099.53\n",
      "\n",
      "Running combination 235/9555 with parameters: {'epsilon': 0.025, 'epsilon_decay': 0.99, 'alpha': 0.4, 'gamma': 0.6, 'no_change_after_lap': 135}\n"
     ]
    },
    {
     "name": "stderr",
     "output_type": "stream",
     "text": []
    },
    {
     "name": "stdout",
     "output_type": "stream",
     "text": [
      "    Training Episode 0/5\n"
     ]
    },
    {
     "name": "stderr",
     "output_type": "stream",
     "text": [
      "100%|██████████| 5/5 [02:09<00:00, 25.88s/it]\n",
      "100%|██████████| 1/1 [00:00<00:00, 14.70it/s]\n",
      "235it [8:13:35, 124.57s/it]"
     ]
    },
    {
     "name": "stdout",
     "output_type": "stream",
     "text": [
      "    Evaluation Episode 0/1\n",
      "    Average Reward over last 50 episodes: -20690.78\n",
      "    Min Reward over last 50 episodes: -20859.02\n",
      "    Max Reward over last 50 episodes: -20319.42\n",
      "    Evaluation Average Reward: -20581.32\n",
      "\n",
      "Running combination 236/9555 with parameters: {'epsilon': 0.025, 'epsilon_decay': 0.99, 'alpha': 0.9, 'gamma': 0.6, 'no_change_after_lap': 155}\n"
     ]
    },
    {
     "name": "stderr",
     "output_type": "stream",
     "text": []
    },
    {
     "name": "stdout",
     "output_type": "stream",
     "text": [
      "    Training Episode 0/5\n"
     ]
    },
    {
     "name": "stderr",
     "output_type": "stream",
     "text": [
      "100%|██████████| 5/5 [01:58<00:00, 23.75s/it]\n",
      "100%|██████████| 1/1 [00:00<00:00, 15.87it/s]\n",
      "236it [8:15:34, 122.85s/it]"
     ]
    },
    {
     "name": "stdout",
     "output_type": "stream",
     "text": [
      "    Evaluation Episode 0/1\n",
      "    Average Reward over last 50 episodes: -16431.01\n",
      "    Min Reward over last 50 episodes: -16462.40\n",
      "    Max Reward over last 50 episodes: -16347.99\n",
      "    Evaluation Average Reward: -16297.83\n",
      "\n",
      "Running combination 237/9555 with parameters: {'epsilon': 0.05, 'epsilon_decay': 0.999, 'alpha': 0.9, 'gamma': 0.9, 'no_change_after_lap': 150}\n"
     ]
    },
    {
     "name": "stderr",
     "output_type": "stream",
     "text": []
    },
    {
     "name": "stdout",
     "output_type": "stream",
     "text": [
      "    Training Episode 0/5\n"
     ]
    },
    {
     "name": "stderr",
     "output_type": "stream",
     "text": [
      "100%|██████████| 5/5 [02:02<00:00, 24.47s/it]\n",
      "100%|██████████| 1/1 [00:00<00:00, 16.00it/s]\n",
      "237it [8:17:37, 122.73s/it]"
     ]
    },
    {
     "name": "stdout",
     "output_type": "stream",
     "text": [
      "    Evaluation Episode 0/1\n",
      "    Average Reward over last 50 episodes: -17033.52\n",
      "    Min Reward over last 50 episodes: -17288.13\n",
      "    Max Reward over last 50 episodes: -16853.39\n",
      "    Evaluation Average Reward: -17168.53\n",
      "\n",
      "Running combination 238/9555 with parameters: {'epsilon': 0.025, 'epsilon_decay': 0.99, 'alpha': 0.4, 'gamma': 1.0, 'no_change_after_lap': 105}\n"
     ]
    },
    {
     "name": "stderr",
     "output_type": "stream",
     "text": []
    },
    {
     "name": "stdout",
     "output_type": "stream",
     "text": [
      "    Training Episode 0/5\n"
     ]
    },
    {
     "name": "stderr",
     "output_type": "stream",
     "text": [
      "100%|██████████| 5/5 [01:53<00:00, 22.61s/it]\n",
      "100%|██████████| 1/1 [00:00<00:00, 16.67it/s]\n",
      "238it [8:19:30, 119.85s/it]"
     ]
    },
    {
     "name": "stdout",
     "output_type": "stream",
     "text": [
      "    Evaluation Episode 0/1\n",
      "    Average Reward over last 50 episodes: -28206.95\n",
      "    Min Reward over last 50 episodes: -28360.43\n",
      "    Max Reward over last 50 episodes: -27916.32\n",
      "    Evaluation Average Reward: -28333.63\n",
      "\n",
      "Running combination 239/9555 with parameters: {'epsilon': 0.0, 'epsilon_decay': 0.995, 'alpha': 0.4, 'gamma': 0.8, 'no_change_after_lap': 125}\n"
     ]
    },
    {
     "name": "stderr",
     "output_type": "stream",
     "text": []
    },
    {
     "name": "stdout",
     "output_type": "stream",
     "text": [
      "    Training Episode 0/5\n"
     ]
    },
    {
     "name": "stderr",
     "output_type": "stream",
     "text": [
      "100%|██████████| 5/5 [02:06<00:00, 25.28s/it]\n",
      "100%|██████████| 1/1 [00:00<00:00, 16.80it/s]\n",
      "239it [8:21:36, 121.85s/it]"
     ]
    },
    {
     "name": "stdout",
     "output_type": "stream",
     "text": [
      "    Evaluation Episode 0/1\n",
      "    Average Reward over last 50 episodes: -23157.85\n",
      "    Min Reward over last 50 episodes: -23367.75\n",
      "    Max Reward over last 50 episodes: -22762.10\n",
      "    Evaluation Average Reward: -22863.27\n",
      "\n",
      "Running combination 240/9555 with parameters: {'epsilon': 0.1, 'epsilon_decay': 0.99, 'alpha': 0.6, 'gamma': 0.2, 'no_change_after_lap': 155}\n"
     ]
    },
    {
     "name": "stderr",
     "output_type": "stream",
     "text": []
    },
    {
     "name": "stdout",
     "output_type": "stream",
     "text": [
      "    Training Episode 0/5\n"
     ]
    },
    {
     "name": "stderr",
     "output_type": "stream",
     "text": [
      "100%|██████████| 5/5 [02:00<00:00, 24.01s/it]\n",
      "100%|██████████| 1/1 [00:00<00:00, 15.15it/s]\n",
      "240it [8:23:36, 121.34s/it]"
     ]
    },
    {
     "name": "stdout",
     "output_type": "stream",
     "text": [
      "    Evaluation Episode 0/1\n",
      "    Average Reward over last 50 episodes: -16344.24\n",
      "    Min Reward over last 50 episodes: -16418.96\n",
      "    Max Reward over last 50 episodes: -16263.60\n",
      "    Evaluation Average Reward: -16453.85\n",
      "\n",
      "Running combination 241/9555 with parameters: {'epsilon': 0.025, 'epsilon_decay': 0.995, 'alpha': 0.6, 'gamma': 0.6, 'no_change_after_lap': 145}\n"
     ]
    },
    {
     "name": "stderr",
     "output_type": "stream",
     "text": []
    },
    {
     "name": "stdout",
     "output_type": "stream",
     "text": [
      "    Training Episode 0/5\n"
     ]
    },
    {
     "name": "stderr",
     "output_type": "stream",
     "text": [
      "100%|██████████| 5/5 [02:10<00:00, 26.01s/it]\n",
      "100%|██████████| 1/1 [00:00<00:00, 15.62it/s]\n",
      "241it [8:25:46, 123.98s/it]"
     ]
    },
    {
     "name": "stdout",
     "output_type": "stream",
     "text": [
      "    Evaluation Episode 0/1\n",
      "    Average Reward over last 50 episodes: -18193.07\n",
      "    Min Reward over last 50 episodes: -18353.60\n",
      "    Max Reward over last 50 episodes: -17906.77\n",
      "    Evaluation Average Reward: -17984.54\n",
      "\n",
      "Running combination 242/9555 with parameters: {'epsilon': 0.2, 'epsilon_decay': 0.995, 'alpha': 0.4, 'gamma': 0.2, 'no_change_after_lap': 115}\n"
     ]
    },
    {
     "name": "stderr",
     "output_type": "stream",
     "text": []
    },
    {
     "name": "stdout",
     "output_type": "stream",
     "text": [
      "    Training Episode 0/5\n"
     ]
    },
    {
     "name": "stderr",
     "output_type": "stream",
     "text": [
      "100%|██████████| 5/5 [02:04<00:00, 24.93s/it]\n",
      "100%|██████████| 1/1 [00:00<00:00, 15.26it/s]\n",
      "242it [8:27:51, 124.20s/it]"
     ]
    },
    {
     "name": "stdout",
     "output_type": "stream",
     "text": [
      "    Evaluation Episode 0/1\n",
      "    Average Reward over last 50 episodes: -25631.93\n",
      "    Min Reward over last 50 episodes: -25866.09\n",
      "    Max Reward over last 50 episodes: -25311.52\n",
      "    Evaluation Average Reward: -25354.89\n",
      "\n",
      "Running combination 243/9555 with parameters: {'epsilon': 0.025, 'epsilon_decay': 0.995, 'alpha': 1.0, 'gamma': 1.0, 'no_change_after_lap': 150}\n"
     ]
    },
    {
     "name": "stderr",
     "output_type": "stream",
     "text": []
    },
    {
     "name": "stdout",
     "output_type": "stream",
     "text": [
      "    Training Episode 0/5\n"
     ]
    },
    {
     "name": "stderr",
     "output_type": "stream",
     "text": [
      "100%|██████████| 5/5 [01:57<00:00, 23.50s/it]\n",
      "100%|██████████| 1/1 [00:00<00:00, 16.95it/s]\n",
      "243it [8:29:49, 122.21s/it]"
     ]
    },
    {
     "name": "stdout",
     "output_type": "stream",
     "text": [
      "    Evaluation Episode 0/1\n",
      "    Average Reward over last 50 episodes: -17092.45\n",
      "    Min Reward over last 50 episodes: -17211.41\n",
      "    Max Reward over last 50 episodes: -16979.10\n",
      "    Evaluation Average Reward: -17145.92\n",
      "\n",
      "Running combination 244/9555 with parameters: {'epsilon': 0.1, 'epsilon_decay': 0.999, 'alpha': 1.0, 'gamma': 0.8, 'no_change_after_lap': 130}\n"
     ]
    },
    {
     "name": "stderr",
     "output_type": "stream",
     "text": []
    },
    {
     "name": "stdout",
     "output_type": "stream",
     "text": [
      "    Training Episode 0/5\n"
     ]
    },
    {
     "name": "stderr",
     "output_type": "stream",
     "text": [
      "100%|██████████| 5/5 [02:06<00:00, 25.23s/it]\n",
      "100%|██████████| 1/1 [00:00<00:00, 16.66it/s]\n",
      "244it [8:31:55, 123.42s/it]"
     ]
    },
    {
     "name": "stdout",
     "output_type": "stream",
     "text": [
      "    Evaluation Episode 0/1\n",
      "    Average Reward over last 50 episodes: -21785.04\n",
      "    Min Reward over last 50 episodes: -22088.43\n",
      "    Max Reward over last 50 episodes: -21523.77\n",
      "    Evaluation Average Reward: -21920.04\n",
      "\n",
      "Running combination 245/9555 with parameters: {'epsilon': 0.0, 'epsilon_decay': 0.99, 'alpha': 0.6, 'gamma': 0.6, 'no_change_after_lap': 130}\n"
     ]
    },
    {
     "name": "stderr",
     "output_type": "stream",
     "text": []
    },
    {
     "name": "stdout",
     "output_type": "stream",
     "text": [
      "    Training Episode 0/5\n"
     ]
    },
    {
     "name": "stderr",
     "output_type": "stream",
     "text": [
      "100%|██████████| 5/5 [02:07<00:00, 25.44s/it]\n",
      "100%|██████████| 1/1 [00:00<00:00, 15.87it/s]\n",
      "245it [8:34:02, 124.58s/it]"
     ]
    },
    {
     "name": "stdout",
     "output_type": "stream",
     "text": [
      "    Evaluation Episode 0/1\n",
      "    Average Reward over last 50 episodes: -21944.38\n",
      "    Min Reward over last 50 episodes: -22100.19\n",
      "    Max Reward over last 50 episodes: -21782.25\n",
      "    Evaluation Average Reward: -21705.00\n",
      "\n",
      "Running combination 246/9555 with parameters: {'epsilon': 0.025, 'epsilon_decay': 0.999, 'alpha': 0.6, 'gamma': 0.8, 'no_change_after_lap': 105}\n"
     ]
    },
    {
     "name": "stderr",
     "output_type": "stream",
     "text": []
    },
    {
     "name": "stdout",
     "output_type": "stream",
     "text": [
      "    Training Episode 0/5\n"
     ]
    },
    {
     "name": "stderr",
     "output_type": "stream",
     "text": [
      "100%|██████████| 5/5 [02:02<00:00, 24.54s/it]\n",
      "100%|██████████| 1/1 [00:00<00:00, 21.05it/s]\n",
      "246it [8:36:05, 124.04s/it]"
     ]
    },
    {
     "name": "stdout",
     "output_type": "stream",
     "text": [
      "    Evaluation Episode 0/1\n",
      "    Average Reward over last 50 episodes: -28016.23\n",
      "    Min Reward over last 50 episodes: -28325.83\n",
      "    Max Reward over last 50 episodes: -27823.20\n",
      "    Evaluation Average Reward: -28337.41\n",
      "\n",
      "Running combination 247/9555 with parameters: {'epsilon': 0.05, 'epsilon_decay': 0.999, 'alpha': 0.8, 'gamma': 0.4, 'no_change_after_lap': 140}\n"
     ]
    },
    {
     "name": "stderr",
     "output_type": "stream",
     "text": []
    },
    {
     "name": "stdout",
     "output_type": "stream",
     "text": [
      "    Training Episode 0/5\n"
     ]
    },
    {
     "name": "stderr",
     "output_type": "stream",
     "text": [
      "100%|██████████| 5/5 [02:01<00:00, 24.26s/it]\n",
      "100%|██████████| 1/1 [00:00<00:00, 22.99it/s]\n",
      "247it [8:38:06, 123.24s/it]"
     ]
    },
    {
     "name": "stdout",
     "output_type": "stream",
     "text": [
      "    Evaluation Episode 0/1\n",
      "    Average Reward over last 50 episodes: -19298.36\n",
      "    Min Reward over last 50 episodes: -19648.44\n",
      "    Max Reward over last 50 episodes: -18950.66\n",
      "    Evaluation Average Reward: -19510.05\n",
      "\n",
      "Running combination 248/9555 with parameters: {'epsilon': 0.2, 'epsilon_decay': 0.999, 'alpha': 0.6, 'gamma': 1.0, 'no_change_after_lap': 125}\n"
     ]
    },
    {
     "name": "stderr",
     "output_type": "stream",
     "text": []
    },
    {
     "name": "stdout",
     "output_type": "stream",
     "text": [
      "    Training Episode 0/5\n"
     ]
    },
    {
     "name": "stderr",
     "output_type": "stream",
     "text": [
      "100%|██████████| 5/5 [02:05<00:00, 25.16s/it]\n",
      "100%|██████████| 1/1 [00:00<00:00, 15.99it/s]\n",
      "248it [8:40:12, 124.03s/it]"
     ]
    },
    {
     "name": "stdout",
     "output_type": "stream",
     "text": [
      "    Evaluation Episode 0/1\n",
      "    Average Reward over last 50 episodes: -23112.97\n",
      "    Min Reward over last 50 episodes: -23337.83\n",
      "    Max Reward over last 50 episodes: -22749.30\n",
      "    Evaluation Average Reward: -23609.78\n",
      "\n",
      "Running combination 249/9555 with parameters: {'epsilon': 0.2, 'epsilon_decay': 0.99, 'alpha': 0.4, 'gamma': 0.0, 'no_change_after_lap': 110}\n"
     ]
    },
    {
     "name": "stderr",
     "output_type": "stream",
     "text": []
    },
    {
     "name": "stdout",
     "output_type": "stream",
     "text": [
      "    Training Episode 0/5\n"
     ]
    },
    {
     "name": "stderr",
     "output_type": "stream",
     "text": [
      "100%|██████████| 5/5 [02:01<00:00, 24.39s/it]\n",
      "100%|██████████| 1/1 [00:00<00:00, 17.39it/s]\n",
      "249it [8:42:14, 123.43s/it]"
     ]
    },
    {
     "name": "stdout",
     "output_type": "stream",
     "text": [
      "    Evaluation Episode 0/1\n",
      "    Average Reward over last 50 episodes: -27064.65\n",
      "    Min Reward over last 50 episodes: -27148.56\n",
      "    Max Reward over last 50 episodes: -27014.00\n",
      "    Evaluation Average Reward: -26522.80\n",
      "SKIPPING\n",
      "\n",
      "Running combination 250/9555 with parameters: {'epsilon': 0.0, 'epsilon_decay': 0.999, 'alpha': 0.8, 'gamma': 0.4, 'no_change_after_lap': 150}\n"
     ]
    },
    {
     "name": "stderr",
     "output_type": "stream",
     "text": []
    },
    {
     "name": "stdout",
     "output_type": "stream",
     "text": [
      "    Training Episode 0/5\n"
     ]
    },
    {
     "name": "stderr",
     "output_type": "stream",
     "text": [
      "100%|██████████| 5/5 [01:54<00:00, 22.82s/it]\n",
      "100%|██████████| 1/1 [00:00<00:00, 15.87it/s]\n",
      "250it [8:44:09, 120.66s/it]"
     ]
    },
    {
     "name": "stdout",
     "output_type": "stream",
     "text": [
      "    Evaluation Episode 0/1\n",
      "    Average Reward over last 50 episodes: -17142.44\n",
      "    Min Reward over last 50 episodes: -17324.55\n",
      "    Max Reward over last 50 episodes: -17024.73\n",
      "    Evaluation Average Reward: -17062.34\n",
      "SKIPPING\n",
      "\n",
      "Running combination 251/9555 with parameters: {'epsilon': 0.025, 'epsilon_decay': 0.99, 'alpha': 0.9, 'gamma': 0.2, 'no_change_after_lap': 120}\n"
     ]
    },
    {
     "name": "stderr",
     "output_type": "stream",
     "text": []
    },
    {
     "name": "stdout",
     "output_type": "stream",
     "text": [
      "    Training Episode 0/5\n"
     ]
    },
    {
     "name": "stderr",
     "output_type": "stream",
     "text": [
      "100%|██████████| 5/5 [02:00<00:00, 24.08s/it]\n",
      "100%|██████████| 1/1 [00:00<00:00, 16.80it/s]\n",
      "251it [8:46:09, 120.61s/it]"
     ]
    },
    {
     "name": "stdout",
     "output_type": "stream",
     "text": [
      "    Evaluation Episode 0/1\n",
      "    Average Reward over last 50 episodes: -24248.39\n",
      "    Min Reward over last 50 episodes: -24400.95\n",
      "    Max Reward over last 50 episodes: -24004.53\n",
      "    Evaluation Average Reward: -24593.78\n",
      "\n",
      "Running combination 252/9555 with parameters: {'epsilon': 0.025, 'epsilon_decay': 0.999, 'alpha': 1.0, 'gamma': 1.0, 'no_change_after_lap': 135}\n"
     ]
    },
    {
     "name": "stderr",
     "output_type": "stream",
     "text": []
    },
    {
     "name": "stdout",
     "output_type": "stream",
     "text": [
      "    Training Episode 0/5\n"
     ]
    },
    {
     "name": "stderr",
     "output_type": "stream",
     "text": [
      "100%|██████████| 5/5 [02:03<00:00, 24.60s/it]\n",
      "100%|██████████| 1/1 [00:00<00:00, 15.87it/s]\n",
      "252it [8:48:12, 121.36s/it]"
     ]
    },
    {
     "name": "stdout",
     "output_type": "stream",
     "text": [
      "    Evaluation Episode 0/1\n",
      "    Average Reward over last 50 episodes: -20711.87\n",
      "    Min Reward over last 50 episodes: -20816.37\n",
      "    Max Reward over last 50 episodes: -20642.30\n",
      "    Evaluation Average Reward: -20818.19\n",
      "\n",
      "Running combination 253/9555 with parameters: {'epsilon': 0.025, 'epsilon_decay': 0.995, 'alpha': 0.9, 'gamma': 0.6, 'no_change_after_lap': 150}\n"
     ]
    },
    {
     "name": "stderr",
     "output_type": "stream",
     "text": []
    },
    {
     "name": "stdout",
     "output_type": "stream",
     "text": [
      "    Training Episode 0/5\n"
     ]
    },
    {
     "name": "stderr",
     "output_type": "stream",
     "text": [
      "100%|██████████| 5/5 [02:06<00:00, 25.34s/it]\n",
      "100%|██████████| 1/1 [00:00<00:00, 23.51it/s]\n",
      "253it [8:50:19, 122.98s/it]"
     ]
    },
    {
     "name": "stdout",
     "output_type": "stream",
     "text": [
      "    Evaluation Episode 0/1\n",
      "    Average Reward over last 50 episodes: -16972.99\n",
      "    Min Reward over last 50 episodes: -17227.33\n",
      "    Max Reward over last 50 episodes: -16871.09\n",
      "    Evaluation Average Reward: -17117.93\n",
      "\n",
      "Running combination 254/9555 with parameters: {'epsilon': 0.0, 'epsilon_decay': 0.995, 'alpha': 0.0, 'gamma': 0.2, 'no_change_after_lap': 155}\n"
     ]
    },
    {
     "name": "stderr",
     "output_type": "stream",
     "text": []
    },
    {
     "name": "stdout",
     "output_type": "stream",
     "text": [
      "    Training Episode 0/5\n"
     ]
    },
    {
     "name": "stderr",
     "output_type": "stream",
     "text": [
      "100%|██████████| 5/5 [01:51<00:00, 22.33s/it]\n",
      "100%|██████████| 1/1 [00:00<00:00, 15.74it/s]\n",
      "254it [8:52:11, 119.60s/it]"
     ]
    },
    {
     "name": "stdout",
     "output_type": "stream",
     "text": [
      "    Evaluation Episode 0/1\n",
      "    Average Reward over last 50 episodes: -16309.94\n",
      "    Min Reward over last 50 episodes: -16426.69\n",
      "    Max Reward over last 50 episodes: -16155.01\n",
      "    Evaluation Average Reward: -16279.66\n",
      "\n",
      "Running combination 255/9555 with parameters: {'epsilon': 0.025, 'epsilon_decay': 0.995, 'alpha': 1.0, 'gamma': 0.8, 'no_change_after_lap': 125}\n"
     ]
    },
    {
     "name": "stderr",
     "output_type": "stream",
     "text": []
    },
    {
     "name": "stdout",
     "output_type": "stream",
     "text": [
      "    Training Episode 0/5\n"
     ]
    },
    {
     "name": "stderr",
     "output_type": "stream",
     "text": [
      "100%|██████████| 5/5 [02:02<00:00, 24.47s/it]\n",
      "100%|██████████| 1/1 [00:00<00:00, 16.95it/s]\n",
      "255it [8:54:13, 120.45s/it]"
     ]
    },
    {
     "name": "stdout",
     "output_type": "stream",
     "text": [
      "    Evaluation Episode 0/1\n",
      "    Average Reward over last 50 episodes: -22918.76\n",
      "    Min Reward over last 50 episodes: -23041.08\n",
      "    Max Reward over last 50 episodes: -22806.03\n",
      "    Evaluation Average Reward: -23403.99\n",
      "\n",
      "Running combination 256/9555 with parameters: {'epsilon': 0.05, 'epsilon_decay': 0.995, 'alpha': 1.0, 'gamma': 1.0, 'no_change_after_lap': 155}\n"
     ]
    },
    {
     "name": "stderr",
     "output_type": "stream",
     "text": []
    },
    {
     "name": "stdout",
     "output_type": "stream",
     "text": [
      "    Training Episode 0/5\n"
     ]
    },
    {
     "name": "stderr",
     "output_type": "stream",
     "text": [
      "100%|██████████| 5/5 [01:55<00:00, 23.12s/it]\n",
      "100%|██████████| 1/1 [00:00<00:00, 22.73it/s]\n",
      "256it [8:56:09, 119.01s/it]"
     ]
    },
    {
     "name": "stdout",
     "output_type": "stream",
     "text": [
      "    Evaluation Episode 0/1\n",
      "    Average Reward over last 50 episodes: -16350.42\n",
      "    Min Reward over last 50 episodes: -16477.87\n",
      "    Max Reward over last 50 episodes: -16180.83\n",
      "    Evaluation Average Reward: -16172.71\n",
      "\n",
      "Running combination 257/9555 with parameters: {'epsilon': 0.1, 'epsilon_decay': 0.995, 'alpha': 0.2, 'gamma': 0.9, 'no_change_after_lap': 140}\n"
     ]
    },
    {
     "name": "stderr",
     "output_type": "stream",
     "text": []
    },
    {
     "name": "stdout",
     "output_type": "stream",
     "text": [
      "    Training Episode 0/5\n"
     ]
    },
    {
     "name": "stderr",
     "output_type": "stream",
     "text": [
      "100%|██████████| 5/5 [02:05<00:00, 25.08s/it]\n",
      "100%|██████████| 1/1 [00:00<00:00, 23.53it/s]\n",
      "257it [8:58:14, 120.94s/it]"
     ]
    },
    {
     "name": "stdout",
     "output_type": "stream",
     "text": [
      "    Evaluation Episode 0/1\n",
      "    Average Reward over last 50 episodes: -19222.52\n",
      "    Min Reward over last 50 episodes: -19449.42\n",
      "    Max Reward over last 50 episodes: -19043.96\n",
      "    Evaluation Average Reward: -19561.89\n",
      "\n",
      "Running combination 258/9555 with parameters: {'epsilon': 0.1, 'epsilon_decay': 0.995, 'alpha': 0.0, 'gamma': 0.0, 'no_change_after_lap': 140}\n"
     ]
    },
    {
     "name": "stderr",
     "output_type": "stream",
     "text": []
    },
    {
     "name": "stdout",
     "output_type": "stream",
     "text": [
      "    Training Episode 0/5\n"
     ]
    },
    {
     "name": "stderr",
     "output_type": "stream",
     "text": [
      "100%|██████████| 5/5 [01:58<00:00, 23.72s/it]\n",
      "100%|██████████| 1/1 [00:00<00:00, 14.38it/s]\n",
      "258it [9:00:13, 120.26s/it]"
     ]
    },
    {
     "name": "stdout",
     "output_type": "stream",
     "text": [
      "    Evaluation Episode 0/1\n",
      "    Average Reward over last 50 episodes: -19319.76\n",
      "    Min Reward over last 50 episodes: -19500.65\n",
      "    Max Reward over last 50 episodes: -19062.01\n",
      "    Evaluation Average Reward: -19670.84\n",
      "\n",
      "Running combination 259/9555 with parameters: {'epsilon': 0.05, 'epsilon_decay': 0.995, 'alpha': 0.0, 'gamma': 0.0, 'no_change_after_lap': 125}\n"
     ]
    },
    {
     "name": "stderr",
     "output_type": "stream",
     "text": []
    },
    {
     "name": "stdout",
     "output_type": "stream",
     "text": [
      "    Training Episode 0/5\n"
     ]
    },
    {
     "name": "stderr",
     "output_type": "stream",
     "text": [
      "100%|██████████| 5/5 [01:52<00:00, 22.45s/it]\n",
      "100%|██████████| 1/1 [00:00<00:00, 15.03it/s]\n",
      "259it [9:02:05, 117.88s/it]"
     ]
    },
    {
     "name": "stdout",
     "output_type": "stream",
     "text": [
      "    Evaluation Episode 0/1\n",
      "    Average Reward over last 50 episodes: -23084.76\n",
      "    Min Reward over last 50 episodes: -23229.76\n",
      "    Max Reward over last 50 episodes: -22940.47\n",
      "    Evaluation Average Reward: -23340.81\n",
      "\n",
      "Running combination 260/9555 with parameters: {'epsilon': 0.2, 'epsilon_decay': 0.995, 'alpha': 0.2, 'gamma': 0.2, 'no_change_after_lap': 105}\n"
     ]
    },
    {
     "name": "stderr",
     "output_type": "stream",
     "text": []
    },
    {
     "name": "stdout",
     "output_type": "stream",
     "text": [
      "    Training Episode 0/5\n"
     ]
    },
    {
     "name": "stderr",
     "output_type": "stream",
     "text": [
      "100%|██████████| 5/5 [02:04<00:00, 24.98s/it]\n",
      "100%|██████████| 1/1 [00:00<00:00, 15.38it/s]\n",
      "260it [9:04:10, 120.01s/it]"
     ]
    },
    {
     "name": "stdout",
     "output_type": "stream",
     "text": [
      "    Evaluation Episode 0/1\n",
      "    Average Reward over last 50 episodes: -28145.49\n",
      "    Min Reward over last 50 episodes: -28337.49\n",
      "    Max Reward over last 50 episodes: -27773.78\n",
      "    Evaluation Average Reward: -28202.64\n",
      "\n",
      "Running combination 261/9555 with parameters: {'epsilon': 0.0, 'epsilon_decay': 0.995, 'alpha': 0.2, 'gamma': 0.2, 'no_change_after_lap': 160}\n"
     ]
    },
    {
     "name": "stderr",
     "output_type": "stream",
     "text": []
    },
    {
     "name": "stdout",
     "output_type": "stream",
     "text": [
      "    Training Episode 0/5\n"
     ]
    },
    {
     "name": "stderr",
     "output_type": "stream",
     "text": [
      "100%|██████████| 5/5 [02:02<00:00, 24.53s/it]\n",
      "100%|██████████| 1/1 [00:00<00:00, 23.53it/s]\n",
      "261it [9:06:13, 120.82s/it]"
     ]
    },
    {
     "name": "stdout",
     "output_type": "stream",
     "text": [
      "    Evaluation Episode 0/1\n",
      "    Average Reward over last 50 episodes: -16075.42\n",
      "    Min Reward over last 50 episodes: -16111.86\n",
      "    Max Reward over last 50 episodes: -16031.64\n",
      "    Evaluation Average Reward: -16086.22\n",
      "\n",
      "Running combination 262/9555 with parameters: {'epsilon': 0.0, 'epsilon_decay': 0.99, 'alpha': 0.0, 'gamma': 0.6, 'no_change_after_lap': 155}\n"
     ]
    },
    {
     "name": "stderr",
     "output_type": "stream",
     "text": []
    },
    {
     "name": "stdout",
     "output_type": "stream",
     "text": [
      "    Training Episode 0/5\n"
     ]
    },
    {
     "name": "stderr",
     "output_type": "stream",
     "text": [
      "100%|██████████| 5/5 [01:57<00:00, 23.41s/it]\n",
      "100%|██████████| 1/1 [00:00<00:00, 21.73it/s]\n",
      "262it [9:08:10, 119.71s/it]"
     ]
    },
    {
     "name": "stdout",
     "output_type": "stream",
     "text": [
      "    Evaluation Episode 0/1\n",
      "    Average Reward over last 50 episodes: -16270.43\n",
      "    Min Reward over last 50 episodes: -16356.79\n",
      "    Max Reward over last 50 episodes: -16187.24\n",
      "    Evaluation Average Reward: -16330.20\n",
      "\n",
      "Running combination 263/9555 with parameters: {'epsilon': 0.2, 'epsilon_decay': 0.995, 'alpha': 0.2, 'gamma': 0.4, 'no_change_after_lap': 145}\n"
     ]
    },
    {
     "name": "stderr",
     "output_type": "stream",
     "text": []
    },
    {
     "name": "stdout",
     "output_type": "stream",
     "text": [
      "    Training Episode 0/5\n"
     ]
    },
    {
     "name": "stderr",
     "output_type": "stream",
     "text": [
      "100%|██████████| 5/5 [02:03<00:00, 24.70s/it]\n",
      "100%|██████████| 1/1 [00:00<00:00, 21.27it/s]\n",
      "263it [9:10:13, 120.87s/it]"
     ]
    },
    {
     "name": "stdout",
     "output_type": "stream",
     "text": [
      "    Evaluation Episode 0/1\n",
      "    Average Reward over last 50 episodes: -18224.16\n",
      "    Min Reward over last 50 episodes: -18381.24\n",
      "    Max Reward over last 50 episodes: -17955.51\n",
      "    Evaluation Average Reward: -17862.70\n",
      "\n",
      "Running combination 264/9555 with parameters: {'epsilon': 0.1, 'epsilon_decay': 0.995, 'alpha': 1.0, 'gamma': 0.0, 'no_change_after_lap': 155}\n"
     ]
    },
    {
     "name": "stderr",
     "output_type": "stream",
     "text": []
    },
    {
     "name": "stdout",
     "output_type": "stream",
     "text": [
      "    Training Episode 0/5\n"
     ]
    },
    {
     "name": "stderr",
     "output_type": "stream",
     "text": [
      "100%|██████████| 5/5 [02:04<00:00, 24.98s/it]\n",
      "100%|██████████| 1/1 [00:00<00:00, 16.39it/s]\n",
      "264it [9:12:18, 122.10s/it]"
     ]
    },
    {
     "name": "stdout",
     "output_type": "stream",
     "text": [
      "    Evaluation Episode 0/1\n",
      "    Average Reward over last 50 episodes: -16338.06\n",
      "    Min Reward over last 50 episodes: -16457.89\n",
      "    Max Reward over last 50 episodes: -16210.67\n",
      "    Evaluation Average Reward: -16433.41\n",
      "\n",
      "Running combination 265/9555 with parameters: {'epsilon': 0.1, 'epsilon_decay': 0.99, 'alpha': 0.4, 'gamma': 0.6, 'no_change_after_lap': 100}\n"
     ]
    },
    {
     "name": "stderr",
     "output_type": "stream",
     "text": []
    },
    {
     "name": "stdout",
     "output_type": "stream",
     "text": [
      "    Training Episode 0/5\n"
     ]
    },
    {
     "name": "stderr",
     "output_type": "stream",
     "text": [
      "100%|██████████| 5/5 [02:13<00:00, 26.78s/it]\n",
      "100%|██████████| 1/1 [00:00<00:00, 16.52it/s]\n",
      "265it [9:14:32, 125.66s/it]"
     ]
    },
    {
     "name": "stdout",
     "output_type": "stream",
     "text": [
      "    Evaluation Episode 0/1\n",
      "    Average Reward over last 50 episodes: -29491.29\n",
      "    Min Reward over last 50 episodes: -29636.08\n",
      "    Max Reward over last 50 episodes: -29223.52\n",
      "    Evaluation Average Reward: -29658.29\n",
      "\n",
      "Running combination 266/9555 with parameters: {'epsilon': 0.2, 'epsilon_decay': 0.995, 'alpha': 0.0, 'gamma': 0.9, 'no_change_after_lap': 105}\n"
     ]
    },
    {
     "name": "stderr",
     "output_type": "stream",
     "text": []
    },
    {
     "name": "stdout",
     "output_type": "stream",
     "text": [
      "    Training Episode 0/5\n"
     ]
    },
    {
     "name": "stderr",
     "output_type": "stream",
     "text": [
      "100%|██████████| 5/5 [02:02<00:00, 24.52s/it]\n",
      "100%|██████████| 1/1 [00:00<00:00, 16.00it/s]\n",
      "266it [9:16:35, 124.77s/it]"
     ]
    },
    {
     "name": "stdout",
     "output_type": "stream",
     "text": [
      "    Evaluation Episode 0/1\n",
      "    Average Reward over last 50 episodes: -28156.36\n",
      "    Min Reward over last 50 episodes: -28377.15\n",
      "    Max Reward over last 50 episodes: -27882.55\n",
      "    Evaluation Average Reward: -28068.84\n",
      "\n",
      "Running combination 267/9555 with parameters: {'epsilon': 0.0, 'epsilon_decay': 0.999, 'alpha': 0.6, 'gamma': 0.4, 'no_change_after_lap': 120}\n"
     ]
    },
    {
     "name": "stderr",
     "output_type": "stream",
     "text": []
    },
    {
     "name": "stdout",
     "output_type": "stream",
     "text": [
      "    Training Episode 0/5\n"
     ]
    },
    {
     "name": "stderr",
     "output_type": "stream",
     "text": [
      "100%|██████████| 5/5 [01:58<00:00, 23.69s/it]\n",
      "100%|██████████| 1/1 [00:00<00:00, 15.38it/s]\n",
      "267it [9:18:34, 122.90s/it]"
     ]
    },
    {
     "name": "stdout",
     "output_type": "stream",
     "text": [
      "    Evaluation Episode 0/1\n",
      "    Average Reward over last 50 episodes: -24433.17\n",
      "    Min Reward over last 50 episodes: -24550.47\n",
      "    Max Reward over last 50 episodes: -24283.01\n",
      "    Evaluation Average Reward: -24311.88\n",
      "\n",
      "Running combination 268/9555 with parameters: {'epsilon': 0.1, 'epsilon_decay': 0.995, 'alpha': 0.0, 'gamma': 0.6, 'no_change_after_lap': 130}\n"
     ]
    },
    {
     "name": "stderr",
     "output_type": "stream",
     "text": []
    },
    {
     "name": "stdout",
     "output_type": "stream",
     "text": [
      "    Training Episode 0/5\n"
     ]
    },
    {
     "name": "stderr",
     "output_type": "stream",
     "text": [
      "100%|██████████| 5/5 [02:07<00:00, 25.52s/it]\n",
      "100%|██████████| 1/1 [00:00<00:00, 14.59it/s]\n",
      "268it [9:20:41, 124.34s/it]"
     ]
    },
    {
     "name": "stdout",
     "output_type": "stream",
     "text": [
      "    Evaluation Episode 0/1\n",
      "    Average Reward over last 50 episodes: -21775.02\n",
      "    Min Reward over last 50 episodes: -22142.86\n",
      "    Max Reward over last 50 episodes: -21546.43\n",
      "    Evaluation Average Reward: -21459.28\n",
      "\n",
      "Running combination 269/9555 with parameters: {'epsilon': 0.0, 'epsilon_decay': 0.995, 'alpha': 0.4, 'gamma': 0.0, 'no_change_after_lap': 145}\n"
     ]
    },
    {
     "name": "stderr",
     "output_type": "stream",
     "text": []
    },
    {
     "name": "stdout",
     "output_type": "stream",
     "text": [
      "    Training Episode 0/5\n"
     ]
    },
    {
     "name": "stderr",
     "output_type": "stream",
     "text": [
      "100%|██████████| 5/5 [02:05<00:00, 25.06s/it]\n",
      "100%|██████████| 1/1 [00:00<00:00, 16.39it/s]\n",
      "269it [9:22:47, 124.65s/it]"
     ]
    },
    {
     "name": "stdout",
     "output_type": "stream",
     "text": [
      "    Evaluation Episode 0/1\n",
      "    Average Reward over last 50 episodes: -18143.87\n",
      "    Min Reward over last 50 episodes: -18331.94\n",
      "    Max Reward over last 50 episodes: -17962.77\n",
      "    Evaluation Average Reward: -17923.30\n",
      "\n",
      "Running combination 270/9555 with parameters: {'epsilon': 0.025, 'epsilon_decay': 0.999, 'alpha': 0.9, 'gamma': 0.2, 'no_change_after_lap': 150}\n"
     ]
    },
    {
     "name": "stderr",
     "output_type": "stream",
     "text": []
    },
    {
     "name": "stdout",
     "output_type": "stream",
     "text": [
      "    Training Episode 0/5\n"
     ]
    },
    {
     "name": "stderr",
     "output_type": "stream",
     "text": [
      "100%|██████████| 5/5 [02:04<00:00, 24.84s/it]\n",
      "100%|██████████| 1/1 [00:00<00:00, 16.39it/s]\n",
      "270it [9:24:51, 124.55s/it]"
     ]
    },
    {
     "name": "stdout",
     "output_type": "stream",
     "text": [
      "    Evaluation Episode 0/1\n",
      "    Average Reward over last 50 episodes: -17055.39\n",
      "    Min Reward over last 50 episodes: -17228.31\n",
      "    Max Reward over last 50 episodes: -16978.73\n",
      "    Evaluation Average Reward: -16995.40\n",
      "\n",
      "Running combination 271/9555 with parameters: {'epsilon': 0.025, 'epsilon_decay': 0.999, 'alpha': 0.2, 'gamma': 0.4, 'no_change_after_lap': 135}\n"
     ]
    },
    {
     "name": "stderr",
     "output_type": "stream",
     "text": []
    },
    {
     "name": "stdout",
     "output_type": "stream",
     "text": [
      "    Training Episode 0/5\n"
     ]
    },
    {
     "name": "stderr",
     "output_type": "stream",
     "text": [
      "100%|██████████| 5/5 [02:02<00:00, 24.46s/it]\n",
      "100%|██████████| 1/1 [00:00<00:00, 15.26it/s]\n",
      "271it [9:26:53, 123.90s/it]"
     ]
    },
    {
     "name": "stdout",
     "output_type": "stream",
     "text": [
      "    Evaluation Episode 0/1\n",
      "    Average Reward over last 50 episodes: -20669.92\n",
      "    Min Reward over last 50 episodes: -20830.55\n",
      "    Max Reward over last 50 episodes: -20478.99\n",
      "    Evaluation Average Reward: -20727.61\n",
      "\n",
      "Running combination 272/9555 with parameters: {'epsilon': 0.0, 'epsilon_decay': 0.999, 'alpha': 0.4, 'gamma': 0.6, 'no_change_after_lap': 120}\n"
     ]
    },
    {
     "name": "stderr",
     "output_type": "stream",
     "text": []
    },
    {
     "name": "stdout",
     "output_type": "stream",
     "text": [
      "    Training Episode 0/5\n"
     ]
    },
    {
     "name": "stderr",
     "output_type": "stream",
     "text": [
      "100%|██████████| 5/5 [02:09<00:00, 25.86s/it]\n",
      "100%|██████████| 1/1 [00:00<00:00, 22.99it/s]\n",
      "272it [9:29:03, 125.53s/it]"
     ]
    },
    {
     "name": "stdout",
     "output_type": "stream",
     "text": [
      "    Evaluation Episode 0/1\n",
      "    Average Reward over last 50 episodes: -24325.75\n",
      "    Min Reward over last 50 episodes: -24609.15\n",
      "    Max Reward over last 50 episodes: -24090.75\n",
      "    Evaluation Average Reward: -24650.30\n",
      "\n",
      "Running combination 273/9555 with parameters: {'epsilon': 0.2, 'epsilon_decay': 0.995, 'alpha': 0.0, 'gamma': 0.9, 'no_change_after_lap': 130}\n"
     ]
    },
    {
     "name": "stderr",
     "output_type": "stream",
     "text": []
    },
    {
     "name": "stdout",
     "output_type": "stream",
     "text": [
      "    Training Episode 0/5\n"
     ]
    },
    {
     "name": "stderr",
     "output_type": "stream",
     "text": [
      "100%|██████████| 5/5 [02:00<00:00, 24.14s/it]\n",
      "100%|██████████| 1/1 [00:00<00:00, 14.08it/s]\n",
      "273it [9:31:04, 124.10s/it]"
     ]
    },
    {
     "name": "stdout",
     "output_type": "stream",
     "text": [
      "    Evaluation Episode 0/1\n",
      "    Average Reward over last 50 episodes: -22030.63\n",
      "    Min Reward over last 50 episodes: -22118.37\n",
      "    Max Reward over last 50 episodes: -21954.02\n",
      "    Evaluation Average Reward: -21824.25\n",
      "\n",
      "Running combination 274/9555 with parameters: {'epsilon': 0.025, 'epsilon_decay': 0.99, 'alpha': 0.8, 'gamma': 1.0, 'no_change_after_lap': 100}\n"
     ]
    },
    {
     "name": "stderr",
     "output_type": "stream",
     "text": []
    },
    {
     "name": "stdout",
     "output_type": "stream",
     "text": [
      "    Training Episode 0/5\n"
     ]
    },
    {
     "name": "stderr",
     "output_type": "stream",
     "text": [
      "100%|██████████| 5/5 [02:03<00:00, 24.77s/it]\n",
      "100%|██████████| 1/1 [00:00<00:00, 14.81it/s]\n",
      "274it [9:33:07, 124.05s/it]"
     ]
    },
    {
     "name": "stdout",
     "output_type": "stream",
     "text": [
      "    Evaluation Episode 0/1\n",
      "    Average Reward over last 50 episodes: -29239.99\n",
      "    Min Reward over last 50 episodes: -29397.67\n",
      "    Max Reward over last 50 episodes: -28992.54\n",
      "    Evaluation Average Reward: -29653.27\n",
      "\n",
      "Running combination 275/9555 with parameters: {'epsilon': 0.05, 'epsilon_decay': 0.99, 'alpha': 0.8, 'gamma': 0.4, 'no_change_after_lap': 160}\n"
     ]
    },
    {
     "name": "stderr",
     "output_type": "stream",
     "text": []
    },
    {
     "name": "stdout",
     "output_type": "stream",
     "text": [
      "    Training Episode 0/5\n"
     ]
    },
    {
     "name": "stderr",
     "output_type": "stream",
     "text": [
      "100%|██████████| 5/5 [02:00<00:00, 24.03s/it]\n",
      "100%|██████████| 1/1 [00:00<00:00, 15.50it/s]\n",
      "275it [9:35:08, 122.89s/it]"
     ]
    },
    {
     "name": "stdout",
     "output_type": "stream",
     "text": [
      "    Evaluation Episode 0/1\n",
      "    Average Reward over last 50 episodes: -16029.25\n",
      "    Min Reward over last 50 episodes: -16094.52\n",
      "    Max Reward over last 50 episodes: -15990.52\n",
      "    Evaluation Average Reward: -16126.54\n",
      "\n",
      "Running combination 276/9555 with parameters: {'epsilon': 0.1, 'epsilon_decay': 0.995, 'alpha': 0.2, 'gamma': 0.2, 'no_change_after_lap': 120}\n"
     ]
    },
    {
     "name": "stderr",
     "output_type": "stream",
     "text": []
    },
    {
     "name": "stdout",
     "output_type": "stream",
     "text": [
      "    Training Episode 0/5\n"
     ]
    },
    {
     "name": "stderr",
     "output_type": "stream",
     "text": [
      "100%|██████████| 5/5 [02:03<00:00, 24.73s/it]\n",
      "100%|██████████| 1/1 [00:00<00:00, 14.49it/s]\n",
      "276it [9:37:11, 123.15s/it]"
     ]
    },
    {
     "name": "stdout",
     "output_type": "stream",
     "text": [
      "    Evaluation Episode 0/1\n",
      "    Average Reward over last 50 episodes: -24410.44\n",
      "    Min Reward over last 50 episodes: -24677.15\n",
      "    Max Reward over last 50 episodes: -24302.94\n",
      "    Evaluation Average Reward: -24231.11\n",
      "\n",
      "Running combination 277/9555 with parameters: {'epsilon': 0.025, 'epsilon_decay': 0.995, 'alpha': 1.0, 'gamma': 1.0, 'no_change_after_lap': 160}\n"
     ]
    },
    {
     "name": "stderr",
     "output_type": "stream",
     "text": []
    },
    {
     "name": "stdout",
     "output_type": "stream",
     "text": [
      "    Training Episode 0/5\n"
     ]
    },
    {
     "name": "stderr",
     "output_type": "stream",
     "text": [
      "100%|██████████| 5/5 [01:56<00:00, 23.27s/it]\n",
      "100%|██████████| 1/1 [00:00<00:00, 16.39it/s]\n",
      "277it [9:39:08, 121.12s/it]"
     ]
    },
    {
     "name": "stdout",
     "output_type": "stream",
     "text": [
      "    Evaluation Episode 0/1\n",
      "    Average Reward over last 50 episodes: -16081.56\n",
      "    Min Reward over last 50 episodes: -16131.90\n",
      "    Max Reward over last 50 episodes: -15987.77\n",
      "    Evaluation Average Reward: -16057.69\n",
      "\n",
      "Running combination 278/9555 with parameters: {'epsilon': 0.025, 'epsilon_decay': 0.995, 'alpha': 0.9, 'gamma': 0.4, 'no_change_after_lap': 130}\n"
     ]
    },
    {
     "name": "stderr",
     "output_type": "stream",
     "text": []
    },
    {
     "name": "stdout",
     "output_type": "stream",
     "text": [
      "    Training Episode 0/5\n"
     ]
    },
    {
     "name": "stderr",
     "output_type": "stream",
     "text": [
      "100%|██████████| 5/5 [02:05<00:00, 25.04s/it]\n",
      "100%|██████████| 1/1 [00:00<00:00, 16.25it/s]\n",
      "278it [9:41:13, 122.36s/it]"
     ]
    },
    {
     "name": "stdout",
     "output_type": "stream",
     "text": [
      "    Evaluation Episode 0/1\n",
      "    Average Reward over last 50 episodes: -21866.29\n",
      "    Min Reward over last 50 episodes: -22115.52\n",
      "    Max Reward over last 50 episodes: -21540.13\n",
      "    Evaluation Average Reward: -21450.40\n",
      "\n",
      "Running combination 279/9555 with parameters: {'epsilon': 0.025, 'epsilon_decay': 0.99, 'alpha': 0.6, 'gamma': 0.8, 'no_change_after_lap': 135}\n"
     ]
    },
    {
     "name": "stderr",
     "output_type": "stream",
     "text": []
    },
    {
     "name": "stdout",
     "output_type": "stream",
     "text": [
      "    Training Episode 0/5\n"
     ]
    },
    {
     "name": "stderr",
     "output_type": "stream",
     "text": [
      "100%|██████████| 5/5 [02:09<00:00, 25.87s/it]\n",
      "100%|██████████| 1/1 [00:00<00:00, 16.80it/s]\n",
      "279it [9:43:22, 124.48s/it]"
     ]
    },
    {
     "name": "stdout",
     "output_type": "stream",
     "text": [
      "    Evaluation Episode 0/1\n",
      "    Average Reward over last 50 episodes: -20720.32\n",
      "    Min Reward over last 50 episodes: -20799.08\n",
      "    Max Reward over last 50 episodes: -20592.68\n",
      "    Evaluation Average Reward: -20568.21\n",
      "\n",
      "Running combination 280/9555 with parameters: {'epsilon': 0.1, 'epsilon_decay': 0.999, 'alpha': 0.4, 'gamma': 0.2, 'no_change_after_lap': 115}\n"
     ]
    },
    {
     "name": "stderr",
     "output_type": "stream",
     "text": []
    },
    {
     "name": "stdout",
     "output_type": "stream",
     "text": [
      "    Training Episode 0/5\n"
     ]
    },
    {
     "name": "stderr",
     "output_type": "stream",
     "text": [
      "100%|██████████| 5/5 [02:03<00:00, 24.76s/it]\n",
      "100%|██████████| 1/1 [00:00<00:00, 16.13it/s]\n",
      "280it [9:45:26, 124.30s/it]"
     ]
    },
    {
     "name": "stdout",
     "output_type": "stream",
     "text": [
      "    Evaluation Episode 0/1\n",
      "    Average Reward over last 50 episodes: -25522.42\n",
      "    Min Reward over last 50 episodes: -25701.56\n",
      "    Max Reward over last 50 episodes: -25359.84\n",
      "    Evaluation Average Reward: -25790.83\n",
      "\n",
      "Running combination 281/9555 with parameters: {'epsilon': 0.2, 'epsilon_decay': 0.999, 'alpha': 0.6, 'gamma': 1.0, 'no_change_after_lap': 135}\n"
     ]
    },
    {
     "name": "stderr",
     "output_type": "stream",
     "text": []
    },
    {
     "name": "stdout",
     "output_type": "stream",
     "text": [
      "    Training Episode 0/5\n"
     ]
    },
    {
     "name": "stderr",
     "output_type": "stream",
     "text": [
      "100%|██████████| 5/5 [02:00<00:00, 24.01s/it]\n",
      "100%|██████████| 1/1 [00:00<00:00, 14.38it/s]\n",
      "281it [9:47:26, 123.05s/it]"
     ]
    },
    {
     "name": "stdout",
     "output_type": "stream",
     "text": [
      "    Evaluation Episode 0/1\n",
      "    Average Reward over last 50 episodes: -20489.54\n",
      "    Min Reward over last 50 episodes: -20847.55\n",
      "    Max Reward over last 50 episodes: -20184.71\n",
      "    Evaluation Average Reward: -20799.73\n",
      "\n",
      "Running combination 282/9555 with parameters: {'epsilon': 0.2, 'epsilon_decay': 0.995, 'alpha': 1.0, 'gamma': 0.9, 'no_change_after_lap': 155}\n"
     ]
    },
    {
     "name": "stderr",
     "output_type": "stream",
     "text": []
    },
    {
     "name": "stdout",
     "output_type": "stream",
     "text": [
      "    Training Episode 0/5\n"
     ]
    },
    {
     "name": "stderr",
     "output_type": "stream",
     "text": [
      "100%|██████████| 5/5 [02:01<00:00, 24.36s/it]\n",
      "100%|██████████| 1/1 [00:00<00:00, 16.00it/s]\n",
      "282it [9:49:28, 122.70s/it]"
     ]
    },
    {
     "name": "stdout",
     "output_type": "stream",
     "text": [
      "    Evaluation Episode 0/1\n",
      "    Average Reward over last 50 episodes: -16368.62\n",
      "    Min Reward over last 50 episodes: -16447.04\n",
      "    Max Reward over last 50 episodes: -16289.70\n",
      "    Evaluation Average Reward: -16215.86\n",
      "\n",
      "Running combination 283/9555 with parameters: {'epsilon': 0.05, 'epsilon_decay': 0.995, 'alpha': 0.6, 'gamma': 0.9, 'no_change_after_lap': 135}\n"
     ]
    },
    {
     "name": "stderr",
     "output_type": "stream",
     "text": []
    },
    {
     "name": "stdout",
     "output_type": "stream",
     "text": [
      "    Training Episode 0/5\n"
     ]
    },
    {
     "name": "stderr",
     "output_type": "stream",
     "text": [
      "100%|██████████| 5/5 [02:08<00:00, 25.61s/it]\n",
      "100%|██████████| 1/1 [00:00<00:00, 18.18it/s]\n",
      "283it [9:51:37, 124.33s/it]"
     ]
    },
    {
     "name": "stdout",
     "output_type": "stream",
     "text": [
      "    Evaluation Episode 0/1\n",
      "    Average Reward over last 50 episodes: -20623.19\n",
      "    Min Reward over last 50 episodes: -20826.56\n",
      "    Max Reward over last 50 episodes: -20345.29\n",
      "    Evaluation Average Reward: -20697.50\n",
      "\n",
      "Running combination 284/9555 with parameters: {'epsilon': 0.025, 'epsilon_decay': 0.995, 'alpha': 0.9, 'gamma': 1.0, 'no_change_after_lap': 110}\n"
     ]
    },
    {
     "name": "stderr",
     "output_type": "stream",
     "text": []
    },
    {
     "name": "stdout",
     "output_type": "stream",
     "text": [
      "    Training Episode 0/5\n"
     ]
    },
    {
     "name": "stderr",
     "output_type": "stream",
     "text": [
      "100%|██████████| 5/5 [02:03<00:00, 24.69s/it]\n",
      "100%|██████████| 1/1 [00:00<00:00, 18.69it/s]\n",
      "284it [9:53:40, 124.09s/it]"
     ]
    },
    {
     "name": "stdout",
     "output_type": "stream",
     "text": [
      "    Evaluation Episode 0/1\n",
      "    Average Reward over last 50 episodes: -26906.48\n",
      "    Min Reward over last 50 episodes: -27027.25\n",
      "    Max Reward over last 50 episodes: -26707.55\n",
      "    Evaluation Average Reward: -27015.45\n",
      "\n",
      "Running combination 285/9555 with parameters: {'epsilon': 0.05, 'epsilon_decay': 0.995, 'alpha': 0.6, 'gamma': 0.6, 'no_change_after_lap': 145}\n"
     ]
    },
    {
     "name": "stderr",
     "output_type": "stream",
     "text": []
    },
    {
     "name": "stdout",
     "output_type": "stream",
     "text": [
      "    Training Episode 0/5\n"
     ]
    },
    {
     "name": "stderr",
     "output_type": "stream",
     "text": [
      "100%|██████████| 5/5 [02:09<00:00, 25.90s/it]\n",
      "100%|██████████| 1/1 [00:00<00:00, 16.00it/s]\n",
      "285it [9:55:50, 125.73s/it]"
     ]
    },
    {
     "name": "stdout",
     "output_type": "stream",
     "text": [
      "    Evaluation Episode 0/1\n",
      "    Average Reward over last 50 episodes: -18135.47\n",
      "    Min Reward over last 50 episodes: -18469.11\n",
      "    Max Reward over last 50 episodes: -17908.10\n",
      "    Evaluation Average Reward: -18320.74\n",
      "\n",
      "Running combination 286/9555 with parameters: {'epsilon': 0.0, 'epsilon_decay': 0.995, 'alpha': 1.0, 'gamma': 0.8, 'no_change_after_lap': 145}\n"
     ]
    },
    {
     "name": "stderr",
     "output_type": "stream",
     "text": []
    },
    {
     "name": "stdout",
     "output_type": "stream",
     "text": [
      "    Training Episode 0/5\n"
     ]
    },
    {
     "name": "stderr",
     "output_type": "stream",
     "text": [
      "100%|██████████| 5/5 [02:08<00:00, 25.74s/it]\n",
      "100%|██████████| 1/1 [00:00<00:00, 15.87it/s]\n",
      "286it [9:57:58, 126.64s/it]"
     ]
    },
    {
     "name": "stdout",
     "output_type": "stream",
     "text": [
      "    Evaluation Episode 0/1\n",
      "    Average Reward over last 50 episodes: -18030.86\n",
      "    Min Reward over last 50 episodes: -18172.30\n",
      "    Max Reward over last 50 episodes: -17820.00\n",
      "    Evaluation Average Reward: -18160.82\n",
      "\n",
      "Running combination 287/9555 with parameters: {'epsilon': 0.05, 'epsilon_decay': 0.999, 'alpha': 0.0, 'gamma': 0.2, 'no_change_after_lap': 150}\n"
     ]
    },
    {
     "name": "stderr",
     "output_type": "stream",
     "text": []
    },
    {
     "name": "stdout",
     "output_type": "stream",
     "text": [
      "    Training Episode 0/5\n"
     ]
    },
    {
     "name": "stderr",
     "output_type": "stream",
     "text": [
      "100%|██████████| 5/5 [01:55<00:00, 23.16s/it]\n",
      "100%|██████████| 1/1 [00:00<00:00, 20.20it/s]\n",
      "287it [9:59:54, 123.40s/it]"
     ]
    },
    {
     "name": "stdout",
     "output_type": "stream",
     "text": [
      "    Evaluation Episode 0/1\n",
      "    Average Reward over last 50 episodes: -17083.78\n",
      "    Min Reward over last 50 episodes: -17212.41\n",
      "    Max Reward over last 50 episodes: -16903.33\n",
      "    Evaluation Average Reward: -17223.67\n",
      "\n",
      "Running combination 288/9555 with parameters: {'epsilon': 0.0, 'epsilon_decay': 0.999, 'alpha': 0.2, 'gamma': 0.4, 'no_change_after_lap': 160}\n"
     ]
    },
    {
     "name": "stderr",
     "output_type": "stream",
     "text": []
    },
    {
     "name": "stdout",
     "output_type": "stream",
     "text": [
      "    Training Episode 0/5\n"
     ]
    },
    {
     "name": "stderr",
     "output_type": "stream",
     "text": [
      "100%|██████████| 5/5 [01:56<00:00, 23.39s/it]\n",
      "100%|██████████| 1/1 [00:00<00:00, 15.50it/s]\n",
      "288it [10:01:51, 121.49s/it]"
     ]
    },
    {
     "name": "stdout",
     "output_type": "stream",
     "text": [
      "    Evaluation Episode 0/1\n",
      "    Average Reward over last 50 episodes: -16059.21\n",
      "    Min Reward over last 50 episodes: -16103.02\n",
      "    Max Reward over last 50 episodes: -16016.41\n",
      "    Evaluation Average Reward: -16133.43\n",
      "\n",
      "Running combination 289/9555 with parameters: {'epsilon': 0.025, 'epsilon_decay': 0.999, 'alpha': 1.0, 'gamma': 0.0, 'no_change_after_lap': 105}\n"
     ]
    },
    {
     "name": "stderr",
     "output_type": "stream",
     "text": []
    },
    {
     "name": "stdout",
     "output_type": "stream",
     "text": [
      "    Training Episode 0/5\n"
     ]
    },
    {
     "name": "stderr",
     "output_type": "stream",
     "text": [
      "100%|██████████| 5/5 [01:59<00:00, 23.81s/it]\n",
      "100%|██████████| 1/1 [00:00<00:00, 16.12it/s]\n",
      "289it [10:03:50, 120.79s/it]"
     ]
    },
    {
     "name": "stdout",
     "output_type": "stream",
     "text": [
      "    Evaluation Episode 0/1\n",
      "    Average Reward over last 50 episodes: -28217.51\n",
      "    Min Reward over last 50 episodes: -28360.35\n",
      "    Max Reward over last 50 episodes: -28079.97\n",
      "    Evaluation Average Reward: -28114.01\n",
      "\n",
      "Running combination 290/9555 with parameters: {'epsilon': 0.05, 'epsilon_decay': 0.995, 'alpha': 0.6, 'gamma': 1.0, 'no_change_after_lap': 115}\n"
     ]
    },
    {
     "name": "stderr",
     "output_type": "stream",
     "text": []
    },
    {
     "name": "stdout",
     "output_type": "stream",
     "text": [
      "    Training Episode 0/5\n"
     ]
    },
    {
     "name": "stderr",
     "output_type": "stream",
     "text": [
      "100%|██████████| 5/5 [02:02<00:00, 24.56s/it]\n",
      "100%|██████████| 1/1 [00:00<00:00, 19.41it/s]\n",
      "290it [10:05:53, 121.41s/it]"
     ]
    },
    {
     "name": "stdout",
     "output_type": "stream",
     "text": [
      "    Evaluation Episode 0/1\n",
      "    Average Reward over last 50 episodes: -25660.42\n",
      "    Min Reward over last 50 episodes: -25756.39\n",
      "    Max Reward over last 50 episodes: -25436.23\n",
      "    Evaluation Average Reward: -25438.54\n",
      "\n",
      "Running combination 291/9555 with parameters: {'epsilon': 0.0, 'epsilon_decay': 0.99, 'alpha': 0.4, 'gamma': 0.8, 'no_change_after_lap': 100}\n"
     ]
    },
    {
     "name": "stderr",
     "output_type": "stream",
     "text": []
    },
    {
     "name": "stdout",
     "output_type": "stream",
     "text": [
      "    Training Episode 0/5\n"
     ]
    },
    {
     "name": "stderr",
     "output_type": "stream",
     "text": [
      "100%|██████████| 5/5 [02:00<00:00, 24.01s/it]\n",
      "100%|██████████| 1/1 [00:00<00:00, 16.66it/s]\n",
      "291it [10:07:53, 121.02s/it]"
     ]
    },
    {
     "name": "stdout",
     "output_type": "stream",
     "text": [
      "    Evaluation Episode 0/1\n",
      "    Average Reward over last 50 episodes: -29421.33\n",
      "    Min Reward over last 50 episodes: -29608.84\n",
      "    Max Reward over last 50 episodes: -29218.60\n",
      "    Evaluation Average Reward: -29723.03\n",
      "\n",
      "Running combination 292/9555 with parameters: {'epsilon': 0.025, 'epsilon_decay': 0.99, 'alpha': 0.9, 'gamma': 0.6, 'no_change_after_lap': 100}\n"
     ]
    },
    {
     "name": "stderr",
     "output_type": "stream",
     "text": []
    },
    {
     "name": "stdout",
     "output_type": "stream",
     "text": [
      "    Training Episode 0/5\n"
     ]
    },
    {
     "name": "stderr",
     "output_type": "stream",
     "text": [
      "100%|██████████| 5/5 [02:07<00:00, 25.58s/it]\n",
      "100%|██████████| 1/1 [00:00<00:00, 16.53it/s]\n",
      "292it [10:10:01, 123.11s/it]"
     ]
    },
    {
     "name": "stdout",
     "output_type": "stream",
     "text": [
      "    Evaluation Episode 0/1\n",
      "    Average Reward over last 50 episodes: -29428.99\n",
      "    Min Reward over last 50 episodes: -29649.83\n",
      "    Max Reward over last 50 episodes: -29093.47\n",
      "    Evaluation Average Reward: -29435.05\n",
      "\n",
      "Running combination 293/9555 with parameters: {'epsilon': 0.0, 'epsilon_decay': 0.999, 'alpha': 0.6, 'gamma': 0.9, 'no_change_after_lap': 155}\n"
     ]
    },
    {
     "name": "stderr",
     "output_type": "stream",
     "text": []
    },
    {
     "name": "stdout",
     "output_type": "stream",
     "text": [
      "    Training Episode 0/5\n"
     ]
    },
    {
     "name": "stderr",
     "output_type": "stream",
     "text": [
      "100%|██████████| 5/5 [02:01<00:00, 24.32s/it]\n",
      "100%|██████████| 1/1 [00:00<00:00, 14.82it/s]\n",
      "293it [10:12:03, 122.68s/it]"
     ]
    },
    {
     "name": "stdout",
     "output_type": "stream",
     "text": [
      "    Evaluation Episode 0/1\n",
      "    Average Reward over last 50 episodes: -16355.24\n",
      "    Min Reward over last 50 episodes: -16394.30\n",
      "    Max Reward over last 50 episodes: -16278.90\n",
      "    Evaluation Average Reward: -16264.02\n",
      "\n",
      "Running combination 294/9555 with parameters: {'epsilon': 0.025, 'epsilon_decay': 0.99, 'alpha': 0.6, 'gamma': 1.0, 'no_change_after_lap': 105}\n"
     ]
    },
    {
     "name": "stderr",
     "output_type": "stream",
     "text": []
    },
    {
     "name": "stdout",
     "output_type": "stream",
     "text": [
      "    Training Episode 0/5\n"
     ]
    },
    {
     "name": "stderr",
     "output_type": "stream",
     "text": [
      "100%|██████████| 5/5 [01:59<00:00, 23.82s/it]\n",
      "100%|██████████| 1/1 [00:00<00:00, 16.95it/s]\n",
      "294it [10:14:02, 121.62s/it]"
     ]
    },
    {
     "name": "stdout",
     "output_type": "stream",
     "text": [
      "    Evaluation Episode 0/1\n",
      "    Average Reward over last 50 episodes: -28179.46\n",
      "    Min Reward over last 50 episodes: -28396.61\n",
      "    Max Reward over last 50 episodes: -27774.30\n",
      "    Evaluation Average Reward: -27957.50\n",
      "\n",
      "Running combination 295/9555 with parameters: {'epsilon': 0.1, 'epsilon_decay': 0.999, 'alpha': 0.6, 'gamma': 0.6, 'no_change_after_lap': 100}\n"
     ]
    },
    {
     "name": "stderr",
     "output_type": "stream",
     "text": []
    },
    {
     "name": "stdout",
     "output_type": "stream",
     "text": [
      "    Training Episode 0/5\n"
     ]
    },
    {
     "name": "stderr",
     "output_type": "stream",
     "text": [
      "100%|██████████| 5/5 [02:13<00:00, 26.68s/it]\n",
      "100%|██████████| 1/1 [00:00<00:00, 16.25it/s]\n",
      "295it [10:16:16, 125.17s/it]"
     ]
    },
    {
     "name": "stdout",
     "output_type": "stream",
     "text": [
      "    Evaluation Episode 0/1\n",
      "    Average Reward over last 50 episodes: -29327.95\n",
      "    Min Reward over last 50 episodes: -29641.48\n",
      "    Max Reward over last 50 episodes: -29074.77\n",
      "    Evaluation Average Reward: -29084.16\n",
      "\n",
      "Running combination 296/9555 with parameters: {'epsilon': 0.1, 'epsilon_decay': 0.995, 'alpha': 0.0, 'gamma': 0.2, 'no_change_after_lap': 125}\n"
     ]
    },
    {
     "name": "stderr",
     "output_type": "stream",
     "text": []
    },
    {
     "name": "stdout",
     "output_type": "stream",
     "text": [
      "    Training Episode 0/5\n"
     ]
    },
    {
     "name": "stderr",
     "output_type": "stream",
     "text": [
      "100%|██████████| 5/5 [01:57<00:00, 23.56s/it]\n",
      "100%|██████████| 1/1 [00:00<00:00, 14.08it/s]\n",
      "296it [10:18:14, 122.99s/it]"
     ]
    },
    {
     "name": "stdout",
     "output_type": "stream",
     "text": [
      "    Evaluation Episode 0/1\n",
      "    Average Reward over last 50 episodes: -23003.68\n",
      "    Min Reward over last 50 episodes: -23218.98\n",
      "    Max Reward over last 50 episodes: -22839.00\n",
      "    Evaluation Average Reward: -22888.14\n",
      "\n",
      "Running combination 297/9555 with parameters: {'epsilon': 0.2, 'epsilon_decay': 0.999, 'alpha': 0.2, 'gamma': 0.8, 'no_change_after_lap': 155}\n"
     ]
    },
    {
     "name": "stderr",
     "output_type": "stream",
     "text": []
    },
    {
     "name": "stdout",
     "output_type": "stream",
     "text": [
      "    Training Episode 0/5\n"
     ]
    },
    {
     "name": "stderr",
     "output_type": "stream",
     "text": [
      "100%|██████████| 5/5 [02:06<00:00, 25.31s/it]\n",
      "100%|██████████| 1/1 [00:00<00:00, 14.60it/s]\n",
      "297it [10:20:20, 124.09s/it]"
     ]
    },
    {
     "name": "stdout",
     "output_type": "stream",
     "text": [
      "    Evaluation Episode 0/1\n",
      "    Average Reward over last 50 episodes: -16356.74\n",
      "    Min Reward over last 50 episodes: -16435.57\n",
      "    Max Reward over last 50 episodes: -16317.78\n",
      "    Evaluation Average Reward: -16205.11\n",
      "\n",
      "Running combination 298/9555 with parameters: {'epsilon': 0.0, 'epsilon_decay': 0.99, 'alpha': 0.8, 'gamma': 0.6, 'no_change_after_lap': 100}\n"
     ]
    },
    {
     "name": "stderr",
     "output_type": "stream",
     "text": []
    },
    {
     "name": "stdout",
     "output_type": "stream",
     "text": [
      "    Training Episode 0/5\n"
     ]
    },
    {
     "name": "stderr",
     "output_type": "stream",
     "text": [
      "100%|██████████| 5/5 [02:03<00:00, 24.78s/it]\n",
      "100%|██████████| 1/1 [00:00<00:00, 15.26it/s]\n",
      "298it [10:22:24, 124.05s/it]"
     ]
    },
    {
     "name": "stdout",
     "output_type": "stream",
     "text": [
      "    Evaluation Episode 0/1\n",
      "    Average Reward over last 50 episodes: -29404.44\n",
      "    Min Reward over last 50 episodes: -29658.23\n",
      "    Max Reward over last 50 episodes: -29033.35\n",
      "    Evaluation Average Reward: -29571.95\n",
      "\n",
      "Running combination 299/9555 with parameters: {'epsilon': 0.1, 'epsilon_decay': 0.995, 'alpha': 0.6, 'gamma': 0.6, 'no_change_after_lap': 145}\n"
     ]
    },
    {
     "name": "stderr",
     "output_type": "stream",
     "text": []
    },
    {
     "name": "stdout",
     "output_type": "stream",
     "text": [
      "    Training Episode 0/5\n"
     ]
    },
    {
     "name": "stderr",
     "output_type": "stream",
     "text": [
      "100%|██████████| 5/5 [02:12<00:00, 26.60s/it]\n",
      "100%|██████████| 1/1 [00:00<00:00, 16.80it/s]\n",
      "299it [10:24:37, 126.75s/it]"
     ]
    },
    {
     "name": "stdout",
     "output_type": "stream",
     "text": [
      "    Evaluation Episode 0/1\n",
      "    Average Reward over last 50 episodes: -18185.93\n",
      "    Min Reward over last 50 episodes: -18363.27\n",
      "    Max Reward over last 50 episodes: -17938.25\n",
      "    Evaluation Average Reward: -18293.17\n",
      "\n",
      "Running combination 300/9555 with parameters: {'epsilon': 0.0, 'epsilon_decay': 0.999, 'alpha': 1.0, 'gamma': 1.0, 'no_change_after_lap': 110}\n"
     ]
    },
    {
     "name": "stderr",
     "output_type": "stream",
     "text": []
    },
    {
     "name": "stdout",
     "output_type": "stream",
     "text": [
      "    Training Episode 0/5\n"
     ]
    },
    {
     "name": "stderr",
     "output_type": "stream",
     "text": [
      "100%|██████████| 5/5 [01:53<00:00, 22.73s/it]\n",
      "100%|██████████| 1/1 [00:00<00:00, 19.99it/s]\n",
      "300it [10:26:31, 122.84s/it]"
     ]
    },
    {
     "name": "stdout",
     "output_type": "stream",
     "text": [
      "    Evaluation Episode 0/1\n",
      "    Average Reward over last 50 episodes: -26756.56\n",
      "    Min Reward over last 50 episodes: -27016.47\n",
      "    Max Reward over last 50 episodes: -26534.79\n",
      "    Evaluation Average Reward: -26614.18\n",
      "\n",
      "Running combination 301/9555 with parameters: {'epsilon': 0.025, 'epsilon_decay': 0.99, 'alpha': 1.0, 'gamma': 0.0, 'no_change_after_lap': 120}\n"
     ]
    },
    {
     "name": "stderr",
     "output_type": "stream",
     "text": []
    },
    {
     "name": "stdout",
     "output_type": "stream",
     "text": [
      "    Training Episode 0/5\n"
     ]
    },
    {
     "name": "stderr",
     "output_type": "stream",
     "text": [
      "100%|██████████| 5/5 [02:03<00:00, 24.78s/it]\n",
      "100%|██████████| 1/1 [00:00<00:00, 15.62it/s]\n",
      "301it [10:28:35, 123.18s/it]"
     ]
    },
    {
     "name": "stdout",
     "output_type": "stream",
     "text": [
      "    Evaluation Episode 0/1\n",
      "    Average Reward over last 50 episodes: -24443.68\n",
      "    Min Reward over last 50 episodes: -24556.10\n",
      "    Max Reward over last 50 episodes: -24351.49\n",
      "    Evaluation Average Reward: -24252.28\n",
      "\n",
      "Running combination 302/9555 with parameters: {'epsilon': 0.05, 'epsilon_decay': 0.995, 'alpha': 0.9, 'gamma': 1.0, 'no_change_after_lap': 140}\n"
     ]
    },
    {
     "name": "stderr",
     "output_type": "stream",
     "text": []
    },
    {
     "name": "stdout",
     "output_type": "stream",
     "text": [
      "    Training Episode 0/5\n"
     ]
    },
    {
     "name": "stderr",
     "output_type": "stream",
     "text": [
      "100%|██████████| 5/5 [01:59<00:00, 23.83s/it]\n",
      "100%|██████████| 1/1 [00:00<00:00, 15.62it/s]\n",
      "302it [10:30:34, 121.99s/it]"
     ]
    },
    {
     "name": "stdout",
     "output_type": "stream",
     "text": [
      "    Evaluation Episode 0/1\n",
      "    Average Reward over last 50 episodes: -19296.31\n",
      "    Min Reward over last 50 episodes: -19490.12\n",
      "    Max Reward over last 50 episodes: -19070.99\n",
      "    Evaluation Average Reward: -19393.17\n",
      "\n",
      "Running combination 303/9555 with parameters: {'epsilon': 0.0, 'epsilon_decay': 0.99, 'alpha': 0.8, 'gamma': 0.8, 'no_change_after_lap': 100}\n"
     ]
    },
    {
     "name": "stderr",
     "output_type": "stream",
     "text": []
    },
    {
     "name": "stdout",
     "output_type": "stream",
     "text": [
      "    Training Episode 0/5\n"
     ]
    },
    {
     "name": "stderr",
     "output_type": "stream",
     "text": [
      "100%|██████████| 5/5 [02:05<00:00, 25.04s/it]\n",
      "100%|██████████| 1/1 [00:00<00:00, 15.50it/s]\n",
      "303it [10:32:39, 122.98s/it]"
     ]
    },
    {
     "name": "stdout",
     "output_type": "stream",
     "text": [
      "    Evaluation Episode 0/1\n",
      "    Average Reward over last 50 episodes: -29375.51\n",
      "    Min Reward over last 50 episodes: -29576.74\n",
      "    Max Reward over last 50 episodes: -29151.01\n",
      "    Evaluation Average Reward: -29338.84\n",
      "\n",
      "Running combination 304/9555 with parameters: {'epsilon': 0.025, 'epsilon_decay': 0.995, 'alpha': 0.0, 'gamma': 0.6, 'no_change_after_lap': 150}\n"
     ]
    },
    {
     "name": "stderr",
     "output_type": "stream",
     "text": []
    },
    {
     "name": "stdout",
     "output_type": "stream",
     "text": [
      "    Training Episode 0/5\n"
     ]
    },
    {
     "name": "stderr",
     "output_type": "stream",
     "text": [
      "100%|██████████| 5/5 [01:52<00:00, 22.53s/it]\n",
      "100%|██████████| 1/1 [00:00<00:00, 16.95it/s]\n",
      "304it [10:34:32, 119.90s/it]"
     ]
    },
    {
     "name": "stdout",
     "output_type": "stream",
     "text": [
      "    Evaluation Episode 0/1\n",
      "    Average Reward over last 50 episodes: -17144.90\n",
      "    Min Reward over last 50 episodes: -17238.49\n",
      "    Max Reward over last 50 episodes: -16927.36\n",
      "    Evaluation Average Reward: -16853.85\n",
      "\n",
      "Running combination 305/9555 with parameters: {'epsilon': 0.025, 'epsilon_decay': 0.999, 'alpha': 0.4, 'gamma': 1.0, 'no_change_after_lap': 140}\n"
     ]
    },
    {
     "name": "stderr",
     "output_type": "stream",
     "text": []
    },
    {
     "name": "stdout",
     "output_type": "stream",
     "text": [
      "    Training Episode 0/5\n"
     ]
    },
    {
     "name": "stderr",
     "output_type": "stream",
     "text": [
      "100%|██████████| 5/5 [02:05<00:00, 25.06s/it]\n",
      "100%|██████████| 1/1 [00:00<00:00, 15.74it/s]\n",
      "305it [10:36:37, 121.55s/it]"
     ]
    },
    {
     "name": "stdout",
     "output_type": "stream",
     "text": [
      "    Evaluation Episode 0/1\n",
      "    Average Reward over last 50 episodes: -19299.92\n",
      "    Min Reward over last 50 episodes: -19547.13\n",
      "    Max Reward over last 50 episodes: -19102.54\n",
      "    Evaluation Average Reward: -19626.99\n",
      "\n",
      "Running combination 306/9555 with parameters: {'epsilon': 0.025, 'epsilon_decay': 0.995, 'alpha': 0.4, 'gamma': 0.8, 'no_change_after_lap': 160}\n"
     ]
    },
    {
     "name": "stderr",
     "output_type": "stream",
     "text": []
    },
    {
     "name": "stdout",
     "output_type": "stream",
     "text": [
      "    Training Episode 0/5\n"
     ]
    },
    {
     "name": "stderr",
     "output_type": "stream",
     "text": [
      "100%|██████████| 5/5 [02:05<00:00, 25.00s/it]\n",
      "100%|██████████| 1/1 [00:00<00:00, 17.09it/s]\n",
      "306it [10:38:43, 122.61s/it]"
     ]
    },
    {
     "name": "stdout",
     "output_type": "stream",
     "text": [
      "    Evaluation Episode 0/1\n",
      "    Average Reward over last 50 episodes: -16095.40\n",
      "    Min Reward over last 50 episodes: -16168.44\n",
      "    Max Reward over last 50 episodes: -16035.78\n",
      "    Evaluation Average Reward: -16179.64\n",
      "\n",
      "Running combination 307/9555 with parameters: {'epsilon': 0.0, 'epsilon_decay': 0.999, 'alpha': 0.0, 'gamma': 0.8, 'no_change_after_lap': 115}\n"
     ]
    },
    {
     "name": "stderr",
     "output_type": "stream",
     "text": []
    },
    {
     "name": "stdout",
     "output_type": "stream",
     "text": [
      "    Training Episode 0/5\n"
     ]
    },
    {
     "name": "stderr",
     "output_type": "stream",
     "text": [
      "100%|██████████| 5/5 [01:56<00:00, 23.27s/it]\n",
      "100%|██████████| 1/1 [00:00<00:00, 16.80it/s]\n",
      "307it [10:40:39, 120.75s/it]"
     ]
    },
    {
     "name": "stdout",
     "output_type": "stream",
     "text": [
      "    Evaluation Episode 0/1\n",
      "    Average Reward over last 50 episodes: -25498.02\n",
      "    Min Reward over last 50 episodes: -25683.86\n",
      "    Max Reward over last 50 episodes: -25361.15\n",
      "    Evaluation Average Reward: -25858.55\n",
      "\n",
      "Running combination 308/9555 with parameters: {'epsilon': 0.025, 'epsilon_decay': 0.99, 'alpha': 0.8, 'gamma': 0.4, 'no_change_after_lap': 125}\n"
     ]
    },
    {
     "name": "stderr",
     "output_type": "stream",
     "text": []
    },
    {
     "name": "stdout",
     "output_type": "stream",
     "text": [
      "    Training Episode 0/5\n"
     ]
    },
    {
     "name": "stderr",
     "output_type": "stream",
     "text": [
      "100%|██████████| 5/5 [01:59<00:00, 23.93s/it]\n",
      "100%|██████████| 1/1 [00:00<00:00, 19.42it/s]\n",
      "308it [10:42:39, 120.43s/it]"
     ]
    },
    {
     "name": "stdout",
     "output_type": "stream",
     "text": [
      "    Evaluation Episode 0/1\n",
      "    Average Reward over last 50 episodes: -22988.89\n",
      "    Min Reward over last 50 episodes: -23262.58\n",
      "    Max Reward over last 50 episodes: -22823.28\n",
      "    Evaluation Average Reward: -23283.22\n",
      "\n",
      "Running combination 309/9555 with parameters: {'epsilon': 0.0, 'epsilon_decay': 0.99, 'alpha': 0.6, 'gamma': 0.4, 'no_change_after_lap': 110}\n"
     ]
    },
    {
     "name": "stderr",
     "output_type": "stream",
     "text": []
    },
    {
     "name": "stdout",
     "output_type": "stream",
     "text": [
      "    Training Episode 0/5\n"
     ]
    },
    {
     "name": "stderr",
     "output_type": "stream",
     "text": [
      "100%|██████████| 5/5 [02:02<00:00, 24.56s/it]\n",
      "100%|██████████| 1/1 [00:00<00:00, 17.24it/s]\n",
      "309it [10:44:42, 121.16s/it]"
     ]
    },
    {
     "name": "stdout",
     "output_type": "stream",
     "text": [
      "    Evaluation Episode 0/1\n",
      "    Average Reward over last 50 episodes: -26946.90\n",
      "    Min Reward over last 50 episodes: -27079.74\n",
      "    Max Reward over last 50 episodes: -26727.88\n",
      "    Evaluation Average Reward: -26583.67\n",
      "\n",
      "Running combination 310/9555 with parameters: {'epsilon': 0.1, 'epsilon_decay': 0.999, 'alpha': 0.8, 'gamma': 0.8, 'no_change_after_lap': 150}\n"
     ]
    },
    {
     "name": "stderr",
     "output_type": "stream",
     "text": []
    },
    {
     "name": "stdout",
     "output_type": "stream",
     "text": [
      "    Training Episode 0/5\n"
     ]
    },
    {
     "name": "stderr",
     "output_type": "stream",
     "text": [
      "100%|██████████| 5/5 [02:06<00:00, 25.38s/it]\n",
      "100%|██████████| 1/1 [00:00<00:00, 16.00it/s]\n",
      "310it [10:46:49, 122.91s/it]"
     ]
    },
    {
     "name": "stdout",
     "output_type": "stream",
     "text": [
      "    Evaluation Episode 0/1\n",
      "    Average Reward over last 50 episodes: -17013.70\n",
      "    Min Reward over last 50 episodes: -17154.08\n",
      "    Max Reward over last 50 episodes: -16875.90\n",
      "    Evaluation Average Reward: -16848.30\n",
      "\n",
      "Running combination 311/9555 with parameters: {'epsilon': 0.05, 'epsilon_decay': 0.99, 'alpha': 0.6, 'gamma': 0.2, 'no_change_after_lap': 125}\n"
     ]
    },
    {
     "name": "stderr",
     "output_type": "stream",
     "text": []
    },
    {
     "name": "stdout",
     "output_type": "stream",
     "text": [
      "    Training Episode 0/5\n"
     ]
    },
    {
     "name": "stderr",
     "output_type": "stream",
     "text": [
      "100%|██████████| 5/5 [02:20<00:00, 28.14s/it]\n",
      "100%|██████████| 1/1 [00:00<00:00, 14.28it/s]\n",
      "311it [10:49:09, 128.27s/it]"
     ]
    },
    {
     "name": "stdout",
     "output_type": "stream",
     "text": [
      "    Evaluation Episode 0/1\n",
      "    Average Reward over last 50 episodes: -23003.17\n",
      "    Min Reward over last 50 episodes: -23348.90\n",
      "    Max Reward over last 50 episodes: -22700.20\n",
      "    Evaluation Average Reward: -23127.86\n",
      "\n",
      "Running combination 312/9555 with parameters: {'epsilon': 0.025, 'epsilon_decay': 0.995, 'alpha': 0.4, 'gamma': 0.0, 'no_change_after_lap': 130}\n"
     ]
    },
    {
     "name": "stderr",
     "output_type": "stream",
     "text": []
    },
    {
     "name": "stdout",
     "output_type": "stream",
     "text": [
      "    Training Episode 0/5\n"
     ]
    },
    {
     "name": "stderr",
     "output_type": "stream",
     "text": []
    }
   ],
   "source": [
    "# if not os.path.exists(directory):\n",
    "#     os.makedirs(directory)\n",
    "\n",
    "def parameter_combinations(param_grid):\n",
    "    \"\"\"\n",
    "    Generate random combinations of parameters from the given parameter grid.\n",
    "    \n",
    "    Args:\n",
    "    - param_grid (dict): Dictionary containing hyperparameters and their possible values.\n",
    "\n",
    "    Yields:\n",
    "    - dict: Random combination of hyperparameters.\n",
    "    \"\"\"\n",
    "    # Connect to the SQLite database and fetch existing combinations\n",
    "    conn = sqlite3.connect(gs_db_name)\n",
    "    c = conn.cursor()\n",
    "\n",
    "    # Check if the table exists. If not, create an empty DataFrame.\n",
    "    c.execute(f\"SELECT name FROM sqlite_master WHERE type='table' AND name='{table_name}';\")\n",
    "    if c.fetchone():\n",
    "        existing_combinations_df = pd.read_sql_query(f\"SELECT epsilon, epsilon_decay, alpha, gamma, no_change_after_lap FROM {table_name}\", conn)\n",
    "    else:\n",
    "        existing_combinations_df = pd.DataFrame()\n",
    "\n",
    "    conn.close()\n",
    "\n",
    "    # Generate and check combinations\n",
    "    keys, values = zip(*param_grid.items())\n",
    "    print(len(keys))\n",
    "    all_combinations = list(itertools.product(*values))\n",
    "    random.shuffle(all_combinations)\n",
    "\n",
    "    for combination in all_combinations:\n",
    "        param_dict = dict(zip(keys, combination))\n",
    "\n",
    "        # Check if this combination is already in the database\n",
    "        conditions = np.logical_and.reduce([existing_combinations_df[k] == v for k, v in param_dict.items()])\n",
    "        if not existing_combinations_df[conditions].empty:\n",
    "            print('SKIPPING')\n",
    "            continue  # Skip this combination if it's already in the database\n",
    "\n",
    "        yield param_dict\n",
    "\n",
    "# 1. Plot Episode Rewards\n",
    "def plot_rewards(rewards):\n",
    "    plt.plot(rewards)\n",
    "    plt.title('Episode Rewards Over Time')\n",
    "    plt.xlabel('Episode')\n",
    "    plt.ylabel('Total Reward')\n",
    "    plt.show()\n",
    "\n",
    "# 2. Plot Average Episode Rewards\n",
    "def plot_avg_rewards(rewards, window=5):\n",
    "    averages = [np.mean(rewards[max(0, i-window+1):i+1]) for i in range(len(rewards))]\n",
    "    plt.plot(averages)\n",
    "    plt.title(f'Average Episode Rewards Over Last {window} Episodes')\n",
    "    plt.xlabel('Episode')\n",
    "    plt.ylabel('Average Reward')\n",
    "    plt.show()\n",
    "\n",
    "# 3. Implement Grid Search\n",
    "def grid_search(param_grid, num_episodes, eval_episodes):\n",
    "    conn = sqlite3.connect(gs_db_name)\n",
    "    c = conn.cursor()\n",
    "\n",
    "    total_combinations = np.prod([len(v) for v in param_grid.values()])\n",
    "    print(f\"Total combinations: {total_combinations}\")\n",
    "    count = 0\n",
    "\n",
    "    for params in tqdm(parameter_combinations(param_grid)):\n",
    "        count += 1\n",
    "        print(f\"\\nRunning combination {count}/{total_combinations} with parameters: {params}\")\n",
    "\n",
    "        agent = TDLambdaAgent(epsilon=params['epsilon'], epsilon_decay=params['epsilon_decay'], alpha=params['alpha'], gamma=params['gamma'], no_change_after_lap=params['no_change_after_lap'])\n",
    "        \n",
    "        # Training phase\n",
    "        training_rewards = []  # List to store rewards from each episode\n",
    "        for episode in tqdm(range(num_episodes)):\n",
    "            if episode % 100 == 0:  # Print update every 100 episodes\n",
    "                print(f\"    Training Episode {episode}/{num_episodes}\")\n",
    "            state = env.reset()\n",
    "            done = False\n",
    "            episode_reward = 0 \n",
    "            while not done:\n",
    "                action = agent.act(state)\n",
    "                reward, next_state, done, _ = env.step(action)\n",
    "                episode_reward += reward\n",
    "                agent.update(state, action, reward, next_state)\n",
    "                # state = deepcopy(next_state)\n",
    "                state = next_state\n",
    "            training_rewards.append(episode_reward)  # Add the total reward for this episode to the list\n",
    "\n",
    "\n",
    "        # Evaluation phase\n",
    "        eval_rewards = []\n",
    "        for episode in tqdm(range(eval_episodes)):\n",
    "            if episode % 5 == 0:  # Print update every 100 episodes\n",
    "                print(f\"    Evaluation Episode {episode}/{eval_episodes}\")\n",
    "            state = env.reset()\n",
    "            done = False\n",
    "            episode_reward = 0\n",
    "            while not done:\n",
    "                action = agent.act(state)\n",
    "                reward, next_state, done, _ = env.step(action)\n",
    "                episode_reward += reward\n",
    "                # state = deepcopy(next_state)\n",
    "                state = next_state\n",
    "            eval_rewards.append(episode_reward)\n",
    "\n",
    "        # Compute metrics based on training rewards\n",
    "        avg_last_50 = np.mean(training_rewards[-50:])\n",
    "        min_last_50 = np.min(training_rewards[-50:])\n",
    "        max_last_50 = np.max(training_rewards[-50:])\n",
    "        eval_avg = np.mean(eval_rewards)\n",
    "        \n",
    "\n",
    "        # Print evaluation metrics\n",
    "        print(f\"    Average Reward over last 50 episodes: {avg_last_50:.2f}\")\n",
    "        print(f\"    Min Reward over last 50 episodes: {min_last_50:.2f}\")\n",
    "        print(f\"    Max Reward over last 50 episodes: {max_last_50:.2f}\")\n",
    "        print(f\"    Evaluation Average Reward: {eval_avg:.2f}\")\n",
    "\n",
    "        # Save metrics to database\n",
    "        c.execute(f\"\"\"INSERT INTO {table_name} (epsilon, epsilon_decay, alpha, gamma, no_change_after_lap, \n",
    "                                               avg_last_50, min_last_50, max_last_50, \n",
    "                                               eval_avg, overall_avg) \n",
    "                    VALUES (?, ?, ?, ?, ?, ?, ?, ?, ?, ?)\"\"\", \n",
    "                  (params['epsilon'], params['epsilon_decay'], params['alpha'], params['gamma'], \n",
    "                   params['no_change_after_lap'], avg_last_50, min_last_50, max_last_50, \n",
    "                   eval_avg, np.mean(training_rewards)))\n",
    "\n",
    "        conn.commit()\n",
    "        \n",
    "    conn.close()\n",
    "\n",
    "grid_search(param_grid, num_episodes, eval_episodes)"
   ]
  },
  {
   "cell_type": "code",
   "execution_count": null,
   "id": "6be65329",
   "metadata": {},
   "outputs": [],
   "source": [
    "conn = sqlite3.connect(gs_db_name)\n",
    "df = pd.read_sql_query(f\"SELECT COUNT(*) from {table_name}\", conn)\n",
    "print(df.shape)\n",
    "print(df)\n",
    "conn.close()"
   ]
  },
  {
   "cell_type": "code",
   "execution_count": null,
   "id": "eb325730",
   "metadata": {},
   "outputs": [],
   "source": [
    "# !pip install nbformat --upgrade"
   ]
  },
  {
   "cell_type": "code",
   "execution_count": null,
   "id": "95dea73e",
   "metadata": {},
   "outputs": [],
   "source": [
    "def radar_plot_top_combinations(db_name=gs_db_name, top_n=5):\n",
    "    # Connect to the database and fetch data\n",
    "    conn = sqlite3.connect(db_name)\n",
    "    df = pd.read_sql_query(f\"SELECT * from {table_name}\", conn)\n",
    "    conn.close()\n",
    "    \n",
    "    print(df.columns)\n",
    "    # Columns you want to include in the radar plot (i.e., your hyperparameters)\n",
    "    hyperparameter_columns = ['epsilon', 'epsilon_decay', 'alpha', 'gamma', 'no_change_after_lap', 'eval_avg']\n",
    "\n",
    "    # Normalize the hyperparameters based on all rows\n",
    "    normalized_df = (df[hyperparameter_columns] - df[hyperparameter_columns].min()) / (df[hyperparameter_columns].max() - df[hyperparameter_columns].min())\n",
    "    \n",
    "    # Sort by eval_reward (if it exists) and take top N\n",
    "    sort_column = 'eval_avg' if 'eval_avg' in df.columns else hyperparameter_columns[0]\n",
    "    top_rows_df = df.nlargest(top_n, sort_column)\n",
    "    top_normalized_df = normalized_df.loc[top_rows_df.index]\n",
    "\n",
    "\n",
    "    # Radar plot\n",
    "    from math import pi\n",
    "    labels = hyperparameter_columns\n",
    "    num_vars = len(labels)\n",
    "\n",
    "    angles = [n / float(num_vars) * 2 * pi for n in range(num_vars)]\n",
    "    angles += angles[:1]  # Adding the first angle at the end to close the circle\n",
    "\n",
    "    plt.figure(figsize=(10, 10), dpi=80)\n",
    "    ax = plt.subplot(111, polar=True)\n",
    "    ax.set_theta_offset(pi / 2)\n",
    "    ax.set_theta_direction(-1)\n",
    "    ax.set_rlabel_position(0)\n",
    "    ax.set_xticks(angles[:-1])  # Removing the last angle for the labels\n",
    "    ax.set_xticklabels(labels, fontsize=12)\n",
    "    ax.set_yticklabels([])\n",
    "\n",
    "    for i in range(top_n):\n",
    "        norm_values = top_normalized_df.iloc[i].values.flatten().tolist()\n",
    "        norm_values += norm_values[:1]  # Add the first value to the end to close the circle\n",
    "\n",
    "        true_values_list = top_rows_df.iloc[i][hyperparameter_columns].values.flatten().tolist()\n",
    "\n",
    "        param_string = ', '.join([f\"{col}={val:.2f}\" for col, val in zip(labels, true_values_list)])\n",
    "        line = ax.plot(angles, norm_values, linewidth=2, linestyle='solid', label=param_string)\n",
    "        ax.fill(angles, norm_values, alpha=0.1)\n",
    "\n",
    "        # Annotate with the true values\n",
    "        for angle, value, true_value in zip(angles, norm_values, true_values_list):\n",
    "            ax.annotate(f\"{true_value:.2f}\", \n",
    "                        xy=(angle, value), \n",
    "                        color=line[0].get_color(),\n",
    "                        ha='center', va='bottom')\n",
    "\n",
    "    plt.title(f'Top {top_n} Parameter Combinations', size=20, color='blue', y=1.1)\n",
    "    plt.legend(loc='upper right', bbox_to_anchor=(1.3, 1.1))\n",
    "    plt.show()\n",
    "\n",
    "    print(top_rows_df)\n",
    "\n",
    "radar_plot_top_combinations(top_n=5)\n"
   ]
  },
  {
   "cell_type": "code",
   "execution_count": null,
   "id": "55eb6419",
   "metadata": {},
   "outputs": [],
   "source": []
  }
 ],
 "metadata": {
  "kernelspec": {
   "display_name": "Python 3 (ipykernel)",
   "language": "python",
   "name": "python3"
  },
  "language_info": {
   "codemirror_mode": {
    "name": "ipython",
    "version": 3
   },
   "file_extension": ".py",
   "mimetype": "text/x-python",
   "name": "python",
   "nbconvert_exporter": "python",
   "pygments_lexer": "ipython3",
   "version": "3.8.18"
  }
 },
 "nbformat": 4,
 "nbformat_minor": 5
}
