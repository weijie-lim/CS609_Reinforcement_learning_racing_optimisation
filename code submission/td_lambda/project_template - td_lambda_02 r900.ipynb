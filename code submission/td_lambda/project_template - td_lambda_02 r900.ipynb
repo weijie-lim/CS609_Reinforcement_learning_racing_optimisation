{
 "cells": [
  {
   "cell_type": "code",
   "execution_count": 1,
   "id": "66f2318e",
   "metadata": {},
   "outputs": [],
   "source": [
    "# !pip install swifter\n",
    "# !pip install ipywidgets\n",
    "# !jupyter nbextension enable --py widgetsnbextension"
   ]
  },
  {
   "cell_type": "code",
   "execution_count": 2,
   "id": "312ce7b4",
   "metadata": {},
   "outputs": [],
   "source": [
    "import numpy as np\n",
    "from copy import deepcopy\n",
    "import matplotlib.pyplot as plt\n",
    "from tqdm import tqdm\n",
    "from itertools import product\n",
    "import pickle\n",
    "import random\n",
    "import sqlite3\n",
    "import itertools\n",
    "import os\n",
    "import pandas as pd\n",
    "from collections import defaultdict\n",
    "\n",
    "np.set_printoptions(precision=3)"
   ]
  },
  {
   "cell_type": "code",
   "execution_count": 3,
   "id": "bb5f3d6a",
   "metadata": {},
   "outputs": [],
   "source": [
    "class Agent:\n",
    "    def __init__(self):\n",
    "        pass\n",
    "\n",
    "    def actRules(self, state):\n",
    "        return 1\n",
    "    \n",
    "    def actNaively(self):\n",
    "        return 4\n"
   ]
  },
  {
   "cell_type": "code",
   "execution_count": 4,
   "id": "8dc3d1f9",
   "metadata": {},
   "outputs": [],
   "source": [
    "#KEY PARAMETERS\n",
    "\n",
    "lambda_value = 0.2\n",
    "table_name = f\"gs_results_td_lambda_{lambda_value}\".replace(\".\", \"\")\n",
    "directory = \"e-greedy/agents\" #dir to create\n",
    "gs_db_name = 'e-greedy/grid_search_greedy_r900.db'"
   ]
  },
  {
   "cell_type": "markdown",
   "id": "655a9f54",
   "metadata": {},
   "source": [
    "### RADIUS SET TO 900"
   ]
  },
  {
   "cell_type": "code",
   "execution_count": 5,
   "id": "341de44c",
   "metadata": {},
   "outputs": [],
   "source": [
    "class Car:\n",
    "    def __init__(self, tyre=\"Intermediate\"):\n",
    "        self.default_tyre = tyre\n",
    "        self.possible_tyres = [\"Ultrasoft\", \"Soft\", \"Intermediate\", \"Fullwet\"]\n",
    "        self.pitstop_time = 23\n",
    "        self.reset()\n",
    "    \n",
    "    \n",
    "    def reset(self):\n",
    "        self.change_tyre(self.default_tyre)\n",
    "    \n",
    "    \n",
    "    def degrade(self, w, r):\n",
    "        if self.tyre == \"Ultrasoft\":\n",
    "            self.condition *= (1 - 0.0050*w - (2500-r)/90000)\n",
    "        elif self.tyre == \"Soft\":\n",
    "            self.condition *= (1 - 0.0051*w - (2500-r)/93000)\n",
    "        elif self.tyre == \"Intermediate\":\n",
    "            self.condition *= (1 - 0.0052*abs(0.5-w) - (2500-r)/95000)\n",
    "        elif self.tyre == \"Fullwet\":\n",
    "            self.condition *= (1 - 0.0053*(1-w) - (2500-r)/97000)\n",
    "        \n",
    "        \n",
    "    def change_tyre(self, new_tyre):\n",
    "        assert new_tyre in self.possible_tyres\n",
    "        self.tyre = new_tyre\n",
    "        self.condition = 1.00\n",
    "    \n",
    "    \n",
    "    def get_velocity(self):\n",
    "        if self.tyre == \"Ultrasoft\":\n",
    "            vel = 80.7*(0.2 + 0.8*self.condition**1.5)\n",
    "        elif self.tyre == \"Soft\":\n",
    "            vel = 80.1*(0.2 + 0.8*self.condition**1.5)\n",
    "        elif self.tyre == \"Intermediate\":\n",
    "            vel = 79.5*(0.2 + 0.8*self.condition**1.5)\n",
    "        elif self.tyre == \"Fullwet\":\n",
    "            vel = 79.0*(0.2 + 0.8*self.condition**1.5)\n",
    "        return vel\n",
    "\n",
    "    \n",
    "class Track:\n",
    "    def __init__(self, car=Car()):\n",
    "        # self.radius and self.cur_weather are defined in self.reset()\n",
    "        self.total_laps = 162\n",
    "        self.car = car\n",
    "        self.possible_weather = [\"Dry\", \"20% Wet\", \"40% Wet\", \"60% Wet\", \"80% Wet\", \"100% Wet\"]\n",
    "        self.wetness = {\n",
    "            \"Dry\": 0.00, \"20% Wet\": 0.20, \"40% Wet\": 0.40, \"60% Wet\": 0.60, \"80% Wet\": 0.80, \"100% Wet\": 1.00\n",
    "        }\n",
    "        self.p_transition = {\n",
    "            \"Dry\": {\n",
    "                \"Dry\": 0.987, \"20% Wet\": 0.013, \"40% Wet\": 0.000, \"60% Wet\": 0.000, \"80% Wet\": 0.000, \"100% Wet\": 0.000\n",
    "            },\n",
    "            \"20% Wet\": {\n",
    "                \"Dry\": 0.012, \"20% Wet\": 0.975, \"40% Wet\": 0.013, \"60% Wet\": 0.000, \"80% Wet\": 0.000, \"100% Wet\": 0.000\n",
    "            },\n",
    "            \"40% Wet\": {\n",
    "                \"Dry\": 0.000, \"20% Wet\": 0.012, \"40% Wet\": 0.975, \"60% Wet\": 0.013, \"80% Wet\": 0.000, \"100% Wet\": 0.000\n",
    "            },\n",
    "            \"60% Wet\": {\n",
    "                \"Dry\": 0.000, \"20% Wet\": 0.000, \"40% Wet\": 0.012, \"60% Wet\": 0.975, \"80% Wet\": 0.013, \"100% Wet\": 0.000\n",
    "            },\n",
    "            \"80% Wet\": {\n",
    "                \"Dry\": 0.000, \"20% Wet\": 0.000, \"40% Wet\": 0.000, \"60% Wet\": 0.012, \"80% Wet\": 0.975, \"100% Wet\": 0.013\n",
    "            },\n",
    "            \"100% Wet\": {\n",
    "                \"Dry\": 0.000, \"20% Wet\": 0.000, \"40% Wet\": 0.000, \"60% Wet\": 0.000, \"80% Wet\": 0.012, \"100% Wet\": 0.988\n",
    "            }\n",
    "        }\n",
    "        self.reset()\n",
    "    \n",
    "    \n",
    "    def reset(self):\n",
    "        # self.radius = np.random.randint(600,1201)\n",
    "        self.radius = 900\n",
    "        self.cur_weather = np.random.choice(self.possible_weather)\n",
    "        self.is_done = False\n",
    "        self.pitstop = False\n",
    "        self.laps_cleared = 0\n",
    "        self.car.reset()\n",
    "        return self._get_state()\n",
    "    \n",
    "    \n",
    "    def _get_state(self):\n",
    "        return [self.car.tyre, self.car.condition, self.cur_weather, self.radius, self.laps_cleared]\n",
    "        \n",
    "    \n",
    "    def transition(self, action=0):\n",
    "        \"\"\"\n",
    "        Args:\n",
    "            action (int):\n",
    "                0. Make a pitstop and fit new ‘Ultrasoft’ tyres\n",
    "                1. Make a pitstop and fit new ‘Soft’ tyres\n",
    "                2. Make a pitstop and fit new ‘Intermediate’ tyres\n",
    "                3. Make a pitstop and fit new ‘Fullwet’ tyres\n",
    "                4. Continue the next lap without changing tyres\n",
    "        \"\"\"\n",
    "        ## Pitstop time will be added on the first eight of the subsequent lap\n",
    "        time_taken = 0\n",
    "        if self.laps_cleared == int(self.laps_cleared):\n",
    "            if self.pitstop:\n",
    "                self.car.change_tyre(self.committed_tyre)\n",
    "                time_taken += self.car.pitstop_time\n",
    "                self.pitstop = False\n",
    "        \n",
    "        ## The environment is coded such that only an action taken at the start of the three-quarters mark of each lap matters\n",
    "        if self.laps_cleared - int(self.laps_cleared) == 0.75:\n",
    "            if action < 4:\n",
    "                self.pitstop = True\n",
    "                self.committed_tyre = self.car.possible_tyres[action]\n",
    "            else:\n",
    "                self.pitstop = False\n",
    "        \n",
    "        self.cur_weather = np.random.choice(\n",
    "            self.possible_weather, p=list(self.p_transition[self.cur_weather].values())\n",
    "        )\n",
    "        # we assume that degration happens only after a car has travelled the one-eighth lap\n",
    "        velocity = self.car.get_velocity()\n",
    "        time_taken += (2*np.pi*self.radius/8) / velocity\n",
    "        reward = 0 - time_taken\n",
    "        self.car.degrade(\n",
    "            w=self.wetness[self.cur_weather], r=self.radius\n",
    "        )\n",
    "        self.laps_cleared += 0.125\n",
    "        \n",
    "        if self.laps_cleared == self.total_laps:\n",
    "            self.is_done = True\n",
    "        \n",
    "        next_state = self._get_state()\n",
    "        return reward, next_state, self.is_done, velocity\n",
    "    \n",
    "    def step(self, action):\n",
    "        return self.transition(action)"
   ]
  },
  {
   "cell_type": "code",
   "execution_count": 6,
   "id": "e9bc5180",
   "metadata": {},
   "outputs": [],
   "source": [
    "new_car = Car()\n",
    "env = Track(new_car)\n",
    "\n",
    "agent = Agent()"
   ]
  },
  {
   "cell_type": "code",
   "execution_count": 7,
   "id": "ddc6d6a9",
   "metadata": {
    "scrolled": true
   },
   "outputs": [
    {
     "name": "stdout",
     "output_type": "stream",
     "text": [
      "G: -54876\n"
     ]
    }
   ],
   "source": [
    "#Sanity check..\n",
    "\n",
    "state = env.reset()    \n",
    "done = False\n",
    "G = 0\n",
    "while not done:\n",
    "    action = agent.actNaively()\n",
    "    reward, next_state, done, velocity = env.transition(action)\n",
    "    # added velocity for sanity check\n",
    "    # state = deepcopy(next_state)\n",
    "    state = next_state\n",
    "    G += reward\n",
    "\n",
    "print(\"G: %d\" % G)"
   ]
  },
  {
   "cell_type": "markdown",
   "id": "81524f23",
   "metadata": {},
   "source": [
    "## TDLambda Agent"
   ]
  },
  {
   "cell_type": "markdown",
   "id": "38ebdc93",
   "metadata": {},
   "source": [
    "Discretizing States:\n",
    "\n",
    "Both the current state and the next_state are discretized using the _discretize_state method. This helps in managing the Q-values in a table format for states that are continuous or too granular.\n",
    "Initialization of Q-values and Eligibility Traces:\n",
    "\n",
    "If the current state or next_state is not in the Q-table (Q), it's added with an initial Q-value of zero for all actions.\n",
    "Similarly, if the current state is not in the eligibility traces table (E), it's added with an initial eligibility trace of zero for all actions.\n",
    "Temporal Difference (TD) Error Calculation:\n",
    "\n",
    "The agent calculates the best action for the next_state based on the current Q-values.\n",
    "The TD error is then computed. It's the difference between the expected Q-value (based on the received reward and the estimated future reward for next_state) and the current Q-value for the taken action at state.\n",
    "Eligibility Trace Update:\n",
    "\n",
    "The eligibility trace for the current state-action pair (state, action) is incremented by 1.\n",
    "This helps in assigning \"credit\" or \"blame\" for this state-action pair for any future reward or punishment. SARSA(λ) updates not just the current state-action pair but also the recent ones based on their eligibility traces.\n",
    "Ensure All States in Q have an Eligibility Trace:\n",
    "\n",
    "The agent makes sure that for all states in the Q-table, there's a corresponding entry in the eligibility traces table. If not, it adds them with a value of zero.\n",
    "Update Q-values Using TD Error and Eligibility Traces:\n",
    "\n",
    "The Q-values for all state-action pairs are updated based on the TD error and their respective eligibility traces. The greater the eligibility trace for a state-action pair, the more it gets updated.\n",
    "This is the heart of the SARSA(λ) algorithm, allowing the Q-value updates to be spread out not just to the current state-action pair but also to the previous ones based on their eligibility.\n",
    "Decay All Eligibility Traces:\n",
    "\n",
    "After updating the Q-values, the eligibility traces for all state-action pairs are decayed by a factor of gamma * td_lambda. This ensures that the traces for older state-action pairs decrease over time, giving more importance to recent state-action pairs for future Q-value updates.\n",
    "In essence, the update method blends the strengths of both SARSA and eligibility traces, providing a more sophisticated update mechanism that takes into account both immediate and more distant state-action pairs when adjusting Q-values."
   ]
  },
  {
   "cell_type": "code",
   "execution_count": 8,
   "id": "6bd5a956",
   "metadata": {},
   "outputs": [
    {
     "name": "stderr",
     "output_type": "stream",
     "text": [
      "100%|██████████| 10/10 [09:36<00:00, 57.66s/it]\n",
      "100%|██████████| 5/5 [00:00<00:00, 11.05it/s]"
     ]
    },
    {
     "name": "stdout",
     "output_type": "stream",
     "text": [
      "Average reward over 5 episodes: -17060.65738690795\n"
     ]
    },
    {
     "name": "stderr",
     "output_type": "stream",
     "text": [
      "\n"
     ]
    }
   ],
   "source": [
    "class TDLambdaAgent:\n",
    "    def __init__(self, epsilon=0.1, epsilon_decay=0.995, alpha=0.1,\n",
    "                  gamma=0.99, td_lambda=lambda_value, n_actions=5,\n",
    "                    no_change_after_lap=150, state_space_discretization=100):\n",
    "        self.epsilon = epsilon\n",
    "        self.alpha = alpha\n",
    "        self.gamma = gamma\n",
    "        self.Q = defaultdict(lambda: np.zeros(self.n_actions))\n",
    "        self.E = defaultdict(lambda: np.zeros(self.n_actions))  # Eligibility traces\n",
    "        self.n_actions = n_actions\n",
    "        self.state_space_discretization = state_space_discretization\n",
    "        self.epsilon_decay = epsilon_decay\n",
    "        self.no_change_after_lap = no_change_after_lap\n",
    "        self.td_lambda = td_lambda\n",
    "        \n",
    "    def _discretize_state(self, state):\n",
    "        tyre, condition, weather, radius, laps_cleared = state\n",
    "        condition = int(condition * self.state_space_discretization)\n",
    "        \n",
    "        # Discretizing the radius as well by rounding to nearest hundred\n",
    "        radius = round(radius, -2)\n",
    "        return (tyre, condition, weather, radius, laps_cleared)\n",
    "    \n",
    "    def act(self, state):\n",
    "        state = self._discretize_state(state)\n",
    "        _, _, _, _, laps_cleared = state\n",
    "        \n",
    "        if np.random.rand() < self.epsilon:\n",
    "            if laps_cleared >= self.no_change_after_lap:\n",
    "                return 4  # Don't change tires\n",
    "            return np.random.choice(self.n_actions)\n",
    "        else:\n",
    "            action = np.argmax(self.Q.get(state, np.zeros(self.n_actions)))\n",
    "            if laps_cleared >= self.no_change_after_lap and action < 4:\n",
    "                return 4  # Don't change tires\n",
    "            return action\n",
    "        \n",
    "    def update(self, state, action, reward, next_state):\n",
    "        state = self._discretize_state(state)\n",
    "        next_state = self._discretize_state(next_state)\n",
    "        \n",
    "        best_next_action = np.argmax(self.Q[next_state])\n",
    "        td_error = reward + self.gamma * self.Q[next_state][best_next_action] - self.Q[state][action]\n",
    "        \n",
    "        # Increment the eligibility trace for the current state-action pair\n",
    "        self.E[state][action] += 1  \n",
    "        \n",
    "        # Update Q-values for all state-action pairs using TD error and the eligibility traces\n",
    "        for s, actions in self.Q.items():\n",
    "            for a in range(self.n_actions):\n",
    "                self.Q[s][a] += self.alpha * td_error * self.E[s][a]\n",
    "                \n",
    "                # Decay the eligibility trace for the state-action pair\n",
    "                self.E[s][a] *= self.gamma * self.td_lambda\n",
    "\n",
    "# Training the agent\n",
    "agent = TDLambdaAgent()\n",
    "\n",
    "num_episodes = 10\n",
    "eval_episodes = 5\n",
    "\n",
    "episode_rewards = []\n",
    "for episode in tqdm(range(num_episodes)):\n",
    "    state = env.reset()\n",
    "    done = False\n",
    "    episode_reward = 0\n",
    "    while not done:\n",
    "        action = agent.act(state)\n",
    "        reward, next_state, done, _ = env.step(action)\n",
    "        agent.update(state, action, reward, next_state)\n",
    "        # state = deepcopy(next_state)\n",
    "        state = next_state\n",
    "        episode_reward += reward\n",
    "    episode_rewards.append(episode_reward)\n",
    "    agent.epsilon *= agent.epsilon_decay\n",
    "    \n",
    "# Evaluating the agent\n",
    "total_rewards = []\n",
    "for _ in tqdm(range(eval_episodes)):\n",
    "    state = env.reset()\n",
    "    done = False\n",
    "    episode_reward = 0\n",
    "    while not done:\n",
    "        action = agent.act(state)\n",
    "        reward, next_state, done, _ = env.step(action)\n",
    "        # state = deepcopy(next_state)\n",
    "        state = next_state\n",
    "        episode_reward += reward\n",
    "    total_rewards.append(episode_reward)\n",
    "\n",
    "print(f\"Average reward over {eval_episodes} episodes: {np.mean(total_rewards)}\")\n"
   ]
  },
  {
   "cell_type": "code",
   "execution_count": 9,
   "id": "8b0c99ed",
   "metadata": {},
   "outputs": [],
   "source": [
    "num_episodes = 5\n",
    "eval_episodes = 1\n",
    "\n",
    "# Grid Search\n",
    "\"\"\"\n",
    "param_grid: dict\n",
    "    A dictionary containing hyperparameters and their possible values to be explored during grid search. Each key represents a hyperparameter, and its corresponding value is a list of values that will be tested for that hyperparameter.\n",
    "\n",
    "    Parameters:\n",
    "    - epsilon: list of floats\n",
    "        The initial exploration rate for the epsilon-greedy policy. Values represent the probability at which the agent will explore, i.e., take random actions. Higher values mean more exploration and less exploitation.\n",
    "\n",
    "    - epsilon_decay: list of floats\n",
    "        The rate at which epsilon will be reduced after each episode. Values are in the range (0, 1) with values closer to 1 meaning a slower decay of epsilon over time.\n",
    "\n",
    "    - alpha: list of floats\n",
    "        The learning rate for the Q-learning algorithm. Determines to what extent newly acquired information overrides old information. A value of 0 would make the agent not learn anything, while a value of 1 would make the agent consider only the most recent information.\n",
    "\n",
    "    - gamma: list of floats\n",
    "        The discount factor for the Q-learning algorithm. Represents the agent's consideration for future rewards. A value of 0 makes the agent short-sighted by only considering current rewards, while a value close to 1 will make it aim for a long-term high reward.\n",
    "\n",
    "    - no_change_after_lap: list of integers\n",
    "        Specifies the lap number after which the agent will not change tires. If the current lap exceeds this number, actions to change tires will not be taken.\n",
    "\"\"\"\n",
    "param_grid = {\n",
    "    'epsilon': [0.0, 0.025, 0.05, 0.1, 0.2],\n",
    "    'epsilon_decay': [0.990, 0.995, 0.999],\n",
    "    'alpha': [0.0, 0.2, 0.4, 0.6, 0.8, 0.9, 1.0],\n",
    "    'gamma': [0.0, 0.2, 0.4, 0.6, 0.8, 0.9, 1.0],\n",
    "    'no_change_after_lap': [x for x in range(100, 161, 5)]\n",
    "}"
   ]
  },
  {
   "cell_type": "code",
   "execution_count": 10,
   "id": "a9ce3eca",
   "metadata": {},
   "outputs": [],
   "source": [
    "def setup_database():\n",
    "    conn = sqlite3.connect(gs_db_name)\n",
    "    c = conn.cursor()\n",
    "    c.execute(f'''CREATE TABLE IF NOT EXISTS {table_name}\n",
    "                 (epsilon real, epsilon_decay real, alpha real, gamma real, no_change_after_lap integer, \n",
    "                  avg_last_50 real, min_last_50 real, max_last_50 real, \n",
    "                  eval_avg real, overall_avg real)''')\n",
    "    conn.commit()\n",
    "    conn.close()\n",
    "\n",
    "setup_database()"
   ]
  },
  {
   "cell_type": "code",
   "execution_count": 11,
   "id": "3661e739",
   "metadata": {},
   "outputs": [
    {
     "name": "stdout",
     "output_type": "stream",
     "text": [
      "Total combinations: 9555\n"
     ]
    },
    {
     "name": "stderr",
     "output_type": "stream",
     "text": [
      "0it [00:00, ?it/s]"
     ]
    },
    {
     "name": "stdout",
     "output_type": "stream",
     "text": [
      "5\n",
      "\n",
      "Running combination 1/9555 with parameters: {'epsilon': 0.025, 'epsilon_decay': 0.999, 'alpha': 0.2, 'gamma': 0.2, 'no_change_after_lap': 140}\n",
      "    Training Episode 0/5\n"
     ]
    },
    {
     "name": "stderr",
     "output_type": "stream",
     "text": [
      "1it [02:29, 149.10s/it]"
     ]
    },
    {
     "name": "stdout",
     "output_type": "stream",
     "text": [
      "    Evaluation Episode 0/1\n",
      "    Average Reward over last 50 episodes: -19352.50\n",
      "    Min Reward over last 50 episodes: -19652.51\n",
      "    Max Reward over last 50 episodes: -19125.04\n",
      "    Evaluation Average Reward: -19546.92\n",
      "\n",
      "Running combination 2/9555 with parameters: {'epsilon': 0.05, 'epsilon_decay': 0.99, 'alpha': 0.2, 'gamma': 0.2, 'no_change_after_lap': 145}\n",
      "    Training Episode 0/5\n"
     ]
    },
    {
     "name": "stderr",
     "output_type": "stream",
     "text": [
      "2it [05:26, 165.81s/it]"
     ]
    },
    {
     "name": "stdout",
     "output_type": "stream",
     "text": [
      "    Evaluation Episode 0/1\n",
      "    Average Reward over last 50 episodes: -18138.30\n",
      "    Min Reward over last 50 episodes: -18410.70\n",
      "    Max Reward over last 50 episodes: -17940.80\n",
      "    Evaluation Average Reward: -17867.36\n",
      "\n",
      "Running combination 3/9555 with parameters: {'epsilon': 0.0, 'epsilon_decay': 0.999, 'alpha': 0.0, 'gamma': 0.9, 'no_change_after_lap': 120}\n",
      "    Training Episode 0/5\n"
     ]
    },
    {
     "name": "stderr",
     "output_type": "stream",
     "text": [
      "3it [08:30, 174.23s/it]"
     ]
    },
    {
     "name": "stdout",
     "output_type": "stream",
     "text": [
      "    Evaluation Episode 0/1\n",
      "    Average Reward over last 50 episodes: -24267.09\n",
      "    Min Reward over last 50 episodes: -24579.88\n",
      "    Max Reward over last 50 episodes: -23984.46\n",
      "    Evaluation Average Reward: -24048.73\n",
      "\n",
      "Running combination 4/9555 with parameters: {'epsilon': 0.1, 'epsilon_decay': 0.99, 'alpha': 0.0, 'gamma': 0.2, 'no_change_after_lap': 125}\n",
      "    Training Episode 0/5\n"
     ]
    },
    {
     "name": "stderr",
     "output_type": "stream",
     "text": [
      "4it [11:36, 178.75s/it]"
     ]
    },
    {
     "name": "stdout",
     "output_type": "stream",
     "text": [
      "    Evaluation Episode 0/1\n",
      "    Average Reward over last 50 episodes: -23179.27\n",
      "    Min Reward over last 50 episodes: -23303.73\n",
      "    Max Reward over last 50 episodes: -22964.50\n",
      "    Evaluation Average Reward: -22748.77\n",
      "\n",
      "Running combination 5/9555 with parameters: {'epsilon': 0.025, 'epsilon_decay': 0.999, 'alpha': 0.0, 'gamma': 0.9, 'no_change_after_lap': 125}\n",
      "    Training Episode 0/5\n"
     ]
    },
    {
     "name": "stderr",
     "output_type": "stream",
     "text": [
      "5it [13:44, 160.58s/it]"
     ]
    },
    {
     "name": "stdout",
     "output_type": "stream",
     "text": [
      "    Evaluation Episode 0/1\n",
      "    Average Reward over last 50 episodes: -23300.04\n",
      "    Min Reward over last 50 episodes: -23380.76\n",
      "    Max Reward over last 50 episodes: -23207.22\n",
      "    Evaluation Average Reward: -23386.89\n",
      "\n",
      "Running combination 6/9555 with parameters: {'epsilon': 0.1, 'epsilon_decay': 0.99, 'alpha': 0.2, 'gamma': 0.9, 'no_change_after_lap': 130}\n",
      "    Training Episode 0/5\n"
     ]
    },
    {
     "name": "stderr",
     "output_type": "stream",
     "text": [
      "6it [15:57, 151.22s/it]"
     ]
    },
    {
     "name": "stdout",
     "output_type": "stream",
     "text": [
      "    Evaluation Episode 0/1\n",
      "    Average Reward over last 50 episodes: -21758.12\n",
      "    Min Reward over last 50 episodes: -22028.65\n",
      "    Max Reward over last 50 episodes: -21561.65\n",
      "    Evaluation Average Reward: -22045.48\n",
      "\n",
      "Running combination 7/9555 with parameters: {'epsilon': 0.2, 'epsilon_decay': 0.995, 'alpha': 0.2, 'gamma': 0.9, 'no_change_after_lap': 100}\n",
      "    Training Episode 0/5\n"
     ]
    },
    {
     "name": "stderr",
     "output_type": "stream",
     "text": [
      "7it [18:20, 148.24s/it]"
     ]
    },
    {
     "name": "stdout",
     "output_type": "stream",
     "text": [
      "    Evaluation Episode 0/1\n",
      "    Average Reward over last 50 episodes: -29449.19\n",
      "    Min Reward over last 50 episodes: -29742.80\n",
      "    Max Reward over last 50 episodes: -29203.14\n",
      "    Evaluation Average Reward: -29955.20\n",
      "\n",
      "Running combination 8/9555 with parameters: {'epsilon': 0.2, 'epsilon_decay': 0.99, 'alpha': 0.4, 'gamma': 0.9, 'no_change_after_lap': 120}\n",
      "    Training Episode 0/5\n"
     ]
    },
    {
     "name": "stderr",
     "output_type": "stream",
     "text": [
      "8it [20:32, 143.10s/it]"
     ]
    },
    {
     "name": "stdout",
     "output_type": "stream",
     "text": [
      "    Evaluation Episode 0/1\n",
      "    Average Reward over last 50 episodes: -24512.52\n",
      "    Min Reward over last 50 episodes: -24632.80\n",
      "    Max Reward over last 50 episodes: -24354.33\n",
      "    Evaluation Average Reward: -24581.86\n",
      "\n",
      "Running combination 9/9555 with parameters: {'epsilon': 0.05, 'epsilon_decay': 0.995, 'alpha': 0.9, 'gamma': 0.9, 'no_change_after_lap': 115}\n",
      "    Training Episode 0/5\n"
     ]
    },
    {
     "name": "stderr",
     "output_type": "stream",
     "text": [
      "9it [22:45, 140.09s/it]"
     ]
    },
    {
     "name": "stdout",
     "output_type": "stream",
     "text": [
      "    Evaluation Episode 0/1\n",
      "    Average Reward over last 50 episodes: -25492.07\n",
      "    Min Reward over last 50 episodes: -25681.54\n",
      "    Max Reward over last 50 episodes: -25276.21\n",
      "    Evaluation Average Reward: -25780.51\n",
      "\n",
      "Running combination 10/9555 with parameters: {'epsilon': 0.025, 'epsilon_decay': 0.999, 'alpha': 1.0, 'gamma': 0.0, 'no_change_after_lap': 100}\n",
      "    Training Episode 0/5\n"
     ]
    },
    {
     "name": "stderr",
     "output_type": "stream",
     "text": [
      "10it [24:50, 135.48s/it]"
     ]
    },
    {
     "name": "stdout",
     "output_type": "stream",
     "text": [
      "    Evaluation Episode 0/1\n",
      "    Average Reward over last 50 episodes: -29407.88\n",
      "    Min Reward over last 50 episodes: -29630.60\n",
      "    Max Reward over last 50 episodes: -29032.80\n",
      "    Evaluation Average Reward: -29769.22\n",
      "\n",
      "Running combination 11/9555 with parameters: {'epsilon': 0.05, 'epsilon_decay': 0.999, 'alpha': 0.2, 'gamma': 1.0, 'no_change_after_lap': 115}\n",
      "    Training Episode 0/5\n"
     ]
    },
    {
     "name": "stderr",
     "output_type": "stream",
     "text": [
      "11it [26:59, 133.55s/it]"
     ]
    },
    {
     "name": "stdout",
     "output_type": "stream",
     "text": [
      "    Evaluation Episode 0/1\n",
      "    Average Reward over last 50 episodes: -25547.65\n",
      "    Min Reward over last 50 episodes: -25806.67\n",
      "    Max Reward over last 50 episodes: -25218.79\n",
      "    Evaluation Average Reward: -25725.88\n",
      "\n",
      "Running combination 12/9555 with parameters: {'epsilon': 0.2, 'epsilon_decay': 0.995, 'alpha': 0.6, 'gamma': 0.8, 'no_change_after_lap': 120}\n",
      "    Training Episode 0/5\n"
     ]
    },
    {
     "name": "stderr",
     "output_type": "stream",
     "text": [
      "12it [29:12, 133.15s/it]"
     ]
    },
    {
     "name": "stdout",
     "output_type": "stream",
     "text": [
      "    Evaluation Episode 0/1\n",
      "    Average Reward over last 50 episodes: -24277.72\n",
      "    Min Reward over last 50 episodes: -24640.48\n",
      "    Max Reward over last 50 episodes: -23878.49\n",
      "    Evaluation Average Reward: -24047.66\n",
      "\n",
      "Running combination 13/9555 with parameters: {'epsilon': 0.1, 'epsilon_decay': 0.999, 'alpha': 0.4, 'gamma': 1.0, 'no_change_after_lap': 125}\n",
      "    Training Episode 0/5\n"
     ]
    },
    {
     "name": "stderr",
     "output_type": "stream",
     "text": [
      "13it [31:25, 133.28s/it]"
     ]
    },
    {
     "name": "stdout",
     "output_type": "stream",
     "text": [
      "    Evaluation Episode 0/1\n",
      "    Average Reward over last 50 episodes: -23204.41\n",
      "    Min Reward over last 50 episodes: -23349.73\n",
      "    Max Reward over last 50 episodes: -23044.46\n",
      "    Evaluation Average Reward: -23106.43\n",
      "\n",
      "Running combination 14/9555 with parameters: {'epsilon': 0.2, 'epsilon_decay': 0.995, 'alpha': 0.8, 'gamma': 0.2, 'no_change_after_lap': 100}\n",
      "    Training Episode 0/5\n"
     ]
    },
    {
     "name": "stderr",
     "output_type": "stream",
     "text": [
      "14it [33:37, 132.84s/it]"
     ]
    },
    {
     "name": "stdout",
     "output_type": "stream",
     "text": [
      "    Evaluation Episode 0/1\n",
      "    Average Reward over last 50 episodes: -29429.99\n",
      "    Min Reward over last 50 episodes: -29744.26\n",
      "    Max Reward over last 50 episodes: -29051.33\n",
      "    Evaluation Average Reward: -29220.88\n",
      "\n",
      "Running combination 15/9555 with parameters: {'epsilon': 0.2, 'epsilon_decay': 0.99, 'alpha': 0.8, 'gamma': 0.6, 'no_change_after_lap': 145}\n",
      "    Training Episode 0/5\n"
     ]
    },
    {
     "name": "stderr",
     "output_type": "stream",
     "text": [
      "15it [35:48, 132.12s/it]"
     ]
    },
    {
     "name": "stdout",
     "output_type": "stream",
     "text": [
      "    Evaluation Episode 0/1\n",
      "    Average Reward over last 50 episodes: -18170.96\n",
      "    Min Reward over last 50 episodes: -18409.63\n",
      "    Max Reward over last 50 episodes: -17970.92\n",
      "    Evaluation Average Reward: -17792.08\n",
      "\n",
      "Running combination 16/9555 with parameters: {'epsilon': 0.05, 'epsilon_decay': 0.99, 'alpha': 0.8, 'gamma': 0.0, 'no_change_after_lap': 135}\n",
      "    Training Episode 0/5\n"
     ]
    },
    {
     "name": "stderr",
     "output_type": "stream",
     "text": [
      "16it [38:01, 132.48s/it]"
     ]
    },
    {
     "name": "stdout",
     "output_type": "stream",
     "text": [
      "    Evaluation Episode 0/1\n",
      "    Average Reward over last 50 episodes: -20465.80\n",
      "    Min Reward over last 50 episodes: -20628.26\n",
      "    Max Reward over last 50 episodes: -20299.32\n",
      "    Evaluation Average Reward: -20326.28\n",
      "\n",
      "Running combination 17/9555 with parameters: {'epsilon': 0.0, 'epsilon_decay': 0.999, 'alpha': 0.4, 'gamma': 0.0, 'no_change_after_lap': 105}\n",
      "    Training Episode 0/5\n"
     ]
    },
    {
     "name": "stderr",
     "output_type": "stream",
     "text": [
      "17it [40:05, 129.86s/it]"
     ]
    },
    {
     "name": "stdout",
     "output_type": "stream",
     "text": [
      "    Evaluation Episode 0/1\n",
      "    Average Reward over last 50 episodes: -27972.79\n",
      "    Min Reward over last 50 episodes: -28379.80\n",
      "    Max Reward over last 50 episodes: -27783.29\n",
      "    Evaluation Average Reward: -28502.32\n",
      "\n",
      "Running combination 18/9555 with parameters: {'epsilon': 0.025, 'epsilon_decay': 0.995, 'alpha': 1.0, 'gamma': 0.6, 'no_change_after_lap': 145}\n",
      "    Training Episode 0/5\n"
     ]
    },
    {
     "name": "stderr",
     "output_type": "stream",
     "text": [
      "18it [42:14, 129.66s/it]"
     ]
    },
    {
     "name": "stdout",
     "output_type": "stream",
     "text": [
      "    Evaluation Episode 0/1\n",
      "    Average Reward over last 50 episodes: -18142.28\n",
      "    Min Reward over last 50 episodes: -18345.30\n",
      "    Max Reward over last 50 episodes: -17910.64\n",
      "    Evaluation Average Reward: -18129.93\n",
      "SKIPPING\n",
      "\n",
      "Running combination 19/9555 with parameters: {'epsilon': 0.0, 'epsilon_decay': 0.999, 'alpha': 0.6, 'gamma': 0.9, 'no_change_after_lap': 125}\n",
      "    Training Episode 0/5\n"
     ]
    },
    {
     "name": "stderr",
     "output_type": "stream",
     "text": [
      "19it [44:25, 130.04s/it]"
     ]
    },
    {
     "name": "stdout",
     "output_type": "stream",
     "text": [
      "    Evaluation Episode 0/1\n",
      "    Average Reward over last 50 episodes: -23268.13\n",
      "    Min Reward over last 50 episodes: -23432.10\n",
      "    Max Reward over last 50 episodes: -23150.46\n",
      "    Evaluation Average Reward: -22891.87\n",
      "\n",
      "Running combination 20/9555 with parameters: {'epsilon': 0.2, 'epsilon_decay': 0.999, 'alpha': 0.9, 'gamma': 0.9, 'no_change_after_lap': 130}\n",
      "    Training Episode 0/5\n"
     ]
    },
    {
     "name": "stderr",
     "output_type": "stream",
     "text": [
      "20it [46:36, 130.45s/it]"
     ]
    },
    {
     "name": "stdout",
     "output_type": "stream",
     "text": [
      "    Evaluation Episode 0/1\n",
      "    Average Reward over last 50 episodes: -21839.95\n",
      "    Min Reward over last 50 episodes: -22129.71\n",
      "    Max Reward over last 50 episodes: -21536.22\n",
      "    Evaluation Average Reward: -21637.12\n",
      "\n",
      "Running combination 21/9555 with parameters: {'epsilon': 0.025, 'epsilon_decay': 0.995, 'alpha': 0.9, 'gamma': 0.0, 'no_change_after_lap': 100}\n",
      "    Training Episode 0/5\n"
     ]
    },
    {
     "name": "stderr",
     "output_type": "stream",
     "text": [
      "21it [48:47, 130.60s/it]"
     ]
    },
    {
     "name": "stdout",
     "output_type": "stream",
     "text": [
      "    Evaluation Episode 0/1\n",
      "    Average Reward over last 50 episodes: -29339.33\n",
      "    Min Reward over last 50 episodes: -29550.07\n",
      "    Max Reward over last 50 episodes: -29174.74\n",
      "    Evaluation Average Reward: -29677.36\n",
      "\n",
      "Running combination 22/9555 with parameters: {'epsilon': 0.1, 'epsilon_decay': 0.999, 'alpha': 0.4, 'gamma': 0.4, 'no_change_after_lap': 130}\n",
      "    Training Episode 0/5\n"
     ]
    },
    {
     "name": "stderr",
     "output_type": "stream",
     "text": [
      "22it [50:59, 131.07s/it]"
     ]
    },
    {
     "name": "stdout",
     "output_type": "stream",
     "text": [
      "    Evaluation Episode 0/1\n",
      "    Average Reward over last 50 episodes: -21906.71\n",
      "    Min Reward over last 50 episodes: -22059.39\n",
      "    Max Reward over last 50 episodes: -21656.49\n",
      "    Evaluation Average Reward: -22090.76\n",
      "\n",
      "Running combination 23/9555 with parameters: {'epsilon': 0.0, 'epsilon_decay': 0.999, 'alpha': 0.6, 'gamma': 1.0, 'no_change_after_lap': 145}\n",
      "    Training Episode 0/5\n"
     ]
    },
    {
     "name": "stderr",
     "output_type": "stream",
     "text": [
      "23it [53:07, 130.14s/it]"
     ]
    },
    {
     "name": "stdout",
     "output_type": "stream",
     "text": [
      "    Evaluation Episode 0/1\n",
      "    Average Reward over last 50 episodes: -18156.55\n",
      "    Min Reward over last 50 episodes: -18375.28\n",
      "    Max Reward over last 50 episodes: -17952.09\n",
      "    Evaluation Average Reward: -18134.27\n",
      "\n",
      "Running combination 24/9555 with parameters: {'epsilon': 0.025, 'epsilon_decay': 0.99, 'alpha': 0.8, 'gamma': 0.4, 'no_change_after_lap': 145}\n",
      "    Training Episode 0/5\n"
     ]
    },
    {
     "name": "stderr",
     "output_type": "stream",
     "text": [
      "24it [55:17, 130.13s/it]"
     ]
    },
    {
     "name": "stdout",
     "output_type": "stream",
     "text": [
      "    Evaluation Episode 0/1\n",
      "    Average Reward over last 50 episodes: -18204.69\n",
      "    Min Reward over last 50 episodes: -18331.17\n",
      "    Max Reward over last 50 episodes: -18086.38\n",
      "    Evaluation Average Reward: -18172.45\n",
      "\n",
      "Running combination 25/9555 with parameters: {'epsilon': 0.0, 'epsilon_decay': 0.995, 'alpha': 0.4, 'gamma': 0.9, 'no_change_after_lap': 125}\n",
      "    Training Episode 0/5\n"
     ]
    },
    {
     "name": "stderr",
     "output_type": "stream",
     "text": [
      "25it [57:33, 131.79s/it]"
     ]
    },
    {
     "name": "stdout",
     "output_type": "stream",
     "text": [
      "    Evaluation Episode 0/1\n",
      "    Average Reward over last 50 episodes: -23121.06\n",
      "    Min Reward over last 50 episodes: -23303.86\n",
      "    Max Reward over last 50 episodes: -22832.59\n",
      "    Evaluation Average Reward: -22957.23\n",
      "\n",
      "Running combination 26/9555 with parameters: {'epsilon': 0.0, 'epsilon_decay': 0.999, 'alpha': 0.4, 'gamma': 0.0, 'no_change_after_lap': 100}\n",
      "    Training Episode 0/5\n"
     ]
    },
    {
     "name": "stderr",
     "output_type": "stream",
     "text": [
      "26it [59:37, 129.47s/it]"
     ]
    },
    {
     "name": "stdout",
     "output_type": "stream",
     "text": [
      "    Evaluation Episode 0/1\n",
      "    Average Reward over last 50 episodes: -29310.21\n",
      "    Min Reward over last 50 episodes: -29565.31\n",
      "    Max Reward over last 50 episodes: -29049.95\n",
      "    Evaluation Average Reward: -29104.22\n",
      "\n",
      "Running combination 27/9555 with parameters: {'epsilon': 0.05, 'epsilon_decay': 0.99, 'alpha': 0.9, 'gamma': 0.9, 'no_change_after_lap': 140}\n",
      "    Training Episode 0/5\n"
     ]
    },
    {
     "name": "stderr",
     "output_type": "stream",
     "text": [
      "27it [1:01:46, 129.42s/it]"
     ]
    },
    {
     "name": "stdout",
     "output_type": "stream",
     "text": [
      "    Evaluation Episode 0/1\n",
      "    Average Reward over last 50 episodes: -19466.91\n",
      "    Min Reward over last 50 episodes: -19670.41\n",
      "    Max Reward over last 50 episodes: -19268.00\n",
      "    Evaluation Average Reward: -19306.02\n",
      "\n",
      "Running combination 28/9555 with parameters: {'epsilon': 0.05, 'epsilon_decay': 0.99, 'alpha': 0.2, 'gamma': 0.2, 'no_change_after_lap': 150}\n",
      "    Training Episode 0/5\n"
     ]
    },
    {
     "name": "stderr",
     "output_type": "stream",
     "text": [
      "28it [1:03:57, 129.67s/it]"
     ]
    },
    {
     "name": "stdout",
     "output_type": "stream",
     "text": [
      "    Evaluation Episode 0/1\n",
      "    Average Reward over last 50 episodes: -17076.57\n",
      "    Min Reward over last 50 episodes: -17251.97\n",
      "    Max Reward over last 50 episodes: -16865.39\n",
      "    Evaluation Average Reward: -16977.90\n",
      "\n",
      "Running combination 29/9555 with parameters: {'epsilon': 0.025, 'epsilon_decay': 0.995, 'alpha': 0.9, 'gamma': 0.8, 'no_change_after_lap': 160}\n",
      "    Training Episode 0/5\n"
     ]
    },
    {
     "name": "stderr",
     "output_type": "stream",
     "text": [
      "29it [1:06:04, 128.85s/it]"
     ]
    },
    {
     "name": "stdout",
     "output_type": "stream",
     "text": [
      "    Evaluation Episode 0/1\n",
      "    Average Reward over last 50 episodes: -16065.15\n",
      "    Min Reward over last 50 episodes: -16108.06\n",
      "    Max Reward over last 50 episodes: -16011.93\n",
      "    Evaluation Average Reward: -16109.00\n",
      "\n",
      "Running combination 30/9555 with parameters: {'epsilon': 0.05, 'epsilon_decay': 0.995, 'alpha': 0.2, 'gamma': 0.4, 'no_change_after_lap': 115}\n",
      "    Training Episode 0/5\n"
     ]
    },
    {
     "name": "stderr",
     "output_type": "stream",
     "text": [
      "30it [1:08:14, 129.24s/it]"
     ]
    },
    {
     "name": "stdout",
     "output_type": "stream",
     "text": [
      "    Evaluation Episode 0/1\n",
      "    Average Reward over last 50 episodes: -25541.90\n",
      "    Min Reward over last 50 episodes: -25710.49\n",
      "    Max Reward over last 50 episodes: -25240.24\n",
      "    Evaluation Average Reward: -25408.32\n",
      "\n",
      "Running combination 31/9555 with parameters: {'epsilon': 0.2, 'epsilon_decay': 0.999, 'alpha': 0.8, 'gamma': 0.9, 'no_change_after_lap': 145}\n",
      "    Training Episode 0/5\n"
     ]
    },
    {
     "name": "stderr",
     "output_type": "stream",
     "text": [
      "31it [1:10:19, 128.13s/it]"
     ]
    },
    {
     "name": "stdout",
     "output_type": "stream",
     "text": [
      "    Evaluation Episode 0/1\n",
      "    Average Reward over last 50 episodes: -18204.68\n",
      "    Min Reward over last 50 episodes: -18451.04\n",
      "    Max Reward over last 50 episodes: -18009.02\n",
      "    Evaluation Average Reward: -18304.42\n",
      "\n",
      "Running combination 32/9555 with parameters: {'epsilon': 0.0, 'epsilon_decay': 0.995, 'alpha': 0.6, 'gamma': 0.4, 'no_change_after_lap': 155}\n",
      "    Training Episode 0/5\n"
     ]
    },
    {
     "name": "stderr",
     "output_type": "stream",
     "text": [
      "32it [1:12:30, 128.84s/it]"
     ]
    },
    {
     "name": "stdout",
     "output_type": "stream",
     "text": [
      "    Evaluation Episode 0/1\n",
      "    Average Reward over last 50 episodes: -16366.92\n",
      "    Min Reward over last 50 episodes: -16466.70\n",
      "    Max Reward over last 50 episodes: -16266.98\n",
      "    Evaluation Average Reward: -16314.64\n",
      "\n",
      "Running combination 33/9555 with parameters: {'epsilon': 0.05, 'epsilon_decay': 0.99, 'alpha': 0.9, 'gamma': 0.4, 'no_change_after_lap': 145}\n",
      "    Training Episode 0/5\n"
     ]
    },
    {
     "name": "stderr",
     "output_type": "stream",
     "text": [
      "33it [1:14:40, 129.23s/it]"
     ]
    },
    {
     "name": "stdout",
     "output_type": "stream",
     "text": [
      "    Evaluation Episode 0/1\n",
      "    Average Reward over last 50 episodes: -18165.34\n",
      "    Min Reward over last 50 episodes: -18364.46\n",
      "    Max Reward over last 50 episodes: -17939.49\n",
      "    Evaluation Average Reward: -18298.56\n",
      "\n",
      "Running combination 34/9555 with parameters: {'epsilon': 0.0, 'epsilon_decay': 0.995, 'alpha': 0.6, 'gamma': 1.0, 'no_change_after_lap': 115}\n",
      "    Training Episode 0/5\n"
     ]
    },
    {
     "name": "stderr",
     "output_type": "stream",
     "text": [
      "34it [1:16:52, 129.98s/it]"
     ]
    },
    {
     "name": "stdout",
     "output_type": "stream",
     "text": [
      "    Evaluation Episode 0/1\n",
      "    Average Reward over last 50 episodes: -25667.21\n",
      "    Min Reward over last 50 episodes: -25892.56\n",
      "    Max Reward over last 50 episodes: -25349.90\n",
      "    Evaluation Average Reward: -25438.30\n",
      "\n",
      "Running combination 35/9555 with parameters: {'epsilon': 0.1, 'epsilon_decay': 0.999, 'alpha': 0.6, 'gamma': 1.0, 'no_change_after_lap': 155}\n",
      "    Training Episode 0/5\n"
     ]
    },
    {
     "name": "stderr",
     "output_type": "stream",
     "text": [
      "35it [1:18:58, 129.02s/it]"
     ]
    },
    {
     "name": "stdout",
     "output_type": "stream",
     "text": [
      "    Evaluation Episode 0/1\n",
      "    Average Reward over last 50 episodes: -16341.14\n",
      "    Min Reward over last 50 episodes: -16440.86\n",
      "    Max Reward over last 50 episodes: -16229.40\n",
      "    Evaluation Average Reward: -16415.97\n",
      "\n",
      "Running combination 36/9555 with parameters: {'epsilon': 0.0, 'epsilon_decay': 0.99, 'alpha': 1.0, 'gamma': 0.9, 'no_change_after_lap': 100}\n",
      "    Training Episode 0/5\n"
     ]
    },
    {
     "name": "stderr",
     "output_type": "stream",
     "text": [
      "36it [1:21:12, 130.26s/it]"
     ]
    },
    {
     "name": "stdout",
     "output_type": "stream",
     "text": [
      "    Evaluation Episode 0/1\n",
      "    Average Reward over last 50 episodes: -29435.19\n",
      "    Min Reward over last 50 episodes: -29671.42\n",
      "    Max Reward over last 50 episodes: -29053.61\n",
      "    Evaluation Average Reward: -29592.43\n",
      "\n",
      "Running combination 37/9555 with parameters: {'epsilon': 0.0, 'epsilon_decay': 0.999, 'alpha': 0.2, 'gamma': 0.0, 'no_change_after_lap': 140}\n",
      "    Training Episode 0/5\n"
     ]
    },
    {
     "name": "stderr",
     "output_type": "stream",
     "text": [
      "37it [1:23:21, 129.93s/it]"
     ]
    },
    {
     "name": "stdout",
     "output_type": "stream",
     "text": [
      "    Evaluation Episode 0/1\n",
      "    Average Reward over last 50 episodes: -19198.47\n",
      "    Min Reward over last 50 episodes: -19377.20\n",
      "    Max Reward over last 50 episodes: -18965.87\n",
      "    Evaluation Average Reward: -19619.90\n",
      "\n",
      "Running combination 38/9555 with parameters: {'epsilon': 0.1, 'epsilon_decay': 0.999, 'alpha': 0.6, 'gamma': 0.4, 'no_change_after_lap': 160}\n",
      "    Training Episode 0/5\n"
     ]
    },
    {
     "name": "stderr",
     "output_type": "stream",
     "text": [
      "38it [1:25:32, 130.38s/it]"
     ]
    },
    {
     "name": "stdout",
     "output_type": "stream",
     "text": [
      "    Evaluation Episode 0/1\n",
      "    Average Reward over last 50 episodes: -16091.56\n",
      "    Min Reward over last 50 episodes: -16170.98\n",
      "    Max Reward over last 50 episodes: -16051.90\n",
      "    Evaluation Average Reward: -16093.35\n",
      "\n",
      "Running combination 39/9555 with parameters: {'epsilon': 0.05, 'epsilon_decay': 0.995, 'alpha': 0.0, 'gamma': 0.0, 'no_change_after_lap': 110}\n",
      "    Training Episode 0/5\n"
     ]
    },
    {
     "name": "stderr",
     "output_type": "stream",
     "text": [
      "39it [1:27:30, 126.65s/it]"
     ]
    },
    {
     "name": "stdout",
     "output_type": "stream",
     "text": [
      "    Evaluation Episode 0/1\n",
      "    Average Reward over last 50 episodes: -26918.09\n",
      "    Min Reward over last 50 episodes: -27087.20\n",
      "    Max Reward over last 50 episodes: -26763.52\n",
      "    Evaluation Average Reward: -27002.06\n",
      "\n",
      "Running combination 40/9555 with parameters: {'epsilon': 0.2, 'epsilon_decay': 0.99, 'alpha': 0.4, 'gamma': 0.2, 'no_change_after_lap': 135}\n",
      "    Training Episode 0/5\n"
     ]
    },
    {
     "name": "stderr",
     "output_type": "stream",
     "text": [
      "40it [1:29:45, 129.09s/it]"
     ]
    },
    {
     "name": "stdout",
     "output_type": "stream",
     "text": [
      "    Evaluation Episode 0/1\n",
      "    Average Reward over last 50 episodes: -20634.89\n",
      "    Min Reward over last 50 episodes: -20818.81\n",
      "    Max Reward over last 50 episodes: -20192.11\n",
      "    Evaluation Average Reward: -20119.10\n",
      "\n",
      "Running combination 41/9555 with parameters: {'epsilon': 0.2, 'epsilon_decay': 0.999, 'alpha': 0.2, 'gamma': 0.0, 'no_change_after_lap': 100}\n",
      "    Training Episode 0/5\n"
     ]
    },
    {
     "name": "stderr",
     "output_type": "stream",
     "text": [
      "41it [1:31:55, 129.26s/it]"
     ]
    },
    {
     "name": "stdout",
     "output_type": "stream",
     "text": [
      "    Evaluation Episode 0/1\n",
      "    Average Reward over last 50 episodes: -29394.75\n",
      "    Min Reward over last 50 episodes: -29630.29\n",
      "    Max Reward over last 50 episodes: -29103.14\n",
      "    Evaluation Average Reward: -29338.08\n",
      "\n",
      "Running combination 42/9555 with parameters: {'epsilon': 0.05, 'epsilon_decay': 0.999, 'alpha': 0.6, 'gamma': 0.8, 'no_change_after_lap': 135}\n",
      "    Training Episode 0/5\n"
     ]
    },
    {
     "name": "stderr",
     "output_type": "stream",
     "text": [
      "42it [1:34:07, 130.33s/it]"
     ]
    },
    {
     "name": "stdout",
     "output_type": "stream",
     "text": [
      "    Evaluation Episode 0/1\n",
      "    Average Reward over last 50 episodes: -20621.47\n",
      "    Min Reward over last 50 episodes: -20814.55\n",
      "    Max Reward over last 50 episodes: -20389.18\n",
      "    Evaluation Average Reward: -20672.13\n",
      "\n",
      "Running combination 43/9555 with parameters: {'epsilon': 0.025, 'epsilon_decay': 0.999, 'alpha': 0.0, 'gamma': 1.0, 'no_change_after_lap': 160}\n",
      "    Training Episode 0/5\n"
     ]
    },
    {
     "name": "stderr",
     "output_type": "stream",
     "text": [
      "43it [1:36:09, 127.62s/it]"
     ]
    },
    {
     "name": "stdout",
     "output_type": "stream",
     "text": [
      "    Evaluation Episode 0/1\n",
      "    Average Reward over last 50 episodes: -16070.05\n",
      "    Min Reward over last 50 episodes: -16160.50\n",
      "    Max Reward over last 50 episodes: -15993.40\n",
      "    Evaluation Average Reward: -16034.65\n",
      "\n",
      "Running combination 44/9555 with parameters: {'epsilon': 0.1, 'epsilon_decay': 0.995, 'alpha': 0.0, 'gamma': 0.8, 'no_change_after_lap': 160}\n",
      "    Training Episode 0/5\n"
     ]
    },
    {
     "name": "stderr",
     "output_type": "stream",
     "text": [
      "44it [1:38:16, 127.64s/it]"
     ]
    },
    {
     "name": "stdout",
     "output_type": "stream",
     "text": [
      "    Evaluation Episode 0/1\n",
      "    Average Reward over last 50 episodes: -16069.05\n",
      "    Min Reward over last 50 episodes: -16168.49\n",
      "    Max Reward over last 50 episodes: -15987.70\n",
      "    Evaluation Average Reward: -16063.73\n",
      "\n",
      "Running combination 45/9555 with parameters: {'epsilon': 0.2, 'epsilon_decay': 0.999, 'alpha': 0.4, 'gamma': 0.6, 'no_change_after_lap': 105}\n",
      "    Training Episode 0/5\n"
     ]
    },
    {
     "name": "stderr",
     "output_type": "stream",
     "text": [
      "45it [1:40:23, 127.51s/it]"
     ]
    },
    {
     "name": "stdout",
     "output_type": "stream",
     "text": [
      "    Evaluation Episode 0/1\n",
      "    Average Reward over last 50 episodes: -28102.13\n",
      "    Min Reward over last 50 episodes: -28338.55\n",
      "    Max Reward over last 50 episodes: -27695.81\n",
      "    Evaluation Average Reward: -28336.61\n",
      "\n",
      "Running combination 46/9555 with parameters: {'epsilon': 0.0, 'epsilon_decay': 0.995, 'alpha': 0.4, 'gamma': 0.8, 'no_change_after_lap': 135}\n",
      "    Training Episode 0/5\n"
     ]
    },
    {
     "name": "stderr",
     "output_type": "stream",
     "text": [
      "46it [1:42:34, 128.26s/it]"
     ]
    },
    {
     "name": "stdout",
     "output_type": "stream",
     "text": [
      "    Evaluation Episode 0/1\n",
      "    Average Reward over last 50 episodes: -20590.32\n",
      "    Min Reward over last 50 episodes: -20909.04\n",
      "    Max Reward over last 50 episodes: -20229.41\n",
      "    Evaluation Average Reward: -20901.28\n",
      "\n",
      "Running combination 47/9555 with parameters: {'epsilon': 0.05, 'epsilon_decay': 0.99, 'alpha': 0.6, 'gamma': 0.8, 'no_change_after_lap': 110}\n",
      "    Training Episode 0/5\n"
     ]
    },
    {
     "name": "stderr",
     "output_type": "stream",
     "text": [
      "47it [1:44:45, 129.09s/it]"
     ]
    },
    {
     "name": "stdout",
     "output_type": "stream",
     "text": [
      "    Evaluation Episode 0/1\n",
      "    Average Reward over last 50 episodes: -26818.46\n",
      "    Min Reward over last 50 episodes: -27069.27\n",
      "    Max Reward over last 50 episodes: -26488.49\n",
      "    Evaluation Average Reward: -27231.94\n",
      "\n",
      "Running combination 48/9555 with parameters: {'epsilon': 0.2, 'epsilon_decay': 0.999, 'alpha': 0.6, 'gamma': 0.2, 'no_change_after_lap': 115}\n",
      "    Training Episode 0/5\n"
     ]
    },
    {
     "name": "stderr",
     "output_type": "stream",
     "text": [
      "48it [1:46:54, 129.32s/it]"
     ]
    },
    {
     "name": "stdout",
     "output_type": "stream",
     "text": [
      "    Evaluation Episode 0/1\n",
      "    Average Reward over last 50 episodes: -25562.85\n",
      "    Min Reward over last 50 episodes: -25788.40\n",
      "    Max Reward over last 50 episodes: -25296.79\n",
      "    Evaluation Average Reward: -25884.46\n",
      "\n",
      "Running combination 49/9555 with parameters: {'epsilon': 0.1, 'epsilon_decay': 0.999, 'alpha': 0.2, 'gamma': 0.8, 'no_change_after_lap': 140}\n",
      "    Training Episode 0/5\n"
     ]
    },
    {
     "name": "stderr",
     "output_type": "stream",
     "text": [
      "49it [1:49:08, 130.53s/it]"
     ]
    },
    {
     "name": "stdout",
     "output_type": "stream",
     "text": [
      "    Evaluation Episode 0/1\n",
      "    Average Reward over last 50 episodes: -19283.86\n",
      "    Min Reward over last 50 episodes: -19605.77\n",
      "    Max Reward over last 50 episodes: -19071.64\n",
      "    Evaluation Average Reward: -19588.68\n",
      "\n",
      "Running combination 50/9555 with parameters: {'epsilon': 0.0, 'epsilon_decay': 0.999, 'alpha': 1.0, 'gamma': 0.6, 'no_change_after_lap': 145}\n",
      "    Training Episode 0/5\n"
     ]
    },
    {
     "name": "stderr",
     "output_type": "stream",
     "text": [
      "50it [1:51:17, 130.02s/it]"
     ]
    },
    {
     "name": "stdout",
     "output_type": "stream",
     "text": [
      "    Evaluation Episode 0/1\n",
      "    Average Reward over last 50 episodes: -18038.68\n",
      "    Min Reward over last 50 episodes: -18257.02\n",
      "    Max Reward over last 50 episodes: -17901.06\n",
      "    Evaluation Average Reward: -18228.27\n",
      "\n",
      "Running combination 51/9555 with parameters: {'epsilon': 0.025, 'epsilon_decay': 0.99, 'alpha': 0.6, 'gamma': 0.2, 'no_change_after_lap': 100}\n",
      "    Training Episode 0/5\n"
     ]
    },
    {
     "name": "stderr",
     "output_type": "stream",
     "text": [
      "51it [1:53:24, 129.14s/it]"
     ]
    },
    {
     "name": "stdout",
     "output_type": "stream",
     "text": [
      "    Evaluation Episode 0/1\n",
      "    Average Reward over last 50 episodes: -29341.86\n",
      "    Min Reward over last 50 episodes: -29607.77\n",
      "    Max Reward over last 50 episodes: -29025.26\n",
      "    Evaluation Average Reward: -29350.05\n",
      "\n",
      "Running combination 52/9555 with parameters: {'epsilon': 0.05, 'epsilon_decay': 0.995, 'alpha': 0.4, 'gamma': 0.6, 'no_change_after_lap': 155}\n",
      "    Training Episode 0/5\n"
     ]
    },
    {
     "name": "stderr",
     "output_type": "stream",
     "text": [
      "52it [1:55:35, 129.76s/it]"
     ]
    },
    {
     "name": "stdout",
     "output_type": "stream",
     "text": [
      "    Evaluation Episode 0/1\n",
      "    Average Reward over last 50 episodes: -16328.15\n",
      "    Min Reward over last 50 episodes: -16444.44\n",
      "    Max Reward over last 50 episodes: -16222.67\n",
      "    Evaluation Average Reward: -16369.96\n",
      "\n",
      "Running combination 53/9555 with parameters: {'epsilon': 0.025, 'epsilon_decay': 0.999, 'alpha': 0.4, 'gamma': 0.2, 'no_change_after_lap': 130}\n",
      "    Training Episode 0/5\n"
     ]
    },
    {
     "name": "stderr",
     "output_type": "stream",
     "text": [
      "53it [1:57:45, 129.86s/it]"
     ]
    },
    {
     "name": "stdout",
     "output_type": "stream",
     "text": [
      "    Evaluation Episode 0/1\n",
      "    Average Reward over last 50 episodes: -21891.51\n",
      "    Min Reward over last 50 episodes: -22140.18\n",
      "    Max Reward over last 50 episodes: -21509.24\n",
      "    Evaluation Average Reward: -21707.06\n",
      "\n",
      "Running combination 54/9555 with parameters: {'epsilon': 0.05, 'epsilon_decay': 0.995, 'alpha': 0.4, 'gamma': 0.4, 'no_change_after_lap': 140}\n",
      "    Training Episode 0/5\n"
     ]
    },
    {
     "name": "stderr",
     "output_type": "stream",
     "text": [
      "54it [1:59:53, 129.28s/it]"
     ]
    },
    {
     "name": "stdout",
     "output_type": "stream",
     "text": [
      "    Evaluation Episode 0/1\n",
      "    Average Reward over last 50 episodes: -19252.63\n",
      "    Min Reward over last 50 episodes: -19589.57\n",
      "    Max Reward over last 50 episodes: -19104.34\n",
      "    Evaluation Average Reward: -19344.03\n",
      "\n",
      "Running combination 55/9555 with parameters: {'epsilon': 0.05, 'epsilon_decay': 0.999, 'alpha': 1.0, 'gamma': 0.6, 'no_change_after_lap': 130}\n",
      "    Training Episode 0/5\n"
     ]
    },
    {
     "name": "stderr",
     "output_type": "stream",
     "text": [
      "55it [2:02:00, 128.71s/it]"
     ]
    },
    {
     "name": "stdout",
     "output_type": "stream",
     "text": [
      "    Evaluation Episode 0/1\n",
      "    Average Reward over last 50 episodes: -21935.24\n",
      "    Min Reward over last 50 episodes: -22142.46\n",
      "    Max Reward over last 50 episodes: -21651.45\n",
      "    Evaluation Average Reward: -21616.10\n",
      "\n",
      "Running combination 56/9555 with parameters: {'epsilon': 0.05, 'epsilon_decay': 0.999, 'alpha': 0.2, 'gamma': 1.0, 'no_change_after_lap': 155}\n",
      "    Training Episode 0/5\n"
     ]
    },
    {
     "name": "stderr",
     "output_type": "stream",
     "text": [
      "56it [2:04:11, 129.17s/it]"
     ]
    },
    {
     "name": "stdout",
     "output_type": "stream",
     "text": [
      "    Evaluation Episode 0/1\n",
      "    Average Reward over last 50 episodes: -16331.63\n",
      "    Min Reward over last 50 episodes: -16380.53\n",
      "    Max Reward over last 50 episodes: -16276.45\n",
      "    Evaluation Average Reward: -16437.30\n",
      "\n",
      "Running combination 57/9555 with parameters: {'epsilon': 0.1, 'epsilon_decay': 0.99, 'alpha': 0.2, 'gamma': 0.4, 'no_change_after_lap': 105}\n",
      "    Training Episode 0/5\n"
     ]
    },
    {
     "name": "stderr",
     "output_type": "stream",
     "text": [
      "57it [2:06:22, 129.76s/it]"
     ]
    },
    {
     "name": "stdout",
     "output_type": "stream",
     "text": [
      "    Evaluation Episode 0/1\n",
      "    Average Reward over last 50 episodes: -28212.37\n",
      "    Min Reward over last 50 episodes: -28465.60\n",
      "    Max Reward over last 50 episodes: -27796.41\n",
      "    Evaluation Average Reward: -28339.07\n",
      "\n",
      "Running combination 58/9555 with parameters: {'epsilon': 0.0, 'epsilon_decay': 0.99, 'alpha': 0.9, 'gamma': 1.0, 'no_change_after_lap': 160}\n",
      "    Training Episode 0/5\n"
     ]
    },
    {
     "name": "stderr",
     "output_type": "stream",
     "text": [
      "58it [2:08:32, 129.86s/it]"
     ]
    },
    {
     "name": "stdout",
     "output_type": "stream",
     "text": [
      "    Evaluation Episode 0/1\n",
      "    Average Reward over last 50 episodes: -16084.07\n",
      "    Min Reward over last 50 episodes: -16143.82\n",
      "    Max Reward over last 50 episodes: -16001.88\n",
      "    Evaluation Average Reward: -16086.40\n",
      "\n",
      "Running combination 59/9555 with parameters: {'epsilon': 0.2, 'epsilon_decay': 0.995, 'alpha': 0.2, 'gamma': 0.4, 'no_change_after_lap': 110}\n",
      "    Training Episode 0/5\n"
     ]
    },
    {
     "name": "stderr",
     "output_type": "stream",
     "text": [
      "59it [2:10:43, 130.33s/it]"
     ]
    },
    {
     "name": "stdout",
     "output_type": "stream",
     "text": [
      "    Evaluation Episode 0/1\n",
      "    Average Reward over last 50 episodes: -26883.97\n",
      "    Min Reward over last 50 episodes: -27111.54\n",
      "    Max Reward over last 50 episodes: -26658.93\n",
      "    Evaluation Average Reward: -27101.10\n",
      "\n",
      "Running combination 60/9555 with parameters: {'epsilon': 0.2, 'epsilon_decay': 0.999, 'alpha': 0.8, 'gamma': 0.6, 'no_change_after_lap': 145}\n",
      "    Training Episode 0/5\n"
     ]
    },
    {
     "name": "stderr",
     "output_type": "stream",
     "text": [
      "60it [2:12:56, 131.07s/it]"
     ]
    },
    {
     "name": "stdout",
     "output_type": "stream",
     "text": [
      "    Evaluation Episode 0/1\n",
      "    Average Reward over last 50 episodes: -18055.28\n",
      "    Min Reward over last 50 episodes: -18364.75\n",
      "    Max Reward over last 50 episodes: -17895.95\n",
      "    Evaluation Average Reward: -18006.74\n",
      "\n",
      "Running combination 61/9555 with parameters: {'epsilon': 0.05, 'epsilon_decay': 0.99, 'alpha': 0.0, 'gamma': 0.0, 'no_change_after_lap': 115}\n",
      "    Training Episode 0/5\n"
     ]
    },
    {
     "name": "stderr",
     "output_type": "stream",
     "text": [
      "61it [2:14:56, 127.67s/it]"
     ]
    },
    {
     "name": "stdout",
     "output_type": "stream",
     "text": [
      "    Evaluation Episode 0/1\n",
      "    Average Reward over last 50 episodes: -25610.30\n",
      "    Min Reward over last 50 episodes: -25799.53\n",
      "    Max Reward over last 50 episodes: -25496.09\n",
      "    Evaluation Average Reward: -25730.18\n",
      "\n",
      "Running combination 62/9555 with parameters: {'epsilon': 0.2, 'epsilon_decay': 0.999, 'alpha': 0.0, 'gamma': 1.0, 'no_change_after_lap': 100}\n",
      "    Training Episode 0/5\n"
     ]
    },
    {
     "name": "stderr",
     "output_type": "stream",
     "text": [
      "62it [2:17:02, 127.13s/it]"
     ]
    },
    {
     "name": "stdout",
     "output_type": "stream",
     "text": [
      "    Evaluation Episode 0/1\n",
      "    Average Reward over last 50 episodes: -29352.88\n",
      "    Min Reward over last 50 episodes: -29455.77\n",
      "    Max Reward over last 50 episodes: -29216.73\n",
      "    Evaluation Average Reward: -29632.93\n",
      "\n",
      "Running combination 63/9555 with parameters: {'epsilon': 0.2, 'epsilon_decay': 0.99, 'alpha': 0.9, 'gamma': 1.0, 'no_change_after_lap': 120}\n",
      "    Training Episode 0/5\n"
     ]
    },
    {
     "name": "stderr",
     "output_type": "stream",
     "text": [
      "63it [2:19:14, 128.61s/it]"
     ]
    },
    {
     "name": "stdout",
     "output_type": "stream",
     "text": [
      "    Evaluation Episode 0/1\n",
      "    Average Reward over last 50 episodes: -24276.16\n",
      "    Min Reward over last 50 episodes: -24507.85\n",
      "    Max Reward over last 50 episodes: -23965.27\n",
      "    Evaluation Average Reward: -24195.08\n",
      "\n",
      "Running combination 64/9555 with parameters: {'epsilon': 0.2, 'epsilon_decay': 0.999, 'alpha': 0.2, 'gamma': 1.0, 'no_change_after_lap': 150}\n",
      "    Training Episode 0/5\n"
     ]
    },
    {
     "name": "stderr",
     "output_type": "stream",
     "text": [
      "64it [2:21:23, 128.80s/it]"
     ]
    },
    {
     "name": "stdout",
     "output_type": "stream",
     "text": [
      "    Evaluation Episode 0/1\n",
      "    Average Reward over last 50 episodes: -17093.22\n",
      "    Min Reward over last 50 episodes: -17225.89\n",
      "    Max Reward over last 50 episodes: -16976.91\n",
      "    Evaluation Average Reward: -17266.86\n",
      "\n",
      "Running combination 65/9555 with parameters: {'epsilon': 0.0, 'epsilon_decay': 0.99, 'alpha': 0.2, 'gamma': 0.0, 'no_change_after_lap': 135}\n",
      "    Training Episode 0/5\n"
     ]
    },
    {
     "name": "stderr",
     "output_type": "stream",
     "text": [
      "65it [2:23:30, 128.38s/it]"
     ]
    },
    {
     "name": "stdout",
     "output_type": "stream",
     "text": [
      "    Evaluation Episode 0/1\n",
      "    Average Reward over last 50 episodes: -20522.30\n",
      "    Min Reward over last 50 episodes: -20825.10\n",
      "    Max Reward over last 50 episodes: -20230.11\n",
      "    Evaluation Average Reward: -20410.59\n",
      "\n",
      "Running combination 66/9555 with parameters: {'epsilon': 0.0, 'epsilon_decay': 0.99, 'alpha': 0.2, 'gamma': 0.6, 'no_change_after_lap': 150}\n",
      "    Training Episode 0/5\n"
     ]
    },
    {
     "name": "stderr",
     "output_type": "stream",
     "text": [
      "66it [2:25:42, 129.53s/it]"
     ]
    },
    {
     "name": "stdout",
     "output_type": "stream",
     "text": [
      "    Evaluation Episode 0/1\n",
      "    Average Reward over last 50 episodes: -17180.84\n",
      "    Min Reward over last 50 episodes: -17303.34\n",
      "    Max Reward over last 50 episodes: -16995.21\n",
      "    Evaluation Average Reward: -17100.80\n",
      "\n",
      "Running combination 67/9555 with parameters: {'epsilon': 0.1, 'epsilon_decay': 0.999, 'alpha': 0.0, 'gamma': 0.9, 'no_change_after_lap': 155}\n",
      "    Training Episode 0/5\n"
     ]
    },
    {
     "name": "stderr",
     "output_type": "stream",
     "text": [
      "67it [2:27:46, 127.68s/it]"
     ]
    },
    {
     "name": "stdout",
     "output_type": "stream",
     "text": [
      "    Evaluation Episode 0/1\n",
      "    Average Reward over last 50 episodes: -16343.99\n",
      "    Min Reward over last 50 episodes: -16421.36\n",
      "    Max Reward over last 50 episodes: -16246.35\n",
      "    Evaluation Average Reward: -16325.73\n",
      "\n",
      "Running combination 68/9555 with parameters: {'epsilon': 0.1, 'epsilon_decay': 0.999, 'alpha': 1.0, 'gamma': 0.6, 'no_change_after_lap': 120}\n",
      "    Training Episode 0/5\n"
     ]
    },
    {
     "name": "stderr",
     "output_type": "stream",
     "text": [
      "68it [2:30:00, 129.52s/it]"
     ]
    },
    {
     "name": "stdout",
     "output_type": "stream",
     "text": [
      "    Evaluation Episode 0/1\n",
      "    Average Reward over last 50 episodes: -24306.37\n",
      "    Min Reward over last 50 episodes: -24528.12\n",
      "    Max Reward over last 50 episodes: -23988.89\n",
      "    Evaluation Average Reward: -24286.47\n",
      "\n",
      "Running combination 69/9555 with parameters: {'epsilon': 0.2, 'epsilon_decay': 0.99, 'alpha': 0.0, 'gamma': 0.8, 'no_change_after_lap': 130}\n",
      "    Training Episode 0/5\n"
     ]
    },
    {
     "name": "stderr",
     "output_type": "stream",
     "text": [
      "69it [2:31:59, 126.60s/it]"
     ]
    },
    {
     "name": "stdout",
     "output_type": "stream",
     "text": [
      "    Evaluation Episode 0/1\n",
      "    Average Reward over last 50 episodes: -21921.50\n",
      "    Min Reward over last 50 episodes: -22052.49\n",
      "    Max Reward over last 50 episodes: -21538.26\n",
      "    Evaluation Average Reward: -22011.83\n",
      "\n",
      "Running combination 70/9555 with parameters: {'epsilon': 0.2, 'epsilon_decay': 0.999, 'alpha': 1.0, 'gamma': 0.2, 'no_change_after_lap': 105}\n",
      "    Training Episode 0/5\n"
     ]
    },
    {
     "name": "stderr",
     "output_type": "stream",
     "text": [
      "70it [2:34:03, 125.73s/it]"
     ]
    },
    {
     "name": "stdout",
     "output_type": "stream",
     "text": [
      "    Evaluation Episode 0/1\n",
      "    Average Reward over last 50 episodes: -28290.81\n",
      "    Min Reward over last 50 episodes: -28472.15\n",
      "    Max Reward over last 50 episodes: -28030.01\n",
      "    Evaluation Average Reward: -27719.61\n",
      "\n",
      "Running combination 71/9555 with parameters: {'epsilon': 0.0, 'epsilon_decay': 0.995, 'alpha': 0.4, 'gamma': 1.0, 'no_change_after_lap': 145}\n",
      "    Training Episode 0/5\n"
     ]
    },
    {
     "name": "stderr",
     "output_type": "stream",
     "text": [
      "71it [2:36:13, 127.07s/it]"
     ]
    },
    {
     "name": "stdout",
     "output_type": "stream",
     "text": [
      "    Evaluation Episode 0/1\n",
      "    Average Reward over last 50 episodes: -18059.37\n",
      "    Min Reward over last 50 episodes: -18431.03\n",
      "    Max Reward over last 50 episodes: -17855.52\n",
      "    Evaluation Average Reward: -18211.75\n",
      "\n",
      "Running combination 72/9555 with parameters: {'epsilon': 0.2, 'epsilon_decay': 0.999, 'alpha': 0.6, 'gamma': 0.0, 'no_change_after_lap': 150}\n",
      "    Training Episode 0/5\n"
     ]
    },
    {
     "name": "stderr",
     "output_type": "stream",
     "text": [
      "72it [2:38:20, 127.06s/it]"
     ]
    },
    {
     "name": "stdout",
     "output_type": "stream",
     "text": [
      "    Evaluation Episode 0/1\n",
      "    Average Reward over last 50 episodes: -17101.30\n",
      "    Min Reward over last 50 episodes: -17216.84\n",
      "    Max Reward over last 50 episodes: -16995.93\n",
      "    Evaluation Average Reward: -17087.27\n",
      "\n",
      "Running combination 73/9555 with parameters: {'epsilon': 0.05, 'epsilon_decay': 0.995, 'alpha': 0.0, 'gamma': 0.9, 'no_change_after_lap': 125}\n",
      "    Training Episode 0/5\n"
     ]
    },
    {
     "name": "stderr",
     "output_type": "stream",
     "text": [
      "73it [2:40:27, 127.01s/it]"
     ]
    },
    {
     "name": "stdout",
     "output_type": "stream",
     "text": [
      "    Evaluation Episode 0/1\n",
      "    Average Reward over last 50 episodes: -23069.19\n",
      "    Min Reward over last 50 episodes: -23265.11\n",
      "    Max Reward over last 50 episodes: -22788.34\n",
      "    Evaluation Average Reward: -22938.94\n",
      "\n",
      "Running combination 74/9555 with parameters: {'epsilon': 0.025, 'epsilon_decay': 0.99, 'alpha': 0.6, 'gamma': 0.8, 'no_change_after_lap': 105}\n",
      "    Training Episode 0/5\n"
     ]
    },
    {
     "name": "stderr",
     "output_type": "stream",
     "text": [
      "74it [2:42:38, 128.06s/it]"
     ]
    },
    {
     "name": "stdout",
     "output_type": "stream",
     "text": [
      "    Evaluation Episode 0/1\n",
      "    Average Reward over last 50 episodes: -28202.85\n",
      "    Min Reward over last 50 episodes: -28438.85\n",
      "    Max Reward over last 50 episodes: -28011.59\n",
      "    Evaluation Average Reward: -28064.08\n",
      "\n",
      "Running combination 75/9555 with parameters: {'epsilon': 0.05, 'epsilon_decay': 0.999, 'alpha': 1.0, 'gamma': 0.9, 'no_change_after_lap': 100}\n",
      "    Training Episode 0/5\n"
     ]
    },
    {
     "name": "stderr",
     "output_type": "stream",
     "text": [
      "75it [2:44:42, 127.01s/it]"
     ]
    },
    {
     "name": "stdout",
     "output_type": "stream",
     "text": [
      "    Evaluation Episode 0/1\n",
      "    Average Reward over last 50 episodes: -29391.75\n",
      "    Min Reward over last 50 episodes: -29657.63\n",
      "    Max Reward over last 50 episodes: -29187.43\n",
      "    Evaluation Average Reward: -29200.30\n",
      "\n",
      "Running combination 76/9555 with parameters: {'epsilon': 0.05, 'epsilon_decay': 0.995, 'alpha': 1.0, 'gamma': 1.0, 'no_change_after_lap': 110}\n",
      "    Training Episode 0/5\n"
     ]
    },
    {
     "name": "stderr",
     "output_type": "stream",
     "text": [
      "76it [2:46:49, 126.91s/it]"
     ]
    },
    {
     "name": "stdout",
     "output_type": "stream",
     "text": [
      "    Evaluation Episode 0/1\n",
      "    Average Reward over last 50 episodes: -26970.47\n",
      "    Min Reward over last 50 episodes: -27123.13\n",
      "    Max Reward over last 50 episodes: -26688.64\n",
      "    Evaluation Average Reward: -26706.73\n",
      "\n",
      "Running combination 77/9555 with parameters: {'epsilon': 0.025, 'epsilon_decay': 0.995, 'alpha': 0.0, 'gamma': 0.6, 'no_change_after_lap': 135}\n",
      "    Training Episode 0/5\n"
     ]
    },
    {
     "name": "stderr",
     "output_type": "stream",
     "text": [
      "77it [2:48:49, 124.74s/it]"
     ]
    },
    {
     "name": "stdout",
     "output_type": "stream",
     "text": [
      "    Evaluation Episode 0/1\n",
      "    Average Reward over last 50 episodes: -20549.09\n",
      "    Min Reward over last 50 episodes: -20832.06\n",
      "    Max Reward over last 50 episodes: -20229.79\n",
      "    Evaluation Average Reward: -20176.96\n",
      "SKIPPING\n",
      "SKIPPING\n",
      "\n",
      "Running combination 78/9555 with parameters: {'epsilon': 0.1, 'epsilon_decay': 0.99, 'alpha': 0.4, 'gamma': 0.6, 'no_change_after_lap': 120}\n",
      "    Training Episode 0/5\n"
     ]
    },
    {
     "name": "stderr",
     "output_type": "stream",
     "text": [
      "78it [2:50:59, 126.42s/it]"
     ]
    },
    {
     "name": "stdout",
     "output_type": "stream",
     "text": [
      "    Evaluation Episode 0/1\n",
      "    Average Reward over last 50 episodes: -24315.02\n",
      "    Min Reward over last 50 episodes: -24673.59\n",
      "    Max Reward over last 50 episodes: -23960.29\n",
      "    Evaluation Average Reward: -24070.86\n",
      "\n",
      "Running combination 79/9555 with parameters: {'epsilon': 0.05, 'epsilon_decay': 0.99, 'alpha': 0.2, 'gamma': 1.0, 'no_change_after_lap': 100}\n",
      "    Training Episode 0/5\n"
     ]
    },
    {
     "name": "stderr",
     "output_type": "stream",
     "text": [
      "79it [2:53:08, 127.21s/it]"
     ]
    },
    {
     "name": "stdout",
     "output_type": "stream",
     "text": [
      "    Evaluation Episode 0/1\n",
      "    Average Reward over last 50 episodes: -29423.20\n",
      "    Min Reward over last 50 episodes: -29619.58\n",
      "    Max Reward over last 50 episodes: -29045.75\n",
      "    Evaluation Average Reward: -29391.65\n",
      "\n",
      "Running combination 80/9555 with parameters: {'epsilon': 0.05, 'epsilon_decay': 0.995, 'alpha': 0.4, 'gamma': 0.8, 'no_change_after_lap': 105}\n",
      "    Training Episode 0/5\n"
     ]
    },
    {
     "name": "stderr",
     "output_type": "stream",
     "text": [
      "80it [2:55:08, 124.90s/it]"
     ]
    },
    {
     "name": "stdout",
     "output_type": "stream",
     "text": [
      "    Evaluation Episode 0/1\n",
      "    Average Reward over last 50 episodes: -27960.40\n",
      "    Min Reward over last 50 episodes: -28365.04\n",
      "    Max Reward over last 50 episodes: -27704.72\n",
      "    Evaluation Average Reward: -28160.22\n",
      "\n",
      "Running combination 81/9555 with parameters: {'epsilon': 0.2, 'epsilon_decay': 0.99, 'alpha': 0.6, 'gamma': 0.9, 'no_change_after_lap': 110}\n",
      "    Training Episode 0/5\n"
     ]
    },
    {
     "name": "stderr",
     "output_type": "stream",
     "text": [
      "81it [2:57:03, 121.91s/it]"
     ]
    },
    {
     "name": "stdout",
     "output_type": "stream",
     "text": [
      "    Evaluation Episode 0/1\n",
      "    Average Reward over last 50 episodes: -26898.69\n",
      "    Min Reward over last 50 episodes: -27026.59\n",
      "    Max Reward over last 50 episodes: -26656.08\n",
      "    Evaluation Average Reward: -26890.92\n",
      "\n",
      "Running combination 82/9555 with parameters: {'epsilon': 0.1, 'epsilon_decay': 0.999, 'alpha': 0.4, 'gamma': 0.9, 'no_change_after_lap': 130}\n",
      "    Training Episode 0/5\n"
     ]
    },
    {
     "name": "stderr",
     "output_type": "stream",
     "text": [
      "82it [2:59:01, 120.94s/it]"
     ]
    },
    {
     "name": "stdout",
     "output_type": "stream",
     "text": [
      "    Evaluation Episode 0/1\n",
      "    Average Reward over last 50 episodes: -21861.57\n",
      "    Min Reward over last 50 episodes: -21983.81\n",
      "    Max Reward over last 50 episodes: -21506.23\n",
      "    Evaluation Average Reward: -22023.83\n",
      "\n",
      "Running combination 83/9555 with parameters: {'epsilon': 0.025, 'epsilon_decay': 0.995, 'alpha': 0.8, 'gamma': 0.6, 'no_change_after_lap': 135}\n",
      "    Training Episode 0/5\n"
     ]
    },
    {
     "name": "stderr",
     "output_type": "stream",
     "text": [
      "83it [3:00:56, 119.24s/it]"
     ]
    },
    {
     "name": "stdout",
     "output_type": "stream",
     "text": [
      "    Evaluation Episode 0/1\n",
      "    Average Reward over last 50 episodes: -20625.74\n",
      "    Min Reward over last 50 episodes: -20838.63\n",
      "    Max Reward over last 50 episodes: -20471.29\n",
      "    Evaluation Average Reward: -20357.79\n",
      "\n",
      "Running combination 84/9555 with parameters: {'epsilon': 0.025, 'epsilon_decay': 0.999, 'alpha': 0.8, 'gamma': 0.2, 'no_change_after_lap': 160}\n",
      "    Training Episode 0/5\n"
     ]
    },
    {
     "name": "stderr",
     "output_type": "stream",
     "text": [
      "84it [3:02:55, 119.16s/it]"
     ]
    },
    {
     "name": "stdout",
     "output_type": "stream",
     "text": [
      "    Evaluation Episode 0/1\n",
      "    Average Reward over last 50 episodes: -16073.46\n",
      "    Min Reward over last 50 episodes: -16122.20\n",
      "    Max Reward over last 50 episodes: -16010.29\n",
      "    Evaluation Average Reward: -16188.76\n",
      "\n",
      "Running combination 85/9555 with parameters: {'epsilon': 0.1, 'epsilon_decay': 0.995, 'alpha': 0.4, 'gamma': 0.9, 'no_change_after_lap': 150}\n",
      "    Training Episode 0/5\n"
     ]
    },
    {
     "name": "stderr",
     "output_type": "stream",
     "text": [
      "85it [3:04:53, 118.69s/it]"
     ]
    },
    {
     "name": "stdout",
     "output_type": "stream",
     "text": [
      "    Evaluation Episode 0/1\n",
      "    Average Reward over last 50 episodes: -17098.03\n",
      "    Min Reward over last 50 episodes: -17229.79\n",
      "    Max Reward over last 50 episodes: -16931.27\n",
      "    Evaluation Average Reward: -16898.98\n",
      "\n",
      "Running combination 86/9555 with parameters: {'epsilon': 0.05, 'epsilon_decay': 0.999, 'alpha': 0.6, 'gamma': 0.4, 'no_change_after_lap': 110}\n",
      "    Training Episode 0/5\n"
     ]
    },
    {
     "name": "stderr",
     "output_type": "stream",
     "text": [
      "86it [3:06:55, 119.66s/it]"
     ]
    },
    {
     "name": "stdout",
     "output_type": "stream",
     "text": [
      "    Evaluation Episode 0/1\n",
      "    Average Reward over last 50 episodes: -26750.11\n",
      "    Min Reward over last 50 episodes: -26949.74\n",
      "    Max Reward over last 50 episodes: -26567.99\n",
      "    Evaluation Average Reward: -26868.76\n",
      "SKIPPING\n",
      "\n",
      "Running combination 87/9555 with parameters: {'epsilon': 0.1, 'epsilon_decay': 0.995, 'alpha': 1.0, 'gamma': 0.0, 'no_change_after_lap': 125}\n",
      "    Training Episode 0/5\n"
     ]
    },
    {
     "name": "stderr",
     "output_type": "stream",
     "text": [
      "87it [3:08:53, 119.27s/it]"
     ]
    },
    {
     "name": "stdout",
     "output_type": "stream",
     "text": [
      "    Evaluation Episode 0/1\n",
      "    Average Reward over last 50 episodes: -23032.93\n",
      "    Min Reward over last 50 episodes: -23343.03\n",
      "    Max Reward over last 50 episodes: -22772.33\n",
      "    Evaluation Average Reward: -23148.25\n",
      "\n",
      "Running combination 88/9555 with parameters: {'epsilon': 0.2, 'epsilon_decay': 0.995, 'alpha': 0.2, 'gamma': 0.6, 'no_change_after_lap': 155}\n",
      "    Training Episode 0/5\n"
     ]
    },
    {
     "name": "stderr",
     "output_type": "stream",
     "text": [
      "88it [3:10:54, 119.62s/it]"
     ]
    },
    {
     "name": "stdout",
     "output_type": "stream",
     "text": [
      "    Evaluation Episode 0/1\n",
      "    Average Reward over last 50 episodes: -16252.82\n",
      "    Min Reward over last 50 episodes: -16396.75\n",
      "    Max Reward over last 50 episodes: -16133.11\n",
      "    Evaluation Average Reward: -16326.45\n",
      "SKIPPING\n",
      "\n",
      "Running combination 89/9555 with parameters: {'epsilon': 0.0, 'epsilon_decay': 0.999, 'alpha': 0.2, 'gamma': 0.8, 'no_change_after_lap': 115}\n",
      "    Training Episode 0/5\n"
     ]
    },
    {
     "name": "stderr",
     "output_type": "stream",
     "text": [
      "89it [3:12:43, 116.64s/it]"
     ]
    },
    {
     "name": "stdout",
     "output_type": "stream",
     "text": [
      "    Evaluation Episode 0/1\n",
      "    Average Reward over last 50 episodes: -25788.49\n",
      "    Min Reward over last 50 episodes: -25920.77\n",
      "    Max Reward over last 50 episodes: -25602.65\n",
      "    Evaluation Average Reward: -25470.84\n",
      "\n",
      "Running combination 90/9555 with parameters: {'epsilon': 0.2, 'epsilon_decay': 0.99, 'alpha': 0.2, 'gamma': 0.8, 'no_change_after_lap': 155}\n",
      "    Training Episode 0/5\n"
     ]
    },
    {
     "name": "stderr",
     "output_type": "stream",
     "text": [
      "90it [3:14:42, 117.09s/it]"
     ]
    },
    {
     "name": "stdout",
     "output_type": "stream",
     "text": [
      "    Evaluation Episode 0/1\n",
      "    Average Reward over last 50 episodes: -16375.80\n",
      "    Min Reward over last 50 episodes: -16438.92\n",
      "    Max Reward over last 50 episodes: -16277.03\n",
      "    Evaluation Average Reward: -16172.50\n",
      "\n",
      "Running combination 91/9555 with parameters: {'epsilon': 0.0, 'epsilon_decay': 0.995, 'alpha': 0.8, 'gamma': 0.0, 'no_change_after_lap': 140}\n",
      "    Training Episode 0/5\n"
     ]
    },
    {
     "name": "stderr",
     "output_type": "stream",
     "text": [
      "91it [3:16:35, 115.96s/it]"
     ]
    },
    {
     "name": "stdout",
     "output_type": "stream",
     "text": [
      "    Evaluation Episode 0/1\n",
      "    Average Reward over last 50 episodes: -19429.35\n",
      "    Min Reward over last 50 episodes: -19619.05\n",
      "    Max Reward over last 50 episodes: -19168.09\n",
      "    Evaluation Average Reward: -19062.35\n",
      "\n",
      "Running combination 92/9555 with parameters: {'epsilon': 0.0, 'epsilon_decay': 0.99, 'alpha': 0.8, 'gamma': 0.6, 'no_change_after_lap': 150}\n",
      "    Training Episode 0/5\n"
     ]
    },
    {
     "name": "stderr",
     "output_type": "stream",
     "text": [
      "92it [3:18:34, 116.87s/it]"
     ]
    },
    {
     "name": "stdout",
     "output_type": "stream",
     "text": [
      "    Evaluation Episode 0/1\n",
      "    Average Reward over last 50 episodes: -16980.21\n",
      "    Min Reward over last 50 episodes: -17121.85\n",
      "    Max Reward over last 50 episodes: -16864.73\n",
      "    Evaluation Average Reward: -17002.44\n",
      "\n",
      "Running combination 93/9555 with parameters: {'epsilon': 0.05, 'epsilon_decay': 0.995, 'alpha': 0.8, 'gamma': 0.0, 'no_change_after_lap': 160}\n",
      "    Training Episode 0/5\n"
     ]
    },
    {
     "name": "stderr",
     "output_type": "stream",
     "text": [
      "93it [3:20:33, 117.49s/it]"
     ]
    },
    {
     "name": "stdout",
     "output_type": "stream",
     "text": [
      "    Evaluation Episode 0/1\n",
      "    Average Reward over last 50 episodes: -16099.55\n",
      "    Min Reward over last 50 episodes: -16111.07\n",
      "    Max Reward over last 50 episodes: -16085.83\n",
      "    Evaluation Average Reward: -16085.85\n",
      "\n",
      "Running combination 94/9555 with parameters: {'epsilon': 0.2, 'epsilon_decay': 0.995, 'alpha': 0.0, 'gamma': 1.0, 'no_change_after_lap': 135}\n",
      "    Training Episode 0/5\n"
     ]
    },
    {
     "name": "stderr",
     "output_type": "stream",
     "text": [
      "94it [3:22:27, 116.39s/it]"
     ]
    },
    {
     "name": "stdout",
     "output_type": "stream",
     "text": [
      "    Evaluation Episode 0/1\n",
      "    Average Reward over last 50 episodes: -20572.86\n",
      "    Min Reward over last 50 episodes: -20789.07\n",
      "    Max Reward over last 50 episodes: -20243.95\n",
      "    Evaluation Average Reward: -20318.57\n",
      "\n",
      "Running combination 95/9555 with parameters: {'epsilon': 0.025, 'epsilon_decay': 0.995, 'alpha': 0.4, 'gamma': 0.2, 'no_change_after_lap': 120}\n",
      "    Training Episode 0/5\n"
     ]
    },
    {
     "name": "stderr",
     "output_type": "stream",
     "text": [
      "95it [3:24:26, 117.33s/it]"
     ]
    },
    {
     "name": "stdout",
     "output_type": "stream",
     "text": [
      "    Evaluation Episode 0/1\n",
      "    Average Reward over last 50 episodes: -24372.94\n",
      "    Min Reward over last 50 episodes: -24651.03\n",
      "    Max Reward over last 50 episodes: -24054.25\n",
      "    Evaluation Average Reward: -24577.27\n",
      "\n",
      "Running combination 96/9555 with parameters: {'epsilon': 0.0, 'epsilon_decay': 0.999, 'alpha': 0.2, 'gamma': 0.9, 'no_change_after_lap': 105}\n",
      "    Training Episode 0/5\n"
     ]
    },
    {
     "name": "stderr",
     "output_type": "stream",
     "text": [
      "96it [3:26:28, 118.80s/it]"
     ]
    },
    {
     "name": "stdout",
     "output_type": "stream",
     "text": [
      "    Evaluation Episode 0/1\n",
      "    Average Reward over last 50 episodes: -28208.26\n",
      "    Min Reward over last 50 episodes: -28329.60\n",
      "    Max Reward over last 50 episodes: -27963.64\n",
      "    Evaluation Average Reward: -28434.87\n",
      "\n",
      "Running combination 97/9555 with parameters: {'epsilon': 0.2, 'epsilon_decay': 0.99, 'alpha': 0.8, 'gamma': 1.0, 'no_change_after_lap': 100}\n",
      "    Training Episode 0/5\n"
     ]
    },
    {
     "name": "stderr",
     "output_type": "stream",
     "text": [
      "97it [3:28:32, 120.15s/it]"
     ]
    },
    {
     "name": "stdout",
     "output_type": "stream",
     "text": [
      "    Evaluation Episode 0/1\n",
      "    Average Reward over last 50 episodes: -29238.98\n",
      "    Min Reward over last 50 episodes: -29419.67\n",
      "    Max Reward over last 50 episodes: -29085.69\n",
      "    Evaluation Average Reward: -29271.65\n",
      "\n",
      "Running combination 98/9555 with parameters: {'epsilon': 0.1, 'epsilon_decay': 0.995, 'alpha': 0.0, 'gamma': 0.9, 'no_change_after_lap': 100}\n",
      "    Training Episode 0/5\n"
     ]
    },
    {
     "name": "stderr",
     "output_type": "stream",
     "text": [
      "98it [3:30:20, 116.64s/it]"
     ]
    },
    {
     "name": "stdout",
     "output_type": "stream",
     "text": [
      "    Evaluation Episode 0/1\n",
      "    Average Reward over last 50 episodes: -29456.20\n",
      "    Min Reward over last 50 episodes: -29553.39\n",
      "    Max Reward over last 50 episodes: -29219.85\n",
      "    Evaluation Average Reward: -29380.46\n",
      "\n",
      "Running combination 99/9555 with parameters: {'epsilon': 0.2, 'epsilon_decay': 0.999, 'alpha': 0.9, 'gamma': 0.8, 'no_change_after_lap': 120}\n",
      "    Training Episode 0/5\n"
     ]
    },
    {
     "name": "stderr",
     "output_type": "stream",
     "text": [
      "99it [3:32:22, 118.16s/it]"
     ]
    },
    {
     "name": "stdout",
     "output_type": "stream",
     "text": [
      "    Evaluation Episode 0/1\n",
      "    Average Reward over last 50 episodes: -24397.37\n",
      "    Min Reward over last 50 episodes: -24634.86\n",
      "    Max Reward over last 50 episodes: -24147.94\n",
      "    Evaluation Average Reward: -24251.36\n",
      "\n",
      "Running combination 100/9555 with parameters: {'epsilon': 0.2, 'epsilon_decay': 0.99, 'alpha': 1.0, 'gamma': 0.4, 'no_change_after_lap': 125}\n",
      "    Training Episode 0/5\n"
     ]
    },
    {
     "name": "stderr",
     "output_type": "stream",
     "text": [
      "100it [3:34:26, 119.87s/it]"
     ]
    },
    {
     "name": "stdout",
     "output_type": "stream",
     "text": [
      "    Evaluation Episode 0/1\n",
      "    Average Reward over last 50 episodes: -23027.06\n",
      "    Min Reward over last 50 episodes: -23352.50\n",
      "    Max Reward over last 50 episodes: -22779.78\n",
      "    Evaluation Average Reward: -22910.70\n",
      "\n",
      "Running combination 101/9555 with parameters: {'epsilon': 0.2, 'epsilon_decay': 0.995, 'alpha': 0.4, 'gamma': 0.4, 'no_change_after_lap': 105}\n",
      "    Training Episode 0/5\n"
     ]
    },
    {
     "name": "stderr",
     "output_type": "stream",
     "text": [
      "101it [3:36:24, 119.37s/it]"
     ]
    },
    {
     "name": "stdout",
     "output_type": "stream",
     "text": [
      "    Evaluation Episode 0/1\n",
      "    Average Reward over last 50 episodes: -28301.42\n",
      "    Min Reward over last 50 episodes: -28391.72\n",
      "    Max Reward over last 50 episodes: -28220.57\n",
      "    Evaluation Average Reward: -28663.31\n",
      "\n",
      "Running combination 102/9555 with parameters: {'epsilon': 0.025, 'epsilon_decay': 0.995, 'alpha': 0.2, 'gamma': 0.2, 'no_change_after_lap': 140}\n",
      "    Training Episode 0/5\n"
     ]
    },
    {
     "name": "stderr",
     "output_type": "stream",
     "text": [
      "102it [3:38:22, 118.86s/it]"
     ]
    },
    {
     "name": "stdout",
     "output_type": "stream",
     "text": [
      "    Evaluation Episode 0/1\n",
      "    Average Reward over last 50 episodes: -19400.24\n",
      "    Min Reward over last 50 episodes: -19589.31\n",
      "    Max Reward over last 50 episodes: -19132.40\n",
      "    Evaluation Average Reward: -19452.42\n",
      "SKIPPING\n",
      "\n",
      "Running combination 103/9555 with parameters: {'epsilon': 0.2, 'epsilon_decay': 0.99, 'alpha': 1.0, 'gamma': 0.9, 'no_change_after_lap': 110}\n",
      "    Training Episode 0/5\n"
     ]
    },
    {
     "name": "stderr",
     "output_type": "stream",
     "text": [
      "103it [3:40:24, 119.80s/it]"
     ]
    },
    {
     "name": "stdout",
     "output_type": "stream",
     "text": [
      "    Evaluation Episode 0/1\n",
      "    Average Reward over last 50 episodes: -26845.53\n",
      "    Min Reward over last 50 episodes: -27037.33\n",
      "    Max Reward over last 50 episodes: -26484.29\n",
      "    Evaluation Average Reward: -26916.44\n",
      "\n",
      "Running combination 104/9555 with parameters: {'epsilon': 0.05, 'epsilon_decay': 0.99, 'alpha': 0.6, 'gamma': 1.0, 'no_change_after_lap': 155}\n",
      "    Training Episode 0/5\n"
     ]
    },
    {
     "name": "stderr",
     "output_type": "stream",
     "text": [
      "104it [3:42:22, 119.28s/it]"
     ]
    },
    {
     "name": "stdout",
     "output_type": "stream",
     "text": [
      "    Evaluation Episode 0/1\n",
      "    Average Reward over last 50 episodes: -16334.90\n",
      "    Min Reward over last 50 episodes: -16387.48\n",
      "    Max Reward over last 50 episodes: -16272.86\n",
      "    Evaluation Average Reward: -16320.97\n",
      "\n",
      "Running combination 105/9555 with parameters: {'epsilon': 0.2, 'epsilon_decay': 0.99, 'alpha': 0.2, 'gamma': 0.0, 'no_change_after_lap': 120}\n",
      "    Training Episode 0/5\n"
     ]
    },
    {
     "name": "stderr",
     "output_type": "stream",
     "text": [
      "105it [3:44:21, 119.26s/it]"
     ]
    },
    {
     "name": "stdout",
     "output_type": "stream",
     "text": [
      "    Evaluation Episode 0/1\n",
      "    Average Reward over last 50 episodes: -24366.55\n",
      "    Min Reward over last 50 episodes: -24565.01\n",
      "    Max Reward over last 50 episodes: -24169.87\n",
      "    Evaluation Average Reward: -24172.85\n",
      "\n",
      "Running combination 106/9555 with parameters: {'epsilon': 0.05, 'epsilon_decay': 0.999, 'alpha': 0.9, 'gamma': 0.0, 'no_change_after_lap': 155}\n",
      "    Training Episode 0/5\n"
     ]
    },
    {
     "name": "stderr",
     "output_type": "stream",
     "text": [
      "106it [3:46:19, 118.93s/it]"
     ]
    },
    {
     "name": "stdout",
     "output_type": "stream",
     "text": [
      "    Evaluation Episode 0/1\n",
      "    Average Reward over last 50 episodes: -16317.35\n",
      "    Min Reward over last 50 episodes: -16398.29\n",
      "    Max Reward over last 50 episodes: -16220.86\n",
      "    Evaluation Average Reward: -16599.90\n",
      "\n",
      "Running combination 107/9555 with parameters: {'epsilon': 0.05, 'epsilon_decay': 0.995, 'alpha': 0.4, 'gamma': 0.0, 'no_change_after_lap': 150}\n",
      "    Training Episode 0/5\n"
     ]
    },
    {
     "name": "stderr",
     "output_type": "stream",
     "text": [
      "107it [3:48:15, 118.05s/it]"
     ]
    },
    {
     "name": "stdout",
     "output_type": "stream",
     "text": [
      "    Evaluation Episode 0/1\n",
      "    Average Reward over last 50 episodes: -17152.95\n",
      "    Min Reward over last 50 episodes: -17269.09\n",
      "    Max Reward over last 50 episodes: -16987.50\n",
      "    Evaluation Average Reward: -17196.21\n",
      "\n",
      "Running combination 108/9555 with parameters: {'epsilon': 0.05, 'epsilon_decay': 0.99, 'alpha': 0.0, 'gamma': 1.0, 'no_change_after_lap': 100}\n",
      "    Training Episode 0/5\n"
     ]
    },
    {
     "name": "stderr",
     "output_type": "stream",
     "text": [
      "108it [3:50:08, 116.63s/it]"
     ]
    },
    {
     "name": "stdout",
     "output_type": "stream",
     "text": [
      "    Evaluation Episode 0/1\n",
      "    Average Reward over last 50 episodes: -29503.56\n",
      "    Min Reward over last 50 episodes: -29604.44\n",
      "    Max Reward over last 50 episodes: -29317.53\n",
      "    Evaluation Average Reward: -29260.86\n",
      "\n",
      "Running combination 109/9555 with parameters: {'epsilon': 0.2, 'epsilon_decay': 0.995, 'alpha': 0.4, 'gamma': 1.0, 'no_change_after_lap': 145}\n",
      "    Training Episode 0/5\n"
     ]
    },
    {
     "name": "stderr",
     "output_type": "stream",
     "text": [
      "109it [3:52:04, 116.32s/it]"
     ]
    },
    {
     "name": "stdout",
     "output_type": "stream",
     "text": [
      "    Evaluation Episode 0/1\n",
      "    Average Reward over last 50 episodes: -18083.22\n",
      "    Min Reward over last 50 episodes: -18338.49\n",
      "    Max Reward over last 50 episodes: -17884.61\n",
      "    Evaluation Average Reward: -18346.02\n",
      "\n",
      "Running combination 110/9555 with parameters: {'epsilon': 0.025, 'epsilon_decay': 0.999, 'alpha': 0.6, 'gamma': 0.8, 'no_change_after_lap': 135}\n",
      "    Training Episode 0/5\n"
     ]
    },
    {
     "name": "stderr",
     "output_type": "stream",
     "text": [
      "110it [3:54:00, 116.23s/it]"
     ]
    },
    {
     "name": "stdout",
     "output_type": "stream",
     "text": [
      "    Evaluation Episode 0/1\n",
      "    Average Reward over last 50 episodes: -20465.05\n",
      "    Min Reward over last 50 episodes: -20594.04\n",
      "    Max Reward over last 50 episodes: -20334.22\n",
      "    Evaluation Average Reward: -20868.48\n",
      "\n",
      "Running combination 111/9555 with parameters: {'epsilon': 0.2, 'epsilon_decay': 0.995, 'alpha': 1.0, 'gamma': 1.0, 'no_change_after_lap': 145}\n",
      "    Training Episode 0/5\n"
     ]
    },
    {
     "name": "stderr",
     "output_type": "stream",
     "text": [
      "111it [3:55:59, 116.93s/it]"
     ]
    },
    {
     "name": "stdout",
     "output_type": "stream",
     "text": [
      "    Evaluation Episode 0/1\n",
      "    Average Reward over last 50 episodes: -18139.39\n",
      "    Min Reward over last 50 episodes: -18532.67\n",
      "    Max Reward over last 50 episodes: -17865.24\n",
      "    Evaluation Average Reward: -18064.75\n",
      "\n",
      "Running combination 112/9555 with parameters: {'epsilon': 0.05, 'epsilon_decay': 0.99, 'alpha': 1.0, 'gamma': 0.2, 'no_change_after_lap': 140}\n",
      "    Training Episode 0/5\n"
     ]
    },
    {
     "name": "stderr",
     "output_type": "stream",
     "text": [
      "112it [3:57:57, 117.38s/it]"
     ]
    },
    {
     "name": "stdout",
     "output_type": "stream",
     "text": [
      "    Evaluation Episode 0/1\n",
      "    Average Reward over last 50 episodes: -19195.04\n",
      "    Min Reward over last 50 episodes: -19390.07\n",
      "    Max Reward over last 50 episodes: -18992.91\n",
      "    Evaluation Average Reward: -19240.48\n",
      "\n",
      "Running combination 113/9555 with parameters: {'epsilon': 0.05, 'epsilon_decay': 0.999, 'alpha': 0.6, 'gamma': 0.9, 'no_change_after_lap': 100}\n",
      "    Training Episode 0/5\n"
     ]
    },
    {
     "name": "stderr",
     "output_type": "stream",
     "text": [
      "113it [3:59:51, 116.29s/it]"
     ]
    },
    {
     "name": "stdout",
     "output_type": "stream",
     "text": [
      "    Evaluation Episode 0/1\n",
      "    Average Reward over last 50 episodes: -29363.25\n",
      "    Min Reward over last 50 episodes: -29623.28\n",
      "    Max Reward over last 50 episodes: -28987.01\n",
      "    Evaluation Average Reward: -29673.94\n",
      "\n",
      "Running combination 114/9555 with parameters: {'epsilon': 0.2, 'epsilon_decay': 0.999, 'alpha': 0.2, 'gamma': 0.8, 'no_change_after_lap': 100}\n",
      "    Training Episode 0/5\n"
     ]
    },
    {
     "name": "stderr",
     "output_type": "stream",
     "text": [
      "114it [4:01:54, 118.38s/it]"
     ]
    },
    {
     "name": "stdout",
     "output_type": "stream",
     "text": [
      "    Evaluation Episode 0/1\n",
      "    Average Reward over last 50 episodes: -29329.62\n",
      "    Min Reward over last 50 episodes: -29734.62\n",
      "    Max Reward over last 50 episodes: -28957.74\n",
      "    Evaluation Average Reward: -29560.71\n",
      "\n",
      "Running combination 115/9555 with parameters: {'epsilon': 0.1, 'epsilon_decay': 0.99, 'alpha': 1.0, 'gamma': 0.0, 'no_change_after_lap': 135}\n",
      "    Training Episode 0/5\n"
     ]
    },
    {
     "name": "stderr",
     "output_type": "stream",
     "text": [
      "115it [4:03:53, 118.66s/it]"
     ]
    },
    {
     "name": "stdout",
     "output_type": "stream",
     "text": [
      "    Evaluation Episode 0/1\n",
      "    Average Reward over last 50 episodes: -20431.09\n",
      "    Min Reward over last 50 episodes: -20596.67\n",
      "    Max Reward over last 50 episodes: -20349.75\n",
      "    Evaluation Average Reward: -20423.75\n",
      "\n",
      "Running combination 116/9555 with parameters: {'epsilon': 0.1, 'epsilon_decay': 0.995, 'alpha': 0.0, 'gamma': 0.2, 'no_change_after_lap': 105}\n",
      "    Training Episode 0/5\n"
     ]
    },
    {
     "name": "stderr",
     "output_type": "stream",
     "text": [
      "116it [4:05:45, 116.70s/it]"
     ]
    },
    {
     "name": "stdout",
     "output_type": "stream",
     "text": [
      "    Evaluation Episode 0/1\n",
      "    Average Reward over last 50 episodes: -28161.95\n",
      "    Min Reward over last 50 episodes: -28333.73\n",
      "    Max Reward over last 50 episodes: -27961.33\n",
      "    Evaluation Average Reward: -28233.30\n",
      "\n",
      "Running combination 117/9555 with parameters: {'epsilon': 0.1, 'epsilon_decay': 0.99, 'alpha': 0.0, 'gamma': 1.0, 'no_change_after_lap': 105}\n",
      "    Training Episode 0/5\n"
     ]
    },
    {
     "name": "stderr",
     "output_type": "stream",
     "text": [
      "117it [4:07:34, 114.38s/it]"
     ]
    },
    {
     "name": "stdout",
     "output_type": "stream",
     "text": [
      "    Evaluation Episode 0/1\n",
      "    Average Reward over last 50 episodes: -27946.98\n",
      "    Min Reward over last 50 episodes: -28140.54\n",
      "    Max Reward over last 50 episodes: -27752.59\n",
      "    Evaluation Average Reward: -27866.73\n",
      "\n",
      "Running combination 118/9555 with parameters: {'epsilon': 0.1, 'epsilon_decay': 0.999, 'alpha': 0.6, 'gamma': 0.9, 'no_change_after_lap': 100}\n",
      "    Training Episode 0/5\n"
     ]
    },
    {
     "name": "stderr",
     "output_type": "stream",
     "text": [
      "118it [4:09:36, 116.45s/it]"
     ]
    },
    {
     "name": "stdout",
     "output_type": "stream",
     "text": [
      "    Evaluation Episode 0/1\n",
      "    Average Reward over last 50 episodes: -29479.97\n",
      "    Min Reward over last 50 episodes: -29766.80\n",
      "    Max Reward over last 50 episodes: -29039.39\n",
      "    Evaluation Average Reward: -29254.66\n",
      "\n",
      "Running combination 119/9555 with parameters: {'epsilon': 0.05, 'epsilon_decay': 0.99, 'alpha': 0.0, 'gamma': 0.6, 'no_change_after_lap': 110}\n",
      "    Training Episode 0/5\n"
     ]
    },
    {
     "name": "stderr",
     "output_type": "stream",
     "text": [
      "119it [4:11:15, 111.36s/it]"
     ]
    },
    {
     "name": "stdout",
     "output_type": "stream",
     "text": [
      "    Evaluation Episode 0/1\n",
      "    Average Reward over last 50 episodes: -26956.73\n",
      "    Min Reward over last 50 episodes: -27149.16\n",
      "    Max Reward over last 50 episodes: -26593.42\n",
      "    Evaluation Average Reward: -26756.44\n",
      "\n",
      "Running combination 120/9555 with parameters: {'epsilon': 0.0, 'epsilon_decay': 0.999, 'alpha': 0.2, 'gamma': 0.9, 'no_change_after_lap': 150}\n",
      "    Training Episode 0/5\n"
     ]
    },
    {
     "name": "stderr",
     "output_type": "stream",
     "text": [
      "120it [4:13:15, 113.85s/it]"
     ]
    },
    {
     "name": "stdout",
     "output_type": "stream",
     "text": [
      "    Evaluation Episode 0/1\n",
      "    Average Reward over last 50 episodes: -17015.84\n",
      "    Min Reward over last 50 episodes: -17118.13\n",
      "    Max Reward over last 50 episodes: -16840.88\n",
      "    Evaluation Average Reward: -17013.92\n",
      "\n",
      "Running combination 121/9555 with parameters: {'epsilon': 0.05, 'epsilon_decay': 0.999, 'alpha': 0.6, 'gamma': 0.6, 'no_change_after_lap': 160}\n",
      "    Training Episode 0/5\n"
     ]
    },
    {
     "name": "stderr",
     "output_type": "stream",
     "text": [
      "121it [4:15:10, 114.32s/it]"
     ]
    },
    {
     "name": "stdout",
     "output_type": "stream",
     "text": [
      "    Evaluation Episode 0/1\n",
      "    Average Reward over last 50 episodes: -16065.22\n",
      "    Min Reward over last 50 episodes: -16105.28\n",
      "    Max Reward over last 50 episodes: -15993.23\n",
      "    Evaluation Average Reward: -16089.45\n",
      "\n",
      "Running combination 122/9555 with parameters: {'epsilon': 0.2, 'epsilon_decay': 0.999, 'alpha': 0.6, 'gamma': 0.6, 'no_change_after_lap': 105}\n",
      "    Training Episode 0/5\n"
     ]
    },
    {
     "name": "stderr",
     "output_type": "stream",
     "text": [
      "122it [4:17:08, 115.49s/it]"
     ]
    },
    {
     "name": "stdout",
     "output_type": "stream",
     "text": [
      "    Evaluation Episode 0/1\n",
      "    Average Reward over last 50 episodes: -28116.82\n",
      "    Min Reward over last 50 episodes: -28373.49\n",
      "    Max Reward over last 50 episodes: -27842.81\n",
      "    Evaluation Average Reward: -27999.95\n",
      "\n",
      "Running combination 123/9555 with parameters: {'epsilon': 0.025, 'epsilon_decay': 0.999, 'alpha': 0.6, 'gamma': 0.8, 'no_change_after_lap': 140}\n",
      "    Training Episode 0/5\n"
     ]
    },
    {
     "name": "stderr",
     "output_type": "stream",
     "text": [
      "123it [4:19:09, 117.12s/it]"
     ]
    },
    {
     "name": "stdout",
     "output_type": "stream",
     "text": [
      "    Evaluation Episode 0/1\n",
      "    Average Reward over last 50 episodes: -19485.73\n",
      "    Min Reward over last 50 episodes: -19592.54\n",
      "    Max Reward over last 50 episodes: -19319.52\n",
      "    Evaluation Average Reward: -19456.93\n",
      "\n",
      "Running combination 124/9555 with parameters: {'epsilon': 0.1, 'epsilon_decay': 0.995, 'alpha': 0.9, 'gamma': 0.0, 'no_change_after_lap': 150}\n",
      "    Training Episode 0/5\n"
     ]
    },
    {
     "name": "stderr",
     "output_type": "stream",
     "text": [
      "124it [4:21:06, 116.85s/it]"
     ]
    },
    {
     "name": "stdout",
     "output_type": "stream",
     "text": [
      "    Evaluation Episode 0/1\n",
      "    Average Reward over last 50 episodes: -17178.45\n",
      "    Min Reward over last 50 episodes: -17303.43\n",
      "    Max Reward over last 50 episodes: -17002.59\n",
      "    Evaluation Average Reward: -16982.72\n",
      "\n",
      "Running combination 125/9555 with parameters: {'epsilon': 0.1, 'epsilon_decay': 0.999, 'alpha': 0.6, 'gamma': 0.9, 'no_change_after_lap': 145}\n",
      "    Training Episode 0/5\n"
     ]
    },
    {
     "name": "stderr",
     "output_type": "stream",
     "text": [
      "125it [4:23:06, 117.95s/it]"
     ]
    },
    {
     "name": "stdout",
     "output_type": "stream",
     "text": [
      "    Evaluation Episode 0/1\n",
      "    Average Reward over last 50 episodes: -18105.85\n",
      "    Min Reward over last 50 episodes: -18413.28\n",
      "    Max Reward over last 50 episodes: -17780.75\n",
      "    Evaluation Average Reward: -17947.98\n",
      "\n",
      "Running combination 126/9555 with parameters: {'epsilon': 0.2, 'epsilon_decay': 0.995, 'alpha': 0.9, 'gamma': 0.9, 'no_change_after_lap': 105}\n",
      "    Training Episode 0/5\n"
     ]
    },
    {
     "name": "stderr",
     "output_type": "stream",
     "text": [
      "126it [4:25:03, 117.50s/it]"
     ]
    },
    {
     "name": "stdout",
     "output_type": "stream",
     "text": [
      "    Evaluation Episode 0/1\n",
      "    Average Reward over last 50 episodes: -28229.90\n",
      "    Min Reward over last 50 episodes: -28412.87\n",
      "    Max Reward over last 50 episodes: -27878.48\n",
      "    Evaluation Average Reward: -28288.55\n",
      "\n",
      "Running combination 127/9555 with parameters: {'epsilon': 0.05, 'epsilon_decay': 0.999, 'alpha': 0.4, 'gamma': 0.4, 'no_change_after_lap': 130}\n",
      "    Training Episode 0/5\n"
     ]
    },
    {
     "name": "stderr",
     "output_type": "stream",
     "text": [
      "127it [4:27:04, 118.83s/it]"
     ]
    },
    {
     "name": "stdout",
     "output_type": "stream",
     "text": [
      "    Evaluation Episode 0/1\n",
      "    Average Reward over last 50 episodes: -21844.15\n",
      "    Min Reward over last 50 episodes: -22029.27\n",
      "    Max Reward over last 50 episodes: -21451.51\n",
      "    Evaluation Average Reward: -21894.30\n",
      "SKIPPING\n",
      "\n",
      "Running combination 128/9555 with parameters: {'epsilon': 0.05, 'epsilon_decay': 0.995, 'alpha': 0.4, 'gamma': 0.8, 'no_change_after_lap': 125}\n",
      "    Training Episode 0/5\n"
     ]
    },
    {
     "name": "stderr",
     "output_type": "stream",
     "text": [
      "128it [4:29:01, 118.23s/it]"
     ]
    },
    {
     "name": "stdout",
     "output_type": "stream",
     "text": [
      "    Evaluation Episode 0/1\n",
      "    Average Reward over last 50 episodes: -23009.22\n",
      "    Min Reward over last 50 episodes: -23098.29\n",
      "    Max Reward over last 50 episodes: -22885.71\n",
      "    Evaluation Average Reward: -23173.91\n",
      "\n",
      "Running combination 129/9555 with parameters: {'epsilon': 0.1, 'epsilon_decay': 0.999, 'alpha': 0.2, 'gamma': 1.0, 'no_change_after_lap': 130}\n",
      "    Training Episode 0/5\n"
     ]
    },
    {
     "name": "stderr",
     "output_type": "stream",
     "text": [
      "129it [4:30:58, 117.66s/it]"
     ]
    },
    {
     "name": "stdout",
     "output_type": "stream",
     "text": [
      "    Evaluation Episode 0/1\n",
      "    Average Reward over last 50 episodes: -21929.64\n",
      "    Min Reward over last 50 episodes: -22150.68\n",
      "    Max Reward over last 50 episodes: -21540.94\n",
      "    Evaluation Average Reward: -21752.94\n",
      "\n",
      "Running combination 130/9555 with parameters: {'epsilon': 0.0, 'epsilon_decay': 0.999, 'alpha': 1.0, 'gamma': 1.0, 'no_change_after_lap': 150}\n",
      "    Training Episode 0/5\n"
     ]
    },
    {
     "name": "stderr",
     "output_type": "stream",
     "text": [
      "130it [4:33:00, 119.09s/it]"
     ]
    },
    {
     "name": "stdout",
     "output_type": "stream",
     "text": [
      "    Evaluation Episode 0/1\n",
      "    Average Reward over last 50 episodes: -17062.21\n",
      "    Min Reward over last 50 episodes: -17224.22\n",
      "    Max Reward over last 50 episodes: -16910.78\n",
      "    Evaluation Average Reward: -17339.68\n",
      "\n",
      "Running combination 131/9555 with parameters: {'epsilon': 0.025, 'epsilon_decay': 0.999, 'alpha': 0.2, 'gamma': 0.0, 'no_change_after_lap': 160}\n",
      "    Training Episode 0/5\n"
     ]
    },
    {
     "name": "stderr",
     "output_type": "stream",
     "text": [
      "131it [4:34:56, 118.00s/it]"
     ]
    },
    {
     "name": "stdout",
     "output_type": "stream",
     "text": [
      "    Evaluation Episode 0/1\n",
      "    Average Reward over last 50 episodes: -16078.28\n",
      "    Min Reward over last 50 episodes: -16170.31\n",
      "    Max Reward over last 50 episodes: -15980.75\n",
      "    Evaluation Average Reward: -16061.71\n",
      "\n",
      "Running combination 132/9555 with parameters: {'epsilon': 0.0, 'epsilon_decay': 0.995, 'alpha': 0.0, 'gamma': 0.6, 'no_change_after_lap': 155}\n",
      "    Training Episode 0/5\n"
     ]
    },
    {
     "name": "stderr",
     "output_type": "stream",
     "text": [
      "132it [4:36:45, 115.49s/it]"
     ]
    },
    {
     "name": "stdout",
     "output_type": "stream",
     "text": [
      "    Evaluation Episode 0/1\n",
      "    Average Reward over last 50 episodes: -16276.36\n",
      "    Min Reward over last 50 episodes: -16354.19\n",
      "    Max Reward over last 50 episodes: -16209.98\n",
      "    Evaluation Average Reward: -16310.92\n",
      "\n",
      "Running combination 133/9555 with parameters: {'epsilon': 0.2, 'epsilon_decay': 0.99, 'alpha': 0.6, 'gamma': 0.4, 'no_change_after_lap': 140}\n",
      "    Training Episode 0/5\n"
     ]
    },
    {
     "name": "stderr",
     "output_type": "stream",
     "text": [
      "133it [4:38:42, 115.89s/it]"
     ]
    },
    {
     "name": "stdout",
     "output_type": "stream",
     "text": [
      "    Evaluation Episode 0/1\n",
      "    Average Reward over last 50 episodes: -19324.89\n",
      "    Min Reward over last 50 episodes: -19632.23\n",
      "    Max Reward over last 50 episodes: -19092.02\n",
      "    Evaluation Average Reward: -19409.43\n",
      "\n",
      "Running combination 134/9555 with parameters: {'epsilon': 0.0, 'epsilon_decay': 0.995, 'alpha': 0.8, 'gamma': 0.2, 'no_change_after_lap': 160}\n",
      "    Training Episode 0/5\n"
     ]
    },
    {
     "name": "stderr",
     "output_type": "stream",
     "text": [
      "134it [4:40:42, 117.01s/it]"
     ]
    },
    {
     "name": "stdout",
     "output_type": "stream",
     "text": [
      "    Evaluation Episode 0/1\n",
      "    Average Reward over last 50 episodes: -16085.77\n",
      "    Min Reward over last 50 episodes: -16174.95\n",
      "    Max Reward over last 50 episodes: -16021.97\n",
      "    Evaluation Average Reward: -16031.96\n",
      "\n",
      "Running combination 135/9555 with parameters: {'epsilon': 0.0, 'epsilon_decay': 0.99, 'alpha': 0.6, 'gamma': 1.0, 'no_change_after_lap': 100}\n",
      "    Training Episode 0/5\n"
     ]
    },
    {
     "name": "stderr",
     "output_type": "stream",
     "text": [
      "135it [4:42:38, 116.72s/it]"
     ]
    },
    {
     "name": "stdout",
     "output_type": "stream",
     "text": [
      "    Evaluation Episode 0/1\n",
      "    Average Reward over last 50 episodes: -29390.61\n",
      "    Min Reward over last 50 episodes: -29664.51\n",
      "    Max Reward over last 50 episodes: -29001.11\n",
      "    Evaluation Average Reward: -29569.08\n",
      "\n",
      "Running combination 136/9555 with parameters: {'epsilon': 0.0, 'epsilon_decay': 0.99, 'alpha': 1.0, 'gamma': 0.6, 'no_change_after_lap': 115}\n",
      "    Training Episode 0/5\n"
     ]
    },
    {
     "name": "stderr",
     "output_type": "stream",
     "text": [
      "136it [4:44:24, 113.68s/it]"
     ]
    },
    {
     "name": "stdout",
     "output_type": "stream",
     "text": [
      "    Evaluation Episode 0/1\n",
      "    Average Reward over last 50 episodes: -25690.22\n",
      "    Min Reward over last 50 episodes: -25933.52\n",
      "    Max Reward over last 50 episodes: -25428.25\n",
      "    Evaluation Average Reward: -25637.26\n",
      "\n",
      "Running combination 137/9555 with parameters: {'epsilon': 0.0, 'epsilon_decay': 0.995, 'alpha': 0.4, 'gamma': 0.4, 'no_change_after_lap': 145}\n",
      "    Training Episode 0/5\n"
     ]
    },
    {
     "name": "stderr",
     "output_type": "stream",
     "text": [
      "137it [4:46:18, 113.59s/it]"
     ]
    },
    {
     "name": "stdout",
     "output_type": "stream",
     "text": [
      "    Evaluation Episode 0/1\n",
      "    Average Reward over last 50 episodes: -18072.61\n",
      "    Min Reward over last 50 episodes: -18205.38\n",
      "    Max Reward over last 50 episodes: -17961.11\n",
      "    Evaluation Average Reward: -17993.82\n",
      "\n",
      "Running combination 138/9555 with parameters: {'epsilon': 0.0, 'epsilon_decay': 0.999, 'alpha': 1.0, 'gamma': 0.6, 'no_change_after_lap': 120}\n",
      "    Training Episode 0/5\n"
     ]
    },
    {
     "name": "stderr",
     "output_type": "stream",
     "text": [
      "138it [4:48:13, 114.11s/it]"
     ]
    },
    {
     "name": "stdout",
     "output_type": "stream",
     "text": [
      "    Evaluation Episode 0/1\n",
      "    Average Reward over last 50 episodes: -24397.05\n",
      "    Min Reward over last 50 episodes: -24621.63\n",
      "    Max Reward over last 50 episodes: -24236.15\n",
      "    Evaluation Average Reward: -24160.59\n",
      "\n",
      "Running combination 139/9555 with parameters: {'epsilon': 0.1, 'epsilon_decay': 0.99, 'alpha': 0.9, 'gamma': 0.8, 'no_change_after_lap': 125}\n",
      "    Training Episode 0/5\n"
     ]
    },
    {
     "name": "stderr",
     "output_type": "stream",
     "text": [
      "139it [4:50:11, 115.34s/it]"
     ]
    },
    {
     "name": "stdout",
     "output_type": "stream",
     "text": [
      "    Evaluation Episode 0/1\n",
      "    Average Reward over last 50 episodes: -23047.41\n",
      "    Min Reward over last 50 episodes: -23311.34\n",
      "    Max Reward over last 50 episodes: -22785.94\n",
      "    Evaluation Average Reward: -22854.11\n",
      "\n",
      "Running combination 140/9555 with parameters: {'epsilon': 0.1, 'epsilon_decay': 0.99, 'alpha': 0.8, 'gamma': 0.4, 'no_change_after_lap': 110}\n",
      "    Training Episode 0/5\n"
     ]
    },
    {
     "name": "stderr",
     "output_type": "stream",
     "text": [
      "140it [4:52:10, 116.30s/it]"
     ]
    },
    {
     "name": "stdout",
     "output_type": "stream",
     "text": [
      "    Evaluation Episode 0/1\n",
      "    Average Reward over last 50 episodes: -26853.17\n",
      "    Min Reward over last 50 episodes: -27122.43\n",
      "    Max Reward over last 50 episodes: -26540.46\n",
      "    Evaluation Average Reward: -26676.30\n",
      "\n",
      "Running combination 141/9555 with parameters: {'epsilon': 0.025, 'epsilon_decay': 0.99, 'alpha': 0.8, 'gamma': 0.9, 'no_change_after_lap': 160}\n",
      "    Training Episode 0/5\n"
     ]
    },
    {
     "name": "stderr",
     "output_type": "stream",
     "text": [
      "141it [4:54:08, 116.92s/it]"
     ]
    },
    {
     "name": "stdout",
     "output_type": "stream",
     "text": [
      "    Evaluation Episode 0/1\n",
      "    Average Reward over last 50 episodes: -16097.60\n",
      "    Min Reward over last 50 episodes: -16145.80\n",
      "    Max Reward over last 50 episodes: -16000.31\n",
      "    Evaluation Average Reward: -16003.37\n",
      "\n",
      "Running combination 142/9555 with parameters: {'epsilon': 0.0, 'epsilon_decay': 0.999, 'alpha': 0.4, 'gamma': 0.8, 'no_change_after_lap': 115}\n",
      "    Training Episode 0/5\n"
     ]
    },
    {
     "name": "stderr",
     "output_type": "stream",
     "text": [
      "142it [4:56:07, 117.49s/it]"
     ]
    },
    {
     "name": "stdout",
     "output_type": "stream",
     "text": [
      "    Evaluation Episode 0/1\n",
      "    Average Reward over last 50 episodes: -25483.46\n",
      "    Min Reward over last 50 episodes: -25765.95\n",
      "    Max Reward over last 50 episodes: -25253.43\n",
      "    Evaluation Average Reward: -25952.70\n",
      "\n",
      "Running combination 143/9555 with parameters: {'epsilon': 0.2, 'epsilon_decay': 0.99, 'alpha': 1.0, 'gamma': 0.6, 'no_change_after_lap': 140}\n",
      "    Training Episode 0/5\n"
     ]
    },
    {
     "name": "stderr",
     "output_type": "stream",
     "text": [
      "143it [4:58:07, 118.41s/it]"
     ]
    },
    {
     "name": "stdout",
     "output_type": "stream",
     "text": [
      "    Evaluation Episode 0/1\n",
      "    Average Reward over last 50 episodes: -19284.22\n",
      "    Min Reward over last 50 episodes: -19504.34\n",
      "    Max Reward over last 50 episodes: -19055.59\n",
      "    Evaluation Average Reward: -19753.68\n",
      "\n",
      "Running combination 144/9555 with parameters: {'epsilon': 0.0, 'epsilon_decay': 0.99, 'alpha': 0.0, 'gamma': 0.0, 'no_change_after_lap': 105}\n",
      "    Training Episode 0/5\n"
     ]
    },
    {
     "name": "stderr",
     "output_type": "stream",
     "text": [
      "144it [4:59:56, 115.58s/it]"
     ]
    },
    {
     "name": "stdout",
     "output_type": "stream",
     "text": [
      "    Evaluation Episode 0/1\n",
      "    Average Reward over last 50 episodes: -28058.58\n",
      "    Min Reward over last 50 episodes: -28276.22\n",
      "    Max Reward over last 50 episodes: -27795.77\n",
      "    Evaluation Average Reward: -27959.05\n",
      "SKIPPING\n",
      "\n",
      "Running combination 145/9555 with parameters: {'epsilon': 0.2, 'epsilon_decay': 0.995, 'alpha': 0.2, 'gamma': 0.0, 'no_change_after_lap': 120}\n",
      "    Training Episode 0/5\n"
     ]
    },
    {
     "name": "stderr",
     "output_type": "stream",
     "text": [
      "145it [5:01:57, 116.96s/it]"
     ]
    },
    {
     "name": "stdout",
     "output_type": "stream",
     "text": [
      "    Evaluation Episode 0/1\n",
      "    Average Reward over last 50 episodes: -24375.80\n",
      "    Min Reward over last 50 episodes: -24559.39\n",
      "    Max Reward over last 50 episodes: -24158.11\n",
      "    Evaluation Average Reward: -24163.42\n",
      "\n",
      "Running combination 146/9555 with parameters: {'epsilon': 0.05, 'epsilon_decay': 0.999, 'alpha': 0.6, 'gamma': 1.0, 'no_change_after_lap': 145}\n",
      "    Training Episode 0/5\n"
     ]
    },
    {
     "name": "stderr",
     "output_type": "stream",
     "text": [
      "146it [5:03:47, 115.00s/it]"
     ]
    },
    {
     "name": "stdout",
     "output_type": "stream",
     "text": [
      "    Evaluation Episode 0/1\n",
      "    Average Reward over last 50 episodes: -18300.73\n",
      "    Min Reward over last 50 episodes: -18395.17\n",
      "    Max Reward over last 50 episodes: -18058.79\n",
      "    Evaluation Average Reward: -18094.77\n",
      "\n",
      "Running combination 147/9555 with parameters: {'epsilon': 0.1, 'epsilon_decay': 0.995, 'alpha': 0.8, 'gamma': 0.6, 'no_change_after_lap': 160}\n",
      "    Training Episode 0/5\n"
     ]
    },
    {
     "name": "stderr",
     "output_type": "stream",
     "text": [
      "147it [5:05:46, 116.06s/it]"
     ]
    },
    {
     "name": "stdout",
     "output_type": "stream",
     "text": [
      "    Evaluation Episode 0/1\n",
      "    Average Reward over last 50 episodes: -16068.80\n",
      "    Min Reward over last 50 episodes: -16127.46\n",
      "    Max Reward over last 50 episodes: -15997.72\n",
      "    Evaluation Average Reward: -16113.26\n",
      "\n",
      "Running combination 148/9555 with parameters: {'epsilon': 0.0, 'epsilon_decay': 0.995, 'alpha': 0.8, 'gamma': 0.8, 'no_change_after_lap': 145}\n",
      "    Training Episode 0/5\n"
     ]
    },
    {
     "name": "stderr",
     "output_type": "stream",
     "text": [
      "148it [5:07:42, 116.24s/it]"
     ]
    },
    {
     "name": "stdout",
     "output_type": "stream",
     "text": [
      "    Evaluation Episode 0/1\n",
      "    Average Reward over last 50 episodes: -18155.57\n",
      "    Min Reward over last 50 episodes: -18347.12\n",
      "    Max Reward over last 50 episodes: -17991.28\n",
      "    Evaluation Average Reward: -18332.09\n",
      "\n",
      "Running combination 149/9555 with parameters: {'epsilon': 0.2, 'epsilon_decay': 0.995, 'alpha': 0.9, 'gamma': 0.0, 'no_change_after_lap': 160}\n",
      "    Training Episode 0/5\n"
     ]
    },
    {
     "name": "stderr",
     "output_type": "stream",
     "text": [
      "149it [5:09:42, 117.16s/it]"
     ]
    },
    {
     "name": "stdout",
     "output_type": "stream",
     "text": [
      "    Evaluation Episode 0/1\n",
      "    Average Reward over last 50 episodes: -16036.20\n",
      "    Min Reward over last 50 episodes: -16087.19\n",
      "    Max Reward over last 50 episodes: -15967.77\n",
      "    Evaluation Average Reward: -16045.65\n",
      "\n",
      "Running combination 150/9555 with parameters: {'epsilon': 0.025, 'epsilon_decay': 0.999, 'alpha': 0.4, 'gamma': 0.9, 'no_change_after_lap': 140}\n",
      "    Training Episode 0/5\n"
     ]
    },
    {
     "name": "stderr",
     "output_type": "stream",
     "text": [
      "150it [5:11:43, 118.48s/it]"
     ]
    },
    {
     "name": "stdout",
     "output_type": "stream",
     "text": [
      "    Evaluation Episode 0/1\n",
      "    Average Reward over last 50 episodes: -19298.79\n",
      "    Min Reward over last 50 episodes: -19615.06\n",
      "    Max Reward over last 50 episodes: -19032.22\n",
      "    Evaluation Average Reward: -19400.39\n",
      "\n",
      "Running combination 151/9555 with parameters: {'epsilon': 0.1, 'epsilon_decay': 0.999, 'alpha': 0.8, 'gamma': 0.9, 'no_change_after_lap': 130}\n",
      "    Training Episode 0/5\n"
     ]
    },
    {
     "name": "stderr",
     "output_type": "stream",
     "text": [
      "151it [5:13:40, 118.14s/it]"
     ]
    },
    {
     "name": "stdout",
     "output_type": "stream",
     "text": [
      "    Evaluation Episode 0/1\n",
      "    Average Reward over last 50 episodes: -21981.05\n",
      "    Min Reward over last 50 episodes: -22173.84\n",
      "    Max Reward over last 50 episodes: -21782.17\n",
      "    Evaluation Average Reward: -21824.45\n",
      "\n",
      "Running combination 152/9555 with parameters: {'epsilon': 0.05, 'epsilon_decay': 0.995, 'alpha': 0.4, 'gamma': 0.8, 'no_change_after_lap': 135}\n",
      "    Training Episode 0/5\n"
     ]
    },
    {
     "name": "stderr",
     "output_type": "stream",
     "text": [
      "152it [5:15:42, 119.04s/it]"
     ]
    },
    {
     "name": "stdout",
     "output_type": "stream",
     "text": [
      "    Evaluation Episode 0/1\n",
      "    Average Reward over last 50 episodes: -20676.66\n",
      "    Min Reward over last 50 episodes: -20825.35\n",
      "    Max Reward over last 50 episodes: -20487.90\n",
      "    Evaluation Average Reward: -20920.79\n",
      "SKIPPING\n",
      "SKIPPING\n",
      "\n",
      "Running combination 153/9555 with parameters: {'epsilon': 0.05, 'epsilon_decay': 0.999, 'alpha': 0.9, 'gamma': 0.9, 'no_change_after_lap': 110}\n",
      "    Training Episode 0/5\n"
     ]
    },
    {
     "name": "stderr",
     "output_type": "stream",
     "text": [
      "153it [5:17:42, 119.38s/it]"
     ]
    },
    {
     "name": "stdout",
     "output_type": "stream",
     "text": [
      "    Evaluation Episode 0/1\n",
      "    Average Reward over last 50 episodes: -26878.74\n",
      "    Min Reward over last 50 episodes: -27106.28\n",
      "    Max Reward over last 50 episodes: -26702.60\n",
      "    Evaluation Average Reward: -27098.99\n",
      "\n",
      "Running combination 154/9555 with parameters: {'epsilon': 0.025, 'epsilon_decay': 0.99, 'alpha': 0.6, 'gamma': 0.8, 'no_change_after_lap': 100}\n",
      "    Training Episode 0/5\n"
     ]
    },
    {
     "name": "stderr",
     "output_type": "stream",
     "text": [
      "154it [5:19:41, 119.42s/it]"
     ]
    },
    {
     "name": "stdout",
     "output_type": "stream",
     "text": [
      "    Evaluation Episode 0/1\n",
      "    Average Reward over last 50 episodes: -29402.50\n",
      "    Min Reward over last 50 episodes: -29651.10\n",
      "    Max Reward over last 50 episodes: -29131.31\n",
      "    Evaluation Average Reward: -29712.78\n",
      "\n",
      "Running combination 155/9555 with parameters: {'epsilon': 0.1, 'epsilon_decay': 0.999, 'alpha': 0.8, 'gamma': 0.6, 'no_change_after_lap': 100}\n",
      "    Training Episode 0/5\n"
     ]
    },
    {
     "name": "stderr",
     "output_type": "stream",
     "text": [
      "155it [5:21:41, 119.54s/it]"
     ]
    },
    {
     "name": "stdout",
     "output_type": "stream",
     "text": [
      "    Evaluation Episode 0/1\n",
      "    Average Reward over last 50 episodes: -29579.18\n",
      "    Min Reward over last 50 episodes: -29633.41\n",
      "    Max Reward over last 50 episodes: -29474.80\n",
      "    Evaluation Average Reward: -29039.70\n",
      "\n",
      "Running combination 156/9555 with parameters: {'epsilon': 0.1, 'epsilon_decay': 0.995, 'alpha': 0.6, 'gamma': 0.6, 'no_change_after_lap': 100}\n",
      "    Training Episode 0/5\n"
     ]
    },
    {
     "name": "stderr",
     "output_type": "stream",
     "text": [
      "156it [5:23:40, 119.22s/it]"
     ]
    },
    {
     "name": "stdout",
     "output_type": "stream",
     "text": [
      "    Evaluation Episode 0/1\n",
      "    Average Reward over last 50 episodes: -29323.53\n",
      "    Min Reward over last 50 episodes: -29573.39\n",
      "    Max Reward over last 50 episodes: -29008.77\n",
      "    Evaluation Average Reward: -29351.79\n",
      "\n",
      "Running combination 157/9555 with parameters: {'epsilon': 0.025, 'epsilon_decay': 0.99, 'alpha': 0.8, 'gamma': 0.9, 'no_change_after_lap': 110}\n",
      "    Training Episode 0/5\n"
     ]
    },
    {
     "name": "stderr",
     "output_type": "stream",
     "text": [
      "157it [5:25:32, 117.16s/it]"
     ]
    },
    {
     "name": "stdout",
     "output_type": "stream",
     "text": [
      "    Evaluation Episode 0/1\n",
      "    Average Reward over last 50 episodes: -27032.32\n",
      "    Min Reward over last 50 episodes: -27129.22\n",
      "    Max Reward over last 50 episodes: -26879.98\n",
      "    Evaluation Average Reward: -26775.72\n",
      "\n",
      "Running combination 158/9555 with parameters: {'epsilon': 0.1, 'epsilon_decay': 0.995, 'alpha': 1.0, 'gamma': 1.0, 'no_change_after_lap': 135}\n",
      "    Training Episode 0/5\n"
     ]
    },
    {
     "name": "stderr",
     "output_type": "stream",
     "text": [
      "158it [5:27:31, 117.78s/it]"
     ]
    },
    {
     "name": "stdout",
     "output_type": "stream",
     "text": [
      "    Evaluation Episode 0/1\n",
      "    Average Reward over last 50 episodes: -20597.43\n",
      "    Min Reward over last 50 episodes: -20830.72\n",
      "    Max Reward over last 50 episodes: -20487.02\n",
      "    Evaluation Average Reward: -20444.38\n",
      "\n",
      "Running combination 159/9555 with parameters: {'epsilon': 0.2, 'epsilon_decay': 0.99, 'alpha': 0.4, 'gamma': 0.8, 'no_change_after_lap': 160}\n",
      "    Training Episode 0/5\n"
     ]
    },
    {
     "name": "stderr",
     "output_type": "stream",
     "text": [
      "159it [5:29:32, 118.70s/it]"
     ]
    },
    {
     "name": "stdout",
     "output_type": "stream",
     "text": [
      "    Evaluation Episode 0/1\n",
      "    Average Reward over last 50 episodes: -16054.98\n",
      "    Min Reward over last 50 episodes: -16082.54\n",
      "    Max Reward over last 50 episodes: -16039.77\n",
      "    Evaluation Average Reward: -16019.68\n",
      "\n",
      "Running combination 160/9555 with parameters: {'epsilon': 0.025, 'epsilon_decay': 0.999, 'alpha': 0.4, 'gamma': 0.6, 'no_change_after_lap': 135}\n",
      "    Training Episode 0/5\n"
     ]
    },
    {
     "name": "stderr",
     "output_type": "stream",
     "text": [
      "160it [5:31:26, 117.33s/it]"
     ]
    },
    {
     "name": "stdout",
     "output_type": "stream",
     "text": [
      "    Evaluation Episode 0/1\n",
      "    Average Reward over last 50 episodes: -20647.32\n",
      "    Min Reward over last 50 episodes: -20846.82\n",
      "    Max Reward over last 50 episodes: -20395.10\n",
      "    Evaluation Average Reward: -20602.79\n",
      "\n",
      "Running combination 161/9555 with parameters: {'epsilon': 0.0, 'epsilon_decay': 0.99, 'alpha': 0.4, 'gamma': 1.0, 'no_change_after_lap': 100}\n",
      "    Training Episode 0/5\n"
     ]
    },
    {
     "name": "stderr",
     "output_type": "stream",
     "text": [
      "161it [5:33:26, 118.24s/it]"
     ]
    },
    {
     "name": "stdout",
     "output_type": "stream",
     "text": [
      "    Evaluation Episode 0/1\n",
      "    Average Reward over last 50 episodes: -29426.76\n",
      "    Min Reward over last 50 episodes: -29723.21\n",
      "    Max Reward over last 50 episodes: -29112.67\n",
      "    Evaluation Average Reward: -29057.47\n",
      "\n",
      "Running combination 162/9555 with parameters: {'epsilon': 0.2, 'epsilon_decay': 0.999, 'alpha': 0.9, 'gamma': 1.0, 'no_change_after_lap': 120}\n",
      "    Training Episode 0/5\n"
     ]
    },
    {
     "name": "stderr",
     "output_type": "stream",
     "text": [
      "162it [5:35:25, 118.23s/it]"
     ]
    },
    {
     "name": "stdout",
     "output_type": "stream",
     "text": [
      "    Evaluation Episode 0/1\n",
      "    Average Reward over last 50 episodes: -24303.34\n",
      "    Min Reward over last 50 episodes: -24483.04\n",
      "    Max Reward over last 50 episodes: -24038.65\n",
      "    Evaluation Average Reward: -24163.43\n",
      "\n",
      "Running combination 163/9555 with parameters: {'epsilon': 0.1, 'epsilon_decay': 0.995, 'alpha': 0.6, 'gamma': 0.2, 'no_change_after_lap': 100}\n",
      "    Training Episode 0/5\n"
     ]
    },
    {
     "name": "stderr",
     "output_type": "stream",
     "text": [
      "163it [5:37:27, 119.59s/it]"
     ]
    },
    {
     "name": "stdout",
     "output_type": "stream",
     "text": [
      "    Evaluation Episode 0/1\n",
      "    Average Reward over last 50 episodes: -29394.25\n",
      "    Min Reward over last 50 episodes: -29642.73\n",
      "    Max Reward over last 50 episodes: -29175.26\n",
      "    Evaluation Average Reward: -29117.03\n",
      "\n",
      "Running combination 164/9555 with parameters: {'epsilon': 0.1, 'epsilon_decay': 0.999, 'alpha': 0.9, 'gamma': 0.9, 'no_change_after_lap': 105}\n",
      "    Training Episode 0/5\n"
     ]
    },
    {
     "name": "stderr",
     "output_type": "stream",
     "text": [
      "164it [5:39:23, 118.25s/it]"
     ]
    },
    {
     "name": "stdout",
     "output_type": "stream",
     "text": [
      "    Evaluation Episode 0/1\n",
      "    Average Reward over last 50 episodes: -28187.34\n",
      "    Min Reward over last 50 episodes: -28324.08\n",
      "    Max Reward over last 50 episodes: -27944.90\n",
      "    Evaluation Average Reward: -27978.22\n",
      "\n",
      "Running combination 165/9555 with parameters: {'epsilon': 0.05, 'epsilon_decay': 0.995, 'alpha': 0.9, 'gamma': 0.6, 'no_change_after_lap': 120}\n",
      "    Training Episode 0/5\n"
     ]
    },
    {
     "name": "stderr",
     "output_type": "stream",
     "text": [
      "165it [5:41:21, 118.27s/it]"
     ]
    },
    {
     "name": "stdout",
     "output_type": "stream",
     "text": [
      "    Evaluation Episode 0/1\n",
      "    Average Reward over last 50 episodes: -24148.25\n",
      "    Min Reward over last 50 episodes: -24462.06\n",
      "    Max Reward over last 50 episodes: -23972.02\n",
      "    Evaluation Average Reward: -24422.46\n",
      "\n",
      "Running combination 166/9555 with parameters: {'epsilon': 0.1, 'epsilon_decay': 0.99, 'alpha': 0.6, 'gamma': 0.9, 'no_change_after_lap': 135}\n",
      "    Training Episode 0/5\n"
     ]
    },
    {
     "name": "stderr",
     "output_type": "stream",
     "text": [
      "166it [5:43:24, 119.66s/it]"
     ]
    },
    {
     "name": "stdout",
     "output_type": "stream",
     "text": [
      "    Evaluation Episode 0/1\n",
      "    Average Reward over last 50 episodes: -20425.44\n",
      "    Min Reward over last 50 episodes: -20609.42\n",
      "    Max Reward over last 50 episodes: -20197.82\n",
      "    Evaluation Average Reward: -20232.44\n",
      "\n",
      "Running combination 167/9555 with parameters: {'epsilon': 0.05, 'epsilon_decay': 0.999, 'alpha': 0.9, 'gamma': 0.9, 'no_change_after_lap': 105}\n",
      "    Training Episode 0/5\n"
     ]
    },
    {
     "name": "stderr",
     "output_type": "stream",
     "text": [
      "167it [5:45:16, 117.49s/it]"
     ]
    },
    {
     "name": "stdout",
     "output_type": "stream",
     "text": [
      "    Evaluation Episode 0/1\n",
      "    Average Reward over last 50 episodes: -28334.23\n",
      "    Min Reward over last 50 episodes: -28479.56\n",
      "    Max Reward over last 50 episodes: -28136.51\n",
      "    Evaluation Average Reward: -28123.49\n",
      "\n",
      "Running combination 168/9555 with parameters: {'epsilon': 0.2, 'epsilon_decay': 0.995, 'alpha': 1.0, 'gamma': 0.9, 'no_change_after_lap': 130}\n",
      "    Training Episode 0/5\n"
     ]
    },
    {
     "name": "stderr",
     "output_type": "stream",
     "text": [
      "168it [5:47:15, 117.94s/it]"
     ]
    },
    {
     "name": "stdout",
     "output_type": "stream",
     "text": [
      "    Evaluation Episode 0/1\n",
      "    Average Reward over last 50 episodes: -21816.30\n",
      "    Min Reward over last 50 episodes: -22039.92\n",
      "    Max Reward over last 50 episodes: -21550.40\n",
      "    Evaluation Average Reward: -21705.14\n",
      "\n",
      "Running combination 169/9555 with parameters: {'epsilon': 0.05, 'epsilon_decay': 0.99, 'alpha': 0.2, 'gamma': 1.0, 'no_change_after_lap': 105}\n",
      "    Training Episode 0/5\n"
     ]
    },
    {
     "name": "stderr",
     "output_type": "stream",
     "text": [
      "169it [5:49:14, 118.22s/it]"
     ]
    },
    {
     "name": "stdout",
     "output_type": "stream",
     "text": [
      "    Evaluation Episode 0/1\n",
      "    Average Reward over last 50 episodes: -28134.75\n",
      "    Min Reward over last 50 episodes: -28354.71\n",
      "    Max Reward over last 50 episodes: -27771.76\n",
      "    Evaluation Average Reward: -27958.64\n",
      "\n",
      "Running combination 170/9555 with parameters: {'epsilon': 0.025, 'epsilon_decay': 0.995, 'alpha': 0.6, 'gamma': 0.6, 'no_change_after_lap': 110}\n",
      "    Training Episode 0/5\n"
     ]
    },
    {
     "name": "stderr",
     "output_type": "stream",
     "text": [
      "170it [5:51:10, 117.51s/it]"
     ]
    },
    {
     "name": "stdout",
     "output_type": "stream",
     "text": [
      "    Evaluation Episode 0/1\n",
      "    Average Reward over last 50 episodes: -26801.18\n",
      "    Min Reward over last 50 episodes: -27091.41\n",
      "    Max Reward over last 50 episodes: -26462.98\n",
      "    Evaluation Average Reward: -26618.33\n",
      "\n",
      "Running combination 171/9555 with parameters: {'epsilon': 0.025, 'epsilon_decay': 0.995, 'alpha': 0.9, 'gamma': 0.8, 'no_change_after_lap': 110}\n",
      "    Training Episode 0/5\n"
     ]
    },
    {
     "name": "stderr",
     "output_type": "stream",
     "text": [
      "171it [5:53:09, 118.05s/it]"
     ]
    },
    {
     "name": "stdout",
     "output_type": "stream",
     "text": [
      "    Evaluation Episode 0/1\n",
      "    Average Reward over last 50 episodes: -27030.21\n",
      "    Min Reward over last 50 episodes: -27235.68\n",
      "    Max Reward over last 50 episodes: -26838.24\n",
      "    Evaluation Average Reward: -26605.78\n",
      "\n",
      "Running combination 172/9555 with parameters: {'epsilon': 0.0, 'epsilon_decay': 0.999, 'alpha': 0.0, 'gamma': 0.0, 'no_change_after_lap': 130}\n",
      "    Training Episode 0/5\n"
     ]
    },
    {
     "name": "stderr",
     "output_type": "stream",
     "text": [
      "172it [5:54:57, 114.90s/it]"
     ]
    },
    {
     "name": "stdout",
     "output_type": "stream",
     "text": [
      "    Evaluation Episode 0/1\n",
      "    Average Reward over last 50 episodes: -21929.46\n",
      "    Min Reward over last 50 episodes: -22048.64\n",
      "    Max Reward over last 50 episodes: -21669.69\n",
      "    Evaluation Average Reward: -21940.77\n",
      "\n",
      "Running combination 173/9555 with parameters: {'epsilon': 0.0, 'epsilon_decay': 0.995, 'alpha': 0.2, 'gamma': 0.4, 'no_change_after_lap': 105}\n",
      "    Training Episode 0/5\n"
     ]
    },
    {
     "name": "stderr",
     "output_type": "stream",
     "text": [
      "173it [5:56:54, 115.66s/it]"
     ]
    },
    {
     "name": "stdout",
     "output_type": "stream",
     "text": [
      "    Evaluation Episode 0/1\n",
      "    Average Reward over last 50 episodes: -28211.07\n",
      "    Min Reward over last 50 episodes: -28415.25\n",
      "    Max Reward over last 50 episodes: -27848.08\n",
      "    Evaluation Average Reward: -28359.99\n",
      "\n",
      "Running combination 174/9555 with parameters: {'epsilon': 0.0, 'epsilon_decay': 0.995, 'alpha': 0.9, 'gamma': 0.6, 'no_change_after_lap': 100}\n",
      "    Training Episode 0/5\n"
     ]
    },
    {
     "name": "stderr",
     "output_type": "stream",
     "text": [
      "174it [5:58:53, 116.54s/it]"
     ]
    },
    {
     "name": "stdout",
     "output_type": "stream",
     "text": [
      "    Evaluation Episode 0/1\n",
      "    Average Reward over last 50 episodes: -29305.67\n",
      "    Min Reward over last 50 episodes: -29615.36\n",
      "    Max Reward over last 50 episodes: -29084.15\n",
      "    Evaluation Average Reward: -29374.86\n",
      "\n",
      "Running combination 175/9555 with parameters: {'epsilon': 0.025, 'epsilon_decay': 0.99, 'alpha': 0.4, 'gamma': 0.9, 'no_change_after_lap': 145}\n",
      "    Training Episode 0/5\n"
     ]
    },
    {
     "name": "stderr",
     "output_type": "stream",
     "text": [
      "175it [6:00:50, 116.67s/it]"
     ]
    },
    {
     "name": "stdout",
     "output_type": "stream",
     "text": [
      "    Evaluation Episode 0/1\n",
      "    Average Reward over last 50 episodes: -18142.03\n",
      "    Min Reward over last 50 episodes: -18272.28\n",
      "    Max Reward over last 50 episodes: -18006.14\n",
      "    Evaluation Average Reward: -18451.12\n",
      "\n",
      "Running combination 176/9555 with parameters: {'epsilon': 0.05, 'epsilon_decay': 0.99, 'alpha': 0.8, 'gamma': 0.9, 'no_change_after_lap': 145}\n",
      "    Training Episode 0/5\n"
     ]
    },
    {
     "name": "stderr",
     "output_type": "stream",
     "text": [
      "176it [6:02:51, 117.92s/it]"
     ]
    },
    {
     "name": "stdout",
     "output_type": "stream",
     "text": [
      "    Evaluation Episode 0/1\n",
      "    Average Reward over last 50 episodes: -18209.45\n",
      "    Min Reward over last 50 episodes: -18393.61\n",
      "    Max Reward over last 50 episodes: -18040.84\n",
      "    Evaluation Average Reward: -18250.18\n",
      "\n",
      "Running combination 177/9555 with parameters: {'epsilon': 0.0, 'epsilon_decay': 0.999, 'alpha': 0.9, 'gamma': 0.2, 'no_change_after_lap': 125}\n",
      "    Training Episode 0/5\n"
     ]
    },
    {
     "name": "stderr",
     "output_type": "stream",
     "text": [
      "177it [6:04:49, 118.20s/it]"
     ]
    },
    {
     "name": "stdout",
     "output_type": "stream",
     "text": [
      "    Evaluation Episode 0/1\n",
      "    Average Reward over last 50 episodes: -23118.29\n",
      "    Min Reward over last 50 episodes: -23416.90\n",
      "    Max Reward over last 50 episodes: -22795.55\n",
      "    Evaluation Average Reward: -22835.65\n",
      "\n",
      "Running combination 178/9555 with parameters: {'epsilon': 0.1, 'epsilon_decay': 0.995, 'alpha': 0.8, 'gamma': 1.0, 'no_change_after_lap': 110}\n",
      "    Training Episode 0/5\n"
     ]
    },
    {
     "name": "stderr",
     "output_type": "stream",
     "text": [
      "178it [6:06:51, 119.06s/it]"
     ]
    },
    {
     "name": "stdout",
     "output_type": "stream",
     "text": [
      "    Evaluation Episode 0/1\n",
      "    Average Reward over last 50 episodes: -26793.75\n",
      "    Min Reward over last 50 episodes: -27083.33\n",
      "    Max Reward over last 50 episodes: -26560.41\n",
      "    Evaluation Average Reward: -27247.69\n",
      "\n",
      "Running combination 179/9555 with parameters: {'epsilon': 0.0, 'epsilon_decay': 0.99, 'alpha': 0.6, 'gamma': 0.2, 'no_change_after_lap': 130}\n",
      "    Training Episode 0/5\n"
     ]
    },
    {
     "name": "stderr",
     "output_type": "stream",
     "text": [
      "179it [6:08:48, 118.63s/it]"
     ]
    },
    {
     "name": "stdout",
     "output_type": "stream",
     "text": [
      "    Evaluation Episode 0/1\n",
      "    Average Reward over last 50 episodes: -21800.04\n",
      "    Min Reward over last 50 episodes: -22030.38\n",
      "    Max Reward over last 50 episodes: -21613.73\n",
      "    Evaluation Average Reward: -21833.02\n",
      "\n",
      "Running combination 180/9555 with parameters: {'epsilon': 0.1, 'epsilon_decay': 0.99, 'alpha': 1.0, 'gamma': 1.0, 'no_change_after_lap': 125}\n",
      "    Training Episode 0/5\n"
     ]
    },
    {
     "name": "stderr",
     "output_type": "stream",
     "text": [
      "180it [6:10:53, 120.46s/it]"
     ]
    },
    {
     "name": "stdout",
     "output_type": "stream",
     "text": [
      "    Evaluation Episode 0/1\n",
      "    Average Reward over last 50 episodes: -23167.78\n",
      "    Min Reward over last 50 episodes: -23389.53\n",
      "    Max Reward over last 50 episodes: -22817.76\n",
      "    Evaluation Average Reward: -22837.80\n",
      "\n",
      "Running combination 181/9555 with parameters: {'epsilon': 0.025, 'epsilon_decay': 0.999, 'alpha': 0.6, 'gamma': 0.4, 'no_change_after_lap': 105}\n",
      "    Training Episode 0/5\n"
     ]
    },
    {
     "name": "stderr",
     "output_type": "stream",
     "text": [
      "181it [6:12:49, 119.17s/it]"
     ]
    },
    {
     "name": "stdout",
     "output_type": "stream",
     "text": [
      "    Evaluation Episode 0/1\n",
      "    Average Reward over last 50 episodes: -28120.15\n",
      "    Min Reward over last 50 episodes: -28388.50\n",
      "    Max Reward over last 50 episodes: -27816.73\n",
      "    Evaluation Average Reward: -28404.64\n",
      "\n",
      "Running combination 182/9555 with parameters: {'epsilon': 0.05, 'epsilon_decay': 0.995, 'alpha': 0.0, 'gamma': 0.2, 'no_change_after_lap': 135}\n",
      "    Training Episode 0/5\n"
     ]
    },
    {
     "name": "stderr",
     "output_type": "stream",
     "text": [
      "182it [6:14:37, 115.85s/it]"
     ]
    },
    {
     "name": "stdout",
     "output_type": "stream",
     "text": [
      "    Evaluation Episode 0/1\n",
      "    Average Reward over last 50 episodes: -20731.60\n",
      "    Min Reward over last 50 episodes: -20863.14\n",
      "    Max Reward over last 50 episodes: -20401.74\n",
      "    Evaluation Average Reward: -20481.13\n",
      "\n",
      "Running combination 183/9555 with parameters: {'epsilon': 0.025, 'epsilon_decay': 0.99, 'alpha': 0.4, 'gamma': 1.0, 'no_change_after_lap': 140}\n",
      "    Training Episode 0/5\n"
     ]
    },
    {
     "name": "stderr",
     "output_type": "stream",
     "text": [
      "183it [6:16:32, 115.47s/it]"
     ]
    },
    {
     "name": "stdout",
     "output_type": "stream",
     "text": [
      "    Evaluation Episode 0/1\n",
      "    Average Reward over last 50 episodes: -19494.68\n",
      "    Min Reward over last 50 episodes: -19654.58\n",
      "    Max Reward over last 50 episodes: -19348.76\n",
      "    Evaluation Average Reward: -19060.86\n",
      "\n",
      "Running combination 184/9555 with parameters: {'epsilon': 0.05, 'epsilon_decay': 0.999, 'alpha': 0.4, 'gamma': 0.6, 'no_change_after_lap': 115}\n",
      "    Training Episode 0/5\n"
     ]
    },
    {
     "name": "stderr",
     "output_type": "stream",
     "text": [
      "184it [6:18:41, 119.51s/it]"
     ]
    },
    {
     "name": "stdout",
     "output_type": "stream",
     "text": [
      "    Evaluation Episode 0/1\n",
      "    Average Reward over last 50 episodes: -25637.16\n",
      "    Min Reward over last 50 episodes: -25913.84\n",
      "    Max Reward over last 50 episodes: -25231.91\n",
      "    Evaluation Average Reward: -25764.83\n",
      "\n",
      "Running combination 185/9555 with parameters: {'epsilon': 0.0, 'epsilon_decay': 0.999, 'alpha': 0.8, 'gamma': 0.2, 'no_change_after_lap': 160}\n",
      "    Training Episode 0/5\n"
     ]
    },
    {
     "name": "stderr",
     "output_type": "stream",
     "text": [
      "185it [6:20:34, 117.74s/it]"
     ]
    },
    {
     "name": "stdout",
     "output_type": "stream",
     "text": [
      "    Evaluation Episode 0/1\n",
      "    Average Reward over last 50 episodes: -16099.94\n",
      "    Min Reward over last 50 episodes: -16163.30\n",
      "    Max Reward over last 50 episodes: -16040.82\n",
      "    Evaluation Average Reward: -16141.76\n",
      "\n",
      "Running combination 186/9555 with parameters: {'epsilon': 0.0, 'epsilon_decay': 0.99, 'alpha': 0.2, 'gamma': 0.0, 'no_change_after_lap': 150}\n",
      "    Training Episode 0/5\n"
     ]
    },
    {
     "name": "stderr",
     "output_type": "stream",
     "text": [
      "186it [6:22:29, 116.97s/it]"
     ]
    },
    {
     "name": "stdout",
     "output_type": "stream",
     "text": [
      "    Evaluation Episode 0/1\n",
      "    Average Reward over last 50 episodes: -17174.99\n",
      "    Min Reward over last 50 episodes: -17339.75\n",
      "    Max Reward over last 50 episodes: -16996.84\n",
      "    Evaluation Average Reward: -17233.97\n",
      "\n",
      "Running combination 187/9555 with parameters: {'epsilon': 0.1, 'epsilon_decay': 0.999, 'alpha': 0.4, 'gamma': 0.2, 'no_change_after_lap': 130}\n",
      "    Training Episode 0/5\n"
     ]
    },
    {
     "name": "stderr",
     "output_type": "stream",
     "text": [
      "187it [6:24:32, 118.50s/it]"
     ]
    },
    {
     "name": "stdout",
     "output_type": "stream",
     "text": [
      "    Evaluation Episode 0/1\n",
      "    Average Reward over last 50 episodes: -21856.01\n",
      "    Min Reward over last 50 episodes: -22112.16\n",
      "    Max Reward over last 50 episodes: -21588.26\n",
      "    Evaluation Average Reward: -21705.07\n",
      "\n",
      "Running combination 188/9555 with parameters: {'epsilon': 0.1, 'epsilon_decay': 0.995, 'alpha': 0.6, 'gamma': 0.4, 'no_change_after_lap': 115}\n",
      "    Training Episode 0/5\n"
     ]
    },
    {
     "name": "stderr",
     "output_type": "stream",
     "text": [
      "188it [6:26:30, 118.38s/it]"
     ]
    },
    {
     "name": "stdout",
     "output_type": "stream",
     "text": [
      "    Evaluation Episode 0/1\n",
      "    Average Reward over last 50 episodes: -25656.29\n",
      "    Min Reward over last 50 episodes: -25887.98\n",
      "    Max Reward over last 50 episodes: -25289.85\n",
      "    Evaluation Average Reward: -25727.00\n",
      "\n",
      "Running combination 189/9555 with parameters: {'epsilon': 0.0, 'epsilon_decay': 0.995, 'alpha': 0.8, 'gamma': 0.2, 'no_change_after_lap': 140}\n",
      "    Training Episode 0/5\n"
     ]
    },
    {
     "name": "stderr",
     "output_type": "stream",
     "text": [
      "189it [6:28:24, 117.08s/it]"
     ]
    },
    {
     "name": "stdout",
     "output_type": "stream",
     "text": [
      "    Evaluation Episode 0/1\n",
      "    Average Reward over last 50 episodes: -19288.61\n",
      "    Min Reward over last 50 episodes: -19640.45\n",
      "    Max Reward over last 50 episodes: -19023.75\n",
      "    Evaluation Average Reward: -19468.38\n",
      "\n",
      "Running combination 190/9555 with parameters: {'epsilon': 0.0, 'epsilon_decay': 0.99, 'alpha': 0.8, 'gamma': 0.0, 'no_change_after_lap': 120}\n",
      "    Training Episode 0/5\n"
     ]
    },
    {
     "name": "stderr",
     "output_type": "stream",
     "text": [
      "190it [6:30:22, 117.37s/it]"
     ]
    },
    {
     "name": "stdout",
     "output_type": "stream",
     "text": [
      "    Evaluation Episode 0/1\n",
      "    Average Reward over last 50 episodes: -24293.62\n",
      "    Min Reward over last 50 episodes: -24606.10\n",
      "    Max Reward over last 50 episodes: -24009.08\n",
      "    Evaluation Average Reward: -24297.70\n",
      "\n",
      "Running combination 191/9555 with parameters: {'epsilon': 0.025, 'epsilon_decay': 0.99, 'alpha': 0.6, 'gamma': 0.2, 'no_change_after_lap': 145}\n",
      "    Training Episode 0/5\n"
     ]
    },
    {
     "name": "stderr",
     "output_type": "stream",
     "text": [
      "191it [6:32:22, 118.19s/it]"
     ]
    },
    {
     "name": "stdout",
     "output_type": "stream",
     "text": [
      "    Evaluation Episode 0/1\n",
      "    Average Reward over last 50 episodes: -18103.93\n",
      "    Min Reward over last 50 episodes: -18339.00\n",
      "    Max Reward over last 50 episodes: -17857.76\n",
      "    Evaluation Average Reward: -17922.11\n",
      "\n",
      "Running combination 192/9555 with parameters: {'epsilon': 0.0, 'epsilon_decay': 0.999, 'alpha': 0.2, 'gamma': 0.6, 'no_change_after_lap': 110}\n",
      "    Training Episode 0/5\n"
     ]
    },
    {
     "name": "stderr",
     "output_type": "stream",
     "text": [
      "192it [6:34:17, 117.43s/it]"
     ]
    },
    {
     "name": "stdout",
     "output_type": "stream",
     "text": [
      "    Evaluation Episode 0/1\n",
      "    Average Reward over last 50 episodes: -26784.68\n",
      "    Min Reward over last 50 episodes: -26992.03\n",
      "    Max Reward over last 50 episodes: -26484.16\n",
      "    Evaluation Average Reward: -26806.23\n",
      "\n",
      "Running combination 193/9555 with parameters: {'epsilon': 0.025, 'epsilon_decay': 0.999, 'alpha': 0.4, 'gamma': 1.0, 'no_change_after_lap': 140}\n",
      "    Training Episode 0/5\n"
     ]
    },
    {
     "name": "stderr",
     "output_type": "stream",
     "text": [
      "193it [6:36:11, 116.28s/it]"
     ]
    },
    {
     "name": "stdout",
     "output_type": "stream",
     "text": [
      "    Evaluation Episode 0/1\n",
      "    Average Reward over last 50 episodes: -19301.02\n",
      "    Min Reward over last 50 episodes: -19510.40\n",
      "    Max Reward over last 50 episodes: -18992.35\n",
      "    Evaluation Average Reward: -19655.37\n",
      "\n",
      "Running combination 194/9555 with parameters: {'epsilon': 0.1, 'epsilon_decay': 0.999, 'alpha': 0.0, 'gamma': 0.6, 'no_change_after_lap': 100}\n",
      "    Training Episode 0/5\n"
     ]
    },
    {
     "name": "stderr",
     "output_type": "stream",
     "text": [
      "194it [6:38:10, 117.02s/it]"
     ]
    },
    {
     "name": "stdout",
     "output_type": "stream",
     "text": [
      "    Evaluation Episode 0/1\n",
      "    Average Reward over last 50 episodes: -29357.85\n",
      "    Min Reward over last 50 episodes: -29606.75\n",
      "    Max Reward over last 50 episodes: -29168.29\n",
      "    Evaluation Average Reward: -29335.87\n",
      "\n",
      "Running combination 195/9555 with parameters: {'epsilon': 0.05, 'epsilon_decay': 0.995, 'alpha': 1.0, 'gamma': 0.0, 'no_change_after_lap': 110}\n",
      "    Training Episode 0/5\n"
     ]
    },
    {
     "name": "stderr",
     "output_type": "stream",
     "text": [
      "195it [6:40:01, 115.41s/it]"
     ]
    },
    {
     "name": "stdout",
     "output_type": "stream",
     "text": [
      "    Evaluation Episode 0/1\n",
      "    Average Reward over last 50 episodes: -26950.55\n",
      "    Min Reward over last 50 episodes: -27185.90\n",
      "    Max Reward over last 50 episodes: -26674.09\n",
      "    Evaluation Average Reward: -26743.71\n",
      "\n",
      "Running combination 196/9555 with parameters: {'epsilon': 0.2, 'epsilon_decay': 0.999, 'alpha': 0.0, 'gamma': 0.8, 'no_change_after_lap': 145}\n",
      "    Training Episode 0/5\n"
     ]
    },
    {
     "name": "stderr",
     "output_type": "stream",
     "text": [
      "196it [6:41:58, 115.71s/it]"
     ]
    },
    {
     "name": "stdout",
     "output_type": "stream",
     "text": [
      "    Evaluation Episode 0/1\n",
      "    Average Reward over last 50 episodes: -18179.23\n",
      "    Min Reward over last 50 episodes: -18332.60\n",
      "    Max Reward over last 50 episodes: -17826.54\n",
      "    Evaluation Average Reward: -17947.19\n",
      "\n",
      "Running combination 197/9555 with parameters: {'epsilon': 0.05, 'epsilon_decay': 0.999, 'alpha': 1.0, 'gamma': 0.6, 'no_change_after_lap': 150}\n",
      "    Training Episode 0/5\n"
     ]
    },
    {
     "name": "stderr",
     "output_type": "stream",
     "text": [
      "197it [6:43:53, 115.62s/it]"
     ]
    },
    {
     "name": "stdout",
     "output_type": "stream",
     "text": [
      "    Evaluation Episode 0/1\n",
      "    Average Reward over last 50 episodes: -17177.16\n",
      "    Min Reward over last 50 episodes: -17323.08\n",
      "    Max Reward over last 50 episodes: -17017.26\n",
      "    Evaluation Average Reward: -17014.68\n",
      "\n",
      "Running combination 198/9555 with parameters: {'epsilon': 0.05, 'epsilon_decay': 0.99, 'alpha': 0.6, 'gamma': 0.2, 'no_change_after_lap': 115}\n",
      "    Training Episode 0/5\n"
     ]
    },
    {
     "name": "stderr",
     "output_type": "stream",
     "text": [
      "198it [6:45:50, 115.82s/it]"
     ]
    },
    {
     "name": "stdout",
     "output_type": "stream",
     "text": [
      "    Evaluation Episode 0/1\n",
      "    Average Reward over last 50 episodes: -25587.04\n",
      "    Min Reward over last 50 episodes: -25816.30\n",
      "    Max Reward over last 50 episodes: -25419.22\n",
      "    Evaluation Average Reward: -25681.19\n",
      "\n",
      "Running combination 199/9555 with parameters: {'epsilon': 0.2, 'epsilon_decay': 0.999, 'alpha': 0.6, 'gamma': 0.2, 'no_change_after_lap': 135}\n",
      "    Training Episode 0/5\n"
     ]
    },
    {
     "name": "stderr",
     "output_type": "stream",
     "text": [
      "199it [6:47:50, 117.07s/it]"
     ]
    },
    {
     "name": "stdout",
     "output_type": "stream",
     "text": [
      "    Evaluation Episode 0/1\n",
      "    Average Reward over last 50 episodes: -20539.78\n",
      "    Min Reward over last 50 episodes: -21032.65\n",
      "    Max Reward over last 50 episodes: -20167.72\n",
      "    Evaluation Average Reward: -20324.18\n",
      "\n",
      "Running combination 200/9555 with parameters: {'epsilon': 0.025, 'epsilon_decay': 0.99, 'alpha': 0.2, 'gamma': 0.8, 'no_change_after_lap': 110}\n",
      "    Training Episode 0/5\n"
     ]
    },
    {
     "name": "stderr",
     "output_type": "stream",
     "text": [
      "200it [6:49:43, 116.13s/it]"
     ]
    },
    {
     "name": "stdout",
     "output_type": "stream",
     "text": [
      "    Evaluation Episode 0/1\n",
      "    Average Reward over last 50 episodes: -27036.28\n",
      "    Min Reward over last 50 episodes: -27229.68\n",
      "    Max Reward over last 50 episodes: -26783.81\n",
      "    Evaluation Average Reward: -26982.11\n",
      "\n",
      "Running combination 201/9555 with parameters: {'epsilon': 0.05, 'epsilon_decay': 0.99, 'alpha': 0.9, 'gamma': 0.6, 'no_change_after_lap': 160}\n",
      "    Training Episode 0/5\n"
     ]
    },
    {
     "name": "stderr",
     "output_type": "stream",
     "text": [
      "201it [6:51:42, 116.94s/it]"
     ]
    },
    {
     "name": "stdout",
     "output_type": "stream",
     "text": [
      "    Evaluation Episode 0/1\n",
      "    Average Reward over last 50 episodes: -16083.75\n",
      "    Min Reward over last 50 episodes: -16158.68\n",
      "    Max Reward over last 50 episodes: -16016.54\n",
      "    Evaluation Average Reward: -16067.90\n",
      "\n",
      "Running combination 202/9555 with parameters: {'epsilon': 0.0, 'epsilon_decay': 0.99, 'alpha': 1.0, 'gamma': 1.0, 'no_change_after_lap': 100}\n",
      "    Training Episode 0/5\n"
     ]
    },
    {
     "name": "stderr",
     "output_type": "stream",
     "text": [
      "202it [6:53:41, 117.48s/it]"
     ]
    },
    {
     "name": "stdout",
     "output_type": "stream",
     "text": [
      "    Evaluation Episode 0/1\n",
      "    Average Reward over last 50 episodes: -29454.89\n",
      "    Min Reward over last 50 episodes: -29635.54\n",
      "    Max Reward over last 50 episodes: -29220.47\n",
      "    Evaluation Average Reward: -29785.23\n",
      "\n",
      "Running combination 203/9555 with parameters: {'epsilon': 0.2, 'epsilon_decay': 0.999, 'alpha': 0.6, 'gamma': 0.4, 'no_change_after_lap': 110}\n",
      "    Training Episode 0/5\n"
     ]
    },
    {
     "name": "stderr",
     "output_type": "stream",
     "text": [
      "203it [6:55:41, 118.26s/it]"
     ]
    },
    {
     "name": "stdout",
     "output_type": "stream",
     "text": [
      "    Evaluation Episode 0/1\n",
      "    Average Reward over last 50 episodes: -26829.63\n",
      "    Min Reward over last 50 episodes: -26921.99\n",
      "    Max Reward over last 50 episodes: -26769.94\n",
      "    Evaluation Average Reward: -27116.79\n",
      "\n",
      "Running combination 204/9555 with parameters: {'epsilon': 0.2, 'epsilon_decay': 0.999, 'alpha': 0.8, 'gamma': 0.8, 'no_change_after_lap': 150}\n",
      "    Training Episode 0/5\n"
     ]
    },
    {
     "name": "stderr",
     "output_type": "stream",
     "text": [
      "204it [6:57:40, 118.33s/it]"
     ]
    },
    {
     "name": "stdout",
     "output_type": "stream",
     "text": [
      "    Evaluation Episode 0/1\n",
      "    Average Reward over last 50 episodes: -17004.83\n",
      "    Min Reward over last 50 episodes: -17114.88\n",
      "    Max Reward over last 50 episodes: -16898.87\n",
      "    Evaluation Average Reward: -17010.06\n",
      "\n",
      "Running combination 205/9555 with parameters: {'epsilon': 0.05, 'epsilon_decay': 0.999, 'alpha': 0.6, 'gamma': 0.9, 'no_change_after_lap': 150}\n",
      "    Training Episode 0/5\n"
     ]
    },
    {
     "name": "stderr",
     "output_type": "stream",
     "text": [
      "205it [6:59:39, 118.63s/it]"
     ]
    },
    {
     "name": "stdout",
     "output_type": "stream",
     "text": [
      "    Evaluation Episode 0/1\n",
      "    Average Reward over last 50 episodes: -17105.43\n",
      "    Min Reward over last 50 episodes: -17246.04\n",
      "    Max Reward over last 50 episodes: -17002.81\n",
      "    Evaluation Average Reward: -16907.73\n",
      "\n",
      "Running combination 206/9555 with parameters: {'epsilon': 0.025, 'epsilon_decay': 0.999, 'alpha': 1.0, 'gamma': 0.6, 'no_change_after_lap': 140}\n",
      "    Training Episode 0/5\n"
     ]
    },
    {
     "name": "stderr",
     "output_type": "stream",
     "text": [
      "206it [7:01:37, 118.59s/it]"
     ]
    },
    {
     "name": "stdout",
     "output_type": "stream",
     "text": [
      "    Evaluation Episode 0/1\n",
      "    Average Reward over last 50 episodes: -19351.80\n",
      "    Min Reward over last 50 episodes: -19620.42\n",
      "    Max Reward over last 50 episodes: -18948.84\n",
      "    Evaluation Average Reward: -19109.33\n",
      "\n",
      "Running combination 207/9555 with parameters: {'epsilon': 0.0, 'epsilon_decay': 0.995, 'alpha': 0.9, 'gamma': 0.8, 'no_change_after_lap': 135}\n",
      "    Training Episode 0/5\n"
     ]
    },
    {
     "name": "stderr",
     "output_type": "stream",
     "text": [
      "207it [7:03:33, 117.61s/it]"
     ]
    },
    {
     "name": "stdout",
     "output_type": "stream",
     "text": [
      "    Evaluation Episode 0/1\n",
      "    Average Reward over last 50 episodes: -20392.79\n",
      "    Min Reward over last 50 episodes: -20758.35\n",
      "    Max Reward over last 50 episodes: -20207.07\n",
      "    Evaluation Average Reward: -20393.84\n",
      "\n",
      "Running combination 208/9555 with parameters: {'epsilon': 0.2, 'epsilon_decay': 0.995, 'alpha': 0.2, 'gamma': 0.9, 'no_change_after_lap': 115}\n",
      "    Training Episode 0/5\n"
     ]
    },
    {
     "name": "stderr",
     "output_type": "stream",
     "text": [
      "208it [7:05:33, 118.47s/it]"
     ]
    },
    {
     "name": "stdout",
     "output_type": "stream",
     "text": [
      "    Evaluation Episode 0/1\n",
      "    Average Reward over last 50 episodes: -25514.08\n",
      "    Min Reward over last 50 episodes: -25610.81\n",
      "    Max Reward over last 50 episodes: -25338.16\n",
      "    Evaluation Average Reward: -25376.97\n",
      "\n",
      "Running combination 209/9555 with parameters: {'epsilon': 0.05, 'epsilon_decay': 0.99, 'alpha': 0.4, 'gamma': 0.6, 'no_change_after_lap': 145}\n",
      "    Training Episode 0/5\n"
     ]
    },
    {
     "name": "stderr",
     "output_type": "stream",
     "text": [
      "209it [7:07:29, 117.57s/it]"
     ]
    },
    {
     "name": "stdout",
     "output_type": "stream",
     "text": [
      "    Evaluation Episode 0/1\n",
      "    Average Reward over last 50 episodes: -17980.49\n",
      "    Min Reward over last 50 episodes: -18273.71\n",
      "    Max Reward over last 50 episodes: -17834.79\n",
      "    Evaluation Average Reward: -18037.02\n",
      "\n",
      "Running combination 210/9555 with parameters: {'epsilon': 0.05, 'epsilon_decay': 0.995, 'alpha': 0.8, 'gamma': 0.2, 'no_change_after_lap': 155}\n",
      "    Training Episode 0/5\n"
     ]
    },
    {
     "name": "stderr",
     "output_type": "stream",
     "text": [
      "210it [7:09:25, 117.32s/it]"
     ]
    },
    {
     "name": "stdout",
     "output_type": "stream",
     "text": [
      "    Evaluation Episode 0/1\n",
      "    Average Reward over last 50 episodes: -16330.96\n",
      "    Min Reward over last 50 episodes: -16385.29\n",
      "    Max Reward over last 50 episodes: -16235.68\n",
      "    Evaluation Average Reward: -16408.52\n",
      "\n",
      "Running combination 211/9555 with parameters: {'epsilon': 0.0, 'epsilon_decay': 0.999, 'alpha': 0.9, 'gamma': 0.0, 'no_change_after_lap': 120}\n",
      "    Training Episode 0/5\n"
     ]
    },
    {
     "name": "stderr",
     "output_type": "stream",
     "text": [
      "211it [7:11:28, 118.92s/it]"
     ]
    },
    {
     "name": "stdout",
     "output_type": "stream",
     "text": [
      "    Evaluation Episode 0/1\n",
      "    Average Reward over last 50 episodes: -24463.98\n",
      "    Min Reward over last 50 episodes: -24581.06\n",
      "    Max Reward over last 50 episodes: -24268.85\n",
      "    Evaluation Average Reward: -24230.27\n",
      "\n",
      "Running combination 212/9555 with parameters: {'epsilon': 0.2, 'epsilon_decay': 0.995, 'alpha': 0.6, 'gamma': 0.6, 'no_change_after_lap': 135}\n",
      "    Training Episode 0/5\n"
     ]
    },
    {
     "name": "stderr",
     "output_type": "stream",
     "text": [
      "212it [7:13:31, 120.08s/it]"
     ]
    },
    {
     "name": "stdout",
     "output_type": "stream",
     "text": [
      "    Evaluation Episode 0/1\n",
      "    Average Reward over last 50 episodes: -20388.76\n",
      "    Min Reward over last 50 episodes: -20744.04\n",
      "    Max Reward over last 50 episodes: -20218.97\n",
      "    Evaluation Average Reward: -20792.89\n",
      "\n",
      "Running combination 213/9555 with parameters: {'epsilon': 0.0, 'epsilon_decay': 0.999, 'alpha': 0.0, 'gamma': 0.8, 'no_change_after_lap': 115}\n",
      "    Training Episode 0/5\n"
     ]
    },
    {
     "name": "stderr",
     "output_type": "stream",
     "text": [
      "213it [7:15:22, 117.43s/it]"
     ]
    },
    {
     "name": "stdout",
     "output_type": "stream",
     "text": [
      "    Evaluation Episode 0/1\n",
      "    Average Reward over last 50 episodes: -25737.23\n",
      "    Min Reward over last 50 episodes: -25911.18\n",
      "    Max Reward over last 50 episodes: -25525.12\n",
      "    Evaluation Average Reward: -25839.00\n",
      "\n",
      "Running combination 214/9555 with parameters: {'epsilon': 0.025, 'epsilon_decay': 0.99, 'alpha': 0.8, 'gamma': 0.2, 'no_change_after_lap': 120}\n",
      "    Training Episode 0/5\n"
     ]
    },
    {
     "name": "stderr",
     "output_type": "stream",
     "text": [
      "214it [7:17:20, 117.42s/it]"
     ]
    },
    {
     "name": "stdout",
     "output_type": "stream",
     "text": [
      "    Evaluation Episode 0/1\n",
      "    Average Reward over last 50 episodes: -24383.30\n",
      "    Min Reward over last 50 episodes: -24571.22\n",
      "    Max Reward over last 50 episodes: -24044.77\n",
      "    Evaluation Average Reward: -24576.38\n",
      "\n",
      "Running combination 215/9555 with parameters: {'epsilon': 0.1, 'epsilon_decay': 0.995, 'alpha': 0.9, 'gamma': 0.2, 'no_change_after_lap': 110}\n",
      "    Training Episode 0/5\n"
     ]
    },
    {
     "name": "stderr",
     "output_type": "stream",
     "text": [
      "215it [7:19:23, 119.13s/it]"
     ]
    },
    {
     "name": "stdout",
     "output_type": "stream",
     "text": [
      "    Evaluation Episode 0/1\n",
      "    Average Reward over last 50 episodes: -26895.02\n",
      "    Min Reward over last 50 episodes: -27187.86\n",
      "    Max Reward over last 50 episodes: -26440.09\n",
      "    Evaluation Average Reward: -26903.56\n",
      "\n",
      "Running combination 216/9555 with parameters: {'epsilon': 0.2, 'epsilon_decay': 0.99, 'alpha': 0.2, 'gamma': 0.8, 'no_change_after_lap': 135}\n",
      "    Training Episode 0/5\n"
     ]
    },
    {
     "name": "stderr",
     "output_type": "stream",
     "text": [
      "216it [7:21:21, 118.77s/it]"
     ]
    },
    {
     "name": "stdout",
     "output_type": "stream",
     "text": [
      "    Evaluation Episode 0/1\n",
      "    Average Reward over last 50 episodes: -20640.73\n",
      "    Min Reward over last 50 episodes: -20782.16\n",
      "    Max Reward over last 50 episodes: -20403.14\n",
      "    Evaluation Average Reward: -20319.13\n",
      "\n",
      "Running combination 217/9555 with parameters: {'epsilon': 0.2, 'epsilon_decay': 0.99, 'alpha': 0.9, 'gamma': 0.0, 'no_change_after_lap': 110}\n",
      "    Training Episode 0/5\n"
     ]
    },
    {
     "name": "stderr",
     "output_type": "stream",
     "text": [
      "217it [7:23:14, 117.15s/it]"
     ]
    },
    {
     "name": "stdout",
     "output_type": "stream",
     "text": [
      "    Evaluation Episode 0/1\n",
      "    Average Reward over last 50 episodes: -26951.05\n",
      "    Min Reward over last 50 episodes: -27079.54\n",
      "    Max Reward over last 50 episodes: -26711.87\n",
      "    Evaluation Average Reward: -27055.33\n",
      "\n",
      "Running combination 218/9555 with parameters: {'epsilon': 0.025, 'epsilon_decay': 0.99, 'alpha': 0.0, 'gamma': 0.4, 'no_change_after_lap': 145}\n",
      "    Training Episode 0/5\n"
     ]
    },
    {
     "name": "stderr",
     "output_type": "stream",
     "text": [
      "218it [7:25:03, 114.60s/it]"
     ]
    },
    {
     "name": "stdout",
     "output_type": "stream",
     "text": [
      "    Evaluation Episode 0/1\n",
      "    Average Reward over last 50 episodes: -18151.34\n",
      "    Min Reward over last 50 episodes: -18331.60\n",
      "    Max Reward over last 50 episodes: -17929.20\n",
      "    Evaluation Average Reward: -17916.59\n",
      "SKIPPING\n",
      "\n",
      "Running combination 219/9555 with parameters: {'epsilon': 0.1, 'epsilon_decay': 0.99, 'alpha': 1.0, 'gamma': 0.9, 'no_change_after_lap': 145}\n",
      "    Training Episode 0/5\n"
     ]
    },
    {
     "name": "stderr",
     "output_type": "stream",
     "text": [
      "219it [7:27:00, 115.42s/it]"
     ]
    },
    {
     "name": "stdout",
     "output_type": "stream",
     "text": [
      "    Evaluation Episode 0/1\n",
      "    Average Reward over last 50 episodes: -18199.13\n",
      "    Min Reward over last 50 episodes: -18414.28\n",
      "    Max Reward over last 50 episodes: -17928.38\n",
      "    Evaluation Average Reward: -17946.28\n",
      "\n",
      "Running combination 220/9555 with parameters: {'epsilon': 0.2, 'epsilon_decay': 0.999, 'alpha': 0.8, 'gamma': 0.0, 'no_change_after_lap': 155}\n",
      "    Training Episode 0/5\n"
     ]
    },
    {
     "name": "stderr",
     "output_type": "stream",
     "text": [
      "220it [7:28:58, 116.28s/it]"
     ]
    },
    {
     "name": "stdout",
     "output_type": "stream",
     "text": [
      "    Evaluation Episode 0/1\n",
      "    Average Reward over last 50 episodes: -16358.95\n",
      "    Min Reward over last 50 episodes: -16401.92\n",
      "    Max Reward over last 50 episodes: -16211.88\n",
      "    Evaluation Average Reward: -16390.83\n",
      "\n",
      "Running combination 221/9555 with parameters: {'epsilon': 0.2, 'epsilon_decay': 0.999, 'alpha': 0.9, 'gamma': 0.6, 'no_change_after_lap': 155}\n",
      "    Training Episode 0/5\n"
     ]
    },
    {
     "name": "stderr",
     "output_type": "stream",
     "text": [
      "221it [7:30:58, 117.35s/it]"
     ]
    },
    {
     "name": "stdout",
     "output_type": "stream",
     "text": [
      "    Evaluation Episode 0/1\n",
      "    Average Reward over last 50 episodes: -16323.31\n",
      "    Min Reward over last 50 episodes: -16410.21\n",
      "    Max Reward over last 50 episodes: -16251.70\n",
      "    Evaluation Average Reward: -16454.87\n",
      "\n",
      "Running combination 222/9555 with parameters: {'epsilon': 0.025, 'epsilon_decay': 0.99, 'alpha': 0.0, 'gamma': 0.9, 'no_change_after_lap': 100}\n",
      "    Training Episode 0/5\n"
     ]
    },
    {
     "name": "stderr",
     "output_type": "stream",
     "text": [
      "222it [7:32:47, 114.72s/it]"
     ]
    },
    {
     "name": "stdout",
     "output_type": "stream",
     "text": [
      "    Evaluation Episode 0/1\n",
      "    Average Reward over last 50 episodes: -29320.87\n",
      "    Min Reward over last 50 episodes: -29588.45\n",
      "    Max Reward over last 50 episodes: -29075.15\n",
      "    Evaluation Average Reward: -29265.58\n",
      "\n",
      "Running combination 223/9555 with parameters: {'epsilon': 0.025, 'epsilon_decay': 0.999, 'alpha': 0.4, 'gamma': 0.9, 'no_change_after_lap': 110}\n",
      "    Training Episode 0/5\n"
     ]
    },
    {
     "name": "stderr",
     "output_type": "stream",
     "text": [
      "223it [7:34:46, 115.97s/it]"
     ]
    },
    {
     "name": "stdout",
     "output_type": "stream",
     "text": [
      "    Evaluation Episode 0/1\n",
      "    Average Reward over last 50 episodes: -26940.05\n",
      "    Min Reward over last 50 episodes: -27117.19\n",
      "    Max Reward over last 50 episodes: -26531.57\n",
      "    Evaluation Average Reward: -26710.72\n",
      "\n",
      "Running combination 224/9555 with parameters: {'epsilon': 0.2, 'epsilon_decay': 0.99, 'alpha': 0.9, 'gamma': 0.4, 'no_change_after_lap': 145}\n",
      "    Training Episode 0/5\n"
     ]
    },
    {
     "name": "stderr",
     "output_type": "stream",
     "text": [
      "224it [7:36:46, 117.30s/it]"
     ]
    },
    {
     "name": "stdout",
     "output_type": "stream",
     "text": [
      "    Evaluation Episode 0/1\n",
      "    Average Reward over last 50 episodes: -18239.81\n",
      "    Min Reward over last 50 episodes: -18303.37\n",
      "    Max Reward over last 50 episodes: -18138.32\n",
      "    Evaluation Average Reward: -18385.21\n",
      "\n",
      "Running combination 225/9555 with parameters: {'epsilon': 0.0, 'epsilon_decay': 0.999, 'alpha': 0.9, 'gamma': 0.6, 'no_change_after_lap': 135}\n",
      "    Training Episode 0/5\n"
     ]
    },
    {
     "name": "stderr",
     "output_type": "stream",
     "text": [
      "225it [7:38:45, 117.79s/it]"
     ]
    },
    {
     "name": "stdout",
     "output_type": "stream",
     "text": [
      "    Evaluation Episode 0/1\n",
      "    Average Reward over last 50 episodes: -20623.04\n",
      "    Min Reward over last 50 episodes: -20778.84\n",
      "    Max Reward over last 50 episodes: -20298.82\n",
      "    Evaluation Average Reward: -20571.16\n",
      "SKIPPING\n",
      "\n",
      "Running combination 226/9555 with parameters: {'epsilon': 0.025, 'epsilon_decay': 0.999, 'alpha': 0.9, 'gamma': 1.0, 'no_change_after_lap': 130}\n",
      "    Training Episode 0/5\n"
     ]
    },
    {
     "name": "stderr",
     "output_type": "stream",
     "text": [
      "226it [7:40:43, 117.77s/it]"
     ]
    },
    {
     "name": "stdout",
     "output_type": "stream",
     "text": [
      "    Evaluation Episode 0/1\n",
      "    Average Reward over last 50 episodes: -21891.87\n",
      "    Min Reward over last 50 episodes: -22045.77\n",
      "    Max Reward over last 50 episodes: -21599.96\n",
      "    Evaluation Average Reward: -22125.42\n",
      "\n",
      "Running combination 227/9555 with parameters: {'epsilon': 0.0, 'epsilon_decay': 0.999, 'alpha': 0.4, 'gamma': 0.2, 'no_change_after_lap': 155}\n",
      "    Training Episode 0/5\n"
     ]
    },
    {
     "name": "stderr",
     "output_type": "stream",
     "text": [
      "227it [7:42:37, 116.75s/it]"
     ]
    },
    {
     "name": "stdout",
     "output_type": "stream",
     "text": [
      "    Evaluation Episode 0/1\n",
      "    Average Reward over last 50 episodes: -16394.81\n",
      "    Min Reward over last 50 episodes: -16422.35\n",
      "    Max Reward over last 50 episodes: -16359.16\n",
      "    Evaluation Average Reward: -16276.73\n",
      "\n",
      "Running combination 228/9555 with parameters: {'epsilon': 0.1, 'epsilon_decay': 0.995, 'alpha': 0.2, 'gamma': 0.8, 'no_change_after_lap': 115}\n",
      "    Training Episode 0/5\n"
     ]
    },
    {
     "name": "stderr",
     "output_type": "stream",
     "text": [
      "228it [7:44:38, 117.94s/it]"
     ]
    },
    {
     "name": "stdout",
     "output_type": "stream",
     "text": [
      "    Evaluation Episode 0/1\n",
      "    Average Reward over last 50 episodes: -25641.57\n",
      "    Min Reward over last 50 episodes: -25890.98\n",
      "    Max Reward over last 50 episodes: -25321.56\n",
      "    Evaluation Average Reward: -25300.03\n",
      "\n",
      "Running combination 229/9555 with parameters: {'epsilon': 0.2, 'epsilon_decay': 0.995, 'alpha': 0.4, 'gamma': 0.8, 'no_change_after_lap': 155}\n",
      "    Training Episode 0/5\n"
     ]
    },
    {
     "name": "stderr",
     "output_type": "stream",
     "text": [
      "229it [7:46:36, 118.08s/it]"
     ]
    },
    {
     "name": "stdout",
     "output_type": "stream",
     "text": [
      "    Evaluation Episode 0/1\n",
      "    Average Reward over last 50 episodes: -16335.86\n",
      "    Min Reward over last 50 episodes: -16426.59\n",
      "    Max Reward over last 50 episodes: -16217.22\n",
      "    Evaluation Average Reward: -16206.97\n",
      "\n",
      "Running combination 230/9555 with parameters: {'epsilon': 0.05, 'epsilon_decay': 0.995, 'alpha': 0.2, 'gamma': 0.6, 'no_change_after_lap': 110}\n",
      "    Training Episode 0/5\n"
     ]
    },
    {
     "name": "stderr",
     "output_type": "stream",
     "text": [
      "230it [7:48:39, 119.50s/it]"
     ]
    },
    {
     "name": "stdout",
     "output_type": "stream",
     "text": [
      "    Evaluation Episode 0/1\n",
      "    Average Reward over last 50 episodes: -26894.45\n",
      "    Min Reward over last 50 episodes: -27092.85\n",
      "    Max Reward over last 50 episodes: -26647.08\n",
      "    Evaluation Average Reward: -26682.90\n",
      "\n",
      "Running combination 231/9555 with parameters: {'epsilon': 0.025, 'epsilon_decay': 0.99, 'alpha': 0.8, 'gamma': 0.9, 'no_change_after_lap': 100}\n",
      "    Training Episode 0/5\n"
     ]
    },
    {
     "name": "stderr",
     "output_type": "stream",
     "text": [
      "231it [7:50:39, 119.76s/it]"
     ]
    },
    {
     "name": "stdout",
     "output_type": "stream",
     "text": [
      "    Evaluation Episode 0/1\n",
      "    Average Reward over last 50 episodes: -29360.47\n",
      "    Min Reward over last 50 episodes: -29621.58\n",
      "    Max Reward over last 50 episodes: -29020.20\n",
      "    Evaluation Average Reward: -29515.14\n",
      "\n",
      "Running combination 232/9555 with parameters: {'epsilon': 0.1, 'epsilon_decay': 0.999, 'alpha': 0.6, 'gamma': 0.6, 'no_change_after_lap': 155}\n",
      "    Training Episode 0/5\n"
     ]
    },
    {
     "name": "stderr",
     "output_type": "stream",
     "text": [
      "232it [7:52:36, 118.98s/it]"
     ]
    },
    {
     "name": "stdout",
     "output_type": "stream",
     "text": [
      "    Evaluation Episode 0/1\n",
      "    Average Reward over last 50 episodes: -16338.54\n",
      "    Min Reward over last 50 episodes: -16457.48\n",
      "    Max Reward over last 50 episodes: -16256.24\n",
      "    Evaluation Average Reward: -16309.08\n",
      "\n",
      "Running combination 233/9555 with parameters: {'epsilon': 0.025, 'epsilon_decay': 0.999, 'alpha': 0.8, 'gamma': 0.2, 'no_change_after_lap': 155}\n",
      "    Training Episode 0/5\n"
     ]
    },
    {
     "name": "stderr",
     "output_type": "stream",
     "text": [
      "233it [7:54:35, 118.70s/it]"
     ]
    },
    {
     "name": "stdout",
     "output_type": "stream",
     "text": [
      "    Evaluation Episode 0/1\n",
      "    Average Reward over last 50 episodes: -16329.53\n",
      "    Min Reward over last 50 episodes: -16377.66\n",
      "    Max Reward over last 50 episodes: -16270.85\n",
      "    Evaluation Average Reward: -16256.83\n",
      "\n",
      "Running combination 234/9555 with parameters: {'epsilon': 0.05, 'epsilon_decay': 0.99, 'alpha': 0.0, 'gamma': 0.9, 'no_change_after_lap': 100}\n",
      "    Training Episode 0/5\n"
     ]
    },
    {
     "name": "stderr",
     "output_type": "stream",
     "text": [
      "234it [7:56:26, 116.69s/it]"
     ]
    },
    {
     "name": "stdout",
     "output_type": "stream",
     "text": [
      "    Evaluation Episode 0/1\n",
      "    Average Reward over last 50 episodes: -29429.08\n",
      "    Min Reward over last 50 episodes: -29594.96\n",
      "    Max Reward over last 50 episodes: -29197.73\n",
      "    Evaluation Average Reward: -29783.33\n",
      "\n",
      "Running combination 235/9555 with parameters: {'epsilon': 0.025, 'epsilon_decay': 0.99, 'alpha': 0.6, 'gamma': 0.8, 'no_change_after_lap': 150}\n",
      "    Training Episode 0/5\n"
     ]
    },
    {
     "name": "stderr",
     "output_type": "stream",
     "text": [
      "235it [7:58:26, 117.49s/it]"
     ]
    },
    {
     "name": "stdout",
     "output_type": "stream",
     "text": [
      "    Evaluation Episode 0/1\n",
      "    Average Reward over last 50 episodes: -17112.39\n",
      "    Min Reward over last 50 episodes: -17197.39\n",
      "    Max Reward over last 50 episodes: -17029.09\n",
      "    Evaluation Average Reward: -17292.22\n",
      "\n",
      "Running combination 236/9555 with parameters: {'epsilon': 0.025, 'epsilon_decay': 0.999, 'alpha': 0.9, 'gamma': 0.6, 'no_change_after_lap': 160}\n",
      "    Training Episode 0/5\n"
     ]
    },
    {
     "name": "stderr",
     "output_type": "stream",
     "text": [
      "236it [8:00:24, 117.77s/it]"
     ]
    },
    {
     "name": "stdout",
     "output_type": "stream",
     "text": [
      "    Evaluation Episode 0/1\n",
      "    Average Reward over last 50 episodes: -16075.08\n",
      "    Min Reward over last 50 episodes: -16150.12\n",
      "    Max Reward over last 50 episodes: -16007.97\n",
      "    Evaluation Average Reward: -16174.57\n",
      "\n",
      "Running combination 237/9555 with parameters: {'epsilon': 0.2, 'epsilon_decay': 0.999, 'alpha': 1.0, 'gamma': 1.0, 'no_change_after_lap': 150}\n",
      "    Training Episode 0/5\n"
     ]
    },
    {
     "name": "stderr",
     "output_type": "stream",
     "text": [
      "237it [8:02:24, 118.43s/it]"
     ]
    },
    {
     "name": "stdout",
     "output_type": "stream",
     "text": [
      "    Evaluation Episode 0/1\n",
      "    Average Reward over last 50 episodes: -17118.25\n",
      "    Min Reward over last 50 episodes: -17300.41\n",
      "    Max Reward over last 50 episodes: -16872.21\n",
      "    Evaluation Average Reward: -17150.41\n",
      "\n",
      "Running combination 238/9555 with parameters: {'epsilon': 0.1, 'epsilon_decay': 0.995, 'alpha': 0.2, 'gamma': 0.6, 'no_change_after_lap': 105}\n",
      "    Training Episode 0/5\n"
     ]
    },
    {
     "name": "stderr",
     "output_type": "stream",
     "text": [
      "238it [8:04:23, 118.46s/it]"
     ]
    },
    {
     "name": "stdout",
     "output_type": "stream",
     "text": [
      "    Evaluation Episode 0/1\n",
      "    Average Reward over last 50 episodes: -28102.58\n",
      "    Min Reward over last 50 episodes: -28342.63\n",
      "    Max Reward over last 50 episodes: -27762.38\n",
      "    Evaluation Average Reward: -28393.60\n",
      "\n",
      "Running combination 239/9555 with parameters: {'epsilon': 0.0, 'epsilon_decay': 0.999, 'alpha': 0.9, 'gamma': 0.6, 'no_change_after_lap': 120}\n",
      "    Training Episode 0/5\n"
     ]
    },
    {
     "name": "stderr",
     "output_type": "stream",
     "text": [
      "239it [8:06:23, 118.95s/it]"
     ]
    },
    {
     "name": "stdout",
     "output_type": "stream",
     "text": [
      "    Evaluation Episode 0/1\n",
      "    Average Reward over last 50 episodes: -24363.41\n",
      "    Min Reward over last 50 episodes: -24532.44\n",
      "    Max Reward over last 50 episodes: -24017.99\n",
      "    Evaluation Average Reward: -24430.84\n",
      "\n",
      "Running combination 240/9555 with parameters: {'epsilon': 0.1, 'epsilon_decay': 0.995, 'alpha': 0.8, 'gamma': 0.4, 'no_change_after_lap': 115}\n",
      "    Training Episode 0/5\n"
     ]
    },
    {
     "name": "stderr",
     "output_type": "stream",
     "text": [
      "240it [8:08:21, 118.63s/it]"
     ]
    },
    {
     "name": "stdout",
     "output_type": "stream",
     "text": [
      "    Evaluation Episode 0/1\n",
      "    Average Reward over last 50 episodes: -25486.25\n",
      "    Min Reward over last 50 episodes: -25680.65\n",
      "    Max Reward over last 50 episodes: -25202.59\n",
      "    Evaluation Average Reward: -25701.33\n",
      "\n",
      "Running combination 241/9555 with parameters: {'epsilon': 0.1, 'epsilon_decay': 0.995, 'alpha': 0.6, 'gamma': 0.4, 'no_change_after_lap': 150}\n",
      "    Training Episode 0/5\n"
     ]
    },
    {
     "name": "stderr",
     "output_type": "stream",
     "text": [
      "241it [8:10:14, 117.00s/it]"
     ]
    },
    {
     "name": "stdout",
     "output_type": "stream",
     "text": [
      "    Evaluation Episode 0/1\n",
      "    Average Reward over last 50 episodes: -17139.98\n",
      "    Min Reward over last 50 episodes: -17303.03\n",
      "    Max Reward over last 50 episodes: -17009.40\n",
      "    Evaluation Average Reward: -16838.66\n",
      "\n",
      "Running combination 242/9555 with parameters: {'epsilon': 0.0, 'epsilon_decay': 0.999, 'alpha': 0.4, 'gamma': 0.4, 'no_change_after_lap': 100}\n",
      "    Training Episode 0/5\n"
     ]
    },
    {
     "name": "stderr",
     "output_type": "stream",
     "text": [
      "242it [8:12:13, 117.59s/it]"
     ]
    },
    {
     "name": "stdout",
     "output_type": "stream",
     "text": [
      "    Evaluation Episode 0/1\n",
      "    Average Reward over last 50 episodes: -29400.49\n",
      "    Min Reward over last 50 episodes: -29498.47\n",
      "    Max Reward over last 50 episodes: -29264.31\n",
      "    Evaluation Average Reward: -29650.37\n",
      "\n",
      "Running combination 243/9555 with parameters: {'epsilon': 0.025, 'epsilon_decay': 0.995, 'alpha': 0.6, 'gamma': 0.2, 'no_change_after_lap': 140}\n",
      "    Training Episode 0/5\n"
     ]
    },
    {
     "name": "stderr",
     "output_type": "stream",
     "text": [
      "243it [8:14:09, 117.27s/it]"
     ]
    },
    {
     "name": "stdout",
     "output_type": "stream",
     "text": [
      "    Evaluation Episode 0/1\n",
      "    Average Reward over last 50 episodes: -19430.21\n",
      "    Min Reward over last 50 episodes: -19649.56\n",
      "    Max Reward over last 50 episodes: -19137.60\n",
      "    Evaluation Average Reward: -19276.59\n",
      "\n",
      "Running combination 244/9555 with parameters: {'epsilon': 0.025, 'epsilon_decay': 0.999, 'alpha': 0.0, 'gamma': 0.6, 'no_change_after_lap': 135}\n",
      "    Training Episode 0/5\n"
     ]
    },
    {
     "name": "stderr",
     "output_type": "stream",
     "text": [
      "244it [8:15:59, 114.90s/it]"
     ]
    },
    {
     "name": "stdout",
     "output_type": "stream",
     "text": [
      "    Evaluation Episode 0/1\n",
      "    Average Reward over last 50 episodes: -20622.94\n",
      "    Min Reward over last 50 episodes: -20762.62\n",
      "    Max Reward over last 50 episodes: -20229.77\n",
      "    Evaluation Average Reward: -20255.05\n",
      "\n",
      "Running combination 245/9555 with parameters: {'epsilon': 0.025, 'epsilon_decay': 0.995, 'alpha': 0.0, 'gamma': 0.9, 'no_change_after_lap': 100}\n",
      "    Training Episode 0/5\n"
     ]
    },
    {
     "name": "stderr",
     "output_type": "stream",
     "text": [
      "245it [8:17:42, 111.48s/it]"
     ]
    },
    {
     "name": "stdout",
     "output_type": "stream",
     "text": [
      "    Evaluation Episode 0/1\n",
      "    Average Reward over last 50 episodes: -29503.71\n",
      "    Min Reward over last 50 episodes: -29583.82\n",
      "    Max Reward over last 50 episodes: -29378.53\n",
      "    Evaluation Average Reward: -29178.84\n",
      "SKIPPING\n",
      "\n",
      "Running combination 246/9555 with parameters: {'epsilon': 0.05, 'epsilon_decay': 0.999, 'alpha': 0.6, 'gamma': 0.9, 'no_change_after_lap': 145}\n",
      "    Training Episode 0/5\n"
     ]
    },
    {
     "name": "stderr",
     "output_type": "stream",
     "text": [
      "246it [8:19:42, 114.05s/it]"
     ]
    },
    {
     "name": "stdout",
     "output_type": "stream",
     "text": [
      "    Evaluation Episode 0/1\n",
      "    Average Reward over last 50 episodes: -18175.36\n",
      "    Min Reward over last 50 episodes: -18336.12\n",
      "    Max Reward over last 50 episodes: -17892.41\n",
      "    Evaluation Average Reward: -18275.56\n",
      "\n",
      "Running combination 247/9555 with parameters: {'epsilon': 0.2, 'epsilon_decay': 0.99, 'alpha': 0.6, 'gamma': 0.6, 'no_change_after_lap': 145}\n",
      "    Training Episode 0/5\n"
     ]
    },
    {
     "name": "stderr",
     "output_type": "stream",
     "text": [
      "247it [8:21:41, 115.50s/it]"
     ]
    },
    {
     "name": "stdout",
     "output_type": "stream",
     "text": [
      "    Evaluation Episode 0/1\n",
      "    Average Reward over last 50 episodes: -18179.01\n",
      "    Min Reward over last 50 episodes: -18290.61\n",
      "    Max Reward over last 50 episodes: -18058.78\n",
      "    Evaluation Average Reward: -18360.80\n",
      "\n",
      "Running combination 248/9555 with parameters: {'epsilon': 0.1, 'epsilon_decay': 0.99, 'alpha': 0.6, 'gamma': 1.0, 'no_change_after_lap': 130}\n",
      "    Training Episode 0/5\n"
     ]
    },
    {
     "name": "stderr",
     "output_type": "stream",
     "text": [
      "248it [8:23:43, 117.45s/it]"
     ]
    },
    {
     "name": "stdout",
     "output_type": "stream",
     "text": [
      "    Evaluation Episode 0/1\n",
      "    Average Reward over last 50 episodes: -21786.43\n",
      "    Min Reward over last 50 episodes: -22111.95\n",
      "    Max Reward over last 50 episodes: -21516.96\n",
      "    Evaluation Average Reward: -22075.81\n",
      "\n",
      "Running combination 249/9555 with parameters: {'epsilon': 0.025, 'epsilon_decay': 0.995, 'alpha': 0.6, 'gamma': 0.9, 'no_change_after_lap': 135}\n",
      "    Training Episode 0/5\n"
     ]
    },
    {
     "name": "stderr",
     "output_type": "stream",
     "text": [
      "249it [8:25:42, 117.97s/it]"
     ]
    },
    {
     "name": "stdout",
     "output_type": "stream",
     "text": [
      "    Evaluation Episode 0/1\n",
      "    Average Reward over last 50 episodes: -20692.24\n",
      "    Min Reward over last 50 episodes: -20863.06\n",
      "    Max Reward over last 50 episodes: -20471.36\n",
      "    Evaluation Average Reward: -20761.02\n",
      "\n",
      "Running combination 250/9555 with parameters: {'epsilon': 0.025, 'epsilon_decay': 0.99, 'alpha': 0.6, 'gamma': 1.0, 'no_change_after_lap': 135}\n",
      "    Training Episode 0/5\n"
     ]
    },
    {
     "name": "stderr",
     "output_type": "stream",
     "text": [
      "250it [8:27:40, 117.78s/it]"
     ]
    },
    {
     "name": "stdout",
     "output_type": "stream",
     "text": [
      "    Evaluation Episode 0/1\n",
      "    Average Reward over last 50 episodes: -20605.37\n",
      "    Min Reward over last 50 episodes: -20792.56\n",
      "    Max Reward over last 50 episodes: -20488.23\n",
      "    Evaluation Average Reward: -20598.21\n",
      "\n",
      "Running combination 251/9555 with parameters: {'epsilon': 0.1, 'epsilon_decay': 0.995, 'alpha': 0.2, 'gamma': 0.2, 'no_change_after_lap': 135}\n",
      "    Training Episode 0/5\n"
     ]
    },
    {
     "name": "stderr",
     "output_type": "stream",
     "text": [
      "251it [8:29:38, 118.04s/it]"
     ]
    },
    {
     "name": "stdout",
     "output_type": "stream",
     "text": [
      "    Evaluation Episode 0/1\n",
      "    Average Reward over last 50 episodes: -20353.87\n",
      "    Min Reward over last 50 episodes: -20885.68\n",
      "    Max Reward over last 50 episodes: -20161.96\n",
      "    Evaluation Average Reward: -20366.68\n",
      "\n",
      "Running combination 252/9555 with parameters: {'epsilon': 0.05, 'epsilon_decay': 0.99, 'alpha': 0.9, 'gamma': 0.9, 'no_change_after_lap': 150}\n",
      "    Training Episode 0/5\n"
     ]
    },
    {
     "name": "stderr",
     "output_type": "stream",
     "text": [
      "252it [8:31:38, 118.47s/it]"
     ]
    },
    {
     "name": "stdout",
     "output_type": "stream",
     "text": [
      "    Evaluation Episode 0/1\n",
      "    Average Reward over last 50 episodes: -17035.80\n",
      "    Min Reward over last 50 episodes: -17208.66\n",
      "    Max Reward over last 50 episodes: -16900.99\n",
      "    Evaluation Average Reward: -16976.53\n",
      "\n",
      "Running combination 253/9555 with parameters: {'epsilon': 0.05, 'epsilon_decay': 0.999, 'alpha': 0.4, 'gamma': 0.9, 'no_change_after_lap': 120}\n",
      "    Training Episode 0/5\n"
     ]
    },
    {
     "name": "stderr",
     "output_type": "stream",
     "text": [
      "253it [8:33:38, 119.01s/it]"
     ]
    },
    {
     "name": "stdout",
     "output_type": "stream",
     "text": [
      "    Evaluation Episode 0/1\n",
      "    Average Reward over last 50 episodes: -24200.30\n",
      "    Min Reward over last 50 episodes: -24263.80\n",
      "    Max Reward over last 50 episodes: -24139.34\n",
      "    Evaluation Average Reward: -24242.77\n",
      "\n",
      "Running combination 254/9555 with parameters: {'epsilon': 0.0, 'epsilon_decay': 0.995, 'alpha': 0.8, 'gamma': 0.4, 'no_change_after_lap': 135}\n",
      "    Training Episode 0/5\n"
     ]
    },
    {
     "name": "stderr",
     "output_type": "stream",
     "text": [
      "254it [8:35:35, 118.24s/it]"
     ]
    },
    {
     "name": "stdout",
     "output_type": "stream",
     "text": [
      "    Evaluation Episode 0/1\n",
      "    Average Reward over last 50 episodes: -20670.86\n",
      "    Min Reward over last 50 episodes: -20842.65\n",
      "    Max Reward over last 50 episodes: -20500.77\n",
      "    Evaluation Average Reward: -20855.38\n",
      "\n",
      "Running combination 255/9555 with parameters: {'epsilon': 0.1, 'epsilon_decay': 0.999, 'alpha': 0.8, 'gamma': 1.0, 'no_change_after_lap': 115}\n",
      "    Training Episode 0/5\n"
     ]
    },
    {
     "name": "stderr",
     "output_type": "stream",
     "text": [
      "255it [8:37:33, 118.38s/it]"
     ]
    },
    {
     "name": "stdout",
     "output_type": "stream",
     "text": [
      "    Evaluation Episode 0/1\n",
      "    Average Reward over last 50 episodes: -25696.36\n",
      "    Min Reward over last 50 episodes: -25877.76\n",
      "    Max Reward over last 50 episodes: -25431.20\n",
      "    Evaluation Average Reward: -25848.69\n",
      "\n",
      "Running combination 256/9555 with parameters: {'epsilon': 0.1, 'epsilon_decay': 0.999, 'alpha': 0.2, 'gamma': 1.0, 'no_change_after_lap': 115}\n",
      "    Training Episode 0/5\n"
     ]
    },
    {
     "name": "stderr",
     "output_type": "stream",
     "text": [
      "256it [8:39:36, 119.59s/it]"
     ]
    },
    {
     "name": "stdout",
     "output_type": "stream",
     "text": [
      "    Evaluation Episode 0/1\n",
      "    Average Reward over last 50 episodes: -25503.32\n",
      "    Min Reward over last 50 episodes: -25762.69\n",
      "    Max Reward over last 50 episodes: -25215.61\n",
      "    Evaluation Average Reward: -25193.38\n",
      "\n",
      "Running combination 257/9555 with parameters: {'epsilon': 0.1, 'epsilon_decay': 0.999, 'alpha': 0.9, 'gamma': 0.4, 'no_change_after_lap': 120}\n",
      "    Training Episode 0/5\n"
     ]
    },
    {
     "name": "stderr",
     "output_type": "stream",
     "text": [
      "257it [8:41:37, 120.12s/it]"
     ]
    },
    {
     "name": "stdout",
     "output_type": "stream",
     "text": [
      "    Evaluation Episode 0/1\n",
      "    Average Reward over last 50 episodes: -24374.08\n",
      "    Min Reward over last 50 episodes: -24601.13\n",
      "    Max Reward over last 50 episodes: -23998.11\n",
      "    Evaluation Average Reward: -24445.54\n",
      "\n",
      "Running combination 258/9555 with parameters: {'epsilon': 0.05, 'epsilon_decay': 0.999, 'alpha': 1.0, 'gamma': 0.8, 'no_change_after_lap': 150}\n",
      "    Training Episode 0/5\n"
     ]
    },
    {
     "name": "stderr",
     "output_type": "stream",
     "text": [
      "258it [8:43:36, 119.72s/it]"
     ]
    },
    {
     "name": "stdout",
     "output_type": "stream",
     "text": [
      "    Evaluation Episode 0/1\n",
      "    Average Reward over last 50 episodes: -17156.88\n",
      "    Min Reward over last 50 episodes: -17296.65\n",
      "    Max Reward over last 50 episodes: -16980.38\n",
      "    Evaluation Average Reward: -17052.77\n",
      "\n",
      "Running combination 259/9555 with parameters: {'epsilon': 0.2, 'epsilon_decay': 0.999, 'alpha': 0.6, 'gamma': 0.4, 'no_change_after_lap': 125}\n",
      "    Training Episode 0/5\n"
     ]
    },
    {
     "name": "stderr",
     "output_type": "stream",
     "text": [
      "259it [8:45:32, 118.60s/it]"
     ]
    },
    {
     "name": "stdout",
     "output_type": "stream",
     "text": [
      "    Evaluation Episode 0/1\n",
      "    Average Reward over last 50 episodes: -23211.50\n",
      "    Min Reward over last 50 episodes: -23345.15\n",
      "    Max Reward over last 50 episodes: -22961.20\n",
      "    Evaluation Average Reward: -23272.55\n",
      "\n",
      "Running combination 260/9555 with parameters: {'epsilon': 0.05, 'epsilon_decay': 0.995, 'alpha': 0.2, 'gamma': 0.9, 'no_change_after_lap': 100}\n",
      "    Training Episode 0/5\n"
     ]
    },
    {
     "name": "stderr",
     "output_type": "stream",
     "text": [
      "260it [8:47:34, 119.62s/it]"
     ]
    },
    {
     "name": "stdout",
     "output_type": "stream",
     "text": [
      "    Evaluation Episode 0/1\n",
      "    Average Reward over last 50 episodes: -29328.95\n",
      "    Min Reward over last 50 episodes: -29676.04\n",
      "    Max Reward over last 50 episodes: -29003.62\n",
      "    Evaluation Average Reward: -29051.92\n",
      "\n",
      "Running combination 261/9555 with parameters: {'epsilon': 0.025, 'epsilon_decay': 0.99, 'alpha': 0.2, 'gamma': 0.8, 'no_change_after_lap': 120}\n",
      "    Training Episode 0/5\n"
     ]
    },
    {
     "name": "stderr",
     "output_type": "stream",
     "text": [
      "261it [8:49:32, 119.13s/it]"
     ]
    },
    {
     "name": "stdout",
     "output_type": "stream",
     "text": [
      "    Evaluation Episode 0/1\n",
      "    Average Reward over last 50 episodes: -24365.15\n",
      "    Min Reward over last 50 episodes: -24690.28\n",
      "    Max Reward over last 50 episodes: -24019.03\n",
      "    Evaluation Average Reward: -24447.40\n",
      "\n",
      "Running combination 262/9555 with parameters: {'epsilon': 0.2, 'epsilon_decay': 0.99, 'alpha': 0.9, 'gamma': 0.2, 'no_change_after_lap': 160}\n",
      "    Training Episode 0/5\n"
     ]
    },
    {
     "name": "stderr",
     "output_type": "stream",
     "text": [
      "262it [8:51:37, 120.84s/it]"
     ]
    },
    {
     "name": "stdout",
     "output_type": "stream",
     "text": [
      "    Evaluation Episode 0/1\n",
      "    Average Reward over last 50 episodes: -16065.66\n",
      "    Min Reward over last 50 episodes: -16149.67\n",
      "    Max Reward over last 50 episodes: -15957.65\n",
      "    Evaluation Average Reward: -16090.18\n",
      "\n",
      "Running combination 263/9555 with parameters: {'epsilon': 0.0, 'epsilon_decay': 0.99, 'alpha': 0.8, 'gamma': 0.6, 'no_change_after_lap': 130}\n",
      "    Training Episode 0/5\n"
     ]
    },
    {
     "name": "stderr",
     "output_type": "stream",
     "text": [
      "263it [8:53:35, 119.96s/it]"
     ]
    },
    {
     "name": "stdout",
     "output_type": "stream",
     "text": [
      "    Evaluation Episode 0/1\n",
      "    Average Reward over last 50 episodes: -21896.36\n",
      "    Min Reward over last 50 episodes: -22140.49\n",
      "    Max Reward over last 50 episodes: -21608.77\n",
      "    Evaluation Average Reward: -21465.59\n",
      "\n",
      "Running combination 264/9555 with parameters: {'epsilon': 0.1, 'epsilon_decay': 0.995, 'alpha': 0.2, 'gamma': 0.9, 'no_change_after_lap': 115}\n",
      "    Training Episode 0/5\n"
     ]
    },
    {
     "name": "stderr",
     "output_type": "stream",
     "text": [
      "264it [8:55:31, 119.02s/it]"
     ]
    },
    {
     "name": "stdout",
     "output_type": "stream",
     "text": [
      "    Evaluation Episode 0/1\n",
      "    Average Reward over last 50 episodes: -25572.64\n",
      "    Min Reward over last 50 episodes: -25839.43\n",
      "    Max Reward over last 50 episodes: -25274.43\n",
      "    Evaluation Average Reward: -25496.62\n",
      "\n",
      "Running combination 265/9555 with parameters: {'epsilon': 0.1, 'epsilon_decay': 0.99, 'alpha': 1.0, 'gamma': 0.8, 'no_change_after_lap': 150}\n",
      "    Training Episode 0/5\n"
     ]
    },
    {
     "name": "stderr",
     "output_type": "stream",
     "text": [
      "265it [8:57:34, 120.09s/it]"
     ]
    },
    {
     "name": "stdout",
     "output_type": "stream",
     "text": [
      "    Evaluation Episode 0/1\n",
      "    Average Reward over last 50 episodes: -17045.38\n",
      "    Min Reward over last 50 episodes: -17177.69\n",
      "    Max Reward over last 50 episodes: -16957.48\n",
      "    Evaluation Average Reward: -17283.05\n",
      "\n",
      "Running combination 266/9555 with parameters: {'epsilon': 0.2, 'epsilon_decay': 0.995, 'alpha': 0.9, 'gamma': 0.9, 'no_change_after_lap': 135}\n",
      "    Training Episode 0/5\n"
     ]
    },
    {
     "name": "stderr",
     "output_type": "stream",
     "text": [
      "266it [8:59:34, 119.95s/it]"
     ]
    },
    {
     "name": "stdout",
     "output_type": "stream",
     "text": [
      "    Evaluation Episode 0/1\n",
      "    Average Reward over last 50 episodes: -20518.65\n",
      "    Min Reward over last 50 episodes: -20829.66\n",
      "    Max Reward over last 50 episodes: -20310.23\n",
      "    Evaluation Average Reward: -20522.48\n",
      "\n",
      "Running combination 267/9555 with parameters: {'epsilon': 0.0, 'epsilon_decay': 0.995, 'alpha': 0.4, 'gamma': 0.6, 'no_change_after_lap': 145}\n",
      "    Training Episode 0/5\n"
     ]
    },
    {
     "name": "stderr",
     "output_type": "stream",
     "text": [
      "267it [9:01:33, 119.81s/it]"
     ]
    },
    {
     "name": "stdout",
     "output_type": "stream",
     "text": [
      "    Evaluation Episode 0/1\n",
      "    Average Reward over last 50 episodes: -18172.98\n",
      "    Min Reward over last 50 episodes: -18383.42\n",
      "    Max Reward over last 50 episodes: -17918.11\n",
      "    Evaluation Average Reward: -18210.03\n",
      "\n",
      "Running combination 268/9555 with parameters: {'epsilon': 0.05, 'epsilon_decay': 0.99, 'alpha': 0.8, 'gamma': 0.9, 'no_change_after_lap': 140}\n",
      "    Training Episode 0/5\n"
     ]
    },
    {
     "name": "stderr",
     "output_type": "stream",
     "text": [
      "268it [9:03:35, 120.35s/it]"
     ]
    },
    {
     "name": "stdout",
     "output_type": "stream",
     "text": [
      "    Evaluation Episode 0/1\n",
      "    Average Reward over last 50 episodes: -19364.18\n",
      "    Min Reward over last 50 episodes: -19537.51\n",
      "    Max Reward over last 50 episodes: -19026.29\n",
      "    Evaluation Average Reward: -18924.32\n",
      "\n",
      "Running combination 269/9555 with parameters: {'epsilon': 0.0, 'epsilon_decay': 0.99, 'alpha': 0.4, 'gamma': 0.9, 'no_change_after_lap': 110}\n",
      "    Training Episode 0/5\n"
     ]
    },
    {
     "name": "stderr",
     "output_type": "stream",
     "text": [
      "269it [9:05:35, 120.35s/it]"
     ]
    },
    {
     "name": "stdout",
     "output_type": "stream",
     "text": [
      "    Evaluation Episode 0/1\n",
      "    Average Reward over last 50 episodes: -26892.94\n",
      "    Min Reward over last 50 episodes: -27130.14\n",
      "    Max Reward over last 50 episodes: -26608.25\n",
      "    Evaluation Average Reward: -27175.66\n",
      "\n",
      "Running combination 270/9555 with parameters: {'epsilon': 0.0, 'epsilon_decay': 0.995, 'alpha': 0.9, 'gamma': 0.8, 'no_change_after_lap': 140}\n",
      "    Training Episode 0/5\n"
     ]
    },
    {
     "name": "stderr",
     "output_type": "stream",
     "text": [
      "270it [9:07:35, 120.25s/it]"
     ]
    },
    {
     "name": "stdout",
     "output_type": "stream",
     "text": [
      "    Evaluation Episode 0/1\n",
      "    Average Reward over last 50 episodes: -19437.51\n",
      "    Min Reward over last 50 episodes: -19600.20\n",
      "    Max Reward over last 50 episodes: -19183.67\n",
      "    Evaluation Average Reward: -19266.32\n",
      "\n",
      "Running combination 271/9555 with parameters: {'epsilon': 0.1, 'epsilon_decay': 0.995, 'alpha': 0.9, 'gamma': 0.8, 'no_change_after_lap': 140}\n",
      "    Training Episode 0/5\n"
     ]
    },
    {
     "name": "stderr",
     "output_type": "stream",
     "text": [
      "271it [9:09:29, 118.40s/it]"
     ]
    },
    {
     "name": "stdout",
     "output_type": "stream",
     "text": [
      "    Evaluation Episode 0/1\n",
      "    Average Reward over last 50 episodes: -19289.09\n",
      "    Min Reward over last 50 episodes: -19481.02\n",
      "    Max Reward over last 50 episodes: -19003.70\n",
      "    Evaluation Average Reward: -19211.31\n",
      "\n",
      "Running combination 272/9555 with parameters: {'epsilon': 0.2, 'epsilon_decay': 0.995, 'alpha': 1.0, 'gamma': 0.9, 'no_change_after_lap': 150}\n",
      "    Training Episode 0/5\n"
     ]
    },
    {
     "name": "stderr",
     "output_type": "stream",
     "text": [
      "272it [9:11:30, 119.10s/it]"
     ]
    },
    {
     "name": "stdout",
     "output_type": "stream",
     "text": [
      "    Evaluation Episode 0/1\n",
      "    Average Reward over last 50 episodes: -17073.45\n",
      "    Min Reward over last 50 episodes: -17283.98\n",
      "    Max Reward over last 50 episodes: -16888.83\n",
      "    Evaluation Average Reward: -17274.65\n",
      "SKIPPING\n",
      "\n",
      "Running combination 273/9555 with parameters: {'epsilon': 0.1, 'epsilon_decay': 0.999, 'alpha': 0.0, 'gamma': 0.6, 'no_change_after_lap': 110}\n",
      "    Training Episode 0/5\n"
     ]
    },
    {
     "name": "stderr",
     "output_type": "stream",
     "text": [
      "273it [9:13:30, 119.33s/it]"
     ]
    },
    {
     "name": "stdout",
     "output_type": "stream",
     "text": [
      "    Evaluation Episode 0/1\n",
      "    Average Reward over last 50 episodes: -26796.36\n",
      "    Min Reward over last 50 episodes: -27046.16\n",
      "    Max Reward over last 50 episodes: -26550.42\n",
      "    Evaluation Average Reward: -27068.52\n",
      "\n",
      "Running combination 274/9555 with parameters: {'epsilon': 0.05, 'epsilon_decay': 0.99, 'alpha': 1.0, 'gamma': 1.0, 'no_change_after_lap': 135}\n",
      "    Training Episode 0/5\n"
     ]
    },
    {
     "name": "stderr",
     "output_type": "stream",
     "text": [
      "274it [9:15:31, 119.93s/it]"
     ]
    },
    {
     "name": "stdout",
     "output_type": "stream",
     "text": [
      "    Evaluation Episode 0/1\n",
      "    Average Reward over last 50 episodes: -20656.02\n",
      "    Min Reward over last 50 episodes: -20880.39\n",
      "    Max Reward over last 50 episodes: -20249.23\n",
      "    Evaluation Average Reward: -20576.37\n",
      "\n",
      "Running combination 275/9555 with parameters: {'epsilon': 0.0, 'epsilon_decay': 0.995, 'alpha': 0.0, 'gamma': 1.0, 'no_change_after_lap': 135}\n",
      "    Training Episode 0/5\n"
     ]
    },
    {
     "name": "stderr",
     "output_type": "stream",
     "text": [
      "275it [9:17:16, 115.29s/it]"
     ]
    },
    {
     "name": "stdout",
     "output_type": "stream",
     "text": [
      "    Evaluation Episode 0/1\n",
      "    Average Reward over last 50 episodes: -20592.22\n",
      "    Min Reward over last 50 episodes: -20769.56\n",
      "    Max Reward over last 50 episodes: -20434.52\n",
      "    Evaluation Average Reward: -20455.64\n",
      "\n",
      "Running combination 276/9555 with parameters: {'epsilon': 0.025, 'epsilon_decay': 0.999, 'alpha': 0.8, 'gamma': 0.0, 'no_change_after_lap': 105}\n",
      "    Training Episode 0/5\n"
     ]
    },
    {
     "name": "stderr",
     "output_type": "stream",
     "text": [
      "276it [9:19:18, 117.46s/it]"
     ]
    },
    {
     "name": "stdout",
     "output_type": "stream",
     "text": [
      "    Evaluation Episode 0/1\n",
      "    Average Reward over last 50 episodes: -28210.14\n",
      "    Min Reward over last 50 episodes: -28479.73\n",
      "    Max Reward over last 50 episodes: -27814.75\n",
      "    Evaluation Average Reward: -28025.54\n",
      "\n",
      "Running combination 277/9555 with parameters: {'epsilon': 0.1, 'epsilon_decay': 0.99, 'alpha': 0.6, 'gamma': 0.0, 'no_change_after_lap': 105}\n",
      "    Training Episode 0/5\n"
     ]
    },
    {
     "name": "stderr",
     "output_type": "stream",
     "text": [
      "277it [9:21:22, 119.38s/it]"
     ]
    },
    {
     "name": "stdout",
     "output_type": "stream",
     "text": [
      "    Evaluation Episode 0/1\n",
      "    Average Reward over last 50 episodes: -28180.03\n",
      "    Min Reward over last 50 episodes: -28481.63\n",
      "    Max Reward over last 50 episodes: -27817.99\n",
      "    Evaluation Average Reward: -28109.79\n",
      "\n",
      "Running combination 278/9555 with parameters: {'epsilon': 0.025, 'epsilon_decay': 0.99, 'alpha': 0.2, 'gamma': 0.8, 'no_change_after_lap': 145}\n",
      "    Training Episode 0/5\n"
     ]
    },
    {
     "name": "stderr",
     "output_type": "stream",
     "text": [
      "278it [9:23:26, 120.67s/it]"
     ]
    },
    {
     "name": "stdout",
     "output_type": "stream",
     "text": [
      "    Evaluation Episode 0/1\n",
      "    Average Reward over last 50 episodes: -18018.66\n",
      "    Min Reward over last 50 episodes: -18215.55\n",
      "    Max Reward over last 50 episodes: -17876.45\n",
      "    Evaluation Average Reward: -18193.55\n",
      "\n",
      "Running combination 279/9555 with parameters: {'epsilon': 0.2, 'epsilon_decay': 0.99, 'alpha': 1.0, 'gamma': 0.4, 'no_change_after_lap': 110}\n",
      "    Training Episode 0/5\n"
     ]
    },
    {
     "name": "stderr",
     "output_type": "stream",
     "text": [
      "279it [9:25:29, 121.35s/it]"
     ]
    },
    {
     "name": "stdout",
     "output_type": "stream",
     "text": [
      "    Evaluation Episode 0/1\n",
      "    Average Reward over last 50 episodes: -26973.98\n",
      "    Min Reward over last 50 episodes: -27115.16\n",
      "    Max Reward over last 50 episodes: -26919.88\n",
      "    Evaluation Average Reward: -26718.20\n",
      "\n",
      "Running combination 280/9555 with parameters: {'epsilon': 0.025, 'epsilon_decay': 0.995, 'alpha': 0.0, 'gamma': 0.8, 'no_change_after_lap': 155}\n",
      "    Training Episode 0/5\n"
     ]
    },
    {
     "name": "stderr",
     "output_type": "stream",
     "text": [
      "280it [9:27:13, 116.24s/it]"
     ]
    },
    {
     "name": "stdout",
     "output_type": "stream",
     "text": [
      "    Evaluation Episode 0/1\n",
      "    Average Reward over last 50 episodes: -16349.85\n",
      "    Min Reward over last 50 episodes: -16442.25\n",
      "    Max Reward over last 50 episodes: -16254.12\n",
      "    Evaluation Average Reward: -16301.25\n",
      "\n",
      "Running combination 281/9555 with parameters: {'epsilon': 0.2, 'epsilon_decay': 0.999, 'alpha': 1.0, 'gamma': 0.0, 'no_change_after_lap': 130}\n",
      "    Training Episode 0/5\n"
     ]
    },
    {
     "name": "stderr",
     "output_type": "stream",
     "text": [
      "281it [9:29:17, 118.69s/it]"
     ]
    },
    {
     "name": "stdout",
     "output_type": "stream",
     "text": [
      "    Evaluation Episode 0/1\n",
      "    Average Reward over last 50 episodes: -21925.75\n",
      "    Min Reward over last 50 episodes: -22142.27\n",
      "    Max Reward over last 50 episodes: -21654.88\n",
      "    Evaluation Average Reward: -21480.88\n",
      "\n",
      "Running combination 282/9555 with parameters: {'epsilon': 0.1, 'epsilon_decay': 0.99, 'alpha': 1.0, 'gamma': 0.2, 'no_change_after_lap': 120}\n",
      "    Training Episode 0/5\n"
     ]
    },
    {
     "name": "stderr",
     "output_type": "stream",
     "text": [
      "282it [9:31:12, 117.55s/it]"
     ]
    },
    {
     "name": "stdout",
     "output_type": "stream",
     "text": [
      "    Evaluation Episode 0/1\n",
      "    Average Reward over last 50 episodes: -24194.97\n",
      "    Min Reward over last 50 episodes: -24527.68\n",
      "    Max Reward over last 50 episodes: -24028.34\n",
      "    Evaluation Average Reward: -23963.00\n",
      "\n",
      "Running combination 283/9555 with parameters: {'epsilon': 0.05, 'epsilon_decay': 0.999, 'alpha': 0.0, 'gamma': 1.0, 'no_change_after_lap': 105}\n",
      "    Training Episode 0/5\n"
     ]
    },
    {
     "name": "stderr",
     "output_type": "stream",
     "text": [
      "283it [9:33:04, 115.80s/it]"
     ]
    },
    {
     "name": "stdout",
     "output_type": "stream",
     "text": [
      "    Evaluation Episode 0/1\n",
      "    Average Reward over last 50 episodes: -28091.88\n",
      "    Min Reward over last 50 episodes: -28365.04\n",
      "    Max Reward over last 50 episodes: -27863.29\n",
      "    Evaluation Average Reward: -27951.78\n",
      "SKIPPING\n",
      "\n",
      "Running combination 284/9555 with parameters: {'epsilon': 0.025, 'epsilon_decay': 0.999, 'alpha': 1.0, 'gamma': 0.8, 'no_change_after_lap': 135}\n",
      "    Training Episode 0/5\n"
     ]
    },
    {
     "name": "stderr",
     "output_type": "stream",
     "text": [
      "284it [9:35:07, 118.10s/it]"
     ]
    },
    {
     "name": "stdout",
     "output_type": "stream",
     "text": [
      "    Evaluation Episode 0/1\n",
      "    Average Reward over last 50 episodes: -20672.77\n",
      "    Min Reward over last 50 episodes: -20862.71\n",
      "    Max Reward over last 50 episodes: -20274.70\n",
      "    Evaluation Average Reward: -20641.45\n",
      "\n",
      "Running combination 285/9555 with parameters: {'epsilon': 0.2, 'epsilon_decay': 0.999, 'alpha': 0.8, 'gamma': 0.6, 'no_change_after_lap': 115}\n",
      "    Training Episode 0/5\n"
     ]
    },
    {
     "name": "stderr",
     "output_type": "stream",
     "text": [
      "285it [9:37:07, 118.62s/it]"
     ]
    },
    {
     "name": "stdout",
     "output_type": "stream",
     "text": [
      "    Evaluation Episode 0/1\n",
      "    Average Reward over last 50 episodes: -25598.73\n",
      "    Min Reward over last 50 episodes: -25796.85\n",
      "    Max Reward over last 50 episodes: -25467.99\n",
      "    Evaluation Average Reward: -25401.07\n",
      "\n",
      "Running combination 286/9555 with parameters: {'epsilon': 0.2, 'epsilon_decay': 0.999, 'alpha': 1.0, 'gamma': 0.6, 'no_change_after_lap': 105}\n",
      "    Training Episode 0/5\n"
     ]
    },
    {
     "name": "stderr",
     "output_type": "stream",
     "text": [
      "286it [9:39:09, 119.44s/it]"
     ]
    },
    {
     "name": "stdout",
     "output_type": "stream",
     "text": [
      "    Evaluation Episode 0/1\n",
      "    Average Reward over last 50 episodes: -28125.28\n",
      "    Min Reward over last 50 episodes: -28386.41\n",
      "    Max Reward over last 50 episodes: -27752.89\n",
      "    Evaluation Average Reward: -27872.10\n",
      "\n",
      "Running combination 287/9555 with parameters: {'epsilon': 0.05, 'epsilon_decay': 0.99, 'alpha': 0.2, 'gamma': 1.0, 'no_change_after_lap': 130}\n",
      "    Training Episode 0/5\n"
     ]
    },
    {
     "name": "stderr",
     "output_type": "stream",
     "text": [
      "287it [9:41:03, 118.08s/it]"
     ]
    },
    {
     "name": "stdout",
     "output_type": "stream",
     "text": [
      "    Evaluation Episode 0/1\n",
      "    Average Reward over last 50 episodes: -22003.00\n",
      "    Min Reward over last 50 episodes: -22261.08\n",
      "    Max Reward over last 50 episodes: -21636.93\n",
      "    Evaluation Average Reward: -21850.21\n",
      "\n",
      "Running combination 288/9555 with parameters: {'epsilon': 0.2, 'epsilon_decay': 0.999, 'alpha': 0.9, 'gamma': 0.9, 'no_change_after_lap': 145}\n",
      "    Training Episode 0/5\n"
     ]
    },
    {
     "name": "stderr",
     "output_type": "stream",
     "text": [
      "288it [9:43:06, 119.50s/it]"
     ]
    },
    {
     "name": "stdout",
     "output_type": "stream",
     "text": [
      "    Evaluation Episode 0/1\n",
      "    Average Reward over last 50 episodes: -18041.68\n",
      "    Min Reward over last 50 episodes: -18267.51\n",
      "    Max Reward over last 50 episodes: -17877.22\n",
      "    Evaluation Average Reward: -18051.48\n",
      "\n",
      "Running combination 289/9555 with parameters: {'epsilon': 0.05, 'epsilon_decay': 0.99, 'alpha': 0.4, 'gamma': 1.0, 'no_change_after_lap': 145}\n",
      "    Training Episode 0/5\n"
     ]
    },
    {
     "name": "stderr",
     "output_type": "stream",
     "text": [
      "289it [9:45:06, 119.66s/it]"
     ]
    },
    {
     "name": "stdout",
     "output_type": "stream",
     "text": [
      "    Evaluation Episode 0/1\n",
      "    Average Reward over last 50 episodes: -18143.83\n",
      "    Min Reward over last 50 episodes: -18288.51\n",
      "    Max Reward over last 50 episodes: -17915.00\n",
      "    Evaluation Average Reward: -18175.30\n",
      "\n",
      "Running combination 290/9555 with parameters: {'epsilon': 0.1, 'epsilon_decay': 0.99, 'alpha': 0.6, 'gamma': 0.8, 'no_change_after_lap': 100}\n",
      "    Training Episode 0/5\n"
     ]
    },
    {
     "name": "stderr",
     "output_type": "stream",
     "text": [
      "290it [9:47:03, 118.80s/it]"
     ]
    },
    {
     "name": "stdout",
     "output_type": "stream",
     "text": [
      "    Evaluation Episode 0/1\n",
      "    Average Reward over last 50 episodes: -29532.81\n",
      "    Min Reward over last 50 episodes: -29656.69\n",
      "    Max Reward over last 50 episodes: -29424.30\n",
      "    Evaluation Average Reward: -29571.34\n",
      "\n",
      "Running combination 291/9555 with parameters: {'epsilon': 0.05, 'epsilon_decay': 0.999, 'alpha': 0.2, 'gamma': 1.0, 'no_change_after_lap': 120}\n",
      "    Training Episode 0/5\n"
     ]
    },
    {
     "name": "stderr",
     "output_type": "stream",
     "text": [
      "291it [9:49:05, 119.64s/it]"
     ]
    },
    {
     "name": "stdout",
     "output_type": "stream",
     "text": [
      "    Evaluation Episode 0/1\n",
      "    Average Reward over last 50 episodes: -24384.23\n",
      "    Min Reward over last 50 episodes: -24620.37\n",
      "    Max Reward over last 50 episodes: -24210.51\n",
      "    Evaluation Average Reward: -24373.44\n",
      "\n",
      "Running combination 292/9555 with parameters: {'epsilon': 0.1, 'epsilon_decay': 0.999, 'alpha': 0.8, 'gamma': 0.9, 'no_change_after_lap': 135}\n",
      "    Training Episode 0/5\n"
     ]
    },
    {
     "name": "stderr",
     "output_type": "stream",
     "text": [
      "292it [9:51:05, 119.83s/it]"
     ]
    },
    {
     "name": "stdout",
     "output_type": "stream",
     "text": [
      "    Evaluation Episode 0/1\n",
      "    Average Reward over last 50 episodes: -20527.99\n",
      "    Min Reward over last 50 episodes: -20684.12\n",
      "    Max Reward over last 50 episodes: -20410.96\n",
      "    Evaluation Average Reward: -20642.71\n",
      "\n",
      "Running combination 293/9555 with parameters: {'epsilon': 0.0, 'epsilon_decay': 0.995, 'alpha': 1.0, 'gamma': 0.9, 'no_change_after_lap': 110}\n",
      "    Training Episode 0/5\n"
     ]
    },
    {
     "name": "stderr",
     "output_type": "stream",
     "text": [
      "293it [9:53:08, 120.74s/it]"
     ]
    },
    {
     "name": "stdout",
     "output_type": "stream",
     "text": [
      "    Evaluation Episode 0/1\n",
      "    Average Reward over last 50 episodes: -26916.70\n",
      "    Min Reward over last 50 episodes: -27138.50\n",
      "    Max Reward over last 50 episodes: -26605.10\n",
      "    Evaluation Average Reward: -26819.12\n",
      "\n",
      "Running combination 294/9555 with parameters: {'epsilon': 0.0, 'epsilon_decay': 0.999, 'alpha': 0.6, 'gamma': 0.9, 'no_change_after_lap': 120}\n",
      "    Training Episode 0/5\n"
     ]
    },
    {
     "name": "stderr",
     "output_type": "stream",
     "text": [
      "294it [9:55:06, 120.12s/it]"
     ]
    },
    {
     "name": "stdout",
     "output_type": "stream",
     "text": [
      "    Evaluation Episode 0/1\n",
      "    Average Reward over last 50 episodes: -24340.42\n",
      "    Min Reward over last 50 episodes: -24634.31\n",
      "    Max Reward over last 50 episodes: -24062.01\n",
      "    Evaluation Average Reward: -24082.10\n",
      "\n",
      "Running combination 295/9555 with parameters: {'epsilon': 0.1, 'epsilon_decay': 0.999, 'alpha': 1.0, 'gamma': 0.9, 'no_change_after_lap': 115}\n",
      "    Training Episode 0/5\n"
     ]
    },
    {
     "name": "stderr",
     "output_type": "stream",
     "text": [
      "295it [9:57:05, 119.74s/it]"
     ]
    },
    {
     "name": "stdout",
     "output_type": "stream",
     "text": [
      "    Evaluation Episode 0/1\n",
      "    Average Reward over last 50 episodes: -25578.61\n",
      "    Min Reward over last 50 episodes: -25721.22\n",
      "    Max Reward over last 50 episodes: -25262.63\n",
      "    Evaluation Average Reward: -25541.16\n",
      "\n",
      "Running combination 296/9555 with parameters: {'epsilon': 0.0, 'epsilon_decay': 0.995, 'alpha': 0.2, 'gamma': 0.9, 'no_change_after_lap': 115}\n",
      "    Training Episode 0/5\n"
     ]
    },
    {
     "name": "stderr",
     "output_type": "stream",
     "text": [
      "296it [9:59:08, 120.64s/it]"
     ]
    },
    {
     "name": "stdout",
     "output_type": "stream",
     "text": [
      "    Evaluation Episode 0/1\n",
      "    Average Reward over last 50 episodes: -25612.60\n",
      "    Min Reward over last 50 episodes: -25907.40\n",
      "    Max Reward over last 50 episodes: -25222.47\n",
      "    Evaluation Average Reward: -25609.34\n",
      "\n",
      "Running combination 297/9555 with parameters: {'epsilon': 0.05, 'epsilon_decay': 0.99, 'alpha': 0.0, 'gamma': 0.4, 'no_change_after_lap': 150}\n",
      "    Training Episode 0/5\n"
     ]
    },
    {
     "name": "stderr",
     "output_type": "stream",
     "text": [
      "297it [10:01:01, 118.21s/it]"
     ]
    },
    {
     "name": "stdout",
     "output_type": "stream",
     "text": [
      "    Evaluation Episode 0/1\n",
      "    Average Reward over last 50 episodes: -17088.10\n",
      "    Min Reward over last 50 episodes: -17268.91\n",
      "    Max Reward over last 50 episodes: -16979.76\n",
      "    Evaluation Average Reward: -17252.54\n",
      "\n",
      "Running combination 298/9555 with parameters: {'epsilon': 0.025, 'epsilon_decay': 0.995, 'alpha': 1.0, 'gamma': 0.9, 'no_change_after_lap': 115}\n",
      "    Training Episode 0/5\n"
     ]
    },
    {
     "name": "stderr",
     "output_type": "stream",
     "text": [
      "298it [10:03:04, 119.67s/it]"
     ]
    },
    {
     "name": "stdout",
     "output_type": "stream",
     "text": [
      "    Evaluation Episode 0/1\n",
      "    Average Reward over last 50 episodes: -25438.11\n",
      "    Min Reward over last 50 episodes: -25825.57\n",
      "    Max Reward over last 50 episodes: -25271.92\n",
      "    Evaluation Average Reward: -25320.42\n",
      "\n",
      "Running combination 299/9555 with parameters: {'epsilon': 0.2, 'epsilon_decay': 0.999, 'alpha': 0.2, 'gamma': 0.6, 'no_change_after_lap': 140}\n",
      "    Training Episode 0/5\n"
     ]
    },
    {
     "name": "stderr",
     "output_type": "stream",
     "text": [
      "299it [10:05:03, 119.71s/it]"
     ]
    },
    {
     "name": "stdout",
     "output_type": "stream",
     "text": [
      "    Evaluation Episode 0/1\n",
      "    Average Reward over last 50 episodes: -19527.66\n",
      "    Min Reward over last 50 episodes: -19662.67\n",
      "    Max Reward over last 50 episodes: -19392.34\n",
      "    Evaluation Average Reward: -19006.34\n",
      "\n",
      "Running combination 300/9555 with parameters: {'epsilon': 0.0, 'epsilon_decay': 0.995, 'alpha': 0.6, 'gamma': 1.0, 'no_change_after_lap': 155}\n",
      "    Training Episode 0/5\n"
     ]
    },
    {
     "name": "stderr",
     "output_type": "stream",
     "text": [
      "300it [10:07:04, 119.84s/it]"
     ]
    },
    {
     "name": "stdout",
     "output_type": "stream",
     "text": [
      "    Evaluation Episode 0/1\n",
      "    Average Reward over last 50 episodes: -16345.37\n",
      "    Min Reward over last 50 episodes: -16440.09\n",
      "    Max Reward over last 50 episodes: -16211.20\n",
      "    Evaluation Average Reward: -16308.64\n",
      "\n",
      "Running combination 301/9555 with parameters: {'epsilon': 0.05, 'epsilon_decay': 0.999, 'alpha': 0.2, 'gamma': 0.6, 'no_change_after_lap': 135}\n",
      "    Training Episode 0/5\n"
     ]
    },
    {
     "name": "stderr",
     "output_type": "stream",
     "text": [
      "301it [10:09:04, 120.00s/it]"
     ]
    },
    {
     "name": "stdout",
     "output_type": "stream",
     "text": [
      "    Evaluation Episode 0/1\n",
      "    Average Reward over last 50 episodes: -20620.81\n",
      "    Min Reward over last 50 episodes: -20863.73\n",
      "    Max Reward over last 50 episodes: -20287.13\n",
      "    Evaluation Average Reward: -20616.87\n",
      "\n",
      "Running combination 302/9555 with parameters: {'epsilon': 0.025, 'epsilon_decay': 0.99, 'alpha': 0.8, 'gamma': 1.0, 'no_change_after_lap': 145}\n",
      "    Training Episode 0/5\n"
     ]
    },
    {
     "name": "stderr",
     "output_type": "stream",
     "text": [
      "302it [10:11:04, 119.86s/it]"
     ]
    },
    {
     "name": "stdout",
     "output_type": "stream",
     "text": [
      "    Evaluation Episode 0/1\n",
      "    Average Reward over last 50 episodes: -18130.53\n",
      "    Min Reward over last 50 episodes: -18297.51\n",
      "    Max Reward over last 50 episodes: -17911.60\n",
      "    Evaluation Average Reward: -18421.90\n",
      "\n",
      "Running combination 303/9555 with parameters: {'epsilon': 0.05, 'epsilon_decay': 0.999, 'alpha': 1.0, 'gamma': 0.4, 'no_change_after_lap': 100}\n",
      "    Training Episode 0/5\n"
     ]
    },
    {
     "name": "stderr",
     "output_type": "stream",
     "text": [
      "303it [10:13:06, 120.68s/it]"
     ]
    },
    {
     "name": "stdout",
     "output_type": "stream",
     "text": [
      "    Evaluation Episode 0/1\n",
      "    Average Reward over last 50 episodes: -29394.68\n",
      "    Min Reward over last 50 episodes: -29588.26\n",
      "    Max Reward over last 50 episodes: -29102.61\n",
      "    Evaluation Average Reward: -29231.71\n",
      "\n",
      "Running combination 304/9555 with parameters: {'epsilon': 0.025, 'epsilon_decay': 0.999, 'alpha': 0.6, 'gamma': 0.8, 'no_change_after_lap': 160}\n",
      "    Training Episode 0/5\n"
     ]
    },
    {
     "name": "stderr",
     "output_type": "stream",
     "text": [
      "304it [10:15:06, 120.29s/it]"
     ]
    },
    {
     "name": "stdout",
     "output_type": "stream",
     "text": [
      "    Evaluation Episode 0/1\n",
      "    Average Reward over last 50 episodes: -16132.14\n",
      "    Min Reward over last 50 episodes: -16178.85\n",
      "    Max Reward over last 50 episodes: -16011.28\n",
      "    Evaluation Average Reward: -16021.15\n",
      "\n",
      "Running combination 305/9555 with parameters: {'epsilon': 0.025, 'epsilon_decay': 0.99, 'alpha': 1.0, 'gamma': 0.2, 'no_change_after_lap': 125}\n",
      "    Training Episode 0/5\n"
     ]
    },
    {
     "name": "stderr",
     "output_type": "stream",
     "text": [
      "305it [10:17:05, 120.13s/it]"
     ]
    },
    {
     "name": "stdout",
     "output_type": "stream",
     "text": [
      "    Evaluation Episode 0/1\n",
      "    Average Reward over last 50 episodes: -23108.19\n",
      "    Min Reward over last 50 episodes: -23358.92\n",
      "    Max Reward over last 50 episodes: -22887.09\n",
      "    Evaluation Average Reward: -23125.94\n",
      "\n",
      "Running combination 306/9555 with parameters: {'epsilon': 0.0, 'epsilon_decay': 0.99, 'alpha': 0.0, 'gamma': 0.0, 'no_change_after_lap': 130}\n",
      "    Training Episode 0/5\n"
     ]
    },
    {
     "name": "stderr",
     "output_type": "stream",
     "text": [
      "306it [10:18:53, 116.39s/it]"
     ]
    },
    {
     "name": "stdout",
     "output_type": "stream",
     "text": [
      "    Evaluation Episode 0/1\n",
      "    Average Reward over last 50 episodes: -21772.10\n",
      "    Min Reward over last 50 episodes: -21936.31\n",
      "    Max Reward over last 50 episodes: -21580.31\n",
      "    Evaluation Average Reward: -21926.47\n",
      "\n",
      "Running combination 307/9555 with parameters: {'epsilon': 0.1, 'epsilon_decay': 0.999, 'alpha': 0.8, 'gamma': 1.0, 'no_change_after_lap': 130}\n",
      "    Training Episode 0/5\n"
     ]
    },
    {
     "name": "stderr",
     "output_type": "stream",
     "text": [
      "307it [10:20:55, 117.99s/it]"
     ]
    },
    {
     "name": "stdout",
     "output_type": "stream",
     "text": [
      "    Evaluation Episode 0/1\n",
      "    Average Reward over last 50 episodes: -21945.34\n",
      "    Min Reward over last 50 episodes: -22130.04\n",
      "    Max Reward over last 50 episodes: -21660.93\n",
      "    Evaluation Average Reward: -22095.28\n",
      "\n",
      "Running combination 308/9555 with parameters: {'epsilon': 0.025, 'epsilon_decay': 0.99, 'alpha': 0.4, 'gamma': 1.0, 'no_change_after_lap': 135}\n",
      "    Training Episode 0/5\n"
     ]
    },
    {
     "name": "stderr",
     "output_type": "stream",
     "text": [
      "308it [10:22:52, 117.82s/it]"
     ]
    },
    {
     "name": "stdout",
     "output_type": "stream",
     "text": [
      "    Evaluation Episode 0/1\n",
      "    Average Reward over last 50 episodes: -20564.24\n",
      "    Min Reward over last 50 episodes: -20855.66\n",
      "    Max Reward over last 50 episodes: -20296.50\n",
      "    Evaluation Average Reward: -20308.40\n",
      "\n",
      "Running combination 309/9555 with parameters: {'epsilon': 0.05, 'epsilon_decay': 0.999, 'alpha': 0.4, 'gamma': 1.0, 'no_change_after_lap': 120}\n",
      "    Training Episode 0/5\n"
     ]
    },
    {
     "name": "stderr",
     "output_type": "stream",
     "text": [
      "309it [10:24:54, 119.19s/it]"
     ]
    },
    {
     "name": "stdout",
     "output_type": "stream",
     "text": [
      "    Evaluation Episode 0/1\n",
      "    Average Reward over last 50 episodes: -24365.52\n",
      "    Min Reward over last 50 episodes: -24542.25\n",
      "    Max Reward over last 50 episodes: -24090.91\n",
      "    Evaluation Average Reward: -24526.48\n",
      "\n",
      "Running combination 310/9555 with parameters: {'epsilon': 0.2, 'epsilon_decay': 0.99, 'alpha': 0.9, 'gamma': 0.0, 'no_change_after_lap': 145}\n",
      "    Training Episode 0/5\n"
     ]
    },
    {
     "name": "stderr",
     "output_type": "stream",
     "text": [
      "310it [10:26:55, 119.54s/it]"
     ]
    },
    {
     "name": "stdout",
     "output_type": "stream",
     "text": [
      "    Evaluation Episode 0/1\n",
      "    Average Reward over last 50 episodes: -18199.45\n",
      "    Min Reward over last 50 episodes: -18275.91\n",
      "    Max Reward over last 50 episodes: -18105.24\n",
      "    Evaluation Average Reward: -18174.65\n",
      "\n",
      "Running combination 311/9555 with parameters: {'epsilon': 0.0, 'epsilon_decay': 0.99, 'alpha': 0.6, 'gamma': 0.4, 'no_change_after_lap': 135}\n",
      "    Training Episode 0/5\n"
     ]
    },
    {
     "name": "stderr",
     "output_type": "stream",
     "text": [
      "311it [10:28:51, 118.56s/it]"
     ]
    },
    {
     "name": "stdout",
     "output_type": "stream",
     "text": [
      "    Evaluation Episode 0/1\n",
      "    Average Reward over last 50 episodes: -20589.13\n",
      "    Min Reward over last 50 episodes: -20821.64\n",
      "    Max Reward over last 50 episodes: -20299.70\n",
      "    Evaluation Average Reward: -20606.21\n",
      "\n",
      "Running combination 312/9555 with parameters: {'epsilon': 0.05, 'epsilon_decay': 0.995, 'alpha': 0.9, 'gamma': 1.0, 'no_change_after_lap': 145}\n",
      "    Training Episode 0/5\n"
     ]
    },
    {
     "name": "stderr",
     "output_type": "stream",
     "text": [
      "312it [10:30:50, 118.61s/it]"
     ]
    },
    {
     "name": "stdout",
     "output_type": "stream",
     "text": [
      "    Evaluation Episode 0/1\n",
      "    Average Reward over last 50 episodes: -18108.68\n",
      "    Min Reward over last 50 episodes: -18311.12\n",
      "    Max Reward over last 50 episodes: -17870.12\n",
      "    Evaluation Average Reward: -18007.01\n",
      "\n",
      "Running combination 313/9555 with parameters: {'epsilon': 0.05, 'epsilon_decay': 0.999, 'alpha': 0.9, 'gamma': 0.6, 'no_change_after_lap': 105}\n",
      "    Training Episode 0/5\n"
     ]
    },
    {
     "name": "stderr",
     "output_type": "stream",
     "text": [
      "313it [10:32:48, 118.44s/it]"
     ]
    },
    {
     "name": "stdout",
     "output_type": "stream",
     "text": [
      "    Evaluation Episode 0/1\n",
      "    Average Reward over last 50 episodes: -28130.72\n",
      "    Min Reward over last 50 episodes: -28365.89\n",
      "    Max Reward over last 50 episodes: -27749.64\n",
      "    Evaluation Average Reward: -28107.68\n",
      "\n",
      "Running combination 314/9555 with parameters: {'epsilon': 0.2, 'epsilon_decay': 0.999, 'alpha': 0.6, 'gamma': 0.2, 'no_change_after_lap': 130}\n",
      "    Training Episode 0/5\n"
     ]
    },
    {
     "name": "stderr",
     "output_type": "stream",
     "text": [
      "314it [10:34:48, 119.05s/it]"
     ]
    },
    {
     "name": "stdout",
     "output_type": "stream",
     "text": [
      "    Evaluation Episode 0/1\n",
      "    Average Reward over last 50 episodes: -21816.57\n",
      "    Min Reward over last 50 episodes: -21972.90\n",
      "    Max Reward over last 50 episodes: -21646.48\n",
      "    Evaluation Average Reward: -21772.51\n",
      "\n",
      "Running combination 315/9555 with parameters: {'epsilon': 0.0, 'epsilon_decay': 0.99, 'alpha': 0.9, 'gamma': 0.9, 'no_change_after_lap': 125}\n",
      "    Training Episode 0/5\n"
     ]
    },
    {
     "name": "stderr",
     "output_type": "stream",
     "text": [
      "315it [10:36:50, 119.73s/it]"
     ]
    },
    {
     "name": "stdout",
     "output_type": "stream",
     "text": [
      "    Evaluation Episode 0/1\n",
      "    Average Reward over last 50 episodes: -23200.40\n",
      "    Min Reward over last 50 episodes: -23317.47\n",
      "    Max Reward over last 50 episodes: -23002.15\n",
      "    Evaluation Average Reward: -22835.98\n",
      "\n",
      "Running combination 316/9555 with parameters: {'epsilon': 0.025, 'epsilon_decay': 0.99, 'alpha': 0.6, 'gamma': 0.0, 'no_change_after_lap': 110}\n",
      "    Training Episode 0/5\n"
     ]
    },
    {
     "name": "stderr",
     "output_type": "stream",
     "text": [
      "316it [10:39:04, 124.08s/it]"
     ]
    },
    {
     "name": "stdout",
     "output_type": "stream",
     "text": [
      "    Evaluation Episode 0/1\n",
      "    Average Reward over last 50 episodes: -26884.62\n",
      "    Min Reward over last 50 episodes: -27140.11\n",
      "    Max Reward over last 50 episodes: -26656.64\n",
      "    Evaluation Average Reward: -27030.74\n",
      "\n",
      "Running combination 317/9555 with parameters: {'epsilon': 0.1, 'epsilon_decay': 0.995, 'alpha': 0.4, 'gamma': 1.0, 'no_change_after_lap': 145}\n",
      "    Training Episode 0/5\n"
     ]
    },
    {
     "name": "stderr",
     "output_type": "stream",
     "text": [
      "317it [10:41:11, 124.98s/it]"
     ]
    },
    {
     "name": "stdout",
     "output_type": "stream",
     "text": [
      "    Evaluation Episode 0/1\n",
      "    Average Reward over last 50 episodes: -18112.38\n",
      "    Min Reward over last 50 episodes: -18339.06\n",
      "    Max Reward over last 50 episodes: -17936.36\n",
      "    Evaluation Average Reward: -18237.63\n",
      "\n",
      "Running combination 318/9555 with parameters: {'epsilon': 0.0, 'epsilon_decay': 0.995, 'alpha': 0.0, 'gamma': 0.4, 'no_change_after_lap': 160}\n",
      "    Training Episode 0/5\n"
     ]
    }
   ],
   "source": [
    "# if not os.path.exists(directory):\n",
    "#     os.makedirs(directory)\n",
    "\n",
    "def parameter_combinations(param_grid):\n",
    "    \"\"\"\n",
    "    Generate random combinations of parameters from the given parameter grid.\n",
    "    \n",
    "    Args:\n",
    "    - param_grid (dict): Dictionary containing hyperparameters and their possible values.\n",
    "\n",
    "    Yields:\n",
    "    - dict: Random combination of hyperparameters.\n",
    "    \"\"\"\n",
    "    # Connect to the SQLite database and fetch existing combinations\n",
    "    conn = sqlite3.connect(gs_db_name)\n",
    "    c = conn.cursor()\n",
    "\n",
    "    # Check if the table exists. If not, create an empty DataFrame.\n",
    "    c.execute(f\"SELECT name FROM sqlite_master WHERE type='table' AND name='{table_name}';\")\n",
    "    if c.fetchone():\n",
    "        existing_combinations_df = pd.read_sql_query(f\"SELECT epsilon, epsilon_decay, alpha, gamma, no_change_after_lap FROM {table_name}\", conn)\n",
    "    else:\n",
    "        existing_combinations_df = pd.DataFrame()\n",
    "\n",
    "    conn.close()\n",
    "\n",
    "    # Generate and check combinations\n",
    "    keys, values = zip(*param_grid.items())\n",
    "    print(len(keys))\n",
    "    all_combinations = list(itertools.product(*values))\n",
    "    random.shuffle(all_combinations)\n",
    "\n",
    "    for combination in all_combinations:\n",
    "        param_dict = dict(zip(keys, combination))\n",
    "\n",
    "        # Check if this combination is already in the database\n",
    "        conditions = np.logical_and.reduce([existing_combinations_df[k] == v for k, v in param_dict.items()])\n",
    "        if not existing_combinations_df[conditions].empty:\n",
    "            print('SKIPPING')\n",
    "            continue  # Skip this combination if it's already in the database\n",
    "\n",
    "        yield param_dict\n",
    "\n",
    "# 1. Plot Episode Rewards\n",
    "def plot_rewards(rewards):\n",
    "    plt.plot(rewards)\n",
    "    plt.title('Episode Rewards Over Time')\n",
    "    plt.xlabel('Episode')\n",
    "    plt.ylabel('Total Reward')\n",
    "    plt.show()\n",
    "\n",
    "# 2. Plot Average Episode Rewards\n",
    "def plot_avg_rewards(rewards, window=5):\n",
    "    averages = [np.mean(rewards[max(0, i-window+1):i+1]) for i in range(len(rewards))]\n",
    "    plt.plot(averages)\n",
    "    plt.title(f'Average Episode Rewards Over Last {window} Episodes')\n",
    "    plt.xlabel('Episode')\n",
    "    plt.ylabel('Average Reward')\n",
    "    plt.show()\n",
    "\n",
    "# 3. Implement Grid Search\n",
    "def grid_search(param_grid, num_episodes, eval_episodes):\n",
    "    conn = sqlite3.connect(gs_db_name)\n",
    "    c = conn.cursor()\n",
    "\n",
    "    total_combinations = np.prod([len(v) for v in param_grid.values()])\n",
    "    print(f\"Total combinations: {total_combinations}\")\n",
    "    count = 0\n",
    "\n",
    "    for params in tqdm(parameter_combinations(param_grid)):\n",
    "        count += 1\n",
    "        print(f\"\\nRunning combination {count}/{total_combinations} with parameters: {params}\")\n",
    "\n",
    "        agent = TDLambdaAgent(epsilon=params['epsilon'], epsilon_decay=params['epsilon_decay'], alpha=params['alpha'], gamma=params['gamma'], no_change_after_lap=params['no_change_after_lap'])\n",
    "        \n",
    "        # Training phase\n",
    "        training_rewards = []  # List to store rewards from each episode\n",
    "        for episode in range(num_episodes):\n",
    "            if episode % 100 == 0:  # Print update every 100 episodes\n",
    "                print(f\"    Training Episode {episode}/{num_episodes}\")\n",
    "            state = env.reset()\n",
    "            done = False\n",
    "            episode_reward = 0 \n",
    "            while not done:\n",
    "                action = agent.act(state)\n",
    "                reward, next_state, done, _ = env.step(action)\n",
    "                episode_reward += reward\n",
    "                agent.update(state, action, reward, next_state)\n",
    "                # state = deepcopy(next_state)\n",
    "                state = next_state\n",
    "            training_rewards.append(episode_reward)  # Add the total reward for this episode to the list\n",
    "\n",
    "\n",
    "        # Evaluation phase\n",
    "        eval_rewards = []\n",
    "        for episode in range(eval_episodes):\n",
    "            if episode % 5 == 0:  # Print update every 100 episodes\n",
    "                print(f\"    Evaluation Episode {episode}/{eval_episodes}\")\n",
    "            state = env.reset()\n",
    "            done = False\n",
    "            episode_reward = 0\n",
    "            while not done:\n",
    "                action = agent.act(state)\n",
    "                reward, next_state, done, _ = env.step(action)\n",
    "                episode_reward += reward\n",
    "                # state = deepcopy(next_state)\n",
    "                state = next_state\n",
    "            eval_rewards.append(episode_reward)\n",
    "\n",
    "        # Compute metrics based on training rewards\n",
    "        avg_last_50 = np.mean(training_rewards[-50:])\n",
    "        min_last_50 = np.min(training_rewards[-50:])\n",
    "        max_last_50 = np.max(training_rewards[-50:])\n",
    "        eval_avg = np.mean(eval_rewards)\n",
    "        \n",
    "\n",
    "        # Print evaluation metrics\n",
    "        print(f\"    Average Reward over last 50 episodes: {avg_last_50:.2f}\")\n",
    "        print(f\"    Min Reward over last 50 episodes: {min_last_50:.2f}\")\n",
    "        print(f\"    Max Reward over last 50 episodes: {max_last_50:.2f}\")\n",
    "        print(f\"    Evaluation Average Reward: {eval_avg:.2f}\")\n",
    "\n",
    "        # Save metrics to database\n",
    "        c.execute(f\"\"\"INSERT INTO {table_name} (epsilon, epsilon_decay, alpha, gamma, no_change_after_lap, \n",
    "                                               avg_last_50, min_last_50, max_last_50, \n",
    "                                               eval_avg, overall_avg) \n",
    "                    VALUES (?, ?, ?, ?, ?, ?, ?, ?, ?, ?)\"\"\", \n",
    "                  (params['epsilon'], params['epsilon_decay'], params['alpha'], params['gamma'], \n",
    "                   params['no_change_after_lap'], avg_last_50, min_last_50, max_last_50, \n",
    "                   eval_avg, np.mean(training_rewards)))\n",
    "\n",
    "        conn.commit()\n",
    "        \n",
    "    conn.close()\n",
    "\n",
    "grid_search(param_grid, num_episodes, eval_episodes)"
   ]
  },
  {
   "cell_type": "code",
   "execution_count": null,
   "id": "6be65329",
   "metadata": {},
   "outputs": [],
   "source": [
    "conn = sqlite3.connect(gs_db_name)\n",
    "df = pd.read_sql_query(f\"SELECT COUNT(*) from {table_name}\", conn)\n",
    "print(df.shape)\n",
    "print(df)\n",
    "conn.close()"
   ]
  },
  {
   "cell_type": "code",
   "execution_count": null,
   "id": "eb325730",
   "metadata": {},
   "outputs": [],
   "source": [
    "# !pip install nbformat --upgrade"
   ]
  },
  {
   "cell_type": "code",
   "execution_count": null,
   "id": "95dea73e",
   "metadata": {},
   "outputs": [],
   "source": [
    "def radar_plot_top_combinations(db_name=gs_db_name, top_n=5):\n",
    "    # Connect to the database and fetch data\n",
    "    conn = sqlite3.connect(db_name)\n",
    "    df = pd.read_sql_query(f\"SELECT * from {table_name}\", conn)\n",
    "    conn.close()\n",
    "    \n",
    "    print(df.columns)\n",
    "    # Columns you want to include in the radar plot (i.e., your hyperparameters)\n",
    "    hyperparameter_columns = ['epsilon', 'epsilon_decay', 'alpha', 'gamma', 'no_change_after_lap', 'eval_avg']\n",
    "\n",
    "    # Normalize the hyperparameters based on all rows\n",
    "    normalized_df = (df[hyperparameter_columns] - df[hyperparameter_columns].min()) / (df[hyperparameter_columns].max() - df[hyperparameter_columns].min())\n",
    "    \n",
    "    # Sort by eval_reward (if it exists) and take top N\n",
    "    sort_column = 'eval_avg' if 'eval_avg' in df.columns else hyperparameter_columns[0]\n",
    "    top_rows_df = df.nlargest(top_n, sort_column)\n",
    "    top_normalized_df = normalized_df.loc[top_rows_df.index]\n",
    "\n",
    "\n",
    "    # Radar plot\n",
    "    from math import pi\n",
    "    labels = hyperparameter_columns\n",
    "    num_vars = len(labels)\n",
    "\n",
    "    angles = [n / float(num_vars) * 2 * pi for n in range(num_vars)]\n",
    "    angles += angles[:1]  # Adding the first angle at the end to close the circle\n",
    "\n",
    "    plt.figure(figsize=(10, 10), dpi=80)\n",
    "    ax = plt.subplot(111, polar=True)\n",
    "    ax.set_theta_offset(pi / 2)\n",
    "    ax.set_theta_direction(-1)\n",
    "    ax.set_rlabel_position(0)\n",
    "    ax.set_xticks(angles[:-1])  # Removing the last angle for the labels\n",
    "    ax.set_xticklabels(labels, fontsize=12)\n",
    "    ax.set_yticklabels([])\n",
    "\n",
    "    for i in range(top_n):\n",
    "        norm_values = top_normalized_df.iloc[i].values.flatten().tolist()\n",
    "        norm_values += norm_values[:1]  # Add the first value to the end to close the circle\n",
    "\n",
    "        true_values_list = top_rows_df.iloc[i][hyperparameter_columns].values.flatten().tolist()\n",
    "\n",
    "        param_string = ', '.join([f\"{col}={val:.2f}\" for col, val in zip(labels, true_values_list)])\n",
    "        line = ax.plot(angles, norm_values, linewidth=2, linestyle='solid', label=param_string)\n",
    "        ax.fill(angles, norm_values, alpha=0.1)\n",
    "\n",
    "        # Annotate with the true values\n",
    "        for angle, value, true_value in zip(angles, norm_values, true_values_list):\n",
    "            ax.annotate(f\"{true_value:.2f}\", \n",
    "                        xy=(angle, value), \n",
    "                        color=line[0].get_color(),\n",
    "                        ha='center', va='bottom')\n",
    "\n",
    "    plt.title(f'Top {top_n} Parameter Combinations', size=20, color='blue', y=1.1)\n",
    "    plt.legend(loc='upper right', bbox_to_anchor=(1.3, 1.1))\n",
    "    plt.show()\n",
    "\n",
    "    print(top_rows_df)\n",
    "\n",
    "radar_plot_top_combinations(top_n=5)\n"
   ]
  },
  {
   "cell_type": "code",
   "execution_count": null,
   "id": "55eb6419",
   "metadata": {},
   "outputs": [],
   "source": []
  }
 ],
 "metadata": {
  "kernelspec": {
   "display_name": "Python 3 (ipykernel)",
   "language": "python",
   "name": "python3"
  },
  "language_info": {
   "codemirror_mode": {
    "name": "ipython",
    "version": 3
   },
   "file_extension": ".py",
   "mimetype": "text/x-python",
   "name": "python",
   "nbconvert_exporter": "python",
   "pygments_lexer": "ipython3",
   "version": "3.8.18"
  }
 },
 "nbformat": 4,
 "nbformat_minor": 5
}
